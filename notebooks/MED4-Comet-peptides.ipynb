{
 "cells": [
  {
   "cell_type": "markdown",
   "metadata": {},
   "source": [
    "### Manipulation of Trans Proteomic Pipeline (TPP) Comet database search results of *Prochlorococus MED4* LC-MS/MS data using python.\n",
    "\n",
    "Starting with: \n",
    "\n",
    "- Comet output (.xlxs and .csv) of PTM-optimized database searches\n",
    "\n",
    "Goal:\n",
    "\n",
    "- Files with unique, stripped (no PTMs or tryptic ends) peptide lists\n",
    "- Files with all PTMs "
   ]
  },
  {
   "cell_type": "markdown",
   "metadata": {},
   "source": [
    "For technical duplicates, I exported Comet search results as both Excel files and as CSVs into my ETNP 2017 git repo:"
   ]
  },
  {
   "cell_type": "code",
   "execution_count": 5,
   "metadata": {},
   "outputs": [
    {
     "name": "stdout",
     "output_type": "stream",
     "text": [
      "/home/millieginty/Documents/git-repos/2017-etnp/data/pro2020/RAL4_95_MED2_trypsin/TPP\n"
     ]
    }
   ],
   "source": [
    "cd /home/millieginty/Documents/git-repos/2017-etnp/data/pro2020/RAL4_95_MED2_trypsin/TPP/"
   ]
  },
  {
   "cell_type": "code",
   "execution_count": 6,
   "metadata": {},
   "outputs": [
    {
     "name": "stdout",
     "output_type": "stream",
     "text": [
      "RAL4_MED2_trypsin_1_PTMopt_Comet.csv\r\n",
      "RAL4_MED2_trypsin_1_PTMopt_Comet.xlsx\r\n",
      "RAL4_MED2_trypsin_1_PTMopt_PepProp90.csv\r\n",
      "RAL4_MED2_trypsin_1_PTMopt_PepProp90.xlsx\r\n",
      "RAL4_MED2_trypsin_2_PTMopt_Comet.csv\r\n",
      "RAL4_MED2_trypsin_2_PTMopt_Comet.xlsx\r\n",
      "RAL4_MED2_trypsin_2_PTMopt_PepProp90.csv\r\n",
      "RAL4_MED2_trypsin_2_PTMopt_PepProp90.xlsx\r\n"
     ]
    }
   ],
   "source": [
    "ls"
   ]
  },
  {
   "cell_type": "code",
   "execution_count": 9,
   "metadata": {},
   "outputs": [
    {
     "data": {
      "text/plain": [
       "'1.0.5'"
      ]
     },
     "execution_count": 9,
     "metadata": {},
     "output_type": "execute_result"
    }
   ],
   "source": [
    "#import pandas library for working with tabular data\n",
    "import os\n",
    "os.getcwd()\n",
    "import pandas as pd\n",
    "#check pandas version\n",
    "pd.__version__"
   ]
  },
  {
   "cell_type": "code",
   "execution_count": 11,
   "metadata": {},
   "outputs": [
    {
     "data": {
      "text/html": [
       "<div>\n",
       "<style scoped>\n",
       "    .dataframe tbody tr th:only-of-type {\n",
       "        vertical-align: middle;\n",
       "    }\n",
       "\n",
       "    .dataframe tbody tr th {\n",
       "        vertical-align: top;\n",
       "    }\n",
       "\n",
       "    .dataframe thead th {\n",
       "        text-align: right;\n",
       "    }\n",
       "</style>\n",
       "<table border=\"1\" class=\"dataframe\">\n",
       "  <thead>\n",
       "    <tr style=\"text-align: right;\">\n",
       "      <th></th>\n",
       "      <th>spectrum</th>\n",
       "      <th>xcorr</th>\n",
       "      <th>deltacn</th>\n",
       "      <th>expect</th>\n",
       "      <th>ions</th>\n",
       "      <th>peptide</th>\n",
       "      <th>protein</th>\n",
       "      <th>calc_neutral_pep_mass</th>\n",
       "    </tr>\n",
       "  </thead>\n",
       "  <tbody>\n",
       "    <tr>\n",
       "      <th>0</th>\n",
       "      <td>022016_RAL4_95_MED2_trypsin_1.41211.41211.4</td>\n",
       "      <td>8.768</td>\n",
       "      <td>1</td>\n",
       "      <td>1.42E-09</td>\n",
       "      <td>22/156</td>\n",
       "      <td>K.LFADENHLSPAVTAIQIEDIDAEQFRK.N</td>\n",
       "      <td>PMM0035</td>\n",
       "      <td>3069.5407</td>\n",
       "    </tr>\n",
       "    <tr>\n",
       "      <th>1</th>\n",
       "      <td>022016_RAL4_95_MED2_trypsin_1.32793.32793.4</td>\n",
       "      <td>8.578</td>\n",
       "      <td>1</td>\n",
       "      <td>9.31E-10</td>\n",
       "      <td>18/204</td>\n",
       "      <td>K.LAIDDSSIN[115.03]LDQVDYIN[115.03]AHGTSTTANDK...</td>\n",
       "      <td>PMM1609</td>\n",
       "      <td>3735.7599</td>\n",
       "    </tr>\n",
       "    <tr>\n",
       "      <th>2</th>\n",
       "      <td>022016_RAL4_95_MED2_trypsin_1.50751.50751.4</td>\n",
       "      <td>8.469</td>\n",
       "      <td>0.646</td>\n",
       "      <td>3.43E-14</td>\n",
       "      <td>24/156</td>\n",
       "      <td>R.SGLQNAASIAGM[147.04]VLTTEC[160.03]IVADLPEKK.D</td>\n",
       "      <td>PMM1436</td>\n",
       "      <td>2831.4409</td>\n",
       "    </tr>\n",
       "    <tr>\n",
       "      <th>3</th>\n",
       "      <td>022016_RAL4_95_MED2_trypsin_1.31065.31065.3</td>\n",
       "      <td>8.061</td>\n",
       "      <td>0.561</td>\n",
       "      <td>2.18E-11</td>\n",
       "      <td>17/92</td>\n",
       "      <td>K.IDIEDGGIVTIASHDGAAAEEAQK.I</td>\n",
       "      <td>PMM1191</td>\n",
       "      <td>2409.166</td>\n",
       "    </tr>\n",
       "    <tr>\n",
       "      <th>4</th>\n",
       "      <td>022016_RAL4_95_MED2_trypsin_1.50278.50278.4</td>\n",
       "      <td>7.949</td>\n",
       "      <td>0.584</td>\n",
       "      <td>3.02E-09</td>\n",
       "      <td>23/156</td>\n",
       "      <td>R.SGLQNAASIAGM[147.04]VLTTEC[160.03]IVADLPEKK.D</td>\n",
       "      <td>PMM1436</td>\n",
       "      <td>2831.4409</td>\n",
       "    </tr>\n",
       "  </tbody>\n",
       "</table>\n",
       "</div>"
      ],
      "text/plain": [
       "                                      spectrum  xcorr deltacn    expect  \\\n",
       "0  022016_RAL4_95_MED2_trypsin_1.41211.41211.4  8.768       1  1.42E-09   \n",
       "1  022016_RAL4_95_MED2_trypsin_1.32793.32793.4  8.578       1  9.31E-10   \n",
       "2  022016_RAL4_95_MED2_trypsin_1.50751.50751.4  8.469   0.646  3.43E-14   \n",
       "3  022016_RAL4_95_MED2_trypsin_1.31065.31065.3  8.061   0.561  2.18E-11   \n",
       "4  022016_RAL4_95_MED2_trypsin_1.50278.50278.4  7.949   0.584  3.02E-09   \n",
       "\n",
       "     ions                                            peptide  protein  \\\n",
       "0  22/156                    K.LFADENHLSPAVTAIQIEDIDAEQFRK.N  PMM0035   \n",
       "1  18/204  K.LAIDDSSIN[115.03]LDQVDYIN[115.03]AHGTSTTANDK...  PMM1609   \n",
       "2  24/156    R.SGLQNAASIAGM[147.04]VLTTEC[160.03]IVADLPEKK.D  PMM1436   \n",
       "3   17/92                       K.IDIEDGGIVTIASHDGAAAEEAQK.I  PMM1191   \n",
       "4  23/156    R.SGLQNAASIAGM[147.04]VLTTEC[160.03]IVADLPEKK.D  PMM1436   \n",
       "\n",
       "  calc_neutral_pep_mass  \n",
       "0             3069.5407  \n",
       "1             3735.7599  \n",
       "2             2831.4409  \n",
       "3              2409.166  \n",
       "4             2831.4409  "
      ]
     },
     "execution_count": 11,
     "metadata": {},
     "output_type": "execute_result"
    }
   ],
   "source": [
    "#read the CSV into a datadrame we name 'comet' using the pandas read_csv function\n",
    "comet = pd.read_csv(\"/home/millieginty/Documents/git-repos/2017-etnp/data/pro2020/RAL4_95_MED2_trypsin/TPP/RAL4_MED2_trypsin_1_PTMopt_Comet.csv\")\n",
    "\n",
    "\n",
    "#look at the dataframe\n",
    "comet.head()"
   ]
  },
  {
   "cell_type": "markdown",
   "metadata": {},
   "source": [
    "The peptide column has the residues before and after the tryptic terminii as well as masses of modified residues (e.g., 160.03 Da for carbamidomethylated cysteine). We want to make new columns with all that information and make a column with only the 'stripped' peptide sequence that's just amino acids - this we can then align against other sequences, for example. \n",
    "\n",
    "We'll then write this manipulated dataframe to a new file."
   ]
  },
  {
   "cell_type": "code",
   "execution_count": null,
   "metadata": {},
   "outputs": [],
   "source": []
  }
 ],
 "metadata": {
  "kernelspec": {
   "display_name": "Python 3",
   "language": "python",
   "name": "python3"
  },
  "language_info": {
   "codemirror_mode": {
    "name": "ipython",
    "version": 3
   },
   "file_extension": ".py",
   "mimetype": "text/x-python",
   "name": "python",
   "nbconvert_exporter": "python",
   "pygments_lexer": "ipython3",
   "version": "3.8.3"
  }
 },
 "nbformat": 4,
 "nbformat_minor": 4
}
