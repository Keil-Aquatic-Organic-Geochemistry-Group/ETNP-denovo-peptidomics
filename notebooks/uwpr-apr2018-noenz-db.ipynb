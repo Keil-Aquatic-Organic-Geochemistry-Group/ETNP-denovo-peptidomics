{
 "cells": [
  {
   "cell_type": "code",
   "execution_count": 1,
   "metadata": {
    "collapsed": false
   },
   "outputs": [
    {
     "name": "stdout",
     "output_type": "stream",
     "text": [
      "Thu Dec 19 11:46:43 PST 2019\r\n"
     ]
    }
   ],
   "source": [
    "!date"
   ]
  },
  {
   "cell_type": "code",
   "execution_count": 2,
   "metadata": {
    "collapsed": false
   },
   "outputs": [
    {
     "name": "stdout",
     "output_type": "stream",
     "text": [
      "Software:\r\n",
      "\r\n",
      "    System Software Overview:\r\n",
      "\r\n",
      "      System Version: macOS 10.14.6 (18G1012)\r\n",
      "      Kernel Version: Darwin 18.7.0\r\n",
      "      Boot Volume: Macintosh HD\r\n",
      "      Boot Mode: Normal\r\n",
      "      Computer Name: Megan’s MacBook Pro (2)\r\n",
      "      User Name: Megan Duffy (meganduffy)\r\n",
      "      Secure Virtual Memory: Enabled\r\n",
      "      System Integrity Protection: Enabled\r\n",
      "      Time since boot: 3 days 37 minutes\r\n",
      "\r\n"
     ]
    }
   ],
   "source": [
    "!system_profiler SPSoftwareDataType"
   ]
  },
  {
   "cell_type": "markdown",
   "metadata": {},
   "source": [
    "### Notebook to document text extraction and editing of UWPR April 2017 ETNP 2017 P2 McLane sample profile no enzyme searched database-ID'd peptides\n",
    "### Exported the results of PEAKS 8.5 searches into Git ETNP 2017 data directory\n",
    "### DB peptides are in running#-peaks#-noenz-peptide.csv files"
   ]
  },
  {
   "cell_type": "code",
   "execution_count": 6,
   "metadata": {
    "collapsed": false
   },
   "outputs": [
    {
     "name": "stdout",
     "output_type": "stream",
     "text": [
      "231-peaks69-noenz-dno-mods.txt   231-peaks69-noenz-dnopeps.txt\r\n",
      "231-peaks69-noenz-dno-nomods.txt 231-peaks69-noenz-peptide.csv\r\n"
     ]
    }
   ],
   "source": [
    "!ls /Users/meganduffy/Documents/git-repos/2017-etnp/data/uwpr-apr2017/UWPR-Apr2017-noenz/etnp-ja02-231-20170410-NOENZ-PEAKS69/"
   ]
  },
  {
   "cell_type": "markdown",
   "metadata": {},
   "source": [
    "### First doing the two samples in this batch relevent to the Pro novo paper, 231 and 233 (P2 2017 100 m and 265 m gf75 McLane):\n",
    "### Sample 231: ETNP 2017 McLane (GF-75) 100m P2 (JA2 - UWPR April 2017, PEAKS 69)"
   ]
  },
  {
   "cell_type": "code",
   "execution_count": 7,
   "metadata": {
    "collapsed": true
   },
   "outputs": [],
   "source": [
    "import os"
   ]
  },
  {
   "cell_type": "code",
   "execution_count": 8,
   "metadata": {
    "collapsed": false
   },
   "outputs": [
    {
     "data": {
      "text/plain": [
       "'/Users/meganduffy/Documents/git-repos/2017-etnp/notebooks'"
      ]
     },
     "execution_count": 8,
     "metadata": {},
     "output_type": "execute_result"
    }
   ],
   "source": [
    "os.getcwd()"
   ]
  },
  {
   "cell_type": "code",
   "execution_count": 9,
   "metadata": {
    "collapsed": true
   },
   "outputs": [],
   "source": [
    "import pandas as pd"
   ]
  },
  {
   "cell_type": "code",
   "execution_count": 10,
   "metadata": {
    "collapsed": false
   },
   "outputs": [
    {
     "data": {
      "text/plain": [
       "'0.18.1'"
      ]
     },
     "execution_count": 10,
     "metadata": {},
     "output_type": "execute_result"
    }
   ],
   "source": [
    "pd.__version__"
   ]
  },
  {
   "cell_type": "code",
   "execution_count": 11,
   "metadata": {
    "collapsed": true
   },
   "outputs": [],
   "source": [
    "data = pd.read_csv(\"/Users/meganduffy/Documents/git-repos/2017-etnp/data/uwpr-apr2017/UWPR-Apr2017-noenz/etnp-ja02-231-20170410-NOENZ-PEAKS69/231-peaks69-noenz-peptide.csv\")"
   ]
  },
  {
   "cell_type": "code",
   "execution_count": 12,
   "metadata": {
    "collapsed": false
   },
   "outputs": [
    {
     "data": {
      "text/html": [
       "<div>\n",
       "<table border=\"1\" class=\"dataframe\">\n",
       "  <thead>\n",
       "    <tr style=\"text-align: right;\">\n",
       "      <th></th>\n",
       "      <th>Peptide</th>\n",
       "      <th>-10lgP</th>\n",
       "      <th>Mass</th>\n",
       "      <th>Length</th>\n",
       "      <th>ppm</th>\n",
       "      <th>m/z</th>\n",
       "      <th>RT</th>\n",
       "      <th>Area etnp-ja02-20170410</th>\n",
       "      <th>Fraction</th>\n",
       "      <th>Scan</th>\n",
       "      <th>Source File</th>\n",
       "      <th>#Spec</th>\n",
       "      <th>#Spec etnp-ja02-20170410</th>\n",
       "      <th>Accession</th>\n",
       "      <th>PTM</th>\n",
       "      <th>AScore</th>\n",
       "    </tr>\n",
       "  </thead>\n",
       "  <tbody>\n",
       "    <tr>\n",
       "      <th>0</th>\n",
       "      <td>AIQQQIENPLAQQILSGELVPGK</td>\n",
       "      <td>103.12</td>\n",
       "      <td>2473.3540</td>\n",
       "      <td>23</td>\n",
       "      <td>3.6</td>\n",
       "      <td>1237.6887</td>\n",
       "      <td>98.28</td>\n",
       "      <td>25900000.0</td>\n",
       "      <td>2</td>\n",
       "      <td>34897</td>\n",
       "      <td>20170410_JA2_01.raw</td>\n",
       "      <td>6</td>\n",
       "      <td>6</td>\n",
       "      <td>54036848</td>\n",
       "      <td>NaN</td>\n",
       "      <td>NaN</td>\n",
       "    </tr>\n",
       "    <tr>\n",
       "      <th>1</th>\n",
       "      <td>IVVGGPYSSVSDAASSLDSSQK</td>\n",
       "      <td>102.95</td>\n",
       "      <td>2153.0488</td>\n",
       "      <td>22</td>\n",
       "      <td>2.7</td>\n",
       "      <td>1077.5345</td>\n",
       "      <td>71.78</td>\n",
       "      <td>25300000.0</td>\n",
       "      <td>2</td>\n",
       "      <td>23179</td>\n",
       "      <td>20170410_JA2_01.raw</td>\n",
       "      <td>5</td>\n",
       "      <td>5</td>\n",
       "      <td>ETNP_90:ETNP_100:ETNP_120:ETNP_140:ETNP_160:ET...</td>\n",
       "      <td>NaN</td>\n",
       "      <td>NaN</td>\n",
       "    </tr>\n",
       "    <tr>\n",
       "      <th>2</th>\n",
       "      <td>IVVGGPYSSVSDAASVLDGSQK</td>\n",
       "      <td>102.67</td>\n",
       "      <td>2135.0745</td>\n",
       "      <td>22</td>\n",
       "      <td>1.6</td>\n",
       "      <td>1068.5463</td>\n",
       "      <td>82.14</td>\n",
       "      <td>20600000.0</td>\n",
       "      <td>2</td>\n",
       "      <td>28172</td>\n",
       "      <td>20170410_JA2_01.raw</td>\n",
       "      <td>7</td>\n",
       "      <td>7</td>\n",
       "      <td>ETNP_120:ETNP_90:ETNP_100:ETNP_100</td>\n",
       "      <td>NaN</td>\n",
       "      <td>NaN</td>\n",
       "    </tr>\n",
       "    <tr>\n",
       "      <th>3</th>\n",
       "      <td>LPQVEGTGGDVQPSQDLVR</td>\n",
       "      <td>102.32</td>\n",
       "      <td>1994.0068</td>\n",
       "      <td>19</td>\n",
       "      <td>0.0</td>\n",
       "      <td>998.0107</td>\n",
       "      <td>61.72</td>\n",
       "      <td>237000000.0</td>\n",
       "      <td>2</td>\n",
       "      <td>18917</td>\n",
       "      <td>20170410_JA2_01.raw</td>\n",
       "      <td>13</td>\n",
       "      <td>13</td>\n",
       "      <td>54036848</td>\n",
       "      <td>NaN</td>\n",
       "      <td>NaN</td>\n",
       "    </tr>\n",
       "    <tr>\n",
       "      <th>4</th>\n",
       "      <td>QAVSADSSGSFIGGAELASLK</td>\n",
       "      <td>99.99</td>\n",
       "      <td>1993.9956</td>\n",
       "      <td>21</td>\n",
       "      <td>1.0</td>\n",
       "      <td>998.0060</td>\n",
       "      <td>81.22</td>\n",
       "      <td>6280000.0</td>\n",
       "      <td>2</td>\n",
       "      <td>27723</td>\n",
       "      <td>20170410_JA2_01.raw</td>\n",
       "      <td>7</td>\n",
       "      <td>7</td>\n",
       "      <td>ETNP_120:ETNP_120:ETNP_90</td>\n",
       "      <td>NaN</td>\n",
       "      <td>NaN</td>\n",
       "    </tr>\n",
       "  </tbody>\n",
       "</table>\n",
       "</div>"
      ],
      "text/plain": [
       "                   Peptide  -10lgP       Mass  Length  ppm        m/z     RT  \\\n",
       "0  AIQQQIENPLAQQILSGELVPGK  103.12  2473.3540      23  3.6  1237.6887  98.28   \n",
       "1   IVVGGPYSSVSDAASSLDSSQK  102.95  2153.0488      22  2.7  1077.5345  71.78   \n",
       "2   IVVGGPYSSVSDAASVLDGSQK  102.67  2135.0745      22  1.6  1068.5463  82.14   \n",
       "3      LPQVEGTGGDVQPSQDLVR  102.32  1994.0068      19  0.0   998.0107  61.72   \n",
       "4    QAVSADSSGSFIGGAELASLK   99.99  1993.9956      21  1.0   998.0060  81.22   \n",
       "\n",
       "   Area etnp-ja02-20170410  Fraction   Scan          Source File  #Spec  \\\n",
       "0               25900000.0         2  34897  20170410_JA2_01.raw      6   \n",
       "1               25300000.0         2  23179  20170410_JA2_01.raw      5   \n",
       "2               20600000.0         2  28172  20170410_JA2_01.raw      7   \n",
       "3              237000000.0         2  18917  20170410_JA2_01.raw     13   \n",
       "4                6280000.0         2  27723  20170410_JA2_01.raw      7   \n",
       "\n",
       "   #Spec etnp-ja02-20170410  \\\n",
       "0                         6   \n",
       "1                         5   \n",
       "2                         7   \n",
       "3                        13   \n",
       "4                         7   \n",
       "\n",
       "                                           Accession  PTM AScore  \n",
       "0                                           54036848  NaN    NaN  \n",
       "1  ETNP_90:ETNP_100:ETNP_120:ETNP_140:ETNP_160:ET...  NaN    NaN  \n",
       "2                 ETNP_120:ETNP_90:ETNP_100:ETNP_100  NaN    NaN  \n",
       "3                                           54036848  NaN    NaN  \n",
       "4                          ETNP_120:ETNP_120:ETNP_90  NaN    NaN  "
      ]
     },
     "execution_count": 12,
     "metadata": {},
     "output_type": "execute_result"
    }
   ],
   "source": [
    "data.head()"
   ]
  },
  {
   "cell_type": "code",
   "execution_count": 13,
   "metadata": {
    "collapsed": true
   },
   "outputs": [],
   "source": [
    "# Keep only peptide column\n",
    "pep = data[[\"Peptide\"]]"
   ]
  },
  {
   "cell_type": "code",
   "execution_count": 14,
   "metadata": {
    "collapsed": false
   },
   "outputs": [
    {
     "data": {
      "text/html": [
       "<div>\n",
       "<table border=\"1\" class=\"dataframe\">\n",
       "  <thead>\n",
       "    <tr style=\"text-align: right;\">\n",
       "      <th></th>\n",
       "      <th>Peptide</th>\n",
       "    </tr>\n",
       "  </thead>\n",
       "  <tbody>\n",
       "    <tr>\n",
       "      <th>0</th>\n",
       "      <td>AIQQQIENPLAQQILSGELVPGK</td>\n",
       "    </tr>\n",
       "    <tr>\n",
       "      <th>1</th>\n",
       "      <td>IVVGGPYSSVSDAASSLDSSQK</td>\n",
       "    </tr>\n",
       "    <tr>\n",
       "      <th>2</th>\n",
       "      <td>IVVGGPYSSVSDAASVLDGSQK</td>\n",
       "    </tr>\n",
       "    <tr>\n",
       "      <th>3</th>\n",
       "      <td>LPQVEGTGGDVQPSQDLVR</td>\n",
       "    </tr>\n",
       "    <tr>\n",
       "      <th>4</th>\n",
       "      <td>QAVSADSSGSFIGGAELASLK</td>\n",
       "    </tr>\n",
       "  </tbody>\n",
       "</table>\n",
       "</div>"
      ],
      "text/plain": [
       "                   Peptide\n",
       "0  AIQQQIENPLAQQILSGELVPGK\n",
       "1   IVVGGPYSSVSDAASSLDSSQK\n",
       "2   IVVGGPYSSVSDAASVLDGSQK\n",
       "3      LPQVEGTGGDVQPSQDLVR\n",
       "4    QAVSADSSGSFIGGAELASLK"
      ]
     },
     "execution_count": 14,
     "metadata": {},
     "output_type": "execute_result"
    }
   ],
   "source": [
    "pep.head()"
   ]
  },
  {
   "cell_type": "code",
   "execution_count": 15,
   "metadata": {
    "collapsed": true
   },
   "outputs": [],
   "source": [
    "# Write altered dataframe to new txt file\n",
    "# Used header and index parameters to get rid of 'Peptide' header and the indexing\n",
    "\n",
    "pep.to_csv(\"/Users/meganduffy/Documents/git-repos/2017-etnp/data/uwpr-apr2017/UWPR-Apr2017-noenz/etnp-ja02-231-20170410-NOENZ-PEAKS69/231-peaks69-noenz-dbpeps.txt\", header=False, index=False)"
   ]
  },
  {
   "cell_type": "code",
   "execution_count": 16,
   "metadata": {
    "collapsed": false
   },
   "outputs": [
    {
     "name": "stdout",
     "output_type": "stream",
     "text": [
      "AIQQQIENPLAQQILSGELVPGK\r\n",
      "IVVGGPYSSVSDAASSLDSSQK\r\n",
      "IVVGGPYSSVSDAASVLDGSQK\r\n",
      "LPQVEGTGGDVQPSQDLVR\r\n",
      "QAVSADSSGSFIGGAELASLK\r\n",
      "LGEHNIDVLEGNEQFINAAK\r\n",
      "YLGSTGGLLNSAETEEK\r\n",
      "YIGSTGGLLNSAETEEK\r\n",
      "AISSGAGNSDFVVGPER\r\n",
      "AGAGDDEVNAGSGDDIVR\r\n"
     ]
    }
   ],
   "source": [
    "!head /Users/meganduffy/Documents/git-repos/2017-etnp/data/uwpr-apr2017/UWPR-Apr2017-noenz/etnp-ja02-231-20170410-NOENZ-PEAKS69/231-peaks69-noenz-dbpeps.txt"
   ]
  },
  {
   "cell_type": "code",
   "execution_count": 17,
   "metadata": {
    "collapsed": true
   },
   "outputs": [],
   "source": [
    "# Removes all characters in parentheses and saves as new file\n",
    "\n",
    "!awk -F \"[()]\" '{ for (i=2; i<NF; i+=2) print $i }' /Users/meganduffy/Documents/git-repos/2017-etnp/data/uwpr-apr2017/UWPR-Apr2017-noenz/etnp-ja02-231-20170410-NOENZ-PEAKS69/231-peaks69-noenz-dbpeps.txt > /Users/meganduffy/Documents/git-repos/2017-etnp/data/uwpr-apr2017/UWPR-Apr2017-noenz/etnp-ja02-231-20170410-NOENZ-PEAKS69/231-peaks69-noenz-db-mods.txt"
   ]
  },
  {
   "cell_type": "code",
   "execution_count": 18,
   "metadata": {
    "collapsed": false
   },
   "outputs": [
    {
     "name": "stdout",
     "output_type": "stream",
     "text": [
      "+57.02\r\n",
      "+15.99\r\n",
      "+57.02\r\n",
      "+15.99\r\n",
      "+57.02\r\n",
      "+15.99\r\n",
      "+57.02\r\n",
      "+15.99\r\n",
      "+15.99\r\n",
      "+57.02\r\n"
     ]
    }
   ],
   "source": [
    "# How does the modifications text file look?\n",
    "\n",
    "!head /Users/meganduffy/Documents/git-repos/2017-etnp/data/uwpr-apr2017/UWPR-Apr2017-noenz/etnp-ja02-231-20170410-NOENZ-PEAKS69/231-peaks69-noenz-db-mods.txt"
   ]
  },
  {
   "cell_type": "code",
   "execution_count": 19,
   "metadata": {
    "collapsed": false
   },
   "outputs": [
    {
     "name": "stdout",
     "output_type": "stream",
     "text": [
      "     167 /Users/meganduffy/Documents/git-repos/2017-etnp/data/uwpr-apr2017/UWPR-Apr2017-noenz/etnp-ja02-231-20170410-NOENZ-PEAKS69/231-peaks69-noenz-db-mods.txt\r\n"
     ]
    }
   ],
   "source": [
    "# How many modifications for this sample?\n",
    "\n",
    "!wc -l /Users/meganduffy/Documents/git-repos/2017-etnp/data/uwpr-apr2017/UWPR-Apr2017-noenz/etnp-ja02-231-20170410-NOENZ-PEAKS69/231-peaks69-noenz-db-mods.txt"
   ]
  },
  {
   "cell_type": "code",
   "execution_count": 20,
   "metadata": {
    "collapsed": false
   },
   "outputs": [
    {
     "name": "stdout",
     "output_type": "stream",
     "text": [
      "    1585 /Users/meganduffy/Documents/git-repos/2017-etnp/data/uwpr-apr2017/UWPR-Apr2017-noenz/etnp-ja02-231-20170410-NOENZ-PEAKS69/231-peaks69-noenz-dbpeps.txt\r\n"
     ]
    }
   ],
   "source": [
    "# Compared with how many total peptides?\n",
    "\n",
    "!wc -l /Users/meganduffy/Documents/git-repos/2017-etnp/data/uwpr-apr2017/UWPR-Apr2017-noenz/etnp-ja02-231-20170410-NOENZ-PEAKS69/231-peaks69-noenz-dbpeps.txt"
   ]
  },
  {
   "cell_type": "code",
   "execution_count": 21,
   "metadata": {
    "collapsed": false
   },
   "outputs": [
    {
     "data": {
      "text/plain": [
       "0.1053627760252366"
      ]
     },
     "execution_count": 21,
     "metadata": {},
     "output_type": "execute_result"
    }
   ],
   "source": [
    "# What's the percentage of modified peptides for this sample?\n",
    "\n",
    "167/1585"
   ]
  },
  {
   "cell_type": "code",
   "execution_count": 22,
   "metadata": {
    "collapsed": true
   },
   "outputs": [],
   "source": [
    "# Get rid of modifications from all peptides and save as a new file\n",
    "# Remove '(+15.99)' and '(+57.02)', (+.98) from sequences\n",
    "\n",
    "!sed 's/(+15.99)//g' /Users/meganduffy/Documents/git-repos/2017-etnp/data/uwpr-apr2017/UWPR-Apr2017-noenz/etnp-ja02-231-20170410-NOENZ-PEAKS69/231-peaks69-noenz-dbpeps.txt \\\n",
    "| sed 's/(+57.02)//g'\\\n",
    "| sed 's/(+.98)//g'\\\n",
    "> /Users/meganduffy/Documents/git-repos/2017-etnp/data/uwpr-apr2017/UWPR-Apr2017-noenz/etnp-ja02-231-20170410-NOENZ-PEAKS69/231-peaks69-noenz-db-nomods.txt"
   ]
  },
  {
   "cell_type": "code",
   "execution_count": 23,
   "metadata": {
    "collapsed": false
   },
   "outputs": [
    {
     "name": "stdout",
     "output_type": "stream",
     "text": [
      "AIQQQIENPLAQQILSGELVPGK\r\n",
      "IVVGGPYSSVSDAASSLDSSQK\r\n",
      "IVVGGPYSSVSDAASVLDGSQK\r\n",
      "LPQVEGTGGDVQPSQDLVR\r\n",
      "QAVSADSSGSFIGGAELASLK\r\n",
      "LGEHNIDVLEGNEQFINAAK\r\n",
      "YLGSTGGLLNSAETEEK\r\n",
      "YIGSTGGLLNSAETEEK\r\n",
      "AISSGAGNSDFVVGPER\r\n",
      "AGAGDDEVNAGSGDDIVR\r\n"
     ]
    }
   ],
   "source": [
    "!head /Users/meganduffy/Documents/git-repos/2017-etnp/data/uwpr-apr2017/UWPR-Apr2017-noenz/etnp-ja02-231-20170410-NOENZ-PEAKS69/231-peaks69-noenz-db-nomods.txt"
   ]
  },
  {
   "cell_type": "code",
   "execution_count": 24,
   "metadata": {
    "collapsed": false
   },
   "outputs": [
    {
     "name": "stdout",
     "output_type": "stream",
     "text": [
      "231-peaks69-noenz-db-mods.txt    231-peaks69-noenz-dno-nomods.txt\r\n",
      "231-peaks69-noenz-db-nomods.txt  231-peaks69-noenz-dnopeps.txt\r\n",
      "231-peaks69-noenz-dbpeps.txt     231-peaks69-noenz-peptide.csv\r\n",
      "231-peaks69-noenz-dno-mods.txt\r\n"
     ]
    }
   ],
   "source": [
    "!ls /Users/meganduffy/Documents/git-repos/2017-etnp/data/uwpr-apr2017/UWPR-Apr2017-noenz/etnp-ja02-231-20170410-NOENZ-PEAKS69/"
   ]
  },
  {
   "cell_type": "markdown",
   "metadata": {},
   "source": [
    "### Sample 233: ETNP 2017 McLane (GF-75) 265m P2 (JA2 - UWPR April 2017, PEAKS 77)"
   ]
  },
  {
   "cell_type": "code",
   "execution_count": 26,
   "metadata": {
    "collapsed": false
   },
   "outputs": [
    {
     "name": "stdout",
     "output_type": "stream",
     "text": [
      "233-peaks77-noenz-dno-mods.txt   233-peaks77-noenz-dnopeps.txt\r\n",
      "233-peaks77-noenz-dno-nomods.txt 233-peaks77-noenz-peptide.csv\r\n"
     ]
    }
   ],
   "source": [
    "!ls /Users/meganduffy/Documents/git-repos/2017-etnp/data/uwpr-apr2017/UWPR-Apr2017-noenz/etnp-ja04-233-20170410-NOENZ-PEAKS77/"
   ]
  },
  {
   "cell_type": "code",
   "execution_count": 27,
   "metadata": {
    "collapsed": true
   },
   "outputs": [],
   "source": [
    "data = pd.read_csv(\"/Users/meganduffy/Documents/git-repos/2017-etnp/data/uwpr-apr2017/UWPR-Apr2017-noenz/etnp-ja04-233-20170410-NOENZ-PEAKS77/233-peaks77-noenz-peptide.csv\")"
   ]
  },
  {
   "cell_type": "code",
   "execution_count": 28,
   "metadata": {
    "collapsed": false
   },
   "outputs": [
    {
     "data": {
      "text/html": [
       "<div>\n",
       "<table border=\"1\" class=\"dataframe\">\n",
       "  <thead>\n",
       "    <tr style=\"text-align: right;\">\n",
       "      <th></th>\n",
       "      <th>Peptide</th>\n",
       "      <th>-10lgP</th>\n",
       "      <th>Mass</th>\n",
       "      <th>Length</th>\n",
       "      <th>ppm</th>\n",
       "      <th>m/z</th>\n",
       "      <th>RT</th>\n",
       "      <th>Area etnp-ja04-20170410</th>\n",
       "      <th>Fraction</th>\n",
       "      <th>Scan</th>\n",
       "      <th>Source File</th>\n",
       "      <th>#Spec</th>\n",
       "      <th>#Spec etnp-ja04-20170410</th>\n",
       "      <th>Accession</th>\n",
       "      <th>PTM</th>\n",
       "      <th>AScore</th>\n",
       "    </tr>\n",
       "  </thead>\n",
       "  <tbody>\n",
       "    <tr>\n",
       "      <th>0</th>\n",
       "      <td>AIQQQIENPLAQQILSGELVPGK</td>\n",
       "      <td>113.32</td>\n",
       "      <td>2473.3540</td>\n",
       "      <td>23</td>\n",
       "      <td>1.6</td>\n",
       "      <td>1237.6863</td>\n",
       "      <td>97.92</td>\n",
       "      <td>46400000.0</td>\n",
       "      <td>4</td>\n",
       "      <td>33121</td>\n",
       "      <td>20170410_JA4_01.raw</td>\n",
       "      <td>7</td>\n",
       "      <td>7</td>\n",
       "      <td>54036848</td>\n",
       "      <td>NaN</td>\n",
       "      <td>NaN</td>\n",
       "    </tr>\n",
       "    <tr>\n",
       "      <th>1</th>\n",
       "      <td>AYGDTFTGGKATFVNYNGGLGEVR</td>\n",
       "      <td>110.71</td>\n",
       "      <td>2493.1924</td>\n",
       "      <td>24</td>\n",
       "      <td>2.0</td>\n",
       "      <td>832.0731</td>\n",
       "      <td>74.12</td>\n",
       "      <td>4500000.0</td>\n",
       "      <td>4</td>\n",
       "      <td>23249</td>\n",
       "      <td>20170410_JA4_01.raw</td>\n",
       "      <td>3</td>\n",
       "      <td>3</td>\n",
       "      <td>NP_300:ETNP_120:ETNP_120:ETNP_140</td>\n",
       "      <td>NaN</td>\n",
       "      <td>NaN</td>\n",
       "    </tr>\n",
       "    <tr>\n",
       "      <th>2</th>\n",
       "      <td>LPQVEGTGGDVQPSQDLVR</td>\n",
       "      <td>105.31</td>\n",
       "      <td>1994.0068</td>\n",
       "      <td>19</td>\n",
       "      <td>0.4</td>\n",
       "      <td>998.0110</td>\n",
       "      <td>61.30</td>\n",
       "      <td>216000000.0</td>\n",
       "      <td>4</td>\n",
       "      <td>18185</td>\n",
       "      <td>20170410_JA4_01.raw</td>\n",
       "      <td>6</td>\n",
       "      <td>6</td>\n",
       "      <td>54036848</td>\n",
       "      <td>NaN</td>\n",
       "      <td>NaN</td>\n",
       "    </tr>\n",
       "    <tr>\n",
       "      <th>3</th>\n",
       "      <td>TQVESGNVQWDIVDVLPHEAR</td>\n",
       "      <td>99.07</td>\n",
       "      <td>2391.1819</td>\n",
       "      <td>21</td>\n",
       "      <td>1.9</td>\n",
       "      <td>798.0695</td>\n",
       "      <td>90.75</td>\n",
       "      <td>7800000.0</td>\n",
       "      <td>4</td>\n",
       "      <td>30594</td>\n",
       "      <td>20170410_JA4_01.raw</td>\n",
       "      <td>5</td>\n",
       "      <td>5</td>\n",
       "      <td>NP_300:ETNP_120:ETNP_120:ETNP_140</td>\n",
       "      <td>NaN</td>\n",
       "      <td>NaN</td>\n",
       "    </tr>\n",
       "    <tr>\n",
       "      <th>4</th>\n",
       "      <td>LGEHNIDVLEGNEQFINAAK</td>\n",
       "      <td>96.31</td>\n",
       "      <td>2210.0967</td>\n",
       "      <td>20</td>\n",
       "      <td>2.8</td>\n",
       "      <td>1106.0587</td>\n",
       "      <td>75.12</td>\n",
       "      <td>39700000.0</td>\n",
       "      <td>4</td>\n",
       "      <td>23691</td>\n",
       "      <td>20170410_JA4_01.raw</td>\n",
       "      <td>5</td>\n",
       "      <td>5</td>\n",
       "      <td>|#CONTAM#TRYP_PIG|</td>\n",
       "      <td>NaN</td>\n",
       "      <td>NaN</td>\n",
       "    </tr>\n",
       "  </tbody>\n",
       "</table>\n",
       "</div>"
      ],
      "text/plain": [
       "                    Peptide  -10lgP       Mass  Length  ppm        m/z     RT  \\\n",
       "0   AIQQQIENPLAQQILSGELVPGK  113.32  2473.3540      23  1.6  1237.6863  97.92   \n",
       "1  AYGDTFTGGKATFVNYNGGLGEVR  110.71  2493.1924      24  2.0   832.0731  74.12   \n",
       "2       LPQVEGTGGDVQPSQDLVR  105.31  1994.0068      19  0.4   998.0110  61.30   \n",
       "3     TQVESGNVQWDIVDVLPHEAR   99.07  2391.1819      21  1.9   798.0695  90.75   \n",
       "4      LGEHNIDVLEGNEQFINAAK   96.31  2210.0967      20  2.8  1106.0587  75.12   \n",
       "\n",
       "   Area etnp-ja04-20170410  Fraction   Scan          Source File  #Spec  \\\n",
       "0               46400000.0         4  33121  20170410_JA4_01.raw      7   \n",
       "1                4500000.0         4  23249  20170410_JA4_01.raw      3   \n",
       "2              216000000.0         4  18185  20170410_JA4_01.raw      6   \n",
       "3                7800000.0         4  30594  20170410_JA4_01.raw      5   \n",
       "4               39700000.0         4  23691  20170410_JA4_01.raw      5   \n",
       "\n",
       "   #Spec etnp-ja04-20170410                          Accession  PTM AScore  \n",
       "0                         7                           54036848  NaN    NaN  \n",
       "1                         3  NP_300:ETNP_120:ETNP_120:ETNP_140  NaN    NaN  \n",
       "2                         6                           54036848  NaN    NaN  \n",
       "3                         5  NP_300:ETNP_120:ETNP_120:ETNP_140  NaN    NaN  \n",
       "4                         5                 |#CONTAM#TRYP_PIG|  NaN    NaN  "
      ]
     },
     "execution_count": 28,
     "metadata": {},
     "output_type": "execute_result"
    }
   ],
   "source": [
    "data.head()"
   ]
  },
  {
   "cell_type": "code",
   "execution_count": 29,
   "metadata": {
    "collapsed": true
   },
   "outputs": [],
   "source": [
    "# Keep only peptide column\n",
    "pep = data[[\"Peptide\"]]"
   ]
  },
  {
   "cell_type": "code",
   "execution_count": 30,
   "metadata": {
    "collapsed": false
   },
   "outputs": [
    {
     "data": {
      "text/html": [
       "<div>\n",
       "<table border=\"1\" class=\"dataframe\">\n",
       "  <thead>\n",
       "    <tr style=\"text-align: right;\">\n",
       "      <th></th>\n",
       "      <th>Peptide</th>\n",
       "    </tr>\n",
       "  </thead>\n",
       "  <tbody>\n",
       "    <tr>\n",
       "      <th>0</th>\n",
       "      <td>AIQQQIENPLAQQILSGELVPGK</td>\n",
       "    </tr>\n",
       "    <tr>\n",
       "      <th>1</th>\n",
       "      <td>AYGDTFTGGKATFVNYNGGLGEVR</td>\n",
       "    </tr>\n",
       "    <tr>\n",
       "      <th>2</th>\n",
       "      <td>LPQVEGTGGDVQPSQDLVR</td>\n",
       "    </tr>\n",
       "    <tr>\n",
       "      <th>3</th>\n",
       "      <td>TQVESGNVQWDIVDVLPHEAR</td>\n",
       "    </tr>\n",
       "    <tr>\n",
       "      <th>4</th>\n",
       "      <td>LGEHNIDVLEGNEQFINAAK</td>\n",
       "    </tr>\n",
       "  </tbody>\n",
       "</table>\n",
       "</div>"
      ],
      "text/plain": [
       "                    Peptide\n",
       "0   AIQQQIENPLAQQILSGELVPGK\n",
       "1  AYGDTFTGGKATFVNYNGGLGEVR\n",
       "2       LPQVEGTGGDVQPSQDLVR\n",
       "3     TQVESGNVQWDIVDVLPHEAR\n",
       "4      LGEHNIDVLEGNEQFINAAK"
      ]
     },
     "execution_count": 30,
     "metadata": {},
     "output_type": "execute_result"
    }
   ],
   "source": [
    "pep.head()"
   ]
  },
  {
   "cell_type": "code",
   "execution_count": 31,
   "metadata": {
    "collapsed": true
   },
   "outputs": [],
   "source": [
    "# Write altered dataframe to new txt file\n",
    "# Used header and index parameters to get rid of 'Peptide' header and the indexing\n",
    "\n",
    "pep.to_csv(\"/Users/meganduffy/Documents/git-repos/2017-etnp/data/uwpr-apr2017/UWPR-Apr2017-noenz/etnp-ja04-233-20170410-NOENZ-PEAKS77/233-peaks77-noenz-dbpeps.txt\", header=False, index=False)"
   ]
  },
  {
   "cell_type": "code",
   "execution_count": 32,
   "metadata": {
    "collapsed": false
   },
   "outputs": [
    {
     "name": "stdout",
     "output_type": "stream",
     "text": [
      "AIQQQIENPLAQQILSGELVPGK\r\n",
      "AYGDTFTGGKATFVNYNGGLGEVR\r\n",
      "LPQVEGTGGDVQPSQDLVR\r\n",
      "TQVESGNVQWDIVDVLPHEAR\r\n",
      "LGEHNIDVLEGNEQFINAAK\r\n",
      "TQVESGNVTWDIVDVLPHEAR\r\n",
      "SAVTALWGKVNVDEVGGEALGR\r\n",
      "TQFYNDEPEAIEYGENFIVHR\r\n",
      "LGVATSQLPGGEIVPALQK\r\n",
      "LGVSTSQLPGGEIVPALQK\r\n"
     ]
    }
   ],
   "source": [
    "!head /Users/meganduffy/Documents/git-repos/2017-etnp/data/uwpr-apr2017/UWPR-Apr2017-noenz/etnp-ja04-233-20170410-NOENZ-PEAKS77/233-peaks77-noenz-dbpeps.txt"
   ]
  },
  {
   "cell_type": "code",
   "execution_count": 33,
   "metadata": {
    "collapsed": true
   },
   "outputs": [],
   "source": [
    "# Removes all characters in parentheses and saves as new file\n",
    "\n",
    "!awk -F \"[()]\" '{ for (i=2; i<NF; i+=2) print $i }' /Users/meganduffy/Documents/git-repos/2017-etnp/data/uwpr-apr2017/UWPR-Apr2017-noenz/etnp-ja04-233-20170410-NOENZ-PEAKS77/233-peaks77-noenz-dbpeps.txt > /Users/meganduffy/Documents/git-repos/2017-etnp/data/uwpr-apr2017/UWPR-Apr2017-noenz/etnp-ja04-233-20170410-NOENZ-PEAKS77/233-peaks77-noenz-db-mods.txt"
   ]
  },
  {
   "cell_type": "code",
   "execution_count": 34,
   "metadata": {
    "collapsed": false
   },
   "outputs": [
    {
     "name": "stdout",
     "output_type": "stream",
     "text": [
      "+57.02\r\n",
      "+15.99\r\n",
      "+57.02\r\n",
      "+57.02\r\n",
      "+57.02\r\n",
      "+15.99\r\n",
      "+57.02\r\n",
      "+57.02\r\n",
      "+57.02\r\n",
      "+57.02\r\n"
     ]
    }
   ],
   "source": [
    "# How does the modifications text file look?\n",
    "\n",
    "!head /Users/meganduffy/Documents/git-repos/2017-etnp/data/uwpr-apr2017/UWPR-Apr2017-noenz/etnp-ja04-233-20170410-NOENZ-PEAKS77/233-peaks77-noenz-db-mods.txt"
   ]
  },
  {
   "cell_type": "code",
   "execution_count": 35,
   "metadata": {
    "collapsed": false
   },
   "outputs": [
    {
     "name": "stdout",
     "output_type": "stream",
     "text": [
      "     103 /Users/meganduffy/Documents/git-repos/2017-etnp/data/uwpr-apr2017/UWPR-Apr2017-noenz/etnp-ja04-233-20170410-NOENZ-PEAKS77/233-peaks77-noenz-db-mods.txt\r\n"
     ]
    }
   ],
   "source": [
    "# How many modifications for this sample?\n",
    "\n",
    "!wc -l /Users/meganduffy/Documents/git-repos/2017-etnp/data/uwpr-apr2017/UWPR-Apr2017-noenz/etnp-ja04-233-20170410-NOENZ-PEAKS77/233-peaks77-noenz-db-mods.txt"
   ]
  },
  {
   "cell_type": "code",
   "execution_count": 36,
   "metadata": {
    "collapsed": false,
    "scrolled": true
   },
   "outputs": [
    {
     "name": "stdout",
     "output_type": "stream",
     "text": [
      "    1260 /Users/meganduffy/Documents/git-repos/2017-etnp/data/uwpr-apr2017/UWPR-Apr2017-noenz/etnp-ja04-233-20170410-NOENZ-PEAKS77/233-peaks77-noenz-dbpeps.txt\r\n"
     ]
    }
   ],
   "source": [
    "# Compared with how many total peptides?\n",
    "\n",
    "!wc -l /Users/meganduffy/Documents/git-repos/2017-etnp/data/uwpr-apr2017/UWPR-Apr2017-noenz/etnp-ja04-233-20170410-NOENZ-PEAKS77/233-peaks77-noenz-dbpeps.txt"
   ]
  },
  {
   "cell_type": "code",
   "execution_count": 37,
   "metadata": {
    "collapsed": false
   },
   "outputs": [
    {
     "data": {
      "text/plain": [
       "0.08174603174603175"
      ]
     },
     "execution_count": 37,
     "metadata": {},
     "output_type": "execute_result"
    }
   ],
   "source": [
    "# What's the percentage of modified peptides for this sample?\n",
    "\n",
    "103/1260"
   ]
  },
  {
   "cell_type": "code",
   "execution_count": 38,
   "metadata": {
    "collapsed": true
   },
   "outputs": [],
   "source": [
    "# Get rid of modifications from all peptides and save as a new file\n",
    "# Remove '(+15.99)' and '(+57.02)', (+.98) from sequences\n",
    "\n",
    "!sed 's/(+15.99)//g' /Users/meganduffy/Documents/git-repos/2017-etnp/data/uwpr-apr2017/UWPR-Apr2017-noenz/etnp-ja04-233-20170410-NOENZ-PEAKS77/233-peaks77-noenz-dbpeps.txt \\\n",
    "| sed 's/(+57.02)//g'\\\n",
    "| sed 's/(+.98)//g'\\\n",
    "> /Users/meganduffy/Documents/git-repos/2017-etnp/data/uwpr-apr2017/UWPR-Apr2017-noenz/etnp-ja04-233-20170410-NOENZ-PEAKS77/233-peaks77-noenz-db-nomods.txt"
   ]
  },
  {
   "cell_type": "code",
   "execution_count": 39,
   "metadata": {
    "collapsed": false
   },
   "outputs": [
    {
     "name": "stdout",
     "output_type": "stream",
     "text": [
      "AIQQQIENPLAQQILSGELVPGK\r\n",
      "AYGDTFTGGKATFVNYNGGLGEVR\r\n",
      "LPQVEGTGGDVQPSQDLVR\r\n",
      "TQVESGNVQWDIVDVLPHEAR\r\n",
      "LGEHNIDVLEGNEQFINAAK\r\n",
      "TQVESGNVTWDIVDVLPHEAR\r\n",
      "SAVTALWGKVNVDEVGGEALGR\r\n",
      "TQFYNDEPEAIEYGENFIVHR\r\n",
      "LGVATSQLPGGEIVPALQK\r\n",
      "LGVSTSQLPGGEIVPALQK\r\n"
     ]
    }
   ],
   "source": [
    "!head /Users/meganduffy/Documents/git-repos/2017-etnp/data/uwpr-apr2017/UWPR-Apr2017-noenz/etnp-ja04-233-20170410-NOENZ-PEAKS77/233-peaks77-noenz-db-nomods.txt"
   ]
  },
  {
   "cell_type": "code",
   "execution_count": 40,
   "metadata": {
    "collapsed": false
   },
   "outputs": [
    {
     "name": "stdout",
     "output_type": "stream",
     "text": [
      "233-peaks77-noenz-db-mods.txt    233-peaks77-noenz-dno-nomods.txt\r\n",
      "233-peaks77-noenz-db-nomods.txt  233-peaks77-noenz-dnopeps.txt\r\n",
      "233-peaks77-noenz-dbpeps.txt     233-peaks77-noenz-peptide.csv\r\n",
      "233-peaks77-noenz-dno-mods.txt\r\n"
     ]
    }
   ],
   "source": [
    "!ls /Users/meganduffy/Documents/git-repos/2017-etnp/data/uwpr-apr2017/UWPR-Apr2017-noenz/etnp-ja04-233-20170410-NOENZ-PEAKS77/"
   ]
  },
  {
   "cell_type": "markdown",
   "metadata": {},
   "source": [
    "### All done with this UWPR Apr 2017 for now! (12.19.19)"
   ]
  },
  {
   "cell_type": "code",
   "execution_count": null,
   "metadata": {
    "collapsed": true
   },
   "outputs": [],
   "source": []
  }
 ],
 "metadata": {
  "anaconda-cloud": {},
  "kernelspec": {
   "display_name": "Python [default]",
   "language": "python",
   "name": "python3"
  },
  "language_info": {
   "codemirror_mode": {
    "name": "ipython",
    "version": 3
   },
   "file_extension": ".py",
   "mimetype": "text/x-python",
   "name": "python",
   "nbconvert_exporter": "python",
   "pygments_lexer": "ipython3",
   "version": "3.5.2"
  }
 },
 "nbformat": 4,
 "nbformat_minor": 1
}
