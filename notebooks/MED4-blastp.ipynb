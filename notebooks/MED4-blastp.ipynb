{
 "cells": [
  {
   "cell_type": "code",
   "execution_count": 1,
   "metadata": {
    "collapsed": false
   },
   "outputs": [
    {
     "name": "stdout",
     "output_type": "stream",
     "text": [
      "Sun Jun  4 18:37:25 PDT 2017\r\n"
     ]
    }
   ],
   "source": [
    "!date"
   ]
  },
  {
   "cell_type": "code",
   "execution_count": 4,
   "metadata": {
    "collapsed": false
   },
   "outputs": [
    {
     "name": "stdout",
     "output_type": "stream",
     "text": [
      "Software:\r\n",
      "\r\n",
      "    System Software Overview:\r\n",
      "\r\n",
      "      System Version: macOS 10.12.5 (16F73)\r\n",
      "      Kernel Version: Darwin 16.6.0\r\n",
      "      Boot Volume: Macintosh HD\r\n",
      "      Boot Mode: Normal\r\n",
      "      Computer Name: Megan’s MacBook Pro\r\n",
      "      User Name: Megan Duffy (meganduffy)\r\n",
      "      Secure Virtual Memory: Enabled\r\n",
      "      System Integrity Protection: Enabled\r\n",
      "      Time since boot: 10 days 3:32\r\n",
      "\r\n"
     ]
    }
   ],
   "source": [
    "!system_profiler SPSoftwareDataType"
   ]
  },
  {
   "cell_type": "code",
   "execution_count": 5,
   "metadata": {
    "collapsed": true
   },
   "outputs": [],
   "source": [
    "!cd /Users/meganduffy/Documents/git-repos/2017-etnp/data/05.22.17-peaks/"
   ]
  },
  {
   "cell_type": "code",
   "execution_count": 6,
   "metadata": {
    "collapsed": false
   },
   "outputs": [
    {
     "name": "stdout",
     "output_type": "stream",
     "text": [
      "Fraction,Scan,Source File,Peptide,Tag Length,ALC (%),length,m/z,z,RT,Area,Mass,ppm,PTM,local confidence (%),tag (>=0%),mode\r",
      "\r\n",
      "6,32255,022016_RAL4_95_MED2_trypsin_1.raw,KAALEDLALLTQK,13,99,13,707.4191,2,49.01,,1412.8237,-0.1,,97 100 100 100 100 99 99 99 100 100 99 99 99,KAALEDLALLTQK,CID\r",
      "\r\n",
      "6,15768,022016_RAL4_95_MED2_trypsin_1.raw,KELDLDTDLGK,11,99,11,623.8295,2,26.80,,1245.6453,-0.6,,97 100 99 99 99 99 99 99 100 100 99,KELDLDTDLGK,CID\r",
      "\r\n",
      "6,6171,022016_RAL4_95_MED2_trypsin_1.raw,KDLESLDSTNK,11,98,11,625.3166,2,12.87,,1248.6196,-0.8,,96 99 100 100 99 99 99 97 98 99 99,KDLESLDSTNK,CID\r",
      "\r\n",
      "6,26752,022016_RAL4_95_MED2_trypsin_1.raw,KGFVSELLDK,10,98,10,568.3217,2,41.71,,1134.6284,0.3,,98 98 99 99 95 98 99 100 100 100,KGFVSELLDK,CID\r",
      "\r\n",
      "6,11523,022016_RAL4_95_MED2_trypsin_1.raw,HFELLNQK,8,98,8,514.7797,2,20.75,,1027.5450,-0.3,,98 99 100 99 99 98 97 97,HFELLNQK,CID\r",
      "\r\n",
      "6,28681,022016_RAL4_95_MED2_trypsin_1.raw,KLFTDYQELMK,11,98,11,708.3657,2,44.32,,1414.7166,0.2,,97 100 99 98 99 97 95 99 100 99 99,KLFTDYQELMK,CID\r",
      "\r\n",
      "6,26567,022016_RAL4_95_MED2_trypsin_1.raw,LKEDLEWYLPLK,12,98,12,773.9252,2,41.48,,1545.8442,-5.4,,94 97 100 99 99 99 98 99 100 99 99 98,LKEDLEWYLPLK,CID\r",
      "\r\n",
      "6,40882,022016_RAL4_95_MED2_trypsin_1.raw,TPGGLEVLMAFSAK,14,98,14,710.8768,2,60.53,,1419.7432,-2.9,,99 99 99 99 100 100 99 97 94 99 98 98 99 97,TPGGLEVLMAFSAK,CID\r",
      "\r\n",
      "6,6060,022016_RAL4_95_MED2_trypsin_1.raw,YADTHEYVK,9,98,9,563.2640,2,12.72,,1124.5139,-0.3,,92 97 99 99 99 100 99 100 99,YADTHEYVK,CID\r",
      "\r\n"
     ]
    }
   ],
   "source": [
    "# Here's what the file looks like:\n",
    "!head /Users/meganduffy/Documents/git-repos/2017-etnp/data/05.22.17-peaks/MED2_trypsin_1raw_80alc.csv"
   ]
  },
  {
   "cell_type": "code",
   "execution_count": 7,
   "metadata": {
    "collapsed": true
   },
   "outputs": [],
   "source": [
    "# extract column 4 (peptides) and trim off header (1 row)\n",
    "! cut -d , -f 4 /Users/meganduffy/Documents/git-repos/2017-etnp/data/05.22.17-peaks/MED2_trypsin_1raw_80alc.csv | sed \"1 d\" > /Users/meganduffy/Documents/git-repos/2017-etnp/data/05.22.17-peaks/MED2_trypsin_1raw_80alc.txt"
   ]
  },
  {
   "cell_type": "code",
   "execution_count": 8,
   "metadata": {
    "collapsed": false
   },
   "outputs": [
    {
     "name": "stdout",
     "output_type": "stream",
     "text": [
      "KAALEDLALLTQK\r\n",
      "KELDLDTDLGK\r\n",
      "KDLESLDSTNK\r\n",
      "KGFVSELLDK\r\n",
      "HFELLNQK\r\n",
      "KLFTDYQELMK\r\n",
      "LKEDLEWYLPLK\r\n",
      "TPGGLEVLMAFSAK\r\n",
      "YADTHEYVK\r\n",
      "HDYLNSM(+15.99)K\r\n"
     ]
    }
   ],
   "source": [
    "# how does that look?\n",
    "!head /Users/meganduffy/Documents/git-repos/2017-etnp/data/05.22.17-peaks/MED2_trypsin_1raw_80alc.txt"
   ]
  },
  {
   "cell_type": "code",
   "execution_count": 9,
   "metadata": {
    "collapsed": false
   },
   "outputs": [
    {
     "name": "stdout",
     "output_type": "stream",
     "text": [
      "    7341 /Users/meganduffy/Documents/git-repos/2017-etnp/data/05.22.17-peaks/MED2_trypsin_1raw_80alc.txt\r\n"
     ]
    }
   ],
   "source": [
    "# how many peptides (remember, this is > 80% ALC)\n",
    "!wc -l /Users/meganduffy/Documents/git-repos/2017-etnp/data/05.22.17-peaks/MED2_trypsin_1raw_80alc.txt"
   ]
  },
  {
   "cell_type": "code",
   "execution_count": 11,
   "metadata": {
    "collapsed": false
   },
   "outputs": [],
   "source": [
    "#Same for blank sample (Ambic, Hi3)\n",
    "# extract column 4 (peptides) and trim off header (1 row)\n",
    "! cut -d , -f 4 /Users/meganduffy/Documents/git-repos/2017-etnp/data/05.22.17-peaks/AMBIC2_trypsin_2mzmL_80alc.csv | sed \"1 d\" > /Users/meganduffy/Documents/git-repos/2017-etnp/data/05.22.17-peaks/AMBIC2_trypsin_2mzmL_80alc.txt"
   ]
  },
  {
   "cell_type": "code",
   "execution_count": 13,
   "metadata": {
    "collapsed": false
   },
   "outputs": [
    {
     "name": "stdout",
     "output_type": "stream",
     "text": [
      "YEELQLTAGR\r\n",
      "LSSPATLNSR\r\n",
      "LSSPATLNSR\r\n",
      "LASYLDK\r\n",
      "VLDELTLTK\r\n",
      "VATVSLPR\r\n",
      "VATVSLPR\r\n",
      "VTDAELAELVAR\r\n",
      "RATVSLPR\r\n",
      "LAWDFR\r\n"
     ]
    }
   ],
   "source": [
    "!head /Users/meganduffy/Documents/git-repos/2017-etnp/data/05.22.17-peaks/AMBIC2_trypsin_2mzmL_80alc.txt"
   ]
  },
  {
   "cell_type": "code",
   "execution_count": 14,
   "metadata": {
    "collapsed": false
   },
   "outputs": [
    {
     "name": "stdout",
     "output_type": "stream",
     "text": [
      "      40 /Users/meganduffy/Documents/git-repos/2017-etnp/data/05.22.17-peaks/AMBIC2_trypsin_2mzmL_80alc.txt\r\n"
     ]
    }
   ],
   "source": [
    "# how many peptides (remember, this is > 80% ALC)\n",
    "!wc -l /Users/meganduffy/Documents/git-repos/FISH-546/data/ETNP-peaks-exports/AMBIC2_trypsin_2mzmL_80alc.txt"
   ]
  },
  {
   "cell_type": "markdown",
   "metadata": {},
   "source": [
    "### TRIM MODIFICATIONS ###"
   ]
  },
  {
   "cell_type": "code",
   "execution_count": 17,
   "metadata": {
    "collapsed": false
   },
   "outputs": [],
   "source": [
    "! mkdir /Users/meganduffy/Documents/git-repos/2017-etnp/data/05.22.17-peaks/extracted-peptides"
   ]
  },
  {
   "cell_type": "code",
   "execution_count": 18,
   "metadata": {
    "collapsed": false
   },
   "outputs": [],
   "source": [
    "# remove '(+15.99)' and '(+57.02)' from sequences\n",
    "# rewrite to more descriptive file name (that includes 'peaks')\n",
    "!sed 's/(+15.99)//g' /Users/meganduffy/Documents/git-repos/2017-etnp/data/05.22.17-peaks/MED2_trypsin_1raw_80alc.txt \\\n",
    "| sed 's/(+57.02)//g'\\\n",
    "> /Users/meganduffy/Documents/git-repos/2017-etnp/data/05.22.17-peaks/extracted-peptides/MED2_trypsin_1raw_80alc_peptides.txt"
   ]
  },
  {
   "cell_type": "code",
   "execution_count": 19,
   "metadata": {
    "collapsed": true
   },
   "outputs": [],
   "source": [
    "# remove '(+15.99)' and '(+57.02)' from sequences\n",
    "# rewrite to more descriptive file name (that includes 'peaks')\n",
    "!sed 's/(+15.99)//g' /Users/meganduffy/Documents/git-repos/2017-etnp/data/05.22.17-peaks/AMBIC2_trypsin_2mzmL_80alc.txt \\\n",
    "| sed 's/(+57.02)//g'\\\n",
    "> /Users/meganduffy/Documents/git-repos/2017-etnp/data/05.22.17-peaks/extracted-peptides/AMBIC2_trypsin_2mzmL_80alc_peptides.txt"
   ]
  },
  {
   "cell_type": "code",
   "execution_count": 20,
   "metadata": {
    "collapsed": false
   },
   "outputs": [
    {
     "name": "stdout",
     "output_type": "stream",
     "text": [
      "KAALEDLALLTQK\r\n",
      "KELDLDTDLGK\r\n",
      "KDLESLDSTNK\r\n",
      "KGFVSELLDK\r\n",
      "HFELLNQK\r\n",
      "KLFTDYQELMK\r\n",
      "LKEDLEWYLPLK\r\n",
      "TPGGLEVLMAFSAK\r\n",
      "YADTHEYVK\r\n",
      "HDYLNSMK\r\n",
      "LVELLLLK\r\n",
      "TANFEMLFR\r\n",
      "KVLSELLWLK\r\n",
      "LFEFLLK\r\n",
      "HLDEMVAR\r\n",
      "LLNDETLELLKK\r\n",
      "TPASYEYNVAVTK\r\n",
      "WALEELLNK\r\n",
      "LNLNELLEK\r\n",
      "LGNVDWVLLK\r\n"
     ]
    }
   ],
   "source": [
    "!head -20 /Users/meganduffy/Documents/git-repos/2017-etnp/data/05.22.17-peaks/extracted-peptides/MED2_trypsin_1raw_80alc_peptides.txt"
   ]
  },
  {
   "cell_type": "code",
   "execution_count": 21,
   "metadata": {
    "collapsed": false
   },
   "outputs": [
    {
     "name": "stdout",
     "output_type": "stream",
     "text": [
      "YEELQLTAGR\r\n",
      "LSSPATLNSR\r\n",
      "LSSPATLNSR\r\n",
      "LASYLDK\r\n",
      "VLDELTLTK\r\n",
      "VATVSLPR\r\n",
      "VATVSLPR\r\n",
      "VTDAELAELVAR\r\n",
      "RATVSLPR\r\n",
      "LAWDFR\r\n",
      "VATVSPLR\r\n",
      "KAYEDLAQK\r\n",
      "RATVSLPR\r\n",
      "LAHLLDK\r\n",
      "LATVSLPR\r\n",
      "SPDLLDEACLLK\r\n",
      "VATVSLPR\r\n",
      "LATWLPR\r\n",
      "DMELLLR\r\n",
      "VATVSPLR\r\n"
     ]
    }
   ],
   "source": [
    "!head -20 /Users/meganduffy/Documents/git-repos/2017-etnp/data/05.22.17-peaks/extracted-peptides/AMBIC2_trypsin_2mzmL_80alc_peptides.txt"
   ]
  },
  {
   "cell_type": "markdown",
   "metadata": {},
   "source": [
    "### BLASTP ###"
   ]
  },
  {
   "cell_type": "markdown",
   "metadata": {},
   "source": [
    "I already [downloaded the MED4 protein fasta file from Uniprot](https://github.com/MeganEDuffy/2017-etnp/blob/master/notebooks/MED4-proteome-ftp.ipynb) and created a database called Uniprot.MED4_Hi3.fasta by adding the Hi3 _E. coli_ heat shock protein on 2017-05-22 in TextEdit, as can be seen in linked notebook. The database is in the data directory of this repositoty, data/ "
   ]
  },
  {
   "cell_type": "code",
   "execution_count": 26,
   "metadata": {
    "collapsed": false
   },
   "outputs": [
    {
     "name": "stdout",
     "output_type": "stream",
     "text": [
      ">tr|A8WI02|A8WI02_PROMP Uncharacterized protein OS=Prochlorococcus marinus subsp. pastoris (strain CCMP1986 / NIES-2087 / MED4) GN=PMM1800 PE=4 SV=1\r\n",
      "MDNKEKEKDISSLEFDKGKTRNDYKFLVQKLKNIKEIITLLENKFLQKEM\r\n",
      ">tr|A8WI04|A8WI04_PROMP Uncharacterized protein OS=Prochlorococcus marinus subsp. pastoris (strain CCMP1986 / NIES-2087 / MED4) GN=PMM1801 PE=4 SV=1\r\n",
      "MSTKNNINDLLIKYKPKVLRFTGSNFPTELWSNNQIKNLKKLSA\r\n",
      ">tr|A8WI05|A8WI05_PROMP Uncharacterized protein OS=Prochlorococcus marinus subsp. pastoris (strain CCMP1986 / NIES-2087 / MED4) GN=PMM1802 PE=4 SV=1\r\n",
      "MDITFAAIIFASRTIPTDFGLVAAAIAGAGSLLFIALRFVPDAGN\r\n",
      ">tr|A8WI06|A8WI06_PROMP Membrane protein OS=Prochlorococcus marinus subsp. pastoris (strain CCMP1986 / NIES-2087 / MED4) GN=PMM1803 PE=4 SV=1\r\n",
      "MLKKIVAFTPLFGAVTFPLIVPITISKFGVNYGILSALVISSLWFIAMLRTSEMPH\r\n",
      ">tr|A8WI07|A8WI07_PROMP Uncharacterized protein OS=Prochlorococcus marinus subsp. pastoris (strain CCMP1986 / NIES-2087 / MED4) GN=PMM1804 PE=4 SV=1\r\n",
      "MKRIEQIVVIFIAAALAIPSYWFFWTLAGGGGYNRRIAPTLKEGTTQNLLLKTSSSLDQP\r\n"
     ]
    }
   ],
   "source": [
    "!head -10 /Users/meganduffy/Documents/git-repos/2017-etnp/data/Uniprot.MED4_Hi3.fasta"
   ]
  },
  {
   "cell_type": "markdown",
   "metadata": {},
   "source": [
    "#### The Hi3 protein is on the end: ####"
   ]
  },
  {
   "cell_type": "code",
   "execution_count": 30,
   "metadata": {
    "collapsed": false
   },
   "outputs": [
    {
     "name": "stdout",
     "output_type": "stream",
     "text": [
      "IVGAGAHAGIAMVRDYDPAKHIDNVLDRILKARDALISHLNWVCMWLGFHSFGLYIHNDT\r\n",
      "MRALGRPQDMFSDSAIQLQPIFAQWVQSIQASAVGTSILAGTAEALPHKAISEVFNGSLV\r\n",
      "EVGGKVAIAPIPLGTADLMIHHIHAFQIHVTVLILLKGVLYARSSRLIPDKASLGFRFPC\r\n",
      "DGPGRGGTCQVSSWDHVFLGLFWMYNCLSIVIFHFSWKMQSDVWGLTGGNFSQSAITING\r\n",
      "WLRDFLWAQSSQVLTSYGSAISMYGLMFLGAHFIWAFSLMFLFSGRGYWQELFESIVWAH\r\n",
      "NKLKVAPTIQPRALSITQGRAVGVTHFLVGGIATTWAFFHARLFGLG\r\n",
      ">gi|54036848|sp|P63284.1|CLPB_ECOLI RecName: Full=Chaperone protein ClpB; AltName: Full=Heat shock protein F84.1\r\n",
      "MRLDRLTNKFQLALADAQSLALGHDNQFIEPLHLMSALLNQEGGSVSPLLTSAGINAGQLRTDINQALNR\r\n",
      "LPQVEGTGGDVQPSQDLVRVLNLCDKLAQKRGDNFISSELFVLAALESRGTLADILKAAGATTANITQAI\r\n",
      "EQMRGGESVNDQGAEDQRQALKKYTIDLTERAEQGKLDPVIGRDEEIRRTIQVLQRRTKNNPVLIGEPGV\r\n",
      "GKTAIVEGLAQRIINGEVPEGLKGRRVLALDMGALVAGAKYRGEFEERLKGVLNDLAKQEGNVILFIDEL\r\n",
      "HTMVGAGKADGAMDAGNMLKPALARGELHCVGATTLDEYRQYIEKDAALERRFQKVFVAEPSVEDTIAIL\r\n",
      "RGLKERYELHHHVQITDPAIVAAATLSHRYIADRQLPDKAIDLIDEAASSIRMQIDSKPEELDRLDRRII\r\n",
      "QLKLEQQALMKESDEASKKRLDMLNEELSDKERQYSELEEEWKAEKASLSGTQTIKAELEQAKIAIEQAR\r\n",
      "RVGDLARMSELQYGKIPELEKQLEAATQLEGKTMRLLRNKVTDAEIAEVLARWTGIPVSRMMESEREKLL\r\n",
      "RMEQELHHRVIGQNEAVDAVSNAIRRSRAGLADPNRPIGSFLFLGPTGVGKTELCKALANFMFDSDEAMV\r\n",
      "RIDMSEFMEKHSVSRLVGAPPGYVGYEEGGYLTEAVRRRPYSVILLDEVEKAHPDVFNILLQVLDDGRLT\r\n",
      "DGQGRTVDFRNTVVIMTSNLGSDLIQERFGELDYAHMKELVLGVVSHNFRPEFINRIDEVVVFHPLGEQH\r\n",
      "IASIAQIQLKRLYKRLEERGYEIHISDEALKLLSENGYDPVYGARPLKRAIQQQIENPLAQQILSGELVP\r\n",
      "GKVIRLEVNEDRIVAVQ\r\n"
     ]
    }
   ],
   "source": [
    "!tail -20 /Users/meganduffy/Documents/git-repos/2017-etnp/data/Uniprot.MED4_Hi3.fasta"
   ]
  },
  {
   "cell_type": "markdown",
   "metadata": {},
   "source": [
    "#### Refamiliarizing myself with _blastdb_ ####"
   ]
  },
  {
   "cell_type": "code",
   "execution_count": 31,
   "metadata": {
    "collapsed": false
   },
   "outputs": [
    {
     "name": "stdout",
     "output_type": "stream",
     "text": [
      "USAGE\n",
      "  makeblastdb [-h] [-help] [-in input_file] [-input_type type]\n",
      "    -dbtype molecule_type [-title database_title] [-parse_seqids]\n",
      "    [-hash_index] [-mask_data mask_data_files] [-mask_id mask_algo_ids]\n",
      "    [-mask_desc mask_algo_descriptions] [-gi_mask]\n",
      "    [-gi_mask_name gi_based_mask_names] [-out database_name]\n",
      "    [-max_file_sz number_of_bytes] [-logfile File_Name] [-taxid TaxID]\n",
      "    [-taxid_map TaxIDMapFile] [-version]\n",
      "\n",
      "DESCRIPTION\n",
      "   Application to create BLAST databases, version 2.5.0+\n",
      "\n",
      "Use '-help' to print detailed descriptions of command line arguments\n",
      "========================================================================\n",
      "\n",
      "Error: Argument \"dbtype\". Mandatory value is missing:  `String, `nucl', `prot''\n",
      "Error:  (CArgException::eNoArg) Argument \"dbtype\". Mandatory value is missing:  `String, `nucl', `prot''\n"
     ]
    }
   ],
   "source": [
    "!~/Applications/ncbi-blast-2.5.0+/bin/makeblastdb \\"
   ]
  },
  {
   "cell_type": "code",
   "execution_count": 32,
   "metadata": {
    "collapsed": false
   },
   "outputs": [
    {
     "name": "stdout",
     "output_type": "stream",
     "text": [
      "\n",
      "\n",
      "Building a new DB, current time: 06/04/2017 19:20:55\n",
      "New DB name:   /Users/meganduffy/Documents/git-repos/2017-etnp/data/Uniprot.MED4_Hi3\n",
      "New DB title:  /Users/meganduffy/Documents/git-repos/2017-etnp/data/Uniprot.MED4_Hi3.fasta\n",
      "Sequence type: Protein\n",
      "Keep MBits: T\n",
      "Maximum file size: 1000000000B\n",
      "Adding sequences from FASTA; added 1943 sequences in 0.121961 seconds.\n"
     ]
    }
   ],
   "source": [
    "!~/Applications/ncbi-blast-2.5.0+/bin/makeblastdb \\\n",
    "-in /Users/meganduffy/Documents/git-repos/2017-etnp/data/Uniprot.MED4_Hi3.fasta \\\n",
    "-dbtype prot \\\n",
    "-out /Users/meganduffy/Documents/git-repos/2017-etnp/data/Uniprot.MED4_Hi3"
   ]
  },
  {
   "cell_type": "code",
   "execution_count": 35,
   "metadata": {
    "collapsed": false
   },
   "outputs": [],
   "source": [
    "# blastp search of de novo peptides vs SwissProt db\n",
    "# outfmt = 6 gives output in tabular format. \n",
    "!~/Applications/ncbi-blast-2.5.0+/bin/blastp \\\n",
    "-query /Users/meganduffy/Documents/git-repos/2017-etnp/data/05.22.17-peaks/extracted-peptides/MED2_trypsin_1raw_80alc_peptides.txt \\\n",
    "-db /Users/meganduffy/Documents/git-repos/2017-etnp/data/Uniprot.MED4_Hi3 \\\n",
    "-outfmt 6 \\\n",
    "-out /Users/meganduffy/Documents/git-repos/2017-etnp/analyses/MED2trypsin_1raw_8alc_blastout.txt"
   ]
  },
  {
   "cell_type": "markdown",
   "metadata": {},
   "source": [
    "### This analysis won't be too helpful...what I really want to do is trypically digest the database proteins and compare that to the de novo peptides.  ###"
   ]
  },
  {
   "cell_type": "code",
   "execution_count": 37,
   "metadata": {
    "collapsed": false
   },
   "outputs": [
    {
     "name": "stdout",
     "output_type": "stream",
     "text": [
      "Query_1\ttr|Q7V360|Q7V360_PROMP\t86.667\t30\t4\t0\t74790\t74819\t180\t209\t9.00e-08\t56.2\r\n",
      "Query_1\ttr|Q7V360|Q7V360_PROMP\t62.857\t35\t12\t1\t69992\t70026\t187\t220\t0.007\t41.2\r\n",
      "Query_1\ttr|Q7V360|Q7V360_PROMP\t46.000\t50\t26\t1\t56097\t56145\t29\t78\t0.36\t35.8\r\n",
      "Query_1\ttr|Q7V360|Q7V360_PROMP\t57.143\t28\t11\t1\t71761\t71787\t182\t209\t3.3\t32.7\r\n",
      "Query_1\tsp|Q7V354|GATC_PROMP\t47.727\t88\t25\t4\t31701\t31785\t16\t85\t3.58e-07\t50.4\r\n",
      "Query_1\tsp|Q7V354|GATC_PROMP\t60.000\t30\t12\t0\t29543\t29572\t7\t36\t0.033\t36.6\r\n",
      "Query_1\tsp|Q7V354|GATC_PROMP\t83.333\t18\t3\t0\t20636\t20653\t68\t85\t0.13\t34.7\r\n",
      "Query_1\tsp|Q7V354|GATC_PROMP\t82.353\t17\t3\t0\t42353\t42369\t69\t85\t0.51\t33.1\r\n",
      "Query_1\ttr|Q7TUD5|Q7TUD5_PROMP\t50.980\t51\t21\t1\t42456\t42506\t38\t84\t1.41e-06\t52.0\r\n",
      "Query_1\tsp|Q7TU44|CH602_PROMP\t50.000\t68\t19\t1\t64554\t64606\t9\t76\t2.86e-06\t52.8\r\n",
      "Query_1\tsp|Q7TU44|CH602_PROMP\t50.909\t55\t10\t1\t37794\t37831\t20\t74\t1.67e-05\t50.4\r\n",
      "Query_1\tsp|Q7TU44|CH602_PROMP\t92.000\t25\t2\t0\t48132\t48156\t79\t103\t1.58e-04\t47.4\r\n",
      "Query_1\tsp|Q7TU44|CH602_PROMP\t37.113\t97\t47\t4\t43029\t43122\t36\t121\t2.77e-04\t46.6\r\n",
      "Query_1\tsp|Q7TU44|CH602_PROMP\t35.714\t112\t59\t4\t69163\t69261\t20\t131\t2.96e-04\t46.2\r\n",
      "Query_1\tsp|Q7TU44|CH602_PROMP\t27.670\t206\t108\t10\t58496\t58678\t151\t338\t7.24e-04\t45.1\r\n",
      "Query_1\tsp|Q7TU44|CH602_PROMP\t84.000\t25\t4\t0\t51958\t51982\t76\t100\t7.62e-04\t45.1\r\n",
      "Query_1\tsp|Q7TU44|CH602_PROMP\t52.778\t36\t17\t0\t73308\t73343\t50\t85\t0.003\t43.1\r\n",
      "Query_1\tsp|Q7TU44|CH602_PROMP\t50.000\t46\t17\t1\t47103\t47148\t57\t96\t0.003\t43.1\r\n",
      "Query_1\tsp|Q7TU44|CH602_PROMP\t60.000\t30\t12\t0\t31646\t31675\t55\t84\t0.004\t42.7\r\n",
      "Query_1\tsp|Q7TU44|CH602_PROMP\t45.833\t48\t19\t1\t61787\t61834\t55\t95\t0.008\t41.6\r\n",
      "Query_1\tsp|Q7TU44|CH602_PROMP\t68.000\t25\t8\t0\t33535\t33559\t50\t74\t0.009\t41.6\r\n",
      "Query_1\tsp|Q7TU44|CH602_PROMP\t46.377\t69\t33\t2\t16574\t16638\t252\t320\t0.010\t41.6\r\n",
      "Query_1\tsp|Q7TU44|CH602_PROMP\t72.000\t25\t7\t0\t59509\t59533\t56\t80\t0.012\t41.2\r\n",
      "Query_1\tsp|Q7TU44|CH602_PROMP\t31.250\t80\t44\t1\t38690\t38758\t55\t134\t0.013\t41.2\r\n",
      "Query_1\tsp|Q7TU44|CH602_PROMP\t51.515\t33\t16\t0\t54902\t54934\t47\t79\t0.017\t40.4\r\n",
      "Query_1\tsp|Q7TU44|CH602_PROMP\t47.273\t55\t28\t1\t53075\t53128\t46\t100\t0.017\t40.4\r\n",
      "Query_1\tsp|Q7TU44|CH602_PROMP\t75.000\t24\t6\t0\t30068\t30091\t57\t80\t0.019\t40.4\r\n",
      "Query_1\tsp|Q7TU44|CH602_PROMP\t24.444\t225\t108\t8\t60363\t60580\t57\t226\t0.023\t40.0\r\n",
      "Query_1\tsp|Q7TU44|CH602_PROMP\t35.135\t74\t27\t1\t71484\t71557\t22\t74\t0.032\t39.7\r\n",
      "Query_1\tsp|Q7TU44|CH602_PROMP\t44.000\t50\t28\t0\t30774\t30823\t33\t82\t0.033\t39.7\r\n",
      "Query_1\tsp|Q7TU44|CH602_PROMP\t41.176\t51\t21\t1\t49795\t49845\t40\t81\t0.038\t39.3\r\n",
      "Query_1\tsp|Q7TU44|CH602_PROMP\t72.727\t22\t6\t0\t41812\t41833\t57\t78\t0.044\t39.3\r\n",
      "Query_1\tsp|Q7TU44|CH602_PROMP\t80.000\t20\t4\t0\t41331\t41350\t56\t75\t0.047\t39.3\r\n",
      "Query_1\tsp|Q7TU44|CH602_PROMP\t84.211\t19\t3\t0\t27877\t27895\t57\t75\t0.054\t38.9\r\n",
      "Query_1\tsp|Q7TU44|CH602_PROMP\t84.211\t19\t3\t0\t35337\t35355\t57\t75\t0.054\t38.9\r\n",
      "Query_1\tsp|Q7TU44|CH602_PROMP\t80.000\t20\t4\t0\t15518\t15537\t56\t75\t0.056\t38.9\r\n",
      "Query_1\tsp|Q7TU44|CH602_PROMP\t44.444\t63\t27\t3\t48868\t48928\t414\t470\t0.060\t38.9\r\n",
      "Query_1\tsp|Q7TU44|CH602_PROMP\t38.710\t62\t24\t1\t2545\t2606\t223\t270\t0.062\t38.9\r\n",
      "Query_1\tsp|Q7TU44|CH602_PROMP\t66.667\t24\t8\t0\t40815\t40838\t52\t75\t0.071\t38.5\r\n",
      "Query_1\tsp|Q7TU44|CH602_PROMP\t64.000\t25\t9\t0\t43418\t43442\t51\t75\t0.073\t38.5\r\n",
      "Query_1\tsp|Q7TU44|CH602_PROMP\t34.314\t102\t21\t4\t57238\t57339\t20\t75\t0.074\t38.5\r\n",
      "Query_1\tsp|Q7TU44|CH602_PROMP\t65.385\t26\t9\t0\t31193\t31218\t49\t74\t0.077\t38.5\r\n",
      "Query_1\tsp|Q7TU44|CH602_PROMP\t84.211\t19\t3\t0\t36261\t36279\t56\t74\t0.081\t38.5\r\n",
      "Query_1\tsp|Q7TU44|CH602_PROMP\t51.282\t39\t16\t1\t30867\t30902\t55\t93\t0.082\t38.5\r\n",
      "Query_1\tsp|Q7TU44|CH602_PROMP\t42.222\t45\t24\t1\t23406\t23450\t38\t80\t0.093\t38.1\r\n",
      "Query_1\tsp|Q7TU44|CH602_PROMP\t65.217\t23\t8\t0\t19937\t19959\t52\t74\t0.093\t38.1\r\n",
      "Query_1\tsp|Q7TU44|CH602_PROMP\t21.071\t280\t163\t9\t27197\t27459\t165\t403\t0.098\t38.1\r\n",
      "Query_1\tsp|Q7TU44|CH602_PROMP\t78.947\t19\t4\t0\t29954\t29972\t57\t75\t0.11\t38.1\r\n",
      "Query_1\tsp|Q7TU44|CH602_PROMP\t78.947\t19\t4\t0\t35868\t35886\t57\t75\t0.11\t38.1\r\n",
      "Query_1\tsp|Q7TU44|CH602_PROMP\t75.000\t20\t5\t0\t56660\t56679\t55\t74\t0.12\t37.7\r\n",
      "Query_1\tsp|Q7TU44|CH602_PROMP\t63.636\t22\t8\t0\t76303\t76324\t53\t74\t0.14\t37.7\r\n",
      "Query_1\tsp|Q7TU44|CH602_PROMP\t78.947\t19\t4\t0\t33525\t33543\t57\t75\t0.15\t37.4\r\n",
      "Query_1\tsp|Q7TU44|CH602_PROMP\t78.947\t19\t4\t0\t38988\t39006\t57\t75\t0.15\t37.4\r\n",
      "Query_1\tsp|Q7TU44|CH602_PROMP\t78.947\t19\t4\t0\t47065\t47083\t57\t75\t0.15\t37.4\r\n",
      "Query_1\tsp|Q7TU44|CH602_PROMP\t78.947\t19\t4\t0\t64356\t64374\t57\t75\t0.15\t37.4\r\n",
      "Query_1\tsp|Q7TU44|CH602_PROMP\t90.909\t22\t1\t1\t54336\t54356\t79\t100\t0.15\t37.4\r\n",
      "Query_1\tsp|Q7TU44|CH602_PROMP\t66.667\t24\t8\t0\t41166\t41189\t57\t80\t0.17\t37.4\r\n",
      "Query_1\tsp|Q7TU44|CH602_PROMP\t78.947\t19\t4\t0\t19975\t19993\t57\t75\t0.17\t37.4\r\n",
      "Query_1\tsp|Q7TU44|CH602_PROMP\t27.692\t130\t86\t4\t27454\t27583\t137\t258\t0.17\t37.4\r\n",
      "Query_1\tsp|Q7TU44|CH602_PROMP\t75.000\t20\t5\t0\t43746\t43765\t55\t74\t0.20\t37.0\r\n",
      "Query_1\tsp|Q7TU44|CH602_PROMP\t69.565\t23\t7\t0\t17163\t17185\t52\t74\t0.20\t37.0\r\n",
      "Query_1\tsp|Q7TU44|CH602_PROMP\t75.000\t20\t5\t0\t38959\t38978\t55\t74\t0.23\t37.0\r\n",
      "Query_1\tsp|Q7TU44|CH602_PROMP\t61.538\t26\t10\t0\t33783\t33808\t55\t80\t0.23\t37.0\r\n",
      "Query_1\tsp|Q7TU44|CH602_PROMP\t83.333\t18\t3\t0\t17274\t17291\t57\t74\t0.25\t37.0\r\n",
      "Query_1\tsp|Q7TU44|CH602_PROMP\t83.333\t18\t3\t0\t29524\t29541\t57\t74\t0.25\t37.0\r\n",
      "Query_1\tsp|Q7TU44|CH602_PROMP\t83.333\t18\t3\t0\t31175\t31192\t57\t74\t0.25\t37.0\r\n",
      "Query_1\tsp|Q7TU44|CH602_PROMP\t83.333\t18\t3\t0\t37275\t37292\t57\t74\t0.25\t37.0\r\n",
      "Query_1\tsp|Q7TU44|CH602_PROMP\t83.333\t18\t3\t0\t55233\t55250\t57\t74\t0.25\t37.0\r\n",
      "Query_1\tsp|Q7TU44|CH602_PROMP\t83.333\t18\t3\t0\t64443\t64460\t57\t74\t0.25\t37.0\r\n",
      "Query_1\tsp|Q7TU44|CH602_PROMP\t83.333\t18\t3\t0\t64545\t64562\t57\t74\t0.25\t37.0\r\n",
      "Query_1\tsp|Q7TU44|CH602_PROMP\t42.308\t52\t22\t2\t15046\t15089\t139\t190\t0.28\t36.6\r\n",
      "Query_1\tsp|Q7TU44|CH602_PROMP\t37.500\t56\t27\t1\t71273\t71328\t57\t104\t0.30\t36.6\r\n",
      "Query_1\tsp|Q7TU44|CH602_PROMP\t70.000\t20\t6\t0\t34617\t34636\t55\t74\t0.34\t36.2\r\n",
      "Query_1\tsp|Q7TU44|CH602_PROMP\t55.556\t27\t12\t0\t40902\t40928\t55\t81\t0.38\t36.2\r\n",
      "Query_1\tsp|Q7TU44|CH602_PROMP\t43.333\t60\t32\t1\t51804\t51863\t332\t389\t0.38\t36.2\r\n",
      "Query_1\tsp|Q7TU44|CH602_PROMP\t37.143\t70\t36\t2\t30198\t30259\t5\t74\t0.39\t36.2\r\n",
      "Query_1\tsp|Q7TU44|CH602_PROMP\t70.000\t20\t6\t0\t26609\t26628\t55\t74\t0.41\t36.2\r\n",
      "Query_1\tsp|Q7TU44|CH602_PROMP\t77.778\t18\t4\t0\t15106\t15123\t57\t74\t0.50\t35.8\r\n",
      "Query_1\tsp|Q7TU44|CH602_PROMP\t77.778\t18\t4\t0\t16779\t16796\t57\t74\t0.50\t35.8\r\n",
      "Query_1\tsp|Q7TU44|CH602_PROMP\t77.778\t18\t4\t0\t30276\t30293\t57\t74\t0.50\t35.8\r\n",
      "Query_1\tsp|Q7TU44|CH602_PROMP\t77.778\t18\t4\t0\t45199\t45216\t57\t74\t0.50\t35.8\r\n",
      "Query_1\tsp|Q7TU44|CH602_PROMP\t77.778\t18\t4\t0\t48636\t48653\t57\t74\t0.50\t35.8\r\n",
      "Query_1\tsp|Q7TU44|CH602_PROMP\t55.556\t36\t9\t1\t37085\t37120\t208\t236\t0.65\t35.4\r\n",
      "Query_1\tsp|Q7TU44|CH602_PROMP\t46.939\t49\t20\t3\t55164\t55212\t60\t102\t0.73\t35.4\r\n",
      "Query_1\tsp|Q7TU44|CH602_PROMP\t83.333\t18\t3\t0\t41307\t41324\t307\t324\t0.96\t35.0\r\n",
      "Query_1\tsp|Q7TU44|CH602_PROMP\t31.579\t95\t54\t4\t72911\t73001\t208\t295\t1.2\t34.7\r\n",
      "Query_1\tsp|Q7TU44|CH602_PROMP\t33.654\t104\t40\t4\t75814\t75894\t20\t117\t1.2\t34.7\r\n",
      "Query_1\tsp|Q7TU44|CH602_PROMP\t87.500\t16\t2\t0\t33836\t33851\t209\t224\t1.4\t34.3\r\n",
      "Query_1\tsp|Q7TU44|CH602_PROMP\t75.000\t20\t5\t0\t38000\t38019\t14\t33\t2.0\t33.9\r\n",
      "Query_1\tsp|Q7TU44|CH602_PROMP\t92.857\t14\t1\t0\t43930\t43943\t196\t209\t2.1\t33.9\r\n",
      "Query_1\tsp|Q7TU44|CH602_PROMP\t92.857\t14\t1\t0\t64764\t64777\t196\t209\t2.1\t33.9\r\n",
      "Query_1\tsp|Q7TU44|CH602_PROMP\t93.750\t16\t1\t0\t45248\t45263\t292\t307\t2.3\t33.5\r\n",
      "Query_1\tsp|Q7TU44|CH602_PROMP\t59.259\t27\t10\t1\t38998\t39023\t50\t76\t4.1\t32.7\r\n",
      "Query_1\tsp|Q7TU44|CH602_PROMP\t36.667\t60\t35\t1\t43862\t43918\t207\t266\t4.5\t32.7\r\n",
      "Query_1\tsp|Q7TU44|CH602_PROMP\t87.500\t16\t2\t0\t50539\t50554\t209\t224\t4.5\t32.7\r\n",
      "Query_1\tsp|Q7TU44|CH602_PROMP\t65.000\t20\t7\t0\t62094\t62113\t452\t471\t4.5\t32.7\r\n",
      "Query_1\tsp|Q7TU44|CH602_PROMP\t62.963\t27\t8\t2\t47960\t47984\t49\t75\t4.7\t32.7\r\n",
      "Query_1\tsp|Q7TU44|CH602_PROMP\t60.000\t25\t9\t1\t41342\t41365\t50\t74\t6.7\t32.0\r\n",
      "Query_1\tsp|Q7TU44|CH602_PROMP\t41.176\t34\t20\t0\t37013\t37046\t236\t269\t6.7\t32.0\r\n",
      "Query_1\tsp|Q7TU44|CH602_PROMP\t46.667\t45\t14\t2\t672\t715\t390\t425\t7.3\t32.0\r\n"
     ]
    }
   ],
   "source": [
    "!head -100 /Users/meganduffy/Documents/git-repos/2017-etnp/analyses/MED2trypsin_1raw_8alc_blastout.txt"
   ]
  },
  {
   "cell_type": "markdown",
   "metadata": {},
   "source": [
    "### Also, I'd like the .csv output' ###"
   ]
  },
  {
   "cell_type": "code",
   "execution_count": 38,
   "metadata": {
    "collapsed": false
   },
   "outputs": [
    {
     "name": "stdout",
     "output_type": "stream",
     "text": [
      "BLAST query/options error: Either a BLAST database or subject sequence(s) must be specified\r\n",
      "Please refer to the BLAST+ user manual.\r\n"
     ]
    }
   ],
   "source": [
    "!~/Applications/ncbi-blast-2.5.0+/bin/blastp"
   ]
  },
  {
   "cell_type": "code",
   "execution_count": 39,
   "metadata": {
    "collapsed": true
   },
   "outputs": [],
   "source": [
    "# blastp search of de novo peptides vs SwissProt db\n",
    "# outfmt = 10 gives output in csv format. \n",
    "!~/Applications/ncbi-blast-2.5.0+/bin/blastp \\\n",
    "-query /Users/meganduffy/Documents/git-repos/2017-etnp/data/05.22.17-peaks/extracted-peptides/MED2_trypsin_1raw_80alc_peptides.txt \\\n",
    "-db /Users/meganduffy/Documents/git-repos/2017-etnp/data/Uniprot.MED4_Hi3 \\\n",
    "-outfmt 10 \\\n",
    "-out /Users/meganduffy/Documents/git-repos/2017-etnp/analyses/MED2trypsin_1raw_8alc_blastout.csv"
   ]
  },
  {
   "cell_type": "code",
   "execution_count": 40,
   "metadata": {
    "collapsed": false
   },
   "outputs": [
    {
     "name": "stdout",
     "output_type": "stream",
     "text": [
      "Query_1,tr|Q7V360|Q7V360_PROMP,86.667,30,4,0,74790,74819,180,209,9.00e-08,56.2\r\n",
      "Query_1,tr|Q7V360|Q7V360_PROMP,62.857,35,12,1,69992,70026,187,220,0.007,41.2\r\n",
      "Query_1,tr|Q7V360|Q7V360_PROMP,46.000,50,26,1,56097,56145,29,78,0.36,35.8\r\n",
      "Query_1,tr|Q7V360|Q7V360_PROMP,57.143,28,11,1,71761,71787,182,209,3.3,32.7\r\n",
      "Query_1,sp|Q7V354|GATC_PROMP,47.727,88,25,4,31701,31785,16,85,3.58e-07,50.4\r\n",
      "Query_1,sp|Q7V354|GATC_PROMP,60.000,30,12,0,29543,29572,7,36,0.033,36.6\r\n",
      "Query_1,sp|Q7V354|GATC_PROMP,83.333,18,3,0,20636,20653,68,85,0.13,34.7\r\n",
      "Query_1,sp|Q7V354|GATC_PROMP,82.353,17,3,0,42353,42369,69,85,0.51,33.1\r\n",
      "Query_1,tr|Q7TUD5|Q7TUD5_PROMP,50.980,51,21,1,42456,42506,38,84,1.41e-06,52.0\r\n",
      "Query_1,sp|Q7TU44|CH602_PROMP,50.000,68,19,1,64554,64606,9,76,2.86e-06,52.8\r\n",
      "Query_1,sp|Q7TU44|CH602_PROMP,50.909,55,10,1,37794,37831,20,74,1.67e-05,50.4\r\n",
      "Query_1,sp|Q7TU44|CH602_PROMP,92.000,25,2,0,48132,48156,79,103,1.58e-04,47.4\r\n",
      "Query_1,sp|Q7TU44|CH602_PROMP,37.113,97,47,4,43029,43122,36,121,2.77e-04,46.6\r\n",
      "Query_1,sp|Q7TU44|CH602_PROMP,35.714,112,59,4,69163,69261,20,131,2.96e-04,46.2\r\n",
      "Query_1,sp|Q7TU44|CH602_PROMP,27.670,206,108,10,58496,58678,151,338,7.24e-04,45.1\r\n",
      "Query_1,sp|Q7TU44|CH602_PROMP,84.000,25,4,0,51958,51982,76,100,7.62e-04,45.1\r\n",
      "Query_1,sp|Q7TU44|CH602_PROMP,52.778,36,17,0,73308,73343,50,85,0.003,43.1\r\n",
      "Query_1,sp|Q7TU44|CH602_PROMP,50.000,46,17,1,47103,47148,57,96,0.003,43.1\r\n",
      "Query_1,sp|Q7TU44|CH602_PROMP,60.000,30,12,0,31646,31675,55,84,0.004,42.7\r\n",
      "Query_1,sp|Q7TU44|CH602_PROMP,45.833,48,19,1,61787,61834,55,95,0.008,41.6\r\n",
      "Query_1,sp|Q7TU44|CH602_PROMP,68.000,25,8,0,33535,33559,50,74,0.009,41.6\r\n",
      "Query_1,sp|Q7TU44|CH602_PROMP,46.377,69,33,2,16574,16638,252,320,0.010,41.6\r\n",
      "Query_1,sp|Q7TU44|CH602_PROMP,72.000,25,7,0,59509,59533,56,80,0.012,41.2\r\n",
      "Query_1,sp|Q7TU44|CH602_PROMP,31.250,80,44,1,38690,38758,55,134,0.013,41.2\r\n",
      "Query_1,sp|Q7TU44|CH602_PROMP,51.515,33,16,0,54902,54934,47,79,0.017,40.4\r\n",
      "Query_1,sp|Q7TU44|CH602_PROMP,47.273,55,28,1,53075,53128,46,100,0.017,40.4\r\n",
      "Query_1,sp|Q7TU44|CH602_PROMP,75.000,24,6,0,30068,30091,57,80,0.019,40.4\r\n",
      "Query_1,sp|Q7TU44|CH602_PROMP,24.444,225,108,8,60363,60580,57,226,0.023,40.0\r\n",
      "Query_1,sp|Q7TU44|CH602_PROMP,35.135,74,27,1,71484,71557,22,74,0.032,39.7\r\n",
      "Query_1,sp|Q7TU44|CH602_PROMP,44.000,50,28,0,30774,30823,33,82,0.033,39.7\r\n",
      "Query_1,sp|Q7TU44|CH602_PROMP,41.176,51,21,1,49795,49845,40,81,0.038,39.3\r\n",
      "Query_1,sp|Q7TU44|CH602_PROMP,72.727,22,6,0,41812,41833,57,78,0.044,39.3\r\n",
      "Query_1,sp|Q7TU44|CH602_PROMP,80.000,20,4,0,41331,41350,56,75,0.047,39.3\r\n",
      "Query_1,sp|Q7TU44|CH602_PROMP,84.211,19,3,0,27877,27895,57,75,0.054,38.9\r\n",
      "Query_1,sp|Q7TU44|CH602_PROMP,84.211,19,3,0,35337,35355,57,75,0.054,38.9\r\n",
      "Query_1,sp|Q7TU44|CH602_PROMP,80.000,20,4,0,15518,15537,56,75,0.056,38.9\r\n",
      "Query_1,sp|Q7TU44|CH602_PROMP,44.444,63,27,3,48868,48928,414,470,0.060,38.9\r\n",
      "Query_1,sp|Q7TU44|CH602_PROMP,38.710,62,24,1,2545,2606,223,270,0.062,38.9\r\n",
      "Query_1,sp|Q7TU44|CH602_PROMP,66.667,24,8,0,40815,40838,52,75,0.071,38.5\r\n",
      "Query_1,sp|Q7TU44|CH602_PROMP,64.000,25,9,0,43418,43442,51,75,0.073,38.5\r\n",
      "Query_1,sp|Q7TU44|CH602_PROMP,34.314,102,21,4,57238,57339,20,75,0.074,38.5\r\n",
      "Query_1,sp|Q7TU44|CH602_PROMP,65.385,26,9,0,31193,31218,49,74,0.077,38.5\r\n",
      "Query_1,sp|Q7TU44|CH602_PROMP,84.211,19,3,0,36261,36279,56,74,0.081,38.5\r\n",
      "Query_1,sp|Q7TU44|CH602_PROMP,51.282,39,16,1,30867,30902,55,93,0.082,38.5\r\n",
      "Query_1,sp|Q7TU44|CH602_PROMP,42.222,45,24,1,23406,23450,38,80,0.093,38.1\r\n",
      "Query_1,sp|Q7TU44|CH602_PROMP,65.217,23,8,0,19937,19959,52,74,0.093,38.1\r\n",
      "Query_1,sp|Q7TU44|CH602_PROMP,21.071,280,163,9,27197,27459,165,403,0.098,38.1\r\n",
      "Query_1,sp|Q7TU44|CH602_PROMP,78.947,19,4,0,29954,29972,57,75,0.11,38.1\r\n",
      "Query_1,sp|Q7TU44|CH602_PROMP,78.947,19,4,0,35868,35886,57,75,0.11,38.1\r\n",
      "Query_1,sp|Q7TU44|CH602_PROMP,75.000,20,5,0,56660,56679,55,74,0.12,37.7\r\n",
      "Query_1,sp|Q7TU44|CH602_PROMP,63.636,22,8,0,76303,76324,53,74,0.14,37.7\r\n",
      "Query_1,sp|Q7TU44|CH602_PROMP,78.947,19,4,0,33525,33543,57,75,0.15,37.4\r\n",
      "Query_1,sp|Q7TU44|CH602_PROMP,78.947,19,4,0,38988,39006,57,75,0.15,37.4\r\n",
      "Query_1,sp|Q7TU44|CH602_PROMP,78.947,19,4,0,47065,47083,57,75,0.15,37.4\r\n",
      "Query_1,sp|Q7TU44|CH602_PROMP,78.947,19,4,0,64356,64374,57,75,0.15,37.4\r\n",
      "Query_1,sp|Q7TU44|CH602_PROMP,90.909,22,1,1,54336,54356,79,100,0.15,37.4\r\n",
      "Query_1,sp|Q7TU44|CH602_PROMP,66.667,24,8,0,41166,41189,57,80,0.17,37.4\r\n",
      "Query_1,sp|Q7TU44|CH602_PROMP,78.947,19,4,0,19975,19993,57,75,0.17,37.4\r\n",
      "Query_1,sp|Q7TU44|CH602_PROMP,27.692,130,86,4,27454,27583,137,258,0.17,37.4\r\n",
      "Query_1,sp|Q7TU44|CH602_PROMP,75.000,20,5,0,43746,43765,55,74,0.20,37.0\r\n",
      "Query_1,sp|Q7TU44|CH602_PROMP,69.565,23,7,0,17163,17185,52,74,0.20,37.0\r\n",
      "Query_1,sp|Q7TU44|CH602_PROMP,75.000,20,5,0,38959,38978,55,74,0.23,37.0\r\n",
      "Query_1,sp|Q7TU44|CH602_PROMP,61.538,26,10,0,33783,33808,55,80,0.23,37.0\r\n",
      "Query_1,sp|Q7TU44|CH602_PROMP,83.333,18,3,0,17274,17291,57,74,0.25,37.0\r\n",
      "Query_1,sp|Q7TU44|CH602_PROMP,83.333,18,3,0,29524,29541,57,74,0.25,37.0\r\n",
      "Query_1,sp|Q7TU44|CH602_PROMP,83.333,18,3,0,31175,31192,57,74,0.25,37.0\r\n",
      "Query_1,sp|Q7TU44|CH602_PROMP,83.333,18,3,0,37275,37292,57,74,0.25,37.0\r\n",
      "Query_1,sp|Q7TU44|CH602_PROMP,83.333,18,3,0,55233,55250,57,74,0.25,37.0\r\n",
      "Query_1,sp|Q7TU44|CH602_PROMP,83.333,18,3,0,64443,64460,57,74,0.25,37.0\r\n",
      "Query_1,sp|Q7TU44|CH602_PROMP,83.333,18,3,0,64545,64562,57,74,0.25,37.0\r\n",
      "Query_1,sp|Q7TU44|CH602_PROMP,42.308,52,22,2,15046,15089,139,190,0.28,36.6\r\n",
      "Query_1,sp|Q7TU44|CH602_PROMP,37.500,56,27,1,71273,71328,57,104,0.30,36.6\r\n",
      "Query_1,sp|Q7TU44|CH602_PROMP,70.000,20,6,0,34617,34636,55,74,0.34,36.2\r\n",
      "Query_1,sp|Q7TU44|CH602_PROMP,55.556,27,12,0,40902,40928,55,81,0.38,36.2\r\n",
      "Query_1,sp|Q7TU44|CH602_PROMP,43.333,60,32,1,51804,51863,332,389,0.38,36.2\r\n",
      "Query_1,sp|Q7TU44|CH602_PROMP,37.143,70,36,2,30198,30259,5,74,0.39,36.2\r\n",
      "Query_1,sp|Q7TU44|CH602_PROMP,70.000,20,6,0,26609,26628,55,74,0.41,36.2\r\n",
      "Query_1,sp|Q7TU44|CH602_PROMP,77.778,18,4,0,15106,15123,57,74,0.50,35.8\r\n",
      "Query_1,sp|Q7TU44|CH602_PROMP,77.778,18,4,0,16779,16796,57,74,0.50,35.8\r\n",
      "Query_1,sp|Q7TU44|CH602_PROMP,77.778,18,4,0,30276,30293,57,74,0.50,35.8\r\n",
      "Query_1,sp|Q7TU44|CH602_PROMP,77.778,18,4,0,45199,45216,57,74,0.50,35.8\r\n",
      "Query_1,sp|Q7TU44|CH602_PROMP,77.778,18,4,0,48636,48653,57,74,0.50,35.8\r\n",
      "Query_1,sp|Q7TU44|CH602_PROMP,55.556,36,9,1,37085,37120,208,236,0.65,35.4\r\n",
      "Query_1,sp|Q7TU44|CH602_PROMP,46.939,49,20,3,55164,55212,60,102,0.73,35.4\r\n",
      "Query_1,sp|Q7TU44|CH602_PROMP,83.333,18,3,0,41307,41324,307,324,0.96,35.0\r\n",
      "Query_1,sp|Q7TU44|CH602_PROMP,31.579,95,54,4,72911,73001,208,295,1.2,34.7\r\n",
      "Query_1,sp|Q7TU44|CH602_PROMP,33.654,104,40,4,75814,75894,20,117,1.2,34.7\r\n",
      "Query_1,sp|Q7TU44|CH602_PROMP,87.500,16,2,0,33836,33851,209,224,1.4,34.3\r\n",
      "Query_1,sp|Q7TU44|CH602_PROMP,75.000,20,5,0,38000,38019,14,33,2.0,33.9\r\n",
      "Query_1,sp|Q7TU44|CH602_PROMP,92.857,14,1,0,43930,43943,196,209,2.1,33.9\r\n",
      "Query_1,sp|Q7TU44|CH602_PROMP,92.857,14,1,0,64764,64777,196,209,2.1,33.9\r\n",
      "Query_1,sp|Q7TU44|CH602_PROMP,93.750,16,1,0,45248,45263,292,307,2.3,33.5\r\n",
      "Query_1,sp|Q7TU44|CH602_PROMP,59.259,27,10,1,38998,39023,50,76,4.1,32.7\r\n",
      "Query_1,sp|Q7TU44|CH602_PROMP,36.667,60,35,1,43862,43918,207,266,4.5,32.7\r\n",
      "Query_1,sp|Q7TU44|CH602_PROMP,87.500,16,2,0,50539,50554,209,224,4.5,32.7\r\n",
      "Query_1,sp|Q7TU44|CH602_PROMP,65.000,20,7,0,62094,62113,452,471,4.5,32.7\r\n",
      "Query_1,sp|Q7TU44|CH602_PROMP,62.963,27,8,2,47960,47984,49,75,4.7,32.7\r\n",
      "Query_1,sp|Q7TU44|CH602_PROMP,60.000,25,9,1,41342,41365,50,74,6.7,32.0\r\n",
      "Query_1,sp|Q7TU44|CH602_PROMP,41.176,34,20,0,37013,37046,236,269,6.7,32.0\r\n",
      "Query_1,sp|Q7TU44|CH602_PROMP,46.667,45,14,2,672,715,390,425,7.3,32.0\r\n"
     ]
    }
   ],
   "source": [
    "!head -100 /Users/meganduffy/Documents/git-repos/2017-etnp/analyses/MED2trypsin_1raw_8alc_blastout.csv"
   ]
  },
  {
   "cell_type": "markdown",
   "metadata": {},
   "source": [
    "To do an _in silico_ trypsin digest of the MED4 database, I am trying to use the [#TrypsinMaster# tool by Ya Feng](https://github.com/yafeng/trypsin). If this doesn't work, I'll try Skyline or the [Protein Digestion Simulator](https://omics.pnl.gov/software/protein-digestion-simulator). I needed Python 2.7 and Biopython, so I'm opening a new sixgill (should have these) notebook, [MED4-tryp-dig](https://github.com/MeganEDuffy/2017-etnp/blob/master/notebooks/MED4-tryp-dig.ipynb)."
   ]
  },
  {
   "cell_type": "markdown",
   "metadata": {},
   "source": [
    "## Making a fasta from database ID'd peptides\n",
    "\n",
    "### I'm taking the csv output from PEAKS to ultimately make a fasta with which to generate a database to blast the de novo peptides against."
   ]
  },
  {
   "cell_type": "code",
   "execution_count": 2,
   "metadata": {
    "collapsed": false
   },
   "outputs": [
    {
     "name": "stdout",
     "output_type": "stream",
     "text": [
      "\u001b[34m05.22.17-peaks\u001b[m\u001b[m                   \u001b[31mMED4_hi3_proteome_digested.txt\u001b[m\u001b[m\r\n",
      "05.22.17-peaks.zip               MED4_hi3_proteome_tryp.peps.txt\r\n",
      "MED2_tryp_1rawDB-search-psm.csv  MED4_hi3_proteome_tryptic.txt\r\n",
      "MED2_tryp_1raw_80dn.csv          UP000001026_59919.fasta.gz\r\n",
      "MED2_tryp_1raw_dn-only.csv       Uniprot.MED4_Hi3.fasta\r\n",
      "MED2_tryp_1raw_peptide.csv       Uniprot.MED4_Hi3.phr\r\n",
      "MED2_tryp_1raw_propep.csv        Uniprot.MED4_Hi3.pin\r\n",
      "MED2_tryp_1raw_protein.csv       Uniprot.MED4_Hi3.psq\r\n",
      "\u001b[31mMED4_hi3_proteome.fasta\u001b[m\u001b[m          Uniprot.MED4_Hi3_tryptic.txt\r\n",
      "MED4_hi3_proteome_digested.fasta \u001b[31mtrypsin.py\u001b[m\u001b[m\r\n"
     ]
    }
   ],
   "source": [
    "# Finding the databased searched peptides:\n",
    "!ls /Users/meganduffy/Documents/git-repos/2017-etnp/data/"
   ]
  },
  {
   "cell_type": "code",
   "execution_count": 3,
   "metadata": {
    "collapsed": false
   },
   "outputs": [
    {
     "name": "stdout",
     "output_type": "stream",
     "text": [
      "Peptide,-10lgP,Mass,Length,ppm,m/z,RT,Area,Fraction,Scan,Source File,#Spec,Accession,PTM,AScore,Area [F6]\r",
      "\r\n",
      "SKPFNDGFNAATGDYVDMSAAGIVDPAK,90.33,2857.3228,28,-0.3,1429.6682,56.58,,6,37926,022016_RAL4_95_MED2_trypsin_1.raw,33,Q7TU44|CH602_PROMP,,,\r",
      "\r\n",
      "SKPFNDGFNAATGDYVDM(+15.99)SAAGIVDPAK,89.20,2873.3176,28,-0.6,1437.6653,49.92,,6,32966,022016_RAL4_95_MED2_trypsin_1.raw,15,Q7TU44|CH602_PROMP,Oxidation (M),M18:Oxidation (M):1000.00,\r",
      "\r\n",
      "GPAPLSLALAHVDVDDDAVLVK,87.73,2214.1895,22,0.4,1108.1024,67.81,,6,46166,022016_RAL4_95_MED2_trypsin_1.raw,7,Q7V2L4|UCRI_PROMP,,,\r",
      "\r\n",
      "DADFSEVDLHGTTLTLSDLK,84.73,2176.0535,20,0.2,1089.0342,59.16,,6,39854,022016_RAL4_95_MED2_trypsin_1.raw,3,tr|Q7V144|Q7V144_PROMP,,,\r",
      "\r\n",
      "AKNTGVEYAQGLVALGGDDEELAK,83.71,2447.2180,24,1.8,1224.6185,50.03,,6,33045,022016_RAL4_95_MED2_trypsin_1.raw,7,tr|Q7V360|Q7V360_PROMP,,,\r",
      "\r\n",
      "DPNQTVNPDEVVAVGAAIQGGVLAGEVK,83.11,2746.4136,28,0.9,1374.2153,74.99,,6,51263,022016_RAL4_95_MED2_trypsin_1.raw,15,Q7UZG3|DNAK2_PROMP,,,\r",
      "\r\n",
      "ILQGYQYVAANPDEVC(+57.02)PANWTPGEK,80.79,2819.3225,25,0.8,1410.6697,55.22,,6,36895,022016_RAL4_95_MED2_trypsin_1.raw,6,tr|Q7V1K9|Q7V1K9_PROMP,Carbamidomethylation,C16:Carbamidomethylation:1000.00,\r",
      "\r\n",
      "AAIEEGVVSGGGQTLIEISNELSNSR,80.61,2629.3193,26,0.7,1315.6678,71.64,,6,48925,022016_RAL4_95_MED2_trypsin_1.raw,32,Q7V2M3|CH601_PROMP,,,\r",
      "\r\n",
      "ANDC(+57.02)PSLDSSLVGSISLGNGDSLK,80.22,2405.1379,24,1.6,1203.5781,60.43,,6,40808,022016_RAL4_95_MED2_trypsin_1.raw,10,tr|Q7V360|Q7V360_PROMP,Carbamidomethylation,C4:Carbamidomethylation:1000.00,\r",
      "\r\n"
     ]
    }
   ],
   "source": [
    "!head /Users/meganduffy/Documents/git-repos/2017-etnp/data/MED2_tryp_1raw_peptide.csv"
   ]
  },
  {
   "cell_type": "code",
   "execution_count": 8,
   "metadata": {
    "collapsed": false
   },
   "outputs": [],
   "source": [
    "# extract column 1 (peptides) and trim off header (1 row)\n",
    "# remove '(+15.99)' and '(+57.02)' from sequences\n",
    "! cut -d , -f 1 /Users/meganduffy/Documents/git-repos/2017-etnp/data/MED2_tryp_1raw_peptide.csv \\\n",
    "| sed \"1 d\" | sed 's/(+15.99)//g'| sed 's/(+57.02)//g'> /Users/meganduffy/Documents/git-repos/2017-etnp/data/05.22.17-peaks/extracted-peptides/MED2_tryp_1raw_db_peptides.txt"
   ]
  },
  {
   "cell_type": "code",
   "execution_count": 9,
   "metadata": {
    "collapsed": false
   },
   "outputs": [
    {
     "name": "stdout",
     "output_type": "stream",
     "text": [
      "SKPFNDGFNAATGDYVDMSAAGIVDPAK\r\n",
      "SKPFNDGFNAATGDYVDMSAAGIVDPAK\r\n",
      "GPAPLSLALAHVDVDDDAVLVK\r\n",
      "DADFSEVDLHGTTLTLSDLK\r\n",
      "AKNTGVEYAQGLVALGGDDEELAK\r\n",
      "DPNQTVNPDEVVAVGAAIQGGVLAGEVK\r\n",
      "ILQGYQYVAANPDEVCPANWTPGEK\r\n",
      "AAIEEGVVSGGGQTLIEISNELSNSR\r\n",
      "ANDCPSLDSSLVGSISLGNGDSLK\r\n",
      "KEISDDLTTGIDIITNALLEPTK\r\n"
     ]
    }
   ],
   "source": [
    "!head /Users/meganduffy/Documents/git-repos/2017-etnp/data/05.22.17-peaks/extracted-peptides/MED2_tryp_1raw_db_peptides.txt"
   ]
  },
  {
   "cell_type": "markdown",
   "metadata": {},
   "source": [
    "### In Galaxy, made this into a fasta:"
   ]
  },
  {
   "cell_type": "code",
   "execution_count": 11,
   "metadata": {
    "collapsed": false
   },
   "outputs": [
    {
     "name": "stdout",
     "output_type": "stream",
     "text": [
      ">SKPFNDGFNAATGDYVDMSAAGIVDPAK\r\n",
      "SKPFNDGFNAATGDYVDMSAAGIVDPAK\r\n",
      ">SKPFNDGFNAATGDYVDMSAAGIVDPAK\r\n",
      "SKPFNDGFNAATGDYVDMSAAGIVDPAK\r\n",
      ">GPAPLSLALAHVDVDDDAVLVK\r\n",
      "GPAPLSLALAHVDVDDDAVLVK\r\n",
      ">DADFSEVDLHGTTLTLSDLK\r\n",
      "DADFSEVDLHGTTLTLSDLK\r\n",
      ">AKNTGVEYAQGLVALGGDDEELAK\r\n",
      "AKNTGVEYAQGLVALGGDDEELAK\r\n"
     ]
    }
   ],
   "source": [
    "!head /Users/meganduffy/Documents/git-repos/2017-etnp/data/MED2_tryp_1raw_db_peptides.fasta"
   ]
  },
  {
   "cell_type": "markdown",
   "metadata": {},
   "source": [
    "### Did the same for de novo extracted peptides"
   ]
  },
  {
   "cell_type": "code",
   "execution_count": null,
   "metadata": {
    "collapsed": true
   },
   "outputs": [],
   "source": []
  }
 ],
 "metadata": {
  "anaconda-cloud": {},
  "kernelspec": {
   "display_name": "Python [default]",
   "language": "python",
   "name": "python3"
  },
  "language_info": {
   "codemirror_mode": {
    "name": "ipython",
    "version": 3
   },
   "file_extension": ".py",
   "mimetype": "text/x-python",
   "name": "python",
   "nbconvert_exporter": "python",
   "pygments_lexer": "ipython3",
   "version": "3.5.2"
  }
 },
 "nbformat": 4,
 "nbformat_minor": 1
}
