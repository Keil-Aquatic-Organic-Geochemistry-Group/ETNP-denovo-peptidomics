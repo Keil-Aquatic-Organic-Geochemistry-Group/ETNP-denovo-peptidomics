{
 "cells": [
  {
   "cell_type": "code",
   "execution_count": 1,
   "metadata": {
    "collapsed": false
   },
   "outputs": [
    {
     "name": "stdout",
     "output_type": "stream",
     "text": [
      "Sun Jun  4 18:37:25 PDT 2017\r\n"
     ]
    }
   ],
   "source": [
    "!date"
   ]
  },
  {
   "cell_type": "code",
   "execution_count": 4,
   "metadata": {
    "collapsed": false
   },
   "outputs": [
    {
     "name": "stdout",
     "output_type": "stream",
     "text": [
      "Software:\r\n",
      "\r\n",
      "    System Software Overview:\r\n",
      "\r\n",
      "      System Version: macOS 10.12.5 (16F73)\r\n",
      "      Kernel Version: Darwin 16.6.0\r\n",
      "      Boot Volume: Macintosh HD\r\n",
      "      Boot Mode: Normal\r\n",
      "      Computer Name: Megan’s MacBook Pro\r\n",
      "      User Name: Megan Duffy (meganduffy)\r\n",
      "      Secure Virtual Memory: Enabled\r\n",
      "      System Integrity Protection: Enabled\r\n",
      "      Time since boot: 10 days 3:32\r\n",
      "\r\n"
     ]
    }
   ],
   "source": [
    "!system_profiler SPSoftwareDataType"
   ]
  },
  {
   "cell_type": "code",
   "execution_count": 5,
   "metadata": {
    "collapsed": true
   },
   "outputs": [],
   "source": [
    "!cd /Users/meganduffy/Documents/git-repos/2017-etnp/data/05.22.17-peaks/"
   ]
  },
  {
   "cell_type": "code",
   "execution_count": 6,
   "metadata": {
    "collapsed": false
   },
   "outputs": [
    {
     "name": "stdout",
     "output_type": "stream",
     "text": [
      "Fraction,Scan,Source File,Peptide,Tag Length,ALC (%),length,m/z,z,RT,Area,Mass,ppm,PTM,local confidence (%),tag (>=0%),mode\r",
      "\r\n",
      "6,32255,022016_RAL4_95_MED2_trypsin_1.raw,KAALEDLALLTQK,13,99,13,707.4191,2,49.01,,1412.8237,-0.1,,97 100 100 100 100 99 99 99 100 100 99 99 99,KAALEDLALLTQK,CID\r",
      "\r\n",
      "6,15768,022016_RAL4_95_MED2_trypsin_1.raw,KELDLDTDLGK,11,99,11,623.8295,2,26.80,,1245.6453,-0.6,,97 100 99 99 99 99 99 99 100 100 99,KELDLDTDLGK,CID\r",
      "\r\n",
      "6,6171,022016_RAL4_95_MED2_trypsin_1.raw,KDLESLDSTNK,11,98,11,625.3166,2,12.87,,1248.6196,-0.8,,96 99 100 100 99 99 99 97 98 99 99,KDLESLDSTNK,CID\r",
      "\r\n",
      "6,26752,022016_RAL4_95_MED2_trypsin_1.raw,KGFVSELLDK,10,98,10,568.3217,2,41.71,,1134.6284,0.3,,98 98 99 99 95 98 99 100 100 100,KGFVSELLDK,CID\r",
      "\r\n",
      "6,11523,022016_RAL4_95_MED2_trypsin_1.raw,HFELLNQK,8,98,8,514.7797,2,20.75,,1027.5450,-0.3,,98 99 100 99 99 98 97 97,HFELLNQK,CID\r",
      "\r\n",
      "6,28681,022016_RAL4_95_MED2_trypsin_1.raw,KLFTDYQELMK,11,98,11,708.3657,2,44.32,,1414.7166,0.2,,97 100 99 98 99 97 95 99 100 99 99,KLFTDYQELMK,CID\r",
      "\r\n",
      "6,26567,022016_RAL4_95_MED2_trypsin_1.raw,LKEDLEWYLPLK,12,98,12,773.9252,2,41.48,,1545.8442,-5.4,,94 97 100 99 99 99 98 99 100 99 99 98,LKEDLEWYLPLK,CID\r",
      "\r\n",
      "6,40882,022016_RAL4_95_MED2_trypsin_1.raw,TPGGLEVLMAFSAK,14,98,14,710.8768,2,60.53,,1419.7432,-2.9,,99 99 99 99 100 100 99 97 94 99 98 98 99 97,TPGGLEVLMAFSAK,CID\r",
      "\r\n",
      "6,6060,022016_RAL4_95_MED2_trypsin_1.raw,YADTHEYVK,9,98,9,563.2640,2,12.72,,1124.5139,-0.3,,92 97 99 99 99 100 99 100 99,YADTHEYVK,CID\r",
      "\r\n"
     ]
    }
   ],
   "source": [
    "# Here's what the file looks like:\n",
    "!head /Users/meganduffy/Documents/git-repos/2017-etnp/data/05.22.17-peaks/MED2_trypsin_1raw_80alc.csv"
   ]
  },
  {
   "cell_type": "code",
   "execution_count": 7,
   "metadata": {
    "collapsed": true
   },
   "outputs": [],
   "source": [
    "# extract column 4 (peptides) and trim off header (1 row)\n",
    "! cut -d , -f 4 /Users/meganduffy/Documents/git-repos/2017-etnp/data/05.22.17-peaks/MED2_trypsin_1raw_80alc.csv | sed \"1 d\" > /Users/meganduffy/Documents/git-repos/2017-etnp/data/05.22.17-peaks/MED2_trypsin_1raw_80alc.txt"
   ]
  },
  {
   "cell_type": "code",
   "execution_count": 8,
   "metadata": {
    "collapsed": false
   },
   "outputs": [
    {
     "name": "stdout",
     "output_type": "stream",
     "text": [
      "KAALEDLALLTQK\r\n",
      "KELDLDTDLGK\r\n",
      "KDLESLDSTNK\r\n",
      "KGFVSELLDK\r\n",
      "HFELLNQK\r\n",
      "KLFTDYQELMK\r\n",
      "LKEDLEWYLPLK\r\n",
      "TPGGLEVLMAFSAK\r\n",
      "YADTHEYVK\r\n",
      "HDYLNSM(+15.99)K\r\n"
     ]
    }
   ],
   "source": [
    "# how does that look?\n",
    "!head /Users/meganduffy/Documents/git-repos/2017-etnp/data/05.22.17-peaks/MED2_trypsin_1raw_80alc.txt"
   ]
  },
  {
   "cell_type": "code",
   "execution_count": 9,
   "metadata": {
    "collapsed": false
   },
   "outputs": [
    {
     "name": "stdout",
     "output_type": "stream",
     "text": [
      "    7341 /Users/meganduffy/Documents/git-repos/2017-etnp/data/05.22.17-peaks/MED2_trypsin_1raw_80alc.txt\r\n"
     ]
    }
   ],
   "source": [
    "# how many peptides (remember, this is > 80% ALC)\n",
    "!wc -l /Users/meganduffy/Documents/git-repos/2017-etnp/data/05.22.17-peaks/MED2_trypsin_1raw_80alc.txt"
   ]
  },
  {
   "cell_type": "code",
   "execution_count": 11,
   "metadata": {
    "collapsed": false
   },
   "outputs": [],
   "source": [
    "#Same for blank sample (Ambic, Hi3)\n",
    "# extract column 4 (peptides) and trim off header (1 row)\n",
    "! cut -d , -f 4 /Users/meganduffy/Documents/git-repos/2017-etnp/data/05.22.17-peaks/AMBIC2_trypsin_2mzmL_80alc.csv | sed \"1 d\" > /Users/meganduffy/Documents/git-repos/2017-etnp/data/05.22.17-peaks/AMBIC2_trypsin_2mzmL_80alc.txt"
   ]
  },
  {
   "cell_type": "code",
   "execution_count": 13,
   "metadata": {
    "collapsed": false
   },
   "outputs": [
    {
     "name": "stdout",
     "output_type": "stream",
     "text": [
      "YEELQLTAGR\r\n",
      "LSSPATLNSR\r\n",
      "LSSPATLNSR\r\n",
      "LASYLDK\r\n",
      "VLDELTLTK\r\n",
      "VATVSLPR\r\n",
      "VATVSLPR\r\n",
      "VTDAELAELVAR\r\n",
      "RATVSLPR\r\n",
      "LAWDFR\r\n"
     ]
    }
   ],
   "source": [
    "!head /Users/meganduffy/Documents/git-repos/2017-etnp/data/05.22.17-peaks/AMBIC2_trypsin_2mzmL_80alc.txt"
   ]
  },
  {
   "cell_type": "code",
   "execution_count": 14,
   "metadata": {
    "collapsed": false
   },
   "outputs": [
    {
     "name": "stdout",
     "output_type": "stream",
     "text": [
      "      40 /Users/meganduffy/Documents/git-repos/2017-etnp/data/05.22.17-peaks/AMBIC2_trypsin_2mzmL_80alc.txt\r\n"
     ]
    }
   ],
   "source": [
    "# how many peptides (remember, this is > 80% ALC)\n",
    "!wc -l /Users/meganduffy/Documents/git-repos/FISH-546/data/ETNP-peaks-exports/AMBIC2_trypsin_2mzmL_80alc.txt"
   ]
  },
  {
   "cell_type": "markdown",
   "metadata": {},
   "source": [
    "### TRIM MODIFICATIONS ###"
   ]
  },
  {
   "cell_type": "code",
   "execution_count": 17,
   "metadata": {
    "collapsed": false
   },
   "outputs": [],
   "source": [
    "! mkdir /Users/meganduffy/Documents/git-repos/2017-etnp/data/05.22.17-peaks/extracted-peptides"
   ]
  },
  {
   "cell_type": "code",
   "execution_count": 18,
   "metadata": {
    "collapsed": false
   },
   "outputs": [],
   "source": [
    "# remove '(+15.99)' and '(+57.02)' from sequences\n",
    "# rewrite to more descriptive file name (that includes 'peaks')\n",
    "!sed 's/(+15.99)//g' /Users/meganduffy/Documents/git-repos/2017-etnp/data/05.22.17-peaks/MED2_trypsin_1raw_80alc.txt \\\n",
    "| sed 's/(+57.02)//g'\\\n",
    "> /Users/meganduffy/Documents/git-repos/2017-etnp/data/05.22.17-peaks/extracted-peptides/MED2_trypsin_1raw_80alc_peptides.txt"
   ]
  },
  {
   "cell_type": "code",
   "execution_count": 19,
   "metadata": {
    "collapsed": true
   },
   "outputs": [],
   "source": [
    "# remove '(+15.99)' and '(+57.02)' from sequences\n",
    "# rewrite to more descriptive file name (that includes 'peaks')\n",
    "!sed 's/(+15.99)//g' /Users/meganduffy/Documents/git-repos/2017-etnp/data/05.22.17-peaks/AMBIC2_trypsin_2mzmL_80alc.txt \\\n",
    "| sed 's/(+57.02)//g'\\\n",
    "> /Users/meganduffy/Documents/git-repos/2017-etnp/data/05.22.17-peaks/extracted-peptides/AMBIC2_trypsin_2mzmL_80alc_peptides.txt"
   ]
  },
  {
   "cell_type": "code",
   "execution_count": 20,
   "metadata": {
    "collapsed": false
   },
   "outputs": [
    {
     "name": "stdout",
     "output_type": "stream",
     "text": [
      "KAALEDLALLTQK\r\n",
      "KELDLDTDLGK\r\n",
      "KDLESLDSTNK\r\n",
      "KGFVSELLDK\r\n",
      "HFELLNQK\r\n",
      "KLFTDYQELMK\r\n",
      "LKEDLEWYLPLK\r\n",
      "TPGGLEVLMAFSAK\r\n",
      "YADTHEYVK\r\n",
      "HDYLNSMK\r\n",
      "LVELLLLK\r\n",
      "TANFEMLFR\r\n",
      "KVLSELLWLK\r\n",
      "LFEFLLK\r\n",
      "HLDEMVAR\r\n",
      "LLNDETLELLKK\r\n",
      "TPASYEYNVAVTK\r\n",
      "WALEELLNK\r\n",
      "LNLNELLEK\r\n",
      "LGNVDWVLLK\r\n"
     ]
    }
   ],
   "source": [
    "!head -20 /Users/meganduffy/Documents/git-repos/2017-etnp/data/05.22.17-peaks/extracted-peptides/MED2_trypsin_1raw_80alc_peptides.txt"
   ]
  },
  {
   "cell_type": "code",
   "execution_count": 21,
   "metadata": {
    "collapsed": false
   },
   "outputs": [
    {
     "name": "stdout",
     "output_type": "stream",
     "text": [
      "YEELQLTAGR\r\n",
      "LSSPATLNSR\r\n",
      "LSSPATLNSR\r\n",
      "LASYLDK\r\n",
      "VLDELTLTK\r\n",
      "VATVSLPR\r\n",
      "VATVSLPR\r\n",
      "VTDAELAELVAR\r\n",
      "RATVSLPR\r\n",
      "LAWDFR\r\n",
      "VATVSPLR\r\n",
      "KAYEDLAQK\r\n",
      "RATVSLPR\r\n",
      "LAHLLDK\r\n",
      "LATVSLPR\r\n",
      "SPDLLDEACLLK\r\n",
      "VATVSLPR\r\n",
      "LATWLPR\r\n",
      "DMELLLR\r\n",
      "VATVSPLR\r\n"
     ]
    }
   ],
   "source": [
    "!head -20 /Users/meganduffy/Documents/git-repos/2017-etnp/data/05.22.17-peaks/extracted-peptides/AMBIC2_trypsin_2mzmL_80alc_peptides.txt"
   ]
  },
  {
   "cell_type": "markdown",
   "metadata": {},
   "source": [
    "### BLASTP ###"
   ]
  },
  {
   "cell_type": "markdown",
   "metadata": {},
   "source": [
    "I already [downloaded the MED4 protein fasta file from Uniprot](https://github.com/MeganEDuffy/2017-etnp/blob/master/notebooks/MED4-proteome-ftp.ipynb) and created a database by adding the Hi3 _E. coli_ heat shock protein on 2017-05-22, as can be seen in linked notebook. The database is in "
   ]
  },
  {
   "cell_type": "code",
   "execution_count": null,
   "metadata": {
    "collapsed": true
   },
   "outputs": [],
   "source": []
  }
 ],
 "metadata": {
  "anaconda-cloud": {},
  "kernelspec": {
   "display_name": "Python [default]",
   "language": "python",
   "name": "python3"
  },
  "language_info": {
   "codemirror_mode": {
    "name": "ipython",
    "version": 3
   },
   "file_extension": ".py",
   "mimetype": "text/x-python",
   "name": "python",
   "nbconvert_exporter": "python",
   "pygments_lexer": "ipython3",
   "version": "3.5.2"
  }
 },
 "nbformat": 4,
 "nbformat_minor": 1
}
