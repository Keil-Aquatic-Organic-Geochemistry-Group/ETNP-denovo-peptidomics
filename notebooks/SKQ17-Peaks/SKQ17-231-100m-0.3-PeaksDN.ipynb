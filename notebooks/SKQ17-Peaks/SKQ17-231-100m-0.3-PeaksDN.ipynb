{
 "cells": [
  {
   "cell_type": "markdown",
   "metadata": {},
   "source": [
    "### Manipulation of Peaks de novo results of ETNP 2017 P2 samples LC-MS/MS data using python.\n",
    "\n",
    "Starting with:\n",
    "\n",
    "    Peaks de novo results (.csv) of PTM-optimized database searches\n",
    "\n",
    "Goal:\n",
    "\n",
    "    Files with stripped (no PTMs) peptide lists and\n",
    "    Columns with #'s of each modification in every sequence\n",
    "    Column with stripped peptide lengths (# amino acids)\n",
    "    \n",
    "### To use:\n",
    "\n",
    "#### 1. Change the input file name in *IN 4*\n",
    "#### 2. Change output file name in *IN 6*, *IN 7*, *IN 8*"
   ]
  },
  {
   "cell_type": "markdown",
   "metadata": {},
   "source": [
    "We don't have technical duplicates here, sadly, unlike the MED4 Pro samples. I exported PeaksDN search results CSVs into my ETNP 2017 git repo:"
   ]
  },
  {
   "cell_type": "code",
   "execution_count": 1,
   "metadata": {},
   "outputs": [
    {
     "name": "stdout",
     "output_type": "stream",
     "text": [
      "/home/millieginty/Documents/git-repos/2017-etnp/data/pro2020/ETNP-SKQ17/PEAKS-PTMopt\n"
     ]
    }
   ],
   "source": [
    "cd /home/millieginty/Documents/git-repos/2017-etnp/data/pro2020/ETNP-SKQ17/PEAKS-PTMopt/"
   ]
  },
  {
   "cell_type": "code",
   "execution_count": 2,
   "metadata": {},
   "outputs": [
    {
     "name": "stdout",
     "output_type": "stream",
     "text": [
      "ETNP-SKQ17-231-100m-0.3-JA2_DN50.csv\r\n",
      "ETNP-SKQ17-231-100m-0.3-JA2_DN50_ptm.csv\r\n",
      "ETNP-SKQ17-231-100m-0.3-JA2_DN50_stripped_peptides.fas\r\n",
      "ETNP-SKQ17-231-100m-0.3-JA2_DN50_stripped_peptides.txt\r\n",
      "ETNP-SKQ17-231-100m-0.3-JA2_DN80_stripped_peptides.fas\r\n",
      "ETNP-SKQ17-231-100m-0.3-JA2_DN80_stripped_peptides.txt\r\n",
      "ETNP-SKQ17-233-265m-0.3-JA2_DN50_stripped.csv\r\n",
      "ETNP-SKQ17-233-265m-0.3-JA4_DN50.csv\r\n",
      "ETNP-SKQ17-233-265m-0.3-JA4_DN50_ptm.csv\r\n",
      "ETNP-SKQ17-233-265m-0.3-JA4_DN50_stripped.csv\r\n",
      "ETNP-SKQ17-233-265m-0.3-JA4_DN50_stripped_peptides.txt\r\n",
      "ETNP-SKQ17-233-265m-0.3-JA4_DN50_totals.csv\r\n",
      "ETNP-SKQ17-243-965m-0.3-JA14_DN50.csv\r\n",
      "ETNP-SKQ17-243-965m-0.3-JA14_DN50_ptm.csv\r\n",
      "ETNP-SKQ17-243-965m-0.3-JA14_DN50_stripped.csv\r\n",
      "ETNP-SKQ17-243-965m-0.3-JA14_DN50_stripped_peptides.txt\r\n",
      "ETNP-SKQ17-243-965m-0.3-JA14_DN80_stripped_peptides.txt\r\n",
      "ETNP-SKQ17-273-965m-trap_DN50.csv\r\n",
      "ETNP-SKQ17-273-965m-trap_DN50_ptm.csv\r\n",
      "ETNP-SKQ17-273-965m-trap_DN50_stripped.csv\r\n",
      "ETNP-SKQ17-273-965m-trap_DN50_stripped_peptides.txt\r\n",
      "ETNP-SKQ17-273-965m-trap_DN80_stripped_peptides.txt\r\n",
      "ETNP-SKQ17-278-265m-trap_DN50.csv\r\n",
      "ETNP-SKQ17-278-265m-trap_DN50_ptm.csv\r\n",
      "ETNP-SKQ17-278-265m-trap_DN50_stripped.csv\r\n",
      "ETNP-SKQ17-278-265m-trap_DN50_stripped_peptides.txt\r\n",
      "ETNP-SKQ17-278-265m-trap_DN80_stripped_peptides.txt\r\n",
      "ETNP-SKQ17-378-100m-trap_DN50.csv\r\n",
      "ETNP-SKQ17-378-100m-trap_DN50_ptm.csv\r\n",
      "ETNP-SKQ17-378-100m-trap_DN50_stripped.csv\r\n",
      "ETNP-SKQ17-378-100m-trap_DN50_stripped_peptides.txt\r\n",
      "ETNP-SKQ17-378-100m-trap_DN50_totals.csv\r\n",
      "ETNP-SKQ17-378-100m-trap_DN80_stripped_peptides.txt\r\n"
     ]
    }
   ],
   "source": [
    "ls"
   ]
  },
  {
   "cell_type": "code",
   "execution_count": 3,
   "metadata": {},
   "outputs": [
    {
     "data": {
      "text/plain": [
       "'1.0.5'"
      ]
     },
     "execution_count": 3,
     "metadata": {},
     "output_type": "execute_result"
    }
   ],
   "source": [
    "# LIBRARIES\n",
    "#import pandas library for working with tabular data\n",
    "import os\n",
    "os.getcwd()\n",
    "import pandas as pd\n",
    "import numpy as np\n",
    "import matplotlib.pyplot as plt\n",
    "import seaborn as sns\n",
    "from scipy.stats import kde\n",
    "#import regular expresson (regex)\n",
    "import re\n",
    "#check pandas version\n",
    "pd.__version__"
   ]
  },
  {
   "cell_type": "markdown",
   "metadata": {},
   "source": [
    "## 231: 100 m McLane pump filtered on 0.3 um GF-75"
   ]
  },
  {
   "cell_type": "code",
   "execution_count": 4,
   "metadata": {},
   "outputs": [
    {
     "data": {
      "text/html": [
       "<div>\n",
       "<style scoped>\n",
       "    .dataframe tbody tr th:only-of-type {\n",
       "        vertical-align: middle;\n",
       "    }\n",
       "\n",
       "    .dataframe tbody tr th {\n",
       "        vertical-align: top;\n",
       "    }\n",
       "\n",
       "    .dataframe thead th {\n",
       "        text-align: right;\n",
       "    }\n",
       "</style>\n",
       "<table border=\"1\" class=\"dataframe\">\n",
       "  <thead>\n",
       "    <tr style=\"text-align: right;\">\n",
       "      <th></th>\n",
       "      <th>Fraction</th>\n",
       "      <th>Scan</th>\n",
       "      <th>Source File</th>\n",
       "      <th>Peptide</th>\n",
       "      <th>Tag Length</th>\n",
       "      <th>ALC (%)</th>\n",
       "      <th>length</th>\n",
       "      <th>m/z</th>\n",
       "      <th>z</th>\n",
       "      <th>RT</th>\n",
       "      <th>Area</th>\n",
       "      <th>Mass</th>\n",
       "      <th>ppm</th>\n",
       "      <th>PTM</th>\n",
       "      <th>local confidence (%)</th>\n",
       "      <th>tag (&gt;=0%)</th>\n",
       "      <th>mode</th>\n",
       "    </tr>\n",
       "  </thead>\n",
       "  <tbody>\n",
       "    <tr>\n",
       "      <th>0</th>\n",
       "      <td>1</td>\n",
       "      <td>14924</td>\n",
       "      <td>20170410_ETNP-231-100m-0.3um-JA2_01.raw</td>\n",
       "      <td>EN(+.98)LAALEK</td>\n",
       "      <td>8</td>\n",
       "      <td>98</td>\n",
       "      <td>8</td>\n",
       "      <td>444.7382</td>\n",
       "      <td>2</td>\n",
       "      <td>50.59</td>\n",
       "      <td>38500000.0</td>\n",
       "      <td>887.4600</td>\n",
       "      <td>2.0</td>\n",
       "      <td>Deamidation (NQ)</td>\n",
       "      <td>98 99 100 99 98 99 100 96</td>\n",
       "      <td>EN(+.98)LAALEK</td>\n",
       "      <td>CID</td>\n",
       "    </tr>\n",
       "    <tr>\n",
       "      <th>1</th>\n",
       "      <td>1</td>\n",
       "      <td>11873</td>\n",
       "      <td>20170410_ETNP-231-100m-0.3um-JA2_01.raw</td>\n",
       "      <td>EN(+.98)N(+.98)LLAK</td>\n",
       "      <td>7</td>\n",
       "      <td>98</td>\n",
       "      <td>7</td>\n",
       "      <td>402.2114</td>\n",
       "      <td>2</td>\n",
       "      <td>41.36</td>\n",
       "      <td>7910000.0</td>\n",
       "      <td>802.4072</td>\n",
       "      <td>1.2</td>\n",
       "      <td>Deamidation (NQ)</td>\n",
       "      <td>97 98 97 98 99 99 99</td>\n",
       "      <td>EN(+.98)N(+.98)LLAK</td>\n",
       "      <td>CID</td>\n",
       "    </tr>\n",
       "    <tr>\n",
       "      <th>2</th>\n",
       "      <td>1</td>\n",
       "      <td>16508</td>\n",
       "      <td>20170410_ETNP-231-100m-0.3um-JA2_01.raw</td>\n",
       "      <td>TGN(+.98)FLDPK</td>\n",
       "      <td>8</td>\n",
       "      <td>98</td>\n",
       "      <td>8</td>\n",
       "      <td>446.7253</td>\n",
       "      <td>2</td>\n",
       "      <td>55.16</td>\n",
       "      <td>5860000.0</td>\n",
       "      <td>891.4338</td>\n",
       "      <td>2.6</td>\n",
       "      <td>Deamidation (NQ)</td>\n",
       "      <td>94 97 99 99 99 99 99 98</td>\n",
       "      <td>TGN(+.98)FLDPK</td>\n",
       "      <td>CID</td>\n",
       "    </tr>\n",
       "    <tr>\n",
       "      <th>3</th>\n",
       "      <td>1</td>\n",
       "      <td>27852</td>\n",
       "      <td>20170410_ETNP-231-100m-0.3um-JA2_01.raw</td>\n",
       "      <td>WLVNHPR</td>\n",
       "      <td>7</td>\n",
       "      <td>97</td>\n",
       "      <td>7</td>\n",
       "      <td>461.2513</td>\n",
       "      <td>2</td>\n",
       "      <td>81.49</td>\n",
       "      <td>1550000.0</td>\n",
       "      <td>920.4980</td>\n",
       "      <td>-10.8</td>\n",
       "      <td>NaN</td>\n",
       "      <td>99 100 100 96 97 97 98</td>\n",
       "      <td>WLVNHPR</td>\n",
       "      <td>CID</td>\n",
       "    </tr>\n",
       "    <tr>\n",
       "      <th>4</th>\n",
       "      <td>1</td>\n",
       "      <td>15671</td>\n",
       "      <td>20170410_ETNP-231-100m-0.3um-JA2_01.raw</td>\n",
       "      <td>TDENLPLGPK</td>\n",
       "      <td>10</td>\n",
       "      <td>97</td>\n",
       "      <td>10</td>\n",
       "      <td>542.2884</td>\n",
       "      <td>2</td>\n",
       "      <td>52.76</td>\n",
       "      <td>10900000.0</td>\n",
       "      <td>1082.5608</td>\n",
       "      <td>1.3</td>\n",
       "      <td>NaN</td>\n",
       "      <td>98 99 100 99 100 97 98 95 98 95</td>\n",
       "      <td>TDENLPLGPK</td>\n",
       "      <td>CID</td>\n",
       "    </tr>\n",
       "  </tbody>\n",
       "</table>\n",
       "</div>"
      ],
      "text/plain": [
       "   Fraction   Scan                              Source File  \\\n",
       "0         1  14924  20170410_ETNP-231-100m-0.3um-JA2_01.raw   \n",
       "1         1  11873  20170410_ETNP-231-100m-0.3um-JA2_01.raw   \n",
       "2         1  16508  20170410_ETNP-231-100m-0.3um-JA2_01.raw   \n",
       "3         1  27852  20170410_ETNP-231-100m-0.3um-JA2_01.raw   \n",
       "4         1  15671  20170410_ETNP-231-100m-0.3um-JA2_01.raw   \n",
       "\n",
       "               Peptide  Tag Length  ALC (%)  length       m/z  z     RT  \\\n",
       "0       EN(+.98)LAALEK           8       98       8  444.7382  2  50.59   \n",
       "1  EN(+.98)N(+.98)LLAK           7       98       7  402.2114  2  41.36   \n",
       "2       TGN(+.98)FLDPK           8       98       8  446.7253  2  55.16   \n",
       "3              WLVNHPR           7       97       7  461.2513  2  81.49   \n",
       "4           TDENLPLGPK          10       97      10  542.2884  2  52.76   \n",
       "\n",
       "         Area       Mass   ppm               PTM  \\\n",
       "0  38500000.0   887.4600   2.0  Deamidation (NQ)   \n",
       "1   7910000.0   802.4072   1.2  Deamidation (NQ)   \n",
       "2   5860000.0   891.4338   2.6  Deamidation (NQ)   \n",
       "3   1550000.0   920.4980 -10.8               NaN   \n",
       "4  10900000.0  1082.5608   1.3               NaN   \n",
       "\n",
       "              local confidence (%)           tag (>=0%) mode  \n",
       "0        98 99 100 99 98 99 100 96       EN(+.98)LAALEK  CID  \n",
       "1             97 98 97 98 99 99 99  EN(+.98)N(+.98)LLAK  CID  \n",
       "2          94 97 99 99 99 99 99 98       TGN(+.98)FLDPK  CID  \n",
       "3           99 100 100 96 97 97 98              WLVNHPR  CID  \n",
       "4  98 99 100 99 100 97 98 95 98 95           TDENLPLGPK  CID  "
      ]
     },
     "execution_count": 4,
     "metadata": {},
     "output_type": "execute_result"
    }
   ],
   "source": [
    "#read the CSV into a datadrame we name 'comet' using the pandas read_csv function\n",
    "peaks = pd.read_csv(\"/home/millieginty/Documents/git-repos/2017-etnp/data/pro2020/ETNP-SKQ17/PEAKS-PTMopt/ETNP-SKQ17-231-100m-0.3-JA2_DN50.csv\")\n",
    "\n",
    "\n",
    "#look at the dataframe\n",
    "peaks.head()"
   ]
  },
  {
   "cell_type": "code",
   "execution_count": 5,
   "metadata": {
    "scrolled": false
   },
   "outputs": [
    {
     "data": {
      "text/html": [
       "<div>\n",
       "<style scoped>\n",
       "    .dataframe tbody tr th:only-of-type {\n",
       "        vertical-align: middle;\n",
       "    }\n",
       "\n",
       "    .dataframe tbody tr th {\n",
       "        vertical-align: top;\n",
       "    }\n",
       "\n",
       "    .dataframe thead th {\n",
       "        text-align: right;\n",
       "    }\n",
       "</style>\n",
       "<table border=\"1\" class=\"dataframe\">\n",
       "  <thead>\n",
       "    <tr style=\"text-align: right;\">\n",
       "      <th></th>\n",
       "      <th>Fraction</th>\n",
       "      <th>Scan</th>\n",
       "      <th>Source File</th>\n",
       "      <th>Peptide</th>\n",
       "      <th>Tag Length</th>\n",
       "      <th>ALC (%)</th>\n",
       "      <th>length</th>\n",
       "      <th>m/z</th>\n",
       "      <th>z</th>\n",
       "      <th>RT</th>\n",
       "      <th>...</th>\n",
       "      <th>n-deam</th>\n",
       "      <th>q-deam</th>\n",
       "      <th>k-hydr</th>\n",
       "      <th>p-hydr</th>\n",
       "      <th>k-meth</th>\n",
       "      <th>r-meth</th>\n",
       "      <th>stripped peptide</th>\n",
       "      <th>stripped length</th>\n",
       "      <th>ptm-total</th>\n",
       "      <th>ptm-norm</th>\n",
       "    </tr>\n",
       "  </thead>\n",
       "  <tbody>\n",
       "    <tr>\n",
       "      <th>0</th>\n",
       "      <td>1</td>\n",
       "      <td>14924</td>\n",
       "      <td>20170410_ETNP-231-100m-0.3um-JA2_01.raw</td>\n",
       "      <td>EN(+.98)LAALEK</td>\n",
       "      <td>8</td>\n",
       "      <td>98</td>\n",
       "      <td>8</td>\n",
       "      <td>444.7382</td>\n",
       "      <td>2</td>\n",
       "      <td>50.59</td>\n",
       "      <td>...</td>\n",
       "      <td>1</td>\n",
       "      <td>0</td>\n",
       "      <td>0</td>\n",
       "      <td>0</td>\n",
       "      <td>0</td>\n",
       "      <td>0</td>\n",
       "      <td>ENLAALEK</td>\n",
       "      <td>8</td>\n",
       "      <td>1</td>\n",
       "      <td>0.125000</td>\n",
       "    </tr>\n",
       "    <tr>\n",
       "      <th>1</th>\n",
       "      <td>1</td>\n",
       "      <td>11873</td>\n",
       "      <td>20170410_ETNP-231-100m-0.3um-JA2_01.raw</td>\n",
       "      <td>EN(+.98)N(+.98)LLAK</td>\n",
       "      <td>7</td>\n",
       "      <td>98</td>\n",
       "      <td>7</td>\n",
       "      <td>402.2114</td>\n",
       "      <td>2</td>\n",
       "      <td>41.36</td>\n",
       "      <td>...</td>\n",
       "      <td>2</td>\n",
       "      <td>0</td>\n",
       "      <td>0</td>\n",
       "      <td>0</td>\n",
       "      <td>0</td>\n",
       "      <td>0</td>\n",
       "      <td>ENLLAK</td>\n",
       "      <td>6</td>\n",
       "      <td>2</td>\n",
       "      <td>0.333333</td>\n",
       "    </tr>\n",
       "    <tr>\n",
       "      <th>2</th>\n",
       "      <td>1</td>\n",
       "      <td>16508</td>\n",
       "      <td>20170410_ETNP-231-100m-0.3um-JA2_01.raw</td>\n",
       "      <td>TGN(+.98)FLDPK</td>\n",
       "      <td>8</td>\n",
       "      <td>98</td>\n",
       "      <td>8</td>\n",
       "      <td>446.7253</td>\n",
       "      <td>2</td>\n",
       "      <td>55.16</td>\n",
       "      <td>...</td>\n",
       "      <td>1</td>\n",
       "      <td>0</td>\n",
       "      <td>0</td>\n",
       "      <td>0</td>\n",
       "      <td>0</td>\n",
       "      <td>0</td>\n",
       "      <td>TGNFLDPK</td>\n",
       "      <td>8</td>\n",
       "      <td>1</td>\n",
       "      <td>0.125000</td>\n",
       "    </tr>\n",
       "    <tr>\n",
       "      <th>3</th>\n",
       "      <td>1</td>\n",
       "      <td>27852</td>\n",
       "      <td>20170410_ETNP-231-100m-0.3um-JA2_01.raw</td>\n",
       "      <td>WLVNHPR</td>\n",
       "      <td>7</td>\n",
       "      <td>97</td>\n",
       "      <td>7</td>\n",
       "      <td>461.2513</td>\n",
       "      <td>2</td>\n",
       "      <td>81.49</td>\n",
       "      <td>...</td>\n",
       "      <td>0</td>\n",
       "      <td>0</td>\n",
       "      <td>0</td>\n",
       "      <td>0</td>\n",
       "      <td>0</td>\n",
       "      <td>0</td>\n",
       "      <td>WLVNHPR</td>\n",
       "      <td>7</td>\n",
       "      <td>0</td>\n",
       "      <td>0.000000</td>\n",
       "    </tr>\n",
       "    <tr>\n",
       "      <th>4</th>\n",
       "      <td>1</td>\n",
       "      <td>15671</td>\n",
       "      <td>20170410_ETNP-231-100m-0.3um-JA2_01.raw</td>\n",
       "      <td>TDENLPLGPK</td>\n",
       "      <td>10</td>\n",
       "      <td>97</td>\n",
       "      <td>10</td>\n",
       "      <td>542.2884</td>\n",
       "      <td>2</td>\n",
       "      <td>52.76</td>\n",
       "      <td>...</td>\n",
       "      <td>0</td>\n",
       "      <td>0</td>\n",
       "      <td>0</td>\n",
       "      <td>0</td>\n",
       "      <td>0</td>\n",
       "      <td>0</td>\n",
       "      <td>TDENLPLGPK</td>\n",
       "      <td>10</td>\n",
       "      <td>0</td>\n",
       "      <td>0.000000</td>\n",
       "    </tr>\n",
       "    <tr>\n",
       "      <th>5</th>\n",
       "      <td>1</td>\n",
       "      <td>11157</td>\n",
       "      <td>20170410_ETNP-231-100m-0.3um-JA2_01.raw</td>\n",
       "      <td>LNEGFDR</td>\n",
       "      <td>7</td>\n",
       "      <td>97</td>\n",
       "      <td>7</td>\n",
       "      <td>425.7072</td>\n",
       "      <td>2</td>\n",
       "      <td>39.24</td>\n",
       "      <td>...</td>\n",
       "      <td>0</td>\n",
       "      <td>0</td>\n",
       "      <td>0</td>\n",
       "      <td>0</td>\n",
       "      <td>0</td>\n",
       "      <td>0</td>\n",
       "      <td>LNEGFDR</td>\n",
       "      <td>7</td>\n",
       "      <td>0</td>\n",
       "      <td>0.000000</td>\n",
       "    </tr>\n",
       "    <tr>\n",
       "      <th>6</th>\n",
       "      <td>1</td>\n",
       "      <td>21773</td>\n",
       "      <td>20170410_ETNP-231-100m-0.3um-JA2_01.raw</td>\n",
       "      <td>EN(+.98)LGFLEK</td>\n",
       "      <td>8</td>\n",
       "      <td>97</td>\n",
       "      <td>8</td>\n",
       "      <td>475.7465</td>\n",
       "      <td>2</td>\n",
       "      <td>68.71</td>\n",
       "      <td>...</td>\n",
       "      <td>1</td>\n",
       "      <td>0</td>\n",
       "      <td>0</td>\n",
       "      <td>0</td>\n",
       "      <td>0</td>\n",
       "      <td>0</td>\n",
       "      <td>ENLGFLEK</td>\n",
       "      <td>8</td>\n",
       "      <td>1</td>\n",
       "      <td>0.125000</td>\n",
       "    </tr>\n",
       "    <tr>\n",
       "      <th>7</th>\n",
       "      <td>1</td>\n",
       "      <td>14767</td>\n",
       "      <td>20170410_ETNP-231-100m-0.3um-JA2_01.raw</td>\n",
       "      <td>TTLLYR</td>\n",
       "      <td>6</td>\n",
       "      <td>97</td>\n",
       "      <td>6</td>\n",
       "      <td>383.7273</td>\n",
       "      <td>2</td>\n",
       "      <td>50.17</td>\n",
       "      <td>...</td>\n",
       "      <td>0</td>\n",
       "      <td>0</td>\n",
       "      <td>0</td>\n",
       "      <td>0</td>\n",
       "      <td>0</td>\n",
       "      <td>0</td>\n",
       "      <td>TTLLYR</td>\n",
       "      <td>6</td>\n",
       "      <td>0</td>\n",
       "      <td>0.000000</td>\n",
       "    </tr>\n",
       "    <tr>\n",
       "      <th>8</th>\n",
       "      <td>1</td>\n",
       "      <td>28785</td>\n",
       "      <td>20170410_ETNP-231-100m-0.3um-JA2_01.raw</td>\n",
       "      <td>VNLWQWK</td>\n",
       "      <td>7</td>\n",
       "      <td>97</td>\n",
       "      <td>7</td>\n",
       "      <td>487.2672</td>\n",
       "      <td>2</td>\n",
       "      <td>83.41</td>\n",
       "      <td>...</td>\n",
       "      <td>0</td>\n",
       "      <td>0</td>\n",
       "      <td>0</td>\n",
       "      <td>0</td>\n",
       "      <td>0</td>\n",
       "      <td>0</td>\n",
       "      <td>VNLWQWK</td>\n",
       "      <td>7</td>\n",
       "      <td>0</td>\n",
       "      <td>0.000000</td>\n",
       "    </tr>\n",
       "    <tr>\n",
       "      <th>9</th>\n",
       "      <td>1</td>\n",
       "      <td>15846</td>\n",
       "      <td>20170410_ETNP-231-100m-0.3um-JA2_01.raw</td>\n",
       "      <td>TSNFLDPK</td>\n",
       "      <td>8</td>\n",
       "      <td>97</td>\n",
       "      <td>8</td>\n",
       "      <td>461.2381</td>\n",
       "      <td>2</td>\n",
       "      <td>53.27</td>\n",
       "      <td>...</td>\n",
       "      <td>0</td>\n",
       "      <td>0</td>\n",
       "      <td>0</td>\n",
       "      <td>0</td>\n",
       "      <td>0</td>\n",
       "      <td>0</td>\n",
       "      <td>TSNFLDPK</td>\n",
       "      <td>8</td>\n",
       "      <td>0</td>\n",
       "      <td>0.000000</td>\n",
       "    </tr>\n",
       "  </tbody>\n",
       "</table>\n",
       "<p>10 rows × 49 columns</p>\n",
       "</div>"
      ],
      "text/plain": [
       "   Fraction   Scan                              Source File  \\\n",
       "0         1  14924  20170410_ETNP-231-100m-0.3um-JA2_01.raw   \n",
       "1         1  11873  20170410_ETNP-231-100m-0.3um-JA2_01.raw   \n",
       "2         1  16508  20170410_ETNP-231-100m-0.3um-JA2_01.raw   \n",
       "3         1  27852  20170410_ETNP-231-100m-0.3um-JA2_01.raw   \n",
       "4         1  15671  20170410_ETNP-231-100m-0.3um-JA2_01.raw   \n",
       "5         1  11157  20170410_ETNP-231-100m-0.3um-JA2_01.raw   \n",
       "6         1  21773  20170410_ETNP-231-100m-0.3um-JA2_01.raw   \n",
       "7         1  14767  20170410_ETNP-231-100m-0.3um-JA2_01.raw   \n",
       "8         1  28785  20170410_ETNP-231-100m-0.3um-JA2_01.raw   \n",
       "9         1  15846  20170410_ETNP-231-100m-0.3um-JA2_01.raw   \n",
       "\n",
       "               Peptide  Tag Length  ALC (%)  length       m/z  z     RT  ...  \\\n",
       "0       EN(+.98)LAALEK           8       98       8  444.7382  2  50.59  ...   \n",
       "1  EN(+.98)N(+.98)LLAK           7       98       7  402.2114  2  41.36  ...   \n",
       "2       TGN(+.98)FLDPK           8       98       8  446.7253  2  55.16  ...   \n",
       "3              WLVNHPR           7       97       7  461.2513  2  81.49  ...   \n",
       "4           TDENLPLGPK          10       97      10  542.2884  2  52.76  ...   \n",
       "5              LNEGFDR           7       97       7  425.7072  2  39.24  ...   \n",
       "6       EN(+.98)LGFLEK           8       97       8  475.7465  2  68.71  ...   \n",
       "7               TTLLYR           6       97       6  383.7273  2  50.17  ...   \n",
       "8              VNLWQWK           7       97       7  487.2672  2  83.41  ...   \n",
       "9             TSNFLDPK           8       97       8  461.2381  2  53.27  ...   \n",
       "\n",
       "   n-deam  q-deam  k-hydr p-hydr k-meth r-meth stripped peptide  \\\n",
       "0       1       0       0      0      0      0         ENLAALEK   \n",
       "1       2       0       0      0      0      0           ENLLAK   \n",
       "2       1       0       0      0      0      0         TGNFLDPK   \n",
       "3       0       0       0      0      0      0          WLVNHPR   \n",
       "4       0       0       0      0      0      0       TDENLPLGPK   \n",
       "5       0       0       0      0      0      0          LNEGFDR   \n",
       "6       1       0       0      0      0      0         ENLGFLEK   \n",
       "7       0       0       0      0      0      0           TTLLYR   \n",
       "8       0       0       0      0      0      0          VNLWQWK   \n",
       "9       0       0       0      0      0      0         TSNFLDPK   \n",
       "\n",
       "   stripped length  ptm-total  ptm-norm  \n",
       "0                8          1  0.125000  \n",
       "1                6          2  0.333333  \n",
       "2                8          1  0.125000  \n",
       "3                7          0  0.000000  \n",
       "4               10          0  0.000000  \n",
       "5                7          0  0.000000  \n",
       "6                8          1  0.125000  \n",
       "7                6          0  0.000000  \n",
       "8                7          0  0.000000  \n",
       "9                8          0  0.000000  \n",
       "\n",
       "[10 rows x 49 columns]"
      ]
     },
     "execution_count": 5,
     "metadata": {},
     "output_type": "execute_result"
    }
   ],
   "source": [
    "# use a count function to enumerate the # of A's (alanines) in each peptide\n",
    "peaks['A'] = peaks['Peptide'].str.count(\"A\")\n",
    "\n",
    "# use a count function to enumerate the # of C's (cysteines) in each peptide\n",
    "peaks['C'] = peaks['Peptide'].str.count(\"C\")\n",
    "\n",
    "# use a count function to enumerate the # of D's (aspartic acids) in each peptide\n",
    "peaks['D'] = peaks['Peptide'].str.count(\"D\")\n",
    "\n",
    "# use a count function to enumerate the # of E's (glutamic acids) in each peptide\n",
    "peaks['E'] = peaks['Peptide'].str.count(\"E\")\n",
    "\n",
    "# use a count function to enumerate the # of F's (phenylalanines) in each peptide\n",
    "peaks['F'] = peaks['Peptide'].str.count(\"F\")\n",
    "\n",
    "# use a count function to enumerate the # of G's (glycines) in each peptide\n",
    "peaks['G'] = peaks['Peptide'].str.count(\"G\")\n",
    "\n",
    "# use a count function to enumerate the # of H's (histidines) in each peptide\n",
    "peaks['H'] = peaks['Peptide'].str.count(\"H\")\n",
    "\n",
    "# use a count function to enumerate the # of I's (isoleucines) in each peptide\n",
    "# in PEAKS output, there will be no isoleucines (they're lumped in with leucines)\n",
    "peaks['I'] = peaks['Peptide'].str.count(\"I\")\n",
    "\n",
    "# use a count function to enumerate the # of K's (lysines) in each peptide\n",
    "peaks['K'] = peaks['Peptide'].str.count(\"K\")\n",
    "\n",
    "# use a count function to enumerate the # of L's (leucines) in each peptide\n",
    "peaks['L'] = peaks['Peptide'].str.count(\"L\")\n",
    "\n",
    "# use a count function to enumerate the # of M's (methionines) in each peptide\n",
    "peaks['M'] = peaks['Peptide'].str.count(\"M\")\n",
    "\n",
    "# use a count function to enumerate the # of N's (asparagines) in each peptide\n",
    "peaks['N'] = peaks['Peptide'].str.count(\"N\")\n",
    "\n",
    "# use a count function to enumerate the # of P's ([prolines]) in each peptide\n",
    "peaks['P'] = peaks['Peptide'].str.count(\"P\")\n",
    "\n",
    "# use a count function to enumerate the # of Q's (glutamines) in each peptide\n",
    "peaks['Q'] = peaks['Peptide'].str.count(\"Q\")\n",
    "\n",
    "# use a count function to enumerate the # of R's (arginines) in each peptide\n",
    "peaks['R'] = peaks['Peptide'].str.count(\"R\")\n",
    "\n",
    "# use a count function to enumerate the # of S's (serines) in each peptide\n",
    "peaks['S'] = peaks['Peptide'].str.count(\"S\")\n",
    "\n",
    "# use a count function to enumerate the # of T's (threonines) in each peptide\n",
    "peaks['T'] = peaks['Peptide'].str.count(\"T\")\n",
    "\n",
    "# use a count function to enumerate the # of V's (valines) in each peptide\n",
    "peaks['V'] = peaks['Peptide'].str.count(\"V\")\n",
    "\n",
    "# use a count function to enumerate the # of W's (tryptophans) in each peptide\n",
    "peaks['W'] = peaks['Peptide'].str.count(\"W\")\n",
    "\n",
    "# use a count function to enumerate the # of Y's (tyrosines) in each peptide\n",
    "peaks['Y'] = peaks['Peptide'].str.count(\"Y\")\n",
    "\n",
    "# use a count function to enumerate the # of carbamidomethylated C's in each peptide\n",
    "peaks['c-carb'] = peaks['Peptide'].str.count(\"57.02\")\n",
    "\n",
    "# use a count function to enumerate the # of oxidized M's in each peptide\n",
    "peaks['m-oxid'] = peaks['Peptide'].apply(lambda x: x.count('M(+15.99)'))\n",
    "\n",
    "# use a lamba function to enumerate the # of deamidated N's in each peptide\n",
    "# used to use peaks['n-deam'] = peaks['Peptide'].str.count(\"N\\(+.98\") but that didn't work with the 'N'\n",
    "\n",
    "peaks['n-deam'] = peaks['Peptide'].apply(lambda x: x.count('N(+.98)'))\n",
    "\n",
    "# use a count function to enumerate the # of deamidated Q's in each peptide\n",
    "peaks['q-deam'] = peaks['Peptide'].apply(lambda x: x.count('Q(+.98)'))\n",
    "\n",
    "# use a count function to enumerate the # of hydroxylated K's in each peptide\n",
    "peaks['k-hydr'] = peaks['Peptide'].apply(lambda x: x.count('K(+15.99)'))\n",
    "\n",
    "# use a count function to enumerate the # of hydroxylated P's in each peptide\n",
    "peaks['p-hydr'] = peaks['Peptide'].apply(lambda x: x.count('P(+15.99)'))\n",
    "\n",
    "# use a count function to enumerate the # of methylated K's in each peptide\n",
    "peaks['k-meth'] = peaks['Peptide'].apply(lambda x: x.count('K(+14.02)'))\n",
    "\n",
    "# use a count function to enumerate the # of methylated R's in each peptide\n",
    "peaks['r-meth'] = peaks['Peptide'].apply(lambda x: x.count('R(+14.02)'))\n",
    "\n",
    "# create a column with 'stripped' peptide sequences using strip\n",
    "peaks['stripped peptide'] = peaks['Peptide'].str.replace(r\"\\(.*\\)\",\"\")\n",
    "\n",
    "# add a column with the stripped peptide length (number of AAs)\n",
    "peaks['stripped length'] = peaks['stripped peptide'].apply(len)\n",
    "\n",
    "# total the number of modifications in sequence\n",
    "peaks['ptm-total'] = peaks['c-carb'] + peaks['m-oxid'] + peaks['n-deam'] + peaks['q-deam'] + peaks['k-hydr'] + peaks['p-hydr'] + peaks['k-meth'] + peaks['r-meth']\n",
    "\n",
    "# total the number of modifications in sequence relative to # of AAs\n",
    "peaks['ptm-norm'] = peaks['ptm-total'] / peaks['stripped length']\n",
    "\n",
    "# write modified dataframe to new txt file, same name + 'stripped'\n",
    "peaks.to_csv(\"/home/millieginty/Documents/git-repos/2017-etnp/data/pro2020/ETNP-SKQ17/PEAKS-PTMopt/ETNP-SKQ17-231-100m-0.3-JA2_DN50_stripped.csv\")\n",
    "\n",
    "\n",
    "# check out the results\n",
    "peaks.head(10)"
   ]
  },
  {
   "cell_type": "code",
   "execution_count": 6,
   "metadata": {},
   "outputs": [
    {
     "data": {
      "text/html": [
       "<div>\n",
       "<style scoped>\n",
       "    .dataframe tbody tr th:only-of-type {\n",
       "        vertical-align: middle;\n",
       "    }\n",
       "\n",
       "    .dataframe tbody tr th {\n",
       "        vertical-align: top;\n",
       "    }\n",
       "\n",
       "    .dataframe thead th {\n",
       "        text-align: right;\n",
       "    }\n",
       "</style>\n",
       "<table border=\"1\" class=\"dataframe\">\n",
       "  <thead>\n",
       "    <tr style=\"text-align: right;\">\n",
       "      <th></th>\n",
       "      <th>A</th>\n",
       "      <th>C</th>\n",
       "      <th>D</th>\n",
       "      <th>E</th>\n",
       "      <th>F</th>\n",
       "      <th>G</th>\n",
       "      <th>H</th>\n",
       "      <th>I</th>\n",
       "      <th>K</th>\n",
       "      <th>L</th>\n",
       "      <th>...</th>\n",
       "      <th>k-meth</th>\n",
       "      <th>r-meth</th>\n",
       "      <th>% C w/ carb.</th>\n",
       "      <th>% M w/ oxid</th>\n",
       "      <th>% N w/ deam</th>\n",
       "      <th>% Q w/ deam</th>\n",
       "      <th>% K w/ hydr</th>\n",
       "      <th>% P w/ hydr</th>\n",
       "      <th>% K w/ meth</th>\n",
       "      <th>% R w/ meth</th>\n",
       "    </tr>\n",
       "  </thead>\n",
       "  <tbody>\n",
       "    <tr>\n",
       "      <th>sample total</th>\n",
       "      <td>3927</td>\n",
       "      <td>626</td>\n",
       "      <td>2010</td>\n",
       "      <td>2762</td>\n",
       "      <td>1551</td>\n",
       "      <td>2101</td>\n",
       "      <td>1048</td>\n",
       "      <td>0</td>\n",
       "      <td>5403</td>\n",
       "      <td>4784</td>\n",
       "      <td>...</td>\n",
       "      <td>796</td>\n",
       "      <td>1047</td>\n",
       "      <td>1.0</td>\n",
       "      <td>0.43424</td>\n",
       "      <td>0.202742</td>\n",
       "      <td>0.029278</td>\n",
       "      <td>0.135665</td>\n",
       "      <td>0.389918</td>\n",
       "      <td>0.147326</td>\n",
       "      <td>0.287637</td>\n",
       "    </tr>\n",
       "  </tbody>\n",
       "</table>\n",
       "<p>1 rows × 36 columns</p>\n",
       "</div>"
      ],
      "text/plain": [
       "                 A    C     D     E     F     G     H  I     K     L  ...  \\\n",
       "sample total  3927  626  2010  2762  1551  2101  1048  0  5403  4784  ...   \n",
       "\n",
       "              k-meth  r-meth  % C w/ carb.  % M w/ oxid  % N w/ deam  \\\n",
       "sample total     796    1047           1.0      0.43424     0.202742   \n",
       "\n",
       "              % Q w/ deam  % K w/ hydr  % P w/ hydr  % K w/ meth  % R w/ meth  \n",
       "sample total     0.029278     0.135665     0.389918     0.147326     0.287637  \n",
       "\n",
       "[1 rows x 36 columns]"
      ]
     },
     "execution_count": 6,
     "metadata": {},
     "output_type": "execute_result"
    }
   ],
   "source": [
    "# made a new dataframe that contains the sums of certain columns in the stripped peptide dataframe above\n",
    "\n",
    "index = ['sample total']\n",
    "\n",
    "data = {'A': peaks['A'].sum(),\n",
    "        'C': peaks['C'].sum(),\n",
    "        'D': peaks['D'].sum(),\n",
    "        'E': peaks['E'].sum(),\n",
    "        'F': peaks['F'].sum(),\n",
    "        'G': peaks['G'].sum(),\n",
    "        'H': peaks['H'].sum(),\n",
    "        'I': peaks['I'].sum(),\n",
    "        'K': peaks['K'].sum(),\n",
    "        'L': peaks['L'].sum(),\n",
    "        'M': peaks['M'].sum(),\n",
    "        'N': peaks['N'].sum(),\n",
    "        'P': peaks['P'].sum(),\n",
    "        'Q': peaks['Q'].sum(),\n",
    "        'R': peaks['R'].sum(),\n",
    "        'S': peaks['S'].sum(),\n",
    "        'T': peaks['T'].sum(),\n",
    "        'V': peaks['V'].sum(),\n",
    "        'W': peaks['W'].sum(),\n",
    "        'Y': peaks['Y'].sum(),\n",
    "        'c-carb': peaks['c-carb'].sum(),\n",
    "        'm-oxid': peaks['m-oxid'].sum(),\n",
    "        'n-deam': peaks['n-deam'].sum(),\n",
    "        'q-deam': peaks['q-deam'].sum(),\n",
    "        'k-hydr': peaks['k-hydr'].sum(),\n",
    "        'p-hydr': peaks['p-hydr'].sum(),\n",
    "        'k-meth': peaks['k-meth'].sum(),\n",
    "        'r-meth': peaks['r-meth'].sum()\n",
    "       }\n",
    "\n",
    "totalpeaks = pd.DataFrame(data, columns=['A', 'C', 'D', 'E', 'F', 'G', 'H', 'I', 'K', 'L', 'M', 'N', 'P', 'Q', 'R', 'S', 'T', 'V', 'W', 'Y', 'c-carb', 'm-oxid', 'n-deam', 'q-deam', 'k-hydr', 'p-hydr', 'k-meth', 'r-meth' ], index=index)\n",
    "\n",
    "# calculate percentage of C's with carb (should be 1.0)\n",
    "totalpeaks['% C w/ carb.'] = totalpeaks['c-carb'] / totalpeaks['C'] \n",
    "\n",
    "# calculate percentage of M's that are oxidized\n",
    "totalpeaks['% M w/ oxid'] = totalpeaks['m-oxid'] / totalpeaks['M'] \n",
    "\n",
    "# calculate percentage of N's that are deamidated\n",
    "totalpeaks['% N w/ deam'] = totalpeaks['n-deam'] / totalpeaks['N'] \n",
    "\n",
    "# calculate percentage of Q's that are deamidated\n",
    "totalpeaks['% Q w/ deam'] = totalpeaks['q-deam'] / totalpeaks['Q'] \n",
    "\n",
    "# calculate percentage of K's that are hydroxylated\n",
    "totalpeaks['% K w/ hydr'] = totalpeaks['k-hydr'] / totalpeaks['K'] \n",
    "\n",
    "# calculate percentage of P's that are hydroxylated\n",
    "totalpeaks['% P w/ hydr'] = totalpeaks['p-hydr'] / totalpeaks['P'] \n",
    "\n",
    "# calculate percentage of K's that are methylated\n",
    "totalpeaks['% K w/ meth'] = totalpeaks['k-meth'] / totalpeaks['K'] \n",
    "\n",
    "# calculate percentage of R's that are methylated\n",
    "totalpeaks['% R w/ meth'] = totalpeaks['r-meth'] / totalpeaks['R'] \n",
    "\n",
    "# write modified dataframe to new txt file, same name + 'stripped'\n",
    "totalpeaks.to_csv(\"/home/millieginty/Documents/git-repos/2017-etnp/data/pro2020/ETNP-SKQ17/PEAKS-PTMopt/ETNP-SKQ17-231-100m-0.3-JA2_DN50_totals.csv\")\n",
    "\n",
    "totalpeaks.head()"
   ]
  },
  {
   "cell_type": "markdown",
   "metadata": {},
   "source": [
    "### Visualizing the results"
   ]
  },
  {
   "cell_type": "code",
   "execution_count": 7,
   "metadata": {},
   "outputs": [
    {
     "name": "stdout",
     "output_type": "stream",
     "text": [
      "ALC max:  98\n",
      "ALC min:  50\n"
     ]
    }
   ],
   "source": [
    "print(\"ALC max: \", peaks['ALC (%)'].max())\n",
    "print(\"ALC min: \", peaks['ALC (%)'].min())"
   ]
  },
  {
   "cell_type": "code",
   "execution_count": 8,
   "metadata": {},
   "outputs": [],
   "source": [
    "# take only AA totals and transpose for easier bar plotting in matplotlib\n",
    "\n",
    "peaksaatot = totalpeaks[['A', 'C', 'D', 'E', 'F', 'G', 'H', 'I', 'K', 'L', 'M', 'N', 'P', 'Q', 'R', 'S', 'T', 'V', 'W', 'Y']].copy().T\n",
    "\n",
    "# take only AA %s and transpose for easier bar plotting in matplotlib\n",
    "\n",
    "peaksreltot = totalpeaks[['% C w/ carb.', '% M w/ oxid', '% N w/ deam', '% Q w/ deam', '% K w/ hydr', '% P w/ hydr', '% K w/ meth', '% R w/ meth']].copy().T"
   ]
  },
  {
   "cell_type": "code",
   "execution_count": 9,
   "metadata": {},
   "outputs": [
    {
     "data": {
      "text/plain": [
       "[Text(0, 0, 'sample total')]"
      ]
     },
     "execution_count": 9,
     "metadata": {},
     "output_type": "execute_result"
    },
    {
     "data": {
      "image/png": "[encoded data removed]",
      "text/plain": [
       "<Figure size 432x288 with 1 Axes>"
      ]
     },
     "metadata": {
      "needs_background": "light"
     },
     "output_type": "display_data"
    }
   ],
   "source": [
    "# bar plot of residue totals\n",
    "# there is no isoleucine (I) in Peaks data, which is why L is really big and I is 0\n",
    "\n",
    "\n",
    "x_labels = ['sample total']\n",
    "\n",
    "ax = totalpeaks.plot(y=['A', 'C', 'D', 'E', 'F', 'G', 'H', 'I', 'K', 'L', 'M', 'N', 'P', 'Q', 'R', 'S', 'T', 'V', 'W', 'Y'], kind=\"bar\", title = '100 m suspended')\n",
    "plt.xticks(rotation=0)\n",
    "ax.get_legend().remove()\n",
    "ax.set_xticklabels(x_labels)"
   ]
  },
  {
   "cell_type": "code",
   "execution_count": 10,
   "metadata": {},
   "outputs": [
    {
     "data": {
      "image/png": "[encoded data removed]",
      "text/plain": [
       "<Figure size 432x288 with 1 Axes>"
      ]
     },
     "metadata": {
      "needs_background": "light"
     },
     "output_type": "display_data"
    }
   ],
   "source": [
    "# bar plot of residue totals\n",
    "# there is no isoleucine (I) in Peaks data, which is why L is really big and I is 0\n",
    "\n",
    "my_colors = [(x/10.0, x/20.0, 0.75) for x in range(len(peaksaatot))] # <-- Quick gradient example along the Red/Green dimensions.\n",
    "\n",
    "ax = peaksaatot.plot(y=['sample total'], kind=\"bar\", color = 'green', title = '100 m suspended')\n"
   ]
  },
  {
   "cell_type": "code",
   "execution_count": 11,
   "metadata": {},
   "outputs": [
    {
     "data": {
      "text/plain": [
       "[]"
      ]
     },
     "execution_count": 11,
     "metadata": {},
     "output_type": "execute_result"
    },
    {
     "data": {
      "image/png": "[encoded data removed]",
      "text/plain": [
       "<Figure size 432x288 with 1 Axes>"
      ]
     },
     "metadata": {
      "needs_background": "light"
     },
     "output_type": "display_data"
    }
   ],
   "source": [
    "# bar plot of relative modifications\n",
    "\n",
    "ax = totalpeaks.plot(y=['% C w/ carb.', '% M w/ oxid', '% N w/ deam', '% Q w/ deam', '% K w/ hydr', '% P w/ hydr', '% K w/ meth', '% R w/ meth'], kind=\"bar\", title = '100 m suspended')\n",
    "ax.set_xticklabels([])"
   ]
  },
  {
   "cell_type": "code",
   "execution_count": 12,
   "metadata": {},
   "outputs": [
    {
     "data": {
      "text/plain": [
       "(array([0, 1, 2, 3, 4, 5, 6, 7]), <a list of 8 Text major ticklabel objects>)"
      ]
     },
     "execution_count": 12,
     "metadata": {},
     "output_type": "execute_result"
    },
    {
     "data": {
      "image/png": "[encoded data removed]",
      "text/plain": [
       "<Figure size 432x288 with 1 Axes>"
      ]
     },
     "metadata": {
      "needs_background": "light"
     },
     "output_type": "display_data"
    }
   ],
   "source": [
    "# bar plot of relative mods\n",
    "\n",
    "\n",
    "ax = peaksreltot.plot(y=['sample total'], kind=\"bar\", title = '100 m suspended')\n",
    "plt.xticks(rotation=45)"
   ]
  },
  {
   "cell_type": "code",
   "execution_count": 13,
   "metadata": {
    "scrolled": true
   },
   "outputs": [
    {
     "data": {
      "text/plain": [
       "Text(0.5, 1.0, 'Arginine methylation')"
      ]
     },
     "execution_count": 13,
     "metadata": {},
     "output_type": "execute_result"
    },
    {
     "data": {
      "image/png": "[encoded data removed]",
      "text/plain": [
       "<Figure size 432x288 with 1 Axes>"
      ]
     },
     "metadata": {
      "needs_background": "light"
     },
     "output_type": "display_data"
    },
    {
     "data": {
      "image/png": "[encoded data removed]",
      "text/plain": [
       "<Figure size 432x288 with 1 Axes>"
      ]
     },
     "metadata": {
      "needs_background": "light"
     },
     "output_type": "display_data"
    },
    {
     "data": {
      "image/png": "[encoded data removed]",
      "text/plain": [
       "<Figure size 432x288 with 1 Axes>"
      ]
     },
     "metadata": {
      "needs_background": "light"
     },
     "output_type": "display_data"
    },
    {
     "data": {
      "image/png": "[encoded data removed]",
      "text/plain": [
       "<Figure size 432x288 with 1 Axes>"
      ]
     },
     "metadata": {
      "needs_background": "light"
     },
     "output_type": "display_data"
    },
    {
     "data": {
      "image/png": "[encoded data removed]",
      "text/plain": [
       "<Figure size 432x288 with 1 Axes>"
      ]
     },
     "metadata": {
      "needs_background": "light"
     },
     "output_type": "display_data"
    },
    {
     "data": {
      "image/png": "[encoded data removed]",
      "text/plain": [
       "<Figure size 432x288 with 1 Axes>"
      ]
     },
     "metadata": {
      "needs_background": "light"
     },
     "output_type": "display_data"
    },
    {
     "data": {
      "image/png": "[encoded data removed]",
      "text/plain": [
       "<Figure size 432x288 with 1 Axes>"
      ]
     },
     "metadata": {
      "needs_background": "light"
     },
     "output_type": "display_data"
    },
    {
     "data": {
      "image/png": "[encoded data removed]",
      "text/plain": [
       "<Figure size 432x288 with 1 Axes>"
      ]
     },
     "metadata": {
      "needs_background": "light"
     },
     "output_type": "display_data"
    },
    {
     "data": {
      "image/png": "[encoded data removed]",
      "text/plain": [
       "<Figure size 432x288 with 1 Axes>"
      ]
     },
     "metadata": {
      "needs_background": "light"
     },
     "output_type": "display_data"
    }
   ],
   "source": [
    "# making evenly spaced bins for the ALC data based on the min and max, called above\n",
    "bins = [50, 55, 60, 65, 70, 75, 80, 85, 90, 95, 100]\n",
    "labels = ['50-55', '55-60', '60-65', '65-70', '70-75', '75-80', '80-85', '85-90', '90-95', '95-100']\n",
    "\n",
    "# use pandas cut function to do the binning itself\n",
    "peaks['binned'] = pd.cut(peaks['ALC (%)'], bins=bins, labels=labels)\n",
    "\n",
    "# bar plots of binned PTM data\n",
    "\n",
    "index = ['50-55', '55-60', '60-65', '65-70', '70-75', '75-80', '80-85', '85-90', '90-95', '95-100']\n",
    "data = {'Total PTMs': [peaks.groupby('binned')['ptm-total'].sum()['50-55'], peaks.groupby('binned')['ptm-total'].sum()['55-60'], peaks.groupby('binned')['ptm-total'].sum()['60-65'], peaks.groupby('binned')['ptm-total'].sum()['65-70'], peaks.groupby('binned')['ptm-total'].sum()['70-75'], peaks.groupby('binned')['ptm-total'].sum()['75-80'], peaks.groupby('binned')['ptm-total'].sum()['80-85'], peaks.groupby('binned')['ptm-total'].sum()['85-90'], peaks.groupby('binned')['ptm-total'].sum()['90-95'], peaks.groupby('binned')['ptm-total'].sum()['95-100']],\n",
    "        'Cys carb.': [peaks.groupby('binned')['c-carb'].sum()['50-55'], peaks.groupby('binned')['c-carb'].sum()['55-60'], peaks.groupby('binned')['c-carb'].sum()['60-65'], peaks.groupby('binned')['c-carb'].sum()['65-70'], peaks.groupby('binned')['c-carb'].sum()['70-75'], peaks.groupby('binned')['c-carb'].sum()['75-80'], peaks.groupby('binned')['c-carb'].sum()['80-85'], peaks.groupby('binned')['c-carb'].sum()['85-90'], peaks.groupby('binned')['c-carb'].sum()['90-95'], peaks.groupby('binned')['c-carb'].sum()['95-100']],\n",
    "        'Met oxi.': [peaks.groupby('binned')['m-oxid'].sum()['50-55'], peaks.groupby('binned')['m-oxid'].sum()['55-60'], peaks.groupby('binned')['m-oxid'].sum()['60-65'], peaks.groupby('binned')['m-oxid'].sum()['65-70'], peaks.groupby('binned')['m-oxid'].sum()['70-75'], peaks.groupby('binned')['m-oxid'].sum()['75-80'], peaks.groupby('binned')['m-oxid'].sum()['80-85'], peaks.groupby('binned')['m-oxid'].sum()['85-90'], peaks.groupby('binned')['m-oxid'].sum()['90-95'], peaks.groupby('binned')['m-oxid'].sum()['95-100']],\n",
    "        'Asp deam.': [peaks.groupby('binned')['n-deam'].sum()['50-55'], peaks.groupby('binned')['n-deam'].sum()['55-60'], peaks.groupby('binned')['n-deam'].sum()['60-65'], peaks.groupby('binned')['n-deam'].sum()['65-70'], peaks.groupby('binned')['n-deam'].sum()['70-75'], peaks.groupby('binned')['n-deam'].sum()['75-80'], peaks.groupby('binned')['n-deam'].sum()['80-85'], peaks.groupby('binned')['n-deam'].sum()['85-90'], peaks.groupby('binned')['n-deam'].sum()['90-95'], peaks.groupby('binned')['n-deam'].sum()['95-100']],\n",
    "        'Glut deam.': [peaks.groupby('binned')['q-deam'].sum()['50-55'], peaks.groupby('binned')['q-deam'].sum()['55-60'], peaks.groupby('binned')['q-deam'].sum()['60-65'], peaks.groupby('binned')['q-deam'].sum()['65-70'], peaks.groupby('binned')['q-deam'].sum()['70-75'], peaks.groupby('binned')['q-deam'].sum()['75-80'], peaks.groupby('binned')['q-deam'].sum()['80-85'], peaks.groupby('binned')['q-deam'].sum()['85-90'], peaks.groupby('binned')['q-deam'].sum()['90-95'], peaks.groupby('binned')['q-deam'].sum()['95-100']],\n",
    "        'Lys hydr': [peaks.groupby('binned')['k-hydr'].sum()['50-55'], peaks.groupby('binned')['k-hydr'].sum()['55-60'], peaks.groupby('binned')['k-hydr'].sum()['60-65'], peaks.groupby('binned')['k-hydr'].sum()['65-70'], peaks.groupby('binned')['k-hydr'].sum()['70-75'], peaks.groupby('binned')['k-hydr'].sum()['75-80'], peaks.groupby('binned')['k-hydr'].sum()['80-85'], peaks.groupby('binned')['k-hydr'].sum()['85-90'], peaks.groupby('binned')['k-hydr'].sum()['90-95'], peaks.groupby('binned')['k-hydr'].sum()['95-100']],\n",
    "        'Pro hydr': [peaks.groupby('binned')['p-hydr'].sum()['50-55'], peaks.groupby('binned')['p-hydr'].sum()['55-60'], peaks.groupby('binned')['p-hydr'].sum()['60-65'], peaks.groupby('binned')['p-hydr'].sum()['65-70'], peaks.groupby('binned')['p-hydr'].sum()['70-75'], peaks.groupby('binned')['p-hydr'].sum()['75-80'], peaks.groupby('binned')['p-hydr'].sum()['80-85'], peaks.groupby('binned')['p-hydr'].sum()['85-90'], peaks.groupby('binned')['p-hydr'].sum()['90-95'], peaks.groupby('binned')['p-hydr'].sum()['95-100']],\n",
    "        'Lys meth.': [peaks.groupby('binned')['k-meth'].sum()['50-55'], peaks.groupby('binned')['k-meth'].sum()['55-60'], peaks.groupby('binned')['k-meth'].sum()['60-65'], peaks.groupby('binned')['k-meth'].sum()['65-70'], peaks.groupby('binned')['k-meth'].sum()['70-75'], peaks.groupby('binned')['k-meth'].sum()['75-80'], peaks.groupby('binned')['k-meth'].sum()['80-85'], peaks.groupby('binned')['k-meth'].sum()['85-90'], peaks.groupby('binned')['k-meth'].sum()['90-95'], peaks.groupby('binned')['k-meth'].sum()['95-100']],\n",
    "        'Arg meth.': [peaks.groupby('binned')['r-meth'].sum()['50-55'], peaks.groupby('binned')['r-meth'].sum()['55-60'], peaks.groupby('binned')['r-meth'].sum()['60-65'], peaks.groupby('binned')['r-meth'].sum()['65-70'], peaks.groupby('binned')['r-meth'].sum()['70-75'], peaks.groupby('binned')['r-meth'].sum()['75-80'], peaks.groupby('binned')['r-meth'].sum()['80-85'], peaks.groupby('binned')['r-meth'].sum()['85-90'], peaks.groupby('binned')['r-meth'].sum()['90-95'], peaks.groupby('binned')['r-meth'].sum()['95-100']]\n",
    "        }\n",
    "\n",
    "peaksbin = pd.DataFrame(data, columns=['Total PTMs','Cys carb.','Met oxi.','Asp deam.', 'Glut deam.', 'Lys hydr', 'Pro hydr', 'Lys meth.', 'Arg meth.'], index=index)\n",
    "\n",
    "# write the peaks bin ptm dataframe to a csv:\n",
    "peaksbin.to_csv(\"/home/millieginty/Documents/git-repos/2017-etnp/data/pro2020/ETNP-SKQ17/PEAKS-PTMopt/ETNP-SKQ17-231-100m-0.3-JA2_DN50_ptm.csv\")\n",
    "\n",
    "ax1 = peaksbin.plot.bar(y='Total PTMs', rot=45)\n",
    "ax1.set_title('Total PTMs')\n",
    "\n",
    "ax2 = peaksbin.plot.bar(y='Cys carb.', rot=45)\n",
    "ax2.set_title('Cysteine carbamidomethylation')\n",
    "\n",
    "ax3 = peaksbin.plot.bar(y='Met oxi.', rot=45)\n",
    "ax3.set_title('Methionine oxidation')\n",
    "\n",
    "ax4 = peaksbin.plot.bar(y='Asp deam.', rot=45)\n",
    "ax4.set_title('Asparagine deamidation')\n",
    "\n",
    "ax5 = peaksbin.plot.bar(y='Glut deam.', rot=45)\n",
    "ax5.set_title('Glutamine deamidation')\n",
    "\n",
    "ax6 = peaksbin.plot.bar(y='Lys hydr', rot=45)\n",
    "ax6.set_title('Lysine hydroxylation')\n",
    "\n",
    "ax7 = peaksbin.plot.bar(y='Pro hydr', rot=45)\n",
    "ax7.set_title('Proline hydroxylation')\n",
    "\n",
    "ax8 = peaksbin.plot.bar(y='Lys meth.', rot=45)\n",
    "ax8.set_title('Lysine methylation')\n",
    "\n",
    "ax9 = peaksbin.plot.bar(y='Arg meth.', rot=45)\n",
    "ax9.set_title('Arginine methylation')\n"
   ]
  },
  {
   "cell_type": "markdown",
   "metadata": {},
   "source": [
    "### Exporting txt files of stripped peptides at confidence cutoffs:"
   ]
  },
  {
   "cell_type": "code",
   "execution_count": null,
   "metadata": {},
   "outputs": [],
   "source": [
    "# keep only peptide column >50% ALC\n",
    "pep = peaks[[\"stripped peptide\"]]\n",
    "\n",
    "# write altered dataframe to new txt file\n",
    "# used header and index parameters to get rid of 'Peptide' header and the indexing\n",
    "\n",
    "pep.to_csv(\"/home/millieginty/Documents/git-repos/2017-etnp/data/pro2020/ETNP-SKQ17/PEAKS-PTMopt/ETNP-SKQ17-231-100m-0.3-JA2_DN50_stripped_peptides.txt\", header=False, index=False)\n",
    "\n",
    "# made the text file into a FASTA \n",
    "\n",
    "!awk '{print \">\"NR\"\\n\"$0}' /home/millieginty/Documents/git-repos/2017-etnp/data/pro2020/ETNP-SKQ17/PEAKS-PTMopt/ETNP-SKQ17-231-100m-0.3-JA2_DN50_stripped_peptides.txt > /home/millieginty/Documents/git-repos/2017-etnp/data/pro2020/ETNP-SKQ17/PEAKS-PTMopt/ETNP-SKQ17-231-100m-0.3-JA2_DN50_stripped_peptides.fas\n",
    "\n",
    "# look\n",
    "\n",
    "print(\"# of DN peptide >50% ALC\", len(pep))\n",
    "pep.head()"
   ]
  },
  {
   "cell_type": "code",
   "execution_count": null,
   "metadata": {},
   "outputs": [],
   "source": [
    "# keep only peptides  >80% ALC\n",
    "peaks80 = peaks.loc[peaks['ALC (%)'] >= 80]\n",
    "\n",
    "# see how many rows and double check\n",
    "# peaks80.head(-10)\n",
    "\n",
    "# keep only peptide column \n",
    "pep80 = peaks80[[\"stripped peptide\"]]\n",
    "\n",
    "# write altered dataframe to new txt file\n",
    "# used header and index parameters to get rid of 'Peptide' header and the indexing\n",
    "\n",
    "pep80.to_csv(\"/home/millieginty/Documents/git-repos/2017-etnp/data/pro2020/ETNP-SKQ17/PEAKS-PTMopt/ETNP-SKQ17-231-100m-0.3-JA2_DN80_stripped_peptides.txt\", header=False, index=False)\n",
    "\n",
    "# made the text file into a FASTA \n",
    "\n",
    "!awk '{print \">\"NR\"\\n\"$0}' /home/millieginty/Documents/git-repos/2017-etnp/data/pro2020/ETNP-SKQ17/PEAKS-PTMopt/ETNP-SKQ17-231-100m-0.3-JA2_DN80_stripped_peptides.txt > /home/millieginty/Documents/git-repos/2017-etnp/data/pro2020/ETNP-SKQ17/PEAKS-PTMopt/ETNP-SKQ17-231-100m-0.3-JA2_DN80_stripped_peptides.fas\n",
    "\n",
    "print(\"# of DN peptide >80% ALC\", len(pep80))\n",
    "pep80.head()"
   ]
  },
  {
   "cell_type": "markdown",
   "metadata": {},
   "source": [
    "### Using BioPython to query peptide sequences\n",
    "\n",
    "I installed the BioPython package using `pip install biopython`. All instructions and information [here](https://www.tutorialspoint.com/biopython/index.htm). \n",
    "\n",
    "GitHub project: https://github.com/biopython/biopython\n",
    "\n",
    "I'm relying on the ProtParam module to parse sequences for relative AA composition, instability, secondary structure, instability, and hydrophobicity. You can read more about that module and the studies the indecies are derived from here:\n",
    "\n",
    "https://biopython.org/wiki/ProtParam"
   ]
  },
  {
   "cell_type": "code",
   "execution_count": null,
   "metadata": {
    "scrolled": false
   },
   "outputs": [],
   "source": [
    "# Bio.SeqIO is the standard Sequence Input/Output interface for BioPython 1.43 and later\n",
    "# Bio.SeqIO provides a simple uniform interface to input and output assorted sequence file formats.\n",
    "# (including multiple sequence alignments), but will only deal with sequences as SeqRecord objects\n",
    "\n",
    "# for accepted file formats see https://biopython.org/wiki/SeqIO\n",
    "\n",
    "from Bio import SeqIO\n",
    "#for seq_record in SeqIO.parse(\"/home/millieginty/Documents/git-repos/2017-etnp/data/MED4/MED2_tryp_1raw_db_peptides_nmod.fasta\", \"fasta\"):\n",
    "    #print(seq_record.id)\n",
    "    #print(repr(seq_record.seq))\n",
    "    #print(len(seq_record))\n",
    "    \n",
    "# I commented the print functions out so the output doesn't take up too much space. "
   ]
  },
  {
   "cell_type": "code",
   "execution_count": null,
   "metadata": {},
   "outputs": [],
   "source": [
    "# seeing what the ProtParam module can do with a single protein sequence:\n",
    "\n",
    "from Bio.SeqUtils.ProtParam import ProteinAnalysis\n",
    "\n",
    "test_seq = \"MAEGEITTFTALTEKFNLPPGNYKKPKLLYCSNGGHFLRILPDGTVDGTRDRSDQHIQLQLSAESVGEVYIKSTETGQYLAMDTSGLLYGSQTPSEECLFLERLEENHYNTYTSKKHAEKNWFVGLKKNGSCKRGPRTHYGQKAILFLPLPV\"\n",
    "\n",
    "analysed_seq = ProteinAnalysis(test_seq)\n",
    "print(\"molecular weight of seq =\", analysed_seq.molecular_weight())\n",
    "\n",
    "# calculates the aromaticity value of a protein according to Lobry & Gautier (1994, Nucleic Acids Res., 22, 3174-3180). \n",
    "# it's simply the relative frequency of Phe+Trp+Tyr.\n",
    "\n",
    "analysed_seq.aromaticity()\n",
    "print(\"aromaticity of seq =\", analysed_seq.aromaticity())\n",
    "\n",
    "# secondary_structure_fraction:\n",
    "# this methods returns a list of the fraction of amino acids which tend to be in helix, turn or sheet. \n",
    "# AAs in helix: V, I, Y, F, W, L\n",
    "# AAs in turn: N, P, G, S\n",
    "# AAs in sheet: E, M, A, L\n",
    "# the returned list contains 3 values: [Helix, Turn, Sheet]\n",
    "\n",
    "analysed_seq.secondary_structure_fraction()\n",
    "print(\"frac in H T S =\", analysed_seq.secondary_structure_fraction())\n",
    "\n",
    "# the instability index, an implementation of the method of Guruprasad et al. (1990, Protein Engineering, 4, 155-161).\n",
    "# this method tests a protein for stability. \n",
    "# any value above 40 means the protein is unstable (=has a short half life)\n",
    "# NOT SURE WHAT THIS MEANS FOR PEPTIDES, BUT WE COULD DO THIS FOR PROTEINS\n",
    "\n",
    "analysed_seq.instability_index()\n",
    "print(\"instability =\", analysed_seq.instability_index())\n",
    "\n",
    "# count_amino_acids will do just that, and get_amino_acids_percent will return %'s for each AA across the sequence. \n",
    "analysed_seq.get_amino_acids_percent()\n",
    "\n",
    "# taking the returned dictionary and converting to a dataframe\n",
    "\n",
    "aadict = analysed_seq.get_amino_acids_percent()\n",
    "aadf = pd.DataFrame(list(aadict.items()),columns = ['residue','% occurance']) \n",
    "\n",
    "aadf.head()"
   ]
  },
  {
   "cell_type": "code",
   "execution_count": null,
   "metadata": {},
   "outputs": [],
   "source": [
    "# use SeqIO and a loop to apply count_amino_acids to each sequence in the file\n",
    "# aatot will give us the total number of each residue in the entire sample output\n",
    "\n",
    "import collections\n",
    "from Bio import SeqIO\n",
    "from Bio.SeqUtils.ProtParam import ProteinAnalysis\n",
    "\n",
    "all_aas = collections.defaultdict(int)\n",
    "for record in SeqIO.parse(\"/home/millieginty/Documents/git-repos/2017-etnp/data/pro2020/ETNP-SKQ17/PEAKS-PTMopt/ETNP-SKQ17-231-100m-0.3-JA2_DN50_stripped_peptides.fas\", \"fasta\"):\n",
    "    x = ProteinAnalysis(str(record.seq))\n",
    "    #print(record.id, x.count_amino_acids())\n",
    "    for aa, count in x.count_amino_acids().items():\n",
    "        all_aas[aa] += count        \n",
    "        \n",
    "# made a dataframe for amino acid total counts        \n",
    "data = (all_aas)\n",
    "aatot = pd.DataFrame(data, index = ['sample sequence total'])\n",
    "aatot.head()"
   ]
  },
  {
   "cell_type": "code",
   "execution_count": null,
   "metadata": {},
   "outputs": [],
   "source": [
    "from pandas import Series, DataFrame\n",
    "\n",
    "with open('/home/millieginty/Documents/git-repos/2017-etnp/data/pro2020/ETNP-SKQ17/PEAKS-PTMopt/ETNP-SKQ17-231-100m-0.3-JA2_DN50_stripped_peptides.fas') as fasta_file:  # Will close handle cleanly\n",
    "    identifiers = []\n",
    "    lengths = []\n",
    "    for seq_record in SeqIO.parse(fasta_file, 'fasta'):  # (generator)\n",
    "        identifiers.append(seq_record.id)\n",
    "        lengths.append(len(seq_record.seq))\n",
    "        \n",
    "        \n",
    "#converting lists to pandas Series    \n",
    "s1 = Series(identifiers, name='ID')\n",
    "s2 = Series(lengths, name='length')\n",
    "\n",
    "#Gathering Series into a pandas DataFrame and rename index as ID column\n",
    "idseq = DataFrame(dict(ID=s1, length=s2)).set_index(['ID'])\n",
    "\n",
    "idseq.head()"
   ]
  },
  {
   "cell_type": "code",
   "execution_count": null,
   "metadata": {},
   "outputs": [],
   "source": [
    "from pandas import Series, DataFrame\n",
    "\n",
    "\n",
    "\n",
    "with open('/home/millieginty/Documents/git-repos/2017-etnp/data/pro2020/ETNP-SKQ17/PEAKS-PTMopt/ETNP-SKQ17-231-100m-0.3-JA2_DN50_stripped_peptides.fas) as fasta_file:  # Will close handle cleanly\n",
    "    identifiers = []\n",
    "    lengths = []\n",
    "    aa = []\n",
    "    for seq_record in SeqIO.parse(fasta_file, 'fasta'):  # (generator)\n",
    "        identifiers.append(seq_record.id)\n",
    "        lengths.append(len(seq_record.seq))\n",
    "        aa.count_amino_acids(seq_record.seq)\n",
    "        \n",
    "        \n",
    "#converting lists to pandas Series    \n",
    "s1 = Series(identifiers, name='ID')\n",
    "s2 = Series(lengths, name='length')\n",
    "s3 = Series(aa, name='AAs')\n",
    "\n",
    "#Gathering Series into a pandas DataFrame and rename index as ID column\n",
    "idseq = DataFrame(dict(ID=s1, length=s2, AAs=s3)).set_index(['ID'])\n",
    "\n",
    "idseq.head()"
   ]
  },
  {
   "cell_type": "code",
   "execution_count": null,
   "metadata": {},
   "outputs": [],
   "source": [
    "from Bio import SeqIO\n",
    "from Bio.SeqUtils import ProtParam\n",
    "\n",
    "handle = open(\"/home/millieginty/Documents/git-repos/2017-etnp/data/pro2020/ETNP-SKQ17/PEAKS-PTMopt/ETNP-SKQ17-231-100m-0.3-JA2_DN50_stripped_peptides.fas\") \n",
    "for record in SeqIO.parse(handle, \"fasta\"): \n",
    "    seq = str(record.seq)\n",
    "    X = ProtParam.ProteinAnalysis(seq)\n",
    "    print(X.count_amino_acids()) \n",
    "    #print X.get_amino_acids_percent() \n",
    "    #print X.molecular_weight() \n",
    "    #print X.aromaticity() \n",
    "    #print X.instability_index() \n",
    "    #print X.flexibility() \n",
    "    #print X.isoelectric_point() \n",
    "    #print X.secondary_structure_fraction()\n",
    "    \n",
    "# made a data series from the count_amino_acids function\n",
    "# aacount = {X.count_amino_acids()}\n",
    "\n",
    "# made a pandas dataframe from the series generated above\n",
    "# aacount = pd.DataFrame(list(data.items()),columns = ['A', 'C', 'D', 'E', 'F', 'G', 'H', 'I', 'K', 'L', 'M', 'N', 'P', 'Q', 'R', 'S', 'T', 'V', 'W', 'Y']) \n",
    "\n",
    "aacount = pd.DataFrame(X.count_amino_acids(), index=[0])\n",
    "\n",
    "# look at new dataframe\n",
    "\n",
    "# aacount.head()"
   ]
  },
  {
   "cell_type": "code",
   "execution_count": null,
   "metadata": {},
   "outputs": [],
   "source": []
  }
 ],
 "metadata": {
  "kernelspec": {
   "display_name": "Python 3",
   "language": "python",
   "name": "python3"
  },
  "language_info": {
   "codemirror_mode": {
    "name": "ipython",
    "version": 3
   },
   "file_extension": ".py",
   "mimetype": "text/x-python",
   "name": "python",
   "nbconvert_exporter": "python",
   "pygments_lexer": "ipython3",
   "version": "3.8.3"
  }
 },
 "nbformat": 4,
 "nbformat_minor": 4
}
