{
 "cells": [
  {
   "cell_type": "markdown",
   "metadata": {},
   "source": [
    "### Manipulation of Peaks de novo results of ETNP 2017 P2 samples LC-MS/MS data using python.\n",
    "\n",
    "Starting with:\n",
    "\n",
    "    Peaks de novo results (.csv) of PTM-optimized database searches\n",
    "\n",
    "Goal:\n",
    "\n",
    "    Files with stripped (no PTMs) peptide lists and\n",
    "    Columns with #'s of each modification in every sequence\n",
    "    Column with stripped peptide lengths (# amino acids)\n",
    "    \n",
    "### To use:\n",
    "\n",
    "#### 1. Change the input file name in *IN 4*\n",
    "#### 2. Change output file name in *IN 6*, *IN 7*, *IN 8*"
   ]
  },
  {
   "cell_type": "markdown",
   "metadata": {},
   "source": [
    "We don't have technical duplicates here, sadly, unlike the MED4 Pro samples. I exported PeaksDN search results CSVs into my ETNP 2017 git repo:"
   ]
  },
  {
   "cell_type": "code",
   "execution_count": 1,
   "metadata": {},
   "outputs": [
    {
     "name": "stdout",
     "output_type": "stream",
     "text": [
      "/home/millieginty/Documents/git-repos/2017-etnp/data/pro2020/ETNP-SKQ17/PEAKS-PTMopt\n"
     ]
    }
   ],
   "source": [
    "cd /home/millieginty/Documents/git-repos/2017-etnp/data/pro2020/ETNP-SKQ17/PEAKS-PTMopt/"
   ]
  },
  {
   "cell_type": "code",
   "execution_count": 2,
   "metadata": {},
   "outputs": [
    {
     "name": "stdout",
     "output_type": "stream",
     "text": [
      "ETNP-SKQ17-231-100m-0.3-JA2_DN50.csv\r\n",
      "ETNP-SKQ17-233-265m-0.3-JA4_DN50.csv\r\n",
      "ETNP-SKQ17-243-965m-0.3-JA14_DN50.csv\r\n",
      "ETNP-SKQ17-273-965m-trap_DN50.csv\r\n",
      "ETNP-SKQ17-273-965m-trap_DN50_stripped.csv\r\n",
      "ETNP-SKQ17-273-965m-trap_DN50_stripped_peptides.txt\r\n",
      "ETNP-SKQ17-273-965m-trap_DN80_stripped_peptides.txt\r\n",
      "ETNP-SKQ17-278-265m-trap_DN50.csv\r\n",
      "ETNP-SKQ17-278-265m-trap_DN50_stripped.csv\r\n",
      "ETNP-SKQ17-278-265m-trap_DN50_stripped_peptides.txt\r\n",
      "ETNP-SKQ17-278-265m-trap_DN80_stripped_peptides.txt\r\n",
      "ETNP-SKQ17-378-100m-trap_DN50.csv\r\n",
      "ETNP-SKQ17-378-100m-trap_DN50_stripped.csv\r\n"
     ]
    }
   ],
   "source": [
    "ls"
   ]
  },
  {
   "cell_type": "code",
   "execution_count": 3,
   "metadata": {},
   "outputs": [
    {
     "data": {
      "text/plain": [
       "'1.0.5'"
      ]
     },
     "execution_count": 3,
     "metadata": {},
     "output_type": "execute_result"
    }
   ],
   "source": [
    "# LIBRARIES\n",
    "#import pandas library for working with tabular data\n",
    "import os\n",
    "os.getcwd()\n",
    "import pandas as pd\n",
    "import numpy as np\n",
    "import matplotlib.pyplot as plt\n",
    "import seaborn as sns\n",
    "from scipy.stats import kde\n",
    "#import regular expresson (regex)\n",
    "import re\n",
    "#check pandas version\n",
    "pd.__version__"
   ]
  },
  {
   "cell_type": "markdown",
   "metadata": {},
   "source": [
    "## 378: 100 m +P filtered on 0.3 um GF-75"
   ]
  },
  {
   "cell_type": "code",
   "execution_count": 4,
   "metadata": {},
   "outputs": [
    {
     "data": {
      "text/html": [
       "<div>\n",
       "<style scoped>\n",
       "    .dataframe tbody tr th:only-of-type {\n",
       "        vertical-align: middle;\n",
       "    }\n",
       "\n",
       "    .dataframe tbody tr th {\n",
       "        vertical-align: top;\n",
       "    }\n",
       "\n",
       "    .dataframe thead th {\n",
       "        text-align: right;\n",
       "    }\n",
       "</style>\n",
       "<table border=\"1\" class=\"dataframe\">\n",
       "  <thead>\n",
       "    <tr style=\"text-align: right;\">\n",
       "      <th></th>\n",
       "      <th>Fraction</th>\n",
       "      <th>Scan</th>\n",
       "      <th>Source File</th>\n",
       "      <th>Peptide</th>\n",
       "      <th>Tag Length</th>\n",
       "      <th>ALC (%)</th>\n",
       "      <th>length</th>\n",
       "      <th>m/z</th>\n",
       "      <th>z</th>\n",
       "      <th>RT</th>\n",
       "      <th>Area</th>\n",
       "      <th>Mass</th>\n",
       "      <th>ppm</th>\n",
       "      <th>PTM</th>\n",
       "      <th>local confidence (%)</th>\n",
       "      <th>tag (&gt;=0%)</th>\n",
       "      <th>mode</th>\n",
       "    </tr>\n",
       "  </thead>\n",
       "  <tbody>\n",
       "    <tr>\n",
       "      <th>0</th>\n",
       "      <td>4</td>\n",
       "      <td>4564</td>\n",
       "      <td>20181214_378_etnp2017_100m_trap.raw</td>\n",
       "      <td>VVEEAPK</td>\n",
       "      <td>7</td>\n",
       "      <td>99</td>\n",
       "      <td>7</td>\n",
       "      <td>386.2155</td>\n",
       "      <td>2</td>\n",
       "      <td>17.85</td>\n",
       "      <td>800000.0</td>\n",
       "      <td>770.4174</td>\n",
       "      <td>-1.1</td>\n",
       "      <td>NaN</td>\n",
       "      <td>99 99 100 100 99 99 99</td>\n",
       "      <td>VVEEAPK</td>\n",
       "      <td>CID</td>\n",
       "    </tr>\n",
       "    <tr>\n",
       "      <th>1</th>\n",
       "      <td>4</td>\n",
       "      <td>4574</td>\n",
       "      <td>20181214_378_etnp2017_100m_trap.raw</td>\n",
       "      <td>SLEAESR</td>\n",
       "      <td>7</td>\n",
       "      <td>98</td>\n",
       "      <td>7</td>\n",
       "      <td>396.1982</td>\n",
       "      <td>2</td>\n",
       "      <td>17.88</td>\n",
       "      <td>513000.0</td>\n",
       "      <td>790.3821</td>\n",
       "      <td>-0.4</td>\n",
       "      <td>NaN</td>\n",
       "      <td>98 99 100 99 99 98 96</td>\n",
       "      <td>SLEAESR</td>\n",
       "      <td>CID</td>\n",
       "    </tr>\n",
       "    <tr>\n",
       "      <th>2</th>\n",
       "      <td>4</td>\n",
       "      <td>4982</td>\n",
       "      <td>20181214_378_etnp2017_100m_trap.raw</td>\n",
       "      <td>EEDLER</td>\n",
       "      <td>6</td>\n",
       "      <td>98</td>\n",
       "      <td>6</td>\n",
       "      <td>395.6826</td>\n",
       "      <td>2</td>\n",
       "      <td>19.14</td>\n",
       "      <td>245000.0</td>\n",
       "      <td>789.3504</td>\n",
       "      <td>0.3</td>\n",
       "      <td>NaN</td>\n",
       "      <td>100 100 98 99 99 95</td>\n",
       "      <td>EEDLER</td>\n",
       "      <td>CID</td>\n",
       "    </tr>\n",
       "    <tr>\n",
       "      <th>3</th>\n",
       "      <td>4</td>\n",
       "      <td>3812</td>\n",
       "      <td>20181214_378_etnp2017_100m_trap.raw</td>\n",
       "      <td>TEEAVEEK</td>\n",
       "      <td>8</td>\n",
       "      <td>98</td>\n",
       "      <td>8</td>\n",
       "      <td>467.7217</td>\n",
       "      <td>2</td>\n",
       "      <td>15.60</td>\n",
       "      <td>232000.0</td>\n",
       "      <td>933.4291</td>\n",
       "      <td>-0.2</td>\n",
       "      <td>NaN</td>\n",
       "      <td>99 100 100 99 97 99 99 90</td>\n",
       "      <td>TEEAVEEK</td>\n",
       "      <td>CID</td>\n",
       "    </tr>\n",
       "    <tr>\n",
       "      <th>4</th>\n",
       "      <td>4</td>\n",
       "      <td>3992</td>\n",
       "      <td>20181214_378_etnp2017_100m_trap.raw</td>\n",
       "      <td>ELAGNAAR</td>\n",
       "      <td>8</td>\n",
       "      <td>97</td>\n",
       "      <td>8</td>\n",
       "      <td>401.2144</td>\n",
       "      <td>2</td>\n",
       "      <td>16.13</td>\n",
       "      <td>485000.0</td>\n",
       "      <td>800.4140</td>\n",
       "      <td>0.3</td>\n",
       "      <td>NaN</td>\n",
       "      <td>98 96 99 97 98 99 99 98</td>\n",
       "      <td>ELAGNAAR</td>\n",
       "      <td>CID</td>\n",
       "    </tr>\n",
       "  </tbody>\n",
       "</table>\n",
       "</div>"
      ],
      "text/plain": [
       "   Fraction  Scan                          Source File   Peptide  Tag Length  \\\n",
       "0         4  4564  20181214_378_etnp2017_100m_trap.raw   VVEEAPK           7   \n",
       "1         4  4574  20181214_378_etnp2017_100m_trap.raw   SLEAESR           7   \n",
       "2         4  4982  20181214_378_etnp2017_100m_trap.raw    EEDLER           6   \n",
       "3         4  3812  20181214_378_etnp2017_100m_trap.raw  TEEAVEEK           8   \n",
       "4         4  3992  20181214_378_etnp2017_100m_trap.raw  ELAGNAAR           8   \n",
       "\n",
       "   ALC (%)  length       m/z  z     RT      Area      Mass  ppm  PTM  \\\n",
       "0       99       7  386.2155  2  17.85  800000.0  770.4174 -1.1  NaN   \n",
       "1       98       7  396.1982  2  17.88  513000.0  790.3821 -0.4  NaN   \n",
       "2       98       6  395.6826  2  19.14  245000.0  789.3504  0.3  NaN   \n",
       "3       98       8  467.7217  2  15.60  232000.0  933.4291 -0.2  NaN   \n",
       "4       97       8  401.2144  2  16.13  485000.0  800.4140  0.3  NaN   \n",
       "\n",
       "        local confidence (%) tag (>=0%) mode  \n",
       "0     99 99 100 100 99 99 99    VVEEAPK  CID  \n",
       "1      98 99 100 99 99 98 96    SLEAESR  CID  \n",
       "2        100 100 98 99 99 95     EEDLER  CID  \n",
       "3  99 100 100 99 97 99 99 90   TEEAVEEK  CID  \n",
       "4    98 96 99 97 98 99 99 98   ELAGNAAR  CID  "
      ]
     },
     "execution_count": 4,
     "metadata": {},
     "output_type": "execute_result"
    }
   ],
   "source": [
    "#read the CSV into a datadrame we name 'comet' using the pandas read_csv function\n",
    "peaks = pd.read_csv(\"/home/millieginty/Documents/git-repos/2017-etnp/data/pro2020/ETNP-SKQ17/PEAKS-PTMopt/ETNP-SKQ17-378-100m-trap_DN50.csv\")\n",
    "\n",
    "\n",
    "#look at the dataframe\n",
    "peaks.head()"
   ]
  },
  {
   "cell_type": "code",
   "execution_count": 5,
   "metadata": {
    "scrolled": true
   },
   "outputs": [
    {
     "data": {
      "text/html": [
       "<div>\n",
       "<style scoped>\n",
       "    .dataframe tbody tr th:only-of-type {\n",
       "        vertical-align: middle;\n",
       "    }\n",
       "\n",
       "    .dataframe tbody tr th {\n",
       "        vertical-align: top;\n",
       "    }\n",
       "\n",
       "    .dataframe thead th {\n",
       "        text-align: right;\n",
       "    }\n",
       "</style>\n",
       "<table border=\"1\" class=\"dataframe\">\n",
       "  <thead>\n",
       "    <tr style=\"text-align: right;\">\n",
       "      <th></th>\n",
       "      <th>Fraction</th>\n",
       "      <th>Scan</th>\n",
       "      <th>Source File</th>\n",
       "      <th>Peptide</th>\n",
       "      <th>Tag Length</th>\n",
       "      <th>ALC (%)</th>\n",
       "      <th>length</th>\n",
       "      <th>m/z</th>\n",
       "      <th>z</th>\n",
       "      <th>RT</th>\n",
       "      <th>...</th>\n",
       "      <th>n-deam</th>\n",
       "      <th>q-deam</th>\n",
       "      <th>k-hydr</th>\n",
       "      <th>p-hydr</th>\n",
       "      <th>k-meth</th>\n",
       "      <th>r-meth</th>\n",
       "      <th>stripped peptide</th>\n",
       "      <th>stripped length</th>\n",
       "      <th>ptm-total</th>\n",
       "      <th>ptm-norm</th>\n",
       "    </tr>\n",
       "  </thead>\n",
       "  <tbody>\n",
       "    <tr>\n",
       "      <th>0</th>\n",
       "      <td>4</td>\n",
       "      <td>4564</td>\n",
       "      <td>20181214_378_etnp2017_100m_trap.raw</td>\n",
       "      <td>VVEEAPK</td>\n",
       "      <td>7</td>\n",
       "      <td>99</td>\n",
       "      <td>7</td>\n",
       "      <td>386.2155</td>\n",
       "      <td>2</td>\n",
       "      <td>17.85</td>\n",
       "      <td>...</td>\n",
       "      <td>0</td>\n",
       "      <td>0</td>\n",
       "      <td>0</td>\n",
       "      <td>0</td>\n",
       "      <td>0</td>\n",
       "      <td>0</td>\n",
       "      <td>VVEEAPK</td>\n",
       "      <td>7</td>\n",
       "      <td>0</td>\n",
       "      <td>0.0</td>\n",
       "    </tr>\n",
       "    <tr>\n",
       "      <th>1</th>\n",
       "      <td>4</td>\n",
       "      <td>4574</td>\n",
       "      <td>20181214_378_etnp2017_100m_trap.raw</td>\n",
       "      <td>SLEAESR</td>\n",
       "      <td>7</td>\n",
       "      <td>98</td>\n",
       "      <td>7</td>\n",
       "      <td>396.1982</td>\n",
       "      <td>2</td>\n",
       "      <td>17.88</td>\n",
       "      <td>...</td>\n",
       "      <td>0</td>\n",
       "      <td>0</td>\n",
       "      <td>0</td>\n",
       "      <td>0</td>\n",
       "      <td>0</td>\n",
       "      <td>0</td>\n",
       "      <td>SLEAESR</td>\n",
       "      <td>7</td>\n",
       "      <td>0</td>\n",
       "      <td>0.0</td>\n",
       "    </tr>\n",
       "    <tr>\n",
       "      <th>2</th>\n",
       "      <td>4</td>\n",
       "      <td>4982</td>\n",
       "      <td>20181214_378_etnp2017_100m_trap.raw</td>\n",
       "      <td>EEDLER</td>\n",
       "      <td>6</td>\n",
       "      <td>98</td>\n",
       "      <td>6</td>\n",
       "      <td>395.6826</td>\n",
       "      <td>2</td>\n",
       "      <td>19.14</td>\n",
       "      <td>...</td>\n",
       "      <td>0</td>\n",
       "      <td>0</td>\n",
       "      <td>0</td>\n",
       "      <td>0</td>\n",
       "      <td>0</td>\n",
       "      <td>0</td>\n",
       "      <td>EEDLER</td>\n",
       "      <td>6</td>\n",
       "      <td>0</td>\n",
       "      <td>0.0</td>\n",
       "    </tr>\n",
       "    <tr>\n",
       "      <th>3</th>\n",
       "      <td>4</td>\n",
       "      <td>3812</td>\n",
       "      <td>20181214_378_etnp2017_100m_trap.raw</td>\n",
       "      <td>TEEAVEEK</td>\n",
       "      <td>8</td>\n",
       "      <td>98</td>\n",
       "      <td>8</td>\n",
       "      <td>467.7217</td>\n",
       "      <td>2</td>\n",
       "      <td>15.60</td>\n",
       "      <td>...</td>\n",
       "      <td>0</td>\n",
       "      <td>0</td>\n",
       "      <td>0</td>\n",
       "      <td>0</td>\n",
       "      <td>0</td>\n",
       "      <td>0</td>\n",
       "      <td>TEEAVEEK</td>\n",
       "      <td>8</td>\n",
       "      <td>0</td>\n",
       "      <td>0.0</td>\n",
       "    </tr>\n",
       "    <tr>\n",
       "      <th>4</th>\n",
       "      <td>4</td>\n",
       "      <td>3992</td>\n",
       "      <td>20181214_378_etnp2017_100m_trap.raw</td>\n",
       "      <td>ELAGNAAR</td>\n",
       "      <td>8</td>\n",
       "      <td>97</td>\n",
       "      <td>8</td>\n",
       "      <td>401.2144</td>\n",
       "      <td>2</td>\n",
       "      <td>16.13</td>\n",
       "      <td>...</td>\n",
       "      <td>0</td>\n",
       "      <td>0</td>\n",
       "      <td>0</td>\n",
       "      <td>0</td>\n",
       "      <td>0</td>\n",
       "      <td>0</td>\n",
       "      <td>ELAGNAAR</td>\n",
       "      <td>8</td>\n",
       "      <td>0</td>\n",
       "      <td>0.0</td>\n",
       "    </tr>\n",
       "  </tbody>\n",
       "</table>\n",
       "<p>5 rows × 29 columns</p>\n",
       "</div>"
      ],
      "text/plain": [
       "   Fraction  Scan                          Source File   Peptide  Tag Length  \\\n",
       "0         4  4564  20181214_378_etnp2017_100m_trap.raw   VVEEAPK           7   \n",
       "1         4  4574  20181214_378_etnp2017_100m_trap.raw   SLEAESR           7   \n",
       "2         4  4982  20181214_378_etnp2017_100m_trap.raw    EEDLER           6   \n",
       "3         4  3812  20181214_378_etnp2017_100m_trap.raw  TEEAVEEK           8   \n",
       "4         4  3992  20181214_378_etnp2017_100m_trap.raw  ELAGNAAR           8   \n",
       "\n",
       "   ALC (%)  length       m/z  z     RT  ...  n-deam  q-deam  k-hydr p-hydr  \\\n",
       "0       99       7  386.2155  2  17.85  ...       0       0       0      0   \n",
       "1       98       7  396.1982  2  17.88  ...       0       0       0      0   \n",
       "2       98       6  395.6826  2  19.14  ...       0       0       0      0   \n",
       "3       98       8  467.7217  2  15.60  ...       0       0       0      0   \n",
       "4       97       8  401.2144  2  16.13  ...       0       0       0      0   \n",
       "\n",
       "  k-meth r-meth stripped peptide  stripped length  ptm-total  ptm-norm  \n",
       "0      0      0          VVEEAPK                7          0       0.0  \n",
       "1      0      0          SLEAESR                7          0       0.0  \n",
       "2      0      0           EEDLER                6          0       0.0  \n",
       "3      0      0         TEEAVEEK                8          0       0.0  \n",
       "4      0      0         ELAGNAAR                8          0       0.0  \n",
       "\n",
       "[5 rows x 29 columns]"
      ]
     },
     "execution_count": 5,
     "metadata": {},
     "output_type": "execute_result"
    }
   ],
   "source": [
    "# use a count function to enumerate the # of ccarbamidomethylated C's in each peptide\n",
    "peaks['c-carb'] = peaks['Peptide'].str.count(\"57.02\")\n",
    "\n",
    "# use a count function to enumerate the # of oxidized M's in each peptide\n",
    "peaks['m-oxid'] = peaks['Peptide'].str.count(\"15.99\")\n",
    "\n",
    "# use a lamba function to enumerate the # of deamidated N's in each peptide\n",
    "# used to use peaks['n-deam'] = peaks['Peptide'].str.count(\"N\\(+.98\") but that didn't work with the 'N'\n",
    "\n",
    "peaks['n-deam'] = peaks['Peptide'].apply(lambda x: x.count('N(+.98)'))\n",
    "\n",
    "# use a count function to enumerate the # of deamidated Q's in each peptide\n",
    "peaks['q-deam'] = peaks['Peptide'].apply(lambda x: x.count('Q(+.98)'))\n",
    "\n",
    "# use a count function to enumerate the # of hydroxylated K's in each peptide\n",
    "peaks['k-hydr'] = peaks['Peptide'].apply(lambda x: x.count('K(+15.99)'))\n",
    "\n",
    "# use a count function to enumerate the # of hydroxylated P's in each peptide\n",
    "peaks['p-hydr'] = peaks['Peptide'].apply(lambda x: x.count('P(+15.99)'))\n",
    "\n",
    "# use a count function to enumerate the # of methylated K's in each peptide\n",
    "peaks['k-meth'] = peaks['Peptide'].apply(lambda x: x.count('K(+14.02)'))\n",
    "\n",
    "# use a count function to enumerate the # of methylated R's in each peptide\n",
    "peaks['r-meth'] = peaks['Peptide'].apply(lambda x: x.count('R(+14.02)'))\n",
    "\n",
    "# create a column with 'stripped' peptide sequences using strip\n",
    "peaks['stripped peptide'] = peaks['Peptide'].str.replace(r\"\\(.*\\)\",\"\")\n",
    "\n",
    "# add a column with the stripped peptide length (number of AAs)\n",
    "peaks['stripped length'] = peaks['stripped peptide'].apply(len)\n",
    "\n",
    "# total the number of modifications in sequence\n",
    "peaks['ptm-total'] = peaks['c-carb'] + peaks['m-oxid'] + peaks['n-deam'] + peaks['q-deam'] + peaks['k-hydr'] + peaks['p-hydr'] + peaks['k-meth'] + peaks['r-meth']\n",
    "\n",
    "# total the number of modifications in sequence relative to # of AAs\n",
    "peaks['ptm-norm'] = peaks['ptm-total'] / peaks['stripped length']\n",
    "\n",
    "# write modified dataframe to new txt file, same name + 'stripped'\n",
    "peaks.to_csv(\"/home/millieginty/Documents/git-repos/2017-etnp/data/pro2020/ETNP-SKQ17/PEAKS-PTMopt/ETNP-SKQ17-378-100m-trap_DN50_stripped.csv\")\n",
    "\n",
    "\n",
    "# check out the results\n",
    "peaks.head()"
   ]
  },
  {
   "cell_type": "markdown",
   "metadata": {},
   "source": [
    "### Visualizing the results"
   ]
  },
  {
   "cell_type": "code",
   "execution_count": 6,
   "metadata": {},
   "outputs": [
    {
     "name": "stdout",
     "output_type": "stream",
     "text": [
      "ALC max:  99\n",
      "ALC min:  50\n"
     ]
    }
   ],
   "source": [
    "print(\"ALC max: \", peaks['ALC (%)'].max())\n",
    "print(\"ALC min: \", peaks['ALC (%)'].min())"
   ]
  },
  {
   "cell_type": "code",
   "execution_count": 39,
   "metadata": {
    "scrolled": true
   },
   "outputs": [
    {
     "data": {
      "text/plain": [
       "Text(0.5, 1.0, 'Arginine methylation')"
      ]
     },
     "execution_count": 39,
     "metadata": {},
     "output_type": "execute_result"
    },
    {
     "data": {
      "image/png": "[encoded data removed]",
      "text/plain": [
       "<Figure size 432x288 with 1 Axes>"
      ]
     },
     "metadata": {
      "needs_background": "light"
     },
     "output_type": "display_data"
    },
    {
     "data": {
      "image/png": "[encoded data removed]",
      "text/plain": [
       "<Figure size 432x288 with 1 Axes>"
      ]
     },
     "metadata": {
      "needs_background": "light"
     },
     "output_type": "display_data"
    },
    {
     "data": {
      "image/png": "[encoded data removed]",
      "text/plain": [
       "<Figure size 432x288 with 1 Axes>"
      ]
     },
     "metadata": {
      "needs_background": "light"
     },
     "output_type": "display_data"
    },
    {
     "data": {
      "image/png": "[encoded data removed]",
      "text/plain": [
       "<Figure size 432x288 with 1 Axes>"
      ]
     },
     "metadata": {
      "needs_background": "light"
     },
     "output_type": "display_data"
    },
    {
     "data": {
      "image/png": "[encoded data removed]",
      "text/plain": [
       "<Figure size 432x288 with 1 Axes>"
      ]
     },
     "metadata": {
      "needs_background": "light"
     },
     "output_type": "display_data"
    },
    {
     "data": {
      "image/png": "[encoded data removed]",
      "text/plain": [
       "<Figure size 432x288 with 1 Axes>"
      ]
     },
     "metadata": {
      "needs_background": "light"
     },
     "output_type": "display_data"
    },
    {
     "data": {
      "image/png": "[encoded data removed]",
      "text/plain": [
       "<Figure size 432x288 with 1 Axes>"
      ]
     },
     "metadata": {
      "needs_background": "light"
     },
     "output_type": "display_data"
    },
    {
     "data": {
      "image/png": "[encoded data removed]",
      "text/plain": [
       "<Figure size 432x288 with 1 Axes>"
      ]
     },
     "metadata": {
      "needs_background": "light"
     },
     "output_type": "display_data"
    },
    {
     "data": {
      "image/png": "[encoded data removed]",
      "text/plain": [
       "<Figure size 432x288 with 1 Axes>"
      ]
     },
     "metadata": {
      "needs_background": "light"
     },
     "output_type": "display_data"
    }
   ],
   "source": [
    "# making evenly spaced bins for the ALC data based on the min and max, called above\n",
    "bins = [50, 55, 60, 65, 70, 75, 80, 85, 90, 95, 100]\n",
    "labels = ['50-55', '55-60', '60-65', '65-70', '70-75', '75-80', '80-85', '85-90', '90-95', '95-100']\n",
    "\n",
    "# use pandas cut function to do the binning itself\n",
    "peaks['binned'] = pd.cut(peaks['ALC (%)'], bins=bins, labels=labels)\n",
    "\n",
    "# bar plots of binned PTM data\n",
    "\n",
    "index = ['50-55', '55-60', '60-65', '65-70', '70-75', '75-80', '80-85', '85-90', '90-95', '95-100']\n",
    "data = {'Total PTMs': [peaks.groupby('binned')['ptm-total'].sum()['50-55'], peaks.groupby('binned')['ptm-total'].sum()['55-60'], peaks.groupby('binned')['ptm-total'].sum()['60-65'], peaks.groupby('binned')['ptm-total'].sum()['65-70'], peaks.groupby('binned')['ptm-total'].sum()['70-75'], peaks.groupby('binned')['ptm-total'].sum()['75-80'], peaks.groupby('binned')['ptm-total'].sum()['80-85'], peaks.groupby('binned')['ptm-total'].sum()['85-90'], peaks.groupby('binned')['ptm-total'].sum()['90-95'], peaks.groupby('binned')['ptm-total'].sum()['95-100']],\n",
    "        'Cys carb.': [peaks.groupby('binned')['c-carb'].sum()['50-55'], peaks.groupby('binned')['c-carb'].sum()['55-60'], peaks.groupby('binned')['c-carb'].sum()['60-65'], peaks.groupby('binned')['c-carb'].sum()['65-70'], peaks.groupby('binned')['c-carb'].sum()['70-75'], peaks.groupby('binned')['c-carb'].sum()['75-80'], peaks.groupby('binned')['c-carb'].sum()['80-85'], peaks.groupby('binned')['c-carb'].sum()['85-90'], peaks.groupby('binned')['c-carb'].sum()['90-95'], peaks.groupby('binned')['c-carb'].sum()['95-100']],\n",
    "        'Met oxi.': [peaks.groupby('binned')['m-oxid'].sum()['50-55'], peaks.groupby('binned')['m-oxid'].sum()['55-60'], peaks.groupby('binned')['m-oxid'].sum()['60-65'], peaks.groupby('binned')['m-oxid'].sum()['65-70'], peaks.groupby('binned')['m-oxid'].sum()['70-75'], peaks.groupby('binned')['m-oxid'].sum()['75-80'], peaks.groupby('binned')['m-oxid'].sum()['80-85'], peaks.groupby('binned')['m-oxid'].sum()['85-90'], peaks.groupby('binned')['m-oxid'].sum()['90-95'], peaks.groupby('binned')['m-oxid'].sum()['95-100']],\n",
    "        'Asp deam.': [peaks.groupby('binned')['n-deam'].sum()['50-55'], peaks.groupby('binned')['n-deam'].sum()['55-60'], peaks.groupby('binned')['n-deam'].sum()['60-65'], peaks.groupby('binned')['n-deam'].sum()['65-70'], peaks.groupby('binned')['n-deam'].sum()['70-75'], peaks.groupby('binned')['n-deam'].sum()['75-80'], peaks.groupby('binned')['n-deam'].sum()['80-85'], peaks.groupby('binned')['n-deam'].sum()['85-90'], peaks.groupby('binned')['n-deam'].sum()['90-95'], peaks.groupby('binned')['n-deam'].sum()['95-100']],\n",
    "        'Glut deam.': [peaks.groupby('binned')['q-deam'].sum()['50-55'], peaks.groupby('binned')['q-deam'].sum()['55-60'], peaks.groupby('binned')['q-deam'].sum()['60-65'], peaks.groupby('binned')['q-deam'].sum()['65-70'], peaks.groupby('binned')['q-deam'].sum()['70-75'], peaks.groupby('binned')['q-deam'].sum()['75-80'], peaks.groupby('binned')['q-deam'].sum()['80-85'], peaks.groupby('binned')['q-deam'].sum()['85-90'], peaks.groupby('binned')['q-deam'].sum()['90-95'], peaks.groupby('binned')['q-deam'].sum()['95-100']],\n",
    "        'Lys hydr': [peaks.groupby('binned')['k-hydr'].sum()['50-55'], peaks.groupby('binned')['k-hydr'].sum()['55-60'], peaks.groupby('binned')['k-hydr'].sum()['60-65'], peaks.groupby('binned')['k-hydr'].sum()['65-70'], peaks.groupby('binned')['k-hydr'].sum()['70-75'], peaks.groupby('binned')['k-hydr'].sum()['75-80'], peaks.groupby('binned')['k-hydr'].sum()['80-85'], peaks.groupby('binned')['k-hydr'].sum()['85-90'], peaks.groupby('binned')['k-hydr'].sum()['90-95'], peaks.groupby('binned')['k-hydr'].sum()['95-100']],\n",
    "        'Pro hydr': [peaks.groupby('binned')['p-hydr'].sum()['50-55'], peaks.groupby('binned')['p-hydr'].sum()['55-60'], peaks.groupby('binned')['p-hydr'].sum()['60-65'], peaks.groupby('binned')['p-hydr'].sum()['65-70'], peaks.groupby('binned')['p-hydr'].sum()['70-75'], peaks.groupby('binned')['p-hydr'].sum()['75-80'], peaks.groupby('binned')['p-hydr'].sum()['80-85'], peaks.groupby('binned')['p-hydr'].sum()['85-90'], peaks.groupby('binned')['p-hydr'].sum()['90-95'], peaks.groupby('binned')['p-hydr'].sum()['95-100']],\n",
    "        'Lys meth.': [peaks.groupby('binned')['k-meth'].sum()['50-55'], peaks.groupby('binned')['k-meth'].sum()['55-60'], peaks.groupby('binned')['k-meth'].sum()['60-65'], peaks.groupby('binned')['k-meth'].sum()['65-70'], peaks.groupby('binned')['k-meth'].sum()['70-75'], peaks.groupby('binned')['k-meth'].sum()['75-80'], peaks.groupby('binned')['k-meth'].sum()['80-85'], peaks.groupby('binned')['k-meth'].sum()['85-90'], peaks.groupby('binned')['k-meth'].sum()['90-95'], peaks.groupby('binned')['k-meth'].sum()['95-100']],\n",
    "        'Arg meth.': [peaks.groupby('binned')['r-meth'].sum()['50-55'], peaks.groupby('binned')['r-meth'].sum()['55-60'], peaks.groupby('binned')['r-meth'].sum()['60-65'], peaks.groupby('binned')['r-meth'].sum()['65-70'], peaks.groupby('binned')['r-meth'].sum()['70-75'], peaks.groupby('binned')['r-meth'].sum()['75-80'], peaks.groupby('binned')['r-meth'].sum()['80-85'], peaks.groupby('binned')['r-meth'].sum()['85-90'], peaks.groupby('binned')['r-meth'].sum()['90-95'], peaks.groupby('binned')['r-meth'].sum()['95-100']]\n",
    "        }\n",
    "\n",
    "peaksbin = pd.DataFrame(data, columns=['Total PTMs','Cys carb.','Met oxi.','Asp deam.', 'Glut deam.', 'Lys hydr', 'Pro hydr', 'Lys meth.', 'Arg meth.'], index=index)\n",
    "\n",
    "# write the peaks bin ptm dataframe to a csv:\n",
    "peaksbin.to_csv(\"/home/millieginty/Documents/git-repos/2017-etnp/data/pro2020/ETNP-SKQ17/PEAKS-PTMopt/ETNP-SKQ17-378-100m-trap_DN50_ptm.csv\")\n",
    "\n",
    "ax1 = peaksbin.plot.bar(y='Total PTMs', rot=45)\n",
    "ax1.set_title('Total PTMs')\n",
    "\n",
    "ax2 = peaksbin.plot.bar(y='Cys carb.', rot=45)\n",
    "ax2.set_title('Cysteine carbamidomethylation')\n",
    "\n",
    "ax3 = peaksbin.plot.bar(y='Met oxi.', rot=45)\n",
    "ax3.set_title('Methionine oxidation')\n",
    "\n",
    "ax4 = peaksbin.plot.bar(y='Asp deam.', rot=45)\n",
    "ax4.set_title('Asparagine deamidation')\n",
    "\n",
    "ax5 = peaksbin.plot.bar(y='Glut deam.', rot=45)\n",
    "ax5.set_title('Glutamine deamidation')\n",
    "\n",
    "ax6 = peaksbin.plot.bar(y='Lys hydr', rot=45)\n",
    "ax6.set_title('Lysine hydroxylation')\n",
    "\n",
    "ax7 = peaksbin.plot.bar(y='Pro hydr', rot=45)\n",
    "ax7.set_title('Proline hydroxylation')\n",
    "\n",
    "ax8 = peaksbin.plot.bar(y='Lys meth.', rot=45)\n",
    "ax8.set_title('Lysine methylation')\n",
    "\n",
    "ax9 = peaksbin.plot.bar(y='Arg meth.', rot=45)\n",
    "ax9.set_title('Arginine methylation')\n"
   ]
  },
  {
   "cell_type": "code",
   "execution_count": 49,
   "metadata": {},
   "outputs": [
    {
     "name": "stdout",
     "output_type": "stream",
     "text": [
      "        Total PTMs  Cys carb.  Met oxi.  Asp deam.  Glut deam.  Lys hydr  \\\n",
      "50-55        478.0       61.0     178.0       29.0         1.0      48.0   \n",
      "55-60        368.0       47.0     129.0       19.0         0.0      35.0   \n",
      "60-65        319.0       20.0     111.0       26.0         1.0      27.0   \n",
      "65-70        372.0       32.0     131.0       29.0         1.0      27.0   \n",
      "70-75        256.0       26.0      90.0       15.0         5.0      28.0   \n",
      "75-80        212.0       13.0      70.0       22.0         1.0      16.0   \n",
      "80-85        195.0        5.0      66.0       18.0         6.0      16.0   \n",
      "85-90        133.0        4.0      38.0       22.0         5.0       7.0   \n",
      "90-95         85.0        9.0      26.0       20.0         2.0       2.0   \n",
      "95-100        19.0        3.0       2.0       11.0         2.0       0.0   \n",
      "sums       17059.0     1540.0    5887.0     1477.0       168.0    1442.0   \n",
      "rel            NaN        NaN       NaN        NaN         NaN       NaN   \n",
      "\n",
      "        Pro hydr  Lys meth.  Arg meth.  sums  \n",
      "50-55       68.0       44.0       49.0   NaN  \n",
      "55-60       55.0       50.0       33.0   NaN  \n",
      "60-65       57.0       37.0       40.0   NaN  \n",
      "65-70       72.0       36.0       44.0   NaN  \n",
      "70-75       37.0       22.0       33.0   NaN  \n",
      "75-80       32.0       29.0       29.0   NaN  \n",
      "80-85       35.0       21.0       28.0   NaN  \n",
      "85-90       22.0        8.0       27.0   NaN  \n",
      "90-95       15.0        3.0        8.0   NaN  \n",
      "95-100       0.0        0.0        1.0   NaN  \n",
      "sums      2751.0     1750.0     2044.0   0.0  \n",
      "rel          NaN        NaN        NaN   0.0  \n"
     ]
    }
   ],
   "source": [
    "peaksbin['Total PTMs'] = pd.to_numeric(peaksbin['Total PTMs'])\n",
    "\n",
    "peaksbin.loc['sums'] = peaksbin.sum(numeric_only=True, axis=0)\n",
    "\n",
    "peaksbin.loc['rel'] = peaksbin.div(2)['sums']\n",
    "\n",
    "print(peaksbin)"
   ]
  },
  {
   "cell_type": "code",
   "execution_count": 37,
   "metadata": {},
   "outputs": [
    {
     "ename": "KeyError",
     "evalue": "('ptm-total', 'c-carb')",
     "output_type": "error",
     "traceback": [
      "\u001b[0;31m---------------------------------------------------------------------------\u001b[0m",
      "\u001b[0;31mKeyError\u001b[0m                                  Traceback (most recent call last)",
      "\u001b[0;32m~/anaconda3/lib/python3.8/site-packages/pandas/core/indexes/base.py\u001b[0m in \u001b[0;36mget_loc\u001b[0;34m(self, key, method, tolerance)\u001b[0m\n\u001b[1;32m   2645\u001b[0m             \u001b[0;32mtry\u001b[0m\u001b[0;34m:\u001b[0m\u001b[0;34m\u001b[0m\u001b[0;34m\u001b[0m\u001b[0m\n\u001b[0;32m-> 2646\u001b[0;31m                 \u001b[0;32mreturn\u001b[0m \u001b[0mself\u001b[0m\u001b[0;34m.\u001b[0m\u001b[0m_engine\u001b[0m\u001b[0;34m.\u001b[0m\u001b[0mget_loc\u001b[0m\u001b[0;34m(\u001b[0m\u001b[0mkey\u001b[0m\u001b[0;34m)\u001b[0m\u001b[0;34m\u001b[0m\u001b[0;34m\u001b[0m\u001b[0m\n\u001b[0m\u001b[1;32m   2647\u001b[0m             \u001b[0;32mexcept\u001b[0m \u001b[0mKeyError\u001b[0m\u001b[0;34m:\u001b[0m\u001b[0;34m\u001b[0m\u001b[0;34m\u001b[0m\u001b[0m\n",
      "\u001b[0;32mpandas/_libs/index.pyx\u001b[0m in \u001b[0;36mpandas._libs.index.IndexEngine.get_loc\u001b[0;34m()\u001b[0m\n",
      "\u001b[0;32mpandas/_libs/index.pyx\u001b[0m in \u001b[0;36mpandas._libs.index.IndexEngine.get_loc\u001b[0;34m()\u001b[0m\n",
      "\u001b[0;32mpandas/_libs/hashtable_class_helper.pxi\u001b[0m in \u001b[0;36mpandas._libs.hashtable.PyObjectHashTable.get_item\u001b[0;34m()\u001b[0m\n",
      "\u001b[0;32mpandas/_libs/hashtable_class_helper.pxi\u001b[0m in \u001b[0;36mpandas._libs.hashtable.PyObjectHashTable.get_item\u001b[0;34m()\u001b[0m\n",
      "\u001b[0;31mKeyError\u001b[0m: ('ptm-total', 'c-carb')",
      "\nDuring handling of the above exception, another exception occurred:\n",
      "\u001b[0;31mKeyError\u001b[0m                                  Traceback (most recent call last)",
      "\u001b[0;32m<ipython-input-37-78a9d4a4943a>\u001b[0m in \u001b[0;36m<module>\u001b[0;34m\u001b[0m\n\u001b[1;32m      1\u001b[0m \u001b[0;31m#index = ['ptm-total', 'c-carb', 'm-oxid', 'n-deam', 'q-deam', 'k-hydr', 'p-hydr', 'k-meth', 'r-meth']\u001b[0m\u001b[0;34m\u001b[0m\u001b[0;34m\u001b[0m\u001b[0;34m\u001b[0m\u001b[0m\n\u001b[0;32m----> 2\u001b[0;31m \u001b[0mpeaks\u001b[0m\u001b[0;34m[\u001b[0m\u001b[0;34m'ptm-total'\u001b[0m\u001b[0;34m,\u001b[0m \u001b[0;34m'c-carb'\u001b[0m\u001b[0;34m]\u001b[0m \u001b[0;34m=\u001b[0m \u001b[0mpd\u001b[0m\u001b[0;34m.\u001b[0m\u001b[0mto_numeric\u001b[0m\u001b[0;34m(\u001b[0m\u001b[0mpeaks\u001b[0m\u001b[0;34m[\u001b[0m\u001b[0;34m'ptm-total'\u001b[0m\u001b[0;34m,\u001b[0m \u001b[0;34m'c-carb'\u001b[0m\u001b[0;34m]\u001b[0m\u001b[0;34m)\u001b[0m\u001b[0;34m\u001b[0m\u001b[0;34m\u001b[0m\u001b[0m\n\u001b[0m\u001b[1;32m      3\u001b[0m \u001b[0;34m\u001b[0m\u001b[0m\n\u001b[1;32m      4\u001b[0m \u001b[0mdata\u001b[0m \u001b[0;34m=\u001b[0m \u001b[0;34m{\u001b[0m\u001b[0;34m'1'\u001b[0m\u001b[0;34m:\u001b[0m \u001b[0;34m[\u001b[0m\u001b[0mpeaks\u001b[0m\u001b[0;34m[\u001b[0m\u001b[0;34m'ptm-total'\u001b[0m\u001b[0;34m]\u001b[0m\u001b[0;34m.\u001b[0m\u001b[0msum\u001b[0m\u001b[0;34m(\u001b[0m\u001b[0;34m)\u001b[0m\u001b[0;34m]\u001b[0m\u001b[0;34m,\u001b[0m \u001b[0;34m'2'\u001b[0m\u001b[0;34m:\u001b[0m \u001b[0;34m[\u001b[0m\u001b[0mpeaks\u001b[0m\u001b[0;34m[\u001b[0m\u001b[0;34m'c-carb'\u001b[0m\u001b[0;34m]\u001b[0m\u001b[0;34m.\u001b[0m\u001b[0msum\u001b[0m\u001b[0;34m(\u001b[0m\u001b[0;34m)\u001b[0m\u001b[0;34m]\u001b[0m\u001b[0;34m}\u001b[0m\u001b[0;34m\u001b[0m\u001b[0;34m\u001b[0m\u001b[0m\n\u001b[1;32m      5\u001b[0m \u001b[0;31m#data = {peaks[['ptm-total', 'c-carb', 'm-oxid', 'n-deam', 'q-deam', 'k-hydr', 'p-hydr', 'k-meth', 'r-meth' ]].sum()}\u001b[0m\u001b[0;34m\u001b[0m\u001b[0;34m\u001b[0m\u001b[0;34m\u001b[0m\u001b[0m\n",
      "\u001b[0;32m~/anaconda3/lib/python3.8/site-packages/pandas/core/frame.py\u001b[0m in \u001b[0;36m__getitem__\u001b[0;34m(self, key)\u001b[0m\n\u001b[1;32m   2798\u001b[0m             \u001b[0;32mif\u001b[0m \u001b[0mself\u001b[0m\u001b[0;34m.\u001b[0m\u001b[0mcolumns\u001b[0m\u001b[0;34m.\u001b[0m\u001b[0mnlevels\u001b[0m \u001b[0;34m>\u001b[0m \u001b[0;36m1\u001b[0m\u001b[0;34m:\u001b[0m\u001b[0;34m\u001b[0m\u001b[0;34m\u001b[0m\u001b[0m\n\u001b[1;32m   2799\u001b[0m                 \u001b[0;32mreturn\u001b[0m \u001b[0mself\u001b[0m\u001b[0;34m.\u001b[0m\u001b[0m_getitem_multilevel\u001b[0m\u001b[0;34m(\u001b[0m\u001b[0mkey\u001b[0m\u001b[0;34m)\u001b[0m\u001b[0;34m\u001b[0m\u001b[0;34m\u001b[0m\u001b[0m\n\u001b[0;32m-> 2800\u001b[0;31m             \u001b[0mindexer\u001b[0m \u001b[0;34m=\u001b[0m \u001b[0mself\u001b[0m\u001b[0;34m.\u001b[0m\u001b[0mcolumns\u001b[0m\u001b[0;34m.\u001b[0m\u001b[0mget_loc\u001b[0m\u001b[0;34m(\u001b[0m\u001b[0mkey\u001b[0m\u001b[0;34m)\u001b[0m\u001b[0;34m\u001b[0m\u001b[0;34m\u001b[0m\u001b[0m\n\u001b[0m\u001b[1;32m   2801\u001b[0m             \u001b[0;32mif\u001b[0m \u001b[0mis_integer\u001b[0m\u001b[0;34m(\u001b[0m\u001b[0mindexer\u001b[0m\u001b[0;34m)\u001b[0m\u001b[0;34m:\u001b[0m\u001b[0;34m\u001b[0m\u001b[0;34m\u001b[0m\u001b[0m\n\u001b[1;32m   2802\u001b[0m                 \u001b[0mindexer\u001b[0m \u001b[0;34m=\u001b[0m \u001b[0;34m[\u001b[0m\u001b[0mindexer\u001b[0m\u001b[0;34m]\u001b[0m\u001b[0;34m\u001b[0m\u001b[0;34m\u001b[0m\u001b[0m\n",
      "\u001b[0;32m~/anaconda3/lib/python3.8/site-packages/pandas/core/indexes/base.py\u001b[0m in \u001b[0;36mget_loc\u001b[0;34m(self, key, method, tolerance)\u001b[0m\n\u001b[1;32m   2646\u001b[0m                 \u001b[0;32mreturn\u001b[0m \u001b[0mself\u001b[0m\u001b[0;34m.\u001b[0m\u001b[0m_engine\u001b[0m\u001b[0;34m.\u001b[0m\u001b[0mget_loc\u001b[0m\u001b[0;34m(\u001b[0m\u001b[0mkey\u001b[0m\u001b[0;34m)\u001b[0m\u001b[0;34m\u001b[0m\u001b[0;34m\u001b[0m\u001b[0m\n\u001b[1;32m   2647\u001b[0m             \u001b[0;32mexcept\u001b[0m \u001b[0mKeyError\u001b[0m\u001b[0;34m:\u001b[0m\u001b[0;34m\u001b[0m\u001b[0;34m\u001b[0m\u001b[0m\n\u001b[0;32m-> 2648\u001b[0;31m                 \u001b[0;32mreturn\u001b[0m \u001b[0mself\u001b[0m\u001b[0;34m.\u001b[0m\u001b[0m_engine\u001b[0m\u001b[0;34m.\u001b[0m\u001b[0mget_loc\u001b[0m\u001b[0;34m(\u001b[0m\u001b[0mself\u001b[0m\u001b[0;34m.\u001b[0m\u001b[0m_maybe_cast_indexer\u001b[0m\u001b[0;34m(\u001b[0m\u001b[0mkey\u001b[0m\u001b[0;34m)\u001b[0m\u001b[0;34m)\u001b[0m\u001b[0;34m\u001b[0m\u001b[0;34m\u001b[0m\u001b[0m\n\u001b[0m\u001b[1;32m   2649\u001b[0m         \u001b[0mindexer\u001b[0m \u001b[0;34m=\u001b[0m \u001b[0mself\u001b[0m\u001b[0;34m.\u001b[0m\u001b[0mget_indexer\u001b[0m\u001b[0;34m(\u001b[0m\u001b[0;34m[\u001b[0m\u001b[0mkey\u001b[0m\u001b[0;34m]\u001b[0m\u001b[0;34m,\u001b[0m \u001b[0mmethod\u001b[0m\u001b[0;34m=\u001b[0m\u001b[0mmethod\u001b[0m\u001b[0;34m,\u001b[0m \u001b[0mtolerance\u001b[0m\u001b[0;34m=\u001b[0m\u001b[0mtolerance\u001b[0m\u001b[0;34m)\u001b[0m\u001b[0;34m\u001b[0m\u001b[0;34m\u001b[0m\u001b[0m\n\u001b[1;32m   2650\u001b[0m         \u001b[0;32mif\u001b[0m \u001b[0mindexer\u001b[0m\u001b[0;34m.\u001b[0m\u001b[0mndim\u001b[0m \u001b[0;34m>\u001b[0m \u001b[0;36m1\u001b[0m \u001b[0;32mor\u001b[0m \u001b[0mindexer\u001b[0m\u001b[0;34m.\u001b[0m\u001b[0msize\u001b[0m \u001b[0;34m>\u001b[0m \u001b[0;36m1\u001b[0m\u001b[0;34m:\u001b[0m\u001b[0;34m\u001b[0m\u001b[0;34m\u001b[0m\u001b[0m\n",
      "\u001b[0;32mpandas/_libs/index.pyx\u001b[0m in \u001b[0;36mpandas._libs.index.IndexEngine.get_loc\u001b[0;34m()\u001b[0m\n",
      "\u001b[0;32mpandas/_libs/index.pyx\u001b[0m in \u001b[0;36mpandas._libs.index.IndexEngine.get_loc\u001b[0;34m()\u001b[0m\n",
      "\u001b[0;32mpandas/_libs/hashtable_class_helper.pxi\u001b[0m in \u001b[0;36mpandas._libs.hashtable.PyObjectHashTable.get_item\u001b[0;34m()\u001b[0m\n",
      "\u001b[0;32mpandas/_libs/hashtable_class_helper.pxi\u001b[0m in \u001b[0;36mpandas._libs.hashtable.PyObjectHashTable.get_item\u001b[0;34m()\u001b[0m\n",
      "\u001b[0;31mKeyError\u001b[0m: ('ptm-total', 'c-carb')"
     ]
    }
   ],
   "source": [
    "# make a new dataframe of relative PTM occurance\n",
    "\n",
    "# fist pass as numeric\n",
    "peaks['ptm-total', 'c-carb'] = pd.to_numeric(peaks['ptm-total', 'c-carb'])\n",
    "\n",
    "data = {'1': [peaks['ptm-total'].sum()], '2': [peaks['c-carb'].sum()]}\n",
    "#data = {peaks[['ptm-total', 'c-carb', 'm-oxid', 'n-deam', 'q-deam', 'k-hydr', 'p-hydr', 'k-meth', 'r-meth' ]].sum()}\n",
    "\n",
    "ptmrel = pd.DataFrame(data, columns = ['1', '2'])\n",
    "\n",
    "ptmrel.head()"
   ]
  },
  {
   "cell_type": "code",
   "execution_count": null,
   "metadata": {},
   "outputs": [],
   "source": []
  },
  {
   "cell_type": "markdown",
   "metadata": {},
   "source": [
    "### Exporting txt files of stripped peptides at confidence cutoffs:"
   ]
  },
  {
   "cell_type": "code",
   "execution_count": 9,
   "metadata": {},
   "outputs": [
    {
     "name": "stdout",
     "output_type": "stream",
     "text": [
      "# of DN peptide >50% ALC 1590\n"
     ]
    },
    {
     "data": {
      "text/html": [
       "<div>\n",
       "<style scoped>\n",
       "    .dataframe tbody tr th:only-of-type {\n",
       "        vertical-align: middle;\n",
       "    }\n",
       "\n",
       "    .dataframe tbody tr th {\n",
       "        vertical-align: top;\n",
       "    }\n",
       "\n",
       "    .dataframe thead th {\n",
       "        text-align: right;\n",
       "    }\n",
       "</style>\n",
       "<table border=\"1\" class=\"dataframe\">\n",
       "  <thead>\n",
       "    <tr style=\"text-align: right;\">\n",
       "      <th></th>\n",
       "      <th>stripped peptide</th>\n",
       "    </tr>\n",
       "  </thead>\n",
       "  <tbody>\n",
       "    <tr>\n",
       "      <th>0</th>\n",
       "      <td>VVEEAPK</td>\n",
       "    </tr>\n",
       "    <tr>\n",
       "      <th>1</th>\n",
       "      <td>SLEAESR</td>\n",
       "    </tr>\n",
       "    <tr>\n",
       "      <th>2</th>\n",
       "      <td>EEDLER</td>\n",
       "    </tr>\n",
       "    <tr>\n",
       "      <th>3</th>\n",
       "      <td>TEEAVEEK</td>\n",
       "    </tr>\n",
       "    <tr>\n",
       "      <th>4</th>\n",
       "      <td>ELAGNAAR</td>\n",
       "    </tr>\n",
       "  </tbody>\n",
       "</table>\n",
       "</div>"
      ],
      "text/plain": [
       "  stripped peptide\n",
       "0          VVEEAPK\n",
       "1          SLEAESR\n",
       "2           EEDLER\n",
       "3         TEEAVEEK\n",
       "4         ELAGNAAR"
      ]
     },
     "execution_count": 9,
     "metadata": {},
     "output_type": "execute_result"
    }
   ],
   "source": [
    "# keep only peptide column >50% ALC\n",
    "pep = peaks[[\"stripped peptide\"]]\n",
    "\n",
    "# write altered dataframe to new txt file\n",
    "# used header and index parameters to get rid of 'Peptide' header and the indexing\n",
    "\n",
    "pep.to_csv(\"/home/millieginty/Documents/git-repos/2017-etnp/data/pro2020/ETNP-SKQ17/PEAKS-PTMopt/ETNP-SKQ17-378-100m-trap_DN50_stripped_peptides.txt\", header=False, index=False)\n",
    "\n",
    "\n",
    "# look\n",
    "\n",
    "print(\"# of DN peptide >50% ALC\", len(pep))\n",
    "pep.head()"
   ]
  },
  {
   "cell_type": "code",
   "execution_count": 13,
   "metadata": {},
   "outputs": [
    {
     "name": "stdout",
     "output_type": "stream",
     "text": [
      "# of DN peptide >80% ALC 465\n"
     ]
    },
    {
     "data": {
      "text/html": [
       "<div>\n",
       "<style scoped>\n",
       "    .dataframe tbody tr th:only-of-type {\n",
       "        vertical-align: middle;\n",
       "    }\n",
       "\n",
       "    .dataframe tbody tr th {\n",
       "        vertical-align: top;\n",
       "    }\n",
       "\n",
       "    .dataframe thead th {\n",
       "        text-align: right;\n",
       "    }\n",
       "</style>\n",
       "<table border=\"1\" class=\"dataframe\">\n",
       "  <thead>\n",
       "    <tr style=\"text-align: right;\">\n",
       "      <th></th>\n",
       "      <th>stripped peptide</th>\n",
       "    </tr>\n",
       "  </thead>\n",
       "  <tbody>\n",
       "    <tr>\n",
       "      <th>0</th>\n",
       "      <td>VVEEAPK</td>\n",
       "    </tr>\n",
       "    <tr>\n",
       "      <th>1</th>\n",
       "      <td>SLEAESR</td>\n",
       "    </tr>\n",
       "    <tr>\n",
       "      <th>2</th>\n",
       "      <td>EEDLER</td>\n",
       "    </tr>\n",
       "    <tr>\n",
       "      <th>3</th>\n",
       "      <td>TEEAVEEK</td>\n",
       "    </tr>\n",
       "    <tr>\n",
       "      <th>4</th>\n",
       "      <td>ELAGNAAR</td>\n",
       "    </tr>\n",
       "  </tbody>\n",
       "</table>\n",
       "</div>"
      ],
      "text/plain": [
       "  stripped peptide\n",
       "0          VVEEAPK\n",
       "1          SLEAESR\n",
       "2           EEDLER\n",
       "3         TEEAVEEK\n",
       "4         ELAGNAAR"
      ]
     },
     "execution_count": 13,
     "metadata": {},
     "output_type": "execute_result"
    }
   ],
   "source": [
    "# keep only peptides  >80% ALC\n",
    "peaks80 = peaks.loc[peaks['ALC (%)'] >= 80]\n",
    "\n",
    "# see how many rows and double check\n",
    "# peaks80.head(-10)\n",
    "\n",
    "# keep only peptide column \n",
    "pep80 = peaks80[[\"stripped peptide\"]]\n",
    "\n",
    "# write altered dataframe to new txt file\n",
    "# used header and index parameters to get rid of 'Peptide' header and the indexing\n",
    "\n",
    "pep80.to_csv(\"/home/millieginty/Documents/git-repos/2017-etnp/data/pro2020/ETNP-SKQ17/PEAKS-PTMopt/ETNP-SKQ17-378-100m-trap_DN80_stripped_peptides.txt\", header=False, index=False)\n",
    "\n",
    "\n",
    "print(\"# of DN peptide >80% ALC\", len(pep80))\n",
    "pep80.head()"
   ]
  },
  {
   "cell_type": "code",
   "execution_count": null,
   "metadata": {},
   "outputs": [],
   "source": []
  }
 ],
 "metadata": {
  "kernelspec": {
   "display_name": "Python 3",
   "language": "python",
   "name": "python3"
  },
  "language_info": {
   "codemirror_mode": {
    "name": "ipython",
    "version": 3
   },
   "file_extension": ".py",
   "mimetype": "text/x-python",
   "name": "python",
   "nbconvert_exporter": "python",
   "pygments_lexer": "ipython3",
   "version": "3.8.3"
  }
 },
 "nbformat": 4,
 "nbformat_minor": 4
}
