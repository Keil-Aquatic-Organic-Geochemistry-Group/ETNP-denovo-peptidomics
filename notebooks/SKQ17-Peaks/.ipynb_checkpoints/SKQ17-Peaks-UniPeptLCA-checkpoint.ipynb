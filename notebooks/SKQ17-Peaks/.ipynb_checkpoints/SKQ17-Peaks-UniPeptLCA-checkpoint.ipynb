{
 "cells": [
  {
   "cell_type": "markdown",
   "metadata": {},
   "source": [
    "## Running PEAKS results through UniPept LCA  for ETNP OM study\n",
    "\n",
    "Starting with:\n",
    "\n",
    "    Peaks de novo results (PTM-stripped peptide sequences) from 4 POM samples\n",
    "\n",
    "Goal:\n",
    "\n",
    "    Figures comparing the modifcation type and extent in database and de novo peptides\n",
    "    \n",
    "Using:\n",
    "\n",
    "    - UniPept lowest common ancestor (LCA) peptide analysis\n",
    "    \n",
    "    - pandas\n",
    "    - matplotlib\n",
    "    - numpy"
   ]
  },
  {
   "cell_type": "code",
   "execution_count": 2,
   "metadata": {},
   "outputs": [
    {
     "data": {
      "text/plain": [
       "'1.0.5'"
      ]
     },
     "execution_count": 2,
     "metadata": {},
     "output_type": "execute_result"
    }
   ],
   "source": [
    "# LIBRARIES\n",
    "#import pandas library for working with tabular data\n",
    "import os\n",
    "os.getcwd()\n",
    "import pandas as pd\n",
    "import numpy as np\n",
    "import matplotlib.pyplot as plt\n",
    "import seaborn as sns\n",
    "from scipy.stats import kde\n",
    "#import regular expresson (regex)\n",
    "import re\n",
    "#check pandas version\n",
    "pd.__version__"
   ]
  },
  {
   "cell_type": "code",
   "execution_count": 8,
   "metadata": {},
   "outputs": [
    {
     "name": "stdout",
     "output_type": "stream",
     "text": [
      "SKQ17-231-100m-0.3-PeaksDN.ipynb   SKQ17-378-100m-trap-PeaksDN.ipynb\r\n",
      "SKQ17-233-265m-0.3-PeaksDN.ipynb   SKQ17-Peaks-combine.ipynb\r\n",
      "SKQ17-243-965m-0.3-PeaksDN.ipynb   SKQ17-Peaks-UniPeptLCA.ipynb\r\n",
      "SKQ17-273-965m-trap-PeaksDN.ipynb  SKQ17-PTMs.ipynb\r\n",
      "SKQ17-278-265m-trap-PeaksDN.ipynb\r\n"
     ]
    }
   ],
   "source": [
    "# combine all stripped peptide outputs for DN50 (>50% ALC) and DN80 (>80% ALC)\n",
    "\n"
   ]
  },
  {
   "cell_type": "markdown",
   "metadata": {},
   "source": [
    "## Unipept lowest common ancestor peptide analysis:\n",
    "\n",
    "### This tool returns the taxonomic lowest common ancestor for a given tryptic peptide. Here we're running all our de novo peptides through to determine their specificity and ability to ID organismal and functional source.\n",
    "\n",
    "### You can run the `pept2lca` command as part of a [web server](https://unipept.ugent.be/datasets) or using the command line interface ([info here](https://unipept.ugent.be/clidocs)).\n",
    "\n",
    "### I exported the LCA results to a .csv and placed into my /analysis/unipept directory:"
   ]
  },
  {
   "cell_type": "code",
   "execution_count": null,
   "metadata": {},
   "outputs": [],
   "source": []
  }
 ],
 "metadata": {
  "kernelspec": {
   "display_name": "Python 3",
   "language": "python",
   "name": "python3"
  },
  "language_info": {
   "codemirror_mode": {
    "name": "ipython",
    "version": 3
   },
   "file_extension": ".py",
   "mimetype": "text/x-python",
   "name": "python",
   "nbconvert_exporter": "python",
   "pygments_lexer": "ipython3",
   "version": "3.8.3"
  }
 },
 "nbformat": 4,
 "nbformat_minor": 4
}
