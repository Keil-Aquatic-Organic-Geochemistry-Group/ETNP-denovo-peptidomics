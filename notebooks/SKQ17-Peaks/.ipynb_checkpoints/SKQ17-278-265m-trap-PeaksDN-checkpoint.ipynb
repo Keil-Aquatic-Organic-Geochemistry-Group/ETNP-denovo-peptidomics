{
 "cells": [
  {
   "cell_type": "markdown",
   "metadata": {},
   "source": [
    "### Manipulation of Peaks de novo results of ETNP 2017 P2 samples LC-MS/MS data using python.\n",
    "\n",
    "Starting with:\n",
    "\n",
    "    Peaks de novo results (.csv) of PTM-optimized database searches\n",
    "\n",
    "Goal:\n",
    "\n",
    "    Files with stripped (no PTMs) peptide lists and\n",
    "    Columns with #'s of each modification in every sequence\n",
    "    Column with stripped peptide lengths (# amino acids)\n",
    "    \n",
    "### To use:\n",
    "\n",
    "#### 1. Change the input file name in *IN 4*\n",
    "#### 2. Change output file name in *IN 6*, *IN 7*, *IN 8*"
   ]
  },
  {
   "cell_type": "markdown",
   "metadata": {},
   "source": [
    "We don't have technical duplicates here, sadly, unlike the MED4 Pro samples. I exported PeaksDN search results CSVs into my ETNP 2017 git repo:"
   ]
  },
  {
   "cell_type": "code",
   "execution_count": 1,
   "metadata": {},
   "outputs": [
    {
     "name": "stdout",
     "output_type": "stream",
     "text": [
      "/home/millieginty/Documents/git-repos/2017-etnp/data/pro2020/ETNP-SKQ17/PEAKS-PTMopt\n"
     ]
    }
   ],
   "source": [
    "cd /home/millieginty/Documents/git-repos/2017-etnp/data/pro2020/ETNP-SKQ17/PEAKS-PTMopt/"
   ]
  },
  {
   "cell_type": "code",
   "execution_count": 2,
   "metadata": {},
   "outputs": [
    {
     "name": "stdout",
     "output_type": "stream",
     "text": [
      "ETNP-SKQ17-231-100m-0.3-JA2_DN50.csv\r\n",
      "ETNP-SKQ17-231-100m-0.3-JA2_DN50_ptm.csv\r\n",
      "ETNP-SKQ17-231-100m-0.3-JA2_DN50_stripped_peptides.txt\r\n",
      "ETNP-SKQ17-233-265m-0.3-JA4_DN50.csv\r\n",
      "ETNP-SKQ17-233-265m-0.3-JA4_DN50_ptm.csv\r\n",
      "ETNP-SKQ17-233-265m-0.3-JA4_DN50_stripped.csv\r\n",
      "ETNP-SKQ17-233-265m-0.3-JA4_DN50_stripped_peptides.txt\r\n",
      "ETNP-SKQ17-243-965m-0.3-JA14_DN50.csv\r\n",
      "ETNP-SKQ17-243-965m-0.3-JA14_DN50_ptm.csv\r\n",
      "ETNP-SKQ17-243-965m-0.3-JA14_DN50_stripped.csv\r\n",
      "ETNP-SKQ17-243-965m-0.3-JA14_DN50_stripped_peptides.txt\r\n",
      "ETNP-SKQ17-243-965m-0.3-JA14_DN80_stripped_peptides.txt\r\n",
      "ETNP-SKQ17-273-965m-trap_DN50.csv\r\n",
      "ETNP-SKQ17-273-965m-trap_DN50_ptm.csv\r\n",
      "ETNP-SKQ17-273-965m-trap_DN50_stripped.csv\r\n",
      "ETNP-SKQ17-273-965m-trap_DN50_stripped_peptides.txt\r\n",
      "ETNP-SKQ17-273-965m-trap_DN80_stripped_peptides.txt\r\n",
      "ETNP-SKQ17-278-265m-trap_DN50.csv\r\n",
      "ETNP-SKQ17-278-265m-trap_DN50_stripped.csv\r\n",
      "ETNP-SKQ17-278-265m-trap_DN50_stripped_peptides.txt\r\n",
      "ETNP-SKQ17-278-265m-trap_DN80_stripped_peptides.txt\r\n",
      "ETNP-SKQ17-378-100m-trap_DN50.csv\r\n",
      "ETNP-SKQ17-378-100m-trap_DN50_ptm.csv\r\n",
      "ETNP-SKQ17-378-100m-trap_DN50_stripped.csv\r\n",
      "ETNP-SKQ17-378-100m-trap_DN50_stripped_peptides.txt\r\n",
      "ETNP-SKQ17-378-100m-trap_DN80_stripped_peptides.txt\r\n"
     ]
    }
   ],
   "source": [
    "ls"
   ]
  },
  {
   "cell_type": "code",
   "execution_count": 3,
   "metadata": {},
   "outputs": [
    {
     "data": {
      "text/plain": [
       "'1.0.5'"
      ]
     },
     "execution_count": 3,
     "metadata": {},
     "output_type": "execute_result"
    }
   ],
   "source": [
    "# LIBRARIES\n",
    "#import pandas library for working with tabular data\n",
    "import os\n",
    "os.getcwd()\n",
    "import pandas as pd\n",
    "import numpy as np\n",
    "import matplotlib.pyplot as plt\n",
    "import seaborn as sns\n",
    "from scipy.stats import kde\n",
    "#import regular expresson (regex)\n",
    "import re\n",
    "#check pandas version\n",
    "pd.__version__"
   ]
  },
  {
   "cell_type": "markdown",
   "metadata": {},
   "source": [
    "## 278: 265 m +P filtered on 0.3 um GF-75"
   ]
  },
  {
   "cell_type": "code",
   "execution_count": 4,
   "metadata": {},
   "outputs": [
    {
     "data": {
      "text/html": [
       "<div>\n",
       "<style scoped>\n",
       "    .dataframe tbody tr th:only-of-type {\n",
       "        vertical-align: middle;\n",
       "    }\n",
       "\n",
       "    .dataframe tbody tr th {\n",
       "        vertical-align: top;\n",
       "    }\n",
       "\n",
       "    .dataframe thead th {\n",
       "        text-align: right;\n",
       "    }\n",
       "</style>\n",
       "<table border=\"1\" class=\"dataframe\">\n",
       "  <thead>\n",
       "    <tr style=\"text-align: right;\">\n",
       "      <th></th>\n",
       "      <th>Fraction</th>\n",
       "      <th>Scan</th>\n",
       "      <th>Source File</th>\n",
       "      <th>Peptide</th>\n",
       "      <th>Tag Length</th>\n",
       "      <th>ALC (%)</th>\n",
       "      <th>length</th>\n",
       "      <th>m/z</th>\n",
       "      <th>z</th>\n",
       "      <th>RT</th>\n",
       "      <th>Area</th>\n",
       "      <th>Mass</th>\n",
       "      <th>ppm</th>\n",
       "      <th>PTM</th>\n",
       "      <th>local confidence (%)</th>\n",
       "      <th>tag (&gt;=0%)</th>\n",
       "      <th>mode</th>\n",
       "    </tr>\n",
       "  </thead>\n",
       "  <tbody>\n",
       "    <tr>\n",
       "      <th>0</th>\n",
       "      <td>5</td>\n",
       "      <td>14925</td>\n",
       "      <td>20181004_4-19_265m_topP_278_90min.raw</td>\n",
       "      <td>M(+15.99)TAEELKK</td>\n",
       "      <td>8</td>\n",
       "      <td>97</td>\n",
       "      <td>8</td>\n",
       "      <td>483.2513</td>\n",
       "      <td>2</td>\n",
       "      <td>41.26</td>\n",
       "      <td>21600000.0</td>\n",
       "      <td>964.4899</td>\n",
       "      <td>-2.0</td>\n",
       "      <td>Oxidation (M)</td>\n",
       "      <td>97 98 97 99 99 98 99 96</td>\n",
       "      <td>M(+15.99)TAEELKK</td>\n",
       "      <td>CID</td>\n",
       "    </tr>\n",
       "    <tr>\n",
       "      <th>1</th>\n",
       "      <td>5</td>\n",
       "      <td>6540</td>\n",
       "      <td>20181004_4-19_265m_topP_278_90min.raw</td>\n",
       "      <td>EEDLER</td>\n",
       "      <td>6</td>\n",
       "      <td>97</td>\n",
       "      <td>6</td>\n",
       "      <td>395.6833</td>\n",
       "      <td>2</td>\n",
       "      <td>22.82</td>\n",
       "      <td>8180000.0</td>\n",
       "      <td>789.3504</td>\n",
       "      <td>2.1</td>\n",
       "      <td>NaN</td>\n",
       "      <td>99 99 97 98 99 93</td>\n",
       "      <td>EEDLER</td>\n",
       "      <td>CID</td>\n",
       "    </tr>\n",
       "    <tr>\n",
       "      <th>2</th>\n",
       "      <td>5</td>\n",
       "      <td>13192</td>\n",
       "      <td>20181004_4-19_265m_topP_278_90min.raw</td>\n",
       "      <td>SC(+57.02)DWPK</td>\n",
       "      <td>6</td>\n",
       "      <td>97</td>\n",
       "      <td>6</td>\n",
       "      <td>396.6714</td>\n",
       "      <td>2</td>\n",
       "      <td>37.44</td>\n",
       "      <td>4220000.0</td>\n",
       "      <td>791.3272</td>\n",
       "      <td>1.3</td>\n",
       "      <td>Carbamidomethylation</td>\n",
       "      <td>98 99 99 97 96 96</td>\n",
       "      <td>SC(+57.02)DWPK</td>\n",
       "      <td>CID</td>\n",
       "    </tr>\n",
       "    <tr>\n",
       "      <th>3</th>\n",
       "      <td>5</td>\n",
       "      <td>6054</td>\n",
       "      <td>20181004_4-19_265m_topP_278_90min.raw</td>\n",
       "      <td>WLEEDK</td>\n",
       "      <td>6</td>\n",
       "      <td>97</td>\n",
       "      <td>6</td>\n",
       "      <td>410.1956</td>\n",
       "      <td>2</td>\n",
       "      <td>21.80</td>\n",
       "      <td>920000.0</td>\n",
       "      <td>818.3810</td>\n",
       "      <td>-5.3</td>\n",
       "      <td>NaN</td>\n",
       "      <td>97 99 100 98 96 94</td>\n",
       "      <td>WLEEDK</td>\n",
       "      <td>CID</td>\n",
       "    </tr>\n",
       "    <tr>\n",
       "      <th>4</th>\n",
       "      <td>5</td>\n",
       "      <td>9250</td>\n",
       "      <td>20181004_4-19_265m_topP_278_90min.raw</td>\n",
       "      <td>TEAPLNPK</td>\n",
       "      <td>8</td>\n",
       "      <td>97</td>\n",
       "      <td>8</td>\n",
       "      <td>435.2410</td>\n",
       "      <td>2</td>\n",
       "      <td>28.76</td>\n",
       "      <td>46800000.0</td>\n",
       "      <td>868.4654</td>\n",
       "      <td>2.3</td>\n",
       "      <td>NaN</td>\n",
       "      <td>99 100 100 94 97 95 97 98</td>\n",
       "      <td>TEAPLNPK</td>\n",
       "      <td>CID</td>\n",
       "    </tr>\n",
       "  </tbody>\n",
       "</table>\n",
       "</div>"
      ],
      "text/plain": [
       "   Fraction   Scan                            Source File           Peptide  \\\n",
       "0         5  14925  20181004_4-19_265m_topP_278_90min.raw  M(+15.99)TAEELKK   \n",
       "1         5   6540  20181004_4-19_265m_topP_278_90min.raw            EEDLER   \n",
       "2         5  13192  20181004_4-19_265m_topP_278_90min.raw    SC(+57.02)DWPK   \n",
       "3         5   6054  20181004_4-19_265m_topP_278_90min.raw            WLEEDK   \n",
       "4         5   9250  20181004_4-19_265m_topP_278_90min.raw          TEAPLNPK   \n",
       "\n",
       "   Tag Length  ALC (%)  length       m/z  z     RT        Area      Mass  ppm  \\\n",
       "0           8       97       8  483.2513  2  41.26  21600000.0  964.4899 -2.0   \n",
       "1           6       97       6  395.6833  2  22.82   8180000.0  789.3504  2.1   \n",
       "2           6       97       6  396.6714  2  37.44   4220000.0  791.3272  1.3   \n",
       "3           6       97       6  410.1956  2  21.80    920000.0  818.3810 -5.3   \n",
       "4           8       97       8  435.2410  2  28.76  46800000.0  868.4654  2.3   \n",
       "\n",
       "                    PTM       local confidence (%)        tag (>=0%) mode  \n",
       "0         Oxidation (M)    97 98 97 99 99 98 99 96  M(+15.99)TAEELKK  CID  \n",
       "1                   NaN          99 99 97 98 99 93            EEDLER  CID  \n",
       "2  Carbamidomethylation          98 99 99 97 96 96    SC(+57.02)DWPK  CID  \n",
       "3                   NaN         97 99 100 98 96 94            WLEEDK  CID  \n",
       "4                   NaN  99 100 100 94 97 95 97 98          TEAPLNPK  CID  "
      ]
     },
     "execution_count": 4,
     "metadata": {},
     "output_type": "execute_result"
    }
   ],
   "source": [
    "#read the CSV into a datadrame we name 'comet' using the pandas read_csv function\n",
    "peaks = pd.read_csv(\"/home/millieginty/Documents/git-repos/2017-etnp/data/pro2020/ETNP-SKQ17/PEAKS-PTMopt/ETNP-SKQ17-278-265m-trap_DN50.csv\")\n",
    "\n",
    "\n",
    "#look at the dataframe\n",
    "peaks.head()"
   ]
  },
  {
   "cell_type": "code",
   "execution_count": 5,
   "metadata": {
    "scrolled": true
   },
   "outputs": [
    {
     "data": {
      "text/html": [
       "<div>\n",
       "<style scoped>\n",
       "    .dataframe tbody tr th:only-of-type {\n",
       "        vertical-align: middle;\n",
       "    }\n",
       "\n",
       "    .dataframe tbody tr th {\n",
       "        vertical-align: top;\n",
       "    }\n",
       "\n",
       "    .dataframe thead th {\n",
       "        text-align: right;\n",
       "    }\n",
       "</style>\n",
       "<table border=\"1\" class=\"dataframe\">\n",
       "  <thead>\n",
       "    <tr style=\"text-align: right;\">\n",
       "      <th></th>\n",
       "      <th>Fraction</th>\n",
       "      <th>Scan</th>\n",
       "      <th>Source File</th>\n",
       "      <th>Peptide</th>\n",
       "      <th>Tag Length</th>\n",
       "      <th>ALC (%)</th>\n",
       "      <th>length</th>\n",
       "      <th>m/z</th>\n",
       "      <th>z</th>\n",
       "      <th>RT</th>\n",
       "      <th>...</th>\n",
       "      <th>n-deam</th>\n",
       "      <th>q-deam</th>\n",
       "      <th>k-hydr</th>\n",
       "      <th>p-hydr</th>\n",
       "      <th>k-meth</th>\n",
       "      <th>r-meth</th>\n",
       "      <th>stripped peptide</th>\n",
       "      <th>stripped length</th>\n",
       "      <th>ptm-total</th>\n",
       "      <th>ptm-norm</th>\n",
       "    </tr>\n",
       "  </thead>\n",
       "  <tbody>\n",
       "    <tr>\n",
       "      <th>0</th>\n",
       "      <td>5</td>\n",
       "      <td>14925</td>\n",
       "      <td>20181004_4-19_265m_topP_278_90min.raw</td>\n",
       "      <td>M(+15.99)TAEELKK</td>\n",
       "      <td>8</td>\n",
       "      <td>97</td>\n",
       "      <td>8</td>\n",
       "      <td>483.2513</td>\n",
       "      <td>2</td>\n",
       "      <td>41.26</td>\n",
       "      <td>...</td>\n",
       "      <td>0</td>\n",
       "      <td>0</td>\n",
       "      <td>0</td>\n",
       "      <td>0</td>\n",
       "      <td>0</td>\n",
       "      <td>0</td>\n",
       "      <td>MTAEELKK</td>\n",
       "      <td>8</td>\n",
       "      <td>1</td>\n",
       "      <td>0.125000</td>\n",
       "    </tr>\n",
       "    <tr>\n",
       "      <th>1</th>\n",
       "      <td>5</td>\n",
       "      <td>6540</td>\n",
       "      <td>20181004_4-19_265m_topP_278_90min.raw</td>\n",
       "      <td>EEDLER</td>\n",
       "      <td>6</td>\n",
       "      <td>97</td>\n",
       "      <td>6</td>\n",
       "      <td>395.6833</td>\n",
       "      <td>2</td>\n",
       "      <td>22.82</td>\n",
       "      <td>...</td>\n",
       "      <td>0</td>\n",
       "      <td>0</td>\n",
       "      <td>0</td>\n",
       "      <td>0</td>\n",
       "      <td>0</td>\n",
       "      <td>0</td>\n",
       "      <td>EEDLER</td>\n",
       "      <td>6</td>\n",
       "      <td>0</td>\n",
       "      <td>0.000000</td>\n",
       "    </tr>\n",
       "    <tr>\n",
       "      <th>2</th>\n",
       "      <td>5</td>\n",
       "      <td>13192</td>\n",
       "      <td>20181004_4-19_265m_topP_278_90min.raw</td>\n",
       "      <td>SC(+57.02)DWPK</td>\n",
       "      <td>6</td>\n",
       "      <td>97</td>\n",
       "      <td>6</td>\n",
       "      <td>396.6714</td>\n",
       "      <td>2</td>\n",
       "      <td>37.44</td>\n",
       "      <td>...</td>\n",
       "      <td>0</td>\n",
       "      <td>0</td>\n",
       "      <td>0</td>\n",
       "      <td>0</td>\n",
       "      <td>0</td>\n",
       "      <td>0</td>\n",
       "      <td>SCDWPK</td>\n",
       "      <td>6</td>\n",
       "      <td>1</td>\n",
       "      <td>0.166667</td>\n",
       "    </tr>\n",
       "    <tr>\n",
       "      <th>3</th>\n",
       "      <td>5</td>\n",
       "      <td>6054</td>\n",
       "      <td>20181004_4-19_265m_topP_278_90min.raw</td>\n",
       "      <td>WLEEDK</td>\n",
       "      <td>6</td>\n",
       "      <td>97</td>\n",
       "      <td>6</td>\n",
       "      <td>410.1956</td>\n",
       "      <td>2</td>\n",
       "      <td>21.80</td>\n",
       "      <td>...</td>\n",
       "      <td>0</td>\n",
       "      <td>0</td>\n",
       "      <td>0</td>\n",
       "      <td>0</td>\n",
       "      <td>0</td>\n",
       "      <td>0</td>\n",
       "      <td>WLEEDK</td>\n",
       "      <td>6</td>\n",
       "      <td>0</td>\n",
       "      <td>0.000000</td>\n",
       "    </tr>\n",
       "    <tr>\n",
       "      <th>4</th>\n",
       "      <td>5</td>\n",
       "      <td>9250</td>\n",
       "      <td>20181004_4-19_265m_topP_278_90min.raw</td>\n",
       "      <td>TEAPLNPK</td>\n",
       "      <td>8</td>\n",
       "      <td>97</td>\n",
       "      <td>8</td>\n",
       "      <td>435.2410</td>\n",
       "      <td>2</td>\n",
       "      <td>28.76</td>\n",
       "      <td>...</td>\n",
       "      <td>0</td>\n",
       "      <td>0</td>\n",
       "      <td>0</td>\n",
       "      <td>0</td>\n",
       "      <td>0</td>\n",
       "      <td>0</td>\n",
       "      <td>TEAPLNPK</td>\n",
       "      <td>8</td>\n",
       "      <td>0</td>\n",
       "      <td>0.000000</td>\n",
       "    </tr>\n",
       "  </tbody>\n",
       "</table>\n",
       "<p>5 rows × 29 columns</p>\n",
       "</div>"
      ],
      "text/plain": [
       "   Fraction   Scan                            Source File           Peptide  \\\n",
       "0         5  14925  20181004_4-19_265m_topP_278_90min.raw  M(+15.99)TAEELKK   \n",
       "1         5   6540  20181004_4-19_265m_topP_278_90min.raw            EEDLER   \n",
       "2         5  13192  20181004_4-19_265m_topP_278_90min.raw    SC(+57.02)DWPK   \n",
       "3         5   6054  20181004_4-19_265m_topP_278_90min.raw            WLEEDK   \n",
       "4         5   9250  20181004_4-19_265m_topP_278_90min.raw          TEAPLNPK   \n",
       "\n",
       "   Tag Length  ALC (%)  length       m/z  z     RT  ...  n-deam  q-deam  \\\n",
       "0           8       97       8  483.2513  2  41.26  ...       0       0   \n",
       "1           6       97       6  395.6833  2  22.82  ...       0       0   \n",
       "2           6       97       6  396.6714  2  37.44  ...       0       0   \n",
       "3           6       97       6  410.1956  2  21.80  ...       0       0   \n",
       "4           8       97       8  435.2410  2  28.76  ...       0       0   \n",
       "\n",
       "   k-hydr p-hydr k-meth r-meth stripped peptide  stripped length  ptm-total  \\\n",
       "0       0      0      0      0         MTAEELKK                8          1   \n",
       "1       0      0      0      0           EEDLER                6          0   \n",
       "2       0      0      0      0           SCDWPK                6          1   \n",
       "3       0      0      0      0           WLEEDK                6          0   \n",
       "4       0      0      0      0         TEAPLNPK                8          0   \n",
       "\n",
       "   ptm-norm  \n",
       "0  0.125000  \n",
       "1  0.000000  \n",
       "2  0.166667  \n",
       "3  0.000000  \n",
       "4  0.000000  \n",
       "\n",
       "[5 rows x 29 columns]"
      ]
     },
     "execution_count": 5,
     "metadata": {},
     "output_type": "execute_result"
    }
   ],
   "source": [
    "# use a count function to enumerate the # of ccarbamidomethylated C's in each peptide\n",
    "peaks['c-carb'] = peaks['Peptide'].str.count(\"57.02\")\n",
    "\n",
    "# use a count function to enumerate the # of oxidized M's in each peptide\n",
    "peaks['m-oxid'] = peaks['Peptide'].str.count(\"15.99\")\n",
    "\n",
    "# use a lamba function to enumerate the # of deamidated N's in each peptide\n",
    "# used to use peaks['n-deam'] = peaks['Peptide'].str.count(\"N\\(+.98\") but that didn't work with the 'N'\n",
    "\n",
    "peaks['n-deam'] = peaks['Peptide'].apply(lambda x: x.count('N(+.98)'))\n",
    "\n",
    "# use a count function to enumerate the # of deamidated Q's in each peptide\n",
    "peaks['q-deam'] = peaks['Peptide'].apply(lambda x: x.count('Q(+.98)'))\n",
    "\n",
    "# use a count function to enumerate the # of hydroxylated K's in each peptide\n",
    "peaks['k-hydr'] = peaks['Peptide'].apply(lambda x: x.count('K(+15.99)'))\n",
    "\n",
    "# use a count function to enumerate the # of hydroxylated P's in each peptide\n",
    "peaks['p-hydr'] = peaks['Peptide'].apply(lambda x: x.count('P(+15.99)'))\n",
    "\n",
    "# use a count function to enumerate the # of methylated K's in each peptide\n",
    "peaks['k-meth'] = peaks['Peptide'].apply(lambda x: x.count('K(+14.02)'))\n",
    "\n",
    "# use a count function to enumerate the # of methylated R's in each peptide\n",
    "peaks['r-meth'] = peaks['Peptide'].apply(lambda x: x.count('R(+14.02)'))\n",
    "\n",
    "# create a column with 'stripped' peptide sequences using strip\n",
    "peaks['stripped peptide'] = peaks['Peptide'].str.replace(r\"\\(.*\\)\",\"\")\n",
    "\n",
    "# add a column with the stripped peptide length (number of AAs)\n",
    "peaks['stripped length'] = peaks['stripped peptide'].apply(len)\n",
    "\n",
    "# total the number of modifications in sequence\n",
    "peaks['ptm-total'] = peaks['c-carb'] + peaks['m-oxid'] + peaks['n-deam'] + peaks['q-deam'] + peaks['k-hydr'] + peaks['p-hydr'] + peaks['k-meth'] + peaks['r-meth']\n",
    "\n",
    "# total the number of modifications in sequence relative to # of AAs\n",
    "peaks['ptm-norm'] = peaks['ptm-total'] / peaks['stripped length']\n",
    "\n",
    "# write modified dataframe to new txt file, same name + 'stripped'\n",
    "peaks.to_csv(\"/home/millieginty/Documents/git-repos/2017-etnp/data/pro2020/ETNP-SKQ17/PEAKS-PTMopt/ETNP-SKQ17-278-265m-trap_DN50_stripped.csv\")\n",
    "\n",
    "\n",
    "# check out the results\n",
    "peaks.head()"
   ]
  },
  {
   "cell_type": "markdown",
   "metadata": {},
   "source": [
    "### Visualizing the results"
   ]
  },
  {
   "cell_type": "code",
   "execution_count": 6,
   "metadata": {},
   "outputs": [
    {
     "name": "stdout",
     "output_type": "stream",
     "text": [
      "ALC max:  97\n",
      "ALC min:  50\n"
     ]
    }
   ],
   "source": [
    "print(\"ALC max: \", peaks['ALC (%)'].max())\n",
    "print(\"ALC min: \", peaks['ALC (%)'].min())"
   ]
  },
  {
   "cell_type": "code",
   "execution_count": 7,
   "metadata": {
    "scrolled": true
   },
   "outputs": [
    {
     "data": {
      "text/plain": [
       "Text(0.5, 1.0, 'Arginine methylation')"
      ]
     },
     "execution_count": 7,
     "metadata": {},
     "output_type": "execute_result"
    },
    {
     "data": {
      "image/png": "[encoded data removed]",
      "text/plain": [
       "<Figure size 432x288 with 1 Axes>"
      ]
     },
     "metadata": {
      "needs_background": "light"
     },
     "output_type": "display_data"
    },
    {
     "data": {
      "image/png": "[encoded data removed]",
      "text/plain": [
       "<Figure size 432x288 with 1 Axes>"
      ]
     },
     "metadata": {
      "needs_background": "light"
     },
     "output_type": "display_data"
    },
    {
     "data": {
      "image/png": "[encoded data removed]",
      "text/plain": [
       "<Figure size 432x288 with 1 Axes>"
      ]
     },
     "metadata": {
      "needs_background": "light"
     },
     "output_type": "display_data"
    },
    {
     "data": {
      "image/png": "[encoded data removed]",
      "text/plain": [
       "<Figure size 432x288 with 1 Axes>"
      ]
     },
     "metadata": {
      "needs_background": "light"
     },
     "output_type": "display_data"
    },
    {
     "data": {
      "image/png": "[encoded data removed]",
      "text/plain": [
       "<Figure size 432x288 with 1 Axes>"
      ]
     },
     "metadata": {
      "needs_background": "light"
     },
     "output_type": "display_data"
    },
    {
     "data": {
      "image/png": "[encoded data removed]",
      "text/plain": [
       "<Figure size 432x288 with 1 Axes>"
      ]
     },
     "metadata": {
      "needs_background": "light"
     },
     "output_type": "display_data"
    },
    {
     "data": {
      "image/png": "[encoded data removed]",
      "text/plain": [
       "<Figure size 432x288 with 1 Axes>"
      ]
     },
     "metadata": {
      "needs_background": "light"
     },
     "output_type": "display_data"
    },
    {
     "data": {
      "image/png": "[encoded data removed]",
      "text/plain": [
       "<Figure size 432x288 with 1 Axes>"
      ]
     },
     "metadata": {
      "needs_background": "light"
     },
     "output_type": "display_data"
    },
    {
     "data": {
      "image/png": "[encoded data removed]",
      "text/plain": [
       "<Figure size 432x288 with 1 Axes>"
      ]
     },
     "metadata": {
      "needs_background": "light"
     },
     "output_type": "display_data"
    }
   ],
   "source": [
    "# making evenly spaced bins for the ALC data based on the min and max, called above\n",
    "bins = [50, 55, 60, 65, 70, 75, 80, 85, 90, 95, 100]\n",
    "labels = ['50-55', '55-60', '60-65', '65-70', '70-75', '75-80', '80-85', '85-90', '90-95', '95-100']\n",
    "\n",
    "# use pandas cut function to do the binning itself\n",
    "peaks['binned'] = pd.cut(peaks['ALC (%)'], bins=bins, labels=labels)\n",
    "\n",
    "# bar plots of binned PTM data\n",
    "\n",
    "index = ['50-55', '55-60', '60-65', '65-70', '70-75', '75-80', '80-85', '85-90', '90-95', '95-100']\n",
    "data = {'Total PTMs': [peaks.groupby('binned')['ptm-total'].sum()['50-55'], peaks.groupby('binned')['ptm-total'].sum()['55-60'], peaks.groupby('binned')['ptm-total'].sum()['60-65'], peaks.groupby('binned')['ptm-total'].sum()['65-70'], peaks.groupby('binned')['ptm-total'].sum()['70-75'], peaks.groupby('binned')['ptm-total'].sum()['75-80'], peaks.groupby('binned')['ptm-total'].sum()['80-85'], peaks.groupby('binned')['ptm-total'].sum()['85-90'], peaks.groupby('binned')['ptm-total'].sum()['90-95'], peaks.groupby('binned')['ptm-total'].sum()['95-100']],\n",
    "        'Cys carb.': [peaks.groupby('binned')['c-carb'].sum()['50-55'], peaks.groupby('binned')['c-carb'].sum()['55-60'], peaks.groupby('binned')['c-carb'].sum()['60-65'], peaks.groupby('binned')['c-carb'].sum()['65-70'], peaks.groupby('binned')['c-carb'].sum()['70-75'], peaks.groupby('binned')['c-carb'].sum()['75-80'], peaks.groupby('binned')['c-carb'].sum()['80-85'], peaks.groupby('binned')['c-carb'].sum()['85-90'], peaks.groupby('binned')['c-carb'].sum()['90-95'], peaks.groupby('binned')['c-carb'].sum()['95-100']],\n",
    "        'Met oxi.': [peaks.groupby('binned')['m-oxid'].sum()['50-55'], peaks.groupby('binned')['m-oxid'].sum()['55-60'], peaks.groupby('binned')['m-oxid'].sum()['60-65'], peaks.groupby('binned')['m-oxid'].sum()['65-70'], peaks.groupby('binned')['m-oxid'].sum()['70-75'], peaks.groupby('binned')['m-oxid'].sum()['75-80'], peaks.groupby('binned')['m-oxid'].sum()['80-85'], peaks.groupby('binned')['m-oxid'].sum()['85-90'], peaks.groupby('binned')['m-oxid'].sum()['90-95'], peaks.groupby('binned')['m-oxid'].sum()['95-100']],\n",
    "        'Asp deam.': [peaks.groupby('binned')['n-deam'].sum()['50-55'], peaks.groupby('binned')['n-deam'].sum()['55-60'], peaks.groupby('binned')['n-deam'].sum()['60-65'], peaks.groupby('binned')['n-deam'].sum()['65-70'], peaks.groupby('binned')['n-deam'].sum()['70-75'], peaks.groupby('binned')['n-deam'].sum()['75-80'], peaks.groupby('binned')['n-deam'].sum()['80-85'], peaks.groupby('binned')['n-deam'].sum()['85-90'], peaks.groupby('binned')['n-deam'].sum()['90-95'], peaks.groupby('binned')['n-deam'].sum()['95-100']],\n",
    "        'Glut deam.': [peaks.groupby('binned')['q-deam'].sum()['50-55'], peaks.groupby('binned')['q-deam'].sum()['55-60'], peaks.groupby('binned')['q-deam'].sum()['60-65'], peaks.groupby('binned')['q-deam'].sum()['65-70'], peaks.groupby('binned')['q-deam'].sum()['70-75'], peaks.groupby('binned')['q-deam'].sum()['75-80'], peaks.groupby('binned')['q-deam'].sum()['80-85'], peaks.groupby('binned')['q-deam'].sum()['85-90'], peaks.groupby('binned')['q-deam'].sum()['90-95'], peaks.groupby('binned')['q-deam'].sum()['95-100']],\n",
    "        'Lys hydr': [peaks.groupby('binned')['k-hydr'].sum()['50-55'], peaks.groupby('binned')['k-hydr'].sum()['55-60'], peaks.groupby('binned')['k-hydr'].sum()['60-65'], peaks.groupby('binned')['k-hydr'].sum()['65-70'], peaks.groupby('binned')['k-hydr'].sum()['70-75'], peaks.groupby('binned')['k-hydr'].sum()['75-80'], peaks.groupby('binned')['k-hydr'].sum()['80-85'], peaks.groupby('binned')['k-hydr'].sum()['85-90'], peaks.groupby('binned')['k-hydr'].sum()['90-95'], peaks.groupby('binned')['k-hydr'].sum()['95-100']],\n",
    "        'Pro hydr': [peaks.groupby('binned')['p-hydr'].sum()['50-55'], peaks.groupby('binned')['p-hydr'].sum()['55-60'], peaks.groupby('binned')['p-hydr'].sum()['60-65'], peaks.groupby('binned')['p-hydr'].sum()['65-70'], peaks.groupby('binned')['p-hydr'].sum()['70-75'], peaks.groupby('binned')['p-hydr'].sum()['75-80'], peaks.groupby('binned')['p-hydr'].sum()['80-85'], peaks.groupby('binned')['p-hydr'].sum()['85-90'], peaks.groupby('binned')['p-hydr'].sum()['90-95'], peaks.groupby('binned')['p-hydr'].sum()['95-100']],\n",
    "        'Lys meth.': [peaks.groupby('binned')['k-meth'].sum()['50-55'], peaks.groupby('binned')['k-meth'].sum()['55-60'], peaks.groupby('binned')['k-meth'].sum()['60-65'], peaks.groupby('binned')['k-meth'].sum()['65-70'], peaks.groupby('binned')['k-meth'].sum()['70-75'], peaks.groupby('binned')['k-meth'].sum()['75-80'], peaks.groupby('binned')['k-meth'].sum()['80-85'], peaks.groupby('binned')['k-meth'].sum()['85-90'], peaks.groupby('binned')['k-meth'].sum()['90-95'], peaks.groupby('binned')['k-meth'].sum()['95-100']],\n",
    "        'Arg meth.': [peaks.groupby('binned')['r-meth'].sum()['50-55'], peaks.groupby('binned')['r-meth'].sum()['55-60'], peaks.groupby('binned')['r-meth'].sum()['60-65'], peaks.groupby('binned')['r-meth'].sum()['65-70'], peaks.groupby('binned')['r-meth'].sum()['70-75'], peaks.groupby('binned')['r-meth'].sum()['75-80'], peaks.groupby('binned')['r-meth'].sum()['80-85'], peaks.groupby('binned')['r-meth'].sum()['85-90'], peaks.groupby('binned')['r-meth'].sum()['90-95'], peaks.groupby('binned')['r-meth'].sum()['95-100']]\n",
    "        }\n",
    "\n",
    "peaksbin = pd.DataFrame(data, columns=['Total PTMs','Cys carb.','Met oxi.','Asp deam.', 'Glut deam.', 'Lys hydr', 'Pro hydr', 'Lys meth.', 'Arg meth.'], index=index)\n",
    "\n",
    "# write the peaks bin ptm dataframe to a csv:\n",
    "peaksbin.to_csv(\"/home/millieginty/Documents/git-repos/2017-etnp/data/pro2020/ETNP-SKQ17/PEAKS-PTMopt/ETNP-SKQ17-278-265m-trap_DN50_ptm.csv\")\n",
    "\n",
    "ax1 = peaksbin.plot.bar(y='Total PTMs', rot=45)\n",
    "ax1.set_title('Total PTMs')\n",
    "\n",
    "ax2 = peaksbin.plot.bar(y='Cys carb.', rot=45)\n",
    "ax2.set_title('Cysteine carbamidomethylation')\n",
    "\n",
    "ax3 = peaksbin.plot.bar(y='Met oxi.', rot=45)\n",
    "ax3.set_title('Methionine oxidation')\n",
    "\n",
    "ax4 = peaksbin.plot.bar(y='Asp deam.', rot=45)\n",
    "ax4.set_title('Asparagine deamidation')\n",
    "\n",
    "ax5 = peaksbin.plot.bar(y='Glut deam.', rot=45)\n",
    "ax5.set_title('Glutamine deamidation')\n",
    "\n",
    "ax6 = peaksbin.plot.bar(y='Lys hydr', rot=45)\n",
    "ax6.set_title('Lysine hydroxylation')\n",
    "\n",
    "ax7 = peaksbin.plot.bar(y='Pro hydr', rot=45)\n",
    "ax7.set_title('Proline hydroxylation')\n",
    "\n",
    "ax8 = peaksbin.plot.bar(y='Lys meth.', rot=45)\n",
    "ax8.set_title('Lysine methylation')\n",
    "\n",
    "ax9 = peaksbin.plot.bar(y='Arg meth.', rot=45)\n",
    "ax9.set_title('Arginine methylation')\n"
   ]
  },
  {
   "cell_type": "code",
   "execution_count": null,
   "metadata": {},
   "outputs": [],
   "source": [
    "peaksbin['Total PTMs'] = pd.to_numeric(peaksbin['Total PTMs'])\n",
    "\n",
    "peaksbin.loc['sums'] = peaksbin.sum(numeric_only=True, axis=0)\n",
    "\n",
    "peaksbin.loc['rel'] = peaksbin.div(2)['sums']\n",
    "\n",
    "print(peaksbin)"
   ]
  },
  {
   "cell_type": "code",
   "execution_count": null,
   "metadata": {},
   "outputs": [],
   "source": [
    "# make a new dataframe of relative PTM occurance\n",
    "\n",
    "# fist pass as numeric\n",
    "peaks['ptm-total', 'c-carb'] = pd.to_numeric(peaks['ptm-total', 'c-carb'])\n",
    "\n",
    "data = {'1': [peaks['ptm-total'].sum()], '2': [peaks['c-carb'].sum()]}\n",
    "#data = {peaks[['ptm-total', 'c-carb', 'm-oxid', 'n-deam', 'q-deam', 'k-hydr', 'p-hydr', 'k-meth', 'r-meth' ]].sum()}\n",
    "\n",
    "ptmrel = pd.DataFrame(data, columns = ['1', '2'])\n",
    "\n",
    "ptmrel.head()"
   ]
  },
  {
   "cell_type": "code",
   "execution_count": null,
   "metadata": {},
   "outputs": [],
   "source": []
  },
  {
   "cell_type": "markdown",
   "metadata": {},
   "source": [
    "### Exporting txt files of stripped peptides at confidence cutoffs:"
   ]
  },
  {
   "cell_type": "code",
   "execution_count": 8,
   "metadata": {},
   "outputs": [
    {
     "name": "stdout",
     "output_type": "stream",
     "text": [
      "# of DN peptide >50% ALC 10745\n"
     ]
    },
    {
     "data": {
      "text/html": [
       "<div>\n",
       "<style scoped>\n",
       "    .dataframe tbody tr th:only-of-type {\n",
       "        vertical-align: middle;\n",
       "    }\n",
       "\n",
       "    .dataframe tbody tr th {\n",
       "        vertical-align: top;\n",
       "    }\n",
       "\n",
       "    .dataframe thead th {\n",
       "        text-align: right;\n",
       "    }\n",
       "</style>\n",
       "<table border=\"1\" class=\"dataframe\">\n",
       "  <thead>\n",
       "    <tr style=\"text-align: right;\">\n",
       "      <th></th>\n",
       "      <th>stripped peptide</th>\n",
       "    </tr>\n",
       "  </thead>\n",
       "  <tbody>\n",
       "    <tr>\n",
       "      <th>0</th>\n",
       "      <td>MTAEELKK</td>\n",
       "    </tr>\n",
       "    <tr>\n",
       "      <th>1</th>\n",
       "      <td>EEDLER</td>\n",
       "    </tr>\n",
       "    <tr>\n",
       "      <th>2</th>\n",
       "      <td>SCDWPK</td>\n",
       "    </tr>\n",
       "    <tr>\n",
       "      <th>3</th>\n",
       "      <td>WLEEDK</td>\n",
       "    </tr>\n",
       "    <tr>\n",
       "      <th>4</th>\n",
       "      <td>TEAPLNPK</td>\n",
       "    </tr>\n",
       "  </tbody>\n",
       "</table>\n",
       "</div>"
      ],
      "text/plain": [
       "  stripped peptide\n",
       "0         MTAEELKK\n",
       "1           EEDLER\n",
       "2           SCDWPK\n",
       "3           WLEEDK\n",
       "4         TEAPLNPK"
      ]
     },
     "execution_count": 8,
     "metadata": {},
     "output_type": "execute_result"
    }
   ],
   "source": [
    "# keep only peptide column >50% ALC\n",
    "pep = peaks[[\"stripped peptide\"]]\n",
    "\n",
    "# write altered dataframe to new txt file\n",
    "# used header and index parameters to get rid of 'Peptide' header and the indexing\n",
    "\n",
    "pep.to_csv(\"/home/millieginty/Documents/git-repos/2017-etnp/data/pro2020/ETNP-SKQ17/PEAKS-PTMopt/ETNP-SKQ17-278-265m-trap_DN50_stripped_peptides.txt\", header=False, index=False)\n",
    "\n",
    "\n",
    "# look\n",
    "\n",
    "print(\"# of DN peptide >50% ALC\", len(pep))\n",
    "pep.head()"
   ]
  },
  {
   "cell_type": "code",
   "execution_count": 9,
   "metadata": {},
   "outputs": [
    {
     "name": "stdout",
     "output_type": "stream",
     "text": [
      "# of DN peptide >80% ALC 1602\n"
     ]
    },
    {
     "data": {
      "text/html": [
       "<div>\n",
       "<style scoped>\n",
       "    .dataframe tbody tr th:only-of-type {\n",
       "        vertical-align: middle;\n",
       "    }\n",
       "\n",
       "    .dataframe tbody tr th {\n",
       "        vertical-align: top;\n",
       "    }\n",
       "\n",
       "    .dataframe thead th {\n",
       "        text-align: right;\n",
       "    }\n",
       "</style>\n",
       "<table border=\"1\" class=\"dataframe\">\n",
       "  <thead>\n",
       "    <tr style=\"text-align: right;\">\n",
       "      <th></th>\n",
       "      <th>stripped peptide</th>\n",
       "    </tr>\n",
       "  </thead>\n",
       "  <tbody>\n",
       "    <tr>\n",
       "      <th>0</th>\n",
       "      <td>MTAEELKK</td>\n",
       "    </tr>\n",
       "    <tr>\n",
       "      <th>1</th>\n",
       "      <td>EEDLER</td>\n",
       "    </tr>\n",
       "    <tr>\n",
       "      <th>2</th>\n",
       "      <td>SCDWPK</td>\n",
       "    </tr>\n",
       "    <tr>\n",
       "      <th>3</th>\n",
       "      <td>WLEEDK</td>\n",
       "    </tr>\n",
       "    <tr>\n",
       "      <th>4</th>\n",
       "      <td>TEAPLNPK</td>\n",
       "    </tr>\n",
       "  </tbody>\n",
       "</table>\n",
       "</div>"
      ],
      "text/plain": [
       "  stripped peptide\n",
       "0         MTAEELKK\n",
       "1           EEDLER\n",
       "2           SCDWPK\n",
       "3           WLEEDK\n",
       "4         TEAPLNPK"
      ]
     },
     "execution_count": 9,
     "metadata": {},
     "output_type": "execute_result"
    }
   ],
   "source": [
    "# keep only peptides  >80% ALC\n",
    "peaks80 = peaks.loc[peaks['ALC (%)'] >= 80]\n",
    "\n",
    "# see how many rows and double check\n",
    "# peaks80.head(-10)\n",
    "\n",
    "# keep only peptide column \n",
    "pep80 = peaks80[[\"stripped peptide\"]]\n",
    "\n",
    "# write altered dataframe to new txt file\n",
    "# used header and index parameters to get rid of 'Peptide' header and the indexing\n",
    "\n",
    "pep80.to_csv(\"/home/millieginty/Documents/git-repos/2017-etnp/data/pro2020/ETNP-SKQ17/PEAKS-PTMopt/ETNP-SKQ17-278-265m-trap_DN80_stripped_peptides.txt\", header=False, index=False)\n",
    "\n",
    "\n",
    "print(\"# of DN peptide >80% ALC\", len(pep80))\n",
    "pep80.head()"
   ]
  },
  {
   "cell_type": "code",
   "execution_count": null,
   "metadata": {},
   "outputs": [],
   "source": []
  }
 ],
 "metadata": {
  "kernelspec": {
   "display_name": "Python 3",
   "language": "python",
   "name": "python3"
  },
  "language_info": {
   "codemirror_mode": {
    "name": "ipython",
    "version": 3
   },
   "file_extension": ".py",
   "mimetype": "text/x-python",
   "name": "python",
   "nbconvert_exporter": "python",
   "pygments_lexer": "ipython3",
   "version": "3.8.3"
  }
 },
 "nbformat": 4,
 "nbformat_minor": 4
}
