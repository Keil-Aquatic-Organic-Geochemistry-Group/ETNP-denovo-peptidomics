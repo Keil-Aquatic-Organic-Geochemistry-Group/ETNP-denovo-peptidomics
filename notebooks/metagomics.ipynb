{
 "cells": [
  {
   "cell_type": "code",
   "execution_count": 1,
   "metadata": {
    "collapsed": false
   },
   "outputs": [
    {
     "name": "stdout",
     "output_type": "stream",
     "text": [
      "Tue Jun 26 15:37:26 PDT 2018\r\n"
     ]
    }
   ],
   "source": [
    "!date"
   ]
  },
  {
   "cell_type": "markdown",
   "metadata": {},
   "source": [
    "### Tuesday, June 26, 2018 ###\n",
    "\n",
    "This notebook is to document my use of the MetaGOmics web application (http://www.yeastrc.org/metagomics/home.do) to perform a peptide-based functional and taxonomic analysis of my metaproteomic data, as described in [Riffle et al., 2018](https://www.ncbi.nlm.nih.gov/pubmed/29280960). The MetaGOmics algorithim is pretty close to Unipept in its approach to a peptide-based least common ancestor evaluation (LCA) that is tied to the UniProtKB database, but it also does a similar evaluation of protein functionality using GO terms from the protein annotations, and it also uses spetral counts to approach some quanitiation of these analyses.\n",
    "\n",
    "The input needed for MetaGOmics:\n",
    "\n",
    "- the queried sequence database in FASTA format. It's noted in the Riffle paper that one only needs a FASTA file containing the proteins matched by any of the uploaded peptides - hence there's some trimming that will make the analysis much quicker. To achieve this I'm uploading the exported FASTA from PEAKS 8.5 Spider searches. This was simple for PEAKS output, but apparently there's some tips for this trimming in the MetaGOmics's GitHub repo\n",
    "\n",
    "- a text file containing the identified peptides and their corresponding spectral counts. Though, it would work just as well to use spectral areas over spectral counts, it's a relative comparison (and would compare a peptide's spectral area to the total, just as the number of spectral counts attributed to a peptide would be compared to the total number of spectral counts for all peptides).\n",
    "\n",
    "I went to MetaGOmics and uploaded ja2-proteins.fasta in the web application and named it _2017 P2 100 m suspended (JA2)_ I chose to use the SwissProt (Unisprot) database for the GO annotations database and I selected a for the BLAST filters: 1E-10, using the top hit only. I recieved an email several seconds later with a link to a page where I could access the database I'd set up and load peptide lists. It looks like this: ![metagomics database page screengrab]( https://raw.githubusercontent.com/MeganEDuffy/2017-etnp/master/images/06.26.18-metgomics-ss.png)\n",
    "\n",
    "Then I need to actually upload the peptide sequences and their corresponding spectral counts (or areas, I chose counts to start). I took the Spider output xlxs file I'd made from the PEAKS exported .csv, and I just made a new Excel file containing the sequences and the # spectra columns, with no headers. It looked like this:\n"
   ]
  },
  {
   "cell_type": "code",
   "execution_count": 2,
   "metadata": {
    "collapsed": false
   },
   "outputs": [
    {
     "name": "stdout",
     "output_type": "stream",
     "text": [
      "IVVGGPYSSVSDAASVLDGSQK\t7\r",
      "\r\n",
      "IVVGGPYSSVSDAASSLDSSQK\t6\r",
      "\r\n",
      "AIQQQIENPLAQQILSGELVPGK\t6\r",
      "\r\n",
      "LPQVEGTGGDVQPSQDLVR\t13\r",
      "\r\n",
      "QAVSADSSGSFIGGAELASLK\t7\r",
      "\r\n",
      "LGEHNIDVLEGNEQFINAAK\t11\r",
      "\r\n",
      "YLGSTGGLLNSAETEEK\t6\r",
      "\r\n",
      "YIGSTGGLLNSAETEEK\t6\r",
      "\r\n",
      "AISADSSGGFIGGAELSQLK\t3\r",
      "\r\n",
      "AGAGDDEVNAGSGDDIVR\t3\r",
      "\r\n"
     ]
    }
   ],
   "source": [
    "!head /Users/meganduffy/Documents/git-repos/2017-etnp/data/ja1-ja6/MED_ETNP_JA2_uwpr201704_SPIDER_19/ja2-metagomics-input.txt"
   ]
  },
  {
   "cell_type": "markdown",
   "metadata": {},
   "source": [
    "Note that I needed to have it saved as tab delimted (.txt). When I tried saving it as a .csv, I didn't get any meaninggul output (no error messages, just no matched GO terms for any peptides). Then I got an email saying I could view my data. You can see that the two (one failed .csv, one suscessful .txt uploads look like in the screengrab above). When I click on the GO annotation download button for the sucessful one (100 m suspended), I get this: ![metagomics results download window](https://raw.githubusercontent.com/MeganEDuffy/2017-etnp/master/images/06.27.18-metagomics-results-ss.png)\n"
   ]
  },
  {
   "cell_type": "markdown",
   "metadata": {},
   "source": [
    "I don't understand why I don't have GO images. Downloading the GO report, I get this below. Plenty of content! I made a new `metagomics` directory in `analyses` and renamed the report with a more descriptive title. See here:"
   ]
  },
  {
   "cell_type": "code",
   "execution_count": 8,
   "metadata": {
    "collapsed": false
   },
   "outputs": [
    {
     "name": "stdout",
     "output_type": "stream",
     "text": [
      "# MetaGOmics GO report\r\n",
      "# MetaGOmics version: 0.1.1\r\n",
      "# Run date: Tue Jun 26 21:21:21 PDT 2018\r\n",
      "GO acc\tGO aspect\tGO name\tcount\ttotal count\tratio\r\n",
      "unknownprc\tbiological_process\tunknown biological process\t1960\t2961\t0.6619385342789598\r\n",
      "GO:0038061\tbiological_process\tNIK/NF-kappaB signaling\t2\t2961\t6.754474839581223E-4\r\n",
      "unknownfun\tmolecular_function\tunknown molecular function\t2225\t2961\t0.751435325903411\r\n",
      "GO:0009733\tbiological_process\tresponse to auxin\t4\t2961\t0.0013508949679162446\r\n",
      "GO:0032392\tbiological_process\tDNA geometric change\t2\t2961\t6.754474839581223E-4\r\n",
      "unknowncmp\tcellular_component\tunknown cellular component\t1982\t2961\t0.6693684566024991\r\n"
     ]
    }
   ],
   "source": [
    "!head /Users/meganduffy/Documents/git-repos/2017-etnp/analyses/metagomics/susvsink/ja2/go_report_ja2_06.26.18.txt"
   ]
  },
  {
   "cell_type": "markdown",
   "metadata": {},
   "source": [
    "The taxonomy report looks like this:"
   ]
  },
  {
   "cell_type": "code",
   "execution_count": 7,
   "metadata": {
    "collapsed": false
   },
   "outputs": [
    {
     "name": "stdout",
     "output_type": "stream",
     "text": [
      "# MetaGOmics taxonomy report\r\n",
      "# MetaGOmics version: 0.1.1\r\n",
      "# Run date: Tue Jun 26 21:24:25 PDT 2018\r\n",
      "GO acc\tGO aspect\tGO name\ttaxon name\tNCBI taxonomy id\ttaxonomy rank\tPSM count\tratio of GO\tratio of run\r\n",
      "unknownprc\tbiological_process\tunknown biological process\troot\t1\tno rank\t51\t0.026020408163265306\t0.017223910840932118\r\n",
      "unknownprc\tbiological_process\tunknown biological process\tBacteria\t2\tsuperkingdom\t32\t0.0163265306122449\t0.010807159743329957\r\n",
      "unknownprc\tbiological_process\tunknown biological process\tHominidae\t9604\tfamily\t2\t0.0010204081632653062\t6.754474839581223E-4\r\n",
      "unknownprc\tbiological_process\tunknown biological process\tCyanothecaceae\t1892249\tfamily\t13\t0.0066326530612244895\t0.004390408645727794\r\n",
      "unknownprc\tbiological_process\tunknown biological process\tRodentia\t9989\torder\t2\t0.0010204081632653062\t6.754474839581223E-4\r\n",
      "unknownprc\tbiological_process\tunknown biological process\tHomo\t9605\tgenus\t2\t0.0010204081632653062\t6.754474839581223E-4\r\n"
     ]
    }
   ],
   "source": [
    "!head /Users/meganduffy/Documents/git-repos/2017-etnp/analyses/metagomics/susvsink/ja2/taxonomy_report_ja2_06.26.18.txt"
   ]
  },
  {
   "cell_type": "markdown",
   "metadata": {},
   "source": [
    "There were some modifications in parentheses in my peptide input, I need to fix that step of this process to continue. And I need to figure out why I'm not getting any images from the MetaGOmics app."
   ]
  },
  {
   "cell_type": "code",
   "execution_count": 10,
   "metadata": {
    "collapsed": false
   },
   "outputs": [
    {
     "name": "stdout",
     "output_type": "stream",
     "text": [
      "IVVGGPYSSVSDAASVLDGSQK\t7\r",
      "\r\n",
      "IVVGGPYSSVSDAASSLDSSQK\t6\r",
      "\r\n",
      "AIQQQIENPLAQQILSGELVPGK\t6\r",
      "\r\n",
      "LPQVEGTGGDVQPSQDLVR\t13\r",
      "\r\n",
      "QAVSADSSGSFIGGAELASLK\t7\r",
      "\r\n",
      "LGEHNIDVLEGNEQFINAAK\t11\r",
      "\r\n",
      "YLGSTGGLLNSAETEEK\t6\r",
      "\r\n",
      "YIGSTGGLLNSAETEEK\t6\r",
      "\r\n",
      "AISADSSGGFIGGAELSQLK\t3\r",
      "\r\n",
      "AGAGDDEVNAGSGDDIVR\t3\r",
      "\r\n",
      "IVVGGPYSSVSDASSGLDGSQK\t3\r",
      "\r\n",
      "YKDNFTVTAPEIALNEGFDR\t3\r",
      "\r\n",
      "SC(+57.02)AAAGTEC(+57.02)LISGWGNTK(+28.03)\t10\r",
      "\r\n",
      "TNYFGIQGTDNGNLTNSFAESELER\t3\r",
      "\r\n",
      "TNYFGLQGTDNGNLTNSFAESELER\t3\r",
      "\r\n",
      "AIQQQIE(+21.98)NPLAQQILSGELVPGK\t1\r",
      "\r\n",
      "LGSDSGM(+15.99)LAFEPSNIK\t2\r",
      "\r\n",
      "LPQVEGTGGDVQPSQ(+.98)DLVR\t1\r",
      "\r\n",
      "VIGQNEAVDAVSNAIR\t19\r",
      "\r\n",
      "ALTTGVDYAQGLVALGGDDK\t3\r",
      "\r\n",
      "ILSTINDADLNASAAEIK\t2\r",
      "\r\n",
      "GGQPLFFGEGTYANLSQTAR\t3\r",
      "\r\n",
      "TNYFGIQGTDNGNLTNSFAESELERA\t6\r",
      "\r\n",
      "TNYFGLQGTDNGNLTNSFAESELERA\t6\r",
      "\r\n",
      "TGEIGDGKIFISPVDSVVR\t2\r",
      "\r\n",
      "DNFTVTAPEIALNEGFDR\t2\r",
      "\r\n",
      "TNQNVGLDPETLALATPAR\t3\r",
      "\r\n",
      "YNSGEGGC(+57.02)FYSVDTIEAPWNSGR\t2\r",
      "\r\n",
      "SGGGGGGGLGSGGSIR\t1\r",
      "\r\n",
      "AGAGDDEVNAGS(-15.99)GDDIVR\t1\r",
      "\r\n",
      "LPQVEGTGGD(+21.98)VQPSQDLVR\t2\r",
      "\r\n",
      "AISSGAGNSDFVVGPER\t3\r",
      "\r\n",
      "LGSDAGM(+15.99)LAFEPSNIK\t3\r",
      "\r\n",
      "L(+28.03)GEHNIDVLEGNEQFINAAK\t1\r",
      "\r\n",
      "GGSGNDTINGGGGDDLIR\t2\r",
      "\r\n",
      "IVVGGPYSSVSDAASSLDSSQKSVFDK\t2\r",
      "\r\n",
      "LVPGFEAPVNLVYSQGNR\t4\r",
      "\r\n",
      "LVPGFEAPVNLVYSK\t3\r",
      "\r\n",
      "AYGGETVTAGSILIR\t2\r",
      "\r\n",
      "TGGDPIELFETAVK\t2\r",
      "\r\n",
      "TGGDPLELFETAVK\t2\r",
      "\r\n",
      "IAENAGANGAVVAENVK\t2\r",
      "\r\n",
      "VAQEAVDAVYAVHPNGAVGR\t2\r",
      "\r\n",
      "IVVGGPYSSVSDAASVLD(+14.02)GSQK\t1\r",
      "\r\n",
      "M(+15.99)QTYGNPNPTYGWWAGNAGTVNR(+14.02)\t2\r",
      "\r\n",
      "ALTTGVEYAQGLVALGGDDK\t3\r",
      "\r\n",
      "TQFYNDEPEAIEYGENFIVHR\t1\r",
      "\r\n",
      "LGSDEYVLLSEK\t2\r",
      "\r\n",
      "DNFTVTASEIALNEGFDR\t3\r",
      "\r\n",
      "LGEAGEKIDLNNSSVR\t6\r",
      "\r\n"
     ]
    }
   ],
   "source": [
    "#What sequence modifications are there?\n",
    "\n",
    "!head -50 /Users/meganduffy/Documents/git-repos/2017-etnp/data/ja1-ja6/MED_ETNP_JA2_uwpr201704_SPIDER_19/ja2-metagomics-input.txt"
   ]
  },
  {
   "cell_type": "code",
   "execution_count": 14,
   "metadata": {
    "collapsed": false
   },
   "outputs": [],
   "source": [
    "# remove '(+15.99)' and '(+57.02)', (+.98) from sequences\n",
    "!sed 's/(+15.99)//g' /Users/meganduffy/Documents/git-repos/2017-etnp/data/ja1-ja6/MED_ETNP_JA2_uwpr201704_SPIDER_19/ja2-metagomics-input.txt \\\n",
    "| sed 's/(+57.02)//g'\\\n",
    "| sed 's/(+.98)//g'\\\n",
    "> /Users/meganduffy/Documents/git-repos/2017-etnp/data/ja1-ja6/MED_ETNP_JA2_uwpr201704_SPIDER_19/ja2-metagomics--nomod-input.txt"
   ]
  },
  {
   "cell_type": "code",
   "execution_count": 15,
   "metadata": {
    "collapsed": false
   },
   "outputs": [
    {
     "name": "stdout",
     "output_type": "stream",
     "text": [
      "IVVGGPYSSVSDAASVLDGSQK\t7\r",
      "\r\n",
      "IVVGGPYSSVSDAASSLDSSQK\t6\r",
      "\r\n",
      "AIQQQIENPLAQQILSGELVPGK\t6\r",
      "\r\n",
      "LPQVEGTGGDVQPSQDLVR\t13\r",
      "\r\n",
      "QAVSADSSGSFIGGAELASLK\t7\r",
      "\r\n",
      "LGEHNIDVLEGNEQFINAAK\t11\r",
      "\r\n",
      "YLGSTGGLLNSAETEEK\t6\r",
      "\r\n",
      "YIGSTGGLLNSAETEEK\t6\r",
      "\r\n",
      "AISADSSGGFIGGAELSQLK\t3\r",
      "\r\n",
      "AGAGDDEVNAGSGDDIVR\t3\r",
      "\r\n",
      "IVVGGPYSSVSDASSGLDGSQK\t3\r",
      "\r\n",
      "YKDNFTVTAPEIALNEGFDR\t3\r",
      "\r\n",
      "SCAAAGTECLISGWGNTK(+28.03)\t10\r",
      "\r\n",
      "TNYFGIQGTDNGNLTNSFAESELER\t3\r",
      "\r\n",
      "TNYFGLQGTDNGNLTNSFAESELER\t3\r",
      "\r\n",
      "AIQQQIE(+21.98)NPLAQQILSGELVPGK\t1\r",
      "\r\n",
      "LGSDSGMLAFEPSNIK\t2\r",
      "\r\n",
      "LPQVEGTGGDVQPSQDLVR\t1\r",
      "\r\n",
      "VIGQNEAVDAVSNAIR\t19\r",
      "\r\n",
      "ALTTGVDYAQGLVALGGDDK\t3\r",
      "\r\n",
      "ILSTINDADLNASAAEIK\t2\r",
      "\r\n",
      "GGQPLFFGEGTYANLSQTAR\t3\r",
      "\r\n",
      "TNYFGIQGTDNGNLTNSFAESELERA\t6\r",
      "\r\n",
      "TNYFGLQGTDNGNLTNSFAESELERA\t6\r",
      "\r\n",
      "TGEIGDGKIFISPVDSVVR\t2\r",
      "\r\n",
      "DNFTVTAPEIALNEGFDR\t2\r",
      "\r\n",
      "TNQNVGLDPETLALATPAR\t3\r",
      "\r\n",
      "YNSGEGGCFYSVDTIEAPWNSGR\t2\r",
      "\r\n",
      "SGGGGGGGLGSGGSIR\t1\r",
      "\r\n",
      "AGAGDDEVNAGS(-15.99)GDDIVR\t1\r",
      "\r\n",
      "LPQVEGTGGD(+21.98)VQPSQDLVR\t2\r",
      "\r\n",
      "AISSGAGNSDFVVGPER\t3\r",
      "\r\n",
      "LGSDAGMLAFEPSNIK\t3\r",
      "\r\n",
      "L(+28.03)GEHNIDVLEGNEQFINAAK\t1\r",
      "\r\n",
      "GGSGNDTINGGGGDDLIR\t2\r",
      "\r\n",
      "IVVGGPYSSVSDAASSLDSSQKSVFDK\t2\r",
      "\r\n",
      "LVPGFEAPVNLVYSQGNR\t4\r",
      "\r\n",
      "LVPGFEAPVNLVYSK\t3\r",
      "\r\n",
      "AYGGETVTAGSILIR\t2\r",
      "\r\n",
      "TGGDPIELFETAVK\t2\r",
      "\r\n",
      "TGGDPLELFETAVK\t2\r",
      "\r\n",
      "IAENAGANGAVVAENVK\t2\r",
      "\r\n",
      "VAQEAVDAVYAVHPNGAVGR\t2\r",
      "\r\n",
      "IVVGGPYSSVSDAASVLD(+14.02)GSQK\t1\r",
      "\r\n",
      "MQTYGNPNPTYGWWAGNAGTVNR(+14.02)\t2\r",
      "\r\n",
      "ALTTGVEYAQGLVALGGDDK\t3\r",
      "\r\n",
      "TQFYNDEPEAIEYGENFIVHR\t1\r",
      "\r\n",
      "LGSDEYVLLSEK\t2\r",
      "\r\n",
      "DNFTVTASEIALNEGFDR\t3\r",
      "\r\n",
      "LGEAGEKIDLNNSSVR\t6\r",
      "\r\n"
     ]
    }
   ],
   "source": [
    "!head -50 /Users/meganduffy/Documents/git-repos/2017-etnp/data/ja1-ja6/MED_ETNP_JA2_uwpr201704_SPIDER_19/ja2-metagomics--nomod-input.txt"
   ]
  },
  {
   "cell_type": "code",
   "execution_count": null,
   "metadata": {
    "collapsed": true
   },
   "outputs": [],
   "source": [
    "#I have more to get. Looking at some old notebooks where I did this."
   ]
  }
 ],
 "metadata": {
  "anaconda-cloud": {},
  "kernelspec": {
   "display_name": "Python [default]",
   "language": "python",
   "name": "python3"
  },
  "language_info": {
   "codemirror_mode": {
    "name": "ipython",
    "version": 3
   },
   "file_extension": ".py",
   "mimetype": "text/x-python",
   "name": "python",
   "nbconvert_exporter": "python",
   "pygments_lexer": "ipython3",
   "version": "3.5.2"
  }
 },
 "nbformat": 4,
 "nbformat_minor": 1
}
