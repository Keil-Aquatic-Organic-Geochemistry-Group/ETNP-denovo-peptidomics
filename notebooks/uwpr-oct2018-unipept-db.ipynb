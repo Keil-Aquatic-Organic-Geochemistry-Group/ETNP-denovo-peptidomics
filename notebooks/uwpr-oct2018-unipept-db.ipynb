{
 "cells": [
  {
   "cell_type": "code",
   "execution_count": 1,
   "metadata": {
    "collapsed": false
   },
   "outputs": [
    {
     "name": "stdout",
     "output_type": "stream",
     "text": [
      "Wed Jun 26 16:18:18 PDT 2019\r\n"
     ]
    }
   ],
   "source": [
    "!date"
   ]
  },
  {
   "cell_type": "code",
   "execution_count": 2,
   "metadata": {
    "collapsed": false
   },
   "outputs": [
    {
     "name": "stdout",
     "output_type": "stream",
     "text": [
      "Software:\r\n",
      "\r\n",
      "    System Software Overview:\r\n",
      "\r\n",
      "      System Version: macOS 10.14.5 (18F132)\r\n",
      "      Kernel Version: Darwin 18.6.0\r\n",
      "      Boot Volume: Macintosh HD\r\n",
      "      Boot Mode: Normal\r\n",
      "      Computer Name: Megan’s MacBook Pro (2)\r\n",
      "      User Name: Megan Duffy (meganduffy)\r\n",
      "      Secure Virtual Memory: Enabled\r\n",
      "      System Integrity Protection: Enabled\r\n",
      "      Time since boot: 3 days 20:22\r\n",
      "\r\n"
     ]
    }
   ],
   "source": [
    "!system_profiler SPSoftwareDataType"
   ]
  },
  {
   "cell_type": "markdown",
   "metadata": {},
   "source": [
    "### Notebook to document Unipept least common ancestor analysis of UWPR October 2018 ETNP 2017 (samples 2-9 and 4-19) database ID'd peptides (db)\n",
    "\n",
    "### Input: results of PEAKS 8.5 searches into Git ETNP 2017 data directory. Raw data processed to give db peptides without modifications (for ease of analysis). See [uwpr-oct2018-db](https://github.com/MeganEDuffy/2017-etnp/blob/master/notebooks/uwpr-oct2018-db.ipynb) notebook."
   ]
  },
  {
   "cell_type": "code",
   "execution_count": 3,
   "metadata": {
    "collapsed": false
   },
   "outputs": [
    {
     "name": "stdout",
     "output_type": "stream",
     "text": [
      "273-peaks19-DB-search -psm.csv   273-peaks19-dno.csv\r\n",
      "273-peaks19-db-mods.txt          273-peaks19-dnopeps.csv\r\n",
      "273-peaks19-db-nomods.txt        273-peaks19-dnopeps.txt\r\n",
      "273-peaks19-dbpeps.csv           273-peaks19-peptide.csv\r\n",
      "273-peaks19-dbpeps.txt           273-peaks19-protein-peptides.csv\r\n",
      "273-peaks19-dno-mods.txt         273-peaks19-proteins.csv\r\n",
      "273-peaks19-dno-nomods.txt       273-peaks19-proteins.fasta\r\n"
     ]
    }
   ],
   "source": [
    "# Example of data file types in data directory\n",
    "\n",
    "!ls /Users/meganduffy/Documents/git-repos/2017-etnp/data/uwpr-oct2018/273_4-19_965m_top+P-PEAKS19-20181004/"
   ]
  },
  {
   "cell_type": "markdown",
   "metadata": {},
   "source": [
    "### First, analysing sample from this batch that's relevant to Pro Novo paper: 273 (965 m sinking).\n",
    "\n",
    "### Ran 273-peaks19-db-nomods.txt through Unipept metaproteomics analysis web server. Equated L and I and filtered duplicate peptides.\n",
    "\n",
    "### 386/593 peptides found matching to Unipept DB\n",
    "\n",
    "### Uniqueness: 593/849 peptides unique (duplicates filter)\n",
    "\n",
    "### Exported results to .csv in git analyses directory, and saved sunburst figure as .png"
   ]
  },
  {
   "cell_type": "code",
   "execution_count": 4,
   "metadata": {
    "collapsed": false
   },
   "outputs": [
    {
     "name": "stdout",
     "output_type": "stream",
     "text": [
      "273-peaks19-db-nomod-lca.csv  273-peaks19-dno-nomod-lca.csv\r\n",
      "273-peaks19-db-nomod-lca.png  273-peaks19-dno-nomod-lca.png\r\n"
     ]
    }
   ],
   "source": [
    "!ls /Users/meganduffy/Documents/git-repos/2017-etnp/analyses/uwpr-oct2018/unipept-lca/"
   ]
  },
  {
   "cell_type": "markdown",
   "metadata": {},
   "source": [
    "### Note: four peptides matched to Cyanobacteria (3 to Prochlorococcus marinus)\n",
    "\n",
    "### But was this the case in the PEAKS DB identification? Or in the TPP results?"
   ]
  },
  {
   "cell_type": "code",
   "execution_count": null,
   "metadata": {
    "collapsed": true
   },
   "outputs": [],
   "source": []
  }
 ],
 "metadata": {
  "anaconda-cloud": {},
  "kernelspec": {
   "display_name": "Python [default]",
   "language": "python",
   "name": "python3"
  },
  "language_info": {
   "codemirror_mode": {
    "name": "ipython",
    "version": 3
   },
   "file_extension": ".py",
   "mimetype": "text/x-python",
   "name": "python",
   "nbconvert_exporter": "python",
   "pygments_lexer": "ipython3",
   "version": "3.5.2"
  }
 },
 "nbformat": 4,
 "nbformat_minor": 1
}
