{
 "cells": [
  {
   "cell_type": "markdown",
   "metadata": {},
   "source": [
    "### Results of PTM-ramping PeaksDB searches and de novo sequencing after open modifcation PeaksPTM searches\n",
    "\n",
    "- Open modifcation searches consider mass mofications from the entire [Unimod database](http://www.unimod.org/modifications_list.php). \n",
    "\n",
    "- We then took the top 8 modifications from open searchs for each dataset and added them in ramping searches or sequencing queries to determine sensitivity loss vs. identification gain."
   ]
  },
  {
   "cell_type": "code",
   "execution_count": 1,
   "metadata": {},
   "outputs": [
    {
     "data": {
      "text/plain": [
       "'1.0.5'"
      ]
     },
     "execution_count": 1,
     "metadata": {},
     "output_type": "execute_result"
    }
   ],
   "source": [
    "# LIBRARIES\n",
    "#import pandas library for working with tabular data\n",
    "import os\n",
    "os.getcwd()\n",
    "import pandas as pd\n",
    "import numpy as np\n",
    "import matplotlib.pyplot as plt\n",
    "import seaborn as sns\n",
    "from scipy.stats import kde\n",
    "#from matplotlib_venn import venn2\n",
    "#from matplotlib_venn import venn3\n",
    "from matplotlib_venn import venn3, venn3_circles\n",
    "#import regular expresson (regex)\n",
    "import re\n",
    "#check pandas version\n",
    "pd.__version__"
   ]
  },
  {
   "cell_type": "code",
   "execution_count": 2,
   "metadata": {},
   "outputs": [
    {
     "name": "stdout",
     "output_type": "stream",
     "text": [
      "/home/millieginty/Documents/git-repos/2017-etnp/analyses/pronovo-2020/pronovo-2020-ptm\n"
     ]
    }
   ],
   "source": [
    "cd /home/millieginty/Documents/git-repos/2017-etnp/analyses/pronovo-2020/pronovo-2020-ptm/"
   ]
  },
  {
   "cell_type": "code",
   "execution_count": 3,
   "metadata": {},
   "outputs": [
    {
     "data": {
      "text/html": [
       "<div>\n",
       "<style scoped>\n",
       "    .dataframe tbody tr th:only-of-type {\n",
       "        vertical-align: middle;\n",
       "    }\n",
       "\n",
       "    .dataframe tbody tr th {\n",
       "        vertical-align: top;\n",
       "    }\n",
       "\n",
       "    .dataframe thead th {\n",
       "        text-align: right;\n",
       "    }\n",
       "</style>\n",
       "<table border=\"1\" class=\"dataframe\">\n",
       "  <thead>\n",
       "    <tr style=\"text-align: right;\">\n",
       "      <th></th>\n",
       "      <th>Number of variable PTMs</th>\n",
       "      <th>total PSMs at 1% FDR</th>\n",
       "      <th>total peptides</th>\n",
       "      <th>total proteins</th>\n",
       "      <th>de novo peptides 80ALC</th>\n",
       "      <th>de novo peptides 50ALC</th>\n",
       "      <th>de novo only peptides 80ALC</th>\n",
       "      <th>de novo only peptides 50ALC</th>\n",
       "    </tr>\n",
       "  </thead>\n",
       "  <tbody>\n",
       "    <tr>\n",
       "      <th>0</th>\n",
       "      <td>0</td>\n",
       "      <td>20231</td>\n",
       "      <td>11532</td>\n",
       "      <td>1351</td>\n",
       "      <td>6646</td>\n",
       "      <td>16544</td>\n",
       "      <td>552</td>\n",
       "      <td>4001</td>\n",
       "    </tr>\n",
       "    <tr>\n",
       "      <th>1</th>\n",
       "      <td>1</td>\n",
       "      <td>21311</td>\n",
       "      <td>12085</td>\n",
       "      <td>1349</td>\n",
       "      <td>6722</td>\n",
       "      <td>16630</td>\n",
       "      <td>503</td>\n",
       "      <td>3667</td>\n",
       "    </tr>\n",
       "    <tr>\n",
       "      <th>2</th>\n",
       "      <td>2</td>\n",
       "      <td>21756</td>\n",
       "      <td>12671</td>\n",
       "      <td>1342</td>\n",
       "      <td>6475</td>\n",
       "      <td>16233</td>\n",
       "      <td>443</td>\n",
       "      <td>3390</td>\n",
       "    </tr>\n",
       "    <tr>\n",
       "      <th>3</th>\n",
       "      <td>3</td>\n",
       "      <td>22942</td>\n",
       "      <td>13679</td>\n",
       "      <td>1338</td>\n",
       "      <td>6247</td>\n",
       "      <td>16214</td>\n",
       "      <td>432</td>\n",
       "      <td>3397</td>\n",
       "    </tr>\n",
       "    <tr>\n",
       "      <th>4</th>\n",
       "      <td>4</td>\n",
       "      <td>23354</td>\n",
       "      <td>13994</td>\n",
       "      <td>1336</td>\n",
       "      <td>6245</td>\n",
       "      <td>16333</td>\n",
       "      <td>434</td>\n",
       "      <td>3339</td>\n",
       "    </tr>\n",
       "  </tbody>\n",
       "</table>\n",
       "</div>"
      ],
      "text/plain": [
       "   Number of variable PTMs  total PSMs at 1% FDR  total peptides  \\\n",
       "0                        0                 20231           11532   \n",
       "1                        1                 21311           12085   \n",
       "2                        2                 21756           12671   \n",
       "3                        3                 22942           13679   \n",
       "4                        4                 23354           13994   \n",
       "\n",
       "   total proteins  de novo peptides 80ALC  de novo peptides 50ALC  \\\n",
       "0            1351                    6646                   16544   \n",
       "1            1349                    6722                   16630   \n",
       "2            1342                    6475                   16233   \n",
       "3            1338                    6247                   16214   \n",
       "4            1336                    6245                   16333   \n",
       "\n",
       "   de novo only peptides 80ALC  de novo only peptides 50ALC  \n",
       "0                          552                         4001  \n",
       "1                          503                         3667  \n",
       "2                          443                         3390  \n",
       "3                          432                         3397  \n",
       "4                          434                         3339  "
      ]
     },
     "execution_count": 3,
     "metadata": {},
     "output_type": "execute_result"
    }
   ],
   "source": [
    "# read in as a dataframe the MED4 ramping results\n",
    "\n",
    "med4 = pd.read_csv(\"/home/millieginty/Documents/git-repos/2017-etnp/analyses/pronovo-2020/pronovo-2020-ptm/open-mod-results-med4.csv\")\n",
    "\n",
    "med4.head()"
   ]
  },
  {
   "cell_type": "code",
   "execution_count": 38,
   "metadata": {},
   "outputs": [
    {
     "data": {
      "image/png": "[encoded data removed]",
      "text/plain": [
       "<Figure size 864x576 with 1 Axes>"
      ]
     },
     "metadata": {
      "needs_background": "light"
     },
     "output_type": "display_data"
    }
   ],
   "source": [
    "fig, ax = plt.subplots(figsize=(12, 8))\n",
    "\n",
    "# Define bar width\n",
    "bar_width = 0.3\n",
    "\n",
    "# Add the `width` parameter now which sets the width of each bar.\n",
    "b1 = ax.bar(med4['Number of variable PTMs'], med4['total PSMs at 1% FDR'],\n",
    "            width=bar_width, color = '#addd8e', edgecolor = 'black')\n",
    "# Same thing, but offset the x by the width of the bar.\n",
    "b2 = ax.bar(med4['Number of variable PTMs'] + bar_width, med4['total peptides'],\n",
    "            width=bar_width, color = '#31a354', edgecolor = 'black')\n",
    "# Same thing, but offset the x by the width of the bar.\n",
    "b3 = ax.bar(med4['Number of variable PTMs'] + bar_width*2, med4['de novo peptides 80ALC'],\n",
    "            width=bar_width, color = '#005a32', edgecolor = 'black')\n",
    "\n",
    "plt.legend(['PSMs < 1% FDR', 'Database search peptides', '$De novo$ peptides 80% ALC'])\n",
    "\n",
    "ax.set_xlabel('# of variable modifications', labelpad=15, fontsize = 16)\n",
    "ax.set_ylabel('Count', labelpad=15, fontsize = 16)\n",
    "ax.set_title('$Prochlorococcus$ variable modification ramping', pad=15, fontsize = 20)\n",
    "ax.set_xticks(med4['Number of variable PTMs'])\n",
    "\n",
    "fig.tight_layout()\n",
    "\n",
    "# save plot\n",
    "\n",
    "plt.savefig(\"MED4-variable-mod-bar.png\")\n",
    "\n",
    "# also save in manuscript latex dir high res\n",
    "plt.savefig(\"/home/millieginty/Documents/git-repos/denovo-etnp/MED4-variable-mod-bar.png\", dpi = 300, bbox_inches='tight')"
   ]
  },
  {
   "cell_type": "code",
   "execution_count": null,
   "metadata": {},
   "outputs": [],
   "source": []
  }
 ],
 "metadata": {
  "kernelspec": {
   "display_name": "Python 3",
   "language": "python",
   "name": "python3"
  },
  "language_info": {
   "codemirror_mode": {
    "name": "ipython",
    "version": 3
   },
   "file_extension": ".py",
   "mimetype": "text/x-python",
   "name": "python",
   "nbconvert_exporter": "python",
   "pygments_lexer": "ipython3",
   "version": "3.8.3"
  }
 },
 "nbformat": 4,
 "nbformat_minor": 4
}
