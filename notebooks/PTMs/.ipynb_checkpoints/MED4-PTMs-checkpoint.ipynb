{
 "cells": [
  {
   "cell_type": "markdown",
   "metadata": {},
   "source": [
    "### Plotting PTMs in Comet and PEAKS results using python for *Prochlococcus* MED4 benchmark study\n",
    "\n",
    "Starting with:\n",
    "\n",
    "    Peaks de novo results (.csv) of PTM-optimized sequencing\n",
    "    Comet results from PTM-optimized database searches\n",
    "    PeaksDB (de novo-assisted database searching) results of PTM-optimzed searching\n",
    "\n",
    "Goal:\n",
    "\n",
    "    Figures comparing the modifcation type and extent in database and de novo peptides\n",
    "    \n",
    "Using:\n",
    "\n",
    "    - pandas\n",
    "    - matplotlib"
   ]
  },
  {
   "cell_type": "code",
   "execution_count": 1,
   "metadata": {},
   "outputs": [
    {
     "data": {
      "text/plain": [
       "'1.0.5'"
      ]
     },
     "execution_count": 1,
     "metadata": {},
     "output_type": "execute_result"
    }
   ],
   "source": [
    "# LIBRARIES\n",
    "#import pandas library for working with tabular data\n",
    "import os\n",
    "os.getcwd()\n",
    "import pandas as pd\n",
    "import numpy as np\n",
    "import matplotlib.pyplot as plt\n",
    "#from matplotlib import pyplot\n",
    "import seaborn as sns\n",
    "from scipy.stats import kde\n",
    "#import regular expresson (regex)\n",
    "import re\n",
    "#check pandas version\n",
    "pd.__version__"
   ]
  },
  {
   "cell_type": "markdown",
   "metadata": {},
   "source": [
    "### Non NAAF-corrected PTMs and AAs"
   ]
  },
  {
   "cell_type": "code",
   "execution_count": 70,
   "metadata": {},
   "outputs": [
    {
     "data": {
      "text/html": [
       "<div>\n",
       "<style scoped>\n",
       "    .dataframe tbody tr th:only-of-type {\n",
       "        vertical-align: middle;\n",
       "    }\n",
       "\n",
       "    .dataframe tbody tr th {\n",
       "        vertical-align: top;\n",
       "    }\n",
       "\n",
       "    .dataframe thead th {\n",
       "        text-align: right;\n",
       "    }\n",
       "</style>\n",
       "<table border=\"1\" class=\"dataframe\">\n",
       "  <thead>\n",
       "    <tr style=\"text-align: right;\">\n",
       "      <th></th>\n",
       "      <th>data source</th>\n",
       "      <th>% C w/ carb</th>\n",
       "      <th>% M w/ oxid</th>\n",
       "      <th>% N w/ deam</th>\n",
       "      <th>% Q w/ deam</th>\n",
       "      <th>% K w/ iron</th>\n",
       "      <th>% K w/ meth</th>\n",
       "      <th>% R w/ meth</th>\n",
       "    </tr>\n",
       "  </thead>\n",
       "  <tbody>\n",
       "    <tr>\n",
       "      <th>0</th>\n",
       "      <td>peaks50</td>\n",
       "      <td>1.000000</td>\n",
       "      <td>0.437152</td>\n",
       "      <td>0.181737</td>\n",
       "      <td>0.032968</td>\n",
       "      <td>0.084032</td>\n",
       "      <td>0.103463</td>\n",
       "      <td>0.303774</td>\n",
       "    </tr>\n",
       "    <tr>\n",
       "      <th>1</th>\n",
       "      <td>peaks80</td>\n",
       "      <td>1.000000</td>\n",
       "      <td>0.460325</td>\n",
       "      <td>0.221823</td>\n",
       "      <td>0.057234</td>\n",
       "      <td>0.019525</td>\n",
       "      <td>0.042467</td>\n",
       "      <td>0.203890</td>\n",
       "    </tr>\n",
       "    <tr>\n",
       "      <th>2</th>\n",
       "      <td>comet2.5</td>\n",
       "      <td>0.927622</td>\n",
       "      <td>0.304908</td>\n",
       "      <td>0.084605</td>\n",
       "      <td>0.086430</td>\n",
       "      <td>0.018646</td>\n",
       "      <td>0.010447</td>\n",
       "      <td>0.009026</td>\n",
       "    </tr>\n",
       "    <tr>\n",
       "      <th>3</th>\n",
       "      <td>comet3</td>\n",
       "      <td>0.928180</td>\n",
       "      <td>0.292821</td>\n",
       "      <td>0.066992</td>\n",
       "      <td>0.067926</td>\n",
       "      <td>0.007423</td>\n",
       "      <td>0.003459</td>\n",
       "      <td>0.003377</td>\n",
       "    </tr>\n",
       "    <tr>\n",
       "      <th>4</th>\n",
       "      <td>peaksdb</td>\n",
       "      <td>1.000000</td>\n",
       "      <td>0.378089</td>\n",
       "      <td>0.035752</td>\n",
       "      <td>0.029047</td>\n",
       "      <td>0.002704</td>\n",
       "      <td>0.026551</td>\n",
       "      <td>0.013584</td>\n",
       "    </tr>\n",
       "  </tbody>\n",
       "</table>\n",
       "</div>"
      ],
      "text/plain": [
       "  data source  % C w/ carb  % M w/ oxid  % N w/ deam  % Q w/ deam  \\\n",
       "0     peaks50     1.000000     0.437152     0.181737     0.032968   \n",
       "1     peaks80     1.000000     0.460325     0.221823     0.057234   \n",
       "2    comet2.5     0.927622     0.304908     0.084605     0.086430   \n",
       "3      comet3     0.928180     0.292821     0.066992     0.067926   \n",
       "4     peaksdb     1.000000     0.378089     0.035752     0.029047   \n",
       "\n",
       "   % K w/ iron  % K w/ meth  % R w/ meth  \n",
       "0     0.084032     0.103463     0.303774  \n",
       "1     0.019525     0.042467     0.203890  \n",
       "2     0.018646     0.010447     0.009026  \n",
       "3     0.007423     0.003459     0.003377  \n",
       "4     0.002704     0.026551     0.013584  "
      ]
     },
     "execution_count": 70,
     "metadata": {},
     "output_type": "execute_result"
    }
   ],
   "source": [
    "# read in csvs made in MED4-PeaksDB and MED4-Comet notebooks\n",
    "# bringing in Comet > XCorr 3 and 2.5 and de novo peptides > 50% ALC and >80% ALC\n",
    "# also reading in Peaks DB peptides >20 -logP\n",
    "\n",
    "peaks50 = pd.read_csv(\"/home/millieginty/Documents/git-repos/2017-etnp/data/pro2020/RAL4_95_MED2_trypsin/PeaksDN/RAL95_MED2_trypsin_combine_PTMopt_DN50_totals.csv\")\n",
    "peaks80 = pd.read_csv(\"/home/millieginty/Documents/git-repos/2017-etnp/data/pro2020/RAL4_95_MED2_trypsin/PeaksDN/RAL95_MED2_trypsin_combine_PTMopt_DN80_totals.csv\")\n",
    "comet25 = pd.read_csv(\"/home/millieginty/Documents/git-repos/2017-etnp/data/pro2020/RAL4_95_MED2_trypsin/TPP/RAL95_MED2_trypsin_combine_cometpmm25_totals.csv\")\n",
    "comet3 = pd.read_csv(\"/home/millieginty/Documents/git-repos/2017-etnp/data/pro2020/RAL4_95_MED2_trypsin/TPP/RAL95_MED2_trypsin_combine_cometpmm3_totals.csv\")\n",
    "peaksdb = pd.read_csv(\"/home/millieginty/Documents/git-repos/2017-etnp/data/pro2020/RAL4_95_MED2_trypsin/PeaksDB-PTMopt/RAL95_MED2_trypsin_combine_PeaksDBpsm_totals.csv\")\n",
    "\n",
    "frames = [peaks50, peaks80, comet25, comet3, peaksdb]\n",
    "index = ['peaks50', 'peaks80', 'comet2.5', 'comet3', 'peaksdb']\n",
    "\n",
    "# concatenate dataframes\n",
    "tot = pd.concat(frames, sort=False, ignore_index=True)\n",
    "\n",
    "# there's a useless column in there\n",
    "tot = tot.loc[:, ~tot.columns.str.contains('^Unnamed')]\n",
    "\n",
    "# reindex with peaks and comet\n",
    "names = ['peaks50', 'peaks80', 'comet2.5', 'comet3', 'peaksdb']\n",
    "tot.insert(loc=0, column='data source', value=names)\n",
    "tot.set_index('data source')\n",
    "\n",
    "# separate out the dataframe into AAs and %PTMs, too\n",
    "AA = tot[['A', 'C', 'D', 'E', 'F', 'G', 'H', 'I', 'K', 'L', 'M', 'N', 'P', 'Q', 'R', 'S', 'T', 'V', 'W', 'Y']].copy()\n",
    "\n",
    "# no C since it's the same #ptm = tot[['% C w/ carb.', '% M w/ oxid', '% N w/ deam', '% Q w/ deam', '% K w/ iron', '% K w/ meth', '% R w/ meth']].copy()\n",
    "ptm = tot[['data source', '% C w/ carb', '% M w/ oxid', '% N w/ deam', '% Q w/ deam', '% K w/ iron', '% K w/ meth', '% R w/ meth']].copy()\n",
    "\n",
    "ptm.head()"
   ]
  },
  {
   "cell_type": "code",
   "execution_count": 71,
   "metadata": {},
   "outputs": [
    {
     "data": {
      "text/plain": [
       "[Text(0, 0, 'Peaks 50 % ALC'),\n",
       " Text(0, 0, 'Peaks 80% ALC'),\n",
       " Text(0, 0, 'Comet > XCorr 2.5'),\n",
       " Text(0, 0, 'Comet > XCorr 3'),\n",
       " Text(0, 0, 'Peaks DB > 20 -logP')]"
      ]
     },
     "execution_count": 71,
     "metadata": {},
     "output_type": "execute_result"
    },
    {
     "data": {
      "image/png": "[encoded data removed]",
      "text/plain": [
       "<Figure size 432x288 with 1 Axes>"
      ]
     },
     "metadata": {
      "needs_background": "light"
     },
     "output_type": "display_data"
    }
   ],
   "source": [
    "# bar plot of residue totals\n",
    "# there is no isoleucine (I) in Peaks data, which is why L is really big and I is 0\n",
    "\n",
    "\n",
    "x_labels = ['Peaks 50 % ALC', 'Peaks 80% ALC', 'Comet > XCorr 2.5', 'Comet > XCorr 3', 'Peaks DB > 20 -logP']\n",
    "\n",
    "\n",
    "ax = AA.plot(kind=\"bar\", title = 'MED2_trypsin_combine')\n",
    "plt.xticks(rotation=20)\n",
    "ax.get_legend().remove()\n",
    "ax.set_xticklabels(x_labels)"
   ]
  },
  {
   "cell_type": "code",
   "execution_count": 80,
   "metadata": {},
   "outputs": [
    {
     "data": {
      "image/png": "[encoded data removed]",
      "text/plain": [
       "<Figure size 432x288 with 1 Axes>"
      ]
     },
     "metadata": {
      "needs_background": "light"
     },
     "output_type": "display_data"
    }
   ],
   "source": [
    "# bar plot of relative modifications\n",
    "\n",
    "y_labels = ['Peaks 50 % ALC', 'Peaks 80% ALC', 'Comet > XCorr 3.0', 'Peaks DB > 20 -logP']\n",
    "\n",
    "ax = ptm.iloc[0:4].plot(kind=\"barh\", title = 'Peptide mass modifications in Pro MED4 isolate')\n",
    "plt.xticks(rotation=35)\n",
    "#ax.get_legend().remove()\n",
    "ax.set_yticklabels(y_labels)\n",
    "ax.set_xlabel('fraction of relevent residues with mod.')\n",
    "legend = plt.legend()\n",
    "legend.get_frame().set_edgecolor('1.0')"
   ]
  },
  {
   "cell_type": "markdown",
   "metadata": {},
   "source": [
    "### NAAF corrected PTMS and AAs"
   ]
  },
  {
   "cell_type": "code",
   "execution_count": 85,
   "metadata": {},
   "outputs": [
    {
     "data": {
      "text/html": [
       "<div>\n",
       "<style scoped>\n",
       "    .dataframe tbody tr th:only-of-type {\n",
       "        vertical-align: middle;\n",
       "    }\n",
       "\n",
       "    .dataframe tbody tr th {\n",
       "        vertical-align: top;\n",
       "    }\n",
       "\n",
       "    .dataframe thead th {\n",
       "        text-align: right;\n",
       "    }\n",
       "</style>\n",
       "<table border=\"1\" class=\"dataframe\">\n",
       "  <thead>\n",
       "    <tr style=\"text-align: right;\">\n",
       "      <th></th>\n",
       "      <th>data source</th>\n",
       "      <th>% M w/ oxid</th>\n",
       "      <th>% N w/ deam</th>\n",
       "      <th>% Q w/ deam</th>\n",
       "      <th>% K w/ iron</th>\n",
       "      <th>% K w/ meth</th>\n",
       "      <th>% R w/ meth</th>\n",
       "    </tr>\n",
       "  </thead>\n",
       "  <tbody>\n",
       "    <tr>\n",
       "      <th>0</th>\n",
       "      <td>peaks80</td>\n",
       "      <td>0.666059</td>\n",
       "      <td>0.285542</td>\n",
       "      <td>0.038098</td>\n",
       "      <td>0.178624</td>\n",
       "      <td>0.243143</td>\n",
       "      <td>0.155600</td>\n",
       "    </tr>\n",
       "    <tr>\n",
       "      <th>1</th>\n",
       "      <td>comet3</td>\n",
       "      <td>0.196407</td>\n",
       "      <td>0.055786</td>\n",
       "      <td>0.037186</td>\n",
       "      <td>0.008633</td>\n",
       "      <td>0.006061</td>\n",
       "      <td>0.006967</td>\n",
       "    </tr>\n",
       "    <tr>\n",
       "      <th>2</th>\n",
       "      <td>peaksdb</td>\n",
       "      <td>0.321040</td>\n",
       "      <td>0.023652</td>\n",
       "      <td>0.014787</td>\n",
       "      <td>0.000141</td>\n",
       "      <td>0.012057</td>\n",
       "      <td>0.002308</td>\n",
       "    </tr>\n",
       "  </tbody>\n",
       "</table>\n",
       "</div>"
      ],
      "text/plain": [
       "  data source  % M w/ oxid  % N w/ deam  % Q w/ deam  % K w/ iron  \\\n",
       "0     peaks80     0.666059     0.285542     0.038098     0.178624   \n",
       "1      comet3     0.196407     0.055786     0.037186     0.008633   \n",
       "2     peaksdb     0.321040     0.023652     0.014787     0.000141   \n",
       "\n",
       "   % K w/ meth  % R w/ meth  \n",
       "0     0.243143     0.155600  \n",
       "1     0.006061     0.006967  \n",
       "2     0.012057     0.002308  "
      ]
     },
     "execution_count": 85,
     "metadata": {},
     "output_type": "execute_result"
    }
   ],
   "source": [
    "# read in csvs made in MED4-PeaksDN, MED4-PeaksDB and MED4-Comet notebooks NAAF corrected totals\n",
    "# bringing in Comet > XCorr 3 de novo peptides >80% ALC\n",
    "# also reading in Peaks DB peptides >20 -logP\n",
    "\n",
    "peaks80 = pd.read_csv(\"/home/millieginty/Documents/git-repos/2017-etnp/data/pro2020/RAL4_95_MED2_trypsin/PeaksDN/RAL95_MED2_trypsin_combine_DN80_NAAF_totals.csv\")\n",
    "comet3 = pd.read_csv(\"/home/millieginty/Documents/git-repos/2017-etnp/data/pro2020/RAL4_95_MED2_trypsin/TPP/RAL95_MED2_trypsin_combine_Comet3_NAAF_totals.csv\")\n",
    "peaksdb = pd.read_csv(\"/home/millieginty/Documents/git-repos/2017-etnp/data/pro2020/RAL4_95_MED2_trypsin/PeaksDB-PTMopt/RAL95_MED2_trypsin_combine_PeaksDBpsm_NAAF_totals.csv\")\n",
    "\n",
    "frames = [peaks80, comet3, peaksdb]\n",
    "index = ['peaks80', 'comet3', 'peaksdb']\n",
    "\n",
    "# concatenate dataframes\n",
    "tot = pd.concat(frames, sort=False, ignore_index=True)\n",
    "\n",
    "# there's a useless column in there\n",
    "tot = tot.loc[:, ~tot.columns.str.contains('^Unnamed')]\n",
    "\n",
    "# reindex with peaks and comet\n",
    "names = ['peaks80', 'comet3', 'peaksdb']\n",
    "tot.insert(loc=0, column='data source', value=names)\n",
    "tot.set_index('data source')\n",
    "\n",
    "# separate out the dataframe into AAs and %PTMs, too\n",
    "NAAF_AA = tot[['A', 'C', 'D', 'E', 'F', 'G', 'H', 'I', 'K', 'L', 'M', 'N', 'P', 'Q', 'R', 'S', 'T', 'V', 'W', 'Y']].copy()\n",
    "\n",
    "# no C since it's the same #ptm = tot[['% C w/ carb.', '% M w/ oxid', '% N w/ deam', '% Q w/ deam', '% K w/ iron', '% K w/ meth', '% R w/ meth']].copy()\n",
    "NAAF_ptm = tot[['data source', '% M w/ oxid', '% N w/ deam', '% Q w/ deam', '% K w/ iron', '% K w/ meth', '% R w/ meth']].copy()\n",
    "\n",
    "NAAF_ptm.head()"
   ]
  },
  {
   "cell_type": "code",
   "execution_count": 87,
   "metadata": {},
   "outputs": [
    {
     "data": {
      "image/png": "[encoded data removed]",
      "text/plain": [
       "<Figure size 432x288 with 1 Axes>"
      ]
     },
     "metadata": {
      "needs_background": "light"
     },
     "output_type": "display_data"
    }
   ],
   "source": [
    "# bar plot of relative modifications\n",
    "\n",
    "y_labels = ['Peaks 80% ALC', 'Comet > XCorr 3.0', 'Peaks DB > 20 -logP']\n",
    "\n",
    "ax = NAAF_ptm.plot(kind=\"barh\", title = 'NAAF-corrected peptide mass modifications in Pro MED4 isolate')\n",
    "plt.xticks(rotation=35)\n",
    "#ax.get_legend().remove()\n",
    "ax.set_yticklabels(y_labels)\n",
    "ax.set_xlabel('fraction of relevent residues with mod.')\n",
    "legend = plt.legend()\n",
    "legend.get_frame().set_edgecolor('1.0')"
   ]
  },
  {
   "cell_type": "code",
   "execution_count": null,
   "metadata": {},
   "outputs": [],
   "source": []
  }
 ],
 "metadata": {
  "kernelspec": {
   "display_name": "Python 3",
   "language": "python",
   "name": "python3"
  },
  "language_info": {
   "codemirror_mode": {
    "name": "ipython",
    "version": 3
   },
   "file_extension": ".py",
   "mimetype": "text/x-python",
   "name": "python",
   "nbconvert_exporter": "python",
   "pygments_lexer": "ipython3",
   "version": "3.8.3"
  }
 },
 "nbformat": 4,
 "nbformat_minor": 4
}
