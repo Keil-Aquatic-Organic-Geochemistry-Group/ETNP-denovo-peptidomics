{
 "cells": [
  {
   "cell_type": "code",
   "execution_count": 1,
   "metadata": {
    "collapsed": false
   },
   "outputs": [
    {
     "name": "stdout",
     "output_type": "stream",
     "text": [
      "Tue Jul 10 13:04:23 PDT 2018\r\n"
     ]
    }
   ],
   "source": [
    "!date"
   ]
  },
  {
   "cell_type": "code",
   "execution_count": 3,
   "metadata": {
    "collapsed": false
   },
   "outputs": [
    {
     "name": "stdout",
     "output_type": "stream",
     "text": [
      "Software:\r\n",
      "\r\n",
      "    System Software Overview:\r\n",
      "\r\n",
      "      System Version: macOS 10.13.5 (17F77)\r\n",
      "      Kernel Version: Darwin 17.6.0\r\n",
      "      Boot Volume: Macintosh HD\r\n",
      "      Boot Mode: Normal\r\n",
      "      Computer Name: Megan’s MacBook Pro (2)\r\n",
      "      User Name: Megan Duffy (meganduffy)\r\n",
      "      Secure Virtual Memory: Enabled\r\n",
      "      System Integrity Protection: Enabled\r\n",
      "      Time since boot: 15 days 10:30\r\n",
      "\r\n"
     ]
    }
   ],
   "source": [
    "!system_profiler SPSoftwareDataType"
   ]
  },
  {
   "cell_type": "markdown",
   "metadata": {},
   "source": [
    "### This notebook is for documenting my project using publically available Synechococcus sp. (strain WH8102) LCMS data as well as a proteome to benchmark de novo peptide sequencing and protein identification with PEAKS 8.5 ###\n",
    "\n",
    "### I was particularly interested in using strain WH8102 because Clara including its proteome in our sequence database, and we did identify some peptides in 2017 ETNP suspended POM samples (at least looking at the JA9-JA14 - GF75s identifications that were searched with the BLAST database).\n",
    "\n",
    "### This is pretty much what I did for Prochlorococcus marinus subsp. pastoris str. CMP1986 or _MED4_, with data from Rachel Lundeen (culture grown in Penny Chisholm's lab at MIT). ###\n",
    "\n",
    "### First I'm downloading the RAW Thermo data from the [PRIDE](https://www.ebi.ac.uk/pride/archive/) proteomics data repository. These files were uploaded as part of Project PXD002914, Varkey et al. 2016, in ISME: [_Effects of low temperature on tropical and temperate isolates of marine Synechococcus_](https://www.ncbi.nlm.nih.gov/pmc/articles/PMC5029218/).\n",
    "\n",
    "### I downloaded the files on the Keil group data computer on 07.10.18 using this FTP: ftp://ftp.pride.ebi.ac.uk/pride/data/archive/2015/10/PXD002914 ###\n",
    "\n",
    "\n",
    "### I chose ph071212_DV_01 because its search was used to ID peptides in the file WH8102_18_R1_peptides.xls, also in the repository. So I knew it was the correct strain. The temperature is pretty irrelevent to me, as it was between 18 and 22 degrees C. Also, I know the culture was in logarithmic stage at harvesting: 'Cultures were grown at 18 °C and 22 °C under constant illumination of 20 μmol photons m−2 s−1 and agitation at 100 r.p.m. Cultures were acclimated to experimental temperature conditions through three successful serial transfers (8 generations total) before harvesting cells in logarithmic phase' ###\n",
    "\n",
    "### I downloaded the Synechococcus sp. strain WH8102 proteome (UP000001422) on 07.10.18 from [Uniprot](https://www.uniprot.org/proteomes/UP000001422)"
   ]
  },
  {
   "cell_type": "code",
   "execution_count": null,
   "metadata": {
    "collapsed": true
   },
   "outputs": [],
   "source": []
  }
 ],
 "metadata": {
  "anaconda-cloud": {},
  "kernelspec": {
   "display_name": "Python [default]",
   "language": "python",
   "name": "python3"
  },
  "language_info": {
   "codemirror_mode": {
    "name": "ipython",
    "version": 3
   },
   "file_extension": ".py",
   "mimetype": "text/x-python",
   "name": "python",
   "nbconvert_exporter": "python",
   "pygments_lexer": "ipython3",
   "version": "3.5.2"
  }
 },
 "nbformat": 4,
 "nbformat_minor": 1
}
