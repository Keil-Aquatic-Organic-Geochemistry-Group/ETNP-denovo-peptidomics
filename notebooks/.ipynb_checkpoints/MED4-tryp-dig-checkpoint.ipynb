{
 "cells": [
  {
   "cell_type": "code",
   "execution_count": 1,
   "metadata": {
    "collapsed": false
   },
   "outputs": [
    {
     "name": "stdout",
     "output_type": "stream",
     "text": [
      "Sun Jun  4 19:52:46 PDT 2017\r\n"
     ]
    }
   ],
   "source": [
    "!date"
   ]
  },
  {
   "cell_type": "code",
   "execution_count": 2,
   "metadata": {
    "collapsed": false
   },
   "outputs": [
    {
     "name": "stdout",
     "output_type": "stream",
     "text": [
      "Software:\r\n",
      "\r\n",
      "    System Software Overview:\r\n",
      "\r\n",
      "      System Version: macOS 10.12.5 (16F73)\r\n",
      "      Kernel Version: Darwin 16.6.0\r\n",
      "      Boot Volume: Macintosh HD\r\n",
      "      Boot Mode: Normal\r\n",
      "      Computer Name: Megan’s MacBook Pro\r\n",
      "      User Name: Megan Duffy (meganduffy)\r\n",
      "      Secure Virtual Memory: Enabled\r\n",
      "      System Integrity Protection: Enabled\r\n",
      "      Time since boot: 10 days 4:42\r\n",
      "\r\n"
     ]
    }
   ],
   "source": [
    "!system_profiler SPSoftwareDataType"
   ]
  },
  {
   "cell_type": "markdown",
   "metadata": {},
   "source": [
    "### In this notebook, I'm attempting to use Ya Feng's in silico trypsin digest script, Trypsin Master, to generate a list of tryptic peptides from the [MED4 (+Hi3) database I made](https://github.com/MeganEDuffy/2017-etnp/blob/master/notebooks/MED4-proteome-ftp.ipynb) so I can compare them to the _de novo_ sequenced peptides from PEAKS. ###\n",
    "\n",
    "#### I copied the script, trypsin.py, into my /data directory for this repo. Below are the usage instructions from [Ya Feng's README](https://github.com/yafeng/trypsin): ####\n",
    "\n",
    "Usage: python trypsin.py --input input_filename --output output_filename --miss 1\n",
    "\n",
    "Note:\n",
    "\n",
    "    The script is written under Python 2.7\n",
    "    Biopython is prerequisite\n",
    "    The trypsin digestion script shared here follows proline rule, which means it does not cut lysine (K) or arginine (R) if they are followed by proline (P).\n",
    "    The program outputs a text format file which contains protein ID in the first column and corresponding tryptic peptides in the second column.\n",
    "\n",
    "How to use:\n",
    "\n",
    "    Copy your fasta file and this script to same folder.\n",
    "    Open a command terminal and cd to this folder.\n",
    "    Type: python trypsin.py --input input_filename --output output_filename --miss 1\n",
    "\n",
    "Three arguments are:\n",
    "\n",
    "-input: name of your fasta file which contains protein sequences to be digested\n",
    "\n",
    "-output output txt file name\n",
    "\n",
    "-miss: number of allowed miss cleavage site, choose value from 0, 1, 2.\n",
    "\n",
    "Speed\n",
    "\n",
    "To digest Uniprot Human reference proteome (including canonical proteins and isoforms) which contains 88,717 proteins, the program finish within 22 seconds.\n"
   ]
  },
  {
   "cell_type": "markdown",
   "metadata": {},
   "source": [
    "#### This is a sixgill env I made it conda to run Damon May's sixgill package, it has Python 2.7 and biopython, needed for Trypsin Master"
   ]
  },
  {
   "cell_type": "code",
   "execution_count": 17,
   "metadata": {
    "collapsed": false
   },
   "outputs": [
    {
     "name": "stdout",
     "output_type": "stream",
     "text": [
      "Python 3.5.2 :: Anaconda custom (x86_64)\r\n"
     ]
    }
   ],
   "source": [
    "!python -V"
   ]
  },
  {
   "cell_type": "markdown",
   "metadata": {},
   "source": [
    "#### Darn, I should have 2.7 in the sixgill environment... I should also have biopython. Do I?####"
   ]
  },
  {
   "cell_type": "code",
   "execution_count": 22,
   "metadata": {
    "collapsed": false
   },
   "outputs": [
    {
     "name": "stdout",
     "output_type": "stream",
     "text": [
      "/bin/sh: biopython: command not found\r\n"
     ]
    }
   ],
   "source": [
    "!biopython -V"
   ]
  },
  {
   "cell_type": "code",
   "execution_count": 23,
   "metadata": {
    "collapsed": false
   },
   "outputs": [
    {
     "name": "stdout",
     "output_type": "stream",
     "text": [
      "# conda environments:\r\n",
      "#\r\n",
      "sixgill                  /Users/meganduffy/anaconda/envs/sixgill\r\n",
      "root                  *  /Users/meganduffy/anaconda\r\n",
      "\r\n"
     ]
    }
   ],
   "source": [
    "!conda info --envs"
   ]
  },
  {
   "cell_type": "markdown",
   "metadata": {},
   "source": [
    "#### Even though it says we're in a sixgill environment in Jupyter, the * denotes we're in a root env. Why?\n",
    "\n",
    "![screen shot of env listing and conda info listing](https://github.com/MeganEDuffy/2017-etnp/blob/master/images/conda-env-shit.png?raw=true)"
   ]
  },
  {
   "cell_type": "code",
   "execution_count": 21,
   "metadata": {
    "collapsed": false
   },
   "outputs": [
    {
     "name": "stdout",
     "output_type": "stream",
     "text": [
      "name: sixgill\r\n",
      "channels: !!python/tuple\r\n",
      "- defaults\r\n",
      "dependencies:\r\n",
      "- appnope=0.1.0=py27_0\r\n",
      "- backports=1.0=py27_0\r\n",
      "- backports_abc=0.4=py27_0\r\n",
      "- bioconda::bcftools=1.3.1=0\r\n",
      "- bioconda::curl=7.45.0=1\r\n",
      "- bioconda::htslib=1.3.1=0\r\n",
      "- bioconda::pysam=0.9.1=py27_0\r\n",
      "- bioconda::samtools=1.3.1=2\r\n",
      "- biopython=1.67=np111py27_0\r\n",
      "- decorator=4.0.10=py27_0\r\n",
      "- get_terminal_size=1.0.0=py27_0\r\n",
      "- ipykernel=4.3.1=py27_0\r\n",
      "- ipython=5.0.0=py27_0\r\n",
      "- ipython_genutils=0.1.0=py27_0\r\n",
      "- jupyter_client=4.3.0=py27_0\r\n",
      "- jupyter_core=4.1.0=py27_0\r\n",
      "- libgcc=4.8.5=1\r\n",
      "- mkl=11.3.3=0\r\n",
      "- ncurses=5.9=8\r\n",
      "- numpy=1.11.1=py27_0\r\n",
      "- openssl=1.0.2h=1\r\n",
      "- path.py=8.2.1=py27_0\r\n",
      "- pathlib2=2.1.0=py27_0\r\n",
      "- pexpect=4.0.1=py27_0\r\n",
      "- pickleshare=0.7.3=py27_0\r\n",
      "- pip=8.1.2=py27_0\r\n",
      "- prompt_toolkit=1.0.3=py27_0\r\n",
      "- ptyprocess=0.5.1=py27_0\r\n",
      "- pygments=2.1.3=py27_0\r\n",
      "- python=2.7.12=1\r\n",
      "- python.app=1.2=py27_4\r\n",
      "- pyzmq=15.3.0=py27_0\r\n",
      "- readline=6.2=2\r\n",
      "- setuptools=23.0.0=py27_0\r\n",
      "- simplegeneric=0.8.1=py27_1\r\n",
      "- singledispatch=3.4.0.3=py27_0\r\n",
      "- six=1.10.0=py27_0\r\n",
      "- sqlite=3.13.0=0\r\n",
      "- ssl_match_hostname=3.4.0.2=py27_1\r\n",
      "- tk=8.5.18=0\r\n",
      "- tornado=4.4.1=py27_0\r\n",
      "- traitlets=4.2.2=py27_0\r\n",
      "- wcwidth=0.1.7=py27_0\r\n",
      "- wheel=0.29.0=py27_0\r\n",
      "- zlib=1.2.8=3\r\n",
      "- pip:\r\n",
      "  - backports-abc==0.4\r\n",
      "  - backports.shutil-get-terminal-size==1.0.0\r\n",
      "  - backports.ssl-match-hostname==3.4.0.2\r\n",
      "  - ipython-genutils==0.1.0\r\n",
      "  - jupyter-client==4.3.0\r\n",
      "  - jupyter-core==4.1.0\r\n",
      "  - prompt-toolkit==1.0.3\r\n",
      "  - sixgill==0.2.1\r\n",
      "prefix: /Users/meganduffy/anaconda/envs/sixgill\r\n",
      "\r\n"
     ]
    }
   ],
   "source": [
    "!conda env export -n sixgill"
   ]
  },
  {
   "cell_type": "code",
   "execution_count": 26,
   "metadata": {
    "collapsed": true
   },
   "outputs": [],
   "source": [
    "# this should switch to the sixgill env\n",
    "!source activate sixgill"
   ]
  },
  {
   "cell_type": "code",
   "execution_count": 27,
   "metadata": {
    "collapsed": false
   },
   "outputs": [
    {
     "name": "stdout",
     "output_type": "stream",
     "text": [
      "# conda environments:\r\n",
      "#\r\n",
      "sixgill                  /Users/meganduffy/anaconda/envs/sixgill\r\n",
      "root                  *  /Users/meganduffy/anaconda\r\n",
      "\r\n"
     ]
    }
   ],
   "source": [
    "!conda info --envs"
   ]
  },
  {
   "cell_type": "markdown",
   "metadata": {},
   "source": [
    "#### Damn it"
   ]
  },
  {
   "cell_type": "markdown",
   "metadata": {},
   "source": [
    "#### In this notebook, I'm attempting to use Ya Feng's in silico trypsin digest script, Trypsin Master, to generate a list of tryptic peptides from the [MED4 (+Hi3) database I made](https://github.com/MeganEDuffy/2017-etnp/blob/master/notebooks/MED4-proteome-ftp.ipynb) so I can compare them to the _de novo_ sequenced peptides from PEAKS. ####\n",
    "\n",
    "#### I copied the script, trypsin.py, into my /data directory for this repo. Below are the usage instructions from [Ya Feng's README](https://github.com/yafeng/trypsin):\n",
    "\n",
    "Usage: python trypsin.py --input input_filename --output output_filename --miss 1\n",
    "\n",
    "Note:\n",
    "\n",
    "    The script is written under Python 2.7\n",
    "    Biopython is prerequisite\n",
    "    The trypsin digestion script shared here follows proline rule, which means it does not cut lysine (K) or arginine (R) if they are followed by proline (P).\n",
    "    The program outputs a text format file which contains protein ID in the first column and corresponding tryptic peptides in the second column.\n",
    "\n",
    "How to use:\n",
    "\n",
    "    Copy your fasta file and this script to same folder.\n",
    "    Open a command terminal and cd to this folder.\n",
    "    Type: python trypsin.py --input input_filename --output output_filename --miss 1\n",
    "\n",
    "Three arguments are:\n",
    "\n",
    "-input: name of your fasta file which contains protein sequences to be digested\n",
    "\n",
    "-output output txt file name\n",
    "\n",
    "-miss: number of allowed miss cleavage site, choose value from 0, 1, 2.\n",
    "\n",
    "Speed\n",
    "\n",
    "To digest Uniprot Human reference proteome (including canonical proteins and isoforms) which contains 88,717 proteins, the program finish within 22 seconds.\n",
    "\n"
   ]
  },
  {
   "cell_type": "code",
   "execution_count": 3,
   "metadata": {
    "collapsed": false
   },
   "outputs": [
    {
     "name": "stdout",
     "output_type": "stream",
     "text": [
      "\u001b[34m05.22.17-peaks\u001b[m\u001b[m/             Uniprot.MED4_Hi3.phr\r\n",
      "05.22.17-peaks.zip          Uniprot.MED4_Hi3.pin\r\n",
      "UP000001026_59919.fasta.gz  Uniprot.MED4_Hi3.psq\r\n",
      "Uniprot.MED4_Hi3.fasta      \u001b[31mtrypsin.py\u001b[m\u001b[m*\r\n"
     ]
    }
   ],
   "source": [
    "ls /Users/meganduffy/Documents/git-repos/2017-etnp/data"
   ]
  },
  {
   "cell_type": "code",
   "execution_count": 9,
   "metadata": {
    "collapsed": false
   },
   "outputs": [
    {
     "name": "stdout",
     "output_type": "stream",
     "text": [
      "/Users/meganduffy/Documents/git-repos/2017-etnp/data\n"
     ]
    }
   ],
   "source": [
    "cd /Users/meganduffy/Documents/git-repos/2017-etnp/data"
   ]
  },
  {
   "cell_type": "code",
   "execution_count": 14,
   "metadata": {
    "collapsed": false
   },
   "outputs": [
    {
     "name": "stdout",
     "output_type": "stream",
     "text": [
      "Traceback (most recent call last):\r\n",
      "  File \"trypsin.py\", line 45, in <module>\r\n",
      "    from Bio import SeqIO\r\n",
      "ImportError: No module named 'Bio'\r\n"
     ]
    }
   ],
   "source": [
    "!python trypsin.py --input Uniprot.MED4_Hi3.fasta --output Uniprot.MED4_Hi3_tryptic.txt --miss 3"
   ]
  },
  {
   "cell_type": "markdown",
   "metadata": {},
   "source": [
    "#### No biopython...which I should have in the sixgill env. What do we have? ####"
   ]
  },
  {
   "cell_type": "code",
   "execution_count": 19,
   "metadata": {
    "collapsed": false
   },
   "outputs": [
    {
     "name": "stdout",
     "output_type": "stream",
     "text": [
      "name: sixgill\r\n",
      "channels: !!python/tuple\r\n",
      "- defaults\r\n",
      "dependencies:\r\n",
      "- appnope=0.1.0=py27_0\r\n",
      "- backports=1.0=py27_0\r\n",
      "- backports_abc=0.4=py27_0\r\n",
      "- bioconda::bcftools=1.3.1=0\r\n",
      "- bioconda::curl=7.45.0=1\r\n",
      "- bioconda::htslib=1.3.1=0\r\n",
      "- bioconda::pysam=0.9.1=py27_0\r\n",
      "- bioconda::samtools=1.3.1=2\r\n",
      "- biopython=1.67=np111py27_0\r\n",
      "- decorator=4.0.10=py27_0\r\n",
      "- get_terminal_size=1.0.0=py27_0\r\n",
      "- ipykernel=4.3.1=py27_0\r\n",
      "- ipython=5.0.0=py27_0\r\n",
      "- ipython_genutils=0.1.0=py27_0\r\n",
      "- jupyter_client=4.3.0=py27_0\r\n",
      "- jupyter_core=4.1.0=py27_0\r\n",
      "- libgcc=4.8.5=1\r\n",
      "- mkl=11.3.3=0\r\n",
      "- ncurses=5.9=8\r\n",
      "- numpy=1.11.1=py27_0\r\n",
      "- openssl=1.0.2h=1\r\n",
      "- path.py=8.2.1=py27_0\r\n",
      "- pathlib2=2.1.0=py27_0\r\n",
      "- pexpect=4.0.1=py27_0\r\n",
      "- pickleshare=0.7.3=py27_0\r\n",
      "- pip=8.1.2=py27_0\r\n",
      "- prompt_toolkit=1.0.3=py27_0\r\n",
      "- ptyprocess=0.5.1=py27_0\r\n",
      "- pygments=2.1.3=py27_0\r\n",
      "- python=2.7.12=1\r\n",
      "- python.app=1.2=py27_4\r\n",
      "- pyzmq=15.3.0=py27_0\r\n",
      "- readline=6.2=2\r\n",
      "- setuptools=23.0.0=py27_0\r\n",
      "- simplegeneric=0.8.1=py27_1\r\n",
      "- singledispatch=3.4.0.3=py27_0\r\n",
      "- six=1.10.0=py27_0\r\n",
      "- sqlite=3.13.0=0\r\n",
      "- ssl_match_hostname=3.4.0.2=py27_1\r\n",
      "- tk=8.5.18=0\r\n",
      "- tornado=4.4.1=py27_0\r\n",
      "- traitlets=4.2.2=py27_0\r\n",
      "- wcwidth=0.1.7=py27_0\r\n",
      "- wheel=0.29.0=py27_0\r\n",
      "- zlib=1.2.8=3\r\n",
      "- pip:\r\n",
      "  - backports-abc==0.4\r\n",
      "  - backports.shutil-get-terminal-size==1.0.0\r\n",
      "  - backports.ssl-match-hostname==3.4.0.2\r\n",
      "  - ipython-genutils==0.1.0\r\n",
      "  - jupyter-client==4.3.0\r\n",
      "  - jupyter-core==4.1.0\r\n",
      "  - prompt-toolkit==1.0.3\r\n",
      "  - sixgill==0.2.1\r\n",
      "prefix: /Users/meganduffy/anaconda/envs/sixgill\r\n",
      "\r\n"
     ]
    }
   ],
   "source": [
    "!conda env export -n sixgill"
   ]
  },
  {
   "cell_type": "code",
   "execution_count": null,
   "metadata": {
    "collapsed": true
   },
   "outputs": [],
   "source": []
  }
 ],
 "metadata": {
  "anaconda-cloud": {},
  "kernelspec": {
   "display_name": "Python [conda env:sixgill]",
   "language": "python",
   "name": "conda-env-sixgill-py"
  },
  "language_info": {
   "codemirror_mode": {
    "name": "ipython",
    "version": 2
   },
   "file_extension": ".py",
   "mimetype": "text/x-python",
   "name": "python",
   "nbconvert_exporter": "python",
   "pygments_lexer": "ipython2",
   "version": "2.7.12"
  }
 },
 "nbformat": 4,
 "nbformat_minor": 1
}
