{
 "cells": [
  {
   "cell_type": "code",
   "execution_count": 1,
   "metadata": {
    "collapsed": false
   },
   "outputs": [
    {
     "name": "stdout",
     "output_type": "stream",
     "text": [
      "Sun Jun  4 19:52:46 PDT 2017\r\n"
     ]
    }
   ],
   "source": [
    "!date"
   ]
  },
  {
   "cell_type": "code",
   "execution_count": 2,
   "metadata": {
    "collapsed": false
   },
   "outputs": [
    {
     "name": "stdout",
     "output_type": "stream",
     "text": [
      "Software:\r\n",
      "\r\n",
      "    System Software Overview:\r\n",
      "\r\n",
      "      System Version: macOS 10.12.5 (16F73)\r\n",
      "      Kernel Version: Darwin 16.6.0\r\n",
      "      Boot Volume: Macintosh HD\r\n",
      "      Boot Mode: Normal\r\n",
      "      Computer Name: Megan’s MacBook Pro\r\n",
      "      User Name: Megan Duffy (meganduffy)\r\n",
      "      Secure Virtual Memory: Enabled\r\n",
      "      System Integrity Protection: Enabled\r\n",
      "      Time since boot: 10 days 4:42\r\n",
      "\r\n"
     ]
    }
   ],
   "source": [
    "!system_profiler SPSoftwareDataType"
   ]
  },
  {
   "cell_type": "markdown",
   "metadata": {},
   "source": [
    "#### In this notebook, I'm attempting to use Ya Feng's in silico trypsin digest script, Trypsin Master, to generate a list of tryptic peptides from the [MED4 (+Hi3) database I made](https://github.com/MeganEDuffy/2017-etnp/blob/master/notebooks/MED4-proteome-ftp.ipynb) so I can compare them to the _de novo_ sequenced peptides from PEAKS. ####\n",
    "\n",
    "#### I copied the script, trypsin.py, into my /data directory for this repo. Now following the usage instructions from [Ya Feng's README](https://github.com/yafeng/trypsin):\n",
    "\n",
    "Usage: python trypsin.py --input input_filename --output output_filename --miss 1\n",
    "\n",
    "Note:\n",
    "\n",
    "    The script is written under Python 2.7\n",
    "    Biopython is prerequisite\n",
    "    The trypsin digestion script shared here follows proline rule, which means it does not cut lysine (K) or arginine (R) if they are followed by proline (P).\n",
    "    The program outputs a text format file which contains protein ID in the first column and corresponding tryptic peptides in the second column.\n",
    "\n",
    "How to use:\n",
    "\n",
    "    Copy your fasta file and this script to same folder.\n",
    "    Open a command terminal and cd to this folder.\n",
    "    Type: python trypsin.py --input input_filename --output output_filename --miss 1\n",
    "\n",
    "Three arguments are:\n",
    "\n",
    "-input: name of your fasta file which contains protein sequences to be digested\n",
    "\n",
    "-output output txt file name\n",
    "\n",
    "-miss: number of allowed miss cleavage site, choose value from 0, 1, 2.\n",
    "\n",
    "Speed\n",
    "\n",
    "To digest Uniprot Human reference proteome (including canonical proteins and isoforms) which contains 88,717 proteins, the program finish within 22 seconds.\n",
    "\n"
   ]
  },
  {
   "cell_type": "code",
   "execution_count": 3,
   "metadata": {
    "collapsed": false
   },
   "outputs": [
    {
     "name": "stdout",
     "output_type": "stream",
     "text": [
      "\u001b[34m05.22.17-peaks\u001b[m\u001b[m/             Uniprot.MED4_Hi3.phr\r\n",
      "05.22.17-peaks.zip          Uniprot.MED4_Hi3.pin\r\n",
      "UP000001026_59919.fasta.gz  Uniprot.MED4_Hi3.psq\r\n",
      "Uniprot.MED4_Hi3.fasta      \u001b[31mtrypsin.py\u001b[m\u001b[m*\r\n"
     ]
    }
   ],
   "source": [
    "ls /Users/meganduffy/Documents/git-repos/2017-etnp/data"
   ]
  },
  {
   "cell_type": "code",
   "execution_count": 9,
   "metadata": {
    "collapsed": false
   },
   "outputs": [
    {
     "name": "stdout",
     "output_type": "stream",
     "text": [
      "/Users/meganduffy/Documents/git-repos/2017-etnp/data\n"
     ]
    }
   ],
   "source": [
    "cd /Users/meganduffy/Documents/git-repos/2017-etnp/data"
   ]
  },
  {
   "cell_type": "code",
   "execution_count": 10,
   "metadata": {
    "collapsed": false
   },
   "outputs": [
    {
     "name": "stdout",
     "output_type": "stream",
     "text": [
      "  File \"trypsin.py\", line 49\r\n",
      "    print \"Warning! wrong command, please read the mannual in Readme.txt.\"\r\n",
      "                                                                         ^\r\n",
      "SyntaxError: Missing parentheses in call to 'print'\r\n"
     ]
    }
   ],
   "source": [
    "!python trypsin.py --input Uniprot.MED4_Hi3.fasta --output Uniprot.MED4_Hi3_tryptic.txt --miss 1"
   ]
  },
  {
   "cell_type": "markdown",
   "metadata": {},
   "source": [
    "#### OK, trying to fix this error. Made a copy of trypsin.py called trypsin2.py and added parentheses ####"
   ]
  },
  {
   "cell_type": "code",
   "execution_count": null,
   "metadata": {
    "collapsed": true
   },
   "outputs": [],
   "source": []
  }
 ],
 "metadata": {
  "anaconda-cloud": {},
  "kernelspec": {
   "display_name": "Python [conda env:sixgill]",
   "language": "python",
   "name": "conda-env-sixgill-py"
  },
  "language_info": {
   "codemirror_mode": {
    "name": "ipython",
    "version": 2
   },
   "file_extension": ".py",
   "mimetype": "text/x-python",
   "name": "python",
   "nbconvert_exporter": "python",
   "pygments_lexer": "ipython2",
   "version": "2.7.12"
  }
 },
 "nbformat": 4,
 "nbformat_minor": 1
}
