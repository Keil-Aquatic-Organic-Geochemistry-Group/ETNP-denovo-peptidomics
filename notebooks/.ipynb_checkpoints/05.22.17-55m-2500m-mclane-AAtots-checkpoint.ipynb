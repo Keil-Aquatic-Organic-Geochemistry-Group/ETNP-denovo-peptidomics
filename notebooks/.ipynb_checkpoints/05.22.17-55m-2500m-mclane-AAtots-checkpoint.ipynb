{
 "cells": [
  {
   "cell_type": "code",
   "execution_count": 1,
   "metadata": {
    "collapsed": false
   },
   "outputs": [
    {
     "name": "stdout",
     "output_type": "stream",
     "text": [
      "Mon Feb 26 11:32:39 PST 2018\r\n"
     ]
    }
   ],
   "source": [
    "!date"
   ]
  },
  {
   "cell_type": "code",
   "execution_count": 2,
   "metadata": {
    "collapsed": false
   },
   "outputs": [
    {
     "name": "stdout",
     "output_type": "stream",
     "text": [
      "Software:\r\n",
      "\r\n",
      "    System Software Overview:\r\n",
      "\r\n",
      "      System Version: macOS 10.13.3 (17D47)\r\n",
      "      Kernel Version: Darwin 17.4.0\r\n",
      "      Boot Volume: Macintosh HD\r\n",
      "      Boot Mode: Normal\r\n",
      "      Computer Name: Megan’s MacBook Pro\r\n",
      "      User Name: Megan Duffy (meganduffy)\r\n",
      "      Secure Virtual Memory: Enabled\r\n",
      "      System Integrity Protection: Enabled\r\n",
      "      Time since boot: 7 days 19:53\r\n",
      "\r\n"
     ]
    }
   ],
   "source": [
    "!system_profiler SPSoftwareDataType"
   ]
  },
  {
   "cell_type": "code",
   "execution_count": 3,
   "metadata": {
    "collapsed": false
   },
   "outputs": [
    {
     "name": "stdout",
     "output_type": "stream",
     "text": [
      "\u001b[34m05.22.17_100m_noenz\u001b[m\u001b[m            \u001b[34m05.22.17_55m_noenz\u001b[m\u001b[m\r\n",
      "\u001b[34m05.22.17_100m_tryp\u001b[m\u001b[m             \u001b[34m05.22.17_55m_tryp\u001b[m\u001b[m\r\n",
      "\u001b[34m05.22.17_145m_noenz\u001b[m\u001b[m            \u001b[34m05.22.17_65m_noenz\u001b[m\u001b[m\r\n",
      "\u001b[34m05.22.17_145m_tryp\u001b[m\u001b[m             \u001b[34m05.22.17_65m_tryp\u001b[m\u001b[m\r\n",
      "\u001b[34m05.22.17_160m_noenz\u001b[m\u001b[m            AMBIC2_trypsin_2mzmL_80alc.csv\r\n",
      "\u001b[34m05.22.17_160m_tryp\u001b[m\u001b[m             AMBIC2_trypsin_2mzmL_80alc.txt\r\n",
      "\u001b[34m05.22.17_2500m_noenz\u001b[m\u001b[m           MED2_trypsin_1raw_80alc.csv\r\n",
      "\u001b[34m05.22.17_2500m_tryp\u001b[m\u001b[m            MED2_trypsin_1raw_80alc.txt\r\n",
      "\u001b[34m05.22.17_250m_noenz\u001b[m\u001b[m            \u001b[34mextracted-peptides\u001b[m\u001b[m\r\n",
      "\u001b[34m05.22.17_250m_tryp\u001b[m\u001b[m             \u001b[34mtotal-dn\u001b[m\u001b[m\r\n"
     ]
    }
   ],
   "source": [
    "#i imported the PEAKS output of both tryptic and non tryptic searches of the 05.22.17 run McLane pump samples (GF75, 55m - 2500 m) \n",
    "#into the data directory from Keil GDrive (PEAKS-exports)\n",
    "\n",
    "! ls /Users/meganduffy/Documents/git-repos/2017-etnp/data/05.22.17-peaks/"
   ]
  },
  {
   "cell_type": "code",
   "execution_count": 4,
   "metadata": {
    "collapsed": false
   },
   "outputs": [
    {
     "name": "stdout",
     "output_type": "stream",
     "text": [
      "\u001b[31m05.22.17_100m_db_tryp.csv\u001b[m\u001b[m \u001b[31mDB search psm.csv\u001b[m\u001b[m         \u001b[31mproteins.csv\u001b[m\u001b[m\r\n",
      "\u001b[31m05.22.17_100m_dn_tryp.csv\u001b[m\u001b[m \u001b[31mprotein-peptides.csv\u001b[m\u001b[m\r\n"
     ]
    }
   ],
   "source": [
    "#each contains de novo only, peptide/protein files, total databased ID'd peptides, etc\n",
    "\n",
    "! ls /Users/meganduffy/Documents/git-repos/2017-etnp/data/05.22.17-peaks/05.22.17_100m_tryp"
   ]
  },
  {
   "cell_type": "code",
   "execution_count": 8,
   "metadata": {
    "collapsed": false
   },
   "outputs": [
    {
     "name": "stdout",
     "output_type": "stream",
     "text": [
      "Peptide,-10lgP,Mass,Length,ppm,m/z,RT,Area,Fraction,Scan,Source File,#Spec,Accession,PTM,AScore,Area [F1]\r",
      "\r\n",
      "LAGNYDKVAQEAVDAVYAVHPNGAVGR,121.42,2783.3989,27,2.7,928.8094,86.27,1.45E6,1,28971,20170411_ETNP_129_01.raw,3,ETNP_90m_PROKKA_15075:ETNP_120m_PROKKA_239026:ETNP_100m_particle_PROKKA_144421,,,8.4E6\r",
      "\r\n"
     ]
    }
   ],
   "source": [
    "#pretty sure the peptides are in column 1\n",
    "\n",
    "!head -2 /Users/meganduffy/Documents/git-repos/2017-etnp/data/05.22.17-peaks/05.22.17_100m_tryp/05.22.17_100m_db_tryp.csv"
   ]
  },
  {
   "cell_type": "code",
   "execution_count": 9,
   "metadata": {
    "collapsed": true
   },
   "outputs": [],
   "source": [
    "#using awk to extract column 1 into new file\n",
    "\n",
    "!awk -F \"\\\"*,\\\"*\" '{print $1}' /Users/meganduffy/Documents/git-repos/2017-etnp/data/05.22.17-peaks/05.22.17_100m_tryp/05.22.17_100m_db_tryp.csv \\\n",
    "> /Users/meganduffy/Documents/git-repos/2017-etnp/data/05.22.17-peaks/05.22.17_100m_tryp/05.22.17_100m_db_tryp-peps.csv"
   ]
  },
  {
   "cell_type": "code",
   "execution_count": 12,
   "metadata": {
    "collapsed": false
   },
   "outputs": [
    {
     "name": "stdout",
     "output_type": "stream",
     "text": [
      "Peptide\r\n",
      "LAGNYDKVAQEAVDAVYAVHPNGAVGR\r\n",
      "IVVGGPYSSVSDAASSLDSSQK\r\n",
      "IVVGGPYSSVSDAASVLDGSQK\r\n",
      "TNYFGLQGTDNGNLTNSFAESELERA\r\n",
      "TNYFGIQGTDNGNLTNSFAESELERA\r\n",
      "VAQEAVDAVYAVHPNGAVGR\r\n",
      "GGQPLFFGEGTYANLSQTAR\r\n",
      "QAVSADSSGSFIGGAELASLK\r\n",
      "LAQARPVTQTSSYSGFSYAQVAR\r\n",
      "LAHATIPGFGSFDGSQNVSADGK\r\n",
      "VIAAADSGSRFPSSSDMESVQGAIQR\r\n",
      "VPTPNVSAVDLVFESGR\r\n",
      "TNYFGLQGTDNGNLTNSFAESELER\r\n",
      "TNYFGIQGTDNGNLTNSFAESELER\r\n",
      "NSFEQQGVTATIYGGSM(+15.99)DGK\r\n",
      "Q(-17.03)AVSADSSGSFIGGAELASLK\r\n",
      "FPSSSDMESVQGAIQR\r\n",
      "NIALATVTSASELSEEQQAALQK\r\n",
      "TNQNVGLDPETLALATPAR\r\n"
     ]
    }
   ],
   "source": [
    "!head -20 /Users/meganduffy/Documents/git-repos/2017-etnp/data/05.22.17-peaks/05.22.17_100m_tryp/05.22.17_100m_db_tryp-peps.csv "
   ]
  },
  {
   "cell_type": "code",
   "execution_count": 13,
   "metadata": {
    "collapsed": false
   },
   "outputs": [
    {
     "name": "stdout",
     "output_type": "stream",
     "text": [
      "    3042 /Users/meganduffy/Documents/git-repos/2017-etnp/data/05.22.17-peaks/05.22.17_100m_tryp/05.22.17_100m_db_tryp-peps.csv\r\n"
     ]
    }
   ],
   "source": [
    "!wc -l /Users/meganduffy/Documents/git-repos/2017-etnp/data/05.22.17-peaks/05.22.17_100m_tryp/05.22.17_100m_db_tryp-peps.csv "
   ]
  },
  {
   "cell_type": "code",
   "execution_count": 19,
   "metadata": {
    "collapsed": false
   },
   "outputs": [
    {
     "ename": "SyntaxError",
     "evalue": "invalid syntax (<ipython-input-19-cf3e07df5381>, line 4)",
     "output_type": "error",
     "traceback": [
      "\u001b[0;36m  File \u001b[0;32m\"<ipython-input-19-cf3e07df5381>\"\u001b[0;36m, line \u001b[0;32m4\u001b[0m\n\u001b[0;31m    | sed 's/(+15.99)//g'| sed 's/(+57.02)//g'| sed 's/(+.98)//g'| sed 's/(-17.03)//g'| sed 's/(+21.98)//g'| sed 's/(+14.02)//g'| sed 's/(+31.99)//g'| sed 's/(sub D)//g'| sed 's/(+42.01)//g'| sed 's/(+43.99)//g'| sed 's/(+27.99)//g'| sed 's/(+37.95)//g'| sed 's/(+225.09)//g'| sed 's/(+47.98)//g'| sed 's/(-18.01)//g'| sed 's/(+125.90)//g'| sed 's/(sub N)//g'| sed 's/(+114.04)//g'| sed 's/(sub R)//g'| sed 's/(sub S)//g'| sed 's/(-2.02)//g'| sed 's/(+3.99)//g'| sed 's/(sub T)//g'| sed 's/(+55.92)//g'| sed 's/(sub E)//g'| sed 's/(sub L)//g'| sed 's/(+43.01)//g'| sed 's/(sub V)//g'| sed 's/(sub I)//g'| sed 's/(sub A)//g'| sed 's/(+251.79)//g'| sed 's/(+13.03)//g'| sed 's/(+79.97)//g'| sed 's/(-2.95)//g'| sed 's/(+209.02)//g'| sed 's/(+15.01)//g'| sed 's/(+136.03)//g'| sed 's/(sub G)//g'| sed 's/(sub K)//g'| sed 's/(+87.07)//g'| sed 's/(+39.99)//g'| sed 's/(+58.01)//g'| sed 's/(+27.05)//g'| sed 's/(+77.99)//g'| sed 's/(+58.03)//g'| sed 's/(sub C)//g'\\\u001b[0m\n\u001b[0m    ^\u001b[0m\n\u001b[0;31mSyntaxError\u001b[0m\u001b[0;31m:\u001b[0m invalid syntax\n"
     ]
    }
   ],
   "source": [
    "# remove '(+15.99)' and '(+57.02)' and '(0.98)' from sequences\n",
    "# rewrite to more descriptive file name (that includes 'peaks')\n",
    "!cat /Users/meganduffy/Documents/git-repos/2017-etnp/data/05.22.17-peaks/05.22.17_100m_tryp/05.22.17_100m_db_tryp-peps.csv\\ \n",
    "| sed 's/(+15.99)//g'\\\n",
    "| sed 's/(+57.02)//g'\\\n",
    "| sed 's/(+.98)//g'\\\n",
    "| sed 's/(-17.03)//g'\\\n",
    "| sed 's/(+21.98)//g'\\\n",
    "| sed 's/(+14.02)//g'\\\n",
    "| sed 's/(+31.99)//g'\\\n",
    "| sed 's/(sub D)//g'\\\n",
    "| sed 's/(+42.01)//g'\\\n",
    "| sed 's/(+43.99)//g'\\\n",
    "| sed 's/(+27.99)//g'\\\n",
    "| sed 's/(+37.95)//g'\\\n",
    "| sed 's/(+225.09)//g'\\\n",
    "| sed 's/(+47.98)//g'\\\n",
    "| sed 's/(-18.01)//g'\\\n",
    "| sed 's/(+125.90)//g'\\\n",
    "| sed 's/(sub N)//g'\\\n",
    "| sed 's/(+114.04)//g'\\\n",
    "| sed 's/(sub R)//g'\\\n",
    "| sed 's/(sub S)//g'\\\n",
    "| sed 's/(-2.02)//g'\\\n",
    "| sed 's/(+3.99)//g'\\\n",
    "| sed 's/(sub T)//g'\\\n",
    "| sed 's/(+55.92)//g'\\\n",
    "| sed 's/(sub E)//g'\\\n",
    "| sed 's/(sub L)//g'\\\n",
    "| sed 's/(+43.01)//g'\\\n",
    "| sed 's/(sub V)//g'\\\n",
    "| sed 's/(sub I)//g'\\\n",
    "| sed 's/(sub A)//g'\\\n",
    "| sed 's/(+251.79)//g'\\\n",
    "| sed 's/(+13.03)//g'\\\n",
    "| sed 's/(+79.97)//g'\\\n",
    "| sed 's/(-2.95)//g'\\\n",
    "| sed 's/(+209.02)//g'\\\n",
    "| sed 's/(+15.01)//g'\\\n",
    "| sed 's/(+136.03)//g'\\\n",
    "| sed 's/(sub G)//g'\\\n",
    "| sed 's/(sub K)//g'\\\n",
    "| sed 's/(+87.07)//g'\\\n",
    "| sed 's/(+39.99)//g'\\\n",
    "| sed 's/(+58.01)//g'\\\n",
    "| sed 's/(+27.05)//g'\\\n",
    "| sed 's/(+77.99)//g'\\\n",
    "| sed 's/(+58.03)//g'\\\n",
    "| sed 's/(sub C)//g'\\ \n",
    "> /Users/meganduffy/Documents/git-repos/2017-etnp/data/05.22.17-peaks/05.22.17_100m_tryp/05.22.17_100m_db_tryp-nomod-peps.csv"
   ]
  },
  {
   "cell_type": "code",
   "execution_count": null,
   "metadata": {
    "collapsed": true
   },
   "outputs": [],
   "source": []
  }
 ],
 "metadata": {
  "anaconda-cloud": {},
  "kernelspec": {
   "display_name": "Python [default]",
   "language": "python",
   "name": "python3"
  },
  "language_info": {
   "codemirror_mode": {
    "name": "ipython",
    "version": 3
   },
   "file_extension": ".py",
   "mimetype": "text/x-python",
   "name": "python",
   "nbconvert_exporter": "python",
   "pygments_lexer": "ipython3",
   "version": "3.5.2"
  }
 },
 "nbformat": 4,
 "nbformat_minor": 1
}
