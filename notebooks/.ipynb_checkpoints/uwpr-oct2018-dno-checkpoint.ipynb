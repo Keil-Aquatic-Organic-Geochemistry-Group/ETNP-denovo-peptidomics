{
 "cells": [
  {
   "cell_type": "code",
   "execution_count": 1,
   "metadata": {
    "collapsed": false
   },
   "outputs": [
    {
     "name": "stdout",
     "output_type": "stream",
     "text": [
      "Tue Oct 30 17:15:44 PDT 2018\r\n"
     ]
    }
   ],
   "source": [
    "!date"
   ]
  },
  {
   "cell_type": "code",
   "execution_count": 2,
   "metadata": {
    "collapsed": false
   },
   "outputs": [
    {
     "name": "stdout",
     "output_type": "stream",
     "text": [
      "Software:\r\n",
      "\r\n",
      "    System Software Overview:\r\n",
      "\r\n",
      "      System Version: macOS 10.14 (18A391)\r\n",
      "      Kernel Version: Darwin 18.0.0\r\n",
      "      Boot Volume: Macintosh HD\r\n",
      "      Boot Mode: Normal\r\n",
      "      Computer Name: Megan’s MacBook Pro (2)\r\n",
      "      User Name: Megan Duffy (meganduffy)\r\n",
      "      Secure Virtual Memory: Enabled\r\n",
      "      System Integrity Protection: Enabled\r\n",
      "      Time since boot: 1 day 8:51\r\n",
      "\r\n"
     ]
    }
   ],
   "source": [
    "!system_profiler SPSoftwareDataType"
   ]
  },
  {
   "cell_type": "markdown",
   "metadata": {},
   "source": [
    "## Notebook to document text extraction and editing of UWPR October 2018 ETNP 2017 (samples 2-9 and 4-19) de novo only peptides ##\n",
    "\n",
    "### Exported the results of PEAKS 8.5 searches into Git ETNP 2017 data directory ###"
   ]
  },
  {
   "cell_type": "code",
   "execution_count": 3,
   "metadata": {
    "collapsed": false
   },
   "outputs": [
    {
     "name": "stdout",
     "output_type": "stream",
     "text": [
      "\u001b[34m272_4-19_965m_top+P+BSA-PEAKS18-20181004\u001b[m\u001b[m\r\n",
      "\u001b[34m273_4-19_965m_top+P-PEAKS19-20181004\u001b[m\u001b[m\r\n",
      "\u001b[34m278_4-19_265m_top+PA-PEAKS90-20181005\u001b[m\u001b[m\r\n",
      "\u001b[34m278_4-19_265m_top+PA90min-PEAKS105-20181005\u001b[m\u001b[m\r\n",
      "\u001b[34m279_4-19_265m_netwash1of3A-PEAKS86-20181005\u001b[m\u001b[m\r\n",
      "\u001b[34m281_4-19_965m_ctl1of2A-PEAKS82-20181005\u001b[m\u001b[m\r\n",
      "\u001b[34m282_4-19_965m_netwash1of5A-PEAKS98-20181005\u001b[m\u001b[m\r\n",
      "\u001b[34m284_4-19_265m_ctl_A-PEAKS83-20181005\u001b[m\u001b[m\r\n",
      "\u001b[34m334_2-9_94m_nw6_wet_BSA-PEAKS27-20181004\u001b[m\u001b[m\r\n",
      "\u001b[34m335_2-9_94m_nw6_wet_nospike-PEAKS14-20181004\u001b[m\u001b[m\r\n",
      "\u001b[34m336_2-9_94m_nw6_dry_BSA-PEAKS16-20181004\u001b[m\u001b[m\r\n",
      "\u001b[34m337_2-9_94m_nw6_dry_nospike-PEAKS13-20181004\u001b[m\u001b[m\r\n"
     ]
    }
   ],
   "source": [
    "!ls /Users/meganduffy/Documents/git-repos/2017-etnp/data/uwpr-oct2018/"
   ]
  },
  {
   "cell_type": "markdown",
   "metadata": {},
   "source": [
    "### Chose to include protein lists in FASTA form, this being the only deviation from text-based export defaults ###"
   ]
  },
  {
   "cell_type": "code",
   "execution_count": 4,
   "metadata": {
    "collapsed": false
   },
   "outputs": [
    {
     "name": "stdout",
     "output_type": "stream",
     "text": [
      "DB search psm.csv         peptide.csv               proteins.csv\r\n",
      "de novo only peptides.csv protein-peptides.csv      proteins.fasta\r\n"
     ]
    }
   ],
   "source": [
    "!ls /Users/meganduffy/Documents/git-repos/2017-etnp/data/uwpr-oct2018/272_4-19_965m_top+P+BSA-PEAKS18-20181004/"
   ]
  },
  {
   "cell_type": "markdown",
   "metadata": {},
   "source": [
    "### Need to rename each file to be sample-specific ###"
   ]
  },
  {
   "cell_type": "code",
   "execution_count": null,
   "metadata": {
    "collapsed": true
   },
   "outputs": [],
   "source": []
  }
 ],
 "metadata": {
  "anaconda-cloud": {},
  "kernelspec": {
   "display_name": "Python [default]",
   "language": "python",
   "name": "python3"
  },
  "language_info": {
   "codemirror_mode": {
    "name": "ipython",
    "version": 3
   },
   "file_extension": ".py",
   "mimetype": "text/x-python",
   "name": "python",
   "nbconvert_exporter": "python",
   "pygments_lexer": "ipython3",
   "version": "3.5.2"
  }
 },
 "nbformat": 4,
 "nbformat_minor": 1
}
