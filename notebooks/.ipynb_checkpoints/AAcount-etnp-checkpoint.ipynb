{
 "cells": [
  {
   "cell_type": "code",
   "execution_count": 1,
   "metadata": {
    "collapsed": false
   },
   "outputs": [
    {
     "name": "stdout",
     "output_type": "stream",
     "text": [
      "Mon Nov 13 12:00:21 PST 2017\r\n"
     ]
    }
   ],
   "source": [
    "!date"
   ]
  },
  {
   "cell_type": "code",
   "execution_count": 2,
   "metadata": {
    "collapsed": false
   },
   "outputs": [
    {
     "name": "stdout",
     "output_type": "stream",
     "text": [
      "Software:\r\n",
      "\r\n",
      "    System Software Overview:\r\n",
      "\r\n",
      "      System Version: macOS 10.12.6 (16G29)\r\n",
      "      Kernel Version: Darwin 16.7.0\r\n",
      "      Boot Volume: Macintosh HD\r\n",
      "      Boot Mode: Normal\r\n",
      "      Computer Name: Megan’s MacBook Pro\r\n",
      "      User Name: Megan Duffy (meganduffy)\r\n",
      "      Secure Virtual Memory: Enabled\r\n",
      "      System Integrity Protection: Enabled\r\n",
      "      Time since boot: 27 days 2:12\r\n",
      "\r\n"
     ]
    }
   ],
   "source": [
    "!system_profiler SPSoftwareDataType"
   ]
  },
  {
   "cell_type": "markdown",
   "metadata": {},
   "source": [
    "### I want to use this notebook to document my amino acid count analysis for a ETNP sinking particle samples (97,11, 264-269). ###"
   ]
  },
  {
   "cell_type": "code",
   "execution_count": 3,
   "metadata": {
    "collapsed": false
   },
   "outputs": [
    {
     "data": {
      "text/plain": [
       "'/Users/meganduffy/Documents/git-repos/2017-etnp/notebooks'"
      ]
     },
     "execution_count": 3,
     "metadata": {},
     "output_type": "execute_result"
    }
   ],
   "source": [
    "pwd"
   ]
  },
  {
   "cell_type": "code",
   "execution_count": 4,
   "metadata": {
    "collapsed": false
   },
   "outputs": [
    {
     "name": "stdout",
     "output_type": "stream",
     "text": [
      "/Users/meganduffy/Documents/git-repos/2017-etnp/data/11.12.17-peaks\n"
     ]
    }
   ],
   "source": [
    "cd /Users/meganduffy/Documents/git-repos/2017-etnp/data/11.12.17-peaks/"
   ]
  },
  {
   "cell_type": "code",
   "execution_count": 5,
   "metadata": {
    "collapsed": false
   },
   "outputs": [
    {
     "name": "stdout",
     "output_type": "stream",
     "text": [
      "etnp-111-11.12.17-dno.txt  etnp-267-11.12.17-dno.txt\r\n",
      "etnp-264-11.12.17-dno.txt  etnp-268-11.12.17-dno.txt\r\n",
      "etnp-265-11.12.17-dno.txt  etnp-269-11.12.17-dno.txt\r\n",
      "etnp-266-11.12.17-dno.txt  etnp-97-11.12.17-dno.txt\r\n"
     ]
    }
   ],
   "source": [
    "ls"
   ]
  },
  {
   "cell_type": "markdown",
   "metadata": {},
   "source": [
    "I need to take out all the modifications in these files (peptide lists)."
   ]
  },
  {
   "cell_type": "code",
   "execution_count": 8,
   "metadata": {
    "collapsed": false
   },
   "outputs": [],
   "source": [
    "# remove '(+15.99)' and '(+57.02)' from sequences\n",
    "# rewrite to more descriptive file name (that includes 'peaks')\n",
    "!sed 's/(+15.99)//g' etnp-111-11.12.17-dno.txt \\\n",
    "| sed 's/(+57.02)//g'\\\n",
    "> etnp-111-11.12.17-dno-nm.txt"
   ]
  },
  {
   "cell_type": "code",
   "execution_count": 9,
   "metadata": {
    "collapsed": false
   },
   "outputs": [
    {
     "name": "stdout",
     "output_type": "stream",
     "text": [
      "HALLLFDDLSK\r\n",
      "KDFYDLVLDER\r\n",
      "SGNVLELLK\r\n",
      "VLGFNEEEKLNMYR\r\n",
      "LLVEMEK\r\n",
      "KLADELDKLK\r\n",
      "TPLSMLKELMNK\r\n",
      "FVKEWLVDHLK\r\n",
      "LDELGDEYLSEVHAR\r\n",
      "ESYSLYLYK\r\n",
      "CCAENNQANLDALK\r\n",
      "ALVEAHYR\r\n",
      "FFFETLK\r\n",
      "LAGCDLETYLLEK\r\n",
      "TLALLFDR\r\n",
      "ESYSLYLYK\r\n",
      "CTTYVR\r\n",
      "AAFDVNSAEMEK\r\n",
      "HLADLAGNK\r\n",
      "SPEGFFYSK\r\n"
     ]
    }
   ],
   "source": [
    "!head -20 etnp-111-11.12.17-dno-nm.txt"
   ]
  },
  {
   "cell_type": "code",
   "execution_count": 10,
   "metadata": {
    "collapsed": true
   },
   "outputs": [],
   "source": [
    "# remove '(+15.99)' and '(+57.02)' from sequences\n",
    "# rewrite to more descriptive file name (that includes 'peaks')\n",
    "!sed 's/(+15.99)//g' etnp-97-11.12.17-dno.txt \\\n",
    "| sed 's/(+57.02)//g'\\\n",
    "> etnp-97-11.12.17-dno-nm.txt"
   ]
  },
  {
   "cell_type": "code",
   "execution_count": 11,
   "metadata": {
    "collapsed": true
   },
   "outputs": [],
   "source": [
    "# remove '(+15.99)' and '(+57.02)' from sequences\n",
    "# rewrite to more descriptive file name (that includes 'peaks')\n",
    "!sed 's/(+15.99)//g' etnp-264-11.12.17-dno.txt \\\n",
    "| sed 's/(+57.02)//g'\\\n",
    "> etnp-264-11.12.17-dno-nm.txt"
   ]
  },
  {
   "cell_type": "code",
   "execution_count": 12,
   "metadata": {
    "collapsed": true
   },
   "outputs": [],
   "source": [
    "# remove '(+15.99)' and '(+57.02)' from sequences\n",
    "# rewrite to more descriptive file name (that includes 'peaks')\n",
    "!sed 's/(+15.99)//g' etnp-265-11.12.17-dno.txt \\\n",
    "| sed 's/(+57.02)//g'\\\n",
    "> etnp-265-11.12.17-dno-nm.txt"
   ]
  },
  {
   "cell_type": "code",
   "execution_count": 13,
   "metadata": {
    "collapsed": true
   },
   "outputs": [],
   "source": [
    "# remove '(+15.99)' and '(+57.02)' from sequences\n",
    "# rewrite to more descriptive file name (that includes 'peaks')\n",
    "!sed 's/(+15.99)//g' etnp-266-11.12.17-dno.txt \\\n",
    "| sed 's/(+57.02)//g'\\\n",
    "> etnp-266-11.12.17-dno-nm.txt"
   ]
  },
  {
   "cell_type": "code",
   "execution_count": 14,
   "metadata": {
    "collapsed": true
   },
   "outputs": [],
   "source": [
    "# remove '(+15.99)' and '(+57.02)' from sequences\n",
    "# rewrite to more descriptive file name (that includes 'peaks')\n",
    "!sed 's/(+15.99)//g' etnp-267-11.12.17-dno.txt \\\n",
    "| sed 's/(+57.02)//g'\\\n",
    "> etnp-267-11.12.17-dno-nm.txt"
   ]
  },
  {
   "cell_type": "code",
   "execution_count": 15,
   "metadata": {
    "collapsed": true
   },
   "outputs": [],
   "source": [
    "# remove '(+15.99)' and '(+57.02)' from sequences\n",
    "# rewrite to more descriptive file name (that includes 'peaks')\n",
    "!sed 's/(+15.99)//g' etnp-268-11.12.17-dno.txt \\\n",
    "| sed 's/(+57.02)//g'\\\n",
    "> etnp-268-11.12.17-dno-nm.txt"
   ]
  },
  {
   "cell_type": "code",
   "execution_count": 16,
   "metadata": {
    "collapsed": true
   },
   "outputs": [],
   "source": [
    "# remove '(+15.99)' and '(+57.02)' from sequences\n",
    "# rewrite to more descriptive file name (that includes 'peaks')\n",
    "!sed 's/(+15.99)//g' etnp-269-11.12.17-dno.txt \\\n",
    "| sed 's/(+57.02)//g'\\\n",
    "> etnp-269-11.12.17-dno-nm.txt"
   ]
  },
  {
   "cell_type": "code",
   "execution_count": 17,
   "metadata": {
    "collapsed": false
   },
   "outputs": [
    {
     "name": "stdout",
     "output_type": "stream",
     "text": [
      "etnp-111-11.12.17-dno-nm.txt  etnp-267-11.12.17-dno-nm.txt\r\n",
      "etnp-111-11.12.17-dno.txt     etnp-267-11.12.17-dno.txt\r\n",
      "etnp-264-11.12.17-dno-nm.txt  etnp-268-11.12.17-dno-nm.txt\r\n",
      "etnp-264-11.12.17-dno.txt     etnp-268-11.12.17-dno.txt\r\n",
      "etnp-265-11.12.17-dno-nm.txt  etnp-269-11.12.17-dno-nm.txt\r\n",
      "etnp-265-11.12.17-dno.txt     etnp-269-11.12.17-dno.txt\r\n",
      "etnp-266-11.12.17-dno-nm.txt  etnp-97-11.12.17-dno-nm.txt\r\n",
      "etnp-266-11.12.17-dno.txt     etnp-97-11.12.17-dno.txt\r\n"
     ]
    }
   ],
   "source": [
    "ls"
   ]
  },
  {
   "cell_type": "markdown",
   "metadata": {},
   "source": [
    "Now I want to combine all the AAs"
   ]
  },
  {
   "cell_type": "code",
   "execution_count": 18,
   "metadata": {
    "collapsed": true
   },
   "outputs": [],
   "source": [
    "#combine all sequences into a single line:\n",
    "!echo $(cat etnp-111-11.12.17-dno-nm.txt)\\\n",
    "| tr -d \" \\t\\n\\r\" > etnp-111-11.12.17-dno-nm-one.txt"
   ]
  },
  {
   "cell_type": "markdown",
   "metadata": {},
   "source": [
    "That worked!"
   ]
  },
  {
   "cell_type": "code",
   "execution_count": 20,
   "metadata": {
    "collapsed": true
   },
   "outputs": [],
   "source": [
    "#combine all sequences into a single line:\n",
    "!echo $(cat etnp-97-11.12.17-dno-nm.txt)\\\n",
    "| tr -d \" \\t\\n\\r\" > etnp-97-11.12.17-dno-nm-one.txt"
   ]
  },
  {
   "cell_type": "code",
   "execution_count": 21,
   "metadata": {
    "collapsed": true
   },
   "outputs": [],
   "source": [
    "#combine all sequences into a single line:\n",
    "!echo $(cat etnp-264-11.12.17-dno-nm.txt)\\\n",
    "| tr -d \" \\t\\n\\r\" > etnp-264-11.12.17-dno-nm-one.txt"
   ]
  },
  {
   "cell_type": "code",
   "execution_count": 22,
   "metadata": {
    "collapsed": true
   },
   "outputs": [],
   "source": [
    "#combine all sequences into a single line:\n",
    "!echo $(cat etnp-265-11.12.17-dno-nm.txt)\\\n",
    "| tr -d \" \\t\\n\\r\" > etnp-265-11.12.17-dno-nm-one.txt"
   ]
  },
  {
   "cell_type": "code",
   "execution_count": 23,
   "metadata": {
    "collapsed": true
   },
   "outputs": [],
   "source": [
    "#combine all sequences into a single line:\n",
    "!echo $(cat etnp-266-11.12.17-dno-nm.txt)\\\n",
    "| tr -d \" \\t\\n\\r\" > etnp-266-11.12.17-dno-nm-one.txt"
   ]
  },
  {
   "cell_type": "code",
   "execution_count": 24,
   "metadata": {
    "collapsed": true
   },
   "outputs": [],
   "source": [
    "#combine all sequences into a single line:\n",
    "!echo $(cat etnp-267-11.12.17-dno-nm.txt)\\\n",
    "| tr -d \" \\t\\n\\r\" > etnp-267-11.12.17-dno-nm-one.txt"
   ]
  },
  {
   "cell_type": "code",
   "execution_count": 25,
   "metadata": {
    "collapsed": true
   },
   "outputs": [],
   "source": [
    "#combine all sequences into a single line:\n",
    "!echo $(cat etnp-268-11.12.17-dno-nm.txt)\\\n",
    "| tr -d \" \\t\\n\\r\" > etnp-268-11.12.17-dno-nm-one.txt"
   ]
  },
  {
   "cell_type": "code",
   "execution_count": 26,
   "metadata": {
    "collapsed": true
   },
   "outputs": [],
   "source": [
    "#combine all sequences into a single line:\n",
    "!echo $(cat etnp-269-11.12.17-dno-nm.txt)\\\n",
    "| tr -d \" \\t\\n\\r\" > etnp-269-11.12.17-dno-nm-one.txt"
   ]
  },
  {
   "cell_type": "code",
   "execution_count": 27,
   "metadata": {
    "collapsed": false
   },
   "outputs": [
    {
     "name": "stdout",
     "output_type": "stream",
     "text": [
      "etnp-111-11.12.17-dno-nm-one.txt  etnp-267-11.12.17-dno-nm-one.txt\r\n",
      "etnp-111-11.12.17-dno-nm.txt      etnp-267-11.12.17-dno-nm.txt\r\n",
      "etnp-111-11.12.17-dno.txt         etnp-267-11.12.17-dno.txt\r\n",
      "etnp-264-11.12.17-dno-nm-one.txt  etnp-268-11.12.17-dno-nm-one.txt\r\n",
      "etnp-264-11.12.17-dno-nm.txt      etnp-268-11.12.17-dno-nm.txt\r\n",
      "etnp-264-11.12.17-dno.txt         etnp-268-11.12.17-dno.txt\r\n",
      "etnp-265-11.12.17-dno-nm-one.txt  etnp-269-11.12.17-dno-nm-one.txt\r\n",
      "etnp-265-11.12.17-dno-nm.txt      etnp-269-11.12.17-dno-nm.txt\r\n",
      "etnp-265-11.12.17-dno.txt         etnp-269-11.12.17-dno.txt\r\n",
      "etnp-266-11.12.17-dno-nm-one.txt  etnp-97-11.12.17-dno-nm-one.txt\r\n",
      "etnp-266-11.12.17-dno-nm.txt      etnp-97-11.12.17-dno-nm.txt\r\n",
      "etnp-266-11.12.17-dno.txt         etnp-97-11.12.17-dno.txt\r\n"
     ]
    }
   ],
   "source": [
    "ls"
   ]
  },
  {
   "cell_type": "code",
   "execution_count": 29,
   "metadata": {
    "collapsed": false
   },
   "outputs": [
    {
     "name": "stdout",
     "output_type": "stream",
     "text": [
      "Enter a wordmississippi\n",
      "0\n",
      "0\n",
      "0\n",
      "0\n",
      "0\n",
      "0\n",
      "0\n",
      "0\n",
      "4\n",
      "0\n",
      "0\n",
      "0\n",
      "1\n",
      "0\n",
      "0\n",
      "2\n",
      "0\n",
      "0\n",
      "4\n",
      "0\n",
      "0\n",
      "0\n",
      "0\n",
      "0\n",
      "0\n",
      "0\n"
     ]
    }
   ],
   "source": [
    "word = input(\"Enter a word\")\n",
    "\n",
    "Alphabet=['a','b','c','d','e','f','g','h','i','j','k','l','m','n','o','p','q','r','s','t','u','v','w','x','y','z']\n",
    "\n",
    "for i in range(0,26): \n",
    "    print(word.count(Alphabet[i]))"
   ]
  },
  {
   "cell_type": "code",
   "execution_count": null,
   "metadata": {
    "collapsed": true
   },
   "outputs": [],
   "source": [
    "sequence = etnp-111-11.12.17-dno-nm-one.txt\n",
    "\n",
    "Alphabet=['A','B','C','D','E','F','G','H','I','J','K','L','M','N','O','P','Q','R','S','T','U','V','W','X','Y','Z']\n",
    "\n",
    "for i in range(0,26): \n",
    "    print(word.count(Alphabet[i]))"
   ]
  },
  {
   "cell_type": "code",
   "execution_count": null,
   "metadata": {
    "collapsed": true
   },
   "outputs": [],
   "source": [
    "import string \n",
    "text = open('etnp-111-11.12.17-dno-nm-one.txt')\n",
    "letters = string.ascii_uppercase\n",
    "for i in text:\n",
    "  text_lower = i.lower()\n",
    "  text_nospace = text_lower.replace(\" \", \"\")\n",
    "  text_nopunctuation = text_nospace.strip(string.punctuation)\n",
    "  for a in letters:\n",
    "    if a in text_nopunctuation:\n",
    "      num = text_nopunctuation.count(a)\n",
    "      print(a, num)"
   ]
  }
 ],
 "metadata": {
  "anaconda-cloud": {},
  "kernelspec": {
   "display_name": "Python [default]",
   "language": "python",
   "name": "python3"
  },
  "language_info": {
   "codemirror_mode": {
    "name": "ipython",
    "version": 3
   },
   "file_extension": ".py",
   "mimetype": "text/x-python",
   "name": "python",
   "nbconvert_exporter": "python",
   "pygments_lexer": "ipython3",
   "version": "3.5.2"
  }
 },
 "nbformat": 4,
 "nbformat_minor": 1
}
