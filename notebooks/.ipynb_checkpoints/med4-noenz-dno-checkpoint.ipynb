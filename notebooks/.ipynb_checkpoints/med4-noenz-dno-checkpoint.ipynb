{
 "cells": [
  {
   "cell_type": "code",
   "execution_count": 1,
   "metadata": {
    "collapsed": false
   },
   "outputs": [
    {
     "name": "stdout",
     "output_type": "stream",
     "text": [
      "Tue Sep 17 09:16:00 PDT 2019\r\n"
     ]
    }
   ],
   "source": [
    "!date"
   ]
  },
  {
   "cell_type": "code",
   "execution_count": 2,
   "metadata": {
    "collapsed": false
   },
   "outputs": [
    {
     "name": "stdout",
     "output_type": "stream",
     "text": [
      "Software:\r\n",
      "\r\n",
      "    System Software Overview:\r\n",
      "\r\n",
      "      System Version: macOS 10.14.6 (18G95)\r\n",
      "      Kernel Version: Darwin 18.7.0\r\n",
      "      Boot Volume: Macintosh HD\r\n",
      "      Boot Mode: Normal\r\n",
      "      Computer Name: Megan’s MacBook Pro (2)\r\n",
      "      User Name: Megan Duffy (meganduffy)\r\n",
      "      Secure Virtual Memory: Enabled\r\n",
      "      System Integrity Protection: Enabled\r\n",
      "      Time since boot: 10 days 10:13\r\n",
      "\r\n"
     ]
    }
   ],
   "source": [
    "!system_profiler SPSoftwareDataType"
   ]
  },
  {
   "cell_type": "markdown",
   "metadata": {},
   "source": [
    "### Notebook to document extraction/manipulation of MED4 no enzyme searched de novo only peptides\n",
    "\n",
    "### Exported the results of PEAKS 8.5 searches into Git ETNP 2017 data directory\n",
    "\n",
    "### De novo only peptides are in running#-peaks#-noenz-dno.csv files"
   ]
  },
  {
   "cell_type": "code",
   "execution_count": 4,
   "metadata": {
    "collapsed": false
   },
   "outputs": [
    {
     "name": "stdout",
     "output_type": "stream",
     "text": [
      "\u001b[34mMED_MED4-RAL_PEAKS_53\u001b[m\u001b[m\r\n"
     ]
    }
   ],
   "source": [
    "!ls /Users/meganduffy/Documents/git-repos/2017-etnp/data/MED4/MED-Prochlorococcus-RLundeen/peaks-output/MED4-noenz/"
   ]
  },
  {
   "cell_type": "code",
   "execution_count": 5,
   "metadata": {
    "collapsed": false
   },
   "outputs": [
    {
     "name": "stdout",
     "output_type": "stream",
     "text": [
      "med4-peaks53-noenz-DB-search-psm.csv    med4-peaks53-noenz-protein-peptides.csv\r\n",
      "med4-peaks53-noenz-dno.csv              med4-peaks53-noenz-proteins.csv\r\n",
      "med4-peaks53-noenz-peptide.csv          med4-peaks53-noenz-proteins.fasta\r\n"
     ]
    }
   ],
   "source": [
    "!ls /Users/meganduffy/Documents/git-repos/2017-etnp/data/MED4/MED-Prochlorococcus-RLundeen/peaks-output/MED4-noenz/MED_MED4-RAL_PEAKS_53/"
   ]
  },
  {
   "cell_type": "code",
   "execution_count": 6,
   "metadata": {
    "collapsed": true
   },
   "outputs": [],
   "source": [
    "import os"
   ]
  },
  {
   "cell_type": "code",
   "execution_count": 7,
   "metadata": {
    "collapsed": false
   },
   "outputs": [
    {
     "data": {
      "text/plain": [
       "'/Users/meganduffy/Documents/git-repos/2017-etnp/notebooks'"
      ]
     },
     "execution_count": 7,
     "metadata": {},
     "output_type": "execute_result"
    }
   ],
   "source": [
    "os.getcwd()"
   ]
  },
  {
   "cell_type": "code",
   "execution_count": 8,
   "metadata": {
    "collapsed": true
   },
   "outputs": [],
   "source": [
    "import pandas as pd"
   ]
  },
  {
   "cell_type": "code",
   "execution_count": 9,
   "metadata": {
    "collapsed": false
   },
   "outputs": [
    {
     "data": {
      "text/plain": [
       "'0.18.1'"
      ]
     },
     "execution_count": 9,
     "metadata": {},
     "output_type": "execute_result"
    }
   ],
   "source": [
    "pd.__version__"
   ]
  },
  {
   "cell_type": "code",
   "execution_count": 10,
   "metadata": {
    "collapsed": true
   },
   "outputs": [],
   "source": [
    "data = pd.read_csv(\"/Users/meganduffy/Documents/git-repos/2017-etnp/data/MED4/MED-Prochlorococcus-RLundeen/peaks-output/MED4-noenz/MED_MED4-RAL_PEAKS_53/med4-peaks53-noenz-dno.csv\")"
   ]
  },
  {
   "cell_type": "code",
   "execution_count": 11,
   "metadata": {
    "collapsed": false
   },
   "outputs": [
    {
     "data": {
      "text/html": [
       "<div>\n",
       "<table border=\"1\" class=\"dataframe\">\n",
       "  <thead>\n",
       "    <tr style=\"text-align: right;\">\n",
       "      <th></th>\n",
       "      <th>Fraction</th>\n",
       "      <th>Scan</th>\n",
       "      <th>Source File</th>\n",
       "      <th>Peptide</th>\n",
       "      <th>Tag Length</th>\n",
       "      <th>ALC (%)</th>\n",
       "      <th>length</th>\n",
       "      <th>m/z</th>\n",
       "      <th>z</th>\n",
       "      <th>RT</th>\n",
       "      <th>Area</th>\n",
       "      <th>Mass</th>\n",
       "      <th>ppm</th>\n",
       "      <th>Accession</th>\n",
       "      <th>PTM</th>\n",
       "      <th>local confidence (%)</th>\n",
       "      <th>tag (&gt;=0%)</th>\n",
       "      <th>mode</th>\n",
       "    </tr>\n",
       "  </thead>\n",
       "  <tbody>\n",
       "    <tr>\n",
       "      <th>0</th>\n",
       "      <td>3</td>\n",
       "      <td>23397</td>\n",
       "      <td>022016_RAL4_95_MED2_trypsin_1.raw</td>\n",
       "      <td>TM(+15.99)LLPLK</td>\n",
       "      <td>7</td>\n",
       "      <td>97</td>\n",
       "      <td>7</td>\n",
       "      <td>416.2574</td>\n",
       "      <td>2</td>\n",
       "      <td>37.34</td>\n",
       "      <td>1740000.0</td>\n",
       "      <td>830.4935</td>\n",
       "      <td>8.1</td>\n",
       "      <td>PMM0833</td>\n",
       "      <td>Oxidation (M)</td>\n",
       "      <td>92 94 99 100 99 99 99</td>\n",
       "      <td>TM(+15.99)LLPLK</td>\n",
       "      <td>CID</td>\n",
       "    </tr>\n",
       "    <tr>\n",
       "      <th>1</th>\n",
       "      <td>3</td>\n",
       "      <td>19165</td>\n",
       "      <td>022016_RAL4_95_MED2_trypsin_1.raw</td>\n",
       "      <td>EDC(+57.02)LLLK</td>\n",
       "      <td>7</td>\n",
       "      <td>97</td>\n",
       "      <td>7</td>\n",
       "      <td>445.7363</td>\n",
       "      <td>2</td>\n",
       "      <td>31.57</td>\n",
       "      <td>NaN</td>\n",
       "      <td>889.4579</td>\n",
       "      <td>0.2</td>\n",
       "      <td>NaN</td>\n",
       "      <td>Carbamidomethylation</td>\n",
       "      <td>97 97 99 97 98 97 93</td>\n",
       "      <td>EDC(+57.02)LLLK</td>\n",
       "      <td>CID</td>\n",
       "    </tr>\n",
       "    <tr>\n",
       "      <th>2</th>\n",
       "      <td>3</td>\n",
       "      <td>11253</td>\n",
       "      <td>022016_RAL4_95_MED2_trypsin_1.raw</td>\n",
       "      <td>KFNDELWQ</td>\n",
       "      <td>8</td>\n",
       "      <td>96</td>\n",
       "      <td>8</td>\n",
       "      <td>540.2538</td>\n",
       "      <td>2</td>\n",
       "      <td>20.35</td>\n",
       "      <td>41100000.0</td>\n",
       "      <td>1078.5083</td>\n",
       "      <td>-14.2</td>\n",
       "      <td>NaN</td>\n",
       "      <td>NaN</td>\n",
       "      <td>99 100 97 96 99 97 98 87</td>\n",
       "      <td>KFNDELWQ</td>\n",
       "      <td>CID</td>\n",
       "    </tr>\n",
       "    <tr>\n",
       "      <th>3</th>\n",
       "      <td>3</td>\n",
       "      <td>8733</td>\n",
       "      <td>022016_RAL4_95_MED2_trypsin_1.raw</td>\n",
       "      <td>KFVLDER</td>\n",
       "      <td>7</td>\n",
       "      <td>96</td>\n",
       "      <td>7</td>\n",
       "      <td>453.7556</td>\n",
       "      <td>2</td>\n",
       "      <td>16.46</td>\n",
       "      <td>1970000.0</td>\n",
       "      <td>905.4970</td>\n",
       "      <td>-0.3</td>\n",
       "      <td>NaN</td>\n",
       "      <td>NaN</td>\n",
       "      <td>99 99 99 98 92 97 90</td>\n",
       "      <td>KFVLDER</td>\n",
       "      <td>CID</td>\n",
       "    </tr>\n",
       "    <tr>\n",
       "      <th>4</th>\n",
       "      <td>3</td>\n",
       "      <td>39233</td>\n",
       "      <td>022016_RAL4_95_MED2_trypsin_1.raw</td>\n",
       "      <td>LLSLFLK</td>\n",
       "      <td>7</td>\n",
       "      <td>96</td>\n",
       "      <td>7</td>\n",
       "      <td>417.2782</td>\n",
       "      <td>2</td>\n",
       "      <td>58.33</td>\n",
       "      <td>639000.0</td>\n",
       "      <td>832.5422</td>\n",
       "      <td>-0.4</td>\n",
       "      <td>PMM0759:PMM1008:PMM0556:PMM1322</td>\n",
       "      <td>NaN</td>\n",
       "      <td>97 98 98 93 95 98 94</td>\n",
       "      <td>LLSLFLK</td>\n",
       "      <td>CID</td>\n",
       "    </tr>\n",
       "  </tbody>\n",
       "</table>\n",
       "</div>"
      ],
      "text/plain": [
       "   Fraction   Scan                        Source File          Peptide  \\\n",
       "0         3  23397  022016_RAL4_95_MED2_trypsin_1.raw  TM(+15.99)LLPLK   \n",
       "1         3  19165  022016_RAL4_95_MED2_trypsin_1.raw  EDC(+57.02)LLLK   \n",
       "2         3  11253  022016_RAL4_95_MED2_trypsin_1.raw         KFNDELWQ   \n",
       "3         3   8733  022016_RAL4_95_MED2_trypsin_1.raw          KFVLDER   \n",
       "4         3  39233  022016_RAL4_95_MED2_trypsin_1.raw          LLSLFLK   \n",
       "\n",
       "   Tag Length  ALC (%)  length       m/z  z     RT        Area       Mass  \\\n",
       "0           7       97       7  416.2574  2  37.34   1740000.0   830.4935   \n",
       "1           7       97       7  445.7363  2  31.57         NaN   889.4579   \n",
       "2           8       96       8  540.2538  2  20.35  41100000.0  1078.5083   \n",
       "3           7       96       7  453.7556  2  16.46   1970000.0   905.4970   \n",
       "4           7       96       7  417.2782  2  58.33    639000.0   832.5422   \n",
       "\n",
       "    ppm                        Accession                   PTM  \\\n",
       "0   8.1                          PMM0833         Oxidation (M)   \n",
       "1   0.2                              NaN  Carbamidomethylation   \n",
       "2 -14.2                              NaN                   NaN   \n",
       "3  -0.3                              NaN                   NaN   \n",
       "4  -0.4  PMM0759:PMM1008:PMM0556:PMM1322                   NaN   \n",
       "\n",
       "       local confidence (%)       tag (>=0%) mode  \n",
       "0     92 94 99 100 99 99 99  TM(+15.99)LLPLK  CID  \n",
       "1      97 97 99 97 98 97 93  EDC(+57.02)LLLK  CID  \n",
       "2  99 100 97 96 99 97 98 87         KFNDELWQ  CID  \n",
       "3      99 99 99 98 92 97 90          KFVLDER  CID  \n",
       "4      97 98 98 93 95 98 94          LLSLFLK  CID  "
      ]
     },
     "execution_count": 11,
     "metadata": {},
     "output_type": "execute_result"
    }
   ],
   "source": [
    "data.head()"
   ]
  },
  {
   "cell_type": "code",
   "execution_count": 12,
   "metadata": {
    "collapsed": true
   },
   "outputs": [],
   "source": [
    "# Keep only peptide column\n",
    "pep = data[[\"Peptide\"]]"
   ]
  },
  {
   "cell_type": "code",
   "execution_count": 13,
   "metadata": {
    "collapsed": false
   },
   "outputs": [
    {
     "data": {
      "text/html": [
       "<div>\n",
       "<table border=\"1\" class=\"dataframe\">\n",
       "  <thead>\n",
       "    <tr style=\"text-align: right;\">\n",
       "      <th></th>\n",
       "      <th>Peptide</th>\n",
       "    </tr>\n",
       "  </thead>\n",
       "  <tbody>\n",
       "    <tr>\n",
       "      <th>0</th>\n",
       "      <td>TM(+15.99)LLPLK</td>\n",
       "    </tr>\n",
       "    <tr>\n",
       "      <th>1</th>\n",
       "      <td>EDC(+57.02)LLLK</td>\n",
       "    </tr>\n",
       "    <tr>\n",
       "      <th>2</th>\n",
       "      <td>KFNDELWQ</td>\n",
       "    </tr>\n",
       "    <tr>\n",
       "      <th>3</th>\n",
       "      <td>KFVLDER</td>\n",
       "    </tr>\n",
       "    <tr>\n",
       "      <th>4</th>\n",
       "      <td>LLSLFLK</td>\n",
       "    </tr>\n",
       "  </tbody>\n",
       "</table>\n",
       "</div>"
      ],
      "text/plain": [
       "           Peptide\n",
       "0  TM(+15.99)LLPLK\n",
       "1  EDC(+57.02)LLLK\n",
       "2         KFNDELWQ\n",
       "3          KFVLDER\n",
       "4          LLSLFLK"
      ]
     },
     "execution_count": 13,
     "metadata": {},
     "output_type": "execute_result"
    }
   ],
   "source": [
    "pep.head()"
   ]
  },
  {
   "cell_type": "code",
   "execution_count": 14,
   "metadata": {
    "collapsed": true
   },
   "outputs": [],
   "source": [
    "# Write altered dataframe to new csv file\n",
    "# Used header and index parameters to get rid of 'Peptide' header and the indexing\n",
    "\n",
    "pep.to_csv(\"/Users/meganduffy/Documents/git-repos/2017-etnp/data/MED4/MED-Prochlorococcus-RLundeen/peaks-output/MED4-noenz/MED_MED4-RAL_PEAKS_53/med4-peaks53-noenz-dnopeps.csv\", header=False, index=False)"
   ]
  },
  {
   "cell_type": "code",
   "execution_count": 15,
   "metadata": {
    "collapsed": true
   },
   "outputs": [],
   "source": [
    "# Write altered dataframe to new txt file\n",
    "# Used header and index parameters to get rid of 'Peptide' header and the indexing\n",
    "\n",
    "pep.to_csv(\"/Users/meganduffy/Documents/git-repos/2017-etnp/data/MED4/MED-Prochlorococcus-RLundeen/peaks-output/MED4-noenz/MED_MED4-RAL_PEAKS_53/med4-peaks53-noenz-dnopeps.txt\", header=False, index=False)"
   ]
  },
  {
   "cell_type": "code",
   "execution_count": 16,
   "metadata": {
    "collapsed": false
   },
   "outputs": [
    {
     "name": "stdout",
     "output_type": "stream",
     "text": [
      "TM(+15.99)LLPLK\r\n",
      "EDC(+57.02)LLLK\r\n",
      "KFNDELWQ\r\n",
      "KFVLDER\r\n",
      "LLSLFLK\r\n",
      "VAAEAVLAAQLK\r\n",
      "EMEATDLYVLKDLFK\r\n",
      "TM(+15.99)LELAK\r\n",
      "EFVSDVK\r\n",
      "KNDEDLYLQLLQK\r\n"
     ]
    }
   ],
   "source": [
    "!head /Users/meganduffy/Documents/git-repos/2017-etnp/data/MED4/MED-Prochlorococcus-RLundeen/peaks-output/MED4-noenz/MED_MED4-RAL_PEAKS_53/med4-peaks53-noenz-dnopeps.txt"
   ]
  },
  {
   "cell_type": "code",
   "execution_count": 17,
   "metadata": {
    "collapsed": true
   },
   "outputs": [],
   "source": [
    "# Removes all characters in parentheses and saves as new file\n",
    "\n",
    "!awk -F \"[()]\" '{ for (i=2; i<NF; i+=2) print $i }' /Users/meganduffy/Documents/git-repos/2017-etnp/data/MED4/MED-Prochlorococcus-RLundeen/peaks-output/MED4-noenz/MED_MED4-RAL_PEAKS_53/med4-peaks53-noenz-dnopeps.txt > \\\n",
    "/Users/meganduffy/Documents/git-repos/2017-etnp/data/MED4/MED-Prochlorococcus-RLundeen/peaks-output/MED4-noenz/MED_MED4-RAL_PEAKS_53/med4-peaks53-noenz-dno-mods.txt"
   ]
  },
  {
   "cell_type": "code",
   "execution_count": 18,
   "metadata": {
    "collapsed": false
   },
   "outputs": [
    {
     "name": "stdout",
     "output_type": "stream",
     "text": [
      "+15.99\r\n",
      "+57.02\r\n",
      "+15.99\r\n",
      "+15.99\r\n",
      "+57.02\r\n",
      "+57.02\r\n",
      "+57.02\r\n",
      "+15.99\r\n",
      "+15.99\r\n",
      "+15.99\r\n"
     ]
    }
   ],
   "source": [
    "# How does the modifications text file look?\n",
    "\n",
    "!head /Users/meganduffy/Documents/git-repos/2017-etnp/data/MED4/MED-Prochlorococcus-RLundeen/peaks-output/MED4-noenz/MED_MED4-RAL_PEAKS_53/med4-peaks53-noenz-dno-mods.txt"
   ]
  },
  {
   "cell_type": "code",
   "execution_count": 19,
   "metadata": {
    "collapsed": false
   },
   "outputs": [
    {
     "name": "stdout",
     "output_type": "stream",
     "text": [
      "    1057 /Users/meganduffy/Documents/git-repos/2017-etnp/data/MED4/MED-Prochlorococcus-RLundeen/peaks-output/MED4-noenz/MED_MED4-RAL_PEAKS_53/med4-peaks53-noenz-dno-mods.txt\r\n"
     ]
    }
   ],
   "source": [
    "# How many modifications for this sample?\n",
    "\n",
    "!wc -l /Users/meganduffy/Documents/git-repos/2017-etnp/data/MED4/MED-Prochlorococcus-RLundeen/peaks-output/MED4-noenz/MED_MED4-RAL_PEAKS_53/med4-peaks53-noenz-dno-mods.txt"
   ]
  },
  {
   "cell_type": "code",
   "execution_count": 20,
   "metadata": {
    "collapsed": false
   },
   "outputs": [
    {
     "name": "stdout",
     "output_type": "stream",
     "text": [
      "    3258 /Users/meganduffy/Documents/git-repos/2017-etnp/data/MED4/MED-Prochlorococcus-RLundeen/peaks-output/MED4-noenz/MED_MED4-RAL_PEAKS_53/med4-peaks53-noenz-dnopeps.txt\r\n"
     ]
    }
   ],
   "source": [
    "# Compared with how many total peptides?\n",
    "\n",
    "!wc -l /Users/meganduffy/Documents/git-repos/2017-etnp/data/MED4/MED-Prochlorococcus-RLundeen/peaks-output/MED4-noenz/MED_MED4-RAL_PEAKS_53/med4-peaks53-noenz-dnopeps.txt"
   ]
  },
  {
   "cell_type": "code",
   "execution_count": 21,
   "metadata": {
    "collapsed": false
   },
   "outputs": [
    {
     "data": {
      "text/plain": [
       "0.32443216697360344"
      ]
     },
     "execution_count": 21,
     "metadata": {},
     "output_type": "execute_result"
    }
   ],
   "source": [
    "# What's the percentage of modified peptides for this sample?\n",
    "\n",
    "1057/3258"
   ]
  },
  {
   "cell_type": "code",
   "execution_count": 22,
   "metadata": {
    "collapsed": true
   },
   "outputs": [],
   "source": [
    "# Get rid of modifications from all peptides and save as a new file\n",
    "# Remove '(+15.99)' and '(+57.02)', (+.98) from sequences\n",
    "\n",
    "!sed 's/(+15.99)//g' /Users/meganduffy/Documents/git-repos/2017-etnp/data/MED4/MED-Prochlorococcus-RLundeen/peaks-output/MED4-noenz/MED_MED4-RAL_PEAKS_53/med4-peaks53-noenz-dnopeps.txt \\\n",
    "| sed 's/(+57.02)//g'\\\n",
    "| sed 's/(+.98)//g'\\\n",
    "> /Users/meganduffy/Documents/git-repos/2017-etnp/data/MED4/MED-Prochlorococcus-RLundeen/peaks-output/MED4-noenz/MED_MED4-RAL_PEAKS_53/med4-peaks53-noenz-dno-nomods.txt"
   ]
  },
  {
   "cell_type": "code",
   "execution_count": 23,
   "metadata": {
    "collapsed": false
   },
   "outputs": [
    {
     "name": "stdout",
     "output_type": "stream",
     "text": [
      "TMLLPLK\r\n",
      "EDCLLLK\r\n",
      "KFNDELWQ\r\n",
      "KFVLDER\r\n",
      "LLSLFLK\r\n",
      "VAAEAVLAAQLK\r\n",
      "EMEATDLYVLKDLFK\r\n",
      "TMLELAK\r\n",
      "EFVSDVK\r\n",
      "KNDEDLYLQLLQK\r\n"
     ]
    }
   ],
   "source": [
    "!head /Users/meganduffy/Documents/git-repos/2017-etnp/data/MED4/MED-Prochlorococcus-RLundeen/peaks-output/MED4-noenz/MED_MED4-RAL_PEAKS_53/med4-peaks53-noenz-dno-nomods.txt"
   ]
  },
  {
   "cell_type": "code",
   "execution_count": 24,
   "metadata": {
    "collapsed": false
   },
   "outputs": [
    {
     "name": "stdout",
     "output_type": "stream",
     "text": [
      "med4-peaks53-noenz-DB-search-psm.csv    med4-peaks53-noenz-dnopeps.txt\r\n",
      "med4-peaks53-noenz-dno-mods.txt         med4-peaks53-noenz-peptide.csv\r\n",
      "med4-peaks53-noenz-dno-nomods.txt       med4-peaks53-noenz-protein-peptides.csv\r\n",
      "med4-peaks53-noenz-dno.csv              med4-peaks53-noenz-proteins.csv\r\n",
      "med4-peaks53-noenz-dnopeps.csv          med4-peaks53-noenz-proteins.fasta\r\n"
     ]
    }
   ],
   "source": [
    "!ls /Users/meganduffy/Documents/git-repos/2017-etnp/data/MED4/MED-Prochlorococcus-RLundeen/peaks-output/MED4-noenz/MED_MED4-RAL_PEAKS_53/"
   ]
  },
  {
   "cell_type": "markdown",
   "metadata": {},
   "source": [
    "### Made the nomod noenz dno file a fasta using Galaxy"
   ]
  },
  {
   "cell_type": "code",
   "execution_count": null,
   "metadata": {
    "collapsed": true
   },
   "outputs": [],
   "source": []
  }
 ],
 "metadata": {
  "kernelspec": {
   "display_name": "Python [default]",
   "language": "python",
   "name": "python3"
  },
  "language_info": {
   "codemirror_mode": {
    "name": "ipython",
    "version": 3
   },
   "file_extension": ".py",
   "mimetype": "text/x-python",
   "name": "python",
   "nbconvert_exporter": "python",
   "pygments_lexer": "ipython3",
   "version": "3.5.2"
  }
 },
 "nbformat": 4,
 "nbformat_minor": 1
}
