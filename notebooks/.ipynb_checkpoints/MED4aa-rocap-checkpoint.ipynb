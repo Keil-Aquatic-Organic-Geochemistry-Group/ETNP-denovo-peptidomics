{
 "cells": [
  {
   "cell_type": "code",
   "execution_count": 1,
   "metadata": {
    "collapsed": false
   },
   "outputs": [
    {
     "name": "stdout",
     "output_type": "stream",
     "text": [
      "Fri Jan  5 11:54:52 EST 2018\r\n"
     ]
    }
   ],
   "source": [
    "!date"
   ]
  },
  {
   "cell_type": "code",
   "execution_count": 2,
   "metadata": {
    "collapsed": false
   },
   "outputs": [
    {
     "name": "stdout",
     "output_type": "stream",
     "text": [
      "Software:\r\n",
      "\r\n",
      "    System Software Overview:\r\n",
      "\r\n",
      "      System Version: macOS 10.13.2 (17C88)\r\n",
      "      Kernel Version: Darwin 17.3.0\r\n",
      "      Boot Volume: Macintosh HD\r\n",
      "      Boot Mode: Normal\r\n",
      "      Computer Name: Megan’s MacBook Pro\r\n",
      "      User Name: Megan Duffy (meganduffy)\r\n",
      "      Secure Virtual Memory: Enabled\r\n",
      "      System Integrity Protection: Enabled\r\n",
      "      Time since boot: 17 days 20:16\r\n",
      "\r\n"
     ]
    }
   ],
   "source": [
    "!system_profiler SPSoftwareDataType"
   ]
  },
  {
   "cell_type": "markdown",
   "metadata": {},
   "source": [
    "### Got a MED4 proteome from Gabrielle Rocap - apparently with better annotations and AAs. ###\n",
    "### Downloaded from Rocap GDrive on 2018-01-05: MED4-rocap.fa ###"
   ]
  },
  {
   "cell_type": "code",
   "execution_count": 4,
   "metadata": {
    "collapsed": false
   },
   "outputs": [
    {
     "name": "stdout",
     "output_type": "stream",
     "text": [
      "\u001b[34m05.22.17-peaks\u001b[m\u001b[m                         \u001b[31mMED4_hi3_proteome.fasta\u001b[m\u001b[m\r\n",
      "05.22.17-peaks.zip                     MED4_hi3_proteome_digested.fasta\r\n",
      "\u001b[34m10.12.17-peaks\u001b[m\u001b[m                         MED4_hi3_proteome_digested.phr\r\n",
      "\u001b[34m11.12.17-peaks\u001b[m\u001b[m                         MED4_hi3_proteome_digested.pin\r\n",
      "MED2_tryp_1rawDB-search-psm.csv        MED4_hi3_proteome_digested.psq\r\n",
      "MED2_tryp_1raw_80dn.csv                \u001b[31mMED4_hi3_proteome_digested.txt\u001b[m\u001b[m\r\n",
      "MED2_tryp_1raw_db_peptides.fasta       MED4_hi3_proteome_tryp.peps.txt\r\n",
      "MED2_tryp_1raw_db_peptides_nmod.fasta  MED4_hi3_proteome_tryptic.txt\r\n",
      "MED2_tryp_1raw_db_peptides_nmod.phr    MED4aa-rocap.fa\r\n",
      "MED2_tryp_1raw_db_peptides_nmod.pin    UP000001026_59919.fasta.gz\r\n",
      "MED2_tryp_1raw_db_peptides_nmod.psq    Uniprot.MED4_Hi3.fasta\r\n",
      "MED2_tryp_1raw_db_peptides_nmod.txt    Uniprot.MED4_Hi3.phr\r\n",
      "MED2_tryp_1raw_dn-only.csv             Uniprot.MED4_Hi3.pin\r\n",
      "MED2_tryp_1raw_peptide.csv             Uniprot.MED4_Hi3.psq\r\n",
      "MED2_tryp_1raw_propep.csv              Uniprot.MED4_Hi3_tryptic.txt\r\n",
      "MED2_tryp_1raw_protein.csv             test20171205.txt\r\n",
      "MED2_trypsin_1raw_80alc_peptides.fasta \u001b[31mtrypsin.py\u001b[m\u001b[m\r\n"
     ]
    }
   ],
   "source": [
    "!ls /Users/meganduffy/Documents/git-repos/2017-etnp/data"
   ]
  },
  {
   "cell_type": "code",
   "execution_count": 5,
   "metadata": {
    "collapsed": false
   },
   "outputs": [
    {
     "name": "stdout",
     "output_type": "stream",
     "text": [
      ">PMM0001 | dnaN | DNA polymerase III subunit beta\r\n",
      "MEIVCNQNEFNYAIQLVSKAVASRPTHPILANLLLTADQGTNKISLTGFDLNLGIQTSFD\r\n",
      "ATVNKSGAITIPSKLLSEIVNKLPSETPVSLDVDESSDNILIKSDRGSFNIKGIPSDDYP\r\n",
      "SLPFVESGTSLNIDPSSFLKALKLTIFASSSDDSKQLLTGVNFTFNLKYLESAATDGHRL\r\n",
      "AVVLVDNKENFDEKEDFASNEENLSVTIPTRSLREIEKLVSLRSSENSIKLFYDKGQVVF\r\n",
      "ISSNQIITTRTLEGSYPNYSQLIPDNFTKIFTFNTKKIIESLERIAVLADQQSSVVKIKL\r\n",
      "NEKDLALVSADAQDIGNASELVPVSFYFDQFDIAFNVRYLLEGLKVISSENVIFKCNLPT\r\n",
      "TPAVLVPEDNINSFTYLVMPVQVRS\r\n",
      "\r\n",
      ">PMM0002 | PMM0002 | hypothetical protein\r\n"
     ]
    }
   ],
   "source": [
    "# definitely in AA space?\n",
    "\n",
    "!head /Users/meganduffy/Documents/git-repos/2017-etnp/data/MED4aa-rocap.fa"
   ]
  },
  {
   "cell_type": "markdown",
   "metadata": {},
   "source": [
    "### Added Hi3 AA sequence to MED4aa-rocap.fa using EmEditor ###"
   ]
  },
  {
   "cell_type": "code",
   "execution_count": null,
   "metadata": {
    "collapsed": true
   },
   "outputs": [],
   "source": []
  }
 ],
 "metadata": {
  "anaconda-cloud": {},
  "kernelspec": {
   "display_name": "Python [default]",
   "language": "python",
   "name": "python3"
  },
  "language_info": {
   "codemirror_mode": {
    "name": "ipython",
    "version": 3
   },
   "file_extension": ".py",
   "mimetype": "text/x-python",
   "name": "python",
   "nbconvert_exporter": "python",
   "pygments_lexer": "ipython3",
   "version": "3.5.2"
  }
 },
 "nbformat": 4,
 "nbformat_minor": 1
}
