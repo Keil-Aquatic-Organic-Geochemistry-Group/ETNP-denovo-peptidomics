{
 "cells": [
  {
   "cell_type": "code",
   "execution_count": 1,
   "metadata": {
    "collapsed": false
   },
   "outputs": [
    {
     "name": "stdout",
     "output_type": "stream",
     "text": [
      "Wed Jun  6 16:52:04 PDT 2018\r\n"
     ]
    }
   ],
   "source": [
    "!date"
   ]
  },
  {
   "cell_type": "code",
   "execution_count": 2,
   "metadata": {
    "collapsed": false
   },
   "outputs": [
    {
     "name": "stdout",
     "output_type": "stream",
     "text": [
      "Software:\r\n",
      "\r\n",
      "    System Software Overview:\r\n",
      "\r\n",
      "      System Version: macOS 10.13.4 (17E202)\r\n",
      "      Kernel Version: Darwin 17.5.0\r\n",
      "      Boot Volume: Macintosh HD\r\n",
      "      Boot Mode: Normal\r\n",
      "      Computer Name: Megan’s MacBook Pro (2)\r\n",
      "      User Name: Megan Duffy (meganduffy)\r\n",
      "      Secure Virtual Memory: Enabled\r\n",
      "      System Integrity Protection: Enabled\r\n",
      "      Time since boot: 14 days 17:21\r\n",
      "\r\n"
     ]
    }
   ],
   "source": [
    "!system_profiler SPSoftwareDataType"
   ]
  },
  {
   "cell_type": "markdown",
   "metadata": {},
   "source": [
    "## M. Duffy, June 6 2018: \n",
    "\n",
    "## Notebook for stripping PEAKS 8.5 protein peptides from single protein groups and extracting mass modification lists, stripping leads + tails, and amassing metadata ##\n",
    "\n",
    "### PEAKS 8.5 DB, de novo, PTM-Finder, and Spider homology search results exported into .csv formats for a project of four 2017 ETNP samples (see _susvsink_ data page). Used table of protein groups (susvsink-proteins.csv) to identify shared peptide spectral overlaps between the four samples). Then went to the protein group's list of peptides in susvsink-protein-peptides.csv.  Extracted into plain text files in this project's data directory: ###"
   ]
  },
  {
   "cell_type": "code",
   "execution_count": 8,
   "metadata": {
    "collapsed": false
   },
   "outputs": [
    {
     "name": "stdout",
     "output_type": "stream",
     "text": [
      "susvsink-pg4-peptides.txt\r\n"
     ]
    }
   ],
   "source": [
    "!ls /Users/meganduffy/Documents/git-repos/2017-etnp/data/sus-vs-sink/protein-group-peptides/"
   ]
  },
  {
   "cell_type": "code",
   "execution_count": 11,
   "metadata": {
    "collapsed": false
   },
   "outputs": [
    {
     "name": "stdout",
     "output_type": "stream",
     "text": [
      "R.LPQVEGTGGDVQPSQDLVR.V\r\n",
      "R.AIQQQIENPLAQQILSGELVPGK.V\r\n",
      "R.LPQVEGTGGDVQ(+.98)PSQDLVR.V\r\n",
      "R.VIGQNEAVDAVSNAIR.R\r\n",
      "R.AIQQQIE(+21.98)NPLAQQILSGELVPGK.V\r\n",
      "R.LPQVEGTGGDVQPSQ(+.98)DLVR.V\r\n",
      "K.AIDLIDEAASSIR.M\r\n",
      "R.VIGQNEAVDAVSN(+.98)AIR.R\r\n",
      "R.LPQVEGTGGD(+37.95)VQPSQDLVR.V\r\n",
      "R.LPQVEGTGGD(+21.98)VQPSQDLVR.V\r\n"
     ]
    }
   ],
   "source": [
    "!head /Users/meganduffy/Documents/git-repos/2017-etnp/data/sus-vs-sink/protein-group-peptides/susvsink-pg4-peptides.txt"
   ]
  },
  {
   "cell_type": "code",
   "execution_count": null,
   "metadata": {
    "collapsed": true
   },
   "outputs": [],
   "source": []
  }
 ],
 "metadata": {
  "kernelspec": {
   "display_name": "Python [default]",
   "language": "python",
   "name": "python3"
  },
  "language_info": {
   "codemirror_mode": {
    "name": "ipython",
    "version": 3
   },
   "file_extension": ".py",
   "mimetype": "text/x-python",
   "name": "python",
   "nbconvert_exporter": "python",
   "pygments_lexer": "ipython3",
   "version": "3.5.2"
  }
 },
 "nbformat": 4,
 "nbformat_minor": 1
}
