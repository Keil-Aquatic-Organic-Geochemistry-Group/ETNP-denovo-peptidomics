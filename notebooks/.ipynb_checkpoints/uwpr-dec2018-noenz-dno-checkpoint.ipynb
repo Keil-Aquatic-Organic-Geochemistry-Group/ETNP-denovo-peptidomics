{
 "cells": [
  {
   "cell_type": "code",
   "execution_count": 1,
   "metadata": {
    "collapsed": false
   },
   "outputs": [
    {
     "name": "stdout",
     "output_type": "stream",
     "text": [
      "Fri Sep 13 18:38:42 PDT 2019\r\n"
     ]
    }
   ],
   "source": [
    "!date"
   ]
  },
  {
   "cell_type": "code",
   "execution_count": 2,
   "metadata": {
    "collapsed": false
   },
   "outputs": [
    {
     "name": "stdout",
     "output_type": "stream",
     "text": [
      "Software:\r\n",
      "\r\n",
      "    System Software Overview:\r\n",
      "\r\n",
      "      System Version: macOS 10.14.6 (18G95)\r\n",
      "      Kernel Version: Darwin 18.7.0\r\n",
      "      Boot Volume: Macintosh HD\r\n",
      "      Boot Mode: Normal\r\n",
      "      Computer Name: Megan’s MacBook Pro (2)\r\n",
      "      User Name: Megan Duffy (meganduffy)\r\n",
      "      Secure Virtual Memory: Enabled\r\n",
      "      System Integrity Protection: Enabled\r\n",
      "      Time since boot: 6 days 19:36\r\n",
      "\r\n"
     ]
    }
   ],
   "source": [
    "!system_profiler SPSoftwareDataType"
   ]
  },
  {
   "cell_type": "markdown",
   "metadata": {},
   "source": [
    "### Notebook to document text extraction and editing of UWPR December 2018 ETNP 2017 P1 McLane sample profile (plus several P2 trap samples including 378) no enzyme de novo only peptides\n",
    "\n",
    "### Exported the results of PEAKS 8.5 searches into Git ETNP 2017 data directory"
   ]
  },
  {
   "cell_type": "code",
   "execution_count": 3,
   "metadata": {
    "collapsed": false
   },
   "outputs": [
    {
     "name": "stdout",
     "output_type": "stream",
     "text": [
      "\u001b[34mUWPR-Dec2018-SPIDER\u001b[m\u001b[m\r\n",
      "\u001b[34mUWPR-Dec2018-noenz\u001b[m\u001b[m\r\n",
      "\u001b[34mUWPR_Dec2018_366-50m-gf75-ETNP_PEAKS_21\u001b[m\u001b[m\r\n",
      "\u001b[34mUWPR_Dec2018_367-80m-gf75-ETNP_PEAKS_25\u001b[m\u001b[m\r\n",
      "\u001b[34mUWPR_Dec2018_368-100m-gf75-ETNP_PEAKS_29\u001b[m\u001b[m\r\n",
      "\u001b[34mUWPR_Dec2018_369-265m-gf75-ETNP_PEAKS_33\u001b[m\u001b[m\r\n",
      "\u001b[34mUWPR_Dec2018_370-700m-gf75-ETNP_PEAKS_37\u001b[m\u001b[m\r\n",
      "\u001b[34mUWPR_Dec2018_371-1000m-gf75-ETNP_PEAKS_41\u001b[m\u001b[m\r\n",
      "\u001b[34mUWPR_Dec2018_372-50m-gfd-ETNP_PEAKS_45\u001b[m\u001b[m\r\n",
      "\u001b[34mUWPR_Dec2018_373-80m-gfd-ETNP_PEAKS_49\u001b[m\u001b[m\r\n",
      "\u001b[34mUWPR_Dec2018_374-100m-gfd-ETNP_PEAKS_53\u001b[m\u001b[m\r\n",
      "\u001b[34mUWPR_Dec2018_376-700m-gfd-ETNP_PEAKS_57\u001b[m\u001b[m\r\n",
      "\u001b[34mUWPR_Dec2018_377-1000m-gfd-ETNP_PEAKS_61\u001b[m\u001b[m\r\n",
      "\u001b[34mUWPR_Dec2018_378-trap-2-14-100m-ETNP-PEAKS_80\u001b[m\u001b[m\r\n",
      "\u001b[34mUWPR_Dec2018_379-trap-2-14-150m-ETNP-PEAKS_76\u001b[m\u001b[m\r\n",
      "\u001b[34mUWPR_Dec2018_380-trap-4-4-700m-ETNP_PEAKS_84\u001b[m\u001b[m\r\n",
      "\u001b[34mUWPR_Dec2018_peaks16-combined_ETNP_PEAKS_16\u001b[m\u001b[m\r\n"
     ]
    }
   ],
   "source": [
    "!ls /Users/meganduffy/Documents/git-repos/2017-etnp/data/uwpr-dec2018"
   ]
  },
  {
   "cell_type": "code",
   "execution_count": 4,
   "metadata": {
    "collapsed": false
   },
   "outputs": [
    {
     "name": "stdout",
     "output_type": "stream",
     "text": [
      "\u001b[34metnp-100m-trap-378-20181214-NOENZ-PEAKS151\u001b[m\u001b[m\r\n"
     ]
    }
   ],
   "source": [
    "!ls /Users/meganduffy/Documents/git-repos/2017-etnp/data/uwpr-dec2018/UWPR-Dec2018-noenz/"
   ]
  },
  {
   "cell_type": "markdown",
   "metadata": {},
   "source": [
    "### Sample 378: ETNP 2017 100 m trap, PEAKS 151 no enzyme search "
   ]
  },
  {
   "cell_type": "code",
   "execution_count": 5,
   "metadata": {
    "collapsed": false
   },
   "outputs": [
    {
     "name": "stdout",
     "output_type": "stream",
     "text": [
      "378-peaks151-noenz-DB-search-psm.csv    378-peaks151-noenz-protein-peptides.csv\r\n",
      "378-peaks151-noenz-dno.csv              378-peaks151-noenz-proteins.csv\r\n",
      "378-peaks151-noenz-peptide.csv          378-peaks151-noenz-proteins.fasta\r\n"
     ]
    }
   ],
   "source": [
    "!ls /Users/meganduffy/Documents/git-repos/2017-etnp/data/uwpr-dec2018/UWPR-Dec2018-noenz/etnp-100m-trap-378-20181214-NOENZ-PEAKS151/"
   ]
  },
  {
   "cell_type": "code",
   "execution_count": 6,
   "metadata": {
    "collapsed": true
   },
   "outputs": [],
   "source": [
    "import os"
   ]
  },
  {
   "cell_type": "code",
   "execution_count": 7,
   "metadata": {
    "collapsed": false
   },
   "outputs": [
    {
     "data": {
      "text/plain": [
       "'/Users/meganduffy/Documents/git-repos/2017-etnp/notebooks'"
      ]
     },
     "execution_count": 7,
     "metadata": {},
     "output_type": "execute_result"
    }
   ],
   "source": [
    "os.getcwd()"
   ]
  },
  {
   "cell_type": "code",
   "execution_count": 8,
   "metadata": {
    "collapsed": true
   },
   "outputs": [],
   "source": [
    "import pandas as pd"
   ]
  },
  {
   "cell_type": "code",
   "execution_count": 9,
   "metadata": {
    "collapsed": false
   },
   "outputs": [
    {
     "data": {
      "text/plain": [
       "'0.18.1'"
      ]
     },
     "execution_count": 9,
     "metadata": {},
     "output_type": "execute_result"
    }
   ],
   "source": [
    "pd.__version__"
   ]
  },
  {
   "cell_type": "code",
   "execution_count": 10,
   "metadata": {
    "collapsed": true
   },
   "outputs": [],
   "source": [
    "data = pd.read_csv(\"/Users/meganduffy/Documents/git-repos/2017-etnp/data/uwpr-dec2018/UWPR-Dec2018-noenz/etnp-100m-trap-378-20181214-NOENZ-PEAKS151/378-peaks151-noenz-dno.csv\")"
   ]
  },
  {
   "cell_type": "code",
   "execution_count": 11,
   "metadata": {
    "collapsed": false
   },
   "outputs": [
    {
     "data": {
      "text/html": [
       "<div>\n",
       "<table border=\"1\" class=\"dataframe\">\n",
       "  <thead>\n",
       "    <tr style=\"text-align: right;\">\n",
       "      <th></th>\n",
       "      <th>Fraction</th>\n",
       "      <th>Scan</th>\n",
       "      <th>Source File</th>\n",
       "      <th>Peptide</th>\n",
       "      <th>Tag Length</th>\n",
       "      <th>ALC (%)</th>\n",
       "      <th>length</th>\n",
       "      <th>m/z</th>\n",
       "      <th>z</th>\n",
       "      <th>RT</th>\n",
       "      <th>Area</th>\n",
       "      <th>Mass</th>\n",
       "      <th>ppm</th>\n",
       "      <th>Accession</th>\n",
       "      <th>PTM</th>\n",
       "      <th>local confidence (%)</th>\n",
       "      <th>tag (&gt;=0%)</th>\n",
       "      <th>mode</th>\n",
       "    </tr>\n",
       "  </thead>\n",
       "  <tbody>\n",
       "    <tr>\n",
       "      <th>0</th>\n",
       "      <td>14</td>\n",
       "      <td>4564</td>\n",
       "      <td>20181214_378_etnp2017_100m_trap.raw</td>\n",
       "      <td>VVEEAPK</td>\n",
       "      <td>7</td>\n",
       "      <td>98</td>\n",
       "      <td>7</td>\n",
       "      <td>386.2155</td>\n",
       "      <td>2</td>\n",
       "      <td>17.85</td>\n",
       "      <td>800000.0</td>\n",
       "      <td>770.4174</td>\n",
       "      <td>-1.1</td>\n",
       "      <td>NaN</td>\n",
       "      <td>NaN</td>\n",
       "      <td>99 99 100 100 99 97 98</td>\n",
       "      <td>VVEEAPK</td>\n",
       "      <td>CID</td>\n",
       "    </tr>\n",
       "    <tr>\n",
       "      <th>1</th>\n",
       "      <td>14</td>\n",
       "      <td>4574</td>\n",
       "      <td>20181214_378_etnp2017_100m_trap.raw</td>\n",
       "      <td>SLEAESR</td>\n",
       "      <td>7</td>\n",
       "      <td>97</td>\n",
       "      <td>7</td>\n",
       "      <td>396.1982</td>\n",
       "      <td>2</td>\n",
       "      <td>17.88</td>\n",
       "      <td>513000.0</td>\n",
       "      <td>790.3821</td>\n",
       "      <td>-0.4</td>\n",
       "      <td>NaN</td>\n",
       "      <td>NaN</td>\n",
       "      <td>99 99 100 99 99 96 92</td>\n",
       "      <td>SLEAESR</td>\n",
       "      <td>CID</td>\n",
       "    </tr>\n",
       "    <tr>\n",
       "      <th>2</th>\n",
       "      <td>14</td>\n",
       "      <td>5046</td>\n",
       "      <td>20181214_378_etnp2017_100m_trap.raw</td>\n",
       "      <td>SPVVDC(+57.02)H</td>\n",
       "      <td>7</td>\n",
       "      <td>97</td>\n",
       "      <td>7</td>\n",
       "      <td>407.1809</td>\n",
       "      <td>2</td>\n",
       "      <td>19.33</td>\n",
       "      <td>76900.0</td>\n",
       "      <td>812.3487</td>\n",
       "      <td>-1.7</td>\n",
       "      <td>NaN</td>\n",
       "      <td>Carbamidomethylation</td>\n",
       "      <td>99 100 100 98 97 96 93</td>\n",
       "      <td>SPVVDC(+57.02)H</td>\n",
       "      <td>CID</td>\n",
       "    </tr>\n",
       "    <tr>\n",
       "      <th>3</th>\n",
       "      <td>14</td>\n",
       "      <td>4807</td>\n",
       "      <td>20181214_378_etnp2017_100m_trap.raw</td>\n",
       "      <td>LYEEKD</td>\n",
       "      <td>6</td>\n",
       "      <td>97</td>\n",
       "      <td>6</td>\n",
       "      <td>398.6949</td>\n",
       "      <td>2</td>\n",
       "      <td>18.61</td>\n",
       "      <td>743000.0</td>\n",
       "      <td>795.3650</td>\n",
       "      <td>12.9</td>\n",
       "      <td>NaN</td>\n",
       "      <td>NaN</td>\n",
       "      <td>98 98 99 99 96 95</td>\n",
       "      <td>LYEEKD</td>\n",
       "      <td>CID</td>\n",
       "    </tr>\n",
       "    <tr>\n",
       "      <th>4</th>\n",
       "      <td>14</td>\n",
       "      <td>5492</td>\n",
       "      <td>20181214_378_etnp2017_100m_trap.raw</td>\n",
       "      <td>ADSADSALSK</td>\n",
       "      <td>10</td>\n",
       "      <td>97</td>\n",
       "      <td>10</td>\n",
       "      <td>482.7328</td>\n",
       "      <td>2</td>\n",
       "      <td>20.79</td>\n",
       "      <td>363000.0</td>\n",
       "      <td>963.4509</td>\n",
       "      <td>0.2</td>\n",
       "      <td>WP_011468527.1</td>\n",
       "      <td>NaN</td>\n",
       "      <td>97 100 100 100 97 96 96 99 98 92</td>\n",
       "      <td>ADSADSALSK</td>\n",
       "      <td>CID</td>\n",
       "    </tr>\n",
       "  </tbody>\n",
       "</table>\n",
       "</div>"
      ],
      "text/plain": [
       "   Fraction  Scan                          Source File          Peptide  \\\n",
       "0        14  4564  20181214_378_etnp2017_100m_trap.raw          VVEEAPK   \n",
       "1        14  4574  20181214_378_etnp2017_100m_trap.raw          SLEAESR   \n",
       "2        14  5046  20181214_378_etnp2017_100m_trap.raw  SPVVDC(+57.02)H   \n",
       "3        14  4807  20181214_378_etnp2017_100m_trap.raw           LYEEKD   \n",
       "4        14  5492  20181214_378_etnp2017_100m_trap.raw       ADSADSALSK   \n",
       "\n",
       "   Tag Length  ALC (%)  length       m/z  z     RT      Area      Mass   ppm  \\\n",
       "0           7       98       7  386.2155  2  17.85  800000.0  770.4174  -1.1   \n",
       "1           7       97       7  396.1982  2  17.88  513000.0  790.3821  -0.4   \n",
       "2           7       97       7  407.1809  2  19.33   76900.0  812.3487  -1.7   \n",
       "3           6       97       6  398.6949  2  18.61  743000.0  795.3650  12.9   \n",
       "4          10       97      10  482.7328  2  20.79  363000.0  963.4509   0.2   \n",
       "\n",
       "        Accession                   PTM              local confidence (%)  \\\n",
       "0             NaN                   NaN            99 99 100 100 99 97 98   \n",
       "1             NaN                   NaN             99 99 100 99 99 96 92   \n",
       "2             NaN  Carbamidomethylation            99 100 100 98 97 96 93   \n",
       "3             NaN                   NaN                 98 98 99 99 96 95   \n",
       "4  WP_011468527.1                   NaN  97 100 100 100 97 96 96 99 98 92   \n",
       "\n",
       "        tag (>=0%) mode  \n",
       "0          VVEEAPK  CID  \n",
       "1          SLEAESR  CID  \n",
       "2  SPVVDC(+57.02)H  CID  \n",
       "3           LYEEKD  CID  \n",
       "4       ADSADSALSK  CID  "
      ]
     },
     "execution_count": 11,
     "metadata": {},
     "output_type": "execute_result"
    }
   ],
   "source": [
    "data.head()"
   ]
  },
  {
   "cell_type": "code",
   "execution_count": 12,
   "metadata": {
    "collapsed": true
   },
   "outputs": [],
   "source": [
    "# Keep only peptide column\n",
    "pep = data[[\"Peptide\"]]"
   ]
  },
  {
   "cell_type": "code",
   "execution_count": 13,
   "metadata": {
    "collapsed": false
   },
   "outputs": [
    {
     "data": {
      "text/html": [
       "<div>\n",
       "<table border=\"1\" class=\"dataframe\">\n",
       "  <thead>\n",
       "    <tr style=\"text-align: right;\">\n",
       "      <th></th>\n",
       "      <th>Peptide</th>\n",
       "    </tr>\n",
       "  </thead>\n",
       "  <tbody>\n",
       "    <tr>\n",
       "      <th>0</th>\n",
       "      <td>VVEEAPK</td>\n",
       "    </tr>\n",
       "    <tr>\n",
       "      <th>1</th>\n",
       "      <td>SLEAESR</td>\n",
       "    </tr>\n",
       "    <tr>\n",
       "      <th>2</th>\n",
       "      <td>SPVVDC(+57.02)H</td>\n",
       "    </tr>\n",
       "    <tr>\n",
       "      <th>3</th>\n",
       "      <td>LYEEKD</td>\n",
       "    </tr>\n",
       "    <tr>\n",
       "      <th>4</th>\n",
       "      <td>ADSADSALSK</td>\n",
       "    </tr>\n",
       "  </tbody>\n",
       "</table>\n",
       "</div>"
      ],
      "text/plain": [
       "           Peptide\n",
       "0          VVEEAPK\n",
       "1          SLEAESR\n",
       "2  SPVVDC(+57.02)H\n",
       "3           LYEEKD\n",
       "4       ADSADSALSK"
      ]
     },
     "execution_count": 13,
     "metadata": {},
     "output_type": "execute_result"
    }
   ],
   "source": [
    "pep.head()"
   ]
  },
  {
   "cell_type": "code",
   "execution_count": 18,
   "metadata": {
    "collapsed": true
   },
   "outputs": [],
   "source": [
    "# Write altered dataframe to new csv file\n",
    "# Used header and index parameters to get rid of 'Peptide' header and the indexing\n",
    "\n",
    "pep.to_csv(\"/Users/meganduffy/Documents/git-repos/2017-etnp/data/uwpr-dec2018/UWPR-Dec2018-noenz/etnp-100m-trap-378-20181214-NOENZ-PEAKS151/378-peaks151-noenz-dnopeps.csv\", header=False, index=False)"
   ]
  },
  {
   "cell_type": "code",
   "execution_count": 19,
   "metadata": {
    "collapsed": true
   },
   "outputs": [],
   "source": [
    "# Write altered dataframe to new txt file\n",
    "# Used header and index parameters to get rid of 'Peptide' header and the indexing\n",
    "\n",
    "pep.to_csv(\"/Users/meganduffy/Documents/git-repos/2017-etnp/data/uwpr-dec2018/UWPR-Dec2018-noenz/etnp-100m-trap-378-20181214-NOENZ-PEAKS151/378-peaks151-noenz-dnopeps.txt\", header=False, index=False)"
   ]
  },
  {
   "cell_type": "code",
   "execution_count": 20,
   "metadata": {
    "collapsed": false
   },
   "outputs": [
    {
     "name": "stdout",
     "output_type": "stream",
     "text": [
      "VVEEAPK\r\n",
      "SLEAESR\r\n",
      "SPVVDC(+57.02)H\r\n",
      "LYEEKD\r\n",
      "ADSADSALSK\r\n",
      "FEELVRT\r\n",
      "APANVTTEVK\r\n",
      "EEDLER\r\n",
      "VENVEENR\r\n",
      "EAYDEAK\r\n"
     ]
    }
   ],
   "source": [
    "!head /Users/meganduffy/Documents/git-repos/2017-etnp/data/uwpr-dec2018/UWPR-Dec2018-noenz/etnp-100m-trap-378-20181214-NOENZ-PEAKS151/378-peaks151-noenz-dnopeps.txt"
   ]
  },
  {
   "cell_type": "code",
   "execution_count": 21,
   "metadata": {
    "collapsed": true
   },
   "outputs": [],
   "source": [
    "# Removes all characters in parentheses and saves as new file\n",
    "\n",
    "!awk -F \"[()]\" '{ for (i=2; i<NF; i+=2) print $i }' /Users/meganduffy/Documents/git-repos/2017-etnp/data/uwpr-dec2018/UWPR-Dec2018-noenz/etnp-100m-trap-378-20181214-NOENZ-PEAKS151/378-peaks151-noenz-dnopeps.txt > /Users/meganduffy/Documents/git-repos/2017-etnp/data/uwpr-dec2018/UWPR-Dec2018-noenz/etnp-100m-trap-378-20181214-NOENZ-PEAKS151/378-peaks151-noenz-dno-mods.txt"
   ]
  },
  {
   "cell_type": "code",
   "execution_count": 22,
   "metadata": {
    "collapsed": false
   },
   "outputs": [
    {
     "name": "stdout",
     "output_type": "stream",
     "text": [
      "+57.02\r\n",
      "+15.99\r\n",
      "+15.99\r\n",
      "+15.99\r\n",
      "+15.99\r\n",
      "+57.02\r\n",
      "+15.99\r\n",
      "+57.02\r\n",
      "+15.99\r\n",
      "+57.02\r\n"
     ]
    }
   ],
   "source": [
    "# How does the modifications text file look?\n",
    "\n",
    "!head /Users/meganduffy/Documents/git-repos/2017-etnp/data/uwpr-dec2018/UWPR-Dec2018-noenz/etnp-100m-trap-378-20181214-NOENZ-PEAKS151/378-peaks151-noenz-dno-mods.txt"
   ]
  },
  {
   "cell_type": "code",
   "execution_count": 23,
   "metadata": {
    "collapsed": false
   },
   "outputs": [
    {
     "name": "stdout",
     "output_type": "stream",
     "text": [
      "     351 /Users/meganduffy/Documents/git-repos/2017-etnp/data/uwpr-dec2018/UWPR-Dec2018-noenz/etnp-100m-trap-378-20181214-NOENZ-PEAKS151/378-peaks151-noenz-dno-mods.txt\r\n"
     ]
    }
   ],
   "source": [
    "# How many modifications for this sample?\n",
    "\n",
    "!wc -l /Users/meganduffy/Documents/git-repos/2017-etnp/data/uwpr-dec2018/UWPR-Dec2018-noenz/etnp-100m-trap-378-20181214-NOENZ-PEAKS151/378-peaks151-noenz-dno-mods.txt"
   ]
  },
  {
   "cell_type": "code",
   "execution_count": 24,
   "metadata": {
    "collapsed": false
   },
   "outputs": [
    {
     "name": "stdout",
     "output_type": "stream",
     "text": [
      "    1476 /Users/meganduffy/Documents/git-repos/2017-etnp/data/uwpr-dec2018/UWPR-Dec2018-noenz/etnp-100m-trap-378-20181214-NOENZ-PEAKS151/378-peaks151-noenz-dnopeps.txt\r\n"
     ]
    }
   ],
   "source": [
    "# Compared with how many total peptides?\n",
    "\n",
    "!wc -l /Users/meganduffy/Documents/git-repos/2017-etnp/data/uwpr-dec2018/UWPR-Dec2018-noenz/etnp-100m-trap-378-20181214-NOENZ-PEAKS151/378-peaks151-noenz-dnopeps.txt"
   ]
  },
  {
   "cell_type": "code",
   "execution_count": 25,
   "metadata": {
    "collapsed": false
   },
   "outputs": [
    {
     "data": {
      "text/plain": [
       "0.23780487804878048"
      ]
     },
     "execution_count": 25,
     "metadata": {},
     "output_type": "execute_result"
    }
   ],
   "source": [
    "# What's the percentage of modified peptides for this sample?\n",
    "\n",
    "351/1476"
   ]
  },
  {
   "cell_type": "code",
   "execution_count": 26,
   "metadata": {
    "collapsed": true
   },
   "outputs": [],
   "source": [
    "# Get rid of modifications from all peptides and save as a new file\n",
    "# Remove '(+15.99)' and '(+57.02)', (+.98) from sequences\n",
    "\n",
    "!sed 's/(+15.99)//g' /Users/meganduffy/Documents/git-repos/2017-etnp/data/uwpr-dec2018/UWPR-Dec2018-noenz/etnp-100m-trap-378-20181214-NOENZ-PEAKS151/378-peaks151-noenz-dnopeps.txt \\\n",
    "| sed 's/(+57.02)//g'\\\n",
    "| sed 's/(+.98)//g'\\\n",
    "> /Users/meganduffy/Documents/git-repos/2017-etnp/data/uwpr-dec2018/UWPR-Dec2018-noenz/etnp-100m-trap-378-20181214-NOENZ-PEAKS151/378-peaks151-noenz-dno-nomods.txt"
   ]
  },
  {
   "cell_type": "code",
   "execution_count": 27,
   "metadata": {
    "collapsed": false
   },
   "outputs": [
    {
     "name": "stdout",
     "output_type": "stream",
     "text": [
      "VVEEAPK\r\n",
      "SLEAESR\r\n",
      "SPVVDCH\r\n",
      "LYEEKD\r\n",
      "ADSADSALSK\r\n",
      "FEELVRT\r\n",
      "APANVTTEVK\r\n",
      "EEDLER\r\n",
      "VENVEENR\r\n",
      "EAYDEAK\r\n"
     ]
    }
   ],
   "source": [
    "!head /Users/meganduffy/Documents/git-repos/2017-etnp/data/uwpr-dec2018/UWPR-Dec2018-noenz/etnp-100m-trap-378-20181214-NOENZ-PEAKS151/378-peaks151-noenz-dno-nomods.txt"
   ]
  },
  {
   "cell_type": "code",
   "execution_count": 28,
   "metadata": {
    "collapsed": false
   },
   "outputs": [
    {
     "name": "stdout",
     "output_type": "stream",
     "text": [
      "378-peaks151-noenz-DB-search-psm.csv    378-peaks151-noenz-dnopeps.txt\r\n",
      "378-peaks151-noenz-dno-mods.txt         378-peaks151-noenz-peptide.csv\r\n",
      "378-peaks151-noenz-dno-nomods.txt       378-peaks151-noenz-protein-peptides.csv\r\n",
      "378-peaks151-noenz-dno.csv              378-peaks151-noenz-proteins.csv\r\n",
      "378-peaks151-noenz-dnopeps.csv          378-peaks151-noenz-proteins.fasta\r\n"
     ]
    }
   ],
   "source": [
    "!ls /Users/meganduffy/Documents/git-repos/2017-etnp/data/uwpr-dec2018/UWPR-Dec2018-noenz/etnp-100m-trap-378-20181214-NOENZ-PEAKS151/"
   ]
  },
  {
   "cell_type": "code",
   "execution_count": null,
   "metadata": {
    "collapsed": true
   },
   "outputs": [],
   "source": []
  }
 ],
 "metadata": {
  "kernelspec": {
   "display_name": "Python [default]",
   "language": "python",
   "name": "python3"
  },
  "language_info": {
   "codemirror_mode": {
    "name": "ipython",
    "version": 3
   },
   "file_extension": ".py",
   "mimetype": "text/x-python",
   "name": "python",
   "nbconvert_exporter": "python",
   "pygments_lexer": "ipython3",
   "version": "3.5.2"
  }
 },
 "nbformat": 4,
 "nbformat_minor": 1
}
