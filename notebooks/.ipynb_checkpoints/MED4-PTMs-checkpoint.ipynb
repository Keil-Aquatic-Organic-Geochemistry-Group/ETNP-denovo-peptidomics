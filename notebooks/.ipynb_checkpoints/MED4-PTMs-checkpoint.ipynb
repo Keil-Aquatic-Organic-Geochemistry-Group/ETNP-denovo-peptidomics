{
 "cells": [
  {
   "cell_type": "markdown",
   "metadata": {},
   "source": [
    "### Plotting PTMs in Comet and PEAKS results using python for *Prochlococcus* MED4 benchmark study\n",
    "\n",
    "Starting with:\n",
    "\n",
    "    Peaks de novo results (.csv) of PTM-optimized sequencing\n",
    "    Comet results from PTM-optimized database searches\n",
    "\n",
    "Goal:\n",
    "\n",
    "    Figures comparing the modifcation type and extent in database and de novo peptides\n",
    "    \n",
    "Using:\n",
    "\n",
    "    - pandas\n",
    "    - matplotlib"
   ]
  },
  {
   "cell_type": "code",
   "execution_count": 1,
   "metadata": {},
   "outputs": [
    {
     "data": {
      "text/plain": [
       "'1.0.5'"
      ]
     },
     "execution_count": 1,
     "metadata": {},
     "output_type": "execute_result"
    }
   ],
   "source": [
    "# LIBRARIES\n",
    "#import pandas library for working with tabular data\n",
    "import os\n",
    "os.getcwd()\n",
    "import pandas as pd\n",
    "import numpy as np\n",
    "import matplotlib.pyplot as plt\n",
    "#from matplotlib import pyplot\n",
    "import seaborn as sns\n",
    "from scipy.stats import kde\n",
    "#import regular expresson (regex)\n",
    "import re\n",
    "#check pandas version\n",
    "pd.__version__"
   ]
  },
  {
   "cell_type": "code",
   "execution_count": 2,
   "metadata": {},
   "outputs": [],
   "source": [
    "# read in csvs made in MED4-PeaksDB and MED4-Comet notebooks\n",
    "# bringing in Comet > XCorr 3 and de novo peptides > 50% ALC\n",
    "\n",
    "peaks50 = pd.read_csv(\"/home/millieginty/Documents/git-repos/2017-etnp/data/pro2020/RAL4_95_MED2_trypsin/PeaksDN/RAL95_MED2_trypsin_combine_PTMopt_DN50_totals.csv\")\n",
    "peaks80 = pd.read_csv(\"/home/millieginty/Documents/git-repos/2017-etnp/data/pro2020/RAL4_95_MED2_trypsin/PeaksDN/RAL95_MED2_trypsin_combine_PTMopt_DN80_totals.csv\")\n",
    "comet25 = pd.read_csv(\"/home/millieginty/Documents/git-repos/2017-etnp/data/pro2020/RAL4_95_MED2_trypsin/TPP/RAL95_MED2_trypsin_combine_Comet25_totals.csv\")\n",
    "comet3 = pd.read_csv(\"/home/millieginty/Documents/git-repos/2017-etnp/data/pro2020/RAL4_95_MED2_trypsin/TPP/RAL95_MED2_trypsin_combine_Comet3_totals.csv\")\n",
    "\n",
    "frames = [peaks50, peaks80, comet25, comet3]\n",
    "index = ['peaks50', 'peaks80', 'comet2.5', 'comet3']\n",
    "\n",
    "# concatenate dataframes\n",
    "tot = pd.concat(frames, sort=False, ignore_index=True)\n",
    "\n",
    "# there's a useless column in there\n",
    "tot = tot.loc[:, ~tot.columns.str.contains('^Unnamed')]\n",
    "\n",
    "# reindex with peaks and comet\n",
    "names = ['peaks50', 'peaks80', 'comet2.5', 'comet3']\n",
    "tot.insert(loc=0, column='data source', value=names)\n",
    "tot.set_index('data source')\n",
    "\n",
    "# separate out the dataframe into AAs and %PTMs, too\n",
    "AA = tot[['A', 'C', 'D', 'E', 'F', 'G', 'H', 'I', 'K', 'L', 'M', 'N', 'P', 'Q', 'R', 'S', 'T', 'V', 'W', 'Y']].copy()\n",
    "\n",
    "# no C since it's the same #ptm = tot[['% C w/ carb.', '% M w/ oxid', '% N w/ deam', '% Q w/ deam', '% K w/ iron', '% K w/ meth', '% R w/ meth']].copy()\n",
    "ptm = tot[['% M w/ oxid', '% N w/ deam', '% Q w/ deam', '% K w/ iron', '% K w/ meth', '% R w/ meth']].copy()"
   ]
  },
  {
   "cell_type": "code",
   "execution_count": 3,
   "metadata": {},
   "outputs": [
    {
     "data": {
      "text/html": [
       "<div>\n",
       "<style scoped>\n",
       "    .dataframe tbody tr th:only-of-type {\n",
       "        vertical-align: middle;\n",
       "    }\n",
       "\n",
       "    .dataframe tbody tr th {\n",
       "        vertical-align: top;\n",
       "    }\n",
       "\n",
       "    .dataframe thead th {\n",
       "        text-align: right;\n",
       "    }\n",
       "</style>\n",
       "<table border=\"1\" class=\"dataframe\">\n",
       "  <thead>\n",
       "    <tr style=\"text-align: right;\">\n",
       "      <th></th>\n",
       "      <th>stripped peptide</th>\n",
       "      <th>NAAF factor</th>\n",
       "      <th>A</th>\n",
       "      <th>C</th>\n",
       "      <th>D</th>\n",
       "      <th>E</th>\n",
       "      <th>F</th>\n",
       "      <th>G</th>\n",
       "      <th>H</th>\n",
       "      <th>K</th>\n",
       "      <th>...</th>\n",
       "      <th>M-NAAF50</th>\n",
       "      <th>N-NAAF50</th>\n",
       "      <th>P-NAAF50</th>\n",
       "      <th>Q-NAAF50</th>\n",
       "      <th>R-NAAF50</th>\n",
       "      <th>S-NAAF50</th>\n",
       "      <th>T-NAAF50</th>\n",
       "      <th>V-NAAF50</th>\n",
       "      <th>W-NAAF50</th>\n",
       "      <th>Y-NAAF50</th>\n",
       "    </tr>\n",
       "  </thead>\n",
       "  <tbody>\n",
       "    <tr>\n",
       "      <th>0</th>\n",
       "      <td>KELNLDTDLGK</td>\n",
       "      <td>0.055396</td>\n",
       "      <td>0</td>\n",
       "      <td>0</td>\n",
       "      <td>2</td>\n",
       "      <td>1</td>\n",
       "      <td>0</td>\n",
       "      <td>1</td>\n",
       "      <td>0</td>\n",
       "      <td>2</td>\n",
       "      <td>...</td>\n",
       "      <td>0.000000</td>\n",
       "      <td>0.055396</td>\n",
       "      <td>0.0</td>\n",
       "      <td>0.000000</td>\n",
       "      <td>0.0</td>\n",
       "      <td>0.000000</td>\n",
       "      <td>0.055396</td>\n",
       "      <td>0.0</td>\n",
       "      <td>0.000000</td>\n",
       "      <td>0.000000</td>\n",
       "    </tr>\n",
       "    <tr>\n",
       "      <th>1</th>\n",
       "      <td>KDLESLDSTNK</td>\n",
       "      <td>0.088380</td>\n",
       "      <td>0</td>\n",
       "      <td>0</td>\n",
       "      <td>2</td>\n",
       "      <td>1</td>\n",
       "      <td>0</td>\n",
       "      <td>0</td>\n",
       "      <td>0</td>\n",
       "      <td>2</td>\n",
       "      <td>...</td>\n",
       "      <td>0.000000</td>\n",
       "      <td>0.088380</td>\n",
       "      <td>0.0</td>\n",
       "      <td>0.000000</td>\n",
       "      <td>0.0</td>\n",
       "      <td>0.176759</td>\n",
       "      <td>0.088380</td>\n",
       "      <td>0.0</td>\n",
       "      <td>0.000000</td>\n",
       "      <td>0.000000</td>\n",
       "    </tr>\n",
       "    <tr>\n",
       "      <th>2</th>\n",
       "      <td>FFLLFK</td>\n",
       "      <td>0.304290</td>\n",
       "      <td>0</td>\n",
       "      <td>0</td>\n",
       "      <td>0</td>\n",
       "      <td>0</td>\n",
       "      <td>3</td>\n",
       "      <td>0</td>\n",
       "      <td>0</td>\n",
       "      <td>1</td>\n",
       "      <td>...</td>\n",
       "      <td>0.000000</td>\n",
       "      <td>0.000000</td>\n",
       "      <td>0.0</td>\n",
       "      <td>0.000000</td>\n",
       "      <td>0.0</td>\n",
       "      <td>0.000000</td>\n",
       "      <td>0.000000</td>\n",
       "      <td>0.0</td>\n",
       "      <td>0.000000</td>\n",
       "      <td>0.000000</td>\n",
       "    </tr>\n",
       "    <tr>\n",
       "      <th>3</th>\n",
       "      <td>KLFTDYQELMK</td>\n",
       "      <td>0.099163</td>\n",
       "      <td>0</td>\n",
       "      <td>0</td>\n",
       "      <td>1</td>\n",
       "      <td>1</td>\n",
       "      <td>1</td>\n",
       "      <td>0</td>\n",
       "      <td>0</td>\n",
       "      <td>2</td>\n",
       "      <td>...</td>\n",
       "      <td>0.099163</td>\n",
       "      <td>0.000000</td>\n",
       "      <td>0.0</td>\n",
       "      <td>0.099163</td>\n",
       "      <td>0.0</td>\n",
       "      <td>0.000000</td>\n",
       "      <td>0.099163</td>\n",
       "      <td>0.0</td>\n",
       "      <td>0.000000</td>\n",
       "      <td>0.099163</td>\n",
       "    </tr>\n",
       "    <tr>\n",
       "      <th>4</th>\n",
       "      <td>WALEELLNK</td>\n",
       "      <td>1.126712</td>\n",
       "      <td>1</td>\n",
       "      <td>0</td>\n",
       "      <td>0</td>\n",
       "      <td>2</td>\n",
       "      <td>0</td>\n",
       "      <td>0</td>\n",
       "      <td>0</td>\n",
       "      <td>1</td>\n",
       "      <td>...</td>\n",
       "      <td>0.000000</td>\n",
       "      <td>1.126712</td>\n",
       "      <td>0.0</td>\n",
       "      <td>0.000000</td>\n",
       "      <td>0.0</td>\n",
       "      <td>0.000000</td>\n",
       "      <td>0.000000</td>\n",
       "      <td>0.0</td>\n",
       "      <td>1.126712</td>\n",
       "      <td>0.000000</td>\n",
       "    </tr>\n",
       "  </tbody>\n",
       "</table>\n",
       "<p>5 rows × 40 columns</p>\n",
       "</div>"
      ],
      "text/plain": [
       "  stripped peptide  NAAF factor  A  C  D  E  F  G  H  K  ...  M-NAAF50  \\\n",
       "0      KELNLDTDLGK     0.055396  0  0  2  1  0  1  0  2  ...  0.000000   \n",
       "1      KDLESLDSTNK     0.088380  0  0  2  1  0  0  0  2  ...  0.000000   \n",
       "2           FFLLFK     0.304290  0  0  0  0  3  0  0  1  ...  0.000000   \n",
       "3      KLFTDYQELMK     0.099163  0  0  1  1  1  0  0  2  ...  0.099163   \n",
       "4        WALEELLNK     1.126712  1  0  0  2  0  0  0  1  ...  0.000000   \n",
       "\n",
       "   N-NAAF50  P-NAAF50  Q-NAAF50  R-NAAF50  S-NAAF50  T-NAAF50  V-NAAF50  \\\n",
       "0  0.055396       0.0  0.000000       0.0  0.000000  0.055396       0.0   \n",
       "1  0.088380       0.0  0.000000       0.0  0.176759  0.088380       0.0   \n",
       "2  0.000000       0.0  0.000000       0.0  0.000000  0.000000       0.0   \n",
       "3  0.000000       0.0  0.099163       0.0  0.000000  0.099163       0.0   \n",
       "4  1.126712       0.0  0.000000       0.0  0.000000  0.000000       0.0   \n",
       "\n",
       "   W-NAAF50  Y-NAAF50  \n",
       "0  0.000000  0.000000  \n",
       "1  0.000000  0.000000  \n",
       "2  0.000000  0.000000  \n",
       "3  0.000000  0.099163  \n",
       "4  1.126712  0.000000  \n",
       "\n",
       "[5 rows x 40 columns]"
      ]
     },
     "execution_count": 3,
     "metadata": {},
     "output_type": "execute_result"
    }
   ],
   "source": [
    "# read in csvs made in MED4-PeaksDB with NAAF normalized AAs\n",
    "\n",
    "peaksNAAF50 = pd.read_csv(\"/home/millieginty/Documents/git-repos/2017-etnp/data/pro2020/RAL4_95_MED2_trypsin/PeaksDN/RAL95_MED2_trypsin_combine_PTMopt_DN50_AA_NAAF.csv\")\n",
    "peaksNAAF80 = pd.read_csv(\"/home/millieginty/Documents/git-repos/2017-etnp/data/pro2020/RAL4_95_MED2_trypsin/PeaksDN/RAL95_MED2_trypsin_combine_PTMopt_DN80_AA_NAAF.csv\")\n",
    "\n",
    "# there's a useless column in there\n",
    "peaksNAAF50 = peaksNAAF50.loc[:, ~peaksNAAF50.columns.str.contains('^Unnamed')]\n",
    "peaksNAAF80 = peaksNAAF80.loc[:, ~peaksNAAF80.columns.str.contains('^Unnamed')]\n",
    "\n",
    "peaksNAAF50.head()"
   ]
  },
  {
   "cell_type": "code",
   "execution_count": 4,
   "metadata": {},
   "outputs": [
    {
     "data": {
      "text/html": [
       "<div>\n",
       "<style scoped>\n",
       "    .dataframe tbody tr th:only-of-type {\n",
       "        vertical-align: middle;\n",
       "    }\n",
       "\n",
       "    .dataframe tbody tr th {\n",
       "        vertical-align: top;\n",
       "    }\n",
       "\n",
       "    .dataframe thead th {\n",
       "        text-align: right;\n",
       "    }\n",
       "</style>\n",
       "<table border=\"1\" class=\"dataframe\">\n",
       "  <thead>\n",
       "    <tr style=\"text-align: right;\">\n",
       "      <th></th>\n",
       "      <th>A-NAAF</th>\n",
       "      <th>C-NAAF</th>\n",
       "      <th>D-NAAF</th>\n",
       "      <th>E-NAAF</th>\n",
       "      <th>F-NAAF</th>\n",
       "      <th>G-NAAF</th>\n",
       "      <th>H-NAAF</th>\n",
       "      <th>K-NAAF</th>\n",
       "      <th>I/L-NAAF</th>\n",
       "      <th>M-NAAF</th>\n",
       "      <th>N-NAAF</th>\n",
       "      <th>P-NAAF</th>\n",
       "      <th>Q-NAAF</th>\n",
       "      <th>R-NAAF</th>\n",
       "      <th>S-NAAF</th>\n",
       "      <th>T-NAAF</th>\n",
       "      <th>V-NAAF</th>\n",
       "      <th>W-NAAF</th>\n",
       "      <th>Y-NAAF</th>\n",
       "    </tr>\n",
       "  </thead>\n",
       "  <tbody>\n",
       "    <tr>\n",
       "      <th>sample total</th>\n",
       "      <td>39572.808938</td>\n",
       "      <td>5213.700112</td>\n",
       "      <td>18812.442809</td>\n",
       "      <td>32560.689448</td>\n",
       "      <td>12573.764709</td>\n",
       "      <td>30120.599637</td>\n",
       "      <td>5194.80258</td>\n",
       "      <td>70379.795028</td>\n",
       "      <td>80389.336843</td>\n",
       "      <td>7728.046586</td>\n",
       "      <td>24804.475783</td>\n",
       "      <td>24023.033137</td>\n",
       "      <td>14675.623831</td>\n",
       "      <td>32103.969946</td>\n",
       "      <td>43802.787271</td>\n",
       "      <td>52386.280507</td>\n",
       "      <td>68709.028648</td>\n",
       "      <td>7130.995459</td>\n",
       "      <td>11124.981222</td>\n",
       "    </tr>\n",
       "  </tbody>\n",
       "</table>\n",
       "</div>"
      ],
      "text/plain": [
       "                    A-NAAF       C-NAAF        D-NAAF        E-NAAF  \\\n",
       "sample total  39572.808938  5213.700112  18812.442809  32560.689448   \n",
       "\n",
       "                    F-NAAF        G-NAAF      H-NAAF        K-NAAF  \\\n",
       "sample total  12573.764709  30120.599637  5194.80258  70379.795028   \n",
       "\n",
       "                  I/L-NAAF       M-NAAF        N-NAAF        P-NAAF  \\\n",
       "sample total  80389.336843  7728.046586  24804.475783  24023.033137   \n",
       "\n",
       "                    Q-NAAF        R-NAAF        S-NAAF        T-NAAF  \\\n",
       "sample total  14675.623831  32103.969946  43802.787271  52386.280507   \n",
       "\n",
       "                    V-NAAF       W-NAAF        Y-NAAF  \n",
       "sample total  68709.028648  7130.995459  11124.981222  "
      ]
     },
     "execution_count": 4,
     "metadata": {},
     "output_type": "execute_result"
    }
   ],
   "source": [
    "# made a new dataframe that contains the sums of NAAF normalized AAs for Peaks >50%\n",
    "\n",
    "index = ['sample total']\n",
    "\n",
    "data = {'A-NAAF': peaksNAAF50['A-NAAF50'].sum(),\n",
    "        'C-NAAF': peaksNAAF50['C-NAAF50'].sum(),\n",
    "        'D-NAAF': peaksNAAF50['D-NAAF50'].sum(),\n",
    "        'E-NAAF': peaksNAAF50['E-NAAF50'].sum(),\n",
    "        'F-NAAF': peaksNAAF50['F-NAAF50'].sum(),\n",
    "        'G-NAAF': peaksNAAF50['G-NAAF50'].sum(),\n",
    "        'H-NAAF': peaksNAAF50['H-NAAF50'].sum(),\n",
    "        'K-NAAF': peaksNAAF50['K-NAAF50'].sum(),\n",
    "        'I/L-NAAF': peaksNAAF50['I/L-NAAF50'].sum(),\n",
    "        'M-NAAF': peaksNAAF50['M-NAAF50'].sum(),\n",
    "        'N-NAAF': peaksNAAF50['N-NAAF50'].sum(),\n",
    "        'P-NAAF': peaksNAAF50['P-NAAF50'].sum(),\n",
    "        'Q-NAAF': peaksNAAF50['Q-NAAF50'].sum(),\n",
    "        'R-NAAF': peaksNAAF50['R-NAAF50'].sum(),\n",
    "        'S-NAAF': peaksNAAF50['S-NAAF50'].sum(),\n",
    "        'T-NAAF': peaksNAAF50['T-NAAF50'].sum(),\n",
    "        'V-NAAF': peaksNAAF50['V-NAAF50'].sum(),\n",
    "        'W-NAAF': peaksNAAF50['W-NAAF50'].sum(),\n",
    "        'Y-NAAF': peaksNAAF50['Y-NAAF50'].sum()\n",
    "       }\n",
    "\n",
    "totalpeaksNAAF50 = pd.DataFrame(data, columns=['A-NAAF', 'C-NAAF', 'D-NAAF', 'E-NAAF', 'F-NAAF', 'G-NAAF', 'H-NAAF', 'K-NAAF', 'I/L-NAAF', 'M-NAAF', 'N-NAAF', 'P-NAAF', 'Q-NAAF', 'R-NAAF', 'S-NAAF', 'T-NAAF', 'V-NAAF', 'W-NAAF', 'Y-NAAF'], index=index)\n",
    "totalpeaksNAAF50.head()"
   ]
  },
  {
   "cell_type": "code",
   "execution_count": null,
   "metadata": {},
   "outputs": [],
   "source": [
    "totalpeaksNAAF = pd.DataFrame(data, columns=['A-NAAF', 'C-NAAF', 'D-NAAF', 'E-NAAF', 'F-NAAF', 'G-NAAF', 'H-NAAF', 'K-NAAF', 'I/L-NAAF', 'M-NAAF', 'N-NAAF', 'P-NAAF', 'Q-NAAF', 'R-NAAF', 'S-NAAF', 'T-NAAF', 'V-NAAF', 'W-NAAF', 'Y-NAAF'], index=index)"
   ]
  },
  {
   "cell_type": "code",
   "execution_count": 5,
   "metadata": {},
   "outputs": [
    {
     "data": {
      "text/html": [
       "<div>\n",
       "<style scoped>\n",
       "    .dataframe tbody tr th:only-of-type {\n",
       "        vertical-align: middle;\n",
       "    }\n",
       "\n",
       "    .dataframe tbody tr th {\n",
       "        vertical-align: top;\n",
       "    }\n",
       "\n",
       "    .dataframe thead th {\n",
       "        text-align: right;\n",
       "    }\n",
       "</style>\n",
       "<table border=\"1\" class=\"dataframe\">\n",
       "  <thead>\n",
       "    <tr style=\"text-align: right;\">\n",
       "      <th></th>\n",
       "      <th>A-NAAF</th>\n",
       "      <th>C-NAAF</th>\n",
       "      <th>D-NAAF</th>\n",
       "      <th>E-NAAF</th>\n",
       "      <th>F-NAAF</th>\n",
       "      <th>G-NAAF</th>\n",
       "      <th>H-NAAF</th>\n",
       "      <th>K-NAAF</th>\n",
       "      <th>I/L-NAAF</th>\n",
       "      <th>M-NAAF</th>\n",
       "      <th>N-NAAF</th>\n",
       "      <th>P-NAAF</th>\n",
       "      <th>Q-NAAF</th>\n",
       "      <th>R-NAAF</th>\n",
       "      <th>S-NAAF</th>\n",
       "      <th>T-NAAF</th>\n",
       "      <th>V-NAAF</th>\n",
       "      <th>W-NAAF</th>\n",
       "      <th>Y-NAAF</th>\n",
       "    </tr>\n",
       "  </thead>\n",
       "  <tbody>\n",
       "    <tr>\n",
       "      <th>sample total</th>\n",
       "      <td>12164.760623</td>\n",
       "      <td>1452.705723</td>\n",
       "      <td>5516.798444</td>\n",
       "      <td>11947.333781</td>\n",
       "      <td>4401.643851</td>\n",
       "      <td>9278.315957</td>\n",
       "      <td>1011.824625</td>\n",
       "      <td>26105.400315</td>\n",
       "      <td>31455.333104</td>\n",
       "      <td>1894.188826</td>\n",
       "      <td>8483.499981</td>\n",
       "      <td>6347.037088</td>\n",
       "      <td>4680.178057</td>\n",
       "      <td>11605.461473</td>\n",
       "      <td>18203.714679</td>\n",
       "      <td>22920.324366</td>\n",
       "      <td>30526.668468</td>\n",
       "      <td>1240.996147</td>\n",
       "      <td>3413.735929</td>\n",
       "    </tr>\n",
       "  </tbody>\n",
       "</table>\n",
       "</div>"
      ],
      "text/plain": [
       "                    A-NAAF       C-NAAF       D-NAAF        E-NAAF  \\\n",
       "sample total  12164.760623  1452.705723  5516.798444  11947.333781   \n",
       "\n",
       "                   F-NAAF       G-NAAF       H-NAAF        K-NAAF  \\\n",
       "sample total  4401.643851  9278.315957  1011.824625  26105.400315   \n",
       "\n",
       "                  I/L-NAAF       M-NAAF       N-NAAF       P-NAAF  \\\n",
       "sample total  31455.333104  1894.188826  8483.499981  6347.037088   \n",
       "\n",
       "                   Q-NAAF        R-NAAF        S-NAAF        T-NAAF  \\\n",
       "sample total  4680.178057  11605.461473  18203.714679  22920.324366   \n",
       "\n",
       "                    V-NAAF       W-NAAF       Y-NAAF  \n",
       "sample total  30526.668468  1240.996147  3413.735929  "
      ]
     },
     "execution_count": 5,
     "metadata": {},
     "output_type": "execute_result"
    }
   ],
   "source": [
    "# made a new dataframe that contains the sums of NAAF normalized AAs for Peaks >80%\n",
    "\n",
    "index = ['sample total']\n",
    "\n",
    "data = {'A-NAAF': peaksNAAF80['A-NAAF80'].sum(),\n",
    "        'C-NAAF': peaksNAAF80['C-NAAF80'].sum(),\n",
    "        'D-NAAF': peaksNAAF80['D-NAAF80'].sum(),\n",
    "        'E-NAAF': peaksNAAF80['E-NAAF80'].sum(),\n",
    "        'F-NAAF': peaksNAAF80['F-NAAF80'].sum(),\n",
    "        'G-NAAF': peaksNAAF80['G-NAAF80'].sum(),\n",
    "        'H-NAAF': peaksNAAF80['H-NAAF80'].sum(),\n",
    "        'K-NAAF': peaksNAAF80['K-NAAF80'].sum(),\n",
    "        'I/L-NAAF': peaksNAAF80['I/L-NAAF80'].sum(),\n",
    "        'M-NAAF': peaksNAAF80['M-NAAF80'].sum(),\n",
    "        'N-NAAF': peaksNAAF80['N-NAAF80'].sum(),\n",
    "        'P-NAAF': peaksNAAF80['P-NAAF80'].sum(),\n",
    "        'Q-NAAF': peaksNAAF80['Q-NAAF80'].sum(),\n",
    "        'R-NAAF': peaksNAAF80['R-NAAF80'].sum(),\n",
    "        'S-NAAF': peaksNAAF80['S-NAAF80'].sum(),\n",
    "        'T-NAAF': peaksNAAF80['T-NAAF80'].sum(),\n",
    "        'V-NAAF': peaksNAAF80['V-NAAF80'].sum(),\n",
    "        'W-NAAF': peaksNAAF80['W-NAAF80'].sum(),\n",
    "        'Y-NAAF': peaksNAAF80['Y-NAAF80'].sum()\n",
    "       }\n",
    "\n",
    "totalpeaksNAAF80 = pd.DataFrame(data, columns=['A-NAAF', 'C-NAAF', 'D-NAAF', 'E-NAAF', 'F-NAAF', 'G-NAAF', 'H-NAAF', 'K-NAAF', 'I/L-NAAF', 'M-NAAF', 'N-NAAF', 'P-NAAF', 'Q-NAAF', 'R-NAAF', 'S-NAAF', 'T-NAAF', 'V-NAAF', 'W-NAAF', 'Y-NAAF'], index=index)\n",
    "totalpeaksNAAF80.head()"
   ]
  },
  {
   "cell_type": "code",
   "execution_count": null,
   "metadata": {},
   "outputs": [],
   "source": [
    "totalpeaksNAAF = pd.DataFrame(data, columns=['A-NAAF', 'C-NAAF', 'D-NAAF', 'E-NAAF', 'F-NAAF', 'G-NAAF', 'H-NAAF', 'K-NAAF', 'I/L-NAAF', 'M-NAAF', 'N-NAAF', 'P-NAAF', 'Q-NAAF', 'R-NAAF', 'S-NAAF', 'T-NAAF', 'V-NAAF', 'W-NAAF', 'Y-NAAF'], index=index)"
   ]
  },
  {
   "cell_type": "code",
   "execution_count": 92,
   "metadata": {
    "scrolled": true
   },
   "outputs": [
    {
     "data": {
      "text/html": [
       "<div>\n",
       "<style scoped>\n",
       "    .dataframe tbody tr th:only-of-type {\n",
       "        vertical-align: middle;\n",
       "    }\n",
       "\n",
       "    .dataframe tbody tr th {\n",
       "        vertical-align: top;\n",
       "    }\n",
       "\n",
       "    .dataframe thead th {\n",
       "        text-align: right;\n",
       "    }\n",
       "</style>\n",
       "<table border=\"1\" class=\"dataframe\">\n",
       "  <thead>\n",
       "    <tr style=\"text-align: right;\">\n",
       "      <th></th>\n",
       "      <th>data source</th>\n",
       "      <th>A_RelNAAF</th>\n",
       "      <th>C_RelNAAF</th>\n",
       "      <th>D_RelNAAF</th>\n",
       "      <th>E_RelNAAF</th>\n",
       "      <th>F_RelNAAF</th>\n",
       "      <th>G_RelNAAF</th>\n",
       "      <th>H_RelNAAF</th>\n",
       "      <th>K_RelNAAF</th>\n",
       "      <th>I/L_RelNAAF</th>\n",
       "      <th>M_RelNAAF</th>\n",
       "      <th>N_RelNAAF</th>\n",
       "      <th>P_RelNAAF</th>\n",
       "      <th>Q_RelNAAF</th>\n",
       "      <th>R_RelNAAF</th>\n",
       "      <th>S_RelNAAF</th>\n",
       "      <th>T_RelNAAF</th>\n",
       "      <th>V_RelNAAF</th>\n",
       "      <th>W_RelNAAF</th>\n",
       "      <th>Y_RelNAAF</th>\n",
       "    </tr>\n",
       "  </thead>\n",
       "  <tbody>\n",
       "    <tr>\n",
       "      <th>0</th>\n",
       "      <td>Peaks &gt; 50% ALC</td>\n",
       "      <td>0.068076</td>\n",
       "      <td>0.008969</td>\n",
       "      <td>0.032362</td>\n",
       "      <td>0.056013</td>\n",
       "      <td>0.021630</td>\n",
       "      <td>0.051815</td>\n",
       "      <td>0.008936</td>\n",
       "      <td>0.121072</td>\n",
       "      <td>0.138291</td>\n",
       "      <td>0.013294</td>\n",
       "      <td>0.042670</td>\n",
       "      <td>0.041326</td>\n",
       "      <td>0.025246</td>\n",
       "      <td>0.055227</td>\n",
       "      <td>0.075352</td>\n",
       "      <td>0.090118</td>\n",
       "      <td>0.118197</td>\n",
       "      <td>0.012267</td>\n",
       "      <td>0.019138</td>\n",
       "    </tr>\n",
       "    <tr>\n",
       "      <th>1</th>\n",
       "      <td>Peaks &gt; 80% ALC</td>\n",
       "      <td>0.057206</td>\n",
       "      <td>0.006831</td>\n",
       "      <td>0.025943</td>\n",
       "      <td>0.056183</td>\n",
       "      <td>0.020699</td>\n",
       "      <td>0.043632</td>\n",
       "      <td>0.004758</td>\n",
       "      <td>0.122762</td>\n",
       "      <td>0.147921</td>\n",
       "      <td>0.008908</td>\n",
       "      <td>0.039894</td>\n",
       "      <td>0.029847</td>\n",
       "      <td>0.022009</td>\n",
       "      <td>0.054575</td>\n",
       "      <td>0.085604</td>\n",
       "      <td>0.107784</td>\n",
       "      <td>0.143554</td>\n",
       "      <td>0.005836</td>\n",
       "      <td>0.016053</td>\n",
       "    </tr>\n",
       "  </tbody>\n",
       "</table>\n",
       "</div>"
      ],
      "text/plain": [
       "       data source  A_RelNAAF  C_RelNAAF  D_RelNAAF  E_RelNAAF  F_RelNAAF  \\\n",
       "0  Peaks > 50% ALC   0.068076   0.008969   0.032362   0.056013   0.021630   \n",
       "1  Peaks > 80% ALC   0.057206   0.006831   0.025943   0.056183   0.020699   \n",
       "\n",
       "   G_RelNAAF  H_RelNAAF  K_RelNAAF  I/L_RelNAAF  M_RelNAAF  N_RelNAAF  \\\n",
       "0   0.051815   0.008936   0.121072     0.138291   0.013294   0.042670   \n",
       "1   0.043632   0.004758   0.122762     0.147921   0.008908   0.039894   \n",
       "\n",
       "   P_RelNAAF  Q_RelNAAF  R_RelNAAF  S_RelNAAF  T_RelNAAF  V_RelNAAF  \\\n",
       "0   0.041326   0.025246   0.055227   0.075352   0.090118   0.118197   \n",
       "1   0.029847   0.022009   0.054575   0.085604   0.107784   0.143554   \n",
       "\n",
       "   W_RelNAAF  Y_RelNAAF  \n",
       "0   0.012267   0.019138  \n",
       "1   0.005836   0.016053  "
      ]
     },
     "execution_count": 92,
     "metadata": {},
     "output_type": "execute_result"
    }
   ],
   "source": [
    "frames = [totalpeaksNAAF50, totalpeaksNAAF80]\n",
    "index = ['totalpeaksNAAF50', 'totalpeaksNAAF80']\n",
    "\n",
    "# concatenate dataframes\n",
    "NAAFtot = pd.concat(frames, sort=False, ignore_index=True)\n",
    "\n",
    "# reindex \n",
    "names = ['peaks50', 'peaks80']\n",
    "NAAFtot.insert(loc=0, column='data source', value=names)\n",
    "NAAFtot.set_index('data source')\n",
    "\n",
    "# sum all the AAs in each dataset, making a new column\n",
    "NAAFtot['AA-Total-NAAF'] = NAAFtot['A-NAAF'] + NAAFtot['C-NAAF'] + NAAFtot['D-NAAF'] + NAAFtot['E-NAAF'] \\\n",
    "+ NAAFtot['F-NAAF'] + NAAFtot['G-NAAF'] + NAAFtot['H-NAAF'] + NAAFtot['K-NAAF'] + NAAFtot['I/L-NAAF'] \\\n",
    "+ NAAFtot['M-NAAF'] + NAAFtot['N-NAAF'] + NAAFtot['P-NAAF'] + NAAFtot['Q-NAAF'] + NAAFtot['R-NAAF'] \\\n",
    "+ NAAFtot['S-NAAF'] + NAAFtot['T-NAAF'] + NAAFtot['V-NAAF'] + NAAFtot['W-NAAF'] + NAAFtot['Y-NAAF'] \\\n",
    "\n",
    "# calculate the relative (NAAF-normalized) AA composition (fractions of AA total for each dataset)\n",
    "\n",
    "NAAFtot['A_RelNAAF'] = NAAFtot['A-NAAF']/NAAFtot['AA-Total-NAAF']  #A\n",
    "NAAFtot['C_RelNAAF'] = NAAFtot['C-NAAF']/NAAFtot['AA-Total-NAAF']  #C\n",
    "NAAFtot['D_RelNAAF'] = NAAFtot['D-NAAF']/NAAFtot['AA-Total-NAAF']  #D\n",
    "NAAFtot['E_RelNAAF'] = NAAFtot['E-NAAF']/NAAFtot['AA-Total-NAAF']  #E\n",
    "NAAFtot['F_RelNAAF'] = NAAFtot['F-NAAF']/NAAFtot['AA-Total-NAAF']  #F\n",
    "NAAFtot['G_RelNAAF'] = NAAFtot['G-NAAF']/NAAFtot['AA-Total-NAAF']  #G\n",
    "NAAFtot['H_RelNAAF'] = NAAFtot['H-NAAF']/NAAFtot['AA-Total-NAAF']  #H\n",
    "NAAFtot['K_RelNAAF'] = NAAFtot['K-NAAF']/NAAFtot['AA-Total-NAAF']  #K\n",
    "NAAFtot['I/L_RelNAAF'] = NAAFtot['I/L-NAAF']/NAAFtot['AA-Total-NAAF']  #I/L\n",
    "NAAFtot['M_RelNAAF'] = NAAFtot['M-NAAF']/NAAFtot['AA-Total-NAAF']  #M\n",
    "NAAFtot['N_RelNAAF'] = NAAFtot['N-NAAF']/NAAFtot['AA-Total-NAAF']  #N\n",
    "NAAFtot['P_RelNAAF'] = NAAFtot['P-NAAF']/NAAFtot['AA-Total-NAAF']  #P\n",
    "NAAFtot['Q_RelNAAF'] = NAAFtot['Q-NAAF']/NAAFtot['AA-Total-NAAF']  #Q\n",
    "NAAFtot['R_RelNAAF'] = NAAFtot['R-NAAF']/NAAFtot['AA-Total-NAAF']  #R\n",
    "NAAFtot['S_RelNAAF'] = NAAFtot['S-NAAF']/NAAFtot['AA-Total-NAAF']  #S\n",
    "NAAFtot['T_RelNAAF'] = NAAFtot['T-NAAF']/NAAFtot['AA-Total-NAAF']  #T\n",
    "NAAFtot['V_RelNAAF'] = NAAFtot['V-NAAF']/NAAFtot['AA-Total-NAAF']  #V\n",
    "NAAFtot['W_RelNAAF'] = NAAFtot['W-NAAF']/NAAFtot['AA-Total-NAAF']  #W\n",
    "NAAFtot['Y_RelNAAF'] = NAAFtot['Y-NAAF']/NAAFtot['AA-Total-NAAF']  #Y\n",
    "\n",
    "# make a smaller dataframe with just the relative, NAAF-normalized AA compositions\n",
    "AA_RelNAAF = NAAFtot[['A_RelNAAF', 'C_RelNAAF', 'D_RelNAAF', 'E_RelNAAF', 'F_RelNAAF', 'G_RelNAAF', 'H_RelNAAF', \\\n",
    "                      'K_RelNAAF', 'I/L_RelNAAF', 'M_RelNAAF', 'N_RelNAAF', 'P_RelNAAF', 'Q_RelNAAF', 'R_RelNAAF', \\\n",
    "                      'S_RelNAAF', 'T_RelNAAF', 'V_RelNAAF', 'W_RelNAAF', 'Y_RelNAAF']].copy()\n",
    "\n",
    "# reindex with peaks and comet\n",
    "names = ['Peaks > 50% ALC', 'Peaks > 80% ALC']\n",
    "AA_RelNAAF.insert(loc=0, column='data source', value=names)\n",
    "AA_RelNAAF.set_index('data source')\n",
    "\n",
    "AA_RelNAAF.head()"
   ]
  },
  {
   "cell_type": "code",
   "execution_count": 186,
   "metadata": {},
   "outputs": [
    {
     "data": {
      "text/plain": [
       "<Figure size 1440x720 with 0 Axes>"
      ]
     },
     "execution_count": 186,
     "metadata": {},
     "output_type": "execute_result"
    },
    {
     "data": {
      "image/png": "[encoded data removed]",
      "text/plain": [
       "<Figure size 432x288 with 1 Axes>"
      ]
     },
     "metadata": {
      "needs_background": "light"
     },
     "output_type": "display_data"
    },
    {
     "data": {
      "text/plain": [
       "<Figure size 1440x720 with 0 Axes>"
      ]
     },
     "metadata": {},
     "output_type": "display_data"
    },
    {
     "data": {
      "image/png": "[encoded data removed]",
      "text/plain": [
       "<Figure size 432x288 with 1 Axes>"
      ]
     },
     "metadata": {
      "needs_background": "light"
     },
     "output_type": "display_data"
    },
    {
     "data": {
      "text/plain": [
       "<Figure size 1440x720 with 0 Axes>"
      ]
     },
     "metadata": {},
     "output_type": "display_data"
    },
    {
     "data": {
      "image/png": "[encoded data removed]",
      "text/plain": [
       "<Figure size 432x288 with 1 Axes>"
      ]
     },
     "metadata": {
      "needs_background": "light"
     },
     "output_type": "display_data"
    },
    {
     "data": {
      "text/plain": [
       "<Figure size 1440x720 with 0 Axes>"
      ]
     },
     "metadata": {},
     "output_type": "display_data"
    },
    {
     "data": {
      "image/png": "[encoded data removed]",
      "text/plain": [
       "<Figure size 432x288 with 1 Axes>"
      ]
     },
     "metadata": {
      "needs_background": "light"
     },
     "output_type": "display_data"
    },
    {
     "data": {
      "text/plain": [
       "<Figure size 1440x720 with 0 Axes>"
      ]
     },
     "metadata": {},
     "output_type": "display_data"
    },
    {
     "data": {
      "image/png": "[encoded data removed]",
      "text/plain": [
       "<Figure size 432x288 with 1 Axes>"
      ]
     },
     "metadata": {
      "needs_background": "light"
     },
     "output_type": "display_data"
    },
    {
     "data": {
      "text/plain": [
       "<Figure size 1440x720 with 0 Axes>"
      ]
     },
     "metadata": {},
     "output_type": "display_data"
    }
   ],
   "source": [
    "\n",
    "AAs = ['A', 'C', 'D', 'E', 'F', 'G', 'H', 'K', 'I/L', 'M', 'N', 'P', 'Q', 'R', 'S', 'T', 'V', 'W', 'Y']\n",
    "\n",
    "\n",
    "# uncharged polar\n",
    "ax1 = AA_RelNAAF.plot.barh(y=['C_RelNAAF', \\\n",
    "                             'N_RelNAAF', 'Q_RelNAAF', 'S_RelNAAF', \\\n",
    "                             'T_RelNAAF' \\\n",
    "                            ], x='data source', stacked=True)\n",
    "ax1.get_legend().remove()\n",
    "ax1.set_xlabel('Relatve AA contribution')\n",
    "ax1.set_ylabel('')\n",
    "ax1.set_title('Uncharged polar')\n",
    "\n",
    "\n",
    "#ax1.set_xticklabels(AAs, rotation=65)\n",
    "plt.tight_layout()\n",
    "plt.figure(figsize=(20,10)) \n",
    "\n",
    "# nonpolar, aliphatic R-group\n",
    "ax2 = AA_RelNAAF.plot.barh(y=['A_RelNAAF', \\\n",
    "                             'G_RelNAAF','I/L_RelNAAF', 'M_RelNAAF', \\\n",
    "                             'P_RelNAAF', \\\n",
    "                             'V_RelNAAF',\\\n",
    "                            ], x='data source', stacked=True)\n",
    "ax2.get_legend().remove()\n",
    "ax2.set_xlabel('Relatve AA contribution')\n",
    "ax2.set_ylabel('')\n",
    "ax2.set_title('Nonpolar aliphatic R')\n",
    "\n",
    "#ax2.set_xticklabels(AAs, rotation=65)\n",
    "plt.tight_layout()\n",
    "plt.figure(figsize=(20,10)) \n",
    "\n",
    "# aromatic R-group\n",
    "ax3 = AA_RelNAAF.plot.barh(y=['F_RelNAAF', \\\n",
    "                              'W_RelNAAF', 'Y_RelNAAF' \\\n",
    "                            ], x='data source', stacked=True)\n",
    "ax3.get_legend().remove()\n",
    "ax3.set_xlabel('Relatve AA contribution')\n",
    "ax3.set_ylabel('')\n",
    "ax3.set_title('Aromatic R-group')\n",
    "\n",
    "#ax3.set_xticklabels(AAs, rotation=65)\n",
    "plt.tight_layout()\n",
    "plt.figure(figsize=(20,10)) \n",
    "\n",
    "# Basic R-group\n",
    "ax4 = AA_RelNAAF.plot.barh(y=['H_RelNAAF', 'K_RelNAAF', 'R_RelNAAF', \n",
    "                            \n",
    "                            ], x='data source', stacked=True)\n",
    "ax4.get_legend().remove()\n",
    "ax4.set_xlabel('Relatve AA contribution')\n",
    "ax4.set_ylabel('')\n",
    "ax4.set_title('Aromatic R-group')\n",
    "\n",
    "#ax4.set_xticklabels(AAs, rotation=65)\n",
    "plt.tight_layout()\n",
    "plt.figure(figsize=(20,10)) \n",
    "\n",
    "# acidic R-group\n",
    "ax5 = AA_RelNAAF.plot.barh(y=['D_RelNAAF', 'E_RelNAAF',  \\\n",
    "                            ], x='data source', stacked=True)\n",
    "ax5.get_legend().remove()\n",
    "ax5.set_xlabel('Relatve AA contribution')\n",
    "ax5.set_ylabel('')\n",
    "ax5.set_title('Aromatic R-group')\n",
    "\n",
    "#ax5.set_xticklabels(AAs, rotation=65)\n",
    "plt.tight_layout()\n",
    "plt.figure(figsize=(20,10)) "
   ]
  },
  {
   "cell_type": "code",
   "execution_count": 8,
   "metadata": {},
   "outputs": [
    {
     "data": {
      "text/plain": [
       "[Text(0, 0, 'Peaks 50 % ALC'),\n",
       " Text(0, 0, 'Peaks 80% ALC'),\n",
       " Text(0, 0, 'Comet > XCorr 2.5'),\n",
       " Text(0, 0, 'Comet > XCorr 3')]"
      ]
     },
     "execution_count": 8,
     "metadata": {},
     "output_type": "execute_result"
    },
    {
     "data": {
      "image/png": "[encoded data removed]",
      "text/plain": [
       "<Figure size 432x288 with 1 Axes>"
      ]
     },
     "metadata": {
      "needs_background": "light"
     },
     "output_type": "display_data"
    }
   ],
   "source": [
    "# bar plot of residue totals\n",
    "# there is no isoleucine (I) in Peaks data, which is why L is really big and I is 0\n",
    "\n",
    "\n",
    "x_labels = ['Peaks 50 % ALC', 'Peaks 80% ALC', 'Comet > XCorr 2.5', 'Comet > XCorr 3']\n",
    "\n",
    "\n",
    "ax = AA.plot(kind=\"bar\", title = 'MED2_trypsin_combine')\n",
    "plt.xticks(rotation=0)\n",
    "ax.get_legend().remove()\n",
    "ax.set_xticklabels(x_labels)"
   ]
  },
  {
   "cell_type": "code",
   "execution_count": null,
   "metadata": {},
   "outputs": [],
   "source": []
  },
  {
   "cell_type": "code",
   "execution_count": 9,
   "metadata": {},
   "outputs": [
    {
     "data": {
      "image/png": "[encoded data removed]",
      "text/plain": [
       "<Figure size 432x288 with 1 Axes>"
      ]
     },
     "metadata": {
      "needs_background": "light"
     },
     "output_type": "display_data"
    }
   ],
   "source": [
    "# bar plot of relative modifications\n",
    "\n",
    "x_labels = ['Peaks 50 % ALC', 'Peaks 80% ALC', 'Comet > XCorr 2.5', 'Comet > XCorr 3']\n",
    "\n",
    "\n",
    "ax = ptm.plot(kind=\"bar\", title = 'MED2_trypsin_combine')\n",
    "plt.xticks(rotation=35)\n",
    "#ax.get_legend().remove()\n",
    "ax.set_xticklabels(x_labels)\n",
    "ax.set_ylabel('fraction of relevent residues with mod.')\n",
    "legend = plt.legend()\n",
    "legend.get_frame().set_edgecolor('1.0')"
   ]
  },
  {
   "cell_type": "code",
   "execution_count": null,
   "metadata": {},
   "outputs": [],
   "source": [
    "AA.style.background_gradient(cmap ='viridis')"
   ]
  },
  {
   "cell_type": "code",
   "execution_count": null,
   "metadata": {},
   "outputs": [],
   "source": [
    "ptm.style.background_gradient(cmap ='viridis')"
   ]
  },
  {
   "cell_type": "code",
   "execution_count": null,
   "metadata": {},
   "outputs": [],
   "source": [
    "# make the AA dataframe contain relative AA compositions for each dataset\n",
    "\n"
   ]
  }
 ],
 "metadata": {
  "kernelspec": {
   "display_name": "Python 3",
   "language": "python",
   "name": "python3"
  },
  "language_info": {
   "codemirror_mode": {
    "name": "ipython",
    "version": 3
   },
   "file_extension": ".py",
   "mimetype": "text/x-python",
   "name": "python",
   "nbconvert_exporter": "python",
   "pygments_lexer": "ipython3",
   "version": "3.8.3"
  }
 },
 "nbformat": 4,
 "nbformat_minor": 4
}
