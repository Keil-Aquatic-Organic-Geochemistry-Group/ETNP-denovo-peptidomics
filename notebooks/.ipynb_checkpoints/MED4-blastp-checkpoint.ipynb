{
 "cells": [
  {
   "cell_type": "code",
   "execution_count": 1,
   "metadata": {
    "collapsed": false
   },
   "outputs": [
    {
     "name": "stdout",
     "output_type": "stream",
     "text": [
      "Sun Jun  4 18:37:25 PDT 2017\r\n"
     ]
    }
   ],
   "source": [
    "!date"
   ]
  },
  {
   "cell_type": "code",
   "execution_count": 4,
   "metadata": {
    "collapsed": false
   },
   "outputs": [
    {
     "name": "stdout",
     "output_type": "stream",
     "text": [
      "Software:\r\n",
      "\r\n",
      "    System Software Overview:\r\n",
      "\r\n",
      "      System Version: macOS 10.12.5 (16F73)\r\n",
      "      Kernel Version: Darwin 16.6.0\r\n",
      "      Boot Volume: Macintosh HD\r\n",
      "      Boot Mode: Normal\r\n",
      "      Computer Name: Megan’s MacBook Pro\r\n",
      "      User Name: Megan Duffy (meganduffy)\r\n",
      "      Secure Virtual Memory: Enabled\r\n",
      "      System Integrity Protection: Enabled\r\n",
      "      Time since boot: 10 days 3:32\r\n",
      "\r\n"
     ]
    }
   ],
   "source": [
    "!system_profiler SPSoftwareDataType"
   ]
  },
  {
   "cell_type": "code",
   "execution_count": 5,
   "metadata": {
    "collapsed": true
   },
   "outputs": [],
   "source": [
    "!cd /Users/meganduffy/Documents/git-repos/2017-etnp/data/05.22.17-peaks/"
   ]
  },
  {
   "cell_type": "code",
   "execution_count": 6,
   "metadata": {
    "collapsed": false
   },
   "outputs": [
    {
     "name": "stdout",
     "output_type": "stream",
     "text": [
      "Fraction,Scan,Source File,Peptide,Tag Length,ALC (%),length,m/z,z,RT,Area,Mass,ppm,PTM,local confidence (%),tag (>=0%),mode\r",
      "\r\n",
      "6,32255,022016_RAL4_95_MED2_trypsin_1.raw,KAALEDLALLTQK,13,99,13,707.4191,2,49.01,,1412.8237,-0.1,,97 100 100 100 100 99 99 99 100 100 99 99 99,KAALEDLALLTQK,CID\r",
      "\r\n",
      "6,15768,022016_RAL4_95_MED2_trypsin_1.raw,KELDLDTDLGK,11,99,11,623.8295,2,26.80,,1245.6453,-0.6,,97 100 99 99 99 99 99 99 100 100 99,KELDLDTDLGK,CID\r",
      "\r\n",
      "6,6171,022016_RAL4_95_MED2_trypsin_1.raw,KDLESLDSTNK,11,98,11,625.3166,2,12.87,,1248.6196,-0.8,,96 99 100 100 99 99 99 97 98 99 99,KDLESLDSTNK,CID\r",
      "\r\n",
      "6,26752,022016_RAL4_95_MED2_trypsin_1.raw,KGFVSELLDK,10,98,10,568.3217,2,41.71,,1134.6284,0.3,,98 98 99 99 95 98 99 100 100 100,KGFVSELLDK,CID\r",
      "\r\n",
      "6,11523,022016_RAL4_95_MED2_trypsin_1.raw,HFELLNQK,8,98,8,514.7797,2,20.75,,1027.5450,-0.3,,98 99 100 99 99 98 97 97,HFELLNQK,CID\r",
      "\r\n",
      "6,28681,022016_RAL4_95_MED2_trypsin_1.raw,KLFTDYQELMK,11,98,11,708.3657,2,44.32,,1414.7166,0.2,,97 100 99 98 99 97 95 99 100 99 99,KLFTDYQELMK,CID\r",
      "\r\n",
      "6,26567,022016_RAL4_95_MED2_trypsin_1.raw,LKEDLEWYLPLK,12,98,12,773.9252,2,41.48,,1545.8442,-5.4,,94 97 100 99 99 99 98 99 100 99 99 98,LKEDLEWYLPLK,CID\r",
      "\r\n",
      "6,40882,022016_RAL4_95_MED2_trypsin_1.raw,TPGGLEVLMAFSAK,14,98,14,710.8768,2,60.53,,1419.7432,-2.9,,99 99 99 99 100 100 99 97 94 99 98 98 99 97,TPGGLEVLMAFSAK,CID\r",
      "\r\n",
      "6,6060,022016_RAL4_95_MED2_trypsin_1.raw,YADTHEYVK,9,98,9,563.2640,2,12.72,,1124.5139,-0.3,,92 97 99 99 99 100 99 100 99,YADTHEYVK,CID\r",
      "\r\n"
     ]
    }
   ],
   "source": [
    "# Here's what the file looks like:\n",
    "!head /Users/meganduffy/Documents/git-repos/2017-etnp/data/05.22.17-peaks/MED2_trypsin_1raw_80alc.csv"
   ]
  },
  {
   "cell_type": "code",
   "execution_count": 7,
   "metadata": {
    "collapsed": true
   },
   "outputs": [],
   "source": [
    "# extract column 4 (peptides) and trim off header (1 row)\n",
    "! cut -d , -f 4 /Users/meganduffy/Documents/git-repos/2017-etnp/data/05.22.17-peaks/MED2_trypsin_1raw_80alc.csv | sed \"1 d\" > /Users/meganduffy/Documents/git-repos/2017-etnp/data/05.22.17-peaks/MED2_trypsin_1raw_80alc.txt"
   ]
  },
  {
   "cell_type": "code",
   "execution_count": 8,
   "metadata": {
    "collapsed": false
   },
   "outputs": [
    {
     "name": "stdout",
     "output_type": "stream",
     "text": [
      "KAALEDLALLTQK\r\n",
      "KELDLDTDLGK\r\n",
      "KDLESLDSTNK\r\n",
      "KGFVSELLDK\r\n",
      "HFELLNQK\r\n",
      "KLFTDYQELMK\r\n",
      "LKEDLEWYLPLK\r\n",
      "TPGGLEVLMAFSAK\r\n",
      "YADTHEYVK\r\n",
      "HDYLNSM(+15.99)K\r\n"
     ]
    }
   ],
   "source": [
    "# how does that look?\n",
    "!head /Users/meganduffy/Documents/git-repos/2017-etnp/data/05.22.17-peaks/MED2_trypsin_1raw_80alc.txt"
   ]
  },
  {
   "cell_type": "code",
   "execution_count": 9,
   "metadata": {
    "collapsed": false
   },
   "outputs": [
    {
     "name": "stdout",
     "output_type": "stream",
     "text": [
      "    7341 /Users/meganduffy/Documents/git-repos/2017-etnp/data/05.22.17-peaks/MED2_trypsin_1raw_80alc.txt\r\n"
     ]
    }
   ],
   "source": [
    "# how many peptides (remember, this is > 80% ALC)\n",
    "!wc -l /Users/meganduffy/Documents/git-repos/2017-etnp/data/05.22.17-peaks/MED2_trypsin_1raw_80alc.txt"
   ]
  },
  {
   "cell_type": "code",
   "execution_count": 11,
   "metadata": {
    "collapsed": false
   },
   "outputs": [],
   "source": [
    "#Same for blank sample (Ambic, Hi3)\n",
    "# extract column 4 (peptides) and trim off header (1 row)\n",
    "! cut -d , -f 4 /Users/meganduffy/Documents/git-repos/2017-etnp/data/05.22.17-peaks/AMBIC2_trypsin_2mzmL_80alc.csv | sed \"1 d\" > /Users/meganduffy/Documents/git-repos/2017-etnp/data/05.22.17-peaks/AMBIC2_trypsin_2mzmL_80alc.txt"
   ]
  },
  {
   "cell_type": "code",
   "execution_count": 13,
   "metadata": {
    "collapsed": false
   },
   "outputs": [
    {
     "name": "stdout",
     "output_type": "stream",
     "text": [
      "YEELQLTAGR\r\n",
      "LSSPATLNSR\r\n",
      "LSSPATLNSR\r\n",
      "LASYLDK\r\n",
      "VLDELTLTK\r\n",
      "VATVSLPR\r\n",
      "VATVSLPR\r\n",
      "VTDAELAELVAR\r\n",
      "RATVSLPR\r\n",
      "LAWDFR\r\n"
     ]
    }
   ],
   "source": [
    "!head /Users/meganduffy/Documents/git-repos/2017-etnp/data/05.22.17-peaks/AMBIC2_trypsin_2mzmL_80alc.txt"
   ]
  },
  {
   "cell_type": "code",
   "execution_count": 14,
   "metadata": {
    "collapsed": false
   },
   "outputs": [
    {
     "name": "stdout",
     "output_type": "stream",
     "text": [
      "      40 /Users/meganduffy/Documents/git-repos/2017-etnp/data/05.22.17-peaks/AMBIC2_trypsin_2mzmL_80alc.txt\r\n"
     ]
    }
   ],
   "source": [
    "# how many peptides (remember, this is > 80% ALC)\n",
    "!wc -l /Users/meganduffy/Documents/git-repos/FISH-546/data/ETNP-peaks-exports/AMBIC2_trypsin_2mzmL_80alc.txt"
   ]
  },
  {
   "cell_type": "markdown",
   "metadata": {},
   "source": [
    "### TRIM MODIFICATIONS ###"
   ]
  },
  {
   "cell_type": "code",
   "execution_count": 17,
   "metadata": {
    "collapsed": false
   },
   "outputs": [],
   "source": [
    "! mkdir /Users/meganduffy/Documents/git-repos/2017-etnp/data/05.22.17-peaks/extracted-peptides"
   ]
  },
  {
   "cell_type": "code",
   "execution_count": 18,
   "metadata": {
    "collapsed": false
   },
   "outputs": [],
   "source": [
    "# remove '(+15.99)' and '(+57.02)' from sequences\n",
    "# rewrite to more descriptive file name (that includes 'peaks')\n",
    "!sed 's/(+15.99)//g' /Users/meganduffy/Documents/git-repos/2017-etnp/data/05.22.17-peaks/MED2_trypsin_1raw_80alc.txt \\\n",
    "| sed 's/(+57.02)//g'\\\n",
    "> /Users/meganduffy/Documents/git-repos/2017-etnp/data/05.22.17-peaks/extracted-peptides/MED2_trypsin_1raw_80alc_peptides.txt"
   ]
  },
  {
   "cell_type": "code",
   "execution_count": 19,
   "metadata": {
    "collapsed": true
   },
   "outputs": [],
   "source": [
    "# remove '(+15.99)' and '(+57.02)' from sequences\n",
    "# rewrite to more descriptive file name (that includes 'peaks')\n",
    "!sed 's/(+15.99)//g' /Users/meganduffy/Documents/git-repos/2017-etnp/data/05.22.17-peaks/AMBIC2_trypsin_2mzmL_80alc.txt \\\n",
    "| sed 's/(+57.02)//g'\\\n",
    "> /Users/meganduffy/Documents/git-repos/2017-etnp/data/05.22.17-peaks/extracted-peptides/AMBIC2_trypsin_2mzmL_80alc_peptides.txt"
   ]
  },
  {
   "cell_type": "code",
   "execution_count": 20,
   "metadata": {
    "collapsed": false
   },
   "outputs": [
    {
     "name": "stdout",
     "output_type": "stream",
     "text": [
      "KAALEDLALLTQK\r\n",
      "KELDLDTDLGK\r\n",
      "KDLESLDSTNK\r\n",
      "KGFVSELLDK\r\n",
      "HFELLNQK\r\n",
      "KLFTDYQELMK\r\n",
      "LKEDLEWYLPLK\r\n",
      "TPGGLEVLMAFSAK\r\n",
      "YADTHEYVK\r\n",
      "HDYLNSMK\r\n",
      "LVELLLLK\r\n",
      "TANFEMLFR\r\n",
      "KVLSELLWLK\r\n",
      "LFEFLLK\r\n",
      "HLDEMVAR\r\n",
      "LLNDETLELLKK\r\n",
      "TPASYEYNVAVTK\r\n",
      "WALEELLNK\r\n",
      "LNLNELLEK\r\n",
      "LGNVDWVLLK\r\n"
     ]
    }
   ],
   "source": [
    "!head -20 /Users/meganduffy/Documents/git-repos/2017-etnp/data/05.22.17-peaks/extracted-peptides/MED2_trypsin_1raw_80alc_peptides.txt"
   ]
  },
  {
   "cell_type": "code",
   "execution_count": 21,
   "metadata": {
    "collapsed": false
   },
   "outputs": [
    {
     "name": "stdout",
     "output_type": "stream",
     "text": [
      "YEELQLTAGR\r\n",
      "LSSPATLNSR\r\n",
      "LSSPATLNSR\r\n",
      "LASYLDK\r\n",
      "VLDELTLTK\r\n",
      "VATVSLPR\r\n",
      "VATVSLPR\r\n",
      "VTDAELAELVAR\r\n",
      "RATVSLPR\r\n",
      "LAWDFR\r\n",
      "VATVSPLR\r\n",
      "KAYEDLAQK\r\n",
      "RATVSLPR\r\n",
      "LAHLLDK\r\n",
      "LATVSLPR\r\n",
      "SPDLLDEACLLK\r\n",
      "VATVSLPR\r\n",
      "LATWLPR\r\n",
      "DMELLLR\r\n",
      "VATVSPLR\r\n"
     ]
    }
   ],
   "source": [
    "!head -20 /Users/meganduffy/Documents/git-repos/2017-etnp/data/05.22.17-peaks/extracted-peptides/AMBIC2_trypsin_2mzmL_80alc_peptides.txt"
   ]
  },
  {
   "cell_type": "markdown",
   "metadata": {},
   "source": [
    "### BLASTP ###"
   ]
  },
  {
   "cell_type": "markdown",
   "metadata": {},
   "source": [
    "I already [downloaded the MED4 protein fasta file from Uniprot](https://github.com/MeganEDuffy/2017-etnp/blob/master/notebooks/MED4-proteome-ftp.ipynb) and created a database called Uniprot.MED4_Hi3.fasta by adding the Hi3 _E. coli_ heat shock protein on 2017-05-22 in TextEdit, as can be seen in linked notebook. The database is in the data directory of this repositoty, data/ "
   ]
  },
  {
   "cell_type": "code",
   "execution_count": 26,
   "metadata": {
    "collapsed": false
   },
   "outputs": [
    {
     "name": "stdout",
     "output_type": "stream",
     "text": [
      ">tr|A8WI02|A8WI02_PROMP Uncharacterized protein OS=Prochlorococcus marinus subsp. pastoris (strain CCMP1986 / NIES-2087 / MED4) GN=PMM1800 PE=4 SV=1\r\n",
      "MDNKEKEKDISSLEFDKGKTRNDYKFLVQKLKNIKEIITLLENKFLQKEM\r\n",
      ">tr|A8WI04|A8WI04_PROMP Uncharacterized protein OS=Prochlorococcus marinus subsp. pastoris (strain CCMP1986 / NIES-2087 / MED4) GN=PMM1801 PE=4 SV=1\r\n",
      "MSTKNNINDLLIKYKPKVLRFTGSNFPTELWSNNQIKNLKKLSA\r\n",
      ">tr|A8WI05|A8WI05_PROMP Uncharacterized protein OS=Prochlorococcus marinus subsp. pastoris (strain CCMP1986 / NIES-2087 / MED4) GN=PMM1802 PE=4 SV=1\r\n",
      "MDITFAAIIFASRTIPTDFGLVAAAIAGAGSLLFIALRFVPDAGN\r\n",
      ">tr|A8WI06|A8WI06_PROMP Membrane protein OS=Prochlorococcus marinus subsp. pastoris (strain CCMP1986 / NIES-2087 / MED4) GN=PMM1803 PE=4 SV=1\r\n",
      "MLKKIVAFTPLFGAVTFPLIVPITISKFGVNYGILSALVISSLWFIAMLRTSEMPH\r\n",
      ">tr|A8WI07|A8WI07_PROMP Uncharacterized protein OS=Prochlorococcus marinus subsp. pastoris (strain CCMP1986 / NIES-2087 / MED4) GN=PMM1804 PE=4 SV=1\r\n",
      "MKRIEQIVVIFIAAALAIPSYWFFWTLAGGGGYNRRIAPTLKEGTTQNLLLKTSSSLDQP\r\n"
     ]
    }
   ],
   "source": [
    "!head -10 /Users/meganduffy/Documents/git-repos/2017-etnp/data/Uniprot.MED4_Hi3.fasta"
   ]
  },
  {
   "cell_type": "markdown",
   "metadata": {},
   "source": [
    "#### The Hi3 protein is on the end: ####"
   ]
  },
  {
   "cell_type": "code",
   "execution_count": 30,
   "metadata": {
    "collapsed": false
   },
   "outputs": [
    {
     "name": "stdout",
     "output_type": "stream",
     "text": [
      "IVGAGAHAGIAMVRDYDPAKHIDNVLDRILKARDALISHLNWVCMWLGFHSFGLYIHNDT\r\n",
      "MRALGRPQDMFSDSAIQLQPIFAQWVQSIQASAVGTSILAGTAEALPHKAISEVFNGSLV\r\n",
      "EVGGKVAIAPIPLGTADLMIHHIHAFQIHVTVLILLKGVLYARSSRLIPDKASLGFRFPC\r\n",
      "DGPGRGGTCQVSSWDHVFLGLFWMYNCLSIVIFHFSWKMQSDVWGLTGGNFSQSAITING\r\n",
      "WLRDFLWAQSSQVLTSYGSAISMYGLMFLGAHFIWAFSLMFLFSGRGYWQELFESIVWAH\r\n",
      "NKLKVAPTIQPRALSITQGRAVGVTHFLVGGIATTWAFFHARLFGLG\r\n",
      ">gi|54036848|sp|P63284.1|CLPB_ECOLI RecName: Full=Chaperone protein ClpB; AltName: Full=Heat shock protein F84.1\r\n",
      "MRLDRLTNKFQLALADAQSLALGHDNQFIEPLHLMSALLNQEGGSVSPLLTSAGINAGQLRTDINQALNR\r\n",
      "LPQVEGTGGDVQPSQDLVRVLNLCDKLAQKRGDNFISSELFVLAALESRGTLADILKAAGATTANITQAI\r\n",
      "EQMRGGESVNDQGAEDQRQALKKYTIDLTERAEQGKLDPVIGRDEEIRRTIQVLQRRTKNNPVLIGEPGV\r\n",
      "GKTAIVEGLAQRIINGEVPEGLKGRRVLALDMGALVAGAKYRGEFEERLKGVLNDLAKQEGNVILFIDEL\r\n",
      "HTMVGAGKADGAMDAGNMLKPALARGELHCVGATTLDEYRQYIEKDAALERRFQKVFVAEPSVEDTIAIL\r\n",
      "RGLKERYELHHHVQITDPAIVAAATLSHRYIADRQLPDKAIDLIDEAASSIRMQIDSKPEELDRLDRRII\r\n",
      "QLKLEQQALMKESDEASKKRLDMLNEELSDKERQYSELEEEWKAEKASLSGTQTIKAELEQAKIAIEQAR\r\n",
      "RVGDLARMSELQYGKIPELEKQLEAATQLEGKTMRLLRNKVTDAEIAEVLARWTGIPVSRMMESEREKLL\r\n",
      "RMEQELHHRVIGQNEAVDAVSNAIRRSRAGLADPNRPIGSFLFLGPTGVGKTELCKALANFMFDSDEAMV\r\n",
      "RIDMSEFMEKHSVSRLVGAPPGYVGYEEGGYLTEAVRRRPYSVILLDEVEKAHPDVFNILLQVLDDGRLT\r\n",
      "DGQGRTVDFRNTVVIMTSNLGSDLIQERFGELDYAHMKELVLGVVSHNFRPEFINRIDEVVVFHPLGEQH\r\n",
      "IASIAQIQLKRLYKRLEERGYEIHISDEALKLLSENGYDPVYGARPLKRAIQQQIENPLAQQILSGELVP\r\n",
      "GKVIRLEVNEDRIVAVQ\r\n"
     ]
    }
   ],
   "source": [
    "!tail -20 /Users/meganduffy/Documents/git-repos/2017-etnp/data/Uniprot.MED4_Hi3.fasta"
   ]
  },
  {
   "cell_type": "markdown",
   "metadata": {},
   "source": [
    "#### Refamiliarizing myself with _blastdb_ ####"
   ]
  },
  {
   "cell_type": "code",
   "execution_count": 31,
   "metadata": {
    "collapsed": false
   },
   "outputs": [
    {
     "name": "stdout",
     "output_type": "stream",
     "text": [
      "USAGE\n",
      "  makeblastdb [-h] [-help] [-in input_file] [-input_type type]\n",
      "    -dbtype molecule_type [-title database_title] [-parse_seqids]\n",
      "    [-hash_index] [-mask_data mask_data_files] [-mask_id mask_algo_ids]\n",
      "    [-mask_desc mask_algo_descriptions] [-gi_mask]\n",
      "    [-gi_mask_name gi_based_mask_names] [-out database_name]\n",
      "    [-max_file_sz number_of_bytes] [-logfile File_Name] [-taxid TaxID]\n",
      "    [-taxid_map TaxIDMapFile] [-version]\n",
      "\n",
      "DESCRIPTION\n",
      "   Application to create BLAST databases, version 2.5.0+\n",
      "\n",
      "Use '-help' to print detailed descriptions of command line arguments\n",
      "========================================================================\n",
      "\n",
      "Error: Argument \"dbtype\". Mandatory value is missing:  `String, `nucl', `prot''\n",
      "Error:  (CArgException::eNoArg) Argument \"dbtype\". Mandatory value is missing:  `String, `nucl', `prot''\n"
     ]
    }
   ],
   "source": [
    "!~/Applications/ncbi-blast-2.5.0+/bin/makeblastdb \\"
   ]
  },
  {
   "cell_type": "code",
   "execution_count": 32,
   "metadata": {
    "collapsed": false
   },
   "outputs": [
    {
     "name": "stdout",
     "output_type": "stream",
     "text": [
      "\n",
      "\n",
      "Building a new DB, current time: 06/04/2017 19:20:55\n",
      "New DB name:   /Users/meganduffy/Documents/git-repos/2017-etnp/data/Uniprot.MED4_Hi3\n",
      "New DB title:  /Users/meganduffy/Documents/git-repos/2017-etnp/data/Uniprot.MED4_Hi3.fasta\n",
      "Sequence type: Protein\n",
      "Keep MBits: T\n",
      "Maximum file size: 1000000000B\n",
      "Adding sequences from FASTA; added 1943 sequences in 0.121961 seconds.\n"
     ]
    }
   ],
   "source": [
    "!~/Applications/ncbi-blast-2.5.0+/bin/makeblastdb \\\n",
    "-in /Users/meganduffy/Documents/git-repos/2017-etnp/data/Uniprot.MED4_Hi3.fasta \\\n",
    "-dbtype prot \\\n",
    "-out /Users/meganduffy/Documents/git-repos/2017-etnp/data/Uniprot.MED4_Hi3"
   ]
  },
  {
   "cell_type": "code",
   "execution_count": 16,
   "metadata": {
    "collapsed": false
   },
   "outputs": [],
   "source": [
    "# blastp search of de novo peptides vs MED4 proteome db (not digested!)\n",
    "# outfmt = 10 gives output in tabular format. \n",
    "!~/Applications/ncbi-blast-2.5.0+/bin/blastp \\\n",
    "-query /Users/meganduffy/Documents/git-repos/2017-etnp/data/MED2_trypsin_1raw_80alc_peptides.fasta \\\n",
    "-db /Users/meganduffy/Documents/git-repos/2017-etnp/data/Uniprot.MED4_Hi3 \\\n",
    "-outfmt 10 \\\n",
    "-out /Users/meganduffy/Documents/git-repos/2017-etnp/analyses/MED2trypsin_1raw_8alc_blastout.csv"
   ]
  },
  {
   "cell_type": "markdown",
   "metadata": {},
   "source": [
    "### Note that I show how I made the query fasta later in this nb.  ###"
   ]
  },
  {
   "cell_type": "code",
   "execution_count": 17,
   "metadata": {
    "collapsed": false
   },
   "outputs": [
    {
     "name": "stdout",
     "output_type": "stream",
     "text": [
      "KAALEDLALLTQK,sp|Q7V2M3|CH601_PROMP,81.818,11,2,0,1,11,284,294,0.16,21.9\r\n",
      "KELDLDTDLGK,sp|Q7UZW3|KAD_PROMP,90.909,11,1,0,1,11,39,49,0.055,23.1\r\n",
      "KELDLDTDLGK,tr|Q7V0W8|Q7V0W8_PROMP,63.636,11,4,0,1,11,76,86,6.8,16.9\r\n",
      "KDLESLDSTNK,sp|Q7UZG1|RS6_PROMP,81.818,11,2,0,1,11,116,126,0.071,22.7\r\n",
      "KGFVSELLDK,tr|Q7V3Q9|Q7V3Q9_PROMP,100.000,10,0,0,1,10,147,156,0.040,23.1\r\n",
      "KGFVSELLDK,sp|Q7V3C8|NU4C_PROMP,85.714,7,1,0,2,8,414,420,5.1,16.9\r\n",
      "KGFVSELLDK,tr|Q7V191|Q7V191_PROMP,66.667,9,3,0,1,9,79,87,5.7,16.9\r\n",
      "HFELLNQK,sp|Q7UZW1|RL15_PROMP,75.000,8,2,0,1,8,68,75,0.69,19.6\r\n",
      "KLFTDYQELMK,tr|Q7V0D6|Q7V0D6_PROMP,100.000,11,0,0,1,11,15,25,0.007,25.4\r\n",
      "KLFTDYQELMK,tr|Q7V3Q7|Q7V3Q7_PROMP,60.000,10,4,0,1,10,40,49,8.2,16.5\r\n",
      "LKEDLEWYLPLK,tr|Q7V2Y7|Q7V2Y7_PROMP,76.923,13,2,1,1,12,204,216,0.85,19.6\r\n",
      "LKEDLEWYLPLK,sp|Q7V2R8|LIPB_PROMP,66.667,9,3,0,1,9,98,106,1.2,19.2\r\n",
      "LKEDLEWYLPLK,tr|Q7V3K0|Q7V3K0_PROMP,83.333,6,1,0,6,11,145,150,4.3,17.7\r\n",
      "LKEDLEWYLPLK,sp|Q7V008|RPOC2_PROMP,57.143,7,3,0,1,7,669,675,6.4,16.9\r\n",
      "LKEDLEWYLPLK,tr|Q7V2N4|Q7V2N4_PROMP,83.333,6,1,0,7,12,277,282,7.7,16.9\r\n",
      "TPGGLEVLMAFSAK,tr|Q7V360|Q7V360_PROMP,85.714,14,2,0,1,14,131,144,0.004,26.6\r\n",
      "TPGGLEVLMAFSAK,tr|Q7V152|Q7V152_PROMP,58.333,12,5,0,3,14,118,129,9.4,16.9\r\n",
      "YADTHEYVK,sp|Q7TU20|GCSH_PROMP,100.000,9,0,0,1,9,11,19,0.044,23.1\r\n",
      "YADTHEYVK,tr|Q7UZT9|Q7UZT9_PROMP,57.143,7,3,0,3,9,387,393,8.3,16.2\r\n",
      "HDYLNSMK,tr|Q7V1Q7|Q7V1Q7_PROMP,87.500,8,1,0,1,8,196,203,1.0,18.9\r\n",
      "TANFEMLFR,tr|Q7V186|Q7V186_PROMP,100.000,9,0,0,1,9,38,46,0.13,21.6\r\n",
      "TANFEMLFR,tr|Q7V298|Q7V298_PROMP,71.429,7,2,0,1,7,334,340,8.5,16.2\r\n",
      "HLDEMVAR,sp|Q7UZN3|SAHH_PROMP,100.000,8,0,0,1,8,429,436,0.15,21.6\r\n",
      "LLNDETLELLKK,tr|Q7V370|Q7V370_PROMP,75.000,12,3,0,1,12,139,150,0.042,23.5\r\n",
      "TPASYEYNVAVTK,tr|Q7V1S4|Q7V1S4_PROMP,100.000,13,0,0,1,13,114,126,3.35e-04,29.3\r\n",
      "WALEELLNK,sp|Q7TU28|RS17_PROMP,77.778,9,2,0,1,9,71,79,0.13,21.6\r\n",
      "WALEELLNK,tr|Q7UZG6|Q7UZG6_PROMP,75.000,8,2,0,1,8,189,196,3.5,17.3\r\n",
      "WALEELLNK,tr|Q7V237|Q7V237_PROMP,75.000,8,2,0,1,8,25,32,6.5,16.5\r\n",
      "LGNVDWVLLK,tr|Q7V1S2|Q7V1S2_PROMP,90.000,10,1,0,1,10,28,37,0.073,22.7\r\n",
      "LGNVDWVLLK,tr|Q7UZH6|Q7UZH6_PROMP,62.500,8,3,0,2,9,119,126,4.4,17.3\r\n",
      "LGNVDWVLLK,tr|Q7UZY3|Q7UZY3_PROMP,66.667,6,2,0,1,6,266,271,5.6,16.9\r\n",
      "LGNVDWVLLK,tr|Q7V2I8|Q7V2I8_PROMP,60.000,10,4,0,1,10,10,19,7.8,16.5\r\n",
      "LGGDEYVLLSEK,sp|Q7TU43|CH10_PROMP,100.000,12,0,0,1,12,85,96,0.003,26.6\r\n",
      "LGGDEYVLLSEK,tr|Q7UZP5|Q7UZP5_PROMP,63.636,11,4,0,2,12,239,249,2.7,18.1\r\n",
      "LGGDEYVLLSEK,tr|Q7V3L6|Q7V3L6_PROMP,50.000,14,5,1,1,12,108,121,7.3,16.9\r\n",
      "LGGDEYVLLSEK,tr|Q7V3Q8|Q7V3Q8_PROMP,58.333,12,5,0,1,12,231,242,9.6,16.5\r\n",
      "KADQLELELK,sp|Q7UZV2|RS3_PROMP,100.000,10,0,0,1,10,60,69,0.31,20.8\r\n",
      "KADQLELELK,tr|Q7V0P1|Q7V0P1_PROMP,75.000,8,2,0,3,10,158,165,10.0,16.2\r\n",
      "FYEEEEQNDLDFAK,sp|Q7V390|PGK_PROMP,92.857,14,1,0,1,14,123,136,4.72e-05,32.0\r\n",
      "FYEEEEQNDLDFAK,sp|Q7V0R5|PNP_PROMP,60.000,10,4,0,2,11,165,174,9.3,16.9\r\n",
      "NPENLVFR,sp|Q7V289|KHSE_PROMP,100.000,7,0,0,2,8,66,72,0.39,20.0\r\n",
      "DLVDDAHETALNLLR,tr|Q7V0J2|Q7V0J2_PROMP,93.333,15,1,0,1,15,571,585,2.16e-05,32.7\r\n",
      "DLVDDAHETALNLLR,tr|Q7TU89|Q7TU89_PROMP,50.000,12,6,0,2,13,61,72,2.1,18.9\r\n",
      "DLVDDAHETALNLLR,tr|Q7V2B0|Q7V2B0_PROMP,53.846,13,6,0,2,14,78,90,4.8,17.7\r\n",
      "DLVDDAHETALNLLR,tr|Q7V3G0|Q7V3G0_PROMP,45.455,11,6,0,1,11,18,28,9.5,16.9\r\n",
      "CLVLFPK,tr|Q7V370|Q7V370_PROMP,85.714,7,1,0,1,7,73,79,0.58,19.6\r\n",
      "TGEQVFLR,tr|Q7V2N7|Q7V2N7_PROMP,100.000,8,0,0,1,8,668,675,0.24,20.8\r\n",
      "KELLDVVAK,sp|Q7V2Y0|MINE_PROMP,88.889,9,1,0,1,9,50,58,1.4,18.9\r\n",
      "KPCLEVALQELK,tr|Q7V0J6|Q7V0J6_PROMP,83.333,12,2,0,1,12,274,285,0.001,27.7\r\n",
      "KPCLEVALQELK,tr|Q7V237|Q7V237_PROMP,60.000,10,4,0,3,12,115,124,5.0,17.3\r\n",
      "KPCLEVALQELK,tr|Q7TUF4|Q7TUF4_PROMP,77.778,9,2,0,4,12,239,247,6.8,16.9\r\n",
      "LHNLMWESK,tr|Q7V0G5|Q7V0G5_PROMP,66.667,9,3,0,1,9,139,147,0.55,20.0\r\n",
      "VPMVQSVFFPDLK,tr|Q7V2J4|Q7V2J4_PROMP,69.231,13,4,0,1,13,65,77,2.8,18.1\r\n",
      "VPMVQSVFFPDLK,tr|Q7TUC3|Q7TUC3_PROMP,58.333,12,5,0,2,13,326,337,3.9,17.7\r\n",
      "VPMVQSVFFPDLK,tr|Q7V1S7|Q7V1S7_PROMP,23.077,13,10,0,1,13,108,120,6.6,16.9\r\n",
      "VPMVQSVFFPDLK,sp|Q7V111|KPRS_PROMP,38.462,13,8,0,1,13,293,305,7.6,16.9\r\n",
      "VPMVQSVFFPDLK,tr|Q7V115|Q7V115_PROMP,55.556,9,4,0,1,9,16,24,9.1,16.5\r\n",
      "TPLAEMTVNFK,tr|Q7V2H5|Q7V2H5_PROMP,90.909,11,1,0,1,11,24,34,0.008,25.4\r\n",
      "TPLAEMTVNFK,sp|Q7V2A0|DCUP_PROMP,54.545,11,5,0,1,11,79,89,4.7,17.3\r\n",
      "LVELLVLEK,sp|Q7V2R3|QUEA_PROMP,100.000,9,0,0,1,9,91,99,2.2,18.1\r\n",
      "KYVLPLK,tr|Q7V066|Q7V066_PROMP,85.714,7,1,0,1,7,552,558,1.8,18.1\r\n",
      "KYVLPLK,tr|Q7V1H1|Q7V1H1_PROMP,71.429,7,2,0,1,7,292,298,9.1,15.8\r\n",
      "KGYLLDVK,tr|Q7V338|Q7V338_PROMP,100.000,8,0,0,1,8,173,180,0.77,19.2\r\n",
      "KGYLLDVK,tr|Q7V044|Q7V044_PROMP,100.000,6,0,0,1,6,371,376,8.0,16.2\r\n",
      "LLEQVASK,sp|Q7V2M3|CH601_PROMP,87.500,8,1,0,1,8,72,79,3.0,17.7\r\n",
      "QLAGQLLLR,tr|Q7V2J4|Q7V2J4_PROMP,88.889,9,1,0,1,9,198,206,0.75,19.6\r\n",
      "TLLELYTK,tr|Q7V0J2|Q7V0J2_PROMP,75.000,8,2,0,1,8,350,357,2.0,18.1\r\n",
      "TLLELYTK,sp|Q7V006|RPOB_PROMP,85.714,7,1,0,2,8,226,232,9.9,15.8\r\n",
      "VVDLAELVAQK,tr|Q7TUI0|Q7TUI0_PROMP,90.909,11,1,0,1,11,328,338,0.041,23.1\r\n",
      "CLVLFPK,tr|Q7V370|Q7V370_PROMP,85.714,7,1,0,1,7,73,79,0.58,19.6\r\n",
      "LVDLLLEK,tr|Q7V1V9|Q7V1V9_PROMP,75.000,8,2,0,1,8,601,608,6.8,16.5\r\n",
      "EYNHSLSLDK,tr|Q7V090|Q7V090_PROMP,90.000,10,1,0,1,10,32,41,0.043,23.1\r\n",
      "EYNHSLSLDK,sp|Q7TUI1|ARLY_PROMP,60.000,10,4,0,1,10,19,28,3.8,17.3\r\n",
      "VPFVQSVFFPDLK,tr|Q7V2J4|Q7V2J4_PROMP,76.923,13,3,0,1,13,65,77,0.52,20.4\r\n",
      "VPFVQSVFFPDLK,tr|Q7V108|Q7V108_PROMP,62.500,8,3,0,3,10,11,18,8.1,16.9\r\n",
      "VPFVQSVFFPDLK,tr|Q7V133|Q7V133_PROMP,54.545,11,5,0,3,13,36,46,9.6,16.5\r\n",
      "LGDNVVLVNK,tr|Q7V1T6|Q7V1T6_PROMP,80.000,10,2,0,1,10,388,397,0.11,21.9\r\n",
      "KLEEALQELK,tr|Q7TUF4|Q7TUF4_PROMP,90.000,10,1,0,1,10,238,247,0.40,20.4\r\n",
      "KLEEALQELK,sp|Q7V1X3|PSTB_PROMP,60.000,10,4,0,1,10,192,201,5.5,16.9\r\n",
      "KLEEALQELK,tr|Q7V0J6|Q7V0J6_PROMP,66.667,9,3,0,2,10,277,285,8.8,16.5\r\n",
      "LAEELFVR,tr|Q7V3C0|Q7V3C0_PROMP,100.000,8,0,0,1,8,279,286,1.0,18.9\r\n",
      "LLNYFLK,sp|Q7V388|MURG_PROMP,85.714,7,1,0,1,7,356,362,6.6,16.2\r\n",
      "LGGDEYVLLSEK,sp|Q7TU43|CH10_PROMP,100.000,12,0,0,1,12,85,96,0.003,26.6\r\n",
      "LGGDEYVLLSEK,tr|Q7UZP5|Q7UZP5_PROMP,63.636,11,4,0,2,12,239,249,2.7,18.1\r\n",
      "LGGDEYVLLSEK,tr|Q7V3L6|Q7V3L6_PROMP,50.000,14,5,1,1,12,108,121,7.3,16.9\r\n",
      "LGGDEYVLLSEK,tr|Q7V3Q8|Q7V3Q8_PROMP,58.333,12,5,0,1,12,231,242,9.6,16.5\r\n",
      "VDSELNELEDK,tr|Q7V1H1|Q7V1H1_PROMP,90.909,11,1,0,1,11,473,483,0.060,22.7\r\n",
      "VDSELNELEDK,sp|Q7V0R7|SYS_PROMP,87.500,8,1,0,4,11,71,78,5.3,17.3\r\n",
      "TALLEFR,tr|Q7V1E5|Q7V1E5_PROMP,100.000,7,0,0,1,7,104,110,5.3,16.5\r\n",
      "LLQEEVLEWDLK,tr|Q7V212|Q7V212_PROMP,58.333,12,5,0,1,12,87,98,1.1,19.2\r\n",
      "LLQEEVLEWDLK,tr|Q7V0J2|Q7V0J2_PROMP,69.231,13,3,1,1,12,598,610,5.0,17.3\r\n",
      "LLQEEVLEWDLK,tr|Q7V317|Q7V317_PROMP,75.000,8,2,0,5,12,470,477,6.9,16.9\r\n",
      "VVDLAELVAQK,tr|Q7TUI0|Q7TUI0_PROMP,90.909,11,1,0,1,11,328,338,0.041,23.1\r\n",
      "LGGDEYVLLSEK,sp|Q7TU43|CH10_PROMP,100.000,12,0,0,1,12,85,96,0.003,26.6\r\n",
      "LGGDEYVLLSEK,tr|Q7UZP5|Q7UZP5_PROMP,63.636,11,4,0,2,12,239,249,2.7,18.1\r\n",
      "LGGDEYVLLSEK,tr|Q7V3L6|Q7V3L6_PROMP,50.000,14,5,1,1,12,108,121,7.3,16.9\r\n",
      "LGGDEYVLLSEK,tr|Q7V3Q8|Q7V3Q8_PROMP,58.333,12,5,0,1,12,231,242,9.6,16.5\r\n",
      "TEELLDSLK,tr|Q7V2F4|Q7V2F4_PROMP,75.000,8,2,0,2,9,25,32,8.0,16.2\r\n",
      "LDLAAGLLHLPK,tr|Q7V2M6|Q7V2M6_PROMP,91.667,12,1,0,1,12,143,154,0.003,26.6\r\n",
      "LDLAAGLLHLPK,tr|Q7TUG7|Q7TUG7_PROMP,85.714,7,1,0,3,9,106,112,6.6,16.9\r\n"
     ]
    }
   ],
   "source": [
    "!head -100 /Users/meganduffy/Documents/git-repos/2017-etnp/analyses/MED2trypsin_1raw_8alc_blastout.csv"
   ]
  },
  {
   "cell_type": "markdown",
   "metadata": {},
   "source": [
    "### I dressed up the above .csv file with headers. You can see which de novo peptide sequences align well with database identified peptides:\n",
    "\n",
    "![excel ss of blast output](https://github.com/MeganEDuffy/2017-etnp/blob/master/images/MED2_trypsin_1raw_dn.vs.undig-proteome.png?raw=true)"
   ]
  },
  {
   "cell_type": "markdown",
   "metadata": {},
   "source": [
    "### What I really want though is to compare the de novo peptides (and databased search ID'd peptides) to the tryptic peptides predicted from an _in silico_ digestion of the MED4 (+Hi3) database.\n",
    "\n",
    "### To do an _in silico_ trypsin digest of the MED4 database, I am trying to use the [#TrypsinMaster# tool by Ya Feng](https://github.com/yafeng/trypsin). If this doesn't work, I'll try Skyline or the [Protein Digestion Simulator](https://omics.pnl.gov/software/protein-digestion-simulator). I needed Python 2.7 and Biopython, so I'm opening a new sixgill (should have these) notebook, [MED4-tryp-dig](https://github.com/MeganEDuffy/2017-etnp/blob/master/notebooks/MED4-tryp-dig.ipynb)."
   ]
  },
  {
   "cell_type": "markdown",
   "metadata": {},
   "source": [
    "### Making a fasta from database searched ID'd peptides:\n",
    "\n",
    "### I'm taking the csv output from PEAKS to ultimately make a fasta with which to generate a database to blast the de novo peptides against."
   ]
  },
  {
   "cell_type": "code",
   "execution_count": 2,
   "metadata": {
    "collapsed": false
   },
   "outputs": [
    {
     "name": "stdout",
     "output_type": "stream",
     "text": [
      "\u001b[34m05.22.17-peaks\u001b[m\u001b[m                   \u001b[31mMED4_hi3_proteome_digested.txt\u001b[m\u001b[m\r\n",
      "05.22.17-peaks.zip               MED4_hi3_proteome_tryp.peps.txt\r\n",
      "MED2_tryp_1rawDB-search-psm.csv  MED4_hi3_proteome_tryptic.txt\r\n",
      "MED2_tryp_1raw_80dn.csv          UP000001026_59919.fasta.gz\r\n",
      "MED2_tryp_1raw_dn-only.csv       Uniprot.MED4_Hi3.fasta\r\n",
      "MED2_tryp_1raw_peptide.csv       Uniprot.MED4_Hi3.phr\r\n",
      "MED2_tryp_1raw_propep.csv        Uniprot.MED4_Hi3.pin\r\n",
      "MED2_tryp_1raw_protein.csv       Uniprot.MED4_Hi3.psq\r\n",
      "\u001b[31mMED4_hi3_proteome.fasta\u001b[m\u001b[m          Uniprot.MED4_Hi3_tryptic.txt\r\n",
      "MED4_hi3_proteome_digested.fasta \u001b[31mtrypsin.py\u001b[m\u001b[m\r\n"
     ]
    }
   ],
   "source": [
    "# Finding the databased searched peptides:\n",
    "!ls /Users/meganduffy/Documents/git-repos/2017-etnp/data/"
   ]
  },
  {
   "cell_type": "code",
   "execution_count": 3,
   "metadata": {
    "collapsed": false
   },
   "outputs": [
    {
     "name": "stdout",
     "output_type": "stream",
     "text": [
      "Peptide,-10lgP,Mass,Length,ppm,m/z,RT,Area,Fraction,Scan,Source File,#Spec,Accession,PTM,AScore,Area [F6]\r",
      "\r\n",
      "SKPFNDGFNAATGDYVDMSAAGIVDPAK,90.33,2857.3228,28,-0.3,1429.6682,56.58,,6,37926,022016_RAL4_95_MED2_trypsin_1.raw,33,Q7TU44|CH602_PROMP,,,\r",
      "\r\n",
      "SKPFNDGFNAATGDYVDM(+15.99)SAAGIVDPAK,89.20,2873.3176,28,-0.6,1437.6653,49.92,,6,32966,022016_RAL4_95_MED2_trypsin_1.raw,15,Q7TU44|CH602_PROMP,Oxidation (M),M18:Oxidation (M):1000.00,\r",
      "\r\n",
      "GPAPLSLALAHVDVDDDAVLVK,87.73,2214.1895,22,0.4,1108.1024,67.81,,6,46166,022016_RAL4_95_MED2_trypsin_1.raw,7,Q7V2L4|UCRI_PROMP,,,\r",
      "\r\n",
      "DADFSEVDLHGTTLTLSDLK,84.73,2176.0535,20,0.2,1089.0342,59.16,,6,39854,022016_RAL4_95_MED2_trypsin_1.raw,3,tr|Q7V144|Q7V144_PROMP,,,\r",
      "\r\n",
      "AKNTGVEYAQGLVALGGDDEELAK,83.71,2447.2180,24,1.8,1224.6185,50.03,,6,33045,022016_RAL4_95_MED2_trypsin_1.raw,7,tr|Q7V360|Q7V360_PROMP,,,\r",
      "\r\n",
      "DPNQTVNPDEVVAVGAAIQGGVLAGEVK,83.11,2746.4136,28,0.9,1374.2153,74.99,,6,51263,022016_RAL4_95_MED2_trypsin_1.raw,15,Q7UZG3|DNAK2_PROMP,,,\r",
      "\r\n",
      "ILQGYQYVAANPDEVC(+57.02)PANWTPGEK,80.79,2819.3225,25,0.8,1410.6697,55.22,,6,36895,022016_RAL4_95_MED2_trypsin_1.raw,6,tr|Q7V1K9|Q7V1K9_PROMP,Carbamidomethylation,C16:Carbamidomethylation:1000.00,\r",
      "\r\n",
      "AAIEEGVVSGGGQTLIEISNELSNSR,80.61,2629.3193,26,0.7,1315.6678,71.64,,6,48925,022016_RAL4_95_MED2_trypsin_1.raw,32,Q7V2M3|CH601_PROMP,,,\r",
      "\r\n",
      "ANDC(+57.02)PSLDSSLVGSISLGNGDSLK,80.22,2405.1379,24,1.6,1203.5781,60.43,,6,40808,022016_RAL4_95_MED2_trypsin_1.raw,10,tr|Q7V360|Q7V360_PROMP,Carbamidomethylation,C4:Carbamidomethylation:1000.00,\r",
      "\r\n"
     ]
    }
   ],
   "source": [
    "!head /Users/meganduffy/Documents/git-repos/2017-etnp/data/MED2_tryp_1raw_peptide.csv"
   ]
  },
  {
   "cell_type": "code",
   "execution_count": 8,
   "metadata": {
    "collapsed": false
   },
   "outputs": [],
   "source": [
    "# extract column 1 (peptides) and trim off header (1 row)\n",
    "# remove '(+15.99)' and '(+57.02)' from sequences\n",
    "! cut -d , -f 1 /Users/meganduffy/Documents/git-repos/2017-etnp/data/MED2_tryp_1raw_peptide.csv \\\n",
    "| sed \"1 d\" | sed 's/(+15.99)//g'| sed 's/(+57.02)//g'> /Users/meganduffy/Documents/git-repos/2017-etnp/data/05.22.17-peaks/extracted-peptides/MED2_tryp_1raw_db_peptides.txt"
   ]
  },
  {
   "cell_type": "code",
   "execution_count": 9,
   "metadata": {
    "collapsed": false
   },
   "outputs": [
    {
     "name": "stdout",
     "output_type": "stream",
     "text": [
      "SKPFNDGFNAATGDYVDMSAAGIVDPAK\r\n",
      "SKPFNDGFNAATGDYVDMSAAGIVDPAK\r\n",
      "GPAPLSLALAHVDVDDDAVLVK\r\n",
      "DADFSEVDLHGTTLTLSDLK\r\n",
      "AKNTGVEYAQGLVALGGDDEELAK\r\n",
      "DPNQTVNPDEVVAVGAAIQGGVLAGEVK\r\n",
      "ILQGYQYVAANPDEVCPANWTPGEK\r\n",
      "AAIEEGVVSGGGQTLIEISNELSNSR\r\n",
      "ANDCPSLDSSLVGSISLGNGDSLK\r\n",
      "KEISDDLTTGIDIITNALLEPTK\r\n"
     ]
    }
   ],
   "source": [
    "!head /Users/meganduffy/Documents/git-repos/2017-etnp/data/05.22.17-peaks/extracted-peptides/MED2_tryp_1raw_db_peptides.txt"
   ]
  },
  {
   "cell_type": "markdown",
   "metadata": {},
   "source": [
    "### In Galaxy, made this into a fasta:"
   ]
  },
  {
   "cell_type": "code",
   "execution_count": 11,
   "metadata": {
    "collapsed": false
   },
   "outputs": [
    {
     "name": "stdout",
     "output_type": "stream",
     "text": [
      ">SKPFNDGFNAATGDYVDMSAAGIVDPAK\r\n",
      "SKPFNDGFNAATGDYVDMSAAGIVDPAK\r\n",
      ">SKPFNDGFNAATGDYVDMSAAGIVDPAK\r\n",
      "SKPFNDGFNAATGDYVDMSAAGIVDPAK\r\n",
      ">GPAPLSLALAHVDVDDDAVLVK\r\n",
      "GPAPLSLALAHVDVDDDAVLVK\r\n",
      ">DADFSEVDLHGTTLTLSDLK\r\n",
      "DADFSEVDLHGTTLTLSDLK\r\n",
      ">AKNTGVEYAQGLVALGGDDEELAK\r\n",
      "AKNTGVEYAQGLVALGGDDEELAK\r\n"
     ]
    }
   ],
   "source": [
    "!head /Users/meganduffy/Documents/git-repos/2017-etnp/data/MED2_tryp_1raw_db_peptides.fasta"
   ]
  },
  {
   "cell_type": "markdown",
   "metadata": {},
   "source": [
    "### Did the same for de novo extracted peptides"
   ]
  },
  {
   "cell_type": "code",
   "execution_count": 15,
   "metadata": {
    "collapsed": false
   },
   "outputs": [
    {
     "name": "stdout",
     "output_type": "stream",
     "text": [
      ">KAALEDLALLTQK\r\n",
      "KAALEDLALLTQK\r\n",
      ">KELDLDTDLGK\r\n",
      "KELDLDTDLGK\r\n",
      ">KDLESLDSTNK\r\n",
      "KDLESLDSTNK\r\n",
      ">KGFVSELLDK\r\n",
      "KGFVSELLDK\r\n",
      ">HFELLNQK\r\n",
      "HFELLNQK\r\n"
     ]
    }
   ],
   "source": [
    "!head /Users/meganduffy/Documents/git-repos/2017-etnp/data/MED2_trypsin_1raw_80alc_peptides.fasta"
   ]
  },
  {
   "cell_type": "markdown",
   "metadata": {},
   "source": [
    "### Now, I'll do a blastp analyses of the following:\n",
    "\n",
    " - de novo peptides vs _in silico_ digested MED4 proteome\n",
    " - database searched peptides vs _in silico_ digested MED4 proteome\n",
    " - de novo peptides vs database searched peptides"
   ]
  },
  {
   "cell_type": "code",
   "execution_count": 16,
   "metadata": {
    "collapsed": false
   },
   "outputs": [
    {
     "name": "stdout",
     "output_type": "stream",
     "text": [
      "\n",
      "\n",
      "Building a new DB, current time: 06/05/2017 22:20:57\n",
      "New DB name:   /Users/meganduffy/Documents/git-repos/2017-etnp/data/MED4_hi3_proteome_digested\n",
      "New DB title:  /Users/meganduffy/Documents/git-repos/2017-etnp/data/MED4_hi3_proteome_digested.fasta\n",
      "Sequence type: Protein\n",
      "Keep MBits: T\n",
      "Maximum file size: 1000000000B\n",
      "Adding sequences from FASTA; added 205248 sequences in 9.55345 seconds.\n"
     ]
    }
   ],
   "source": [
    "!~/Applications/ncbi-blast-2.5.0+/bin/makeblastdb \\\n",
    "-in /Users/meganduffy/Documents/git-repos/2017-etnp/data/MED4_hi3_proteome_digested.fasta \\\n",
    "-dbtype prot \\\n",
    "-out /Users/meganduffy/Documents/git-repos/2017-etnp/data/MED4_hi3_proteome_digested"
   ]
  },
  {
   "cell_type": "code",
   "execution_count": 17,
   "metadata": {
    "collapsed": false
   },
   "outputs": [
    {
     "name": "stdout",
     "output_type": "stream",
     "text": [
      "\n",
      "\n",
      "Building a new DB, current time: 06/05/2017 22:21:07\n",
      "New DB name:   /Users/meganduffy/Documents/git-repos/2017-etnp/data/MED2_tryp_1raw_db_peptides\n",
      "New DB title:  /Users/meganduffy/Documents/git-repos/2017-etnp/data/MED2_tryp_1raw_db_peptides.fasta\n",
      "Sequence type: Protein\n",
      "Keep MBits: T\n",
      "Maximum file size: 1000000000B\n",
      "FASTA-Reader: Ignoring invalid residues at position(s): On line 704: 3, 5-10\n",
      "FASTA-Reader: Ignoring invalid residues at position(s): On line 868: 4, 6-11\n",
      "\n",
      "volume: /Users/meganduffy/Documents/git-repos/2017-etnp/data/MED2_tryp_1raw_db_peptides\n",
      "\n",
      "file: /Users/meganduffy/Documents/git-repos/2017-etnp/data/MED2_tryp_1raw_db_peptides.pin\n",
      "file: /Users/meganduffy/Documents/git-repos/2017-etnp/data/MED2_tryp_1raw_db_peptides.phr\n",
      "file: /Users/meganduffy/Documents/git-repos/2017-etnp/data/MED2_tryp_1raw_db_peptides.psq\n",
      "\n",
      "BLAST Database creation error: Near line 886, there's a line that doesn't look like plausible data, but it's not marked as defline or comment.\n"
     ]
    }
   ],
   "source": [
    "!~/Applications/ncbi-blast-2.5.0+/bin/makeblastdb \\\n",
    "-in /Users/meganduffy/Documents/git-repos/2017-etnp/data/MED2_tryp_1raw_db_peptides.fasta \\\n",
    "-dbtype prot \\\n",
    "-out /Users/meganduffy/Documents/git-repos/2017-etnp/data/MED2_tryp_1raw_db_peptides"
   ]
  },
  {
   "cell_type": "code",
   "execution_count": 10,
   "metadata": {
    "collapsed": false
   },
   "outputs": [],
   "source": [
    "# remove '(-18.01)', (-.98)',(+27.99)' from sequences\n",
    "!sed 's/(-18.01)//g' /Users/meganduffy/Documents/git-repos/2017-etnp/data/MED2_tryp_1raw_db_peptides.fasta | sed 's/(-.98)//g' | sed 's/(+27.99)//g' | sed 's/(+.98)//g'\\\n",
    "> /Users/meganduffy/Documents/git-repos/2017-etnp/data/MED2_tryp_1raw_db_peptides_nmod.fasta"
   ]
  },
  {
   "cell_type": "code",
   "execution_count": 18,
   "metadata": {
    "collapsed": false
   },
   "outputs": [
    {
     "name": "stdout",
     "output_type": "stream",
     "text": [
      "\n",
      "\n",
      "Building a new DB, current time: 06/05/2017 22:21:23\n",
      "New DB name:   /Users/meganduffy/Documents/git-repos/2017-etnp/data/MED2_tryp_1raw_db_peptides_nmod\n",
      "New DB title:  /Users/meganduffy/Documents/git-repos/2017-etnp/data/MED2_tryp_1raw_db_peptides_nmod.fasta\n",
      "Sequence type: Protein\n",
      "Keep MBits: T\n",
      "Maximum file size: 1000000000B\n",
      "Adding sequences from FASTA; added 12160 sequences in 0.692183 seconds.\n"
     ]
    }
   ],
   "source": [
    "!~/Applications/ncbi-blast-2.5.0+/bin/makeblastdb \\\n",
    "-in /Users/meganduffy/Documents/git-repos/2017-etnp/data/MED2_tryp_1raw_db_peptides_nmod.fasta \\\n",
    "-dbtype prot \\\n",
    "-out /Users/meganduffy/Documents/git-repos/2017-etnp/data/MED2_tryp_1raw_db_peptides_nmod"
   ]
  },
  {
   "cell_type": "code",
   "execution_count": 19,
   "metadata": {
    "collapsed": false
   },
   "outputs": [
    {
     "name": "stdout",
     "output_type": "stream",
     "text": [
      "\u001b[34m05.22.17-peaks\u001b[m\u001b[m                         MED4_hi3_proteome_digested.fasta\r\n",
      "05.22.17-peaks.zip                     MED4_hi3_proteome_digested.phr\r\n",
      "MED2_tryp_1rawDB-search-psm.csv        MED4_hi3_proteome_digested.pin\r\n",
      "MED2_tryp_1raw_80dn.csv                MED4_hi3_proteome_digested.psq\r\n",
      "MED2_tryp_1raw_db_peptides.fasta       \u001b[31mMED4_hi3_proteome_digested.txt\u001b[m\u001b[m\r\n",
      "MED2_tryp_1raw_db_peptides_nmod.fasta  MED4_hi3_proteome_tryp.peps.txt\r\n",
      "MED2_tryp_1raw_db_peptides_nmod.phr    MED4_hi3_proteome_tryptic.txt\r\n",
      "MED2_tryp_1raw_db_peptides_nmod.pin    UP000001026_59919.fasta.gz\r\n",
      "MED2_tryp_1raw_db_peptides_nmod.psq    Uniprot.MED4_Hi3.fasta\r\n",
      "MED2_tryp_1raw_dn-only.csv             Uniprot.MED4_Hi3.phr\r\n",
      "MED2_tryp_1raw_peptide.csv             Uniprot.MED4_Hi3.pin\r\n",
      "MED2_tryp_1raw_propep.csv              Uniprot.MED4_Hi3.psq\r\n",
      "MED2_tryp_1raw_protein.csv             Uniprot.MED4_Hi3_tryptic.txt\r\n",
      "MED2_trypsin_1raw_80alc_peptides.fasta \u001b[34mblastdb\u001b[m\u001b[m\r\n",
      "\u001b[31mMED4_hi3_proteome.fasta\u001b[m\u001b[m                \u001b[31mtrypsin.py\u001b[m\u001b[m\r\n"
     ]
    }
   ],
   "source": [
    "!ls /Users/meganduffy/Documents/git-repos/2017-etnp/data/"
   ]
  },
  {
   "cell_type": "code",
   "execution_count": 21,
   "metadata": {
    "collapsed": false
   },
   "outputs": [],
   "source": [
    "# blastp search of de novo peptides vs MED4 in silico digested proteome db \n",
    "# outfmt = 10 gives output in tabular format. \n",
    "!~/Applications/ncbi-blast-2.5.0+/bin/blastp \\\n",
    "-query /Users/meganduffy/Documents/git-repos/2017-etnp/data/MED2_trypsin_1raw_80alc_peptides.fasta \\\n",
    "-db /Users/meganduffy/Documents/git-repos/2017-etnp/data/MED4_hi3_proteome_digested \\\n",
    "-outfmt 10 \\\n",
    "-out /Users/meganduffy/Documents/git-repos/2017-etnp/analyses/MED2trypsin_1raw_dn-vs-proteome.csv"
   ]
  },
  {
   "cell_type": "code",
   "execution_count": null,
   "metadata": {
    "collapsed": true
   },
   "outputs": [],
   "source": [
    "!head "
   ]
  }
 ],
 "metadata": {
  "anaconda-cloud": {},
  "kernelspec": {
   "display_name": "Python [default]",
   "language": "python",
   "name": "python3"
  },
  "language_info": {
   "codemirror_mode": {
    "name": "ipython",
    "version": 3
   },
   "file_extension": ".py",
   "mimetype": "text/x-python",
   "name": "python",
   "nbconvert_exporter": "python",
   "pygments_lexer": "ipython3",
   "version": "3.5.2"
  }
 },
 "nbformat": 4,
 "nbformat_minor": 1
}
