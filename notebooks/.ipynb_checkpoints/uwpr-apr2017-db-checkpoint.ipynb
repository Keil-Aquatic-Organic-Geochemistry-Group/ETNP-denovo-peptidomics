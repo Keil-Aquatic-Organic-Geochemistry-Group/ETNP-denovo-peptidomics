{
 "cells": [
  {
   "cell_type": "code",
   "execution_count": 1,
   "metadata": {
    "collapsed": false
   },
   "outputs": [
    {
     "name": "stdout",
     "output_type": "stream",
     "text": [
      "Thu Jun 20 13:25:48 PDT 2019\r\n"
     ]
    }
   ],
   "source": [
    "!date"
   ]
  },
  {
   "cell_type": "code",
   "execution_count": 2,
   "metadata": {
    "collapsed": false
   },
   "outputs": [
    {
     "name": "stdout",
     "output_type": "stream",
     "text": [
      "Software:\r\n",
      "\r\n",
      "    System Software Overview:\r\n",
      "\r\n",
      "      System Version: macOS 10.14.5 (18F132)\r\n",
      "      Kernel Version: Darwin 18.6.0\r\n",
      "      Boot Volume: Macintosh HD\r\n",
      "      Boot Mode: Normal\r\n",
      "      Computer Name: Megan’s MacBook Pro (2)\r\n",
      "      User Name: Megan Duffy (meganduffy)\r\n",
      "      Secure Virtual Memory: Enabled\r\n",
      "      System Integrity Protection: Enabled\r\n",
      "      Time since boot: 29 days 2:45\r\n",
      "\r\n"
     ]
    }
   ],
   "source": [
    "!system_profiler SPSoftwareDataType"
   ]
  },
  {
   "cell_type": "markdown",
   "metadata": {},
   "source": [
    "### Notebook to document text extraction and editing of UWPR April 2017 ETNP 2017 P2 McLane sample profile database ID'd peptides\n",
    "### Exported the results of PEAKS 8.5 searches into Git ETNP 2017 data directory\n",
    "### Database ID'd peptides are in running#-peaks#-peptide.csv files"
   ]
  },
  {
   "cell_type": "code",
   "execution_count": 3,
   "metadata": {
    "collapsed": false
   },
   "outputs": [
    {
     "name": "stdout",
     "output_type": "stream",
     "text": [
      "\u001b[34mUWPR_Apr2017_231-100m-ETNP_PEAKS_97\u001b[m\u001b[m\r\n",
      "\u001b[34mUWPR_Apr2017_231-100m-gf75-ETNP_PEAKS_17\u001b[m\u001b[m\r\n",
      "\u001b[34mUWPR_Apr2017_233-265m-ETNP_PEAKS_105\u001b[m\u001b[m\r\n",
      "\u001b[34mUWPR_Apr2017_233-265m-gf75-ETNP_PEAKS_25\u001b[m\u001b[m\r\n"
     ]
    }
   ],
   "source": [
    "!ls /Users/meganduffy/Documents/git-repos/2017-etnp/data/uwpr-apr2017/"
   ]
  },
  {
   "cell_type": "markdown",
   "metadata": {},
   "source": [
    "### First doing the two samples in this batch relevent to the Pro novo paper, 231 and 233 (P2 2017 100 m and 265 m gf75 McLane):"
   ]
  },
  {
   "cell_type": "markdown",
   "metadata": {},
   "source": [
    "### Sample 231: ETNP 2017 McLane (GF-75) 100m P2 (JA2 - UWPR April 2017, PEAKS 97)"
   ]
  },
  {
   "cell_type": "code",
   "execution_count": 4,
   "metadata": {
    "collapsed": false
   },
   "outputs": [
    {
     "name": "stdout",
     "output_type": "stream",
     "text": [
      "231-peaks97-DB-search-psm.csv    231-peaks97-protein-peptides.csv\r\n",
      "231-peaks97-dno.csv              231-peaks97-proteins.csv\r\n",
      "231-peaks97-peptide.csv          231-peaks97-proteins.fasta\r\n"
     ]
    }
   ],
   "source": [
    "!ls /Users/meganduffy/Documents/git-repos/2017-etnp/data/uwpr-apr2017/UWPR_Apr2017_231-100m-ETNP_PEAKS_97/"
   ]
  },
  {
   "cell_type": "code",
   "execution_count": 5,
   "metadata": {
    "collapsed": true
   },
   "outputs": [],
   "source": [
    "import os"
   ]
  },
  {
   "cell_type": "code",
   "execution_count": 6,
   "metadata": {
    "collapsed": false
   },
   "outputs": [
    {
     "data": {
      "text/plain": [
       "'/Users/meganduffy/Documents/git-repos/2017-etnp/notebooks'"
      ]
     },
     "execution_count": 6,
     "metadata": {},
     "output_type": "execute_result"
    }
   ],
   "source": [
    "os.getcwd()"
   ]
  },
  {
   "cell_type": "code",
   "execution_count": 7,
   "metadata": {
    "collapsed": true
   },
   "outputs": [],
   "source": [
    "import pandas as pd"
   ]
  },
  {
   "cell_type": "code",
   "execution_count": 8,
   "metadata": {
    "collapsed": false
   },
   "outputs": [
    {
     "data": {
      "text/plain": [
       "'0.18.1'"
      ]
     },
     "execution_count": 8,
     "metadata": {},
     "output_type": "execute_result"
    }
   ],
   "source": [
    "pd.__version__"
   ]
  },
  {
   "cell_type": "code",
   "execution_count": 9,
   "metadata": {
    "collapsed": true
   },
   "outputs": [],
   "source": [
    "data = pd.read_csv(\"/Users/meganduffy/Documents/git-repos/2017-etnp/data/uwpr-apr2017/UWPR_Apr2017_231-100m-ETNP_PEAKS_97/231-peaks97-peptide.csv\")"
   ]
  },
  {
   "cell_type": "code",
   "execution_count": 10,
   "metadata": {
    "collapsed": false
   },
   "outputs": [
    {
     "data": {
      "text/html": [
       "<div>\n",
       "<table border=\"1\" class=\"dataframe\">\n",
       "  <thead>\n",
       "    <tr style=\"text-align: right;\">\n",
       "      <th></th>\n",
       "      <th>Peptide</th>\n",
       "      <th>-10lgP</th>\n",
       "      <th>Mass</th>\n",
       "      <th>Length</th>\n",
       "      <th>ppm</th>\n",
       "      <th>m/z</th>\n",
       "      <th>RT</th>\n",
       "      <th>Area etnp-ja02-20170410</th>\n",
       "      <th>Fraction</th>\n",
       "      <th>Scan</th>\n",
       "      <th>Source File</th>\n",
       "      <th>#Spec</th>\n",
       "      <th>#Spec etnp-ja02-20170410</th>\n",
       "      <th>Accession</th>\n",
       "      <th>PTM</th>\n",
       "      <th>AScore</th>\n",
       "    </tr>\n",
       "  </thead>\n",
       "  <tbody>\n",
       "    <tr>\n",
       "      <th>0</th>\n",
       "      <td>IVVGGPYSSVSDAASSLDSSQK</td>\n",
       "      <td>100.98</td>\n",
       "      <td>2153.0488</td>\n",
       "      <td>22</td>\n",
       "      <td>2.7</td>\n",
       "      <td>1077.5345</td>\n",
       "      <td>71.78</td>\n",
       "      <td>25300000.0</td>\n",
       "      <td>2</td>\n",
       "      <td>23179</td>\n",
       "      <td>20170410_JA2_01.raw</td>\n",
       "      <td>6</td>\n",
       "      <td>6</td>\n",
       "      <td>ETNP_90:ETNP_100:ETNP_120:ETNP_140:ETNP_160:ET...</td>\n",
       "      <td>NaN</td>\n",
       "      <td>NaN</td>\n",
       "    </tr>\n",
       "    <tr>\n",
       "      <th>1</th>\n",
       "      <td>AIQQQIENPLAQQILSGELVPGK</td>\n",
       "      <td>97.16</td>\n",
       "      <td>2473.3540</td>\n",
       "      <td>23</td>\n",
       "      <td>3.6</td>\n",
       "      <td>1237.6887</td>\n",
       "      <td>98.28</td>\n",
       "      <td>25900000.0</td>\n",
       "      <td>2</td>\n",
       "      <td>34897</td>\n",
       "      <td>20170410_JA2_01.raw</td>\n",
       "      <td>7</td>\n",
       "      <td>7</td>\n",
       "      <td>54036848</td>\n",
       "      <td>NaN</td>\n",
       "      <td>NaN</td>\n",
       "    </tr>\n",
       "    <tr>\n",
       "      <th>2</th>\n",
       "      <td>IVVGGPYSSVSDAASVLDGSQK</td>\n",
       "      <td>97.11</td>\n",
       "      <td>2135.0745</td>\n",
       "      <td>22</td>\n",
       "      <td>1.6</td>\n",
       "      <td>1068.5463</td>\n",
       "      <td>82.14</td>\n",
       "      <td>20600000.0</td>\n",
       "      <td>2</td>\n",
       "      <td>28172</td>\n",
       "      <td>20170410_JA2_01.raw</td>\n",
       "      <td>7</td>\n",
       "      <td>7</td>\n",
       "      <td>ETNP_120:ETNP_90:ETNP_100:ETNP_100</td>\n",
       "      <td>NaN</td>\n",
       "      <td>NaN</td>\n",
       "    </tr>\n",
       "    <tr>\n",
       "      <th>3</th>\n",
       "      <td>LPQVEGTGGDVQPSQDLVR</td>\n",
       "      <td>96.10</td>\n",
       "      <td>1994.0068</td>\n",
       "      <td>19</td>\n",
       "      <td>0.0</td>\n",
       "      <td>998.0107</td>\n",
       "      <td>61.72</td>\n",
       "      <td>237000000.0</td>\n",
       "      <td>2</td>\n",
       "      <td>18917</td>\n",
       "      <td>20170410_JA2_01.raw</td>\n",
       "      <td>13</td>\n",
       "      <td>13</td>\n",
       "      <td>54036848</td>\n",
       "      <td>NaN</td>\n",
       "      <td>NaN</td>\n",
       "    </tr>\n",
       "    <tr>\n",
       "      <th>4</th>\n",
       "      <td>QAVSADSSGSFIGGAELASLK</td>\n",
       "      <td>89.92</td>\n",
       "      <td>1993.9956</td>\n",
       "      <td>21</td>\n",
       "      <td>1.0</td>\n",
       "      <td>998.0060</td>\n",
       "      <td>81.22</td>\n",
       "      <td>6280000.0</td>\n",
       "      <td>2</td>\n",
       "      <td>27723</td>\n",
       "      <td>20170410_JA2_01.raw</td>\n",
       "      <td>7</td>\n",
       "      <td>7</td>\n",
       "      <td>ETNP_120:ETNP_120:ETNP_90</td>\n",
       "      <td>NaN</td>\n",
       "      <td>NaN</td>\n",
       "    </tr>\n",
       "  </tbody>\n",
       "</table>\n",
       "</div>"
      ],
      "text/plain": [
       "                   Peptide  -10lgP       Mass  Length  ppm        m/z     RT  \\\n",
       "0   IVVGGPYSSVSDAASSLDSSQK  100.98  2153.0488      22  2.7  1077.5345  71.78   \n",
       "1  AIQQQIENPLAQQILSGELVPGK   97.16  2473.3540      23  3.6  1237.6887  98.28   \n",
       "2   IVVGGPYSSVSDAASVLDGSQK   97.11  2135.0745      22  1.6  1068.5463  82.14   \n",
       "3      LPQVEGTGGDVQPSQDLVR   96.10  1994.0068      19  0.0   998.0107  61.72   \n",
       "4    QAVSADSSGSFIGGAELASLK   89.92  1993.9956      21  1.0   998.0060  81.22   \n",
       "\n",
       "   Area etnp-ja02-20170410  Fraction   Scan          Source File  #Spec  \\\n",
       "0               25300000.0         2  23179  20170410_JA2_01.raw      6   \n",
       "1               25900000.0         2  34897  20170410_JA2_01.raw      7   \n",
       "2               20600000.0         2  28172  20170410_JA2_01.raw      7   \n",
       "3              237000000.0         2  18917  20170410_JA2_01.raw     13   \n",
       "4                6280000.0         2  27723  20170410_JA2_01.raw      7   \n",
       "\n",
       "   #Spec etnp-ja02-20170410  \\\n",
       "0                         6   \n",
       "1                         7   \n",
       "2                         7   \n",
       "3                        13   \n",
       "4                         7   \n",
       "\n",
       "                                           Accession  PTM AScore  \n",
       "0  ETNP_90:ETNP_100:ETNP_120:ETNP_140:ETNP_160:ET...  NaN    NaN  \n",
       "1                                           54036848  NaN    NaN  \n",
       "2                 ETNP_120:ETNP_90:ETNP_100:ETNP_100  NaN    NaN  \n",
       "3                                           54036848  NaN    NaN  \n",
       "4                          ETNP_120:ETNP_120:ETNP_90  NaN    NaN  "
      ]
     },
     "execution_count": 10,
     "metadata": {},
     "output_type": "execute_result"
    }
   ],
   "source": [
    "data.head()"
   ]
  },
  {
   "cell_type": "code",
   "execution_count": 11,
   "metadata": {
    "collapsed": true
   },
   "outputs": [],
   "source": [
    "# Keep only peptide column\n",
    "pep = data[[\"Peptide\"]]"
   ]
  },
  {
   "cell_type": "code",
   "execution_count": 12,
   "metadata": {
    "collapsed": false
   },
   "outputs": [
    {
     "data": {
      "text/html": [
       "<div>\n",
       "<table border=\"1\" class=\"dataframe\">\n",
       "  <thead>\n",
       "    <tr style=\"text-align: right;\">\n",
       "      <th></th>\n",
       "      <th>Peptide</th>\n",
       "    </tr>\n",
       "  </thead>\n",
       "  <tbody>\n",
       "    <tr>\n",
       "      <th>0</th>\n",
       "      <td>IVVGGPYSSVSDAASSLDSSQK</td>\n",
       "    </tr>\n",
       "    <tr>\n",
       "      <th>1</th>\n",
       "      <td>AIQQQIENPLAQQILSGELVPGK</td>\n",
       "    </tr>\n",
       "    <tr>\n",
       "      <th>2</th>\n",
       "      <td>IVVGGPYSSVSDAASVLDGSQK</td>\n",
       "    </tr>\n",
       "    <tr>\n",
       "      <th>3</th>\n",
       "      <td>LPQVEGTGGDVQPSQDLVR</td>\n",
       "    </tr>\n",
       "    <tr>\n",
       "      <th>4</th>\n",
       "      <td>QAVSADSSGSFIGGAELASLK</td>\n",
       "    </tr>\n",
       "  </tbody>\n",
       "</table>\n",
       "</div>"
      ],
      "text/plain": [
       "                   Peptide\n",
       "0   IVVGGPYSSVSDAASSLDSSQK\n",
       "1  AIQQQIENPLAQQILSGELVPGK\n",
       "2   IVVGGPYSSVSDAASVLDGSQK\n",
       "3      LPQVEGTGGDVQPSQDLVR\n",
       "4    QAVSADSSGSFIGGAELASLK"
      ]
     },
     "execution_count": 12,
     "metadata": {},
     "output_type": "execute_result"
    }
   ],
   "source": [
    "pep.head()"
   ]
  },
  {
   "cell_type": "code",
   "execution_count": 13,
   "metadata": {
    "collapsed": true
   },
   "outputs": [],
   "source": [
    "# Write altered dataframe to new csv file\n",
    "# Used header and index parameters to get rid of 'Peptide' header and the indexing\n",
    "\n",
    "pep.to_csv(\"/Users/meganduffy/Documents/git-repos/2017-etnp/data/uwpr-apr2017/UWPR_Apr2017_231-100m-ETNP_PEAKS_97/231-peaks97-dbpeps.csv\", header=False, index=False)"
   ]
  },
  {
   "cell_type": "code",
   "execution_count": 14,
   "metadata": {
    "collapsed": true
   },
   "outputs": [],
   "source": [
    "# Write altered dataframe to new txt file\n",
    "# Used header and index parameters to get rid of 'Peptide' header and the indexing\n",
    "\n",
    "pep.to_csv(\"/Users/meganduffy/Documents/git-repos/2017-etnp/data/uwpr-apr2017/UWPR_Apr2017_231-100m-ETNP_PEAKS_97/231-peaks97-dbpeps.txt\", header=False, index=False)"
   ]
  },
  {
   "cell_type": "code",
   "execution_count": 15,
   "metadata": {
    "collapsed": false
   },
   "outputs": [
    {
     "name": "stdout",
     "output_type": "stream",
     "text": [
      "IVVGGPYSSVSDAASSLDSSQK\r\n",
      "AIQQQIENPLAQQILSGELVPGK\r\n",
      "IVVGGPYSSVSDAASVLDGSQK\r\n",
      "LPQVEGTGGDVQPSQDLVR\r\n",
      "QAVSADSSGSFIGGAELASLK\r\n",
      "LGEHNIDVLEGNEQFINAAK\r\n",
      "TNYFGIQGTDNGNLTNSFAESELER\r\n",
      "TNYFGLQGTDNGNLTNSFAESELER\r\n",
      "AGAGDDEVNAGSGDDIVR\r\n",
      "IVVGGPYSSVSDASSGLDGSQK\r\n"
     ]
    }
   ],
   "source": [
    "!head /Users/meganduffy/Documents/git-repos/2017-etnp/data/uwpr-apr2017/UWPR_Apr2017_231-100m-ETNP_PEAKS_97/231-peaks97-dbpeps.txt"
   ]
  },
  {
   "cell_type": "code",
   "execution_count": 16,
   "metadata": {
    "collapsed": true
   },
   "outputs": [],
   "source": [
    "# Removes all characters in parentheses and saves as new file\n",
    "\n",
    "!awk -F \"[()]\" '{ for (i=2; i<NF; i+=2) print $i }' /Users/meganduffy/Documents/git-repos/2017-etnp/data/uwpr-apr2017/UWPR_Apr2017_231-100m-ETNP_PEAKS_97/231-peaks97-dbpeps.txt > /Users/meganduffy/Documents/git-repos/2017-etnp/data/uwpr-apr2017/UWPR_Apr2017_231-100m-ETNP_PEAKS_97/231-peaks97-db-mods.txt"
   ]
  },
  {
   "cell_type": "code",
   "execution_count": 17,
   "metadata": {
    "collapsed": false
   },
   "outputs": [
    {
     "name": "stdout",
     "output_type": "stream",
     "text": [
      "+57.02\r\n",
      "+15.99\r\n",
      "+15.99\r\n",
      "+57.02\r\n",
      "+57.02\r\n",
      "+57.02\r\n",
      "+15.99\r\n",
      "+57.02\r\n",
      "+15.99\r\n",
      "+15.99\r\n"
     ]
    }
   ],
   "source": [
    "# How does the modifications text file look?\n",
    "\n",
    "!head /Users/meganduffy/Documents/git-repos/2017-etnp/data/uwpr-apr2017/UWPR_Apr2017_231-100m-ETNP_PEAKS_97/231-peaks97-db-mods.txt"
   ]
  },
  {
   "cell_type": "code",
   "execution_count": 18,
   "metadata": {
    "collapsed": false
   },
   "outputs": [
    {
     "name": "stdout",
     "output_type": "stream",
     "text": [
      "     222 /Users/meganduffy/Documents/git-repos/2017-etnp/data/uwpr-apr2017/UWPR_Apr2017_231-100m-ETNP_PEAKS_97/231-peaks97-db-mods.txt\r\n"
     ]
    }
   ],
   "source": [
    "# How many modifications for this sample?\n",
    "\n",
    "!wc -l /Users/meganduffy/Documents/git-repos/2017-etnp/data/uwpr-apr2017/UWPR_Apr2017_231-100m-ETNP_PEAKS_97/231-peaks97-db-mods.txt"
   ]
  },
  {
   "cell_type": "code",
   "execution_count": 19,
   "metadata": {
    "collapsed": false
   },
   "outputs": [
    {
     "name": "stdout",
     "output_type": "stream",
     "text": [
      "    1932 /Users/meganduffy/Documents/git-repos/2017-etnp/data/uwpr-apr2017/UWPR_Apr2017_231-100m-ETNP_PEAKS_97/231-peaks97-dbpeps.txt\r\n"
     ]
    }
   ],
   "source": [
    "# Compared with how many total peptides?\n",
    "\n",
    "!wc -l /Users/meganduffy/Documents/git-repos/2017-etnp/data/uwpr-apr2017/UWPR_Apr2017_231-100m-ETNP_PEAKS_97/231-peaks97-dbpeps.txt"
   ]
  },
  {
   "cell_type": "code",
   "execution_count": 20,
   "metadata": {
    "collapsed": false
   },
   "outputs": [
    {
     "data": {
      "text/plain": [
       "0.11490683229813664"
      ]
     },
     "execution_count": 20,
     "metadata": {},
     "output_type": "execute_result"
    }
   ],
   "source": [
    "# What's the percentage of modified peptides for this sample?\n",
    "\n",
    "222/1932"
   ]
  },
  {
   "cell_type": "code",
   "execution_count": 21,
   "metadata": {
    "collapsed": true
   },
   "outputs": [],
   "source": [
    "# Get rid of modifications from all peptides and save as a new file\n",
    "# Remove '(+15.99)' and '(+57.02)', (+.98) from sequences\n",
    "\n",
    "!sed 's/(+15.99)//g' /Users/meganduffy/Documents/git-repos/2017-etnp/data/uwpr-apr2017/UWPR_Apr2017_231-100m-ETNP_PEAKS_97/231-peaks97-dbpeps.txt \\\n",
    "| sed 's/(+57.02)//g'\\\n",
    "| sed 's/(+.98)//g'\\\n",
    "> /Users/meganduffy/Documents/git-repos/2017-etnp/data/uwpr-apr2017/UWPR_Apr2017_231-100m-ETNP_PEAKS_97/231-peaks97-db-nomods.txt"
   ]
  },
  {
   "cell_type": "code",
   "execution_count": 22,
   "metadata": {
    "collapsed": false
   },
   "outputs": [
    {
     "name": "stdout",
     "output_type": "stream",
     "text": [
      "IVVGGPYSSVSDAASSLDSSQK\r\n",
      "AIQQQIENPLAQQILSGELVPGK\r\n",
      "IVVGGPYSSVSDAASVLDGSQK\r\n",
      "LPQVEGTGGDVQPSQDLVR\r\n",
      "QAVSADSSGSFIGGAELASLK\r\n",
      "LGEHNIDVLEGNEQFINAAK\r\n",
      "TNYFGIQGTDNGNLTNSFAESELER\r\n",
      "TNYFGLQGTDNGNLTNSFAESELER\r\n",
      "AGAGDDEVNAGSGDDIVR\r\n",
      "IVVGGPYSSVSDASSGLDGSQK\r\n"
     ]
    }
   ],
   "source": [
    "!head /Users/meganduffy/Documents/git-repos/2017-etnp/data/uwpr-apr2017/UWPR_Apr2017_231-100m-ETNP_PEAKS_97/231-peaks97-db-nomods.txt"
   ]
  },
  {
   "cell_type": "code",
   "execution_count": 23,
   "metadata": {
    "collapsed": false
   },
   "outputs": [
    {
     "name": "stdout",
     "output_type": "stream",
     "text": [
      "231-peaks97-DB-search-psm.csv    231-peaks97-dno.csv\r\n",
      "231-peaks97-db-mods.txt          231-peaks97-peptide.csv\r\n",
      "231-peaks97-db-nomods.txt        231-peaks97-protein-peptides.csv\r\n",
      "231-peaks97-dbpeps.csv           231-peaks97-proteins.csv\r\n",
      "231-peaks97-dbpeps.txt           231-peaks97-proteins.fasta\r\n"
     ]
    }
   ],
   "source": [
    "!ls /Users/meganduffy/Documents/git-repos/2017-etnp/data/uwpr-apr2017/UWPR_Apr2017_231-100m-ETNP_PEAKS_97/"
   ]
  },
  {
   "cell_type": "markdown",
   "metadata": {},
   "source": [
    "### Sample 233: ETNP 2017 McLane (GF-75) 265m P2 (JA2 - UWPR April 2017, PEAKS 105)"
   ]
  },
  {
   "cell_type": "code",
   "execution_count": 25,
   "metadata": {
    "collapsed": false
   },
   "outputs": [
    {
     "name": "stdout",
     "output_type": "stream",
     "text": [
      "233-peaks105-DB-search-psm.csv    233-peaks105-protein-peptides.csv\r\n",
      "233-peaks105-dno.csv              233-peaks105-proteins.csv\r\n",
      "233-peaks105-peptide.csv          233-peaks105-proteins.fasta\r\n"
     ]
    }
   ],
   "source": [
    "!ls /Users/meganduffy/Documents/git-repos/2017-etnp/data/uwpr-apr2017/UWPR_Apr2017_233-265m-ETNP_PEAKS_105/"
   ]
  },
  {
   "cell_type": "code",
   "execution_count": 26,
   "metadata": {
    "collapsed": true
   },
   "outputs": [],
   "source": [
    "data = pd.read_csv(\"/Users/meganduffy/Documents/git-repos/2017-etnp/data/uwpr-apr2017/UWPR_Apr2017_233-265m-ETNP_PEAKS_105/233-peaks105-peptide.csv\")"
   ]
  },
  {
   "cell_type": "code",
   "execution_count": 27,
   "metadata": {
    "collapsed": false
   },
   "outputs": [
    {
     "data": {
      "text/html": [
       "<div>\n",
       "<table border=\"1\" class=\"dataframe\">\n",
       "  <thead>\n",
       "    <tr style=\"text-align: right;\">\n",
       "      <th></th>\n",
       "      <th>Peptide</th>\n",
       "      <th>-10lgP</th>\n",
       "      <th>Mass</th>\n",
       "      <th>Length</th>\n",
       "      <th>ppm</th>\n",
       "      <th>m/z</th>\n",
       "      <th>RT</th>\n",
       "      <th>Area etnp-ja04-20170410</th>\n",
       "      <th>Fraction</th>\n",
       "      <th>Scan</th>\n",
       "      <th>Source File</th>\n",
       "      <th>#Spec</th>\n",
       "      <th>#Spec etnp-ja04-20170410</th>\n",
       "      <th>Accession</th>\n",
       "      <th>PTM</th>\n",
       "      <th>AScore</th>\n",
       "    </tr>\n",
       "  </thead>\n",
       "  <tbody>\n",
       "    <tr>\n",
       "      <th>0</th>\n",
       "      <td>AIQQQIENPLAQQILSGELVPGK</td>\n",
       "      <td>109.23</td>\n",
       "      <td>2473.3540</td>\n",
       "      <td>23</td>\n",
       "      <td>1.6</td>\n",
       "      <td>1237.6863</td>\n",
       "      <td>97.92</td>\n",
       "      <td>46400000.0</td>\n",
       "      <td>4</td>\n",
       "      <td>33121</td>\n",
       "      <td>20170410_JA4_01.raw</td>\n",
       "      <td>8</td>\n",
       "      <td>8</td>\n",
       "      <td>54036848</td>\n",
       "      <td>NaN</td>\n",
       "      <td>NaN</td>\n",
       "    </tr>\n",
       "    <tr>\n",
       "      <th>1</th>\n",
       "      <td>LPQVEGTGGDVQPSQDLVR</td>\n",
       "      <td>104.50</td>\n",
       "      <td>1994.0068</td>\n",
       "      <td>19</td>\n",
       "      <td>0.4</td>\n",
       "      <td>998.0110</td>\n",
       "      <td>61.30</td>\n",
       "      <td>216000000.0</td>\n",
       "      <td>4</td>\n",
       "      <td>18185</td>\n",
       "      <td>20170410_JA4_01.raw</td>\n",
       "      <td>6</td>\n",
       "      <td>6</td>\n",
       "      <td>54036848</td>\n",
       "      <td>NaN</td>\n",
       "      <td>NaN</td>\n",
       "    </tr>\n",
       "    <tr>\n",
       "      <th>2</th>\n",
       "      <td>AYGDTFTGGKATFVNYNGGLGEVR</td>\n",
       "      <td>102.73</td>\n",
       "      <td>2493.1924</td>\n",
       "      <td>24</td>\n",
       "      <td>2.0</td>\n",
       "      <td>832.0731</td>\n",
       "      <td>74.12</td>\n",
       "      <td>4500000.0</td>\n",
       "      <td>4</td>\n",
       "      <td>23249</td>\n",
       "      <td>20170410_JA4_01.raw</td>\n",
       "      <td>3</td>\n",
       "      <td>3</td>\n",
       "      <td>NP_300:ETNP_120:ETNP_120:ETNP_140</td>\n",
       "      <td>NaN</td>\n",
       "      <td>NaN</td>\n",
       "    </tr>\n",
       "    <tr>\n",
       "      <th>3</th>\n",
       "      <td>LGEHNIDVLEGNEQFINAAK</td>\n",
       "      <td>95.45</td>\n",
       "      <td>2210.0967</td>\n",
       "      <td>20</td>\n",
       "      <td>2.8</td>\n",
       "      <td>1106.0587</td>\n",
       "      <td>75.12</td>\n",
       "      <td>39900000.0</td>\n",
       "      <td>4</td>\n",
       "      <td>23691</td>\n",
       "      <td>20170410_JA4_01.raw</td>\n",
       "      <td>6</td>\n",
       "      <td>6</td>\n",
       "      <td>|#CONTAM#TRYP_PIG|</td>\n",
       "      <td>NaN</td>\n",
       "      <td>NaN</td>\n",
       "    </tr>\n",
       "    <tr>\n",
       "      <th>4</th>\n",
       "      <td>TQVESGNVQWDIVDVLPHEAR</td>\n",
       "      <td>94.89</td>\n",
       "      <td>2391.1819</td>\n",
       "      <td>21</td>\n",
       "      <td>1.9</td>\n",
       "      <td>798.0695</td>\n",
       "      <td>90.75</td>\n",
       "      <td>7800000.0</td>\n",
       "      <td>4</td>\n",
       "      <td>30594</td>\n",
       "      <td>20170410_JA4_01.raw</td>\n",
       "      <td>5</td>\n",
       "      <td>5</td>\n",
       "      <td>NP_300:ETNP_120:ETNP_120:ETNP_140</td>\n",
       "      <td>NaN</td>\n",
       "      <td>NaN</td>\n",
       "    </tr>\n",
       "  </tbody>\n",
       "</table>\n",
       "</div>"
      ],
      "text/plain": [
       "                    Peptide  -10lgP       Mass  Length  ppm        m/z     RT  \\\n",
       "0   AIQQQIENPLAQQILSGELVPGK  109.23  2473.3540      23  1.6  1237.6863  97.92   \n",
       "1       LPQVEGTGGDVQPSQDLVR  104.50  1994.0068      19  0.4   998.0110  61.30   \n",
       "2  AYGDTFTGGKATFVNYNGGLGEVR  102.73  2493.1924      24  2.0   832.0731  74.12   \n",
       "3      LGEHNIDVLEGNEQFINAAK   95.45  2210.0967      20  2.8  1106.0587  75.12   \n",
       "4     TQVESGNVQWDIVDVLPHEAR   94.89  2391.1819      21  1.9   798.0695  90.75   \n",
       "\n",
       "   Area etnp-ja04-20170410  Fraction   Scan          Source File  #Spec  \\\n",
       "0               46400000.0         4  33121  20170410_JA4_01.raw      8   \n",
       "1              216000000.0         4  18185  20170410_JA4_01.raw      6   \n",
       "2                4500000.0         4  23249  20170410_JA4_01.raw      3   \n",
       "3               39900000.0         4  23691  20170410_JA4_01.raw      6   \n",
       "4                7800000.0         4  30594  20170410_JA4_01.raw      5   \n",
       "\n",
       "   #Spec etnp-ja04-20170410                          Accession  PTM AScore  \n",
       "0                         8                           54036848  NaN    NaN  \n",
       "1                         6                           54036848  NaN    NaN  \n",
       "2                         3  NP_300:ETNP_120:ETNP_120:ETNP_140  NaN    NaN  \n",
       "3                         6                 |#CONTAM#TRYP_PIG|  NaN    NaN  \n",
       "4                         5  NP_300:ETNP_120:ETNP_120:ETNP_140  NaN    NaN  "
      ]
     },
     "execution_count": 27,
     "metadata": {},
     "output_type": "execute_result"
    }
   ],
   "source": [
    "data.head()"
   ]
  },
  {
   "cell_type": "code",
   "execution_count": 28,
   "metadata": {
    "collapsed": true
   },
   "outputs": [],
   "source": [
    "# Keep only peptide column\n",
    "pep = data[[\"Peptide\"]]"
   ]
  },
  {
   "cell_type": "code",
   "execution_count": 29,
   "metadata": {
    "collapsed": false
   },
   "outputs": [
    {
     "data": {
      "text/html": [
       "<div>\n",
       "<table border=\"1\" class=\"dataframe\">\n",
       "  <thead>\n",
       "    <tr style=\"text-align: right;\">\n",
       "      <th></th>\n",
       "      <th>Peptide</th>\n",
       "    </tr>\n",
       "  </thead>\n",
       "  <tbody>\n",
       "    <tr>\n",
       "      <th>0</th>\n",
       "      <td>AIQQQIENPLAQQILSGELVPGK</td>\n",
       "    </tr>\n",
       "    <tr>\n",
       "      <th>1</th>\n",
       "      <td>LPQVEGTGGDVQPSQDLVR</td>\n",
       "    </tr>\n",
       "    <tr>\n",
       "      <th>2</th>\n",
       "      <td>AYGDTFTGGKATFVNYNGGLGEVR</td>\n",
       "    </tr>\n",
       "    <tr>\n",
       "      <th>3</th>\n",
       "      <td>LGEHNIDVLEGNEQFINAAK</td>\n",
       "    </tr>\n",
       "    <tr>\n",
       "      <th>4</th>\n",
       "      <td>TQVESGNVQWDIVDVLPHEAR</td>\n",
       "    </tr>\n",
       "  </tbody>\n",
       "</table>\n",
       "</div>"
      ],
      "text/plain": [
       "                    Peptide\n",
       "0   AIQQQIENPLAQQILSGELVPGK\n",
       "1       LPQVEGTGGDVQPSQDLVR\n",
       "2  AYGDTFTGGKATFVNYNGGLGEVR\n",
       "3      LGEHNIDVLEGNEQFINAAK\n",
       "4     TQVESGNVQWDIVDVLPHEAR"
      ]
     },
     "execution_count": 29,
     "metadata": {},
     "output_type": "execute_result"
    }
   ],
   "source": [
    "pep.head()"
   ]
  },
  {
   "cell_type": "code",
   "execution_count": 30,
   "metadata": {
    "collapsed": true
   },
   "outputs": [],
   "source": [
    "# Write altered dataframe to new csv file\n",
    "# Used header and index parameters to get rid of 'Peptide' header and the indexing\n",
    "\n",
    "pep.to_csv(\"/Users/meganduffy/Documents/git-repos/2017-etnp/data/uwpr-apr2017/UWPR_Apr2017_233-265m-ETNP_PEAKS_105/233-peaks105-dbpeps.csv\", header=False, index=False)"
   ]
  },
  {
   "cell_type": "code",
   "execution_count": 31,
   "metadata": {
    "collapsed": true
   },
   "outputs": [],
   "source": [
    "# Write altered dataframe to new txt file\n",
    "# Used header and index parameters to get rid of 'Peptide' header and the indexing\n",
    "\n",
    "pep.to_csv(\"/Users/meganduffy/Documents/git-repos/2017-etnp/data/uwpr-apr2017/UWPR_Apr2017_233-265m-ETNP_PEAKS_105/233-peaks105-dbpeps.txt\", header=False, index=False)"
   ]
  },
  {
   "cell_type": "code",
   "execution_count": 32,
   "metadata": {
    "collapsed": false
   },
   "outputs": [
    {
     "name": "stdout",
     "output_type": "stream",
     "text": [
      "AIQQQIENPLAQQILSGELVPGK\r\n",
      "LPQVEGTGGDVQPSQDLVR\r\n",
      "AYGDTFTGGKATFVNYNGGLGEVR\r\n",
      "LGEHNIDVLEGNEQFINAAK\r\n",
      "TQVESGNVQWDIVDVLPHEAR\r\n",
      "SAVTALWGKVNVDEVGGEALGR\r\n",
      "TQVESGNVTWDIVDVLPHEAR\r\n",
      "LGVSTSQLPGGEIVPALQK\r\n",
      "TQFYNDEPEAIEYGENFIVHR\r\n",
      "LGVATSQLPGGEIVPALQK\r\n"
     ]
    }
   ],
   "source": [
    "!head /Users/meganduffy/Documents/git-repos/2017-etnp/data/uwpr-apr2017/UWPR_Apr2017_233-265m-ETNP_PEAKS_105/233-peaks105-dbpeps.txt"
   ]
  },
  {
   "cell_type": "code",
   "execution_count": 38,
   "metadata": {
    "collapsed": true
   },
   "outputs": [],
   "source": [
    "# Removes all characters in parentheses and saves as new file\n",
    "\n",
    "!awk -F \"[()]\" '{ for (i=2; i<NF; i+=2) print $i }' /Users/meganduffy/Documents/git-repos/2017-etnp/data/uwpr-apr2017/UWPR_Apr2017_233-265m-ETNP_PEAKS_105/233-peaks105-dbpeps.txt > /Users/meganduffy/Documents/git-repos/2017-etnp/data/uwpr-apr2017/UWPR_Apr2017_233-265m-ETNP_PEAKS_105/233-peaks105-db-mods.txt"
   ]
  },
  {
   "cell_type": "code",
   "execution_count": 39,
   "metadata": {
    "collapsed": false
   },
   "outputs": [
    {
     "name": "stdout",
     "output_type": "stream",
     "text": [
      "+57.02\r\n",
      "+15.99\r\n",
      "+57.02\r\n",
      "+57.02\r\n",
      "+57.02\r\n",
      "+57.02\r\n",
      "+15.99\r\n",
      "+15.99\r\n",
      "+57.02\r\n",
      "+57.02\r\n"
     ]
    }
   ],
   "source": [
    "# How does the modifications text file look?\n",
    "\n",
    "!head /Users/meganduffy/Documents/git-repos/2017-etnp/data/uwpr-apr2017/UWPR_Apr2017_233-265m-ETNP_PEAKS_105/233-peaks105-db-mods.txt"
   ]
  },
  {
   "cell_type": "code",
   "execution_count": 40,
   "metadata": {
    "collapsed": false
   },
   "outputs": [
    {
     "name": "stdout",
     "output_type": "stream",
     "text": [
      "     152 /Users/meganduffy/Documents/git-repos/2017-etnp/data/uwpr-apr2017/UWPR_Apr2017_233-265m-ETNP_PEAKS_105/233-peaks105-db-mods.txt\r\n"
     ]
    }
   ],
   "source": [
    "# How many modifications for this sample?\n",
    "\n",
    "!wc -l /Users/meganduffy/Documents/git-repos/2017-etnp/data/uwpr-apr2017/UWPR_Apr2017_233-265m-ETNP_PEAKS_105/233-peaks105-db-mods.txt"
   ]
  },
  {
   "cell_type": "code",
   "execution_count": 41,
   "metadata": {
    "collapsed": false
   },
   "outputs": [
    {
     "name": "stdout",
     "output_type": "stream",
     "text": [
      "    1616 /Users/meganduffy/Documents/git-repos/2017-etnp/data/uwpr-apr2017/UWPR_Apr2017_233-265m-ETNP_PEAKS_105/233-peaks105-dbpeps.txt\r\n"
     ]
    }
   ],
   "source": [
    "# Compared with how many total peptides?\n",
    "\n",
    "!wc -l /Users/meganduffy/Documents/git-repos/2017-etnp/data/uwpr-apr2017/UWPR_Apr2017_233-265m-ETNP_PEAKS_105/233-peaks105-dbpeps.txt"
   ]
  },
  {
   "cell_type": "code",
   "execution_count": 42,
   "metadata": {
    "collapsed": false
   },
   "outputs": [
    {
     "data": {
      "text/plain": [
       "0.09405940594059406"
      ]
     },
     "execution_count": 42,
     "metadata": {},
     "output_type": "execute_result"
    }
   ],
   "source": [
    "# What's the percentage of modified peptides for this sample?\n",
    "\n",
    "152/1616"
   ]
  },
  {
   "cell_type": "code",
   "execution_count": 43,
   "metadata": {
    "collapsed": true
   },
   "outputs": [],
   "source": [
    "# Get rid of modifications from all peptides and save as a new file\n",
    "# Remove '(+15.99)' and '(+57.02)', (+.98) from sequences\n",
    "\n",
    "!sed 's/(+15.99)//g' /Users/meganduffy/Documents/git-repos/2017-etnp/data/uwpr-apr2017/UWPR_Apr2017_233-265m-ETNP_PEAKS_105/233-peaks105-dbpeps.txt \\\n",
    "| sed 's/(+57.02)//g'\\\n",
    "| sed 's/(+.98)//g'\\\n",
    "> /Users/meganduffy/Documents/git-repos/2017-etnp/data/uwpr-apr2017/UWPR_Apr2017_233-265m-ETNP_PEAKS_105/233-peaks105-db-nomods.txt"
   ]
  },
  {
   "cell_type": "code",
   "execution_count": 44,
   "metadata": {
    "collapsed": false
   },
   "outputs": [
    {
     "name": "stdout",
     "output_type": "stream",
     "text": [
      "AIQQQIENPLAQQILSGELVPGK\r\n",
      "LPQVEGTGGDVQPSQDLVR\r\n",
      "AYGDTFTGGKATFVNYNGGLGEVR\r\n",
      "LGEHNIDVLEGNEQFINAAK\r\n",
      "TQVESGNVQWDIVDVLPHEAR\r\n",
      "SAVTALWGKVNVDEVGGEALGR\r\n",
      "TQVESGNVTWDIVDVLPHEAR\r\n",
      "LGVSTSQLPGGEIVPALQK\r\n",
      "TQFYNDEPEAIEYGENFIVHR\r\n",
      "LGVATSQLPGGEIVPALQK\r\n"
     ]
    }
   ],
   "source": [
    "!head /Users/meganduffy/Documents/git-repos/2017-etnp/data/uwpr-apr2017/UWPR_Apr2017_233-265m-ETNP_PEAKS_105/233-peaks105-db-nomods.txt"
   ]
  },
  {
   "cell_type": "code",
   "execution_count": 45,
   "metadata": {
    "collapsed": false
   },
   "outputs": [
    {
     "name": "stdout",
     "output_type": "stream",
     "text": [
      "233-peaks105-DB-search-psm.csv    233-peaks105-dno.csv\r\n",
      "233-peaks105-db-mods.txt          233-peaks105-peptide.csv\r\n",
      "233-peaks105-db-nomods.txt        233-peaks105-protein-peptides.csv\r\n",
      "233-peaks105-dbpeps.csv           233-peaks105-proteins.csv\r\n",
      "233-peaks105-dbpeps.txt           233-peaks105-proteins.fasta\r\n"
     ]
    }
   ],
   "source": [
    "!ls /Users/meganduffy/Documents/git-repos/2017-etnp/data/uwpr-apr2017/UWPR_Apr2017_233-265m-ETNP_PEAKS_105/"
   ]
  },
  {
   "cell_type": "markdown",
   "metadata": {},
   "source": [
    "### All done with this UWPR Apr 2017 for now! (6/20/19)"
   ]
  },
  {
   "cell_type": "code",
   "execution_count": null,
   "metadata": {
    "collapsed": true
   },
   "outputs": [],
   "source": []
  }
 ],
 "metadata": {
  "anaconda-cloud": {},
  "kernelspec": {
   "display_name": "Python [default]",
   "language": "python",
   "name": "python3"
  },
  "language_info": {
   "codemirror_mode": {
    "name": "ipython",
    "version": 3
   },
   "file_extension": ".py",
   "mimetype": "text/x-python",
   "name": "python",
   "nbconvert_exporter": "python",
   "pygments_lexer": "ipython3",
   "version": "3.5.2"
  }
 },
 "nbformat": 4,
 "nbformat_minor": 1
}
