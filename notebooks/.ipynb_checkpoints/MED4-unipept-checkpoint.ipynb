{
 "cells": [
  {
   "cell_type": "code",
   "execution_count": 1,
   "metadata": {
    "collapsed": false
   },
   "outputs": [
    {
     "name": "stdout",
     "output_type": "stream",
     "text": [
      "Tue Sep  4 21:27:52 PDT 2018\r\n"
     ]
    }
   ],
   "source": [
    "!date"
   ]
  },
  {
   "cell_type": "markdown",
   "metadata": {},
   "source": [
    "### I want to run my MED4 database peptides through Unipept's LCA tool to see how specific the peptides are to Pro. ###"
   ]
  },
  {
   "cell_type": "code",
   "execution_count": 2,
   "metadata": {
    "collapsed": false
   },
   "outputs": [
    {
     "name": "stdout",
     "output_type": "stream",
     "text": [
      "SKPFNDGFNAATGDYVDMSAAGIVDPAK\r",
      "\r\n",
      "SKPFNDGFNAATGDYVDM(+15.99)SAAGIVDPAK\r",
      "\r\n",
      "AKNTGVEYAQGLVALGGDDEELAK\r",
      "\r\n",
      "DPNQTVNPDEVVAVGAAIQGGVLAGEVK\r",
      "\r\n",
      "GPAPLSLALAHVDVDDDAVLVK\r",
      "\r\n",
      "DADFSEVDLHGTTLTLSDLK\r",
      "\r\n",
      "IEENSKPISDSTAIAQC(+57.02)GTIAAGNDEEVGEMIANAMDK\r",
      "\r\n",
      "YSFEQTGITATIYGGDLNGQTFTDPAVVKR\r",
      "\r\n",
      "TPGFTGADLANLLNEAAILAAR\r",
      "\r\n",
      "NIVSVAVEPSHSPVITQTMNGEEVK\r",
      "\r\n"
     ]
    }
   ],
   "source": [
    "!head /Users/meganduffy/Documents/git-repos/2017-etnp/data/MED4/MED-Prochlorococcus-RLundeen/peaks-output/MED_MED4-RAL_PEAKS_24/med4-rl-peaks24-peptides.txt"
   ]
  },
  {
   "cell_type": "code",
   "execution_count": 3,
   "metadata": {
    "collapsed": true
   },
   "outputs": [],
   "source": [
    "#Overkill, but I like this code\n",
    "# Now I need to get all the modifications out. Using the long bit of code from first MetaGOmics notebook.\n",
    "# Always make sure the input is TAB delimited!\n",
    "!sed 's/(+15.99)//g' /Users/meganduffy/Documents/git-repos/2017-etnp/data/MED4/MED-Prochlorococcus-RLundeen/peaks-output/MED_MED4-RAL_PEAKS_24/med4-rl-peaks24-peptides.txt \\\n",
    "| sed 's/(+57.02)//g'\\\n",
    "| sed 's/(+.98)//g'\\\n",
    "| sed 's/(+21.98)//g'\\\n",
    "| sed 's/(+28.03)//g'\\\n",
    "| sed 's/(+37.95)//g'\\\n",
    "| sed 's/(-17.03)//g'\\\n",
    "| sed 's/(+14.02)//g'\\\n",
    "| sed 's/(-15.99)//g'\\\n",
    "| sed 's/(+42.01)//g'\\\n",
    "| sed 's/(sub Q)//g'\\\n",
    "| sed 's/(+71.04)//g'\\\n",
    "| sed 's/(+55.92)//g'\\\n",
    "| sed 's/(sub A)//g'\\\n",
    "| sed 's/(+30.01)//g'\\\n",
    "| sed 's/(+3.99)//g'\\\n",
    "| sed 's/(+58.01)//g'\\\n",
    "| sed 's/(+43.01)//g'\\\n",
    "| sed 's/(+72.02)//g'\\\n",
    "| sed 's/(-18.01)//g'\\\n",
    "| sed 's/(sub D)//g'\\\n",
    "| sed 's/(sub G)//g'\\\n",
    "| sed 's/(+27.99)//g'\\\n",
    "| sed 's/(sub K)//g'\\\n",
    "| sed 's/(+37.96)//g'\\\n",
    "| sed 's/(+43.99)//g'\\\n",
    "| sed 's/(+21.97)//g'\\\n",
    "| sed 's/(+31.99)//g'\\\n",
    "| sed 's/(sub I)//g'\\\n",
    "| sed 's/(sub S)//g'\\\n",
    "| sed 's/(sub N)//g'\\\n",
    "| sed 's/(+15.01)//g'\\\n",
    "| sed 's/(-.98)//g'\\\n",
    "| sed 's/(+114.04)//g'\\\n",
    "| sed 's/(sub Y)//g'\\\n",
    "| sed 's/(sub T)//g'\\\n",
    "| sed 's/(del Q)//g'\\\n",
    "| sed 's/(-48.00)//g'\\\n",
    "| sed 's/(+100.02)//g'\\\n",
    "| sed 's/(+17.03)//g'\\\n",
    "| sed 's/(+79.97)//g'\\\n",
    "| sed 's/(+17.03)//g'\\\n",
    "| sed 's/(sub L)//g'\\\n",
    "| sed 's/(+53.92)//g'\\\n",
    "| sed 's/(sub V)//g'\\\n",
    "| sed 's/(sub M)//g'\\\n",
    "| sed 's/(+15.00)//g'\\\n",
    "| sed 's/(+150.04)//g'\\\n",
    "| sed 's/(+60.00)//g'\\\n",
    "| sed 's/(+119.04)//g'\\\n",
    "| sed 's/(+41.03)//g'\\\n",
    "| sed 's/(+29.02)//g'\\\n",
    "| sed 's/(+79.96)//g'\\\n",
    "| sed 's/(+282.05)//g'\\\n",
    "| sed 's/(del N)//g'\\\n",
    "| sed 's/(+228.11)//g'\\\n",
    "| sed 's/(sub E)//g'\\\n",
    "| sed 's/(+27.05)//g'\\\n",
    "| sed 's/(+87.03)//g'\\\n",
    "| sed 's/(-15.01)//g'\\\n",
    "| sed 's/(-1.03)//g'\\\n",
    "| sed 's/(sub F)//g'\\\n",
    "| sed 's/(del A)//g'\\\n",
    "| sed 's/(+29.04)//g'\\\n",
    "> /Users/meganduffy/Documents/git-repos/2017-etnp/data/MED4/MED-Prochlorococcus-RLundeen/peaks-output/MED_MED4-RAL_PEAKS_24/med4-rl-peaks24-nomod-peptides.txt"
   ]
  },
  {
   "cell_type": "code",
   "execution_count": 5,
   "metadata": {
    "collapsed": false
   },
   "outputs": [
    {
     "name": "stdout",
     "output_type": "stream",
     "text": [
      "SKPFNDGFNAATGDYVDMSAAGIVDPAK\r",
      "\r\n",
      "SKPFNDGFNAATGDYVDMSAAGIVDPAK\r",
      "\r\n",
      "AKNTGVEYAQGLVALGGDDEELAK\r",
      "\r\n",
      "DPNQTVNPDEVVAVGAAIQGGVLAGEVK\r",
      "\r\n",
      "GPAPLSLALAHVDVDDDAVLVK\r",
      "\r\n",
      "DADFSEVDLHGTTLTLSDLK\r",
      "\r\n",
      "IEENSKPISDSTAIAQCGTIAAGNDEEVGEMIANAMDK\r",
      "\r\n",
      "YSFEQTGITATIYGGDLNGQTFTDPAVVKR\r",
      "\r\n",
      "TPGFTGADLANLLNEAAILAAR\r",
      "\r\n",
      "NIVSVAVEPSHSPVITQTMNGEEVK\r",
      "\r\n"
     ]
    }
   ],
   "source": [
    "!head /Users/meganduffy/Documents/git-repos/2017-etnp/data/MED4/MED-Prochlorococcus-RLundeen/peaks-output/MED_MED4-RAL_PEAKS_24/med4-rl-peaks24-nomod-peptides.txt"
   ]
  },
  {
   "cell_type": "markdown",
   "metadata": {},
   "source": [
    "### Ok, inputting that into Unipept ###"
   ]
  },
  {
   "cell_type": "code",
   "execution_count": null,
   "metadata": {
    "collapsed": true
   },
   "outputs": [],
   "source": []
  }
 ],
 "metadata": {
  "kernelspec": {
   "display_name": "Python [default]",
   "language": "python",
   "name": "python3"
  },
  "language_info": {
   "codemirror_mode": {
    "name": "ipython",
    "version": 3
   },
   "file_extension": ".py",
   "mimetype": "text/x-python",
   "name": "python",
   "nbconvert_exporter": "python",
   "pygments_lexer": "ipython3",
   "version": "3.5.2"
  }
 },
 "nbformat": 4,
 "nbformat_minor": 1
}
