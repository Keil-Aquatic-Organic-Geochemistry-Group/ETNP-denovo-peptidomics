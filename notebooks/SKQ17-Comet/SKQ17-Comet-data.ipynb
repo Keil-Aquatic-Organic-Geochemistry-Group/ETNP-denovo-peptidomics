{
 "cells": [
  {
   "cell_type": "markdown",
   "metadata": {},
   "source": [
    "## Comet searches of ETNP SKQ17 McLane pump and sediment trap sample LCMS data\n",
    "\n",
    "### We searched all Thermo RAW files using Comet in the Trans Proteomic Pipeline v5.2.0 on a Windows 64x server. To get the Comet output from the TPP to this Git repo for processing, there are two main steps.\n",
    "\n",
    "### 1. Obtain precursor intensities and protein descriptions by running the Comet output `pepXML` files through the TPP's InteractParser (in the PeptideProphet wizard).  \n",
    "\n",
    "#### To do this in the TPP's browser GUI, Petunia:\n",
    "\n",
    " - Go to Analyze Peptides and select the desired Comet results pepXML file. \n",
    " - Under PeptideProphet options, *un*check Run PeptideProphet and add \"-PREC\" (without quotes) to the additional options at the bottom of that same box.  \n",
    " - Change the default output file name to contain '_quant'.\n",
    " - Hit 'Run XInteract\n",
    " \n",
    " ### 2. Export **_quant** `pepXML` files as `xls`\n",
    "\n",
    " - Go to the file directory (in this case, TPP/data/MED_denovo_rewrite/Jimmy_params_decoy/etnp-ptms/etnp-ptms-hydrox\n",
    " - Use the PepXML Viewer to open the file\n",
    " - Got to 'Pick columns' and select 'precursor_intensity' and 'protein_descr' to add in to the display\n",
    " - In the sorting tab, sort by XCorr, desending. \n",
    " - Under 'Other Actions', hit 'export spreadsheet'\n",
    " - Going back to the 'Files' tab, if you reload your browser the new 'xls' file should be there\n",
    " - Now hit 'Download' and bring into our "
   ]
  },
  {
   "cell_type": "code",
   "execution_count": null,
   "metadata": {},
   "outputs": [],
   "source": []
  }
 ],
 "metadata": {
  "kernelspec": {
   "display_name": "Python 3",
   "language": "python",
   "name": "python3"
  },
  "language_info": {
   "codemirror_mode": {
    "name": "ipython",
    "version": 3
   },
   "file_extension": ".py",
   "mimetype": "text/x-python",
   "name": "python",
   "nbconvert_exporter": "python",
   "pygments_lexer": "ipython3",
   "version": "3.8.3"
  }
 },
 "nbformat": 4,
 "nbformat_minor": 4
}
