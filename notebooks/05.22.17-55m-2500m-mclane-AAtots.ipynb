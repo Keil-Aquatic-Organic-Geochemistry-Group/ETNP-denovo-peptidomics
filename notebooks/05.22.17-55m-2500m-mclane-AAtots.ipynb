{
 "cells": [
  {
   "cell_type": "code",
   "execution_count": 1,
   "metadata": {
    "collapsed": false
   },
   "outputs": [
    {
     "name": "stdout",
     "output_type": "stream",
     "text": [
      "Mon Feb 26 11:32:39 PST 2018\r\n"
     ]
    }
   ],
   "source": [
    "!date"
   ]
  },
  {
   "cell_type": "code",
   "execution_count": 2,
   "metadata": {
    "collapsed": false
   },
   "outputs": [
    {
     "name": "stdout",
     "output_type": "stream",
     "text": [
      "Software:\r\n",
      "\r\n",
      "    System Software Overview:\r\n",
      "\r\n",
      "      System Version: macOS 10.13.3 (17D47)\r\n",
      "      Kernel Version: Darwin 17.4.0\r\n",
      "      Boot Volume: Macintosh HD\r\n",
      "      Boot Mode: Normal\r\n",
      "      Computer Name: Megan’s MacBook Pro\r\n",
      "      User Name: Megan Duffy (meganduffy)\r\n",
      "      Secure Virtual Memory: Enabled\r\n",
      "      System Integrity Protection: Enabled\r\n",
      "      Time since boot: 7 days 19:53\r\n",
      "\r\n"
     ]
    }
   ],
   "source": [
    "!system_profiler SPSoftwareDataType"
   ]
  },
  {
   "cell_type": "code",
   "execution_count": 3,
   "metadata": {
    "collapsed": false
   },
   "outputs": [
    {
     "name": "stdout",
     "output_type": "stream",
     "text": [
      "\u001b[34m05.22.17_100m_noenz\u001b[m\u001b[m            \u001b[34m05.22.17_55m_noenz\u001b[m\u001b[m\r\n",
      "\u001b[34m05.22.17_100m_tryp\u001b[m\u001b[m             \u001b[34m05.22.17_55m_tryp\u001b[m\u001b[m\r\n",
      "\u001b[34m05.22.17_145m_noenz\u001b[m\u001b[m            \u001b[34m05.22.17_65m_noenz\u001b[m\u001b[m\r\n",
      "\u001b[34m05.22.17_145m_tryp\u001b[m\u001b[m             \u001b[34m05.22.17_65m_tryp\u001b[m\u001b[m\r\n",
      "\u001b[34m05.22.17_160m_noenz\u001b[m\u001b[m            AMBIC2_trypsin_2mzmL_80alc.csv\r\n",
      "\u001b[34m05.22.17_160m_tryp\u001b[m\u001b[m             AMBIC2_trypsin_2mzmL_80alc.txt\r\n",
      "\u001b[34m05.22.17_2500m_noenz\u001b[m\u001b[m           MED2_trypsin_1raw_80alc.csv\r\n",
      "\u001b[34m05.22.17_2500m_tryp\u001b[m\u001b[m            MED2_trypsin_1raw_80alc.txt\r\n",
      "\u001b[34m05.22.17_250m_noenz\u001b[m\u001b[m            \u001b[34mextracted-peptides\u001b[m\u001b[m\r\n",
      "\u001b[34m05.22.17_250m_tryp\u001b[m\u001b[m             \u001b[34mtotal-dn\u001b[m\u001b[m\r\n"
     ]
    }
   ],
   "source": [
    "#i imported the PEAKS output of both tryptic and non tryptic searches of the 05.22.17 run McLane pump samples (GF75, 55m - 2500 m) \n",
    "#into the data directory from Keil GDrive (PEAKS-exports)\n",
    "\n",
    "! ls /Users/meganduffy/Documents/git-repos/2017-etnp/data/05.22.17-peaks/"
   ]
  },
  {
   "cell_type": "code",
   "execution_count": 4,
   "metadata": {
    "collapsed": false
   },
   "outputs": [
    {
     "name": "stdout",
     "output_type": "stream",
     "text": [
      "\u001b[31m05.22.17_100m_db_tryp.csv\u001b[m\u001b[m \u001b[31mDB search psm.csv\u001b[m\u001b[m         \u001b[31mproteins.csv\u001b[m\u001b[m\r\n",
      "\u001b[31m05.22.17_100m_dn_tryp.csv\u001b[m\u001b[m \u001b[31mprotein-peptides.csv\u001b[m\u001b[m\r\n"
     ]
    }
   ],
   "source": [
    "#each contains de novo only, peptide/protein files, total databased ID'd peptides, etc\n",
    "\n",
    "! ls /Users/meganduffy/Documents/git-repos/2017-etnp/data/05.22.17-peaks/05.22.17_100m_tryp"
   ]
  },
  {
   "cell_type": "code",
   "execution_count": 8,
   "metadata": {
    "collapsed": false
   },
   "outputs": [
    {
     "name": "stdout",
     "output_type": "stream",
     "text": [
      "Peptide,-10lgP,Mass,Length,ppm,m/z,RT,Area,Fraction,Scan,Source File,#Spec,Accession,PTM,AScore,Area [F1]\r",
      "\r\n",
      "LAGNYDKVAQEAVDAVYAVHPNGAVGR,121.42,2783.3989,27,2.7,928.8094,86.27,1.45E6,1,28971,20170411_ETNP_129_01.raw,3,ETNP_90m_PROKKA_15075:ETNP_120m_PROKKA_239026:ETNP_100m_particle_PROKKA_144421,,,8.4E6\r",
      "\r\n"
     ]
    }
   ],
   "source": [
    "#pretty sure the peptides are in column 1\n",
    "\n",
    "!head -2 /Users/meganduffy/Documents/git-repos/2017-etnp/data/05.22.17-peaks/05.22.17_100m_tryp/05.22.17_100m_db_tryp.csv"
   ]
  },
  {
   "cell_type": "code",
   "execution_count": 9,
   "metadata": {
    "collapsed": true
   },
   "outputs": [],
   "source": [
    "#using awk to extract column 1 into new file\n",
    "\n",
    "!awk -F \"\\\"*,\\\"*\" '{print $1}' /Users/meganduffy/Documents/git-repos/2017-etnp/data/05.22.17-peaks/05.22.17_100m_tryp/05.22.17_100m_db_tryp.csv \\\n",
    "> /Users/meganduffy/Documents/git-repos/2017-etnp/data/05.22.17-peaks/05.22.17_100m_tryp/05.22.17_100m_db_tryp-peps.csv"
   ]
  },
  {
   "cell_type": "code",
   "execution_count": 12,
   "metadata": {
    "collapsed": false
   },
   "outputs": [
    {
     "name": "stdout",
     "output_type": "stream",
     "text": [
      "Peptide\r\n",
      "LAGNYDKVAQEAVDAVYAVHPNGAVGR\r\n",
      "IVVGGPYSSVSDAASSLDSSQK\r\n",
      "IVVGGPYSSVSDAASVLDGSQK\r\n",
      "TNYFGLQGTDNGNLTNSFAESELERA\r\n",
      "TNYFGIQGTDNGNLTNSFAESELERA\r\n",
      "VAQEAVDAVYAVHPNGAVGR\r\n",
      "GGQPLFFGEGTYANLSQTAR\r\n",
      "QAVSADSSGSFIGGAELASLK\r\n",
      "LAQARPVTQTSSYSGFSYAQVAR\r\n",
      "LAHATIPGFGSFDGSQNVSADGK\r\n",
      "VIAAADSGSRFPSSSDMESVQGAIQR\r\n",
      "VPTPNVSAVDLVFESGR\r\n",
      "TNYFGLQGTDNGNLTNSFAESELER\r\n",
      "TNYFGIQGTDNGNLTNSFAESELER\r\n",
      "NSFEQQGVTATIYGGSM(+15.99)DGK\r\n",
      "Q(-17.03)AVSADSSGSFIGGAELASLK\r\n",
      "FPSSSDMESVQGAIQR\r\n",
      "NIALATVTSASELSEEQQAALQK\r\n",
      "TNQNVGLDPETLALATPAR\r\n"
     ]
    }
   ],
   "source": [
    "!head -20 /Users/meganduffy/Documents/git-repos/2017-etnp/data/05.22.17-peaks/05.22.17_100m_tryp/05.22.17_100m_db_tryp-peps.csv "
   ]
  },
  {
   "cell_type": "code",
   "execution_count": 13,
   "metadata": {
    "collapsed": false
   },
   "outputs": [
    {
     "name": "stdout",
     "output_type": "stream",
     "text": [
      "    3042 /Users/meganduffy/Documents/git-repos/2017-etnp/data/05.22.17-peaks/05.22.17_100m_tryp/05.22.17_100m_db_tryp-peps.csv\r\n"
     ]
    }
   ],
   "source": [
    "!wc -l /Users/meganduffy/Documents/git-repos/2017-etnp/data/05.22.17-peaks/05.22.17_100m_tryp/05.22.17_100m_db_tryp-peps.csv "
   ]
  },
  {
   "cell_type": "code",
   "execution_count": null,
   "metadata": {
    "collapsed": true
   },
   "outputs": [],
   "source": []
  }
 ],
 "metadata": {
  "anaconda-cloud": {},
  "kernelspec": {
   "display_name": "Python [default]",
   "language": "python",
   "name": "python3"
  },
  "language_info": {
   "codemirror_mode": {
    "name": "ipython",
    "version": 3
   },
   "file_extension": ".py",
   "mimetype": "text/x-python",
   "name": "python",
   "nbconvert_exporter": "python",
   "pygments_lexer": "ipython3",
   "version": "3.5.2"
  }
 },
 "nbformat": 4,
 "nbformat_minor": 1
}
