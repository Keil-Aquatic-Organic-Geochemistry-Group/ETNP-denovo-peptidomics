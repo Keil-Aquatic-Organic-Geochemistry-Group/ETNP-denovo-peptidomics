{
 "cells": [
  {
   "cell_type": "code",
   "execution_count": 1,
   "metadata": {
    "collapsed": false
   },
   "outputs": [
    {
     "name": "stdout",
     "output_type": "stream",
     "text": [
      "Tue May 22 10:40:08 PDT 2018\r\n"
     ]
    }
   ],
   "source": [
    "!date"
   ]
  },
  {
   "cell_type": "code",
   "execution_count": 2,
   "metadata": {
    "collapsed": false
   },
   "outputs": [
    {
     "data": {
      "text/plain": [
       "'/Users/meganduffy/Documents/git-repos/2017-etnp/notebooks'"
      ]
     },
     "execution_count": 2,
     "metadata": {},
     "output_type": "execute_result"
    }
   ],
   "source": [
    "pwd"
   ]
  },
  {
   "cell_type": "code",
   "execution_count": 6,
   "metadata": {
    "collapsed": false
   },
   "outputs": [
    {
     "name": "stdout",
     "output_type": "stream",
     "text": [
      "/Users/meganduffy/Documents/git-repos/2017-etnp/data/ja1-ja6\n"
     ]
    }
   ],
   "source": [
    "cd /Users/meganduffy/Documents/git-repos/2017-etnp/data/ja1-ja6/"
   ]
  },
  {
   "cell_type": "code",
   "execution_count": 7,
   "metadata": {
    "collapsed": false
   },
   "outputs": [
    {
     "name": "stdout",
     "output_type": "stream",
     "text": [
      "ja1-dno.txt       ja2-proteins.txt  ja4-proteins.txt  ja6-proteins.txt\r\n",
      "ja1-peps.txt      ja3-dno.txt       ja5-dno.txt\r\n",
      "ja1-proteins.txt  ja3-proteins.txt  ja5-proteins.txt\r\n",
      "ja2-dno.txt       ja4-dno.txt       ja6-dno.txt\r\n"
     ]
    }
   ],
   "source": [
    "ls"
   ]
  },
  {
   "cell_type": "code",
   "execution_count": 13,
   "metadata": {
    "collapsed": false
   },
   "outputs": [],
   "source": [
    "!awk -F \"[()]\" '{ for (i=2; i<NF; i+=2) print $i }' ja1-dno.txt > ja1-dno-mods.txt"
   ]
  },
  {
   "cell_type": "code",
   "execution_count": 14,
   "metadata": {
    "collapsed": false
   },
   "outputs": [
    {
     "name": "stdout",
     "output_type": "stream",
     "text": [
      "+57.02\r\n",
      "+57.02\r\n",
      "+57.02\r\n",
      "+.98\r\n",
      "+.98\r\n",
      "+57.02\r\n",
      "+57.02\r\n",
      "+57.02\r\n",
      "+.98\r\n",
      "+.98\r\n"
     ]
    }
   ],
   "source": [
    "!head ja1-dno-mods.txt"
   ]
  },
  {
   "cell_type": "code",
   "execution_count": 2,
   "metadata": {
    "collapsed": false
   },
   "outputs": [
    {
     "name": "stdout",
     "output_type": "stream",
     "text": [
      "/Users/meganduffy/Documents/git-repos/2017-etnp/data/ja1-ja6\n"
     ]
    }
   ],
   "source": [
    "cd /Users/meganduffy/Documents/git-repos/2017-etnp/data/ja1-ja6/"
   ]
  },
  {
   "cell_type": "code",
   "execution_count": 3,
   "metadata": {
    "collapsed": true
   },
   "outputs": [],
   "source": [
    "# remove '(+15.99)' and '(+57.02)', (+.98) from sequences\n",
    "!sed 's/(+15.99)//g' ja1-dno.txt \\\n",
    "| sed 's/(+57.02)//g'\\\n",
    "| sed 's/(+.98)//g'\\\n",
    "> ja1-dno-nomods.txt"
   ]
  },
  {
   "cell_type": "code",
   "execution_count": 4,
   "metadata": {
    "collapsed": false
   },
   "outputs": [
    {
     "name": "stdout",
     "output_type": "stream",
     "text": [
      "EPAEFYDQK\r\n",
      "CEDEVPR\r\n",
      "EPAEFYDQK\r\n",
      "CEDEVPR\r\n",
      "EPAEFYDQK\r\n",
      "YTAWVEQLK\r\n",
      "LYEEEK\r\n",
      "LASGYDALAQR\r\n",
      "QGLAEDTK\r\n",
      "FLEFLDAK\r\n"
     ]
    }
   ],
   "source": [
    "!head ja1-dno-nomods.txt"
   ]
  },
  {
   "cell_type": "code",
   "execution_count": 5,
   "metadata": {
    "collapsed": true
   },
   "outputs": [],
   "source": [
    "# remove '(+15.99)' and '(+57.02)', (+.98) from sequences\n",
    "!sed 's/(+15.99)//g' ja2-dno.txt \\\n",
    "| sed 's/(+57.02)//g'\\\n",
    "| sed 's/(+.98)//g'\\\n",
    "> ja2-dno-nomods.txt"
   ]
  },
  {
   "cell_type": "code",
   "execution_count": 6,
   "metadata": {
    "collapsed": true
   },
   "outputs": [],
   "source": [
    "# remove '(+15.99)' and '(+57.02)', (+.98) from sequences\n",
    "!sed 's/(+15.99)//g' ja3-dno.txt \\\n",
    "| sed 's/(+57.02)//g'\\\n",
    "| sed 's/(+.98)//g'\\\n",
    "> ja3-dno-nomods.txt"
   ]
  },
  {
   "cell_type": "code",
   "execution_count": 7,
   "metadata": {
    "collapsed": true
   },
   "outputs": [],
   "source": [
    "# remove '(+15.99)' and '(+57.02)', (+.98) from sequences\n",
    "!sed 's/(+15.99)//g' ja4-dno.txt \\\n",
    "| sed 's/(+57.02)//g'\\\n",
    "| sed 's/(+.98)//g'\\\n",
    "> ja4-dno-nomods.txt"
   ]
  },
  {
   "cell_type": "code",
   "execution_count": 8,
   "metadata": {
    "collapsed": true
   },
   "outputs": [],
   "source": [
    "# remove '(+15.99)' and '(+57.02)', (+.98) from sequences\n",
    "!sed 's/(+15.99)//g' ja5-dno.txt \\\n",
    "| sed 's/(+57.02)//g'\\\n",
    "| sed 's/(+.98)//g'\\\n",
    "> ja5-dno-nomods.txt"
   ]
  },
  {
   "cell_type": "code",
   "execution_count": 21,
   "metadata": {
    "collapsed": true
   },
   "outputs": [],
   "source": [
    "# remove '(+15.99)' and '(+57.02)', (+.98) from sequences\n",
    "!sed 's/(+15.99)//g' ja6-dno.txt \\\n",
    "| sed 's/(+57.02)//g'\\\n",
    "| sed 's/(+.98)//g'\\\n",
    "| sed 's/(-1.03)//g'\\\n",
    "> ja6-dno-nomods.txt"
   ]
  },
  {
   "cell_type": "code",
   "execution_count": 10,
   "metadata": {
    "collapsed": true
   },
   "outputs": [],
   "source": [
    "!awk -F \"[()]\" '{ for (i=2; i<NF; i+=2) print $i }' ja2-dno.txt > ja2-dno-mods.txt"
   ]
  },
  {
   "cell_type": "code",
   "execution_count": 11,
   "metadata": {
    "collapsed": true
   },
   "outputs": [],
   "source": [
    "!awk -F \"[()]\" '{ for (i=2; i<NF; i+=2) print $i }' ja3-dno.txt > ja3-dno-mods.txt"
   ]
  },
  {
   "cell_type": "code",
   "execution_count": 12,
   "metadata": {
    "collapsed": true
   },
   "outputs": [],
   "source": [
    "!awk -F \"[()]\" '{ for (i=2; i<NF; i+=2) print $i }' ja4-dno.txt > ja4-dno-mods.txt"
   ]
  },
  {
   "cell_type": "code",
   "execution_count": 13,
   "metadata": {
    "collapsed": true
   },
   "outputs": [],
   "source": [
    "!awk -F \"[()]\" '{ for (i=2; i<NF; i+=2) print $i }' ja5-dno.txt > ja5-dno-mods.txt"
   ]
  },
  {
   "cell_type": "code",
   "execution_count": 14,
   "metadata": {
    "collapsed": true
   },
   "outputs": [],
   "source": [
    "!awk -F \"[()]\" '{ for (i=2; i<NF; i+=2) print $i }' ja6-dno.txt > ja6-dno-mods.txt"
   ]
  },
  {
   "cell_type": "code",
   "execution_count": 15,
   "metadata": {
    "collapsed": false
   },
   "outputs": [
    {
     "name": "stdout",
     "output_type": "stream",
     "text": [
      "    4473    4473   28763 ja1-dno-mods.txt\r\n"
     ]
    }
   ],
   "source": [
    "!wc ja1-dno-mods.txt"
   ]
  },
  {
   "cell_type": "code",
   "execution_count": 16,
   "metadata": {
    "collapsed": false
   },
   "outputs": [
    {
     "name": "stdout",
     "output_type": "stream",
     "text": [
      "    1233    1233    7905 ja2-dno-mods.txt\r\n"
     ]
    }
   ],
   "source": [
    "!wc ja2-dno-mods.txt"
   ]
  },
  {
   "cell_type": "code",
   "execution_count": 17,
   "metadata": {
    "collapsed": false
   },
   "outputs": [
    {
     "name": "stdout",
     "output_type": "stream",
     "text": [
      "    1053    1053    6803 ja3-dno-mods.txt\r\n"
     ]
    }
   ],
   "source": [
    "!wc ja3-dno-mods.txt"
   ]
  },
  {
   "cell_type": "code",
   "execution_count": 18,
   "metadata": {
    "collapsed": false
   },
   "outputs": [
    {
     "name": "stdout",
     "output_type": "stream",
     "text": [
      "    1107    1107    7167 ja4-dno-mods.txt\r\n"
     ]
    }
   ],
   "source": [
    "!wc ja4-dno-mods.txt"
   ]
  },
  {
   "cell_type": "code",
   "execution_count": 19,
   "metadata": {
    "collapsed": false
   },
   "outputs": [
    {
     "name": "stdout",
     "output_type": "stream",
     "text": [
      "     690     690    4486 ja5-dno-mods.txt\r\n"
     ]
    }
   ],
   "source": [
    "!wc ja5-dno-mods.txt"
   ]
  },
  {
   "cell_type": "code",
   "execution_count": 20,
   "metadata": {
    "collapsed": false
   },
   "outputs": [
    {
     "name": "stdout",
     "output_type": "stream",
     "text": [
      "     781     781    4768 ja6-dno-mods.txt\r\n"
     ]
    }
   ],
   "source": [
    "!wc ja6-dno-mods.txt"
   ]
  },
  {
   "cell_type": "code",
   "execution_count": 1,
   "metadata": {
    "collapsed": false
   },
   "outputs": [
    {
     "data": {
      "text/plain": [
       "'/Users/meganduffy/Documents/git-repos/2017-etnp/notebooks'"
      ]
     },
     "execution_count": 1,
     "metadata": {},
     "output_type": "execute_result"
    }
   ],
   "source": [
    "pwd"
   ]
  },
  {
   "cell_type": "code",
   "execution_count": 4,
   "metadata": {
    "collapsed": false
   },
   "outputs": [
    {
     "name": "stdout",
     "output_type": "stream",
     "text": [
      "/Users/meganduffy/Documents/git-repos/2017-etnp/data/ja9-ja16/peptides\n"
     ]
    }
   ],
   "source": [
    "cd /Users/meganduffy/Documents/git-repos/2017-etnp/data/ja9-ja16/peptides"
   ]
  },
  {
   "cell_type": "code",
   "execution_count": 5,
   "metadata": {
    "collapsed": false
   },
   "outputs": [
    {
     "name": "stdout",
     "output_type": "stream",
     "text": [
      "ja14-dno.txt\r\n"
     ]
    }
   ],
   "source": [
    "ls"
   ]
  },
  {
   "cell_type": "code",
   "execution_count": 6,
   "metadata": {
    "collapsed": false
   },
   "outputs": [
    {
     "name": "stdout",
     "output_type": "stream",
     "text": [
      "TSGEVFR\r\n",
      "M(+15.99)EAYC(+57.02)VK\r\n",
      "SALEDVK\r\n",
      "M(+15.99)GKLFR\r\n",
      "TWTLSR\r\n",
      "EPLLESK\r\n",
      "AANEVVR\r\n",
      "KEVFNK\r\n",
      "NLDLER\r\n",
      "VTDAELAEVELR\r\n"
     ]
    }
   ],
   "source": [
    "! head ja14-dno.txt"
   ]
  },
  {
   "cell_type": "code",
   "execution_count": 7,
   "metadata": {
    "collapsed": true
   },
   "outputs": [],
   "source": [
    "!awk -F \"[()]\" '{ for (i=2; i<NF; i+=2) print $i }' ja14-dno.txt > ja14-dno-mods.txt"
   ]
  },
  {
   "cell_type": "code",
   "execution_count": 8,
   "metadata": {
    "collapsed": false
   },
   "outputs": [
    {
     "name": "stdout",
     "output_type": "stream",
     "text": [
      "TSGEVFR\r\n",
      "M(+15.99)EAYC(+57.02)VK\r\n",
      "SALEDVK\r\n",
      "M(+15.99)GKLFR\r\n",
      "TWTLSR\r\n",
      "EPLLESK\r\n",
      "AANEVVR\r\n",
      "KEVFNK\r\n",
      "NLDLER\r\n",
      "VTDAELAEVELR\r\n"
     ]
    }
   ],
   "source": [
    "! head ja14-dno.txt"
   ]
  },
  {
   "cell_type": "code",
   "execution_count": 9,
   "metadata": {
    "collapsed": true
   },
   "outputs": [],
   "source": [
    "# remove '(+15.99)' and '(+57.02)', (+.98) from sequences\n",
    "!sed 's/(+15.99)//g' ja14-dno.txt \\\n",
    "| sed 's/(+57.02)//g'\\\n",
    "| sed 's/(+.98)//g'\\\n",
    "| sed 's/(-1.03)//g'\\\n",
    "> ja14-dno-nomods.txt"
   ]
  },
  {
   "cell_type": "code",
   "execution_count": 10,
   "metadata": {
    "collapsed": false
   },
   "outputs": [
    {
     "name": "stdout",
     "output_type": "stream",
     "text": [
      "TSGEVFR\r\n",
      "MEAYCVK\r\n",
      "SALEDVK\r\n",
      "MGKLFR\r\n",
      "TWTLSR\r\n",
      "EPLLESK\r\n",
      "AANEVVR\r\n",
      "KEVFNK\r\n",
      "NLDLER\r\n",
      "VTDAELAEVELR\r\n"
     ]
    }
   ],
   "source": [
    "! head ja14-dno-nomods.txt"
   ]
  },
  {
   "cell_type": "code",
   "execution_count": 11,
   "metadata": {
    "collapsed": false
   },
   "outputs": [
    {
     "name": "stdout",
     "output_type": "stream",
     "text": [
      "     125     125    1106 ja14-dno-nomods.txt\r\n"
     ]
    }
   ],
   "source": [
    "!wc ja14-dno-nomods.txt"
   ]
  },
  {
   "cell_type": "code",
   "execution_count": null,
   "metadata": {
    "collapsed": true
   },
   "outputs": [],
   "source": []
  }
 ],
 "metadata": {
  "anaconda-cloud": {},
  "kernelspec": {
   "display_name": "Python [default]",
   "language": "python",
   "name": "python3"
  },
  "language_info": {
   "codemirror_mode": {
    "name": "ipython",
    "version": 3
   },
   "file_extension": ".py",
   "mimetype": "text/x-python",
   "name": "python",
   "nbconvert_exporter": "python",
   "pygments_lexer": "ipython3",
   "version": "3.5.2"
  }
 },
 "nbformat": 4,
 "nbformat_minor": 1
}
