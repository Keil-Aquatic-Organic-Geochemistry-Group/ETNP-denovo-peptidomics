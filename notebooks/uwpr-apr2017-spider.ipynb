{
 "cells": [
  {
   "cell_type": "code",
   "execution_count": 1,
   "metadata": {
    "collapsed": false
   },
   "outputs": [
    {
     "name": "stdout",
     "output_type": "stream",
     "text": [
      "Wed Aug  7 14:18:22 PDT 2019\r\n"
     ]
    }
   ],
   "source": [
    "!date"
   ]
  },
  {
   "cell_type": "markdown",
   "metadata": {},
   "source": [
    "### Notebook to process PEAKS 8.5 SPIDER runs for April 2017 UWPR samples.\n",
    "### Starting with samples relevant to De Novo paper, 231 and 233 (JA2 and JA4, 100 m and 265 m sus).\n",
    "### Exported the results of PEAKS 8.5 searches into Git ETNP 2017 data directory.\n",
    "### Database ID'd peptides are in `running#-peaks#-spider-peptide.csv` files and de novo only peptides are in `running#-peaks#-spider-dno.csv`.\n",
    "### SPIDER modifications are only in `peptide` files."
   ]
  },
  {
   "cell_type": "code",
   "execution_count": 4,
   "metadata": {
    "collapsed": false
   },
   "outputs": [
    {
     "name": "stdout",
     "output_type": "stream",
     "text": [
      "231-spider99-DB-search-psm.csv    231-spider99-protein-peptides.csv\r\n",
      "231-spider99-dno.csv              231-spider99-proteins.csv\r\n",
      "231-spider99-peptide.csv          231-spider99-proteins.fasta\r\n"
     ]
    }
   ],
   "source": [
    "! ls /Users/meganduffy/Documents/git-repos/2017-etnp/data/uwpr-apr2017/UWPR-Apr2017-SPIDER/231-100m-ETNP_SPIDER_99/"
   ]
  },
  {
   "cell_type": "markdown",
   "metadata": {},
   "source": [
    "### Starting with sample 231: ETNP 2017 P2 McLane GF75 100 m"
   ]
  },
  {
   "cell_type": "code",
   "execution_count": 5,
   "metadata": {
    "collapsed": true
   },
   "outputs": [],
   "source": [
    "import os"
   ]
  },
  {
   "cell_type": "code",
   "execution_count": 6,
   "metadata": {
    "collapsed": false
   },
   "outputs": [
    {
     "data": {
      "text/plain": [
       "'/Users/meganduffy/Documents/git-repos/2017-etnp/notebooks'"
      ]
     },
     "execution_count": 6,
     "metadata": {},
     "output_type": "execute_result"
    }
   ],
   "source": [
    "os.getcwd()"
   ]
  },
  {
   "cell_type": "code",
   "execution_count": 8,
   "metadata": {
    "collapsed": false
   },
   "outputs": [],
   "source": [
    "import pandas as pd"
   ]
  },
  {
   "cell_type": "code",
   "execution_count": 9,
   "metadata": {
    "collapsed": false
   },
   "outputs": [
    {
     "data": {
      "text/plain": [
       "'0.18.1'"
      ]
     },
     "execution_count": 9,
     "metadata": {},
     "output_type": "execute_result"
    }
   ],
   "source": [
    "pd.__version__"
   ]
  },
  {
   "cell_type": "code",
   "execution_count": 10,
   "metadata": {
    "collapsed": true
   },
   "outputs": [],
   "source": [
    "data = pd.read_csv(\"/Users/meganduffy/Documents/git-repos/2017-etnp/data/uwpr-apr2017/UWPR-Apr2017-SPIDER/231-100m-ETNP_SPIDER_99/231-spider99-peptide.csv\")"
   ]
  },
  {
   "cell_type": "code",
   "execution_count": 11,
   "metadata": {
    "collapsed": false
   },
   "outputs": [
    {
     "data": {
      "text/html": [
       "<div>\n",
       "<table border=\"1\" class=\"dataframe\">\n",
       "  <thead>\n",
       "    <tr style=\"text-align: right;\">\n",
       "      <th></th>\n",
       "      <th>Peptide</th>\n",
       "      <th>-10lgP</th>\n",
       "      <th>Mass</th>\n",
       "      <th>Length</th>\n",
       "      <th>ppm</th>\n",
       "      <th>m/z</th>\n",
       "      <th>RT</th>\n",
       "      <th>Area etnp-ja02-20170410</th>\n",
       "      <th>Fraction</th>\n",
       "      <th>Scan</th>\n",
       "      <th>Source File</th>\n",
       "      <th>#Spec</th>\n",
       "      <th>#Spec etnp-ja02-20170410</th>\n",
       "      <th>Accession</th>\n",
       "      <th>PTM</th>\n",
       "      <th>AScore</th>\n",
       "    </tr>\n",
       "  </thead>\n",
       "  <tbody>\n",
       "    <tr>\n",
       "      <th>0</th>\n",
       "      <td>IVVGGPYSSVSDAASSLDSSQK</td>\n",
       "      <td>100.98</td>\n",
       "      <td>2153.0488</td>\n",
       "      <td>22</td>\n",
       "      <td>2.7</td>\n",
       "      <td>1077.5345</td>\n",
       "      <td>71.78</td>\n",
       "      <td>25300000.0</td>\n",
       "      <td>2</td>\n",
       "      <td>23179</td>\n",
       "      <td>20170410_JA2_01.raw</td>\n",
       "      <td>6</td>\n",
       "      <td>6</td>\n",
       "      <td>ETNP_90:ETNP_100:ETNP_120:ETNP_140:ETNP_160:ET...</td>\n",
       "      <td>NaN</td>\n",
       "      <td>NaN</td>\n",
       "    </tr>\n",
       "    <tr>\n",
       "      <th>1</th>\n",
       "      <td>AIQQQIENPLAQQILSGELVPGK</td>\n",
       "      <td>97.16</td>\n",
       "      <td>2473.3540</td>\n",
       "      <td>23</td>\n",
       "      <td>3.6</td>\n",
       "      <td>1237.6887</td>\n",
       "      <td>98.28</td>\n",
       "      <td>25900000.0</td>\n",
       "      <td>2</td>\n",
       "      <td>34897</td>\n",
       "      <td>20170410_JA2_01.raw</td>\n",
       "      <td>7</td>\n",
       "      <td>7</td>\n",
       "      <td>54036848</td>\n",
       "      <td>NaN</td>\n",
       "      <td>NaN</td>\n",
       "    </tr>\n",
       "    <tr>\n",
       "      <th>2</th>\n",
       "      <td>IVVGGPYSSVSDAASVLDGSQK</td>\n",
       "      <td>97.11</td>\n",
       "      <td>2135.0745</td>\n",
       "      <td>22</td>\n",
       "      <td>1.6</td>\n",
       "      <td>1068.5463</td>\n",
       "      <td>82.14</td>\n",
       "      <td>20600000.0</td>\n",
       "      <td>2</td>\n",
       "      <td>28172</td>\n",
       "      <td>20170410_JA2_01.raw</td>\n",
       "      <td>7</td>\n",
       "      <td>7</td>\n",
       "      <td>ETNP_120:ETNP_90:ETNP_100</td>\n",
       "      <td>NaN</td>\n",
       "      <td>NaN</td>\n",
       "    </tr>\n",
       "    <tr>\n",
       "      <th>3</th>\n",
       "      <td>LPQVEGTGGDVQPSQDLVR</td>\n",
       "      <td>96.10</td>\n",
       "      <td>1994.0068</td>\n",
       "      <td>19</td>\n",
       "      <td>0.0</td>\n",
       "      <td>998.0107</td>\n",
       "      <td>61.72</td>\n",
       "      <td>237000000.0</td>\n",
       "      <td>2</td>\n",
       "      <td>18917</td>\n",
       "      <td>20170410_JA2_01.raw</td>\n",
       "      <td>13</td>\n",
       "      <td>13</td>\n",
       "      <td>54036848</td>\n",
       "      <td>NaN</td>\n",
       "      <td>NaN</td>\n",
       "    </tr>\n",
       "    <tr>\n",
       "      <th>4</th>\n",
       "      <td>QAVSADSSGSFIGGAELASLK</td>\n",
       "      <td>89.92</td>\n",
       "      <td>1993.9956</td>\n",
       "      <td>21</td>\n",
       "      <td>1.0</td>\n",
       "      <td>998.0060</td>\n",
       "      <td>81.22</td>\n",
       "      <td>6280000.0</td>\n",
       "      <td>2</td>\n",
       "      <td>27723</td>\n",
       "      <td>20170410_JA2_01.raw</td>\n",
       "      <td>7</td>\n",
       "      <td>7</td>\n",
       "      <td>ETNP_120:ETNP_90</td>\n",
       "      <td>NaN</td>\n",
       "      <td>NaN</td>\n",
       "    </tr>\n",
       "  </tbody>\n",
       "</table>\n",
       "</div>"
      ],
      "text/plain": [
       "                   Peptide  -10lgP       Mass  Length  ppm        m/z     RT  \\\n",
       "0   IVVGGPYSSVSDAASSLDSSQK  100.98  2153.0488      22  2.7  1077.5345  71.78   \n",
       "1  AIQQQIENPLAQQILSGELVPGK   97.16  2473.3540      23  3.6  1237.6887  98.28   \n",
       "2   IVVGGPYSSVSDAASVLDGSQK   97.11  2135.0745      22  1.6  1068.5463  82.14   \n",
       "3      LPQVEGTGGDVQPSQDLVR   96.10  1994.0068      19  0.0   998.0107  61.72   \n",
       "4    QAVSADSSGSFIGGAELASLK   89.92  1993.9956      21  1.0   998.0060  81.22   \n",
       "\n",
       "   Area etnp-ja02-20170410  Fraction   Scan          Source File  #Spec  \\\n",
       "0               25300000.0         2  23179  20170410_JA2_01.raw      6   \n",
       "1               25900000.0         2  34897  20170410_JA2_01.raw      7   \n",
       "2               20600000.0         2  28172  20170410_JA2_01.raw      7   \n",
       "3              237000000.0         2  18917  20170410_JA2_01.raw     13   \n",
       "4                6280000.0         2  27723  20170410_JA2_01.raw      7   \n",
       "\n",
       "   #Spec etnp-ja02-20170410  \\\n",
       "0                         6   \n",
       "1                         7   \n",
       "2                         7   \n",
       "3                        13   \n",
       "4                         7   \n",
       "\n",
       "                                           Accession  PTM AScore  \n",
       "0  ETNP_90:ETNP_100:ETNP_120:ETNP_140:ETNP_160:ET...  NaN    NaN  \n",
       "1                                           54036848  NaN    NaN  \n",
       "2                          ETNP_120:ETNP_90:ETNP_100  NaN    NaN  \n",
       "3                                           54036848  NaN    NaN  \n",
       "4                                   ETNP_120:ETNP_90  NaN    NaN  "
      ]
     },
     "execution_count": 11,
     "metadata": {},
     "output_type": "execute_result"
    }
   ],
   "source": [
    "data.head()"
   ]
  },
  {
   "cell_type": "code",
   "execution_count": 12,
   "metadata": {
    "collapsed": true
   },
   "outputs": [],
   "source": [
    "# Keep only peptide column\n",
    "pep = data[[\"Peptide\"]]"
   ]
  },
  {
   "cell_type": "code",
   "execution_count": 13,
   "metadata": {
    "collapsed": false
   },
   "outputs": [
    {
     "data": {
      "text/html": [
       "<div>\n",
       "<table border=\"1\" class=\"dataframe\">\n",
       "  <thead>\n",
       "    <tr style=\"text-align: right;\">\n",
       "      <th></th>\n",
       "      <th>Peptide</th>\n",
       "    </tr>\n",
       "  </thead>\n",
       "  <tbody>\n",
       "    <tr>\n",
       "      <th>0</th>\n",
       "      <td>IVVGGPYSSVSDAASSLDSSQK</td>\n",
       "    </tr>\n",
       "    <tr>\n",
       "      <th>1</th>\n",
       "      <td>AIQQQIENPLAQQILSGELVPGK</td>\n",
       "    </tr>\n",
       "    <tr>\n",
       "      <th>2</th>\n",
       "      <td>IVVGGPYSSVSDAASVLDGSQK</td>\n",
       "    </tr>\n",
       "    <tr>\n",
       "      <th>3</th>\n",
       "      <td>LPQVEGTGGDVQPSQDLVR</td>\n",
       "    </tr>\n",
       "    <tr>\n",
       "      <th>4</th>\n",
       "      <td>QAVSADSSGSFIGGAELASLK</td>\n",
       "    </tr>\n",
       "  </tbody>\n",
       "</table>\n",
       "</div>"
      ],
      "text/plain": [
       "                   Peptide\n",
       "0   IVVGGPYSSVSDAASSLDSSQK\n",
       "1  AIQQQIENPLAQQILSGELVPGK\n",
       "2   IVVGGPYSSVSDAASVLDGSQK\n",
       "3      LPQVEGTGGDVQPSQDLVR\n",
       "4    QAVSADSSGSFIGGAELASLK"
      ]
     },
     "execution_count": 13,
     "metadata": {},
     "output_type": "execute_result"
    }
   ],
   "source": [
    "pep.head()"
   ]
  },
  {
   "cell_type": "code",
   "execution_count": 19,
   "metadata": {
    "collapsed": true
   },
   "outputs": [],
   "source": [
    "# Write altered dataframe to new csv file\n",
    "# Used header and index parameters to get rid of 'Peptide' header and the indexing\n",
    "\n",
    "pep.to_csv(\"/Users/meganduffy/Documents/git-repos/2017-etnp/data/uwpr-apr2017/UWPR-Apr2017-SPIDER/231-100m-ETNP_SPIDER_99/231-peaks99-spider-peps.csv\", header=False, index=False)"
   ]
  },
  {
   "cell_type": "code",
   "execution_count": 18,
   "metadata": {
    "collapsed": true
   },
   "outputs": [],
   "source": [
    "# Write altered dataframe to new txt file\n",
    "# Used header and index parameters to get rid of 'Peptide' header and the indexing\n",
    "\n",
    "pep.to_csv(\"/Users/meganduffy/Documents/git-repos/2017-etnp/data/uwpr-apr2017/UWPR-Apr2017-SPIDER/231-100m-ETNP_SPIDER_99/231-peaks99-spider-peps.txt\", header=False, index=False)"
   ]
  },
  {
   "cell_type": "code",
   "execution_count": 20,
   "metadata": {
    "collapsed": false
   },
   "outputs": [
    {
     "name": "stdout",
     "output_type": "stream",
     "text": [
      "IVVGGPYSSVSDAASSLDSSQK\r\n",
      "AIQQQIENPLAQQILSGELVPGK\r\n",
      "IVVGGPYSSVSDAASVLDGSQK\r\n",
      "LPQVEGTGGDVQPSQDLVR\r\n",
      "QAVSADSSGSFIGGAELASLK\r\n",
      "LGEHNIDVLEGNEQFINAAK\r\n",
      "TNYFGIQGTDNGNLTNSFAESELER\r\n",
      "TNYFGLQGTDNGNLTNSFAESELER\r\n",
      "AGAGDDEVNAGSGDDIVR\r\n",
      "IVVGGPYSSVSDASSGLDGSQK\r\n"
     ]
    }
   ],
   "source": [
    "!head /Users/meganduffy/Documents/git-repos/2017-etnp/data/uwpr-apr2017/UWPR-Apr2017-SPIDER/231-100m-ETNP_SPIDER_99/231-peaks99-spider-peps.txt"
   ]
  },
  {
   "cell_type": "code",
   "execution_count": 25,
   "metadata": {
    "collapsed": true
   },
   "outputs": [],
   "source": [
    "# Removes all characters in parentheses and saves as new file\n",
    "\n",
    "!awk -F \"[()]\" '{ for (i=2; i<NF; i+=2) print $i }' /Users/meganduffy/Documents/git-repos/2017-etnp/data/uwpr-apr2017/UWPR-Apr2017-SPIDER/231-100m-ETNP_SPIDER_99/231-peaks99-spider-peps.txt > /Users/meganduffy/Documents/git-repos/2017-etnp/data/uwpr-apr2017/UWPR-Apr2017-SPIDER/231-100m-ETNP_SPIDER_99/231-peaks99-spider-mods.txt"
   ]
  },
  {
   "cell_type": "code",
   "execution_count": 27,
   "metadata": {
    "collapsed": false
   },
   "outputs": [
    {
     "name": "stdout",
     "output_type": "stream",
     "text": [
      "+57.02\r\n",
      "+57.02\r\n",
      "+28.03\r\n",
      "+57.02\r\n",
      "+15.99\r\n",
      "+.98\r\n",
      "+21.98\r\n",
      "-15.99\r\n",
      "+21.98\r\n",
      "+21.98\r\n"
     ]
    }
   ],
   "source": [
    "# How does the modifications text file look?\n",
    "\n",
    "!head /Users/meganduffy/Documents/git-repos/2017-etnp/data/uwpr-apr2017/UWPR-Apr2017-SPIDER/231-100m-ETNP_SPIDER_99/231-peaks99-spider-mods.txt "
   ]
  },
  {
   "cell_type": "code",
   "execution_count": 31,
   "metadata": {
    "collapsed": false
   },
   "outputs": [
    {
     "name": "stdout",
     "output_type": "stream",
     "text": [
      "     582 /Users/meganduffy/Documents/git-repos/2017-etnp/data/uwpr-apr2017/UWPR-Apr2017-SPIDER/231-100m-ETNP_SPIDER_99/231-peaks99-spider-mods.txt\r\n"
     ]
    }
   ],
   "source": [
    "# How many modifications for this sample?\n",
    "\n",
    "!wc -l /Users/meganduffy/Documents/git-repos/2017-etnp/data/uwpr-apr2017/UWPR-Apr2017-SPIDER/231-100m-ETNP_SPIDER_99/231-peaks99-spider-mods.txt"
   ]
  },
  {
   "cell_type": "code",
   "execution_count": 32,
   "metadata": {
    "collapsed": false
   },
   "outputs": [
    {
     "name": "stdout",
     "output_type": "stream",
     "text": [
      "    2220 /Users/meganduffy/Documents/git-repos/2017-etnp/data/uwpr-apr2017/UWPR-Apr2017-SPIDER/231-100m-ETNP_SPIDER_99/231-peaks99-spider-peps.txt\r\n"
     ]
    }
   ],
   "source": [
    "# Compared with how many total peptides?\n",
    "\n",
    "!wc -l /Users/meganduffy/Documents/git-repos/2017-etnp/data/uwpr-apr2017/UWPR-Apr2017-SPIDER/231-100m-ETNP_SPIDER_99/231-peaks99-spider-peps.txt"
   ]
  },
  {
   "cell_type": "code",
   "execution_count": 33,
   "metadata": {
    "collapsed": false
   },
   "outputs": [
    {
     "data": {
      "text/plain": [
       "0.26216216216216215"
      ]
     },
     "execution_count": 33,
     "metadata": {},
     "output_type": "execute_result"
    }
   ],
   "source": [
    "# What's the percentage of modified peptides for this sample?\n",
    "\n",
    "582/2220"
   ]
  },
  {
   "cell_type": "code",
   "execution_count": 28,
   "metadata": {
    "collapsed": true
   },
   "outputs": [],
   "source": [
    "# Keep only peptide column\n",
    "ptm = data[[\"PTM\"]]"
   ]
  },
  {
   "cell_type": "code",
   "execution_count": 29,
   "metadata": {
    "collapsed": false
   },
   "outputs": [
    {
     "data": {
      "text/html": [
       "<div>\n",
       "<table border=\"1\" class=\"dataframe\">\n",
       "  <thead>\n",
       "    <tr style=\"text-align: right;\">\n",
       "      <th></th>\n",
       "      <th>PTM</th>\n",
       "    </tr>\n",
       "  </thead>\n",
       "  <tbody>\n",
       "    <tr>\n",
       "      <th>0</th>\n",
       "      <td>NaN</td>\n",
       "    </tr>\n",
       "    <tr>\n",
       "      <th>1</th>\n",
       "      <td>NaN</td>\n",
       "    </tr>\n",
       "    <tr>\n",
       "      <th>2</th>\n",
       "      <td>NaN</td>\n",
       "    </tr>\n",
       "    <tr>\n",
       "      <th>3</th>\n",
       "      <td>NaN</td>\n",
       "    </tr>\n",
       "    <tr>\n",
       "      <th>4</th>\n",
       "      <td>NaN</td>\n",
       "    </tr>\n",
       "  </tbody>\n",
       "</table>\n",
       "</div>"
      ],
      "text/plain": [
       "   PTM\n",
       "0  NaN\n",
       "1  NaN\n",
       "2  NaN\n",
       "3  NaN\n",
       "4  NaN"
      ]
     },
     "execution_count": 29,
     "metadata": {},
     "output_type": "execute_result"
    }
   ],
   "source": [
    "ptm.head()"
   ]
  },
  {
   "cell_type": "code",
   "execution_count": 36,
   "metadata": {
    "collapsed": true
   },
   "outputs": [],
   "source": [
    "# Write altered dataframe to new txt file\n",
    "# Used header and index parameters to get rid of 'PTM' header and the indexing\n",
    "\n",
    "ptm.to_csv(\"/Users/meganduffy/Documents/git-repos/2017-etnp/data/uwpr-apr2017/UWPR-Apr2017-SPIDER/231-100m-ETNP_SPIDER_99/231-peaks99-spider-ptm.txt\", header=False, index=False)"
   ]
  },
  {
   "cell_type": "code",
   "execution_count": 38,
   "metadata": {
    "collapsed": false
   },
   "outputs": [
    {
     "name": "stdout",
     "output_type": "stream",
     "text": [
      "\"\"\r\n",
      "\r\n",
      "\r\n",
      "\r\n",
      "\r\n",
      "\r\n",
      "\r\n",
      "\r\n",
      "\r\n",
      "\r\n"
     ]
    }
   ],
   "source": [
    "!head /Users/meganduffy/Documents/git-repos/2017-etnp/data/uwpr-apr2017/UWPR-Apr2017-SPIDER/231-100m-ETNP_SPIDER_99/231-peaks99-spider-ptm.txt"
   ]
  },
  {
   "cell_type": "code",
   "execution_count": 39,
   "metadata": {
    "collapsed": false
   },
   "outputs": [
    {
     "name": "stdout",
     "output_type": "stream",
     "text": [
      "231-peaks99-spider-mods.txt       231-spider99-dno.csv\r\n",
      "231-peaks99-spider-nomods.txt     231-spider99-peptide.csv\r\n",
      "231-peaks99-spider-peps.csv       231-spider99-protein-peptides.csv\r\n",
      "231-peaks99-spider-peps.txt       231-spider99-proteins.csv\r\n",
      "231-peaks99-spider-ptm.txt        231-spider99-proteins.fasta\r\n",
      "231-spider99-DB-search-psm.csv\r\n"
     ]
    }
   ],
   "source": [
    "!ls /Users/meganduffy/Documents/git-repos/2017-etnp/data/uwpr-apr2017/UWPR-Apr2017-SPIDER/231-100m-ETNP_SPIDER_99/"
   ]
  },
  {
   "cell_type": "markdown",
   "metadata": {},
   "source": [
    "### Moving on to sample 233: ETNP 2017 P2 McLane GF75 265 m"
   ]
  },
  {
   "cell_type": "code",
   "execution_count": null,
   "metadata": {
    "collapsed": true
   },
   "outputs": [],
   "source": []
  }
 ],
 "metadata": {
  "anaconda-cloud": {},
  "kernelspec": {
   "display_name": "Python [default]",
   "language": "python",
   "name": "python3"
  },
  "language_info": {
   "codemirror_mode": {
    "name": "ipython",
    "version": 3
   },
   "file_extension": ".py",
   "mimetype": "text/x-python",
   "name": "python",
   "nbconvert_exporter": "python",
   "pygments_lexer": "ipython3",
   "version": "3.5.2"
  }
 },
 "nbformat": 4,
 "nbformat_minor": 1
}
