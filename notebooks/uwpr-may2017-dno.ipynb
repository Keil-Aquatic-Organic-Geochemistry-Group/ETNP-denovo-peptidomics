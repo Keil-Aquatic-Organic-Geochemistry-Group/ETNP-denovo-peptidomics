{
 "cells": [
  {
   "cell_type": "code",
   "execution_count": 1,
   "metadata": {
    "collapsed": false
   },
   "outputs": [
    {
     "name": "stdout",
     "output_type": "stream",
     "text": [
      "Tue Jun  4 15:41:10 PDT 2019\r\n"
     ]
    }
   ],
   "source": [
    "!date"
   ]
  },
  {
   "cell_type": "code",
   "execution_count": 2,
   "metadata": {
    "collapsed": false
   },
   "outputs": [
    {
     "name": "stdout",
     "output_type": "stream",
     "text": [
      "Software:\r\n",
      "\r\n",
      "    System Software Overview:\r\n",
      "\r\n",
      "      System Version: macOS 10.14.5 (18F132)\r\n",
      "      Kernel Version: Darwin 18.6.0\r\n",
      "      Boot Volume: Macintosh HD\r\n",
      "      Boot Mode: Normal\r\n",
      "      Computer Name: Megan’s MacBook Pro (2)\r\n",
      "      User Name: Megan Duffy (meganduffy)\r\n",
      "      Secure Virtual Memory: Enabled\r\n",
      "      System Integrity Protection: Enabled\r\n",
      "      Time since boot: 13 days 5:00\r\n",
      "\r\n"
     ]
    }
   ],
   "source": [
    "!system_profiler SPSoftwareDataType"
   ]
  },
  {
   "cell_type": "markdown",
   "metadata": {},
   "source": [
    "### Notebook to document text extraction and editing of UWPR May 2017 ETNP 2017\n",
    "### (JA9-14 McLane samples - 238 thu 245) de novo only peptides\n",
    "\n",
    "#### Exported the results of PEAKS 8.5 searches into Git ETNP 2017 data directory:\n"
   ]
  },
  {
   "cell_type": "code",
   "execution_count": 5,
   "metadata": {
    "collapsed": false
   },
   "outputs": [
    {
     "name": "stdout",
     "output_type": "stream",
     "text": [
      "243-peaks37-DB-search-psm.csv    243-peaks37-protein-peptides.csv\r\n",
      "243-peaks37-dno.csv              243-peaks37-proteins.csv\r\n",
      "243-peaks37-peptide.csv          243-peaks37-proteins.fasta\r\n"
     ]
    }
   ],
   "source": [
    "!ls /Users/meganduffy/Documents/git-repos/2017-etnp/data/uwpr-may2017/UWPR_May2017_243-965m-gf75-ETNP_PEAKS_37/"
   ]
  },
  {
   "cell_type": "code",
   "execution_count": 6,
   "metadata": {
    "collapsed": true
   },
   "outputs": [],
   "source": [
    "import os"
   ]
  },
  {
   "cell_type": "code",
   "execution_count": 7,
   "metadata": {
    "collapsed": false
   },
   "outputs": [
    {
     "data": {
      "text/plain": [
       "'/Users/meganduffy/Documents/git-repos/2017-etnp/notebooks'"
      ]
     },
     "execution_count": 7,
     "metadata": {},
     "output_type": "execute_result"
    }
   ],
   "source": [
    "os.getcwd()"
   ]
  },
  {
   "cell_type": "code",
   "execution_count": 8,
   "metadata": {
    "collapsed": true
   },
   "outputs": [],
   "source": [
    "import pandas as pd "
   ]
  },
  {
   "cell_type": "code",
   "execution_count": 9,
   "metadata": {
    "collapsed": false
   },
   "outputs": [
    {
     "data": {
      "text/plain": [
       "'0.18.1'"
      ]
     },
     "execution_count": 9,
     "metadata": {},
     "output_type": "execute_result"
    }
   ],
   "source": [
    "pd.__version__"
   ]
  },
  {
   "cell_type": "code",
   "execution_count": 11,
   "metadata": {
    "collapsed": false
   },
   "outputs": [],
   "source": [
    "data = pd.read_csv(\"/Users/meganduffy/Documents/git-repos/2017-etnp/data/uwpr-may2017/UWPR_May2017_243-965m-gf75-ETNP_PEAKS_37/243-peaks37-dno.csv\")"
   ]
  },
  {
   "cell_type": "code",
   "execution_count": 12,
   "metadata": {
    "collapsed": false
   },
   "outputs": [
    {
     "data": {
      "text/html": [
       "<div>\n",
       "<table border=\"1\" class=\"dataframe\">\n",
       "  <thead>\n",
       "    <tr style=\"text-align: right;\">\n",
       "      <th></th>\n",
       "      <th>Fraction</th>\n",
       "      <th>Scan</th>\n",
       "      <th>Source File</th>\n",
       "      <th>Peptide</th>\n",
       "      <th>Tag Length</th>\n",
       "      <th>ALC (%)</th>\n",
       "      <th>length</th>\n",
       "      <th>m/z</th>\n",
       "      <th>z</th>\n",
       "      <th>RT</th>\n",
       "      <th>Area</th>\n",
       "      <th>Mass</th>\n",
       "      <th>ppm</th>\n",
       "      <th>Accession</th>\n",
       "      <th>PTM</th>\n",
       "      <th>local confidence (%)</th>\n",
       "      <th>tag (&gt;=0%)</th>\n",
       "      <th>mode</th>\n",
       "    </tr>\n",
       "  </thead>\n",
       "  <tbody>\n",
       "    <tr>\n",
       "      <th>0</th>\n",
       "      <td>6</td>\n",
       "      <td>10148</td>\n",
       "      <td>20170531_ETNP_JA14_01.raw</td>\n",
       "      <td>TSGEVFR</td>\n",
       "      <td>7</td>\n",
       "      <td>98</td>\n",
       "      <td>7</td>\n",
       "      <td>398.2039</td>\n",
       "      <td>2</td>\n",
       "      <td>36.30</td>\n",
       "      <td>285000.0</td>\n",
       "      <td>794.3923</td>\n",
       "      <td>1.3</td>\n",
       "      <td>NaN</td>\n",
       "      <td>NaN</td>\n",
       "      <td>99 100 95 99 97 98 99</td>\n",
       "      <td>TSGEVFR</td>\n",
       "      <td>CID</td>\n",
       "    </tr>\n",
       "    <tr>\n",
       "      <th>1</th>\n",
       "      <td>6</td>\n",
       "      <td>8910</td>\n",
       "      <td>20170531_ETNP_JA14_01.raw</td>\n",
       "      <td>M(+15.99)EAYC(+57.02)VK</td>\n",
       "      <td>7</td>\n",
       "      <td>98</td>\n",
       "      <td>7</td>\n",
       "      <td>458.6999</td>\n",
       "      <td>2</td>\n",
       "      <td>32.06</td>\n",
       "      <td>465000.0</td>\n",
       "      <td>915.3830</td>\n",
       "      <td>2.4</td>\n",
       "      <td>NaN</td>\n",
       "      <td>Oxidation (M); Carbamidomethylation</td>\n",
       "      <td>96 99 100 99 97 97 98</td>\n",
       "      <td>M(+15.99)EAYC(+57.02)VK</td>\n",
       "      <td>CID</td>\n",
       "    </tr>\n",
       "    <tr>\n",
       "      <th>2</th>\n",
       "      <td>6</td>\n",
       "      <td>9342</td>\n",
       "      <td>20170531_ETNP_JA14_01.raw</td>\n",
       "      <td>SALEDVK</td>\n",
       "      <td>7</td>\n",
       "      <td>97</td>\n",
       "      <td>7</td>\n",
       "      <td>381.2065</td>\n",
       "      <td>2</td>\n",
       "      <td>33.49</td>\n",
       "      <td>189000.0</td>\n",
       "      <td>760.3967</td>\n",
       "      <td>2.3</td>\n",
       "      <td>NaN</td>\n",
       "      <td>NaN</td>\n",
       "      <td>95 96 98 99 98 98 98</td>\n",
       "      <td>SALEDVK</td>\n",
       "      <td>CID</td>\n",
       "    </tr>\n",
       "    <tr>\n",
       "      <th>3</th>\n",
       "      <td>6</td>\n",
       "      <td>19254</td>\n",
       "      <td>20170531_ETNP_JA14_01.raw</td>\n",
       "      <td>M(+15.99)GKLFR</td>\n",
       "      <td>6</td>\n",
       "      <td>97</td>\n",
       "      <td>6</td>\n",
       "      <td>384.2143</td>\n",
       "      <td>2</td>\n",
       "      <td>66.37</td>\n",
       "      <td>72600.0</td>\n",
       "      <td>766.4160</td>\n",
       "      <td>-2.6</td>\n",
       "      <td>NaN</td>\n",
       "      <td>Oxidation (M)</td>\n",
       "      <td>97 95 98 98 98 97</td>\n",
       "      <td>M(+15.99)GKLFR</td>\n",
       "      <td>CID</td>\n",
       "    </tr>\n",
       "    <tr>\n",
       "      <th>4</th>\n",
       "      <td>6</td>\n",
       "      <td>15239</td>\n",
       "      <td>20170531_ETNP_JA14_01.raw</td>\n",
       "      <td>TWTLSR</td>\n",
       "      <td>6</td>\n",
       "      <td>96</td>\n",
       "      <td>6</td>\n",
       "      <td>382.2094</td>\n",
       "      <td>2</td>\n",
       "      <td>54.21</td>\n",
       "      <td>125000.0</td>\n",
       "      <td>762.4024</td>\n",
       "      <td>2.4</td>\n",
       "      <td>ETNP14_68maa_PROKKA_99193</td>\n",
       "      <td>NaN</td>\n",
       "      <td>98 99 97 95 95 97</td>\n",
       "      <td>TWTLSR</td>\n",
       "      <td>CID</td>\n",
       "    </tr>\n",
       "  </tbody>\n",
       "</table>\n",
       "</div>"
      ],
      "text/plain": [
       "   Fraction   Scan                Source File                  Peptide  \\\n",
       "0         6  10148  20170531_ETNP_JA14_01.raw                  TSGEVFR   \n",
       "1         6   8910  20170531_ETNP_JA14_01.raw  M(+15.99)EAYC(+57.02)VK   \n",
       "2         6   9342  20170531_ETNP_JA14_01.raw                  SALEDVK   \n",
       "3         6  19254  20170531_ETNP_JA14_01.raw           M(+15.99)GKLFR   \n",
       "4         6  15239  20170531_ETNP_JA14_01.raw                   TWTLSR   \n",
       "\n",
       "   Tag Length  ALC (%)  length       m/z  z     RT      Area      Mass  ppm  \\\n",
       "0           7       98       7  398.2039  2  36.30  285000.0  794.3923  1.3   \n",
       "1           7       98       7  458.6999  2  32.06  465000.0  915.3830  2.4   \n",
       "2           7       97       7  381.2065  2  33.49  189000.0  760.3967  2.3   \n",
       "3           6       97       6  384.2143  2  66.37   72600.0  766.4160 -2.6   \n",
       "4           6       96       6  382.2094  2  54.21  125000.0  762.4024  2.4   \n",
       "\n",
       "                   Accession                                  PTM  \\\n",
       "0                        NaN                                  NaN   \n",
       "1                        NaN  Oxidation (M); Carbamidomethylation   \n",
       "2                        NaN                                  NaN   \n",
       "3                        NaN                        Oxidation (M)   \n",
       "4  ETNP14_68maa_PROKKA_99193                                  NaN   \n",
       "\n",
       "    local confidence (%)               tag (>=0%) mode  \n",
       "0  99 100 95 99 97 98 99                  TSGEVFR  CID  \n",
       "1  96 99 100 99 97 97 98  M(+15.99)EAYC(+57.02)VK  CID  \n",
       "2   95 96 98 99 98 98 98                  SALEDVK  CID  \n",
       "3      97 95 98 98 98 97           M(+15.99)GKLFR  CID  \n",
       "4      98 99 97 95 95 97                   TWTLSR  CID  "
      ]
     },
     "execution_count": 12,
     "metadata": {},
     "output_type": "execute_result"
    }
   ],
   "source": [
    "data.head()"
   ]
  },
  {
   "cell_type": "code",
   "execution_count": 13,
   "metadata": {
    "collapsed": true
   },
   "outputs": [],
   "source": [
    "# Keep only peptide column\n",
    "pep = data[[\"Peptide\"]]"
   ]
  },
  {
   "cell_type": "code",
   "execution_count": 14,
   "metadata": {
    "collapsed": false
   },
   "outputs": [
    {
     "data": {
      "text/html": [
       "<div>\n",
       "<table border=\"1\" class=\"dataframe\">\n",
       "  <thead>\n",
       "    <tr style=\"text-align: right;\">\n",
       "      <th></th>\n",
       "      <th>Peptide</th>\n",
       "    </tr>\n",
       "  </thead>\n",
       "  <tbody>\n",
       "    <tr>\n",
       "      <th>0</th>\n",
       "      <td>TSGEVFR</td>\n",
       "    </tr>\n",
       "    <tr>\n",
       "      <th>1</th>\n",
       "      <td>M(+15.99)EAYC(+57.02)VK</td>\n",
       "    </tr>\n",
       "    <tr>\n",
       "      <th>2</th>\n",
       "      <td>SALEDVK</td>\n",
       "    </tr>\n",
       "    <tr>\n",
       "      <th>3</th>\n",
       "      <td>M(+15.99)GKLFR</td>\n",
       "    </tr>\n",
       "    <tr>\n",
       "      <th>4</th>\n",
       "      <td>TWTLSR</td>\n",
       "    </tr>\n",
       "  </tbody>\n",
       "</table>\n",
       "</div>"
      ],
      "text/plain": [
       "                   Peptide\n",
       "0                  TSGEVFR\n",
       "1  M(+15.99)EAYC(+57.02)VK\n",
       "2                  SALEDVK\n",
       "3           M(+15.99)GKLFR\n",
       "4                   TWTLSR"
      ]
     },
     "execution_count": 14,
     "metadata": {},
     "output_type": "execute_result"
    }
   ],
   "source": [
    "pep.head()"
   ]
  },
  {
   "cell_type": "code",
   "execution_count": 15,
   "metadata": {
    "collapsed": true
   },
   "outputs": [],
   "source": [
    "# Write altered dataframe to new csv file\n",
    "# Used header and index parameters to get rid of 'Peptide' header and the indexing\n",
    "\n",
    "pep.to_csv(\"/Users/meganduffy/Documents/git-repos/2017-etnp/data/uwpr-may2017/UWPR_May2017_243-965m-gf75-ETNP_PEAKS_37/243-peaks37-dnopeps.csv\", header=False, index=False)"
   ]
  },
  {
   "cell_type": "code",
   "execution_count": 16,
   "metadata": {
    "collapsed": true
   },
   "outputs": [],
   "source": [
    "# Write altered dataframe to new txt file\n",
    "# Used header and index parameters to get rid of 'Peptide' header and the indexing\n",
    "\n",
    "pep.to_csv(\"/Users/meganduffy/Documents/git-repos/2017-etnp/data/uwpr-may2017/UWPR_May2017_243-965m-gf75-ETNP_PEAKS_37/243-peaks37-dnopeps.txt\", header=False, index=False)"
   ]
  },
  {
   "cell_type": "code",
   "execution_count": 17,
   "metadata": {
    "collapsed": false
   },
   "outputs": [
    {
     "name": "stdout",
     "output_type": "stream",
     "text": [
      "TSGEVFR\r\n",
      "M(+15.99)EAYC(+57.02)VK\r\n",
      "SALEDVK\r\n",
      "M(+15.99)GKLFR\r\n",
      "TWTLSR\r\n",
      "EPLLESK\r\n",
      "AANEVVR\r\n",
      "KEVFNK\r\n",
      "NLDLER\r\n",
      "VTDAELAEVELR\r\n"
     ]
    }
   ],
   "source": [
    "!head /Users/meganduffy/Documents/git-repos/2017-etnp/data/uwpr-may2017/UWPR_May2017_243-965m-gf75-ETNP_PEAKS_37/243-peaks37-dnopeps.txt"
   ]
  },
  {
   "cell_type": "code",
   "execution_count": 18,
   "metadata": {
    "collapsed": true
   },
   "outputs": [],
   "source": [
    "# Removes all characters in parentheses and saves as new file\n",
    "\n",
    "!awk -F \"[()]\" '{ for (i=2; i<NF; i+=2) print $i }' /Users/meganduffy/Documents/git-repos/2017-etnp/data/uwpr-may2017/UWPR_May2017_243-965m-gf75-ETNP_PEAKS_37/243-peaks37-dnopeps.txt > /Users/meganduffy/Documents/git-repos/2017-etnp/data/uwpr-may2017/UWPR_May2017_243-965m-gf75-ETNP_PEAKS_37/243-peaks37-dno-mods.txt"
   ]
  },
  {
   "cell_type": "code",
   "execution_count": 19,
   "metadata": {
    "collapsed": false
   },
   "outputs": [
    {
     "name": "stdout",
     "output_type": "stream",
     "text": [
      "+15.99\r\n",
      "+57.02\r\n",
      "+15.99\r\n",
      "+57.02\r\n",
      "+15.99\r\n",
      "+57.02\r\n",
      "+57.02\r\n",
      "+57.02\r\n",
      "+57.02\r\n",
      "+57.02\r\n"
     ]
    }
   ],
   "source": [
    "# How does the modifications text file look?\n",
    "\n",
    "!head /Users/meganduffy/Documents/git-repos/2017-etnp/data/uwpr-may2017/UWPR_May2017_243-965m-gf75-ETNP_PEAKS_37/243-peaks37-dno-mods.txt"
   ]
  },
  {
   "cell_type": "code",
   "execution_count": 20,
   "metadata": {
    "collapsed": false
   },
   "outputs": [
    {
     "name": "stdout",
     "output_type": "stream",
     "text": [
      "     401 /Users/meganduffy/Documents/git-repos/2017-etnp/data/uwpr-may2017/UWPR_May2017_243-965m-gf75-ETNP_PEAKS_37/243-peaks37-dno-mods.txt\r\n"
     ]
    }
   ],
   "source": [
    "# How many modifications for this sample?\n",
    "\n",
    "!wc -l /Users/meganduffy/Documents/git-repos/2017-etnp/data/uwpr-may2017/UWPR_May2017_243-965m-gf75-ETNP_PEAKS_37/243-peaks37-dno-mods.txt"
   ]
  },
  {
   "cell_type": "code",
   "execution_count": 21,
   "metadata": {
    "collapsed": false
   },
   "outputs": [
    {
     "name": "stdout",
     "output_type": "stream",
     "text": [
      "    1305 /Users/meganduffy/Documents/git-repos/2017-etnp/data/uwpr-may2017/UWPR_May2017_243-965m-gf75-ETNP_PEAKS_37/243-peaks37-dnopeps.txt\r\n"
     ]
    }
   ],
   "source": [
    "# Compared with how many total peptides?\n",
    "\n",
    "!wc -l /Users/meganduffy/Documents/git-repos/2017-etnp/data/uwpr-may2017/UWPR_May2017_243-965m-gf75-ETNP_PEAKS_37/243-peaks37-dnopeps.txt"
   ]
  },
  {
   "cell_type": "code",
   "execution_count": 22,
   "metadata": {
    "collapsed": false
   },
   "outputs": [
    {
     "data": {
      "text/plain": [
       "0.30727969348659"
      ]
     },
     "execution_count": 22,
     "metadata": {},
     "output_type": "execute_result"
    }
   ],
   "source": [
    "# What's the percentage of modified peptides for this sample?\n",
    "\n",
    "401/1305"
   ]
  },
  {
   "cell_type": "code",
   "execution_count": 23,
   "metadata": {
    "collapsed": true
   },
   "outputs": [],
   "source": [
    "# Get rid of modifications from all peptides and save as a new file\n",
    "# Remove '(+15.99)' and '(+57.02)', (+.98) from sequences\n",
    "\n",
    "!sed 's/(+15.99)//g' /Users/meganduffy/Documents/git-repos/2017-etnp/data/uwpr-may2017/UWPR_May2017_243-965m-gf75-ETNP_PEAKS_37/243-peaks37-dnopeps.txt \\\n",
    "| sed 's/(+57.02)//g'\\\n",
    "| sed 's/(+.98)//g'\\\n",
    "> /Users/meganduffy/Documents/git-repos/2017-etnp/data/uwpr-may2017/UWPR_May2017_243-965m-gf75-ETNP_PEAKS_37/243-peaks37-dno-nomods.txt"
   ]
  },
  {
   "cell_type": "code",
   "execution_count": 24,
   "metadata": {
    "collapsed": false
   },
   "outputs": [
    {
     "name": "stdout",
     "output_type": "stream",
     "text": [
      "TSGEVFR\r\n",
      "MEAYCVK\r\n",
      "SALEDVK\r\n",
      "MGKLFR\r\n",
      "TWTLSR\r\n",
      "EPLLESK\r\n",
      "AANEVVR\r\n",
      "KEVFNK\r\n",
      "NLDLER\r\n",
      "VTDAELAEVELR\r\n"
     ]
    }
   ],
   "source": [
    "!head /Users/meganduffy/Documents/git-repos/2017-etnp/data/uwpr-may2017/UWPR_May2017_243-965m-gf75-ETNP_PEAKS_37/243-peaks37-dno-nomods.txt"
   ]
  },
  {
   "cell_type": "code",
   "execution_count": 25,
   "metadata": {
    "collapsed": false
   },
   "outputs": [
    {
     "name": "stdout",
     "output_type": "stream",
     "text": [
      "243-peaks37-DB-search-psm.csv    243-peaks37-dnopeps.txt\r\n",
      "243-peaks37-dno-mods.txt         243-peaks37-peptide.csv\r\n",
      "243-peaks37-dno-nomods.txt       243-peaks37-protein-peptides.csv\r\n",
      "243-peaks37-dno.csv              243-peaks37-proteins.csv\r\n",
      "243-peaks37-dnopeps.csv          243-peaks37-proteins.fasta\r\n"
     ]
    }
   ],
   "source": [
    "!ls /Users/meganduffy/Documents/git-repos/2017-etnp/data/uwpr-may2017/UWPR_May2017_243-965m-gf75-ETNP_PEAKS_37"
   ]
  },
  {
   "cell_type": "code",
   "execution_count": null,
   "metadata": {
    "collapsed": true
   },
   "outputs": [],
   "source": []
  }
 ],
 "metadata": {
  "kernelspec": {
   "display_name": "Python [default]",
   "language": "python",
   "name": "python3"
  },
  "language_info": {
   "codemirror_mode": {
    "name": "ipython",
    "version": 3
   },
   "file_extension": ".py",
   "mimetype": "text/x-python",
   "name": "python",
   "nbconvert_exporter": "python",
   "pygments_lexer": "ipython3",
   "version": "3.5.2"
  }
 },
 "nbformat": 4,
 "nbformat_minor": 1
}
