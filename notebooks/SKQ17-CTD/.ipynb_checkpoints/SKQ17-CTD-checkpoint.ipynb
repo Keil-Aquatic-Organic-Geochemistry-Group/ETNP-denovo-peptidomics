{
 "cells": [
  {
   "cell_type": "markdown",
   "metadata": {},
   "source": [
    "### Plotting ETNP CTD data from SQK17 cruise, station P2"
   ]
  },
  {
   "cell_type": "code",
   "execution_count": 1,
   "metadata": {},
   "outputs": [
    {
     "data": {
      "text/plain": [
       "'1.0.5'"
      ]
     },
     "execution_count": 1,
     "metadata": {},
     "output_type": "execute_result"
    }
   ],
   "source": [
    "# LIBRARIES\n",
    "#import pandas library for working with tabular data\n",
    "import os\n",
    "os.getcwd()\n",
    "import pandas as pd\n",
    "import numpy as np\n",
    "import matplotlib.pyplot as plt\n",
    "import seaborn as sns\n",
    "from scipy.stats import kde\n",
    "#from matplotlib_venn import venn2\n",
    "#from matplotlib_venn import venn3\n",
    "from matplotlib_venn import venn3, venn3_circles\n",
    "#import regular expresson (regex)\n",
    "import re\n",
    "#check pandas version\n",
    "pd.__version__"
   ]
  },
  {
   "cell_type": "code",
   "execution_count": 2,
   "metadata": {},
   "outputs": [
    {
     "name": "stdout",
     "output_type": "stream",
     "text": [
      "/home/millieginty/Documents/git-repos/2017-etnp/data/pro2020/ETNP-SKQ17/CTD\n"
     ]
    }
   ],
   "source": [
    "cd /home/millieginty/Documents/git-repos/2017-etnp/data/pro2020/ETNP-SKQ17/CTD/"
   ]
  },
  {
   "cell_type": "code",
   "execution_count": 3,
   "metadata": {},
   "outputs": [
    {
     "data": {
      "text/html": [
       "<div>\n",
       "<style scoped>\n",
       "    .dataframe tbody tr th:only-of-type {\n",
       "        vertical-align: middle;\n",
       "    }\n",
       "\n",
       "    .dataframe tbody tr th {\n",
       "        vertical-align: top;\n",
       "    }\n",
       "\n",
       "    .dataframe thead th {\n",
       "        text-align: right;\n",
       "    }\n",
       "</style>\n",
       "<table border=\"1\" class=\"dataframe\">\n",
       "  <thead>\n",
       "    <tr style=\"text-align: right;\">\n",
       "      <th></th>\n",
       "      <th>Cruise</th>\n",
       "      <th>Station</th>\n",
       "      <th>mon/dd/yyyy</th>\n",
       "      <th>hh:mm</th>\n",
       "      <th>Longitude [degrees east]</th>\n",
       "      <th>Latitude [degrees north]</th>\n",
       "      <th>Bottom Depth [m]</th>\n",
       "      <th>Pressure [db]</th>\n",
       "      <th>Depth (m)</th>\n",
       "      <th>Temperature [degrees C]</th>\n",
       "      <th>Temperature 2 [degrees C]</th>\n",
       "      <th>Salinity [psu]</th>\n",
       "      <th>Salinity 2 [psu]</th>\n",
       "      <th>Fluorescence [mg/m^3]</th>\n",
       "      <th>Beam Transmission [%]</th>\n",
       "      <th>% PAR</th>\n",
       "      <th>Oxygen [umol/kg]</th>\n",
       "      <th>Oxygen [% saturation]</th>\n",
       "    </tr>\n",
       "  </thead>\n",
       "  <tbody>\n",
       "    <tr>\n",
       "      <th>0</th>\n",
       "      <td>SKQ201617S</td>\n",
       "      <td>sta013</td>\n",
       "      <td>12/29/16</td>\n",
       "      <td>4:05</td>\n",
       "      <td>-104.55608</td>\n",
       "      <td>16.81572</td>\n",
       "      <td>3141</td>\n",
       "      <td>3.018</td>\n",
       "      <td>2.989895</td>\n",
       "      <td>28.4659</td>\n",
       "      <td>28.4657</td>\n",
       "      <td>33.9836</td>\n",
       "      <td>33.9934</td>\n",
       "      <td>0.115</td>\n",
       "      <td>96.4539</td>\n",
       "      <td>0.563</td>\n",
       "      <td>196.512</td>\n",
       "      <td>99.925</td>\n",
       "    </tr>\n",
       "    <tr>\n",
       "      <th>1</th>\n",
       "      <td>SKQ201617S</td>\n",
       "      <td>sta013</td>\n",
       "      <td>12/29/16</td>\n",
       "      <td>4:05</td>\n",
       "      <td>-104.55604</td>\n",
       "      <td>16.81572</td>\n",
       "      <td>3141</td>\n",
       "      <td>4.024</td>\n",
       "      <td>3.986527</td>\n",
       "      <td>28.4648</td>\n",
       "      <td>28.4643</td>\n",
       "      <td>33.9840</td>\n",
       "      <td>33.9936</td>\n",
       "      <td>0.107</td>\n",
       "      <td>96.5086</td>\n",
       "      <td>0.450</td>\n",
       "      <td>196.541</td>\n",
       "      <td>99.938</td>\n",
       "    </tr>\n",
       "    <tr>\n",
       "      <th>2</th>\n",
       "      <td>SKQ201617S</td>\n",
       "      <td>sta013</td>\n",
       "      <td>12/29/16</td>\n",
       "      <td>4:05</td>\n",
       "      <td>-104.55604</td>\n",
       "      <td>16.81572</td>\n",
       "      <td>3141</td>\n",
       "      <td>5.030</td>\n",
       "      <td>4.983158</td>\n",
       "      <td>28.4655</td>\n",
       "      <td>28.4646</td>\n",
       "      <td>33.9839</td>\n",
       "      <td>33.9937</td>\n",
       "      <td>0.110</td>\n",
       "      <td>96.5249</td>\n",
       "      <td>0.304</td>\n",
       "      <td>196.655</td>\n",
       "      <td>99.998</td>\n",
       "    </tr>\n",
       "    <tr>\n",
       "      <th>3</th>\n",
       "      <td>SKQ201617S</td>\n",
       "      <td>sta013</td>\n",
       "      <td>12/29/16</td>\n",
       "      <td>4:05</td>\n",
       "      <td>-104.55603</td>\n",
       "      <td>16.81572</td>\n",
       "      <td>3141</td>\n",
       "      <td>6.036</td>\n",
       "      <td>5.979790</td>\n",
       "      <td>28.4644</td>\n",
       "      <td>28.4641</td>\n",
       "      <td>33.9841</td>\n",
       "      <td>33.9937</td>\n",
       "      <td>0.106</td>\n",
       "      <td>96.5022</td>\n",
       "      <td>0.248</td>\n",
       "      <td>196.963</td>\n",
       "      <td>100.153</td>\n",
       "    </tr>\n",
       "    <tr>\n",
       "      <th>4</th>\n",
       "      <td>SKQ201617S</td>\n",
       "      <td>sta013</td>\n",
       "      <td>12/29/16</td>\n",
       "      <td>4:05</td>\n",
       "      <td>-104.55602</td>\n",
       "      <td>16.81572</td>\n",
       "      <td>3141</td>\n",
       "      <td>7.042</td>\n",
       "      <td>6.976422</td>\n",
       "      <td>28.4685</td>\n",
       "      <td>28.4684</td>\n",
       "      <td>33.9838</td>\n",
       "      <td>33.9933</td>\n",
       "      <td>0.108</td>\n",
       "      <td>96.5036</td>\n",
       "      <td>0.207</td>\n",
       "      <td>197.203</td>\n",
       "      <td>100.281</td>\n",
       "    </tr>\n",
       "  </tbody>\n",
       "</table>\n",
       "</div>"
      ],
      "text/plain": [
       "       Cruise Station mon/dd/yyyy hh:mm  Longitude [degrees east]  \\\n",
       "0  SKQ201617S  sta013    12/29/16  4:05                -104.55608   \n",
       "1  SKQ201617S  sta013    12/29/16  4:05                -104.55604   \n",
       "2  SKQ201617S  sta013    12/29/16  4:05                -104.55604   \n",
       "3  SKQ201617S  sta013    12/29/16  4:05                -104.55603   \n",
       "4  SKQ201617S  sta013    12/29/16  4:05                -104.55602   \n",
       "\n",
       "   Latitude [degrees north]  Bottom Depth [m]  Pressure [db]  Depth (m)  \\\n",
       "0                  16.81572              3141          3.018   2.989895   \n",
       "1                  16.81572              3141          4.024   3.986527   \n",
       "2                  16.81572              3141          5.030   4.983158   \n",
       "3                  16.81572              3141          6.036   5.979790   \n",
       "4                  16.81572              3141          7.042   6.976422   \n",
       "\n",
       "   Temperature [degrees C]  Temperature 2 [degrees C]  Salinity [psu]  \\\n",
       "0                  28.4659                    28.4657         33.9836   \n",
       "1                  28.4648                    28.4643         33.9840   \n",
       "2                  28.4655                    28.4646         33.9839   \n",
       "3                  28.4644                    28.4641         33.9841   \n",
       "4                  28.4685                    28.4684         33.9838   \n",
       "\n",
       "   Salinity 2 [psu]  Fluorescence [mg/m^3]  Beam Transmission [%]  % PAR  \\\n",
       "0           33.9934                  0.115                96.4539  0.563   \n",
       "1           33.9936                  0.107                96.5086  0.450   \n",
       "2           33.9937                  0.110                96.5249  0.304   \n",
       "3           33.9937                  0.106                96.5022  0.248   \n",
       "4           33.9933                  0.108                96.5036  0.207   \n",
       "\n",
       "   Oxygen [umol/kg]  Oxygen [% saturation]  \n",
       "0           196.512                 99.925  \n",
       "1           196.541                 99.938  \n",
       "2           196.655                 99.998  \n",
       "3           196.963                100.153  \n",
       "4           197.203                100.281  "
      ]
     },
     "execution_count": 3,
     "metadata": {},
     "output_type": "execute_result"
    }
   ],
   "source": [
    "# read in as a dataframe the CTD datafile, a csv\n",
    "\n",
    "sta2 = pd.read_csv(\"/home/millieginty/Documents/git-repos/2017-etnp/data/pro2020/ETNP-SKQ17/CTD/skq201617S_stationp2_ctd.csv\")\n",
    "\n",
    "sta2.head()"
   ]
  },
  {
   "cell_type": "code",
   "execution_count": 53,
   "metadata": {},
   "outputs": [
    {
     "data": {
      "image/png": "[encoded data removed]",
      "text/plain": [
       "<Figure size 1008x432 with 3 Axes>"
      ]
     },
     "metadata": {
      "needs_background": "light"
     },
     "output_type": "display_data"
    }
   ],
   "source": [
    "f, (ax1, ax2, ax3) = plt.subplots(1, 3, sharey=True, figsize=(14, 6))\n",
    "\n",
    "ax1.plot(sta2['Oxygen [umol/kg]'], sta2['Depth (m)'], color = '#e34a33')\n",
    "ax1.invert_yaxis() \n",
    "ax1.set_title('b) Oxygen', fontsize = 16)\n",
    "ax1.set_ylabel('Depth (m)')\n",
    "ax1.set_xlabel('Oxygen (umol/kg)', rotation = 20)\n",
    "#ax1.hlines(100, 0, 200, colors='k', linestyles='solid', label='sample')\n",
    "ax1.axhline(y=100, xmin=0, xmax=1, color = 'black')\n",
    "ax1.axhline(y=265, xmin=0, xmax=1, color = 'black')\n",
    "ax1.axhline(y=965, xmin=0, xmax=1, color = 'black')\n",
    "\n",
    "ax2.plot(sta2['Fluorescence [mg/m^3]'], sta2['Depth (m)'], color = '#31a354')\n",
    "ax2.set_title('c) Fluorescence', fontsize = 16)\n",
    "#ax2.set_ylabel('Depth (m)')\n",
    "ax2.set_xlabel('Chl. $a$ fluorescence (mg/m^3)', rotation = 20)\n",
    "ax2.axhline(y=100, xmin=0, xmax=1, color = 'black')\n",
    "ax2.axhline(y=265, xmin=0, xmax=1, color = 'black')\n",
    "ax2.axhline(y=965, xmin=0, xmax=1, color = 'black')\n",
    "\n",
    "ax3.plot(sta2['% PAR'], sta2['Depth (m)'], color = '#2c7fb8')\n",
    "ax3.set_title('d) % PAR', fontsize = 16)\n",
    "#ax3.set_ylabel('Depth (m)')\n",
    "ax3.set_xlabel('Photosynthetically active radiation (%)', rotation = 20)\n",
    "ax3.axhline(y=100, xmin=0, xmax=1, color = 'black')\n",
    "ax3.axhline(y=265, xmin=0, xmax=1, color = 'black')\n",
    "ax3.axhline(y=965, xmin=0, xmax=1, color = 'black')\n",
    "\n",
    "#save plot\n",
    "\n",
    "plt.savefig(\"SKQ17-stationP2-profile.png\")\n",
    "\n",
    "# also save in manuscript latex dir high res\n",
    "plt.savefig(\"/home/millieginty/Documents/git-repos/denovo-etnp/SKQ17-stationP2-profile.png\", dpi = 300, bbox_inches='tight')"
   ]
  },
  {
   "cell_type": "markdown",
   "metadata": {},
   "source": [
    "### I installed folium on 12.09.20\n",
    "\n",
    "### !pip install folium\n",
    "\n",
    "Collecting folium\n",
    "  Downloading folium-0.11.0-py2.py3-none-any.whl (93 kB) \\\n",
    "     |████████████████████████████████| 93 kB 27 kB/s  eta 0:00:01 \\\n",
    "Requirement already satisfied: jinja2>=2.9 in /home/millieginty/anaconda3/lib/python3.8/site-packages (from folium) (2.11.2)\\\n",
    "Collecting branca>=0.3.0\\\n",
    "  Downloading branca-0.4.1-py3-none-any.whl (24 kB)\\\n",
    "Requirement already satisfied: numpy in /home/millieginty/anaconda3/lib/python3.8/site-packages (from folium) (1.18.5)\\\n",
    "Requirement already satisfied: requests in /home/millieginty/anaconda3/lib/python3.8/site-packages (from folium) (2.24.0)\\\n",
    "Requirement already satisfied: MarkupSafe>=0.23 in /home/millieginty/anaconda3/lib/python3.8/site-packages (from jinja2>=2.9->folium) (1.1.1)\\\n",
    "Requirement already satisfied: idna<3,>=2.5 in /home/millieginty/anaconda3/lib/python3.8/site-packages (from requests->folium) (2.10)\\\n",
    "Requirement already satisfied: certifi>=2017.4.17 in /home/millieginty/anaconda3/lib/python3.8/site-packages (from requests->folium) (2020.6.20)\\\n",
    "Requirement already satisfied: urllib3!=1.25.0,!=1.25.1,<1.26,>=1.21.1 in /home/millieginty/anaconda3\\/lib/python3.8/site-packages (from requests->folium) (1.25.9)\\\n",
    "Requirement already satisfied: chardet<4,>=3.0.2 in /home/millieginty/anaconda3/lib/python3.8/site-packages \\(from requests->folium) (3.0.4)\\\n",
    "Installing collected packages: branca, folium\\\n",
    "Successfully installed branca-0.4.1 folium-0.11.0\\\n"
   ]
  },
  {
   "cell_type": "code",
   "execution_count": 39,
   "metadata": {},
   "outputs": [
    {
     "data": {
      "text/plain": [
       "<folium.vector_layers.CircleMarker at 0x7f174bbf46a0>"
      ]
     },
     "execution_count": 39,
     "metadata": {},
     "output_type": "execute_result"
    }
   ],
   "source": [
    "import folium\n",
    "map = folium.Map(location=[20.0, -107.5], default_zoom_start=500)\n",
    "\n",
    "# Station 136 from Thompson 2012 cruise, metagenomes from here:\n",
    "folium.Marker(\n",
    "    location=[17.043, -106.543],\n",
    "    popup='TGT2012 Station 136',\n",
    "    tooltip = \"Click for more\",\n",
    "    color = 'red'\n",
    ").add_to(map)\n",
    "\n",
    "# Station BB2 from Thompson 2012 cruise, metagenomes from here:\n",
    "folium.Marker(\n",
    "    location=[16.527, -107.148],\n",
    "    popup='TGT2012 Station BB2',\n",
    "    tooltip = \"Click for more\"\n",
    ").add_to(map)\n",
    "\n",
    "# Station P2 from Sikuliq 2017 cruise, proteomics samples from here:\n",
    "folium.Marker(\n",
    "    location=[16.58, -107.05],\n",
    "    color='green',\n",
    "    popup='SKQ17 Station P2',\n",
    "    tooltip = \"Click for more\"\n",
    ").add_to(map)\n",
    "\n",
    "folium.CircleMarker(location=[16.58, -107.65],\n",
    "                        radius=2,\n",
    "                        weight=0).add_to(map)"
   ]
  },
  {
   "cell_type": "code",
   "execution_count": 40,
   "metadata": {},
   "outputs": [
    {
     "data": {
      "text/html": [
       "<div style=\"width:100%;\"><div style=\"position:relative;width:100%;height:0;padding-bottom:60%;\"><span style=\"color:#565656\">Make this Notebook Trusted to load map: File -> Trust Notebook</span><iframe src=\"about:blank\" style=\"position:absolute;width:100%;height:100%;left:0;top:0;border:none !important;\" data-html=PCFET0NUWVBFIGh0bWw+CjxoZWFkPiAgICAKICAgIDxtZXRhIGh0dHAtZXF1aXY9ImNvbnRlbnQtdHlwZSIgY29udGVudD0idGV4dC9odG1sOyBjaGFyc2V0PVVURi04IiAvPgogICAgCiAgICAgICAgPHNjcmlwdD4KICAgICAgICAgICAgTF9OT19UT1VDSCA9IGZhbHNlOwogICAgICAgICAgICBMX0RJU0FCTEVfM0QgPSBmYWxzZTsKICAgICAgICA8L3NjcmlwdD4KICAgIAogICAgPHNjcmlwdCBzcmM9Imh0dHBzOi8vY2RuLmpzZGVsaXZyLm5ldC9ucG0vbGVhZmxldEAxLjYuMC9kaXN0L2xlYWZsZXQuanMiPjwvc2NyaXB0PgogICAgPHNjcmlwdCBzcmM9Imh0dHBzOi8vY29kZS5qcXVlcnkuY29tL2pxdWVyeS0xLjEyLjQubWluLmpzIj48L3NjcmlwdD4KICAgIDxzY3JpcHQgc3JjPSJodHRwczovL21heGNkbi5ib290c3RyYXBjZG4uY29tL2Jvb3RzdHJhcC8zLjIuMC9qcy9ib290c3RyYXAubWluLmpzIj48L3NjcmlwdD4KICAgIDxzY3JpcHQgc3JjPSJodHRwczovL2NkbmpzLmNsb3VkZmxhcmUuY29tL2FqYXgvbGlicy9MZWFmbGV0LmF3ZXNvbWUtbWFya2Vycy8yLjAuMi9sZWFmbGV0LmF3ZXNvbWUtbWFya2Vycy5qcyI+PC9zY3JpcHQ+CiAgICA8bGluayByZWw9InN0eWxlc2hlZXQiIGhyZWY9Imh0dHBzOi8vY2RuLmpzZGVsaXZyLm5ldC9ucG0vbGVhZmxldEAxLjYuMC9kaXN0L2xlYWZsZXQuY3NzIi8+CiAgICA8bGluayByZWw9InN0eWxlc2hlZXQiIGhyZWY9Imh0dHBzOi8vbWF4Y2RuLmJvb3RzdHJhcGNkbi5jb20vYm9vdHN0cmFwLzMuMi4wL2Nzcy9ib290c3RyYXAubWluLmNzcyIvPgogICAgPGxpbmsgcmVsPSJzdHlsZXNoZWV0IiBocmVmPSJodHRwczovL21heGNkbi5ib290c3RyYXBjZG4uY29tL2Jvb3RzdHJhcC8zLjIuMC9jc3MvYm9vdHN0cmFwLXRoZW1lLm1pbi5jc3MiLz4KICAgIDxsaW5rIHJlbD0ic3R5bGVzaGVldCIgaHJlZj0iaHR0cHM6Ly9tYXhjZG4uYm9vdHN0cmFwY2RuLmNvbS9mb250LWF3ZXNvbWUvNC42LjMvY3NzL2ZvbnQtYXdlc29tZS5taW4uY3NzIi8+CiAgICA8bGluayByZWw9InN0eWxlc2hlZXQiIGhyZWY9Imh0dHBzOi8vY2RuanMuY2xvdWRmbGFyZS5jb20vYWpheC9saWJzL0xlYWZsZXQuYXdlc29tZS1tYXJrZXJzLzIuMC4yL2xlYWZsZXQuYXdlc29tZS1tYXJrZXJzLmNzcyIvPgogICAgPGxpbmsgcmVsPSJzdHlsZXNoZWV0IiBocmVmPSJodHRwczovL3Jhd2Nkbi5naXRoYWNrLmNvbS9weXRob24tdmlzdWFsaXphdGlvbi9mb2xpdW0vbWFzdGVyL2ZvbGl1bS90ZW1wbGF0ZXMvbGVhZmxldC5hd2Vzb21lLnJvdGF0ZS5jc3MiLz4KICAgIDxzdHlsZT5odG1sLCBib2R5IHt3aWR0aDogMTAwJTtoZWlnaHQ6IDEwMCU7bWFyZ2luOiAwO3BhZGRpbmc6IDA7fTwvc3R5bGU+CiAgICA8c3R5bGU+I21hcCB7cG9zaXRpb246YWJzb2x1dGU7dG9wOjA7Ym90dG9tOjA7cmlnaHQ6MDtsZWZ0OjA7fTwvc3R5bGU+CiAgICAKICAgICAgICAgICAgPG1ldGEgbmFtZT0idmlld3BvcnQiIGNvbnRlbnQ9IndpZHRoPWRldmljZS13aWR0aCwKICAgICAgICAgICAgICAgIGluaXRpYWwtc2NhbGU9MS4wLCBtYXhpbXVtLXNjYWxlPTEuMCwgdXNlci1zY2FsYWJsZT1ubyIgLz4KICAgICAgICAgICAgPHN0eWxlPgogICAgICAgICAgICAgICAgI21hcF8wMDVmMzdlZjkyMzc0YTQxOGM1M2NjMjQxNWViMjg5ZCB7CiAgICAgICAgICAgICAgICAgICAgcG9zaXRpb246IHJlbGF0aXZlOwogICAgICAgICAgICAgICAgICAgIHdpZHRoOiAxMDAuMCU7CiAgICAgICAgICAgICAgICAgICAgaGVpZ2h0OiAxMDAuMCU7CiAgICAgICAgICAgICAgICAgICAgbGVmdDogMC4wJTsKICAgICAgICAgICAgICAgICAgICB0b3A6IDAuMCU7CiAgICAgICAgICAgICAgICB9CiAgICAgICAgICAgIDwvc3R5bGU+CiAgICAgICAgCjwvaGVhZD4KPGJvZHk+ICAgIAogICAgCiAgICAgICAgICAgIDxkaXYgY2xhc3M9ImZvbGl1bS1tYXAiIGlkPSJtYXBfMDA1ZjM3ZWY5MjM3NGE0MThjNTNjYzI0MTVlYjI4OWQiID48L2Rpdj4KICAgICAgICAKPC9ib2R5Pgo8c2NyaXB0PiAgICAKICAgIAogICAgICAgICAgICB2YXIgbWFwXzAwNWYzN2VmOTIzNzRhNDE4YzUzY2MyNDE1ZWIyODlkID0gTC5tYXAoCiAgICAgICAgICAgICAgICAibWFwXzAwNWYzN2VmOTIzNzRhNDE4YzUzY2MyNDE1ZWIyODlkIiwKICAgICAgICAgICAgICAgIHsKICAgICAgICAgICAgICAgICAgICBjZW50ZXI6IFsyMC4wLCAtMTA3LjVdLAogICAgICAgICAgICAgICAgICAgIGNyczogTC5DUlMuRVBTRzM4NTcsCiAgICAgICAgICAgICAgICAgICAgem9vbTogMTAsCiAgICAgICAgICAgICAgICAgICAgem9vbUNvbnRyb2w6IHRydWUsCiAgICAgICAgICAgICAgICAgICAgcHJlZmVyQ2FudmFzOiBmYWxzZSwKICAgICAgICAgICAgICAgICAgICBkZWZhdWx0Wm9vbVN0YXJ0OiA1MDAsCiAgICAgICAgICAgICAgICB9CiAgICAgICAgICAgICk7CgogICAgICAgICAgICAKCiAgICAgICAgCiAgICAKICAgICAgICAgICAgdmFyIHRpbGVfbGF5ZXJfZTJmZWY4Yjc5NDRmNDBiNmJmYjA4YjM3MmI2OTc0NTYgPSBMLnRpbGVMYXllcigKICAgICAgICAgICAgICAgICJodHRwczovL3tzfS50aWxlLm9wZW5zdHJlZXRtYXAub3JnL3t6fS97eH0ve3l9LnBuZyIsCiAgICAgICAgICAgICAgICB7ImF0dHJpYnV0aW9uIjogIkRhdGEgYnkgXHUwMDI2Y29weTsgXHUwMDNjYSBocmVmPVwiaHR0cDovL29wZW5zdHJlZXRtYXAub3JnXCJcdTAwM2VPcGVuU3RyZWV0TWFwXHUwMDNjL2FcdTAwM2UsIHVuZGVyIFx1MDAzY2EgaHJlZj1cImh0dHA6Ly93d3cub3BlbnN0cmVldG1hcC5vcmcvY29weXJpZ2h0XCJcdTAwM2VPRGJMXHUwMDNjL2FcdTAwM2UuIiwgImRldGVjdFJldGluYSI6IGZhbHNlLCAibWF4TmF0aXZlWm9vbSI6IDE4LCAibWF4Wm9vbSI6IDE4LCAibWluWm9vbSI6IDAsICJub1dyYXAiOiBmYWxzZSwgIm9wYWNpdHkiOiAxLCAic3ViZG9tYWlucyI6ICJhYmMiLCAidG1zIjogZmFsc2V9CiAgICAgICAgICAgICkuYWRkVG8obWFwXzAwNWYzN2VmOTIzNzRhNDE4YzUzY2MyNDE1ZWIyODlkKTsKICAgICAgICAKICAgIAogICAgICAgICAgICB2YXIgbWFya2VyX2IxNzM4ZTU0ODUwYTRhMjQ4ODRjMTZlYmRjZDY0MWYzID0gTC5tYXJrZXIoCiAgICAgICAgICAgICAgICBbMTcuMDQzLCAtMTA2LjU0M10sCiAgICAgICAgICAgICAgICB7ImNvbG9yIjogInJlZCJ9CiAgICAgICAgICAgICkuYWRkVG8obWFwXzAwNWYzN2VmOTIzNzRhNDE4YzUzY2MyNDE1ZWIyODlkKTsKICAgICAgICAKICAgIAogICAgICAgIHZhciBwb3B1cF9jNTE4MGYzZmE3ODg0OWRlYjA3OGQzMjY2YWVmMzVlMiA9IEwucG9wdXAoeyJtYXhXaWR0aCI6ICIxMDAlIn0pOwoKICAgICAgICAKICAgICAgICAgICAgdmFyIGh0bWxfNjNmZDNiZThlODYwNDk0N2FmN2VlZWRkYmMzZTZkNTkgPSAkKGA8ZGl2IGlkPSJodG1sXzYzZmQzYmU4ZTg2MDQ5NDdhZjdlZWVkZGJjM2U2ZDU5IiBzdHlsZT0id2lkdGg6IDEwMC4wJTsgaGVpZ2h0OiAxMDAuMCU7Ij5UR1QyMDEyIFN0YXRpb24gMTM2PC9kaXY+YClbMF07CiAgICAgICAgICAgIHBvcHVwX2M1MTgwZjNmYTc4ODQ5ZGViMDc4ZDMyNjZhZWYzNWUyLnNldENvbnRlbnQoaHRtbF82M2ZkM2JlOGU4NjA0OTQ3YWY3ZWVlZGRiYzNlNmQ1OSk7CiAgICAgICAgCgogICAgICAgIG1hcmtlcl9iMTczOGU1NDg1MGE0YTI0ODg0YzE2ZWJkY2Q2NDFmMy5iaW5kUG9wdXAocG9wdXBfYzUxODBmM2ZhNzg4NDlkZWIwNzhkMzI2NmFlZjM1ZTIpCiAgICAgICAgOwoKICAgICAgICAKICAgIAogICAgCiAgICAgICAgICAgIG1hcmtlcl9iMTczOGU1NDg1MGE0YTI0ODg0YzE2ZWJkY2Q2NDFmMy5iaW5kVG9vbHRpcCgKICAgICAgICAgICAgICAgIGA8ZGl2PgogICAgICAgICAgICAgICAgICAgICBDbGljayBmb3IgbW9yZQogICAgICAgICAgICAgICAgIDwvZGl2PmAsCiAgICAgICAgICAgICAgICB7InN0aWNreSI6IHRydWV9CiAgICAgICAgICAgICk7CiAgICAgICAgCiAgICAKICAgICAgICAgICAgdmFyIG1hcmtlcl85MDcyMDI3ZDE5OWY0ZTNmYWUyZmI3ZTVmNTFiOWNiYiA9IEwubWFya2VyKAogICAgICAgICAgICAgICAgWzE2LjUyNywgLTEwNy4xNDhdLAogICAgICAgICAgICAgICAge30KICAgICAgICAgICAgKS5hZGRUbyhtYXBfMDA1ZjM3ZWY5MjM3NGE0MThjNTNjYzI0MTVlYjI4OWQpOwogICAgICAgIAogICAgCiAgICAgICAgdmFyIHBvcHVwXzlmMjEzM2MzYjcyYjRhNmQ5NTkzZjBiYjNmZjIxMDZmID0gTC5wb3B1cCh7Im1heFdpZHRoIjogIjEwMCUifSk7CgogICAgICAgIAogICAgICAgICAgICB2YXIgaHRtbF81NjE3YzNjM2FhNDE0ZTI4OWQwMmVlNTc2NjJhNjA5MiA9ICQoYDxkaXYgaWQ9Imh0bWxfNTYxN2MzYzNhYTQxNGUyODlkMDJlZTU3NjYyYTYwOTIiIHN0eWxlPSJ3aWR0aDogMTAwLjAlOyBoZWlnaHQ6IDEwMC4wJTsiPlRHVDIwMTIgU3RhdGlvbiBCQjI8L2Rpdj5gKVswXTsKICAgICAgICAgICAgcG9wdXBfOWYyMTMzYzNiNzJiNGE2ZDk1OTNmMGJiM2ZmMjEwNmYuc2V0Q29udGVudChodG1sXzU2MTdjM2MzYWE0MTRlMjg5ZDAyZWU1NzY2MmE2MDkyKTsKICAgICAgICAKCiAgICAgICAgbWFya2VyXzkwNzIwMjdkMTk5ZjRlM2ZhZTJmYjdlNWY1MWI5Y2JiLmJpbmRQb3B1cChwb3B1cF85ZjIxMzNjM2I3MmI0YTZkOTU5M2YwYmIzZmYyMTA2ZikKICAgICAgICA7CgogICAgICAgIAogICAgCiAgICAKICAgICAgICAgICAgbWFya2VyXzkwNzIwMjdkMTk5ZjRlM2ZhZTJmYjdlNWY1MWI5Y2JiLmJpbmRUb29sdGlwKAogICAgICAgICAgICAgICAgYDxkaXY+CiAgICAgICAgICAgICAgICAgICAgIENsaWNrIGZvciBtb3JlCiAgICAgICAgICAgICAgICAgPC9kaXY+YCwKICAgICAgICAgICAgICAgIHsic3RpY2t5IjogdHJ1ZX0KICAgICAgICAgICAgKTsKICAgICAgICAKICAgIAogICAgICAgICAgICB2YXIgbWFya2VyXzcxY2RhOTI5Y2E1YTQxYzg4ZGZlYWQ0Y2FjNTc1YjE5ID0gTC5tYXJrZXIoCiAgICAgICAgICAgICAgICBbMTYuNTgsIC0xMDcuMDVdLAogICAgICAgICAgICAgICAgeyJjb2xvciI6ICJncmVlbiJ9CiAgICAgICAgICAgICkuYWRkVG8obWFwXzAwNWYzN2VmOTIzNzRhNDE4YzUzY2MyNDE1ZWIyODlkKTsKICAgICAgICAKICAgIAogICAgICAgIHZhciBwb3B1cF83MTMwMDU0ODFmY2M0N2FjOTBkZTJjNGNlMDNjYzdhYiA9IEwucG9wdXAoeyJtYXhXaWR0aCI6ICIxMDAlIn0pOwoKICAgICAgICAKICAgICAgICAgICAgdmFyIGh0bWxfMTQ3ODA4MGRkZTFmNGRmNjk2Y2ZiZjMyMTBhZDNkZjAgPSAkKGA8ZGl2IGlkPSJodG1sXzE0NzgwODBkZGUxZjRkZjY5NmNmYmYzMjEwYWQzZGYwIiBzdHlsZT0id2lkdGg6IDEwMC4wJTsgaGVpZ2h0OiAxMDAuMCU7Ij5TS1ExNyBTdGF0aW9uIFAyPC9kaXY+YClbMF07CiAgICAgICAgICAgIHBvcHVwXzcxMzAwNTQ4MWZjYzQ3YWM5MGRlMmM0Y2UwM2NjN2FiLnNldENvbnRlbnQoaHRtbF8xNDc4MDgwZGRlMWY0ZGY2OTZjZmJmMzIxMGFkM2RmMCk7CiAgICAgICAgCgogICAgICAgIG1hcmtlcl83MWNkYTkyOWNhNWE0MWM4OGRmZWFkNGNhYzU3NWIxOS5iaW5kUG9wdXAocG9wdXBfNzEzMDA1NDgxZmNjNDdhYzkwZGUyYzRjZTAzY2M3YWIpCiAgICAgICAgOwoKICAgICAgICAKICAgIAogICAgCiAgICAgICAgICAgIG1hcmtlcl83MWNkYTkyOWNhNWE0MWM4OGRmZWFkNGNhYzU3NWIxOS5iaW5kVG9vbHRpcCgKICAgICAgICAgICAgICAgIGA8ZGl2PgogICAgICAgICAgICAgICAgICAgICBDbGljayBmb3IgbW9yZQogICAgICAgICAgICAgICAgIDwvZGl2PmAsCiAgICAgICAgICAgICAgICB7InN0aWNreSI6IHRydWV9CiAgICAgICAgICAgICk7CiAgICAgICAgCiAgICAKICAgICAgICAgICAgdmFyIGNpcmNsZV9tYXJrZXJfNGNkNzE5NmNkODllNGQwMTlhMDgyZjNkMDRlMTZlZTEgPSBMLmNpcmNsZU1hcmtlcigKICAgICAgICAgICAgICAgIFsxNi41OCwgLTEwNy42NV0sCiAgICAgICAgICAgICAgICB7ImJ1YmJsaW5nTW91c2VFdmVudHMiOiB0cnVlLCAiY29sb3IiOiAiIzMzODhmZiIsICJkYXNoQXJyYXkiOiBudWxsLCAiZGFzaE9mZnNldCI6IG51bGwsICJmaWxsIjogZmFsc2UsICJmaWxsQ29sb3IiOiAiIzMzODhmZiIsICJmaWxsT3BhY2l0eSI6IDAuMiwgImZpbGxSdWxlIjogImV2ZW5vZGQiLCAibGluZUNhcCI6ICJyb3VuZCIsICJsaW5lSm9pbiI6ICJyb3VuZCIsICJvcGFjaXR5IjogMS4wLCAicmFkaXVzIjogMiwgInN0cm9rZSI6IHRydWUsICJ3ZWlnaHQiOiAwfQogICAgICAgICAgICApLmFkZFRvKG1hcF8wMDVmMzdlZjkyMzc0YTQxOGM1M2NjMjQxNWViMjg5ZCk7CiAgICAgICAgCjwvc2NyaXB0Pg== onload=\"this.contentDocument.open();this.contentDocument.write(atob(this.getAttribute('data-html')));this.contentDocument.close();\" allowfullscreen webkitallowfullscreen mozallowfullscreen></iframe></div></div>"
      ],
      "text/plain": [
       "<folium.folium.Map at 0x7f174bbf4610>"
      ]
     },
     "execution_count": 40,
     "metadata": {},
     "output_type": "execute_result"
    }
   ],
   "source": [
    "map"
   ]
  },
  {
   "cell_type": "code",
   "execution_count": null,
   "metadata": {},
   "outputs": [],
   "source": []
  }
 ],
 "metadata": {
  "kernelspec": {
   "display_name": "Python 3",
   "language": "python",
   "name": "python3"
  },
  "language_info": {
   "codemirror_mode": {
    "name": "ipython",
    "version": 3
   },
   "file_extension": ".py",
   "mimetype": "text/x-python",
   "name": "python",
   "nbconvert_exporter": "python",
   "pygments_lexer": "ipython3",
   "version": "3.8.3"
  }
 },
 "nbformat": 4,
 "nbformat_minor": 4
}
