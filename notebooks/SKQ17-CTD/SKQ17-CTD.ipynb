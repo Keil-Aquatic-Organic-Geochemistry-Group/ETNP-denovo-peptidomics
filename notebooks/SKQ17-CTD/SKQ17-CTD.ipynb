{
 "cells": [
  {
   "cell_type": "markdown",
   "metadata": {},
   "source": [
    "### Plotting ETNP CTD data from SQK17 cruise, station P2"
   ]
  },
  {
   "cell_type": "code",
   "execution_count": 1,
   "metadata": {},
   "outputs": [
    {
     "data": {
      "text/plain": [
       "'1.0.5'"
      ]
     },
     "execution_count": 1,
     "metadata": {},
     "output_type": "execute_result"
    }
   ],
   "source": [
    "# LIBRARIES\n",
    "#import pandas library for working with tabular data\n",
    "import os\n",
    "os.getcwd()\n",
    "import pandas as pd\n",
    "import numpy as np\n",
    "import matplotlib.pyplot as plt\n",
    "import seaborn as sns\n",
    "from scipy.stats import kde\n",
    "#from matplotlib_venn import venn2\n",
    "#from matplotlib_venn import venn3\n",
    "from matplotlib_venn import venn3, venn3_circles\n",
    "#import regular expresson (regex)\n",
    "import re\n",
    "#check pandas version\n",
    "pd.__version__"
   ]
  },
  {
   "cell_type": "code",
   "execution_count": 2,
   "metadata": {},
   "outputs": [
    {
     "name": "stdout",
     "output_type": "stream",
     "text": [
      "/home/millieginty/Documents/git-repos/2017-etnp/data/pro2020/ETNP-SKQ17/CTD\n"
     ]
    }
   ],
   "source": [
    "cd /home/millieginty/Documents/git-repos/2017-etnp/data/pro2020/ETNP-SKQ17/CTD/"
   ]
  },
  {
   "cell_type": "code",
   "execution_count": 5,
   "metadata": {},
   "outputs": [
    {
     "data": {
      "text/html": [
       "<div>\n",
       "<style scoped>\n",
       "    .dataframe tbody tr th:only-of-type {\n",
       "        vertical-align: middle;\n",
       "    }\n",
       "\n",
       "    .dataframe tbody tr th {\n",
       "        vertical-align: top;\n",
       "    }\n",
       "\n",
       "    .dataframe thead th {\n",
       "        text-align: right;\n",
       "    }\n",
       "</style>\n",
       "<table border=\"1\" class=\"dataframe\">\n",
       "  <thead>\n",
       "    <tr style=\"text-align: right;\">\n",
       "      <th></th>\n",
       "      <th>Cruise</th>\n",
       "      <th>Station</th>\n",
       "      <th>mon/dd/yyyy</th>\n",
       "      <th>hh:mm</th>\n",
       "      <th>Longitude [degrees east]</th>\n",
       "      <th>Latitude [degrees north]</th>\n",
       "      <th>Bottom Depth [m]</th>\n",
       "      <th>Pressure [db]</th>\n",
       "      <th>Depth (m)</th>\n",
       "      <th>Temperature [degrees C]</th>\n",
       "      <th>Temperature 2 [degrees C]</th>\n",
       "      <th>Salinity [psu]</th>\n",
       "      <th>Salinity 2 [psu]</th>\n",
       "      <th>Fluorescence [mg/m^3]</th>\n",
       "      <th>Beam Transmission [%]</th>\n",
       "      <th>% PAR</th>\n",
       "      <th>Oxygen [umol/kg]</th>\n",
       "      <th>Oxygen [% saturation]</th>\n",
       "    </tr>\n",
       "  </thead>\n",
       "  <tbody>\n",
       "    <tr>\n",
       "      <th>0</th>\n",
       "      <td>SKQ201617S</td>\n",
       "      <td>sta013</td>\n",
       "      <td>12/29/16</td>\n",
       "      <td>4:05</td>\n",
       "      <td>-104.55608</td>\n",
       "      <td>16.81572</td>\n",
       "      <td>3141</td>\n",
       "      <td>3.018</td>\n",
       "      <td>2.989895</td>\n",
       "      <td>28.4659</td>\n",
       "      <td>28.4657</td>\n",
       "      <td>33.9836</td>\n",
       "      <td>33.9934</td>\n",
       "      <td>0.115</td>\n",
       "      <td>96.4539</td>\n",
       "      <td>0.563</td>\n",
       "      <td>196.512</td>\n",
       "      <td>99.925</td>\n",
       "    </tr>\n",
       "    <tr>\n",
       "      <th>1</th>\n",
       "      <td>SKQ201617S</td>\n",
       "      <td>sta013</td>\n",
       "      <td>12/29/16</td>\n",
       "      <td>4:05</td>\n",
       "      <td>-104.55604</td>\n",
       "      <td>16.81572</td>\n",
       "      <td>3141</td>\n",
       "      <td>4.024</td>\n",
       "      <td>3.986527</td>\n",
       "      <td>28.4648</td>\n",
       "      <td>28.4643</td>\n",
       "      <td>33.9840</td>\n",
       "      <td>33.9936</td>\n",
       "      <td>0.107</td>\n",
       "      <td>96.5086</td>\n",
       "      <td>0.450</td>\n",
       "      <td>196.541</td>\n",
       "      <td>99.938</td>\n",
       "    </tr>\n",
       "    <tr>\n",
       "      <th>2</th>\n",
       "      <td>SKQ201617S</td>\n",
       "      <td>sta013</td>\n",
       "      <td>12/29/16</td>\n",
       "      <td>4:05</td>\n",
       "      <td>-104.55604</td>\n",
       "      <td>16.81572</td>\n",
       "      <td>3141</td>\n",
       "      <td>5.030</td>\n",
       "      <td>4.983158</td>\n",
       "      <td>28.4655</td>\n",
       "      <td>28.4646</td>\n",
       "      <td>33.9839</td>\n",
       "      <td>33.9937</td>\n",
       "      <td>0.110</td>\n",
       "      <td>96.5249</td>\n",
       "      <td>0.304</td>\n",
       "      <td>196.655</td>\n",
       "      <td>99.998</td>\n",
       "    </tr>\n",
       "    <tr>\n",
       "      <th>3</th>\n",
       "      <td>SKQ201617S</td>\n",
       "      <td>sta013</td>\n",
       "      <td>12/29/16</td>\n",
       "      <td>4:05</td>\n",
       "      <td>-104.55603</td>\n",
       "      <td>16.81572</td>\n",
       "      <td>3141</td>\n",
       "      <td>6.036</td>\n",
       "      <td>5.979790</td>\n",
       "      <td>28.4644</td>\n",
       "      <td>28.4641</td>\n",
       "      <td>33.9841</td>\n",
       "      <td>33.9937</td>\n",
       "      <td>0.106</td>\n",
       "      <td>96.5022</td>\n",
       "      <td>0.248</td>\n",
       "      <td>196.963</td>\n",
       "      <td>100.153</td>\n",
       "    </tr>\n",
       "    <tr>\n",
       "      <th>4</th>\n",
       "      <td>SKQ201617S</td>\n",
       "      <td>sta013</td>\n",
       "      <td>12/29/16</td>\n",
       "      <td>4:05</td>\n",
       "      <td>-104.55602</td>\n",
       "      <td>16.81572</td>\n",
       "      <td>3141</td>\n",
       "      <td>7.042</td>\n",
       "      <td>6.976422</td>\n",
       "      <td>28.4685</td>\n",
       "      <td>28.4684</td>\n",
       "      <td>33.9838</td>\n",
       "      <td>33.9933</td>\n",
       "      <td>0.108</td>\n",
       "      <td>96.5036</td>\n",
       "      <td>0.207</td>\n",
       "      <td>197.203</td>\n",
       "      <td>100.281</td>\n",
       "    </tr>\n",
       "  </tbody>\n",
       "</table>\n",
       "</div>"
      ],
      "text/plain": [
       "       Cruise Station mon/dd/yyyy hh:mm  Longitude [degrees east]  \\\n",
       "0  SKQ201617S  sta013    12/29/16  4:05                -104.55608   \n",
       "1  SKQ201617S  sta013    12/29/16  4:05                -104.55604   \n",
       "2  SKQ201617S  sta013    12/29/16  4:05                -104.55604   \n",
       "3  SKQ201617S  sta013    12/29/16  4:05                -104.55603   \n",
       "4  SKQ201617S  sta013    12/29/16  4:05                -104.55602   \n",
       "\n",
       "   Latitude [degrees north]  Bottom Depth [m]  Pressure [db]  Depth (m)  \\\n",
       "0                  16.81572              3141          3.018   2.989895   \n",
       "1                  16.81572              3141          4.024   3.986527   \n",
       "2                  16.81572              3141          5.030   4.983158   \n",
       "3                  16.81572              3141          6.036   5.979790   \n",
       "4                  16.81572              3141          7.042   6.976422   \n",
       "\n",
       "   Temperature [degrees C]  Temperature 2 [degrees C]  Salinity [psu]  \\\n",
       "0                  28.4659                    28.4657         33.9836   \n",
       "1                  28.4648                    28.4643         33.9840   \n",
       "2                  28.4655                    28.4646         33.9839   \n",
       "3                  28.4644                    28.4641         33.9841   \n",
       "4                  28.4685                    28.4684         33.9838   \n",
       "\n",
       "   Salinity 2 [psu]  Fluorescence [mg/m^3]  Beam Transmission [%]  % PAR  \\\n",
       "0           33.9934                  0.115                96.4539  0.563   \n",
       "1           33.9936                  0.107                96.5086  0.450   \n",
       "2           33.9937                  0.110                96.5249  0.304   \n",
       "3           33.9937                  0.106                96.5022  0.248   \n",
       "4           33.9933                  0.108                96.5036  0.207   \n",
       "\n",
       "   Oxygen [umol/kg]  Oxygen [% saturation]  \n",
       "0           196.512                 99.925  \n",
       "1           196.541                 99.938  \n",
       "2           196.655                 99.998  \n",
       "3           196.963                100.153  \n",
       "4           197.203                100.281  "
      ]
     },
     "execution_count": 5,
     "metadata": {},
     "output_type": "execute_result"
    }
   ],
   "source": [
    "# read in as a dataframe the CTD datafile, a csv\n",
    "\n",
    "sta2 = pd.read_csv(\"/home/millieginty/Documents/git-repos/2017-etnp/data/pro2020/ETNP-SKQ17/CTD/skq201617S_stationp2_ctd.csv\")\n",
    "\n",
    "sta2.head()"
   ]
  },
  {
   "cell_type": "code",
   "execution_count": 57,
   "metadata": {},
   "outputs": [
    {
     "data": {
      "text/plain": [
       "<matplotlib.lines.Line2D at 0x7fefb460d730>"
      ]
     },
     "execution_count": 57,
     "metadata": {},
     "output_type": "execute_result"
    },
    {
     "data": {
      "image/png": "[encoded data removed]",
      "text/plain": [
       "<Figure size 1008x432 with 3 Axes>"
      ]
     },
     "metadata": {
      "needs_background": "light"
     },
     "output_type": "display_data"
    }
   ],
   "source": [
    "f, (ax1, ax2, ax3) = plt.subplots(1, 3, sharey=True, figsize=(14, 6))\n",
    "\n",
    "ax1.plot(sta2['Oxygen [umol/kg]'], sta2['Depth (m)'], color = '#e34a33')\n",
    "ax1.invert_yaxis() \n",
    "ax1.set_title('Oxygen')\n",
    "ax1.set_ylabel('Depth (m)')\n",
    "ax1.set_xlabel('Oxygen (umol/kg)', rotation = 20)\n",
    "#ax1.hlines(100, 0, 200, colors='k', linestyles='solid', label='sample')\n",
    "ax1.axhline(y=100, xmin=0, xmax=1, color = 'black')\n",
    "ax1.axhline(y=265, xmin=0, xmax=1, color = 'black')\n",
    "ax1.axhline(y=965, xmin=0, xmax=1, color = 'black')\n",
    "\n",
    "ax2.plot(sta2['Fluorescence [mg/m^3]'], sta2['Depth (m)'], color = '#31a354')\n",
    "ax2.set_title('Fluorescence')\n",
    "#ax2.set_ylabel('Depth (m)')\n",
    "ax2.set_xlabel('Fluorescence (mg/m^3)', rotation = 20)\n",
    "ax2.axhline(y=100, xmin=0, xmax=1, color = 'black')\n",
    "ax2.axhline(y=265, xmin=0, xmax=1, color = 'black')\n",
    "ax2.axhline(y=965, xmin=0, xmax=1, color = 'black')\n",
    "\n",
    "ax3.plot(sta2['% PAR'], sta2['Depth (m)'], color = '#2c7fb8')\n",
    "ax3.set_title('% PAR')\n",
    "#ax3.set_ylabel('Depth (m)')\n",
    "ax3.set_xlabel('Photosynthetically active radiation (%)', rotation = 20)\n",
    "ax3.axhline(y=100, xmin=0, xmax=1, color = 'black')\n",
    "ax3.axhline(y=265, xmin=0, xmax=1, color = 'black')\n",
    "ax3.axhline(y=965, xmin=0, xmax=1, color = 'black')"
   ]
  },
  {
   "cell_type": "code",
   "execution_count": null,
   "metadata": {},
   "outputs": [],
   "source": []
  }
 ],
 "metadata": {
  "kernelspec": {
   "display_name": "Python 3",
   "language": "python",
   "name": "python3"
  },
  "language_info": {
   "codemirror_mode": {
    "name": "ipython",
    "version": 3
   },
   "file_extension": ".py",
   "mimetype": "text/x-python",
   "name": "python",
   "nbconvert_exporter": "python",
   "pygments_lexer": "ipython3",
   "version": "3.8.3"
  }
 },
 "nbformat": 4,
 "nbformat_minor": 4
}
