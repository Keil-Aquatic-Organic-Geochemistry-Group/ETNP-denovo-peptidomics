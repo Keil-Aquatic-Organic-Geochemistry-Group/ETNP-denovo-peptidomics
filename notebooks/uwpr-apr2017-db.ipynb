{
 "cells": [
  {
   "cell_type": "code",
   "execution_count": 1,
   "metadata": {
    "collapsed": false
   },
   "outputs": [
    {
     "name": "stdout",
     "output_type": "stream",
     "text": [
      "Thu Jun 20 13:25:48 PDT 2019\r\n"
     ]
    }
   ],
   "source": [
    "!date"
   ]
  },
  {
   "cell_type": "code",
   "execution_count": 2,
   "metadata": {
    "collapsed": false
   },
   "outputs": [
    {
     "name": "stdout",
     "output_type": "stream",
     "text": [
      "Software:\r\n",
      "\r\n",
      "    System Software Overview:\r\n",
      "\r\n",
      "      System Version: macOS 10.14.5 (18F132)\r\n",
      "      Kernel Version: Darwin 18.6.0\r\n",
      "      Boot Volume: Macintosh HD\r\n",
      "      Boot Mode: Normal\r\n",
      "      Computer Name: Megan’s MacBook Pro (2)\r\n",
      "      User Name: Megan Duffy (meganduffy)\r\n",
      "      Secure Virtual Memory: Enabled\r\n",
      "      System Integrity Protection: Enabled\r\n",
      "      Time since boot: 29 days 2:45\r\n",
      "\r\n"
     ]
    }
   ],
   "source": [
    "!system_profiler SPSoftwareDataType"
   ]
  },
  {
   "cell_type": "markdown",
   "metadata": {},
   "source": [
    "### Notebook to document text extraction and editing of UWPR April 2017 ETNP 2017 P2 McLane sample profile database ID'd peptides\n",
    "### Exported the results of PEAKS 8.5 searches into Git ETNP 2017 data directory\n",
    "### Database ID'd peptides are in running#-peaks#-peptide.csv files"
   ]
  },
  {
   "cell_type": "code",
   "execution_count": null,
   "metadata": {
    "collapsed": true
   },
   "outputs": [],
   "source": []
  }
 ],
 "metadata": {
  "anaconda-cloud": {},
  "kernelspec": {
   "display_name": "Python [default]",
   "language": "python",
   "name": "python3"
  },
  "language_info": {
   "codemirror_mode": {
    "name": "ipython",
    "version": 3
   },
   "file_extension": ".py",
   "mimetype": "text/x-python",
   "name": "python",
   "nbconvert_exporter": "python",
   "pygments_lexer": "ipython3",
   "version": "3.5.2"
  }
 },
 "nbformat": 4,
 "nbformat_minor": 1
}
