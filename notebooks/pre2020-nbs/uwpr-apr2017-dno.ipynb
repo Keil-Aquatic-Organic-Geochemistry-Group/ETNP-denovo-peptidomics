{
 "cells": [
  {
   "cell_type": "code",
   "execution_count": 1,
   "metadata": {
    "collapsed": false
   },
   "outputs": [
    {
     "name": "stdout",
     "output_type": "stream",
     "text": [
      "Mon Jun 24 09:41:12 PDT 2019\r\n"
     ]
    }
   ],
   "source": [
    "!date"
   ]
  },
  {
   "cell_type": "code",
   "execution_count": 2,
   "metadata": {
    "collapsed": false
   },
   "outputs": [
    {
     "name": "stdout",
     "output_type": "stream",
     "text": [
      "Software:\r\n",
      "\r\n",
      "    System Software Overview:\r\n",
      "\r\n",
      "      System Version: macOS 10.14.5 (18F132)\r\n",
      "      Kernel Version: Darwin 18.6.0\r\n",
      "      Boot Volume: Macintosh HD\r\n",
      "      Boot Mode: Normal\r\n",
      "      Computer Name: Megan’s MacBook Pro (2)\r\n",
      "      User Name: Megan Duffy (meganduffy)\r\n",
      "      Secure Virtual Memory: Enabled\r\n",
      "      System Integrity Protection: Enabled\r\n",
      "      Time since boot: 1 day 13:45\r\n",
      "\r\n"
     ]
    }
   ],
   "source": [
    "!system_profiler SPSoftwareDataType"
   ]
  },
  {
   "cell_type": "markdown",
   "metadata": {},
   "source": [
    "### Notebook to document text extraction and editing of UWPR April 2017 ETNP 2017 P2 McLane sample profile _de novo_ only peptides\n",
    "### Exported the results of PEAKS 8.5 searches into Git ETNP 2017 data directory\n",
    "### Note that for 231 (JA2), 233 (JA4) runs, I've re-run searches with `ETNP_assembly_jaqui_additions_hi3_contigs_cyano_gen2017_BSA_Hi3`\n",
    "### But the original runs are also in the UWPR April 2017 directory\n",
    "### _De novo_ only peptides are in `running#-peaks#-dno.csv` files"
   ]
  },
  {
   "cell_type": "code",
   "execution_count": 3,
   "metadata": {
    "collapsed": false
   },
   "outputs": [
    {
     "name": "stdout",
     "output_type": "stream",
     "text": [
      "\u001b[34mUWPR_Apr2017_231-100m-ETNP_PEAKS_97\u001b[m\u001b[m\r\n",
      "\u001b[34mUWPR_Apr2017_231-100m-gf75-ETNP_PEAKS_17\u001b[m\u001b[m\r\n",
      "\u001b[34mUWPR_Apr2017_233-265m-ETNP_PEAKS_105\u001b[m\u001b[m\r\n",
      "\u001b[34mUWPR_Apr2017_233-265m-gf75-ETNP_PEAKS_25\u001b[m\u001b[m\r\n"
     ]
    }
   ],
   "source": [
    "!ls /Users/meganduffy/Documents/git-repos/2017-etnp/data/uwpr-apr2017/"
   ]
  },
  {
   "cell_type": "markdown",
   "metadata": {},
   "source": [
    "### First doing the two samples in this batch relevent to the Pro novo paper, 231 and 233 (P2 2017 100 m and 265 m gf75 McLane):"
   ]
  },
  {
   "cell_type": "markdown",
   "metadata": {},
   "source": [
    "### Sample 231: ETNP 2017 McLane (GF-75) 100m P2 (JA2 - UWPR April 2017, PEAKS 97)"
   ]
  },
  {
   "cell_type": "code",
   "execution_count": 4,
   "metadata": {
    "collapsed": true
   },
   "outputs": [],
   "source": [
    "import os"
   ]
  },
  {
   "cell_type": "code",
   "execution_count": 5,
   "metadata": {
    "collapsed": false
   },
   "outputs": [
    {
     "data": {
      "text/plain": [
       "'/Users/meganduffy/Documents/git-repos/2017-etnp/notebooks'"
      ]
     },
     "execution_count": 5,
     "metadata": {},
     "output_type": "execute_result"
    }
   ],
   "source": [
    "os.getcwd()"
   ]
  },
  {
   "cell_type": "code",
   "execution_count": 6,
   "metadata": {
    "collapsed": true
   },
   "outputs": [],
   "source": [
    "import pandas as pd"
   ]
  },
  {
   "cell_type": "code",
   "execution_count": 7,
   "metadata": {
    "collapsed": false
   },
   "outputs": [
    {
     "data": {
      "text/plain": [
       "'0.18.1'"
      ]
     },
     "execution_count": 7,
     "metadata": {},
     "output_type": "execute_result"
    }
   ],
   "source": [
    "pd.__version__"
   ]
  },
  {
   "cell_type": "code",
   "execution_count": 8,
   "metadata": {
    "collapsed": true
   },
   "outputs": [],
   "source": [
    "data = pd.read_csv(\"/Users/meganduffy/Documents/git-repos/2017-etnp/data/uwpr-apr2017/UWPR_Apr2017_231-100m-ETNP_PEAKS_97/231-peaks97-dno.csv\")"
   ]
  },
  {
   "cell_type": "code",
   "execution_count": 9,
   "metadata": {
    "collapsed": false
   },
   "outputs": [
    {
     "data": {
      "text/html": [
       "<div>\n",
       "<table border=\"1\" class=\"dataframe\">\n",
       "  <thead>\n",
       "    <tr style=\"text-align: right;\">\n",
       "      <th></th>\n",
       "      <th>Fraction</th>\n",
       "      <th>Scan</th>\n",
       "      <th>Source File</th>\n",
       "      <th>Peptide</th>\n",
       "      <th>Tag Length</th>\n",
       "      <th>ALC (%)</th>\n",
       "      <th>length</th>\n",
       "      <th>m/z</th>\n",
       "      <th>z</th>\n",
       "      <th>RT</th>\n",
       "      <th>Area</th>\n",
       "      <th>Mass</th>\n",
       "      <th>ppm</th>\n",
       "      <th>Accession</th>\n",
       "      <th>PTM</th>\n",
       "      <th>local confidence (%)</th>\n",
       "      <th>tag (&gt;=0%)</th>\n",
       "      <th>mode</th>\n",
       "    </tr>\n",
       "  </thead>\n",
       "  <tbody>\n",
       "    <tr>\n",
       "      <th>0</th>\n",
       "      <td>2</td>\n",
       "      <td>21773</td>\n",
       "      <td>20170410_JA2_01.raw</td>\n",
       "      <td>EDLGFLEK</td>\n",
       "      <td>8</td>\n",
       "      <td>98</td>\n",
       "      <td>8</td>\n",
       "      <td>475.7465</td>\n",
       "      <td>2</td>\n",
       "      <td>68.71</td>\n",
       "      <td>2920000.0</td>\n",
       "      <td>949.4756</td>\n",
       "      <td>2.9</td>\n",
       "      <td>NaN</td>\n",
       "      <td>NaN</td>\n",
       "      <td>98 99 99 95 98 98 100 96</td>\n",
       "      <td>EDLGFLEK</td>\n",
       "      <td>CID</td>\n",
       "    </tr>\n",
       "    <tr>\n",
       "      <th>1</th>\n",
       "      <td>2</td>\n",
       "      <td>18632</td>\n",
       "      <td>20170410_JA2_01.raw</td>\n",
       "      <td>LSSLLYDETR</td>\n",
       "      <td>10</td>\n",
       "      <td>97</td>\n",
       "      <td>10</td>\n",
       "      <td>598.8125</td>\n",
       "      <td>2</td>\n",
       "      <td>60.93</td>\n",
       "      <td>1380000.0</td>\n",
       "      <td>1195.6084</td>\n",
       "      <td>1.7</td>\n",
       "      <td>NaN</td>\n",
       "      <td>NaN</td>\n",
       "      <td>95 98 100 100 99 98 97 99 98 88</td>\n",
       "      <td>LSSLLYDETR</td>\n",
       "      <td>CID</td>\n",
       "    </tr>\n",
       "    <tr>\n",
       "      <th>2</th>\n",
       "      <td>2</td>\n",
       "      <td>11873</td>\n",
       "      <td>20170410_JA2_01.raw</td>\n",
       "      <td>EDDLLAK</td>\n",
       "      <td>7</td>\n",
       "      <td>96</td>\n",
       "      <td>7</td>\n",
       "      <td>402.2114</td>\n",
       "      <td>2</td>\n",
       "      <td>41.36</td>\n",
       "      <td>7910000.0</td>\n",
       "      <td>802.4072</td>\n",
       "      <td>1.2</td>\n",
       "      <td>NaN</td>\n",
       "      <td>NaN</td>\n",
       "      <td>98 99 97 98 99 99 87</td>\n",
       "      <td>EDDLLAK</td>\n",
       "      <td>CID</td>\n",
       "    </tr>\n",
       "    <tr>\n",
       "      <th>3</th>\n",
       "      <td>2</td>\n",
       "      <td>6170</td>\n",
       "      <td>20170410_JA2_01.raw</td>\n",
       "      <td>QQAQDEVER</td>\n",
       "      <td>9</td>\n",
       "      <td>95</td>\n",
       "      <td>9</td>\n",
       "      <td>551.7602</td>\n",
       "      <td>2</td>\n",
       "      <td>23.69</td>\n",
       "      <td>452000.0</td>\n",
       "      <td>1101.5051</td>\n",
       "      <td>0.6</td>\n",
       "      <td>NaN</td>\n",
       "      <td>NaN</td>\n",
       "      <td>94 96 99 94 96 98 92 99 94</td>\n",
       "      <td>QQAQDEVER</td>\n",
       "      <td>CID</td>\n",
       "    </tr>\n",
       "    <tr>\n",
       "      <th>4</th>\n",
       "      <td>2</td>\n",
       "      <td>12837</td>\n",
       "      <td>20170410_JA2_01.raw</td>\n",
       "      <td>FTTNLER</td>\n",
       "      <td>7</td>\n",
       "      <td>95</td>\n",
       "      <td>7</td>\n",
       "      <td>440.7311</td>\n",
       "      <td>2</td>\n",
       "      <td>44.33</td>\n",
       "      <td>987000.0</td>\n",
       "      <td>879.4450</td>\n",
       "      <td>3.0</td>\n",
       "      <td>NaN</td>\n",
       "      <td>NaN</td>\n",
       "      <td>95 98 97 92 95 98 93</td>\n",
       "      <td>FTTNLER</td>\n",
       "      <td>CID</td>\n",
       "    </tr>\n",
       "  </tbody>\n",
       "</table>\n",
       "</div>"
      ],
      "text/plain": [
       "   Fraction   Scan          Source File     Peptide  Tag Length  ALC (%)  \\\n",
       "0         2  21773  20170410_JA2_01.raw    EDLGFLEK           8       98   \n",
       "1         2  18632  20170410_JA2_01.raw  LSSLLYDETR          10       97   \n",
       "2         2  11873  20170410_JA2_01.raw     EDDLLAK           7       96   \n",
       "3         2   6170  20170410_JA2_01.raw   QQAQDEVER           9       95   \n",
       "4         2  12837  20170410_JA2_01.raw     FTTNLER           7       95   \n",
       "\n",
       "   length       m/z  z     RT       Area       Mass  ppm Accession  PTM  \\\n",
       "0       8  475.7465  2  68.71  2920000.0   949.4756  2.9       NaN  NaN   \n",
       "1      10  598.8125  2  60.93  1380000.0  1195.6084  1.7       NaN  NaN   \n",
       "2       7  402.2114  2  41.36  7910000.0   802.4072  1.2       NaN  NaN   \n",
       "3       9  551.7602  2  23.69   452000.0  1101.5051  0.6       NaN  NaN   \n",
       "4       7  440.7311  2  44.33   987000.0   879.4450  3.0       NaN  NaN   \n",
       "\n",
       "              local confidence (%)  tag (>=0%) mode  \n",
       "0         98 99 99 95 98 98 100 96    EDLGFLEK  CID  \n",
       "1  95 98 100 100 99 98 97 99 98 88  LSSLLYDETR  CID  \n",
       "2             98 99 97 98 99 99 87     EDDLLAK  CID  \n",
       "3       94 96 99 94 96 98 92 99 94   QQAQDEVER  CID  \n",
       "4             95 98 97 92 95 98 93     FTTNLER  CID  "
      ]
     },
     "execution_count": 9,
     "metadata": {},
     "output_type": "execute_result"
    }
   ],
   "source": [
    "data.head()"
   ]
  },
  {
   "cell_type": "code",
   "execution_count": 10,
   "metadata": {
    "collapsed": true
   },
   "outputs": [],
   "source": [
    "# Keep only peptide column\n",
    "pep = data[[\"Peptide\"]]"
   ]
  },
  {
   "cell_type": "code",
   "execution_count": 11,
   "metadata": {
    "collapsed": false
   },
   "outputs": [
    {
     "data": {
      "text/html": [
       "<div>\n",
       "<table border=\"1\" class=\"dataframe\">\n",
       "  <thead>\n",
       "    <tr style=\"text-align: right;\">\n",
       "      <th></th>\n",
       "      <th>Peptide</th>\n",
       "    </tr>\n",
       "  </thead>\n",
       "  <tbody>\n",
       "    <tr>\n",
       "      <th>0</th>\n",
       "      <td>EDLGFLEK</td>\n",
       "    </tr>\n",
       "    <tr>\n",
       "      <th>1</th>\n",
       "      <td>LSSLLYDETR</td>\n",
       "    </tr>\n",
       "    <tr>\n",
       "      <th>2</th>\n",
       "      <td>EDDLLAK</td>\n",
       "    </tr>\n",
       "    <tr>\n",
       "      <th>3</th>\n",
       "      <td>QQAQDEVER</td>\n",
       "    </tr>\n",
       "    <tr>\n",
       "      <th>4</th>\n",
       "      <td>FTTNLER</td>\n",
       "    </tr>\n",
       "  </tbody>\n",
       "</table>\n",
       "</div>"
      ],
      "text/plain": [
       "      Peptide\n",
       "0    EDLGFLEK\n",
       "1  LSSLLYDETR\n",
       "2     EDDLLAK\n",
       "3   QQAQDEVER\n",
       "4     FTTNLER"
      ]
     },
     "execution_count": 11,
     "metadata": {},
     "output_type": "execute_result"
    }
   ],
   "source": [
    "pep.head()"
   ]
  },
  {
   "cell_type": "code",
   "execution_count": 12,
   "metadata": {
    "collapsed": true
   },
   "outputs": [],
   "source": [
    "# Write altered dataframe to new csv file\n",
    "# Used header and index parameters to get rid of 'Peptide' header and the indexing\n",
    "\n",
    "pep.to_csv(\"/Users/meganduffy/Documents/git-repos/2017-etnp/data/uwpr-apr2017/UWPR_Apr2017_231-100m-ETNP_PEAKS_97/231-peaks97-dnopeps.csv\", header=False, index=False)"
   ]
  },
  {
   "cell_type": "code",
   "execution_count": 13,
   "metadata": {
    "collapsed": true
   },
   "outputs": [],
   "source": [
    "# Write altered dataframe to new txt file\n",
    "# Used header and index parameters to get rid of 'Peptide' header and the indexing\n",
    "\n",
    "pep.to_csv(\"/Users/meganduffy/Documents/git-repos/2017-etnp/data/uwpr-apr2017/UWPR_Apr2017_231-100m-ETNP_PEAKS_97/231-peaks97-dnopeps.txt\", header=False, index=False)"
   ]
  },
  {
   "cell_type": "code",
   "execution_count": 14,
   "metadata": {
    "collapsed": false
   },
   "outputs": [
    {
     "name": "stdout",
     "output_type": "stream",
     "text": [
      "EDLGFLEK\r\n",
      "LSSLLYDETR\r\n",
      "EDDLLAK\r\n",
      "QQAQDEVER\r\n",
      "FTTNLER\r\n",
      "WAVVM(+15.99)K\r\n",
      "FNAWLAK\r\n",
      "SLPPDMPK\r\n",
      "EDLGFLEK\r\n",
      "TPLQQLLR\r\n"
     ]
    }
   ],
   "source": [
    "!head /Users/meganduffy/Documents/git-repos/2017-etnp/data/uwpr-apr2017/UWPR_Apr2017_231-100m-ETNP_PEAKS_97/231-peaks97-dnopeps.txt"
   ]
  },
  {
   "cell_type": "code",
   "execution_count": 15,
   "metadata": {
    "collapsed": true
   },
   "outputs": [],
   "source": [
    "# Removes all characters in parentheses and saves as new file\n",
    "\n",
    "!awk -F \"[()]\" '{ for (i=2; i<NF; i+=2) print $i }' /Users/meganduffy/Documents/git-repos/2017-etnp/data/uwpr-apr2017/UWPR_Apr2017_231-100m-ETNP_PEAKS_97/231-peaks97-dnopeps.txt > /Users/meganduffy/Documents/git-repos/2017-etnp/data/uwpr-apr2017/UWPR_Apr2017_231-100m-ETNP_PEAKS_97/231-peaks97-dno-mods.txt"
   ]
  },
  {
   "cell_type": "code",
   "execution_count": 16,
   "metadata": {
    "collapsed": false
   },
   "outputs": [
    {
     "name": "stdout",
     "output_type": "stream",
     "text": [
      "+15.99\r\n",
      "+15.99\r\n",
      "+57.02\r\n",
      "+15.99\r\n",
      "+15.99\r\n",
      "+15.99\r\n",
      "+15.99\r\n",
      "+15.99\r\n",
      "+15.99\r\n",
      "+57.02\r\n"
     ]
    }
   ],
   "source": [
    "# How does the modifications text file look?\n",
    "\n",
    "!head /Users/meganduffy/Documents/git-repos/2017-etnp/data/uwpr-apr2017/UWPR_Apr2017_231-100m-ETNP_PEAKS_97/231-peaks97-dno-mods.txt"
   ]
  },
  {
   "cell_type": "code",
   "execution_count": 17,
   "metadata": {
    "collapsed": false
   },
   "outputs": [
    {
     "name": "stdout",
     "output_type": "stream",
     "text": [
      "     952 /Users/meganduffy/Documents/git-repos/2017-etnp/data/uwpr-apr2017/UWPR_Apr2017_231-100m-ETNP_PEAKS_97/231-peaks97-dno-mods.txt\r\n"
     ]
    }
   ],
   "source": [
    "# How many modifications for this sample?\n",
    "\n",
    "!wc -l /Users/meganduffy/Documents/git-repos/2017-etnp/data/uwpr-apr2017/UWPR_Apr2017_231-100m-ETNP_PEAKS_97/231-peaks97-dno-mods.txt"
   ]
  },
  {
   "cell_type": "code",
   "execution_count": 18,
   "metadata": {
    "collapsed": false
   },
   "outputs": [
    {
     "name": "stdout",
     "output_type": "stream",
     "text": [
      "    3437 /Users/meganduffy/Documents/git-repos/2017-etnp/data/uwpr-apr2017/UWPR_Apr2017_231-100m-ETNP_PEAKS_97/231-peaks97-dnopeps.txt\r\n"
     ]
    }
   ],
   "source": [
    "# Compared with how many total peptides?\n",
    "\n",
    "!wc -l /Users/meganduffy/Documents/git-repos/2017-etnp/data/uwpr-apr2017/UWPR_Apr2017_231-100m-ETNP_PEAKS_97/231-peaks97-dnopeps.txt"
   ]
  },
  {
   "cell_type": "code",
   "execution_count": 19,
   "metadata": {
    "collapsed": false
   },
   "outputs": [
    {
     "data": {
      "text/plain": [
       "0.2769857433808554"
      ]
     },
     "execution_count": 19,
     "metadata": {},
     "output_type": "execute_result"
    }
   ],
   "source": [
    "# What's the percentage of modified peptides for this sample?\n",
    "\n",
    "952/3437"
   ]
  },
  {
   "cell_type": "code",
   "execution_count": 20,
   "metadata": {
    "collapsed": true
   },
   "outputs": [],
   "source": [
    "# Get rid of modifications from all peptides and save as a new file\n",
    "# Remove '(+15.99)' and '(+57.02)', (+.98) from sequences\n",
    "\n",
    "!sed 's/(+15.99)//g' /Users/meganduffy/Documents/git-repos/2017-etnp/data/uwpr-apr2017/UWPR_Apr2017_231-100m-ETNP_PEAKS_97/231-peaks97-dnopeps.txt \\\n",
    "| sed 's/(+57.02)//g'\\\n",
    "| sed 's/(+.98)//g'\\\n",
    "> /Users/meganduffy/Documents/git-repos/2017-etnp/data/uwpr-apr2017/UWPR_Apr2017_231-100m-ETNP_PEAKS_97/231-peaks97-dno-nomods.txt"
   ]
  },
  {
   "cell_type": "code",
   "execution_count": 21,
   "metadata": {
    "collapsed": false
   },
   "outputs": [
    {
     "name": "stdout",
     "output_type": "stream",
     "text": [
      "EDLGFLEK\r\n",
      "LSSLLYDETR\r\n",
      "EDDLLAK\r\n",
      "QQAQDEVER\r\n",
      "FTTNLER\r\n",
      "WAVVMK\r\n",
      "FNAWLAK\r\n",
      "SLPPDMPK\r\n",
      "EDLGFLEK\r\n",
      "TPLQQLLR\r\n"
     ]
    }
   ],
   "source": [
    "!head /Users/meganduffy/Documents/git-repos/2017-etnp/data/uwpr-apr2017/UWPR_Apr2017_231-100m-ETNP_PEAKS_97/231-peaks97-dno-nomods.txt"
   ]
  },
  {
   "cell_type": "code",
   "execution_count": 22,
   "metadata": {
    "collapsed": false
   },
   "outputs": [
    {
     "name": "stdout",
     "output_type": "stream",
     "text": [
      "231-peaks97-DB-search-psm.csv    231-peaks97-dno.csv\r\n",
      "231-peaks97-db-mods.txt          231-peaks97-dnopeps.csv\r\n",
      "231-peaks97-db-nomods.txt        231-peaks97-dnopeps.txt\r\n",
      "231-peaks97-dbpeps.csv           231-peaks97-peptide.csv\r\n",
      "231-peaks97-dbpeps.txt           231-peaks97-protein-peptides.csv\r\n",
      "231-peaks97-dno-mods.txt         231-peaks97-proteins.csv\r\n",
      "231-peaks97-dno-nomods.txt       231-peaks97-proteins.fasta\r\n"
     ]
    }
   ],
   "source": [
    "!ls /Users/meganduffy/Documents/git-repos/2017-etnp/data/uwpr-apr2017/UWPR_Apr2017_231-100m-ETNP_PEAKS_97/"
   ]
  },
  {
   "cell_type": "markdown",
   "metadata": {},
   "source": [
    "### Sample 233: ETNP 2017 McLane (GF-75) 265m P2 (JA2 - UWPR April 2017, PEAKS 105)"
   ]
  },
  {
   "cell_type": "code",
   "execution_count": 23,
   "metadata": {
    "collapsed": false
   },
   "outputs": [
    {
     "name": "stdout",
     "output_type": "stream",
     "text": [
      "233-peaks105-DB-search-psm.csv    233-peaks105-dno.csv\r\n",
      "233-peaks105-db-mods.txt          233-peaks105-peptide.csv\r\n",
      "233-peaks105-db-nomods.txt        233-peaks105-protein-peptides.csv\r\n",
      "233-peaks105-dbpeps.csv           233-peaks105-proteins.csv\r\n",
      "233-peaks105-dbpeps.txt           233-peaks105-proteins.fasta\r\n"
     ]
    }
   ],
   "source": [
    "!ls /Users/meganduffy/Documents/git-repos/2017-etnp/data/uwpr-apr2017/UWPR_Apr2017_233-265m-ETNP_PEAKS_105/"
   ]
  },
  {
   "cell_type": "code",
   "execution_count": 24,
   "metadata": {
    "collapsed": true
   },
   "outputs": [],
   "source": [
    "data = pd.read_csv(\"/Users/meganduffy/Documents/git-repos/2017-etnp/data/uwpr-apr2017/UWPR_Apr2017_233-265m-ETNP_PEAKS_105/233-peaks105-dno.csv\")"
   ]
  },
  {
   "cell_type": "code",
   "execution_count": 25,
   "metadata": {
    "collapsed": false
   },
   "outputs": [
    {
     "data": {
      "text/html": [
       "<div>\n",
       "<table border=\"1\" class=\"dataframe\">\n",
       "  <thead>\n",
       "    <tr style=\"text-align: right;\">\n",
       "      <th></th>\n",
       "      <th>Fraction</th>\n",
       "      <th>Scan</th>\n",
       "      <th>Source File</th>\n",
       "      <th>Peptide</th>\n",
       "      <th>Tag Length</th>\n",
       "      <th>ALC (%)</th>\n",
       "      <th>length</th>\n",
       "      <th>m/z</th>\n",
       "      <th>z</th>\n",
       "      <th>RT</th>\n",
       "      <th>Area</th>\n",
       "      <th>Mass</th>\n",
       "      <th>ppm</th>\n",
       "      <th>Accession</th>\n",
       "      <th>PTM</th>\n",
       "      <th>local confidence (%)</th>\n",
       "      <th>tag (&gt;=0%)</th>\n",
       "      <th>mode</th>\n",
       "    </tr>\n",
       "  </thead>\n",
       "  <tbody>\n",
       "    <tr>\n",
       "      <th>0</th>\n",
       "      <td>4</td>\n",
       "      <td>13102</td>\n",
       "      <td>20170410_JA4_01.raw</td>\n",
       "      <td>ASDLEEYAK</td>\n",
       "      <td>9</td>\n",
       "      <td>96</td>\n",
       "      <td>9</td>\n",
       "      <td>513.2433</td>\n",
       "      <td>2</td>\n",
       "      <td>45.14</td>\n",
       "      <td>1440000.0</td>\n",
       "      <td>1024.4712</td>\n",
       "      <td>0.8</td>\n",
       "      <td>NaN</td>\n",
       "      <td>NaN</td>\n",
       "      <td>95 99 100 100 99 99 89 95 96</td>\n",
       "      <td>ASDLEEYAK</td>\n",
       "      <td>CID</td>\n",
       "    </tr>\n",
       "    <tr>\n",
       "      <th>1</th>\n",
       "      <td>4</td>\n",
       "      <td>8027</td>\n",
       "      <td>20170410_JA4_01.raw</td>\n",
       "      <td>LNKLTRSK</td>\n",
       "      <td>8</td>\n",
       "      <td>96</td>\n",
       "      <td>8</td>\n",
       "      <td>480.2990</td>\n",
       "      <td>2</td>\n",
       "      <td>28.98</td>\n",
       "      <td>875000.0</td>\n",
       "      <td>958.5923</td>\n",
       "      <td>-9.2</td>\n",
       "      <td>NaN</td>\n",
       "      <td>NaN</td>\n",
       "      <td>92 95 99 100 95 93 98 99</td>\n",
       "      <td>LNKLTRSK</td>\n",
       "      <td>CID</td>\n",
       "    </tr>\n",
       "    <tr>\n",
       "      <th>2</th>\n",
       "      <td>4</td>\n",
       "      <td>22952</td>\n",
       "      <td>20170410_JA4_01.raw</td>\n",
       "      <td>WAVVM(+15.99)K</td>\n",
       "      <td>6</td>\n",
       "      <td>96</td>\n",
       "      <td>6</td>\n",
       "      <td>375.2030</td>\n",
       "      <td>2</td>\n",
       "      <td>73.40</td>\n",
       "      <td>217000.0</td>\n",
       "      <td>748.3942</td>\n",
       "      <td>-3.6</td>\n",
       "      <td>NaN</td>\n",
       "      <td>Oxidation (M)</td>\n",
       "      <td>98 96 94 95 96 98</td>\n",
       "      <td>WAVVM(+15.99)K</td>\n",
       "      <td>CID</td>\n",
       "    </tr>\n",
       "    <tr>\n",
       "      <th>3</th>\n",
       "      <td>4</td>\n",
       "      <td>6910</td>\n",
       "      <td>20170410_JA4_01.raw</td>\n",
       "      <td>DPLEAVSK</td>\n",
       "      <td>8</td>\n",
       "      <td>96</td>\n",
       "      <td>8</td>\n",
       "      <td>429.7324</td>\n",
       "      <td>2</td>\n",
       "      <td>25.27</td>\n",
       "      <td>3300000.0</td>\n",
       "      <td>857.4494</td>\n",
       "      <td>1.0</td>\n",
       "      <td>ETNP14_68:NP_85:NP_125:ETNP14_68:ETNP14_120:ET...</td>\n",
       "      <td>NaN</td>\n",
       "      <td>87 92 99 98 95 99 100 99</td>\n",
       "      <td>DPLEAVSK</td>\n",
       "      <td>CID</td>\n",
       "    </tr>\n",
       "    <tr>\n",
       "      <th>4</th>\n",
       "      <td>4</td>\n",
       "      <td>21387</td>\n",
       "      <td>20170410_JA4_01.raw</td>\n",
       "      <td>EPVLLVK</td>\n",
       "      <td>7</td>\n",
       "      <td>96</td>\n",
       "      <td>7</td>\n",
       "      <td>399.2608</td>\n",
       "      <td>2</td>\n",
       "      <td>69.80</td>\n",
       "      <td>9910000.0</td>\n",
       "      <td>796.5058</td>\n",
       "      <td>1.6</td>\n",
       "      <td>NaN</td>\n",
       "      <td>NaN</td>\n",
       "      <td>99 97 99 99 98 93 88</td>\n",
       "      <td>EPVLLVK</td>\n",
       "      <td>CID</td>\n",
       "    </tr>\n",
       "  </tbody>\n",
       "</table>\n",
       "</div>"
      ],
      "text/plain": [
       "   Fraction   Scan          Source File         Peptide  Tag Length  ALC (%)  \\\n",
       "0         4  13102  20170410_JA4_01.raw       ASDLEEYAK           9       96   \n",
       "1         4   8027  20170410_JA4_01.raw        LNKLTRSK           8       96   \n",
       "2         4  22952  20170410_JA4_01.raw  WAVVM(+15.99)K           6       96   \n",
       "3         4   6910  20170410_JA4_01.raw        DPLEAVSK           8       96   \n",
       "4         4  21387  20170410_JA4_01.raw         EPVLLVK           7       96   \n",
       "\n",
       "   length       m/z  z     RT       Area       Mass  ppm  \\\n",
       "0       9  513.2433  2  45.14  1440000.0  1024.4712  0.8   \n",
       "1       8  480.2990  2  28.98   875000.0   958.5923 -9.2   \n",
       "2       6  375.2030  2  73.40   217000.0   748.3942 -3.6   \n",
       "3       8  429.7324  2  25.27  3300000.0   857.4494  1.0   \n",
       "4       7  399.2608  2  69.80  9910000.0   796.5058  1.6   \n",
       "\n",
       "                                           Accession            PTM  \\\n",
       "0                                                NaN            NaN   \n",
       "1                                                NaN            NaN   \n",
       "2                                                NaN  Oxidation (M)   \n",
       "3  ETNP14_68:NP_85:NP_125:ETNP14_68:ETNP14_120:ET...            NaN   \n",
       "4                                                NaN            NaN   \n",
       "\n",
       "           local confidence (%)      tag (>=0%) mode  \n",
       "0  95 99 100 100 99 99 89 95 96       ASDLEEYAK  CID  \n",
       "1      92 95 99 100 95 93 98 99        LNKLTRSK  CID  \n",
       "2             98 96 94 95 96 98  WAVVM(+15.99)K  CID  \n",
       "3      87 92 99 98 95 99 100 99        DPLEAVSK  CID  \n",
       "4          99 97 99 99 98 93 88         EPVLLVK  CID  "
      ]
     },
     "execution_count": 25,
     "metadata": {},
     "output_type": "execute_result"
    }
   ],
   "source": [
    "data.head()"
   ]
  },
  {
   "cell_type": "code",
   "execution_count": 26,
   "metadata": {
    "collapsed": true
   },
   "outputs": [],
   "source": [
    "# Keep only peptide column\n",
    "pep = data[[\"Peptide\"]]"
   ]
  },
  {
   "cell_type": "code",
   "execution_count": 27,
   "metadata": {
    "collapsed": false
   },
   "outputs": [
    {
     "data": {
      "text/html": [
       "<div>\n",
       "<table border=\"1\" class=\"dataframe\">\n",
       "  <thead>\n",
       "    <tr style=\"text-align: right;\">\n",
       "      <th></th>\n",
       "      <th>Peptide</th>\n",
       "    </tr>\n",
       "  </thead>\n",
       "  <tbody>\n",
       "    <tr>\n",
       "      <th>0</th>\n",
       "      <td>ASDLEEYAK</td>\n",
       "    </tr>\n",
       "    <tr>\n",
       "      <th>1</th>\n",
       "      <td>LNKLTRSK</td>\n",
       "    </tr>\n",
       "    <tr>\n",
       "      <th>2</th>\n",
       "      <td>WAVVM(+15.99)K</td>\n",
       "    </tr>\n",
       "    <tr>\n",
       "      <th>3</th>\n",
       "      <td>DPLEAVSK</td>\n",
       "    </tr>\n",
       "    <tr>\n",
       "      <th>4</th>\n",
       "      <td>EPVLLVK</td>\n",
       "    </tr>\n",
       "  </tbody>\n",
       "</table>\n",
       "</div>"
      ],
      "text/plain": [
       "          Peptide\n",
       "0       ASDLEEYAK\n",
       "1        LNKLTRSK\n",
       "2  WAVVM(+15.99)K\n",
       "3        DPLEAVSK\n",
       "4         EPVLLVK"
      ]
     },
     "execution_count": 27,
     "metadata": {},
     "output_type": "execute_result"
    }
   ],
   "source": [
    "pep.head()"
   ]
  },
  {
   "cell_type": "code",
   "execution_count": 28,
   "metadata": {
    "collapsed": true
   },
   "outputs": [],
   "source": [
    "# Write altered dataframe to new csv file\n",
    "# Used header and index parameters to get rid of 'Peptide' header and the indexing\n",
    "\n",
    "pep.to_csv(\"/Users/meganduffy/Documents/git-repos/2017-etnp/data/uwpr-apr2017/UWPR_Apr2017_233-265m-ETNP_PEAKS_105/233-peaks105-dnopeps.csv\", header=False, index=False)"
   ]
  },
  {
   "cell_type": "code",
   "execution_count": 29,
   "metadata": {
    "collapsed": true
   },
   "outputs": [],
   "source": [
    "# Write altered dataframe to new txt file\n",
    "# Used header and index parameters to get rid of 'Peptide' header and the indexing\n",
    "\n",
    "pep.to_csv(\"/Users/meganduffy/Documents/git-repos/2017-etnp/data/uwpr-apr2017/UWPR_Apr2017_233-265m-ETNP_PEAKS_105/233-peaks105-dnopeps.txt\", header=False, index=False)"
   ]
  },
  {
   "cell_type": "code",
   "execution_count": 30,
   "metadata": {
    "collapsed": false
   },
   "outputs": [
    {
     "name": "stdout",
     "output_type": "stream",
     "text": [
      "ASDLEEYAK\r\n",
      "LNKLTRSK\r\n",
      "WAVVM(+15.99)K\r\n",
      "DPLEAVSK\r\n",
      "EPVLLVK\r\n",
      "WAYLPR\r\n",
      "WSNNVAELLR\r\n",
      "VKLYEK\r\n",
      "TQELLR\r\n",
      "FGFLER\r\n"
     ]
    }
   ],
   "source": [
    "!head /Users/meganduffy/Documents/git-repos/2017-etnp/data/uwpr-apr2017/UWPR_Apr2017_233-265m-ETNP_PEAKS_105/233-peaks105-dnopeps.txt"
   ]
  },
  {
   "cell_type": "code",
   "execution_count": 31,
   "metadata": {
    "collapsed": true
   },
   "outputs": [],
   "source": [
    "# Removes all characters in parentheses and saves as new file\n",
    "\n",
    "!awk -F \"[()]\" '{ for (i=2; i<NF; i+=2) print $i }' /Users/meganduffy/Documents/git-repos/2017-etnp/data/uwpr-apr2017/UWPR_Apr2017_233-265m-ETNP_PEAKS_105/233-peaks105-dnopeps.txt > /Users/meganduffy/Documents/git-repos/2017-etnp/data/uwpr-apr2017/UWPR_Apr2017_233-265m-ETNP_PEAKS_105/233-peaks105-dno-mods.txt"
   ]
  },
  {
   "cell_type": "code",
   "execution_count": 32,
   "metadata": {
    "collapsed": false
   },
   "outputs": [
    {
     "name": "stdout",
     "output_type": "stream",
     "text": [
      "+15.99\r\n",
      "+57.02\r\n",
      "+57.02\r\n",
      "+57.02\r\n",
      "+15.99\r\n",
      "+15.99\r\n",
      "+57.02\r\n",
      "+57.02\r\n",
      "+15.99\r\n",
      "+15.99\r\n"
     ]
    }
   ],
   "source": [
    "# How does the modifications text file look?\n",
    "\n",
    "!head /Users/meganduffy/Documents/git-repos/2017-etnp/data/uwpr-apr2017/UWPR_Apr2017_233-265m-ETNP_PEAKS_105/233-peaks105-dno-mods.txt"
   ]
  },
  {
   "cell_type": "code",
   "execution_count": 33,
   "metadata": {
    "collapsed": false
   },
   "outputs": [
    {
     "name": "stdout",
     "output_type": "stream",
     "text": [
      "     844 /Users/meganduffy/Documents/git-repos/2017-etnp/data/uwpr-apr2017/UWPR_Apr2017_233-265m-ETNP_PEAKS_105/233-peaks105-dno-mods.txt\r\n"
     ]
    }
   ],
   "source": [
    "# How many modifications for this sample?\n",
    "\n",
    "!wc -l /Users/meganduffy/Documents/git-repos/2017-etnp/data/uwpr-apr2017/UWPR_Apr2017_233-265m-ETNP_PEAKS_105/233-peaks105-dno-mods.txt"
   ]
  },
  {
   "cell_type": "code",
   "execution_count": 34,
   "metadata": {
    "collapsed": false
   },
   "outputs": [
    {
     "name": "stdout",
     "output_type": "stream",
     "text": [
      "    2854 /Users/meganduffy/Documents/git-repos/2017-etnp/data/uwpr-apr2017/UWPR_Apr2017_233-265m-ETNP_PEAKS_105/233-peaks105-dnopeps.txt\r\n"
     ]
    }
   ],
   "source": [
    "# Compared with how many total peptides?\n",
    "\n",
    "!wc -l /Users/meganduffy/Documents/git-repos/2017-etnp/data/uwpr-apr2017/UWPR_Apr2017_233-265m-ETNP_PEAKS_105/233-peaks105-dnopeps.txt"
   ]
  },
  {
   "cell_type": "code",
   "execution_count": 35,
   "metadata": {
    "collapsed": false
   },
   "outputs": [
    {
     "data": {
      "text/plain": [
       "0.29572529782761037"
      ]
     },
     "execution_count": 35,
     "metadata": {},
     "output_type": "execute_result"
    }
   ],
   "source": [
    "# What's the percentage of modified peptides for this sample?\n",
    "\n",
    "844/2854"
   ]
  },
  {
   "cell_type": "code",
   "execution_count": 36,
   "metadata": {
    "collapsed": true
   },
   "outputs": [],
   "source": [
    "# Get rid of modifications from all peptides and save as a new file\n",
    "# Remove '(+15.99)' and '(+57.02)', (+.98) from sequences\n",
    "\n",
    "!sed 's/(+15.99)//g' /Users/meganduffy/Documents/git-repos/2017-etnp/data/uwpr-apr2017/UWPR_Apr2017_233-265m-ETNP_PEAKS_105/233-peaks105-dnopeps.txt \\\n",
    "| sed 's/(+57.02)//g'\\\n",
    "| sed 's/(+.98)//g'\\\n",
    "> /Users/meganduffy/Documents/git-repos/2017-etnp/data/uwpr-apr2017/UWPR_Apr2017_233-265m-ETNP_PEAKS_105/233-peaks105-dno-nomods.txt"
   ]
  },
  {
   "cell_type": "code",
   "execution_count": 38,
   "metadata": {
    "collapsed": false
   },
   "outputs": [
    {
     "name": "stdout",
     "output_type": "stream",
     "text": [
      "ASDLEEYAK\r\n",
      "LNKLTRSK\r\n",
      "WAVVMK\r\n",
      "DPLEAVSK\r\n",
      "EPVLLVK\r\n",
      "WAYLPR\r\n",
      "WSNNVAELLR\r\n",
      "VKLYEK\r\n",
      "TQELLR\r\n",
      "FGFLER\r\n"
     ]
    }
   ],
   "source": [
    "!head /Users/meganduffy/Documents/git-repos/2017-etnp/data/uwpr-apr2017/UWPR_Apr2017_233-265m-ETNP_PEAKS_105/233-peaks105-dno-nomods.txt"
   ]
  },
  {
   "cell_type": "code",
   "execution_count": 39,
   "metadata": {
    "collapsed": false
   },
   "outputs": [
    {
     "name": "stdout",
     "output_type": "stream",
     "text": [
      "233-peaks105-DB-search-psm.csv    233-peaks105-dno.csv\r\n",
      "233-peaks105-db-mods.txt          233-peaks105-dnopeps.csv\r\n",
      "233-peaks105-db-nomods.txt        233-peaks105-dnopeps.txt\r\n",
      "233-peaks105-dbpeps.csv           233-peaks105-peptide.csv\r\n",
      "233-peaks105-dbpeps.txt           233-peaks105-protein-peptides.csv\r\n",
      "233-peaks105-dno-mods.txt         233-peaks105-proteins.csv\r\n",
      "233-peaks105-dno-nomods.txt       233-peaks105-proteins.fasta\r\n"
     ]
    }
   ],
   "source": [
    "!ls /Users/meganduffy/Documents/git-repos/2017-etnp/data/uwpr-apr2017/UWPR_Apr2017_233-265m-ETNP_PEAKS_105/"
   ]
  },
  {
   "cell_type": "markdown",
   "metadata": {},
   "source": [
    "### All done with this UWPR Apr 2017 for now! (6/26/19)"
   ]
  },
  {
   "cell_type": "code",
   "execution_count": null,
   "metadata": {
    "collapsed": true
   },
   "outputs": [],
   "source": []
  }
 ],
 "metadata": {
  "anaconda-cloud": {},
  "kernelspec": {
   "display_name": "Python [default]",
   "language": "python",
   "name": "python3"
  },
  "language_info": {
   "codemirror_mode": {
    "name": "ipython",
    "version": 3
   },
   "file_extension": ".py",
   "mimetype": "text/x-python",
   "name": "python",
   "nbconvert_exporter": "python",
   "pygments_lexer": "ipython3",
   "version": "3.5.2"
  }
 },
 "nbformat": 4,
 "nbformat_minor": 1
}
