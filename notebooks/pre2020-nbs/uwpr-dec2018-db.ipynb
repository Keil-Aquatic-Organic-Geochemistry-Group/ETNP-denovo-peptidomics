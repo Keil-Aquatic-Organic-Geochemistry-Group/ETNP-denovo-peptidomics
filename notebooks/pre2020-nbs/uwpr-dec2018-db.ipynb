{
 "cells": [
  {
   "cell_type": "code",
   "execution_count": 1,
   "metadata": {
    "collapsed": false
   },
   "outputs": [
    {
     "name": "stdout",
     "output_type": "stream",
     "text": [
      "Fri Jun 14 17:18:24 PDT 2019\r\n"
     ]
    }
   ],
   "source": [
    "!date"
   ]
  },
  {
   "cell_type": "code",
   "execution_count": 2,
   "metadata": {
    "collapsed": false
   },
   "outputs": [
    {
     "name": "stdout",
     "output_type": "stream",
     "text": [
      "Software:\r\n",
      "\r\n",
      "    System Software Overview:\r\n",
      "\r\n",
      "      System Version: macOS 10.14.5 (18F132)\r\n",
      "      Kernel Version: Darwin 18.6.0\r\n",
      "      Boot Volume: Macintosh HD\r\n",
      "      Boot Mode: Normal\r\n",
      "      Computer Name: Megan’s MacBook Pro (2)\r\n",
      "      User Name: Megan Duffy (meganduffy)\r\n",
      "      Secure Virtual Memory: Enabled\r\n",
      "      System Integrity Protection: Enabled\r\n",
      "      Time since boot: 23 days 6:37\r\n",
      "\r\n"
     ]
    }
   ],
   "source": [
    "!system_profiler SPSoftwareDataType"
   ]
  },
  {
   "cell_type": "markdown",
   "metadata": {},
   "source": [
    "### Notebook to document text extraction and editing of UWPR December 2018 ETNP 2017 P1 McLane sample profile (plus several P2 trap samples including 378) database ID'd peptides\n",
    "\n",
    "### Exported the results of PEAKS 8.5 searches into Git ETNP 2017 data directory\n",
    "\n",
    "### Database ID'd peptides are in `running#-peaks#-peptide.csv` files"
   ]
  },
  {
   "cell_type": "code",
   "execution_count": 3,
   "metadata": {
    "collapsed": false
   },
   "outputs": [
    {
     "name": "stdout",
     "output_type": "stream",
     "text": [
      "\u001b[34mUWPR_Dec2018_366-50m-gf75-ETNP_PEAKS_21\u001b[m\u001b[m\r\n",
      "\u001b[34mUWPR_Dec2018_367-80m-gf75-ETNP_PEAKS_25\u001b[m\u001b[m\r\n",
      "\u001b[34mUWPR_Dec2018_368-100m-gf75-ETNP_PEAKS_29\u001b[m\u001b[m\r\n",
      "\u001b[34mUWPR_Dec2018_369-265m-gf75-ETNP_PEAKS_33\u001b[m\u001b[m\r\n",
      "\u001b[34mUWPR_Dec2018_370-700m-gf75-ETNP_PEAKS_37\u001b[m\u001b[m\r\n",
      "\u001b[34mUWPR_Dec2018_371-1000m-gf75-ETNP_PEAKS_41\u001b[m\u001b[m\r\n",
      "\u001b[34mUWPR_Dec2018_372-50m-gfd-ETNP_PEAKS_45\u001b[m\u001b[m\r\n",
      "\u001b[34mUWPR_Dec2018_373-80m-gfd-ETNP_PEAKS_49\u001b[m\u001b[m\r\n",
      "\u001b[34mUWPR_Dec2018_374-100m-gfd-ETNP_PEAKS_53\u001b[m\u001b[m\r\n",
      "\u001b[34mUWPR_Dec2018_376-700m-gfd-ETNP_PEAKS_57\u001b[m\u001b[m\r\n",
      "\u001b[34mUWPR_Dec2018_377-1000m-gfd-ETNP_PEAKS_61\u001b[m\u001b[m\r\n",
      "\u001b[34mUWPR_Dec2018_378-trap-2-14-100m-ETNP-PEAKS_80\u001b[m\u001b[m\r\n",
      "\u001b[34mUWPR_Dec2018_379-trap-2-14-150m-ETNP-PEAKS_76\u001b[m\u001b[m\r\n",
      "\u001b[34mUWPR_Dec2018_380-trap-4-4-700m-ETNP_PEAKS_84\u001b[m\u001b[m\r\n",
      "\u001b[34mUWPR_Dec2018_peaks16-combined_ETNP_PEAKS_16\u001b[m\u001b[m\r\n"
     ]
    }
   ],
   "source": [
    "!ls /Users/meganduffy/Documents/git-repos/2017-etnp/data/uwpr-dec2018"
   ]
  },
  {
   "cell_type": "markdown",
   "metadata": {},
   "source": [
    "### First doing the one sample in this batch relevent to the Pro novo paper, 378 (P2 2017 100ish m trap):"
   ]
  },
  {
   "cell_type": "code",
   "execution_count": 4,
   "metadata": {
    "collapsed": false
   },
   "outputs": [
    {
     "name": "stdout",
     "output_type": "stream",
     "text": [
      "378-peaks80-DB-search-psm.csv    378-peaks80-dnopeps.txt\r\n",
      "378-peaks80-dno-mods.txt         378-peaks80-peptide.csv\r\n",
      "378-peaks80-dno-nomods.txt       378-peaks80-protein-peptides.csv\r\n",
      "378-peaks80-dno.csv              378-peaks80-proteins.csv\r\n",
      "378-peaks80-dnopeps.csv          378-peaks80-proteins.fasta\r\n"
     ]
    }
   ],
   "source": [
    "!ls /Users/meganduffy/Documents/git-repos/2017-etnp/data/uwpr-dec2018/UWPR_Dec2018_378-trap-2-14-100m-ETNP-PEAKS_80/"
   ]
  },
  {
   "cell_type": "code",
   "execution_count": 5,
   "metadata": {
    "collapsed": true
   },
   "outputs": [],
   "source": [
    "import os"
   ]
  },
  {
   "cell_type": "code",
   "execution_count": 6,
   "metadata": {
    "collapsed": false
   },
   "outputs": [
    {
     "data": {
      "text/plain": [
       "'/Users/meganduffy/Documents/git-repos/2017-etnp/notebooks'"
      ]
     },
     "execution_count": 6,
     "metadata": {},
     "output_type": "execute_result"
    }
   ],
   "source": [
    "os.getcwd()"
   ]
  },
  {
   "cell_type": "code",
   "execution_count": 7,
   "metadata": {
    "collapsed": true
   },
   "outputs": [],
   "source": [
    "import pandas as pd"
   ]
  },
  {
   "cell_type": "code",
   "execution_count": 8,
   "metadata": {
    "collapsed": false
   },
   "outputs": [
    {
     "data": {
      "text/plain": [
       "'0.18.1'"
      ]
     },
     "execution_count": 8,
     "metadata": {},
     "output_type": "execute_result"
    }
   ],
   "source": [
    "pd.__version__"
   ]
  },
  {
   "cell_type": "code",
   "execution_count": 9,
   "metadata": {
    "collapsed": true
   },
   "outputs": [],
   "source": [
    "data = pd.read_csv(\"/Users/meganduffy/Documents/git-repos/2017-etnp/data/uwpr-dec2018/UWPR_Dec2018_378-trap-2-14-100m-ETNP-PEAKS_80/378-peaks80-peptide.csv\")"
   ]
  },
  {
   "cell_type": "code",
   "execution_count": 12,
   "metadata": {
    "collapsed": false
   },
   "outputs": [
    {
     "data": {
      "text/html": [
       "<div>\n",
       "<table border=\"1\" class=\"dataframe\">\n",
       "  <thead>\n",
       "    <tr style=\"text-align: right;\">\n",
       "      <th></th>\n",
       "      <th>Peptide</th>\n",
       "      <th>-10lgP</th>\n",
       "      <th>Mass</th>\n",
       "      <th>Length</th>\n",
       "      <th>ppm</th>\n",
       "      <th>m/z</th>\n",
       "      <th>RT</th>\n",
       "      <th>Area 388</th>\n",
       "      <th>Fraction</th>\n",
       "      <th>Scan</th>\n",
       "      <th>Source File</th>\n",
       "      <th>#Spec</th>\n",
       "      <th>#Spec 388</th>\n",
       "      <th>Accession</th>\n",
       "      <th>PTM</th>\n",
       "      <th>AScore</th>\n",
       "    </tr>\n",
       "  </thead>\n",
       "  <tbody>\n",
       "    <tr>\n",
       "      <th>0</th>\n",
       "      <td>LPQVEGTGGDVQPSQDLVR</td>\n",
       "      <td>102.52</td>\n",
       "      <td>1994.0068</td>\n",
       "      <td>19</td>\n",
       "      <td>0.2</td>\n",
       "      <td>998.0109</td>\n",
       "      <td>54.03</td>\n",
       "      <td>63800000.0</td>\n",
       "      <td>14</td>\n",
       "      <td>15243</td>\n",
       "      <td>20181214_378_etnp2017_100m_trap.raw</td>\n",
       "      <td>4</td>\n",
       "      <td>4</td>\n",
       "      <td>54036848</td>\n",
       "      <td>NaN</td>\n",
       "      <td>NaN</td>\n",
       "    </tr>\n",
       "    <tr>\n",
       "      <th>1</th>\n",
       "      <td>VIGQNEAVDAVSNAIR</td>\n",
       "      <td>74.03</td>\n",
       "      <td>1654.8638</td>\n",
       "      <td>16</td>\n",
       "      <td>0.7</td>\n",
       "      <td>828.4398</td>\n",
       "      <td>64.54</td>\n",
       "      <td>41700000.0</td>\n",
       "      <td>14</td>\n",
       "      <td>18159</td>\n",
       "      <td>20181214_378_etnp2017_100m_trap.raw</td>\n",
       "      <td>6</td>\n",
       "      <td>6</td>\n",
       "      <td>54036848</td>\n",
       "      <td>NaN</td>\n",
       "      <td>NaN</td>\n",
       "    </tr>\n",
       "    <tr>\n",
       "      <th>2</th>\n",
       "      <td>AIQQQIENPLAQQILSGELVPGK</td>\n",
       "      <td>70.68</td>\n",
       "      <td>2473.3540</td>\n",
       "      <td>23</td>\n",
       "      <td>0.2</td>\n",
       "      <td>825.4587</td>\n",
       "      <td>86.70</td>\n",
       "      <td>774000.0</td>\n",
       "      <td>14</td>\n",
       "      <td>24111</td>\n",
       "      <td>20181214_378_etnp2017_100m_trap.raw</td>\n",
       "      <td>2</td>\n",
       "      <td>2</td>\n",
       "      <td>54036848</td>\n",
       "      <td>NaN</td>\n",
       "      <td>NaN</td>\n",
       "    </tr>\n",
       "    <tr>\n",
       "      <th>3</th>\n",
       "      <td>NNPVLIGEPGVGK</td>\n",
       "      <td>52.77</td>\n",
       "      <td>1292.7089</td>\n",
       "      <td>13</td>\n",
       "      <td>0.8</td>\n",
       "      <td>647.3622</td>\n",
       "      <td>50.37</td>\n",
       "      <td>120000000.0</td>\n",
       "      <td>14</td>\n",
       "      <td>14072</td>\n",
       "      <td>20181214_378_etnp2017_100m_trap.raw</td>\n",
       "      <td>6</td>\n",
       "      <td>6</td>\n",
       "      <td>54036848:WP_012180368.1:ETNP14_120</td>\n",
       "      <td>NaN</td>\n",
       "      <td>NaN</td>\n",
       "    </tr>\n",
       "    <tr>\n",
       "      <th>4</th>\n",
       "      <td>AIDLIDEAASSIR</td>\n",
       "      <td>51.98</td>\n",
       "      <td>1372.7197</td>\n",
       "      <td>13</td>\n",
       "      <td>0.4</td>\n",
       "      <td>458.5807</td>\n",
       "      <td>76.04</td>\n",
       "      <td>26000000.0</td>\n",
       "      <td>14</td>\n",
       "      <td>21358</td>\n",
       "      <td>20181214_378_etnp2017_100m_trap.raw</td>\n",
       "      <td>6</td>\n",
       "      <td>6</td>\n",
       "      <td>54036848</td>\n",
       "      <td>NaN</td>\n",
       "      <td>NaN</td>\n",
       "    </tr>\n",
       "  </tbody>\n",
       "</table>\n",
       "</div>"
      ],
      "text/plain": [
       "                   Peptide  -10lgP       Mass  Length  ppm       m/z     RT  \\\n",
       "0      LPQVEGTGGDVQPSQDLVR  102.52  1994.0068      19  0.2  998.0109  54.03   \n",
       "1         VIGQNEAVDAVSNAIR   74.03  1654.8638      16  0.7  828.4398  64.54   \n",
       "2  AIQQQIENPLAQQILSGELVPGK   70.68  2473.3540      23  0.2  825.4587  86.70   \n",
       "3            NNPVLIGEPGVGK   52.77  1292.7089      13  0.8  647.3622  50.37   \n",
       "4            AIDLIDEAASSIR   51.98  1372.7197      13  0.4  458.5807  76.04   \n",
       "\n",
       "      Area 388  Fraction   Scan                          Source File  #Spec  \\\n",
       "0   63800000.0        14  15243  20181214_378_etnp2017_100m_trap.raw      4   \n",
       "1   41700000.0        14  18159  20181214_378_etnp2017_100m_trap.raw      6   \n",
       "2     774000.0        14  24111  20181214_378_etnp2017_100m_trap.raw      2   \n",
       "3  120000000.0        14  14072  20181214_378_etnp2017_100m_trap.raw      6   \n",
       "4   26000000.0        14  21358  20181214_378_etnp2017_100m_trap.raw      6   \n",
       "\n",
       "   #Spec 388                           Accession  PTM AScore  \n",
       "0          4                            54036848  NaN    NaN  \n",
       "1          6                            54036848  NaN    NaN  \n",
       "2          2                            54036848  NaN    NaN  \n",
       "3          6  54036848:WP_012180368.1:ETNP14_120  NaN    NaN  \n",
       "4          6                            54036848  NaN    NaN  "
      ]
     },
     "execution_count": 12,
     "metadata": {},
     "output_type": "execute_result"
    }
   ],
   "source": [
    "data.head()"
   ]
  },
  {
   "cell_type": "code",
   "execution_count": 13,
   "metadata": {
    "collapsed": true
   },
   "outputs": [],
   "source": [
    "# Keep only peptide column\n",
    "pep = data[[\"Peptide\"]]"
   ]
  },
  {
   "cell_type": "code",
   "execution_count": 14,
   "metadata": {
    "collapsed": false
   },
   "outputs": [
    {
     "data": {
      "text/html": [
       "<div>\n",
       "<table border=\"1\" class=\"dataframe\">\n",
       "  <thead>\n",
       "    <tr style=\"text-align: right;\">\n",
       "      <th></th>\n",
       "      <th>Peptide</th>\n",
       "    </tr>\n",
       "  </thead>\n",
       "  <tbody>\n",
       "    <tr>\n",
       "      <th>0</th>\n",
       "      <td>LPQVEGTGGDVQPSQDLVR</td>\n",
       "    </tr>\n",
       "    <tr>\n",
       "      <th>1</th>\n",
       "      <td>VIGQNEAVDAVSNAIR</td>\n",
       "    </tr>\n",
       "    <tr>\n",
       "      <th>2</th>\n",
       "      <td>AIQQQIENPLAQQILSGELVPGK</td>\n",
       "    </tr>\n",
       "    <tr>\n",
       "      <th>3</th>\n",
       "      <td>NNPVLIGEPGVGK</td>\n",
       "    </tr>\n",
       "    <tr>\n",
       "      <th>4</th>\n",
       "      <td>AIDLIDEAASSIR</td>\n",
       "    </tr>\n",
       "  </tbody>\n",
       "</table>\n",
       "</div>"
      ],
      "text/plain": [
       "                   Peptide\n",
       "0      LPQVEGTGGDVQPSQDLVR\n",
       "1         VIGQNEAVDAVSNAIR\n",
       "2  AIQQQIENPLAQQILSGELVPGK\n",
       "3            NNPVLIGEPGVGK\n",
       "4            AIDLIDEAASSIR"
      ]
     },
     "execution_count": 14,
     "metadata": {},
     "output_type": "execute_result"
    }
   ],
   "source": [
    "pep.head()"
   ]
  },
  {
   "cell_type": "code",
   "execution_count": 15,
   "metadata": {
    "collapsed": true
   },
   "outputs": [],
   "source": [
    "# Write altered dataframe to new csv file\n",
    "# Used header and index parameters to get rid of 'Peptide' header and the indexing\n",
    "\n",
    "pep.to_csv(\"/Users/meganduffy/Documents/git-repos/2017-etnp/data/uwpr-dec2018/UWPR_Dec2018_378-trap-2-14-100m-ETNP-PEAKS_80//378-peaks80-dbpeps.csv\", header=False, index=False)"
   ]
  },
  {
   "cell_type": "code",
   "execution_count": 16,
   "metadata": {
    "collapsed": true
   },
   "outputs": [],
   "source": [
    "# Write altered dataframe to new txt file\n",
    "# Used header and index parameters to get rid of 'Peptide' header and the indexing\n",
    "\n",
    "pep.to_csv(\"/Users/meganduffy/Documents/git-repos/2017-etnp/data/uwpr-dec2018/UWPR_Dec2018_378-trap-2-14-100m-ETNP-PEAKS_80//378-peaks80-dbpeps.txt\", header=False, index=False)"
   ]
  },
  {
   "cell_type": "code",
   "execution_count": 17,
   "metadata": {
    "collapsed": false
   },
   "outputs": [
    {
     "name": "stdout",
     "output_type": "stream",
     "text": [
      "LPQVEGTGGDVQPSQDLVR\r\n",
      "VIGQNEAVDAVSNAIR\r\n",
      "AIQQQIENPLAQQILSGELVPGK\r\n",
      "NNPVLIGEPGVGK\r\n",
      "AIDLIDEAASSIR\r\n",
      "AIDLIDEAASSLR\r\n",
      "ELAEDGYSGVEVR\r\n",
      "VTDAEIAEVLAR\r\n",
      "AGFAGDDAPR\r\n",
      "QIVGDDLTVTNPK\r\n"
     ]
    }
   ],
   "source": [
    "!head /Users/meganduffy/Documents/git-repos/2017-etnp/data/uwpr-dec2018/UWPR_Dec2018_378-trap-2-14-100m-ETNP-PEAKS_80/378-peaks80-dbpeps.txt"
   ]
  },
  {
   "cell_type": "code",
   "execution_count": 18,
   "metadata": {
    "collapsed": true
   },
   "outputs": [],
   "source": [
    "# Removes all characters in parentheses and saves as new file\n",
    "\n",
    "!awk -F \"[()]\" '{ for (i=2; i<NF; i+=2) print $i }' /Users/meganduffy/Documents/git-repos/2017-etnp/data/uwpr-dec2018/UWPR_Dec2018_378-trap-2-14-100m-ETNP-PEAKS_80/378-peaks80-dbpeps.txt > /Users/meganduffy/Documents/git-repos/2017-etnp/data/uwpr-dec2018/UWPR_Dec2018_378-trap-2-14-100m-ETNP-PEAKS_80/378-peaks80-db-mods.txt"
   ]
  },
  {
   "cell_type": "code",
   "execution_count": 19,
   "metadata": {
    "collapsed": false
   },
   "outputs": [
    {
     "name": "stdout",
     "output_type": "stream",
     "text": [
      "+57.02\r\n",
      "+57.02\r\n",
      "+15.99\r\n",
      "+57.02\r\n",
      "+15.99\r\n",
      "+15.99\r\n",
      "+57.02\r\n",
      "+15.99\r\n",
      "+15.99\r\n",
      "+15.99\r\n"
     ]
    }
   ],
   "source": [
    "# How does the modifications text file look?\n",
    "\n",
    "!head /Users/meganduffy/Documents/git-repos/2017-etnp/data/uwpr-dec2018/UWPR_Dec2018_378-trap-2-14-100m-ETNP-PEAKS_80/378-peaks80-db-mods.txt"
   ]
  },
  {
   "cell_type": "code",
   "execution_count": 20,
   "metadata": {
    "collapsed": false
   },
   "outputs": [
    {
     "name": "stdout",
     "output_type": "stream",
     "text": [
      "      29 /Users/meganduffy/Documents/git-repos/2017-etnp/data/uwpr-dec2018/UWPR_Dec2018_378-trap-2-14-100m-ETNP-PEAKS_80/378-peaks80-db-mods.txt\r\n"
     ]
    }
   ],
   "source": [
    "# How many modifications for this sample?\n",
    "\n",
    "!wc -l /Users/meganduffy/Documents/git-repos/2017-etnp/data/uwpr-dec2018/UWPR_Dec2018_378-trap-2-14-100m-ETNP-PEAKS_80/378-peaks80-db-mods.txt"
   ]
  },
  {
   "cell_type": "code",
   "execution_count": 21,
   "metadata": {
    "collapsed": false
   },
   "outputs": [
    {
     "name": "stdout",
     "output_type": "stream",
     "text": [
      "     330 /Users/meganduffy/Documents/git-repos/2017-etnp/data/uwpr-dec2018/UWPR_Dec2018_378-trap-2-14-100m-ETNP-PEAKS_80/378-peaks80-dbpeps.txt\r\n"
     ]
    }
   ],
   "source": [
    "# Compared with how many total peptides?\n",
    "\n",
    "!wc -l /Users/meganduffy/Documents/git-repos/2017-etnp/data/uwpr-dec2018/UWPR_Dec2018_378-trap-2-14-100m-ETNP-PEAKS_80/378-peaks80-dbpeps.txt"
   ]
  },
  {
   "cell_type": "code",
   "execution_count": 22,
   "metadata": {
    "collapsed": false
   },
   "outputs": [
    {
     "data": {
      "text/plain": [
       "0.08787878787878788"
      ]
     },
     "execution_count": 22,
     "metadata": {},
     "output_type": "execute_result"
    }
   ],
   "source": [
    "# What's the percentage of modified peptides for this sample?\n",
    "\n",
    "29/330"
   ]
  },
  {
   "cell_type": "code",
   "execution_count": 23,
   "metadata": {
    "collapsed": true
   },
   "outputs": [],
   "source": [
    "# Get rid of modifications from all peptides and save as a new file\n",
    "# Remove '(+15.99)' and '(+57.02)', (+.98) from sequences\n",
    "\n",
    "!sed 's/(+15.99)//g' /Users/meganduffy/Documents/git-repos/2017-etnp/data/uwpr-dec2018/UWPR_Dec2018_378-trap-2-14-100m-ETNP-PEAKS_80/378-peaks80-dbpeps.txt \\\n",
    "| sed 's/(+57.02)//g'\\\n",
    "| sed 's/(+.98)//g'\\\n",
    "> /Users/meganduffy/Documents/git-repos/2017-etnp/data/uwpr-dec2018/UWPR_Dec2018_378-trap-2-14-100m-ETNP-PEAKS_80/378-peaks80-db-nomods.txt"
   ]
  },
  {
   "cell_type": "code",
   "execution_count": 24,
   "metadata": {
    "collapsed": false
   },
   "outputs": [
    {
     "name": "stdout",
     "output_type": "stream",
     "text": [
      "LPQVEGTGGDVQPSQDLVR\r\n",
      "VIGQNEAVDAVSNAIR\r\n",
      "AIQQQIENPLAQQILSGELVPGK\r\n",
      "NNPVLIGEPGVGK\r\n",
      "AIDLIDEAASSIR\r\n",
      "AIDLIDEAASSLR\r\n",
      "ELAEDGYSGVEVR\r\n",
      "VTDAEIAEVLAR\r\n",
      "AGFAGDDAPR\r\n",
      "QIVGDDLTVTNPK\r\n"
     ]
    }
   ],
   "source": [
    "!head /Users/meganduffy/Documents/git-repos/2017-etnp/data/uwpr-dec2018/UWPR_Dec2018_378-trap-2-14-100m-ETNP-PEAKS_80/378-peaks80-db-nomods.txt"
   ]
  },
  {
   "cell_type": "code",
   "execution_count": 25,
   "metadata": {
    "collapsed": false
   },
   "outputs": [
    {
     "name": "stdout",
     "output_type": "stream",
     "text": [
      "378-peaks80-DB-search-psm.csv    378-peaks80-dno.csv\r\n",
      "378-peaks80-db-mods.txt          378-peaks80-dnopeps.csv\r\n",
      "378-peaks80-db-nomods.txt        378-peaks80-dnopeps.txt\r\n",
      "378-peaks80-dbpeps.csv           378-peaks80-peptide.csv\r\n",
      "378-peaks80-dbpeps.txt           378-peaks80-protein-peptides.csv\r\n",
      "378-peaks80-dno-mods.txt         378-peaks80-proteins.csv\r\n",
      "378-peaks80-dno-nomods.txt       378-peaks80-proteins.fasta\r\n"
     ]
    }
   ],
   "source": [
    "!ls /Users/meganduffy/Documents/git-repos/2017-etnp/data/uwpr-dec2018/UWPR_Dec2018_378-trap-2-14-100m-ETNP-PEAKS_80/"
   ]
  },
  {
   "cell_type": "code",
   "execution_count": null,
   "metadata": {
    "collapsed": true
   },
   "outputs": [],
   "source": []
  }
 ],
 "metadata": {
  "anaconda-cloud": {},
  "kernelspec": {
   "display_name": "Python [default]",
   "language": "python",
   "name": "python3"
  },
  "language_info": {
   "codemirror_mode": {
    "name": "ipython",
    "version": 3
   },
   "file_extension": ".py",
   "mimetype": "text/x-python",
   "name": "python",
   "nbconvert_exporter": "python",
   "pygments_lexer": "ipython3",
   "version": "3.5.2"
  }
 },
 "nbformat": 4,
 "nbformat_minor": 1
}
