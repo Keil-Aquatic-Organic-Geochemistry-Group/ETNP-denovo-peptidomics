{
 "cells": [
  {
   "cell_type": "code",
   "execution_count": 1,
   "metadata": {
    "collapsed": false
   },
   "outputs": [
    {
     "name": "stdout",
     "output_type": "stream",
     "text": [
      "Wed Aug  7 16:46:19 PDT 2019\r\n"
     ]
    }
   ],
   "source": [
    "!date"
   ]
  },
  {
   "cell_type": "markdown",
   "metadata": {},
   "source": [
    "### Notebook to process PEAKS 8.5 SPIDER runs for December 2018 UWPR samples.\n",
    "### Starting with the sample relevant to De Novo paper, 378  (100 m sinking particles).\n",
    "### Exported the results of PEAKS 8.5 searches into Git ETNP 2017 data directory.\n",
    "### Database ID'd peptides are in `running#-peaks#-spider-peptide.csv` files and de novo only peptides are in `running#-peaks#-spider-dno.csv`.\n",
    "### SPIDER modifications are only in `peptide` files."
   ]
  },
  {
   "cell_type": "code",
   "execution_count": 2,
   "metadata": {
    "collapsed": false
   },
   "outputs": [
    {
     "name": "stdout",
     "output_type": "stream",
     "text": [
      "378-spider-DB-search-psm.csv      378-spider82-protein-peptides.csv\r\n",
      "378-spider82-dno.csv              378-spider82-proteins.csv\r\n",
      "378-spider82-peptide.csv          378-spider82-proteins.fasta\r\n"
     ]
    }
   ],
   "source": [
    "! ls /Users/meganduffy/Documents/git-repos/2017-etnp/data/uwpr-dec2018/UWPR-Dec2018-SPIDER/378_etnp2017_100m_trap-SPIDER82-20181214/"
   ]
  },
  {
   "cell_type": "markdown",
   "metadata": {},
   "source": [
    "### Starting with sample 378: ETNP 2017 P2 100 m trap"
   ]
  },
  {
   "cell_type": "code",
   "execution_count": 3,
   "metadata": {
    "collapsed": true
   },
   "outputs": [],
   "source": [
    "import os"
   ]
  },
  {
   "cell_type": "code",
   "execution_count": 4,
   "metadata": {
    "collapsed": false
   },
   "outputs": [
    {
     "data": {
      "text/plain": [
       "'/Users/meganduffy/Documents/git-repos/2017-etnp/notebooks'"
      ]
     },
     "execution_count": 4,
     "metadata": {},
     "output_type": "execute_result"
    }
   ],
   "source": [
    "os.getcwd()"
   ]
  },
  {
   "cell_type": "code",
   "execution_count": 5,
   "metadata": {
    "collapsed": true
   },
   "outputs": [],
   "source": [
    "import pandas as pd"
   ]
  },
  {
   "cell_type": "code",
   "execution_count": 6,
   "metadata": {
    "collapsed": false
   },
   "outputs": [
    {
     "data": {
      "text/plain": [
       "'0.18.1'"
      ]
     },
     "execution_count": 6,
     "metadata": {},
     "output_type": "execute_result"
    }
   ],
   "source": [
    "pd.__version__"
   ]
  },
  {
   "cell_type": "code",
   "execution_count": 7,
   "metadata": {
    "collapsed": true
   },
   "outputs": [],
   "source": [
    "data = pd.read_csv(\"/Users/meganduffy/Documents/git-repos/2017-etnp/data/uwpr-dec2018/UWPR-Dec2018-SPIDER/378_etnp2017_100m_trap-SPIDER82-20181214/378-spider82-peptide.csv\")"
   ]
  },
  {
   "cell_type": "code",
   "execution_count": 8,
   "metadata": {
    "collapsed": false
   },
   "outputs": [
    {
     "data": {
      "text/html": [
       "<div>\n",
       "<table border=\"1\" class=\"dataframe\">\n",
       "  <thead>\n",
       "    <tr style=\"text-align: right;\">\n",
       "      <th></th>\n",
       "      <th>Peptide</th>\n",
       "      <th>-10lgP</th>\n",
       "      <th>Mass</th>\n",
       "      <th>Length</th>\n",
       "      <th>ppm</th>\n",
       "      <th>m/z</th>\n",
       "      <th>RT</th>\n",
       "      <th>Area 378</th>\n",
       "      <th>Fraction</th>\n",
       "      <th>Scan</th>\n",
       "      <th>Source File</th>\n",
       "      <th>#Spec</th>\n",
       "      <th>#Spec 378</th>\n",
       "      <th>Accession</th>\n",
       "      <th>PTM</th>\n",
       "      <th>AScore</th>\n",
       "    </tr>\n",
       "  </thead>\n",
       "  <tbody>\n",
       "    <tr>\n",
       "      <th>0</th>\n",
       "      <td>LPQVEGTGGDVQPSQDLVR</td>\n",
       "      <td>102.52</td>\n",
       "      <td>1994.0068</td>\n",
       "      <td>19</td>\n",
       "      <td>0.2</td>\n",
       "      <td>998.0109</td>\n",
       "      <td>54.03</td>\n",
       "      <td>63800000.0</td>\n",
       "      <td>14</td>\n",
       "      <td>15243</td>\n",
       "      <td>20181214_378_etnp2017_100m_trap.raw</td>\n",
       "      <td>4</td>\n",
       "      <td>4</td>\n",
       "      <td>54036848</td>\n",
       "      <td>NaN</td>\n",
       "      <td>NaN</td>\n",
       "    </tr>\n",
       "    <tr>\n",
       "      <th>1</th>\n",
       "      <td>SC(+57.02)AAAGTEC(+57.02)LISGWGNTK(+28.03)</td>\n",
       "      <td>88.26</td>\n",
       "      <td>1909.8662</td>\n",
       "      <td>18</td>\n",
       "      <td>0.6</td>\n",
       "      <td>955.9409</td>\n",
       "      <td>65.06</td>\n",
       "      <td>10400000.0</td>\n",
       "      <td>14</td>\n",
       "      <td>18301</td>\n",
       "      <td>20181214_378_etnp2017_100m_trap.raw</td>\n",
       "      <td>2</td>\n",
       "      <td>2</td>\n",
       "      <td>|#CONTAM#TRYP_PIG|</td>\n",
       "      <td>Carbamidomethylation; Dimethylation(KR)</td>\n",
       "      <td>C2:Carbamidomethylation:1000.00;C9:Carbamidome...</td>\n",
       "    </tr>\n",
       "    <tr>\n",
       "      <th>2</th>\n",
       "      <td>VIGQNEAVDAVSNAIR</td>\n",
       "      <td>74.03</td>\n",
       "      <td>1654.8638</td>\n",
       "      <td>16</td>\n",
       "      <td>0.7</td>\n",
       "      <td>828.4398</td>\n",
       "      <td>64.54</td>\n",
       "      <td>41700000.0</td>\n",
       "      <td>14</td>\n",
       "      <td>18159</td>\n",
       "      <td>20181214_378_etnp2017_100m_trap.raw</td>\n",
       "      <td>6</td>\n",
       "      <td>6</td>\n",
       "      <td>54036848</td>\n",
       "      <td>NaN</td>\n",
       "      <td>NaN</td>\n",
       "    </tr>\n",
       "    <tr>\n",
       "      <th>3</th>\n",
       "      <td>AIQQQIENPLAQQILSGELVPGK</td>\n",
       "      <td>70.68</td>\n",
       "      <td>2473.3540</td>\n",
       "      <td>23</td>\n",
       "      <td>0.2</td>\n",
       "      <td>825.4587</td>\n",
       "      <td>86.70</td>\n",
       "      <td>774000.0</td>\n",
       "      <td>14</td>\n",
       "      <td>24111</td>\n",
       "      <td>20181214_378_etnp2017_100m_trap.raw</td>\n",
       "      <td>2</td>\n",
       "      <td>2</td>\n",
       "      <td>54036848</td>\n",
       "      <td>NaN</td>\n",
       "      <td>NaN</td>\n",
       "    </tr>\n",
       "    <tr>\n",
       "      <th>4</th>\n",
       "      <td>LPQ(+.98)VEGTGGDVQPSQDLVR</td>\n",
       "      <td>66.56</td>\n",
       "      <td>1994.9908</td>\n",
       "      <td>19</td>\n",
       "      <td>4.7</td>\n",
       "      <td>998.5074</td>\n",
       "      <td>55.04</td>\n",
       "      <td>515000.0</td>\n",
       "      <td>14</td>\n",
       "      <td>15528</td>\n",
       "      <td>20181214_378_etnp2017_100m_trap.raw</td>\n",
       "      <td>1</td>\n",
       "      <td>1</td>\n",
       "      <td>54036848</td>\n",
       "      <td>Deamidation (NQ)</td>\n",
       "      <td>Q3:Deamidation (NQ):113.83</td>\n",
       "    </tr>\n",
       "  </tbody>\n",
       "</table>\n",
       "</div>"
      ],
      "text/plain": [
       "                                      Peptide  -10lgP       Mass  Length  ppm  \\\n",
       "0                         LPQVEGTGGDVQPSQDLVR  102.52  1994.0068      19  0.2   \n",
       "1  SC(+57.02)AAAGTEC(+57.02)LISGWGNTK(+28.03)   88.26  1909.8662      18  0.6   \n",
       "2                            VIGQNEAVDAVSNAIR   74.03  1654.8638      16  0.7   \n",
       "3                     AIQQQIENPLAQQILSGELVPGK   70.68  2473.3540      23  0.2   \n",
       "4                   LPQ(+.98)VEGTGGDVQPSQDLVR   66.56  1994.9908      19  4.7   \n",
       "\n",
       "        m/z     RT    Area 378  Fraction   Scan  \\\n",
       "0  998.0109  54.03  63800000.0        14  15243   \n",
       "1  955.9409  65.06  10400000.0        14  18301   \n",
       "2  828.4398  64.54  41700000.0        14  18159   \n",
       "3  825.4587  86.70    774000.0        14  24111   \n",
       "4  998.5074  55.04    515000.0        14  15528   \n",
       "\n",
       "                           Source File  #Spec  #Spec 378           Accession  \\\n",
       "0  20181214_378_etnp2017_100m_trap.raw      4          4            54036848   \n",
       "1  20181214_378_etnp2017_100m_trap.raw      2          2  |#CONTAM#TRYP_PIG|   \n",
       "2  20181214_378_etnp2017_100m_trap.raw      6          6            54036848   \n",
       "3  20181214_378_etnp2017_100m_trap.raw      2          2            54036848   \n",
       "4  20181214_378_etnp2017_100m_trap.raw      1          1            54036848   \n",
       "\n",
       "                                       PTM  \\\n",
       "0                                      NaN   \n",
       "1  Carbamidomethylation; Dimethylation(KR)   \n",
       "2                                      NaN   \n",
       "3                                      NaN   \n",
       "4                         Deamidation (NQ)   \n",
       "\n",
       "                                              AScore  \n",
       "0                                                NaN  \n",
       "1  C2:Carbamidomethylation:1000.00;C9:Carbamidome...  \n",
       "2                                                NaN  \n",
       "3                                                NaN  \n",
       "4                         Q3:Deamidation (NQ):113.83  "
      ]
     },
     "execution_count": 8,
     "metadata": {},
     "output_type": "execute_result"
    }
   ],
   "source": [
    "data.head()"
   ]
  },
  {
   "cell_type": "code",
   "execution_count": 9,
   "metadata": {
    "collapsed": true
   },
   "outputs": [],
   "source": [
    "# Keep only peptide column\n",
    "pep = data[[\"Peptide\"]]"
   ]
  },
  {
   "cell_type": "code",
   "execution_count": 10,
   "metadata": {
    "collapsed": false
   },
   "outputs": [
    {
     "data": {
      "text/html": [
       "<div>\n",
       "<table border=\"1\" class=\"dataframe\">\n",
       "  <thead>\n",
       "    <tr style=\"text-align: right;\">\n",
       "      <th></th>\n",
       "      <th>Peptide</th>\n",
       "    </tr>\n",
       "  </thead>\n",
       "  <tbody>\n",
       "    <tr>\n",
       "      <th>0</th>\n",
       "      <td>LPQVEGTGGDVQPSQDLVR</td>\n",
       "    </tr>\n",
       "    <tr>\n",
       "      <th>1</th>\n",
       "      <td>SC(+57.02)AAAGTEC(+57.02)LISGWGNTK(+28.03)</td>\n",
       "    </tr>\n",
       "    <tr>\n",
       "      <th>2</th>\n",
       "      <td>VIGQNEAVDAVSNAIR</td>\n",
       "    </tr>\n",
       "    <tr>\n",
       "      <th>3</th>\n",
       "      <td>AIQQQIENPLAQQILSGELVPGK</td>\n",
       "    </tr>\n",
       "    <tr>\n",
       "      <th>4</th>\n",
       "      <td>LPQ(+.98)VEGTGGDVQPSQDLVR</td>\n",
       "    </tr>\n",
       "  </tbody>\n",
       "</table>\n",
       "</div>"
      ],
      "text/plain": [
       "                                      Peptide\n",
       "0                         LPQVEGTGGDVQPSQDLVR\n",
       "1  SC(+57.02)AAAGTEC(+57.02)LISGWGNTK(+28.03)\n",
       "2                            VIGQNEAVDAVSNAIR\n",
       "3                     AIQQQIENPLAQQILSGELVPGK\n",
       "4                   LPQ(+.98)VEGTGGDVQPSQDLVR"
      ]
     },
     "execution_count": 10,
     "metadata": {},
     "output_type": "execute_result"
    }
   ],
   "source": [
    "pep.head()"
   ]
  },
  {
   "cell_type": "code",
   "execution_count": 11,
   "metadata": {
    "collapsed": true
   },
   "outputs": [],
   "source": [
    "# Write altered dataframe to new csv file\n",
    "# Used header and index parameters to get rid of 'Peptide' header and the indexing\n",
    "\n",
    "pep.to_csv(\"/Users/meganduffy/Documents/git-repos/2017-etnp/data/uwpr-dec2018/UWPR-Dec2018-SPIDER/378_etnp2017_100m_trap-SPIDER82-20181214/378-peaks82-spider-peps.csv\", header=False, index=False)"
   ]
  },
  {
   "cell_type": "code",
   "execution_count": 12,
   "metadata": {
    "collapsed": true
   },
   "outputs": [],
   "source": [
    "# Write altered dataframe to new txt file\n",
    "# Used header and index parameters to get rid of 'Peptide' header and the indexing\n",
    "\n",
    "pep.to_csv(\"/Users/meganduffy/Documents/git-repos/2017-etnp/data/uwpr-dec2018/UWPR-Dec2018-SPIDER/378_etnp2017_100m_trap-SPIDER82-20181214/378-peaks82-spider-peps.txt\", header=False, index=False)"
   ]
  },
  {
   "cell_type": "code",
   "execution_count": 13,
   "metadata": {
    "collapsed": false
   },
   "outputs": [
    {
     "name": "stdout",
     "output_type": "stream",
     "text": [
      "LPQVEGTGGDVQPSQDLVR\r\n",
      "SC(+57.02)AAAGTEC(+57.02)LISGWGNTK(+28.03)\r\n",
      "VIGQNEAVDAVSNAIR\r\n",
      "AIQQQIENPLAQQILSGELVPGK\r\n",
      "LPQ(+.98)VEGTGGDVQPSQDLVR\r\n",
      "LPQVEGTGGD(+21.98)VQPSQDLVR\r\n",
      "LPQVEGTGGD(+53.92)VQPSQDLVR\r\n",
      "LPQVEGTGGD(+17.03)VQPSQDLVR\r\n",
      "NNPVLIGEPGVGK\r\n",
      "N(+.98)NPVLIGEPGVGK\r\n"
     ]
    }
   ],
   "source": [
    "!head /Users/meganduffy/Documents/git-repos/2017-etnp/data/uwpr-dec2018/UWPR-Dec2018-SPIDER/378_etnp2017_100m_trap-SPIDER82-20181214/378-peaks82-spider-peps.txt"
   ]
  },
  {
   "cell_type": "code",
   "execution_count": 14,
   "metadata": {
    "collapsed": true
   },
   "outputs": [],
   "source": [
    "# Removes all characters in parentheses and saves as new file\n",
    "\n",
    "!awk -F \"[()]\" '{ for (i=2; i<NF; i+=2) print $i }' /Users/meganduffy/Documents/git-repos/2017-etnp/data/uwpr-dec2018/UWPR-Dec2018-SPIDER/378_etnp2017_100m_trap-SPIDER82-20181214/378-peaks82-spider-peps.txt > /Users/meganduffy/Documents/git-repos/2017-etnp/data/uwpr-dec2018/UWPR-Dec2018-SPIDER/378_etnp2017_100m_trap-SPIDER82-20181214/378-peaks82-spider-mods.txt"
   ]
  },
  {
   "cell_type": "code",
   "execution_count": 15,
   "metadata": {
    "collapsed": false
   },
   "outputs": [
    {
     "name": "stdout",
     "output_type": "stream",
     "text": [
      "+57.02\r\n",
      "+57.02\r\n",
      "+28.03\r\n",
      "+.98\r\n",
      "+21.98\r\n",
      "+53.92\r\n",
      "+17.03\r\n",
      "+.98\r\n",
      "-18.01\r\n",
      "+21.98\r\n"
     ]
    }
   ],
   "source": [
    "# How does the modifications text file look?\n",
    "\n",
    "!head /Users/meganduffy/Documents/git-repos/2017-etnp/data/uwpr-dec2018/UWPR-Dec2018-SPIDER/378_etnp2017_100m_trap-SPIDER82-20181214/378-peaks82-spider-mods.txt "
   ]
  },
  {
   "cell_type": "code",
   "execution_count": 16,
   "metadata": {
    "collapsed": false
   },
   "outputs": [
    {
     "name": "stdout",
     "output_type": "stream",
     "text": [
      "     102 /Users/meganduffy/Documents/git-repos/2017-etnp/data/uwpr-dec2018/UWPR-Dec2018-SPIDER/378_etnp2017_100m_trap-SPIDER82-20181214/378-peaks82-spider-mods.txt\r\n"
     ]
    }
   ],
   "source": [
    "# How many modifications for this sample?\n",
    "\n",
    "!wc -l /Users/meganduffy/Documents/git-repos/2017-etnp/data/uwpr-dec2018/UWPR-Dec2018-SPIDER/378_etnp2017_100m_trap-SPIDER82-20181214/378-peaks82-spider-mods.txt"
   ]
  },
  {
   "cell_type": "code",
   "execution_count": 17,
   "metadata": {
    "collapsed": false
   },
   "outputs": [
    {
     "name": "stdout",
     "output_type": "stream",
     "text": [
      "     393 /Users/meganduffy/Documents/git-repos/2017-etnp/data/uwpr-dec2018/UWPR-Dec2018-SPIDER/378_etnp2017_100m_trap-SPIDER82-20181214/378-peaks82-spider-peps.txt\r\n"
     ]
    }
   ],
   "source": [
    "# Compared with how many total peptides?\n",
    "\n",
    "!wc -l /Users/meganduffy/Documents/git-repos/2017-etnp/data/uwpr-dec2018/UWPR-Dec2018-SPIDER/378_etnp2017_100m_trap-SPIDER82-20181214/378-peaks82-spider-peps.txt"
   ]
  },
  {
   "cell_type": "code",
   "execution_count": 18,
   "metadata": {
    "collapsed": false
   },
   "outputs": [
    {
     "data": {
      "text/plain": [
       "0.2595419847328244"
      ]
     },
     "execution_count": 18,
     "metadata": {},
     "output_type": "execute_result"
    }
   ],
   "source": [
    "# What's the percentage of modified peptides for this sample?\n",
    "\n",
    "102/393"
   ]
  },
  {
   "cell_type": "code",
   "execution_count": 19,
   "metadata": {
    "collapsed": true
   },
   "outputs": [],
   "source": [
    "# Keep only peptide column\n",
    "ptm = data[[\"PTM\"]]"
   ]
  },
  {
   "cell_type": "code",
   "execution_count": 20,
   "metadata": {
    "collapsed": false
   },
   "outputs": [
    {
     "data": {
      "text/html": [
       "<div>\n",
       "<table border=\"1\" class=\"dataframe\">\n",
       "  <thead>\n",
       "    <tr style=\"text-align: right;\">\n",
       "      <th></th>\n",
       "      <th>PTM</th>\n",
       "    </tr>\n",
       "  </thead>\n",
       "  <tbody>\n",
       "    <tr>\n",
       "      <th>0</th>\n",
       "      <td>NaN</td>\n",
       "    </tr>\n",
       "    <tr>\n",
       "      <th>1</th>\n",
       "      <td>Carbamidomethylation; Dimethylation(KR)</td>\n",
       "    </tr>\n",
       "    <tr>\n",
       "      <th>2</th>\n",
       "      <td>NaN</td>\n",
       "    </tr>\n",
       "    <tr>\n",
       "      <th>3</th>\n",
       "      <td>NaN</td>\n",
       "    </tr>\n",
       "    <tr>\n",
       "      <th>4</th>\n",
       "      <td>Deamidation (NQ)</td>\n",
       "    </tr>\n",
       "  </tbody>\n",
       "</table>\n",
       "</div>"
      ],
      "text/plain": [
       "                                       PTM\n",
       "0                                      NaN\n",
       "1  Carbamidomethylation; Dimethylation(KR)\n",
       "2                                      NaN\n",
       "3                                      NaN\n",
       "4                         Deamidation (NQ)"
      ]
     },
     "execution_count": 20,
     "metadata": {},
     "output_type": "execute_result"
    }
   ],
   "source": [
    "ptm.head()"
   ]
  },
  {
   "cell_type": "code",
   "execution_count": 21,
   "metadata": {
    "collapsed": false
   },
   "outputs": [
    {
     "name": "stdout",
     "output_type": "stream",
     "text": [
      "PTM    305\n",
      "dtype: int64\n"
     ]
    }
   ],
   "source": [
    "# How many blank rows?\n",
    "print (ptm.isnull().sum())"
   ]
  },
  {
   "cell_type": "code",
   "execution_count": 22,
   "metadata": {
    "collapsed": true
   },
   "outputs": [],
   "source": [
    "# Get rid of blank rows\n",
    "ptm_svelte = ptm.dropna()"
   ]
  },
  {
   "cell_type": "code",
   "execution_count": 23,
   "metadata": {
    "collapsed": true
   },
   "outputs": [],
   "source": [
    "# Write altered dataframe to new txt file\n",
    "# Used header and index parameters to get rid of 'PTM' header and the indexing\n",
    "\n",
    "ptm_svelte.to_csv(\"/Users/meganduffy/Documents/git-repos/2017-etnp/data/uwpr-dec2018/UWPR-Dec2018-SPIDER/378_etnp2017_100m_trap-SPIDER82-20181214/378-peaks82-spider-ptm.txt\", header=False, index=False)"
   ]
  },
  {
   "cell_type": "code",
   "execution_count": 24,
   "metadata": {
    "collapsed": false
   },
   "outputs": [
    {
     "name": "stdout",
     "output_type": "stream",
     "text": [
      "Carbamidomethylation; Dimethylation(KR)\r\n",
      "Deamidation (NQ)\r\n",
      "Sodium adduct\r\n",
      "Replacement of 2 protons by iron\r\n",
      "Replacement of proton with ammonium ion\r\n",
      "Deamidation (NQ)\r\n",
      "Dehydration\r\n",
      "Sodium adduct\r\n",
      "Deamidation (NQ)\r\n",
      "Sodium adduct\r\n"
     ]
    }
   ],
   "source": [
    "!head /Users/meganduffy/Documents/git-repos/2017-etnp/data/uwpr-dec2018/UWPR-Dec2018-SPIDER/378_etnp2017_100m_trap-SPIDER82-20181214/378-peaks82-spider-ptm.txt"
   ]
  },
  {
   "cell_type": "code",
   "execution_count": 25,
   "metadata": {
    "collapsed": false
   },
   "outputs": [
    {
     "name": "stdout",
     "output_type": "stream",
     "text": [
      "378-peaks82-spider-mods.txt       378-spider82-dno.csv\r\n",
      "378-peaks82-spider-peps.csv       378-spider82-peptide.csv\r\n",
      "378-peaks82-spider-peps.txt       378-spider82-protein-peptides.csv\r\n",
      "378-peaks82-spider-ptm.txt        378-spider82-proteins.csv\r\n",
      "378-spider-DB-search-psm.csv      378-spider82-proteins.fasta\r\n"
     ]
    }
   ],
   "source": [
    "!ls /Users/meganduffy/Documents/git-repos/2017-etnp/data/uwpr-dec2018/UWPR-Dec2018-SPIDER/378_etnp2017_100m_trap-SPIDER82-20181214/"
   ]
  },
  {
   "cell_type": "code",
   "execution_count": null,
   "metadata": {
    "collapsed": true
   },
   "outputs": [],
   "source": []
  }
 ],
 "metadata": {
  "kernelspec": {
   "display_name": "Python [default]",
   "language": "python",
   "name": "python3"
  },
  "language_info": {
   "codemirror_mode": {
    "name": "ipython",
    "version": 3
   },
   "file_extension": ".py",
   "mimetype": "text/x-python",
   "name": "python",
   "nbconvert_exporter": "python",
   "pygments_lexer": "ipython3",
   "version": "3.5.2"
  }
 },
 "nbformat": 4,
 "nbformat_minor": 1
}
