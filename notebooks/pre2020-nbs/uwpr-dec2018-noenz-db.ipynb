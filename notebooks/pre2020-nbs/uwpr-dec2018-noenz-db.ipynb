{
 "cells": [
  {
   "cell_type": "code",
   "execution_count": 1,
   "metadata": {
    "collapsed": false
   },
   "outputs": [
    {
     "name": "stdout",
     "output_type": "stream",
     "text": [
      "Thu Dec 19 12:18:26 PST 2019\r\n"
     ]
    }
   ],
   "source": [
    "!date"
   ]
  },
  {
   "cell_type": "code",
   "execution_count": 2,
   "metadata": {
    "collapsed": false
   },
   "outputs": [
    {
     "name": "stdout",
     "output_type": "stream",
     "text": [
      "Software:\r\n",
      "\r\n",
      "    System Software Overview:\r\n",
      "\r\n",
      "      System Version: macOS 10.14.6 (18G1012)\r\n",
      "      Kernel Version: Darwin 18.7.0\r\n",
      "      Boot Volume: Macintosh HD\r\n",
      "      Boot Mode: Normal\r\n",
      "      Computer Name: Megan’s MacBook Pro (2)\r\n",
      "      User Name: Megan Duffy (meganduffy)\r\n",
      "      Secure Virtual Memory: Enabled\r\n",
      "      System Integrity Protection: Enabled\r\n",
      "      Time since boot: 3 days 1:09\r\n",
      "\r\n"
     ]
    }
   ],
   "source": [
    "!system_profiler SPSoftwareDataType"
   ]
  },
  {
   "cell_type": "markdown",
   "metadata": {},
   "source": [
    "### Notebook to document text extraction and editing of UWPR December 2018 ETNP 2017 P1 McLane sample profile (plus several P2 trap samples including 378) no enzyme DB peptides\n",
    "### Exported the results of PEAKS 8.5 searches into Git ETNP 2017 data directory\n",
    "\n",
    "### Sample 378: ETNP 2017 100 m trap, PEAKS 151 no enzyme search"
   ]
  },
  {
   "cell_type": "code",
   "execution_count": 5,
   "metadata": {
    "collapsed": false
   },
   "outputs": [
    {
     "name": "stdout",
     "output_type": "stream",
     "text": [
      "378-peaks151-noenz-dno-mods.txt   378-peaks151-noenz-dnopeps.txt\r\n",
      "378-peaks151-noenz-dno-nomods.txt 378-peaks151-noenz-peptide.csv\r\n"
     ]
    }
   ],
   "source": [
    "!ls /Users/meganduffy/Documents/git-repos/2017-etnp/data/uwpr-dec2018/UWPR-Dec2018-noenz/etnp-100m-trap-378-20181214-NOENZ-PEAKS151/"
   ]
  },
  {
   "cell_type": "code",
   "execution_count": 6,
   "metadata": {
    "collapsed": true
   },
   "outputs": [],
   "source": [
    "import os"
   ]
  },
  {
   "cell_type": "code",
   "execution_count": 7,
   "metadata": {
    "collapsed": false
   },
   "outputs": [
    {
     "data": {
      "text/plain": [
       "'/Users/meganduffy/Documents/git-repos/2017-etnp/notebooks'"
      ]
     },
     "execution_count": 7,
     "metadata": {},
     "output_type": "execute_result"
    }
   ],
   "source": [
    "os.getcwd()"
   ]
  },
  {
   "cell_type": "code",
   "execution_count": 8,
   "metadata": {
    "collapsed": true
   },
   "outputs": [],
   "source": [
    "import pandas as pd"
   ]
  },
  {
   "cell_type": "code",
   "execution_count": 9,
   "metadata": {
    "collapsed": false
   },
   "outputs": [
    {
     "data": {
      "text/plain": [
       "'0.18.1'"
      ]
     },
     "execution_count": 9,
     "metadata": {},
     "output_type": "execute_result"
    }
   ],
   "source": [
    "pd.__version__"
   ]
  },
  {
   "cell_type": "code",
   "execution_count": 10,
   "metadata": {
    "collapsed": true
   },
   "outputs": [],
   "source": [
    "data = pd.read_csv(\"/Users/meganduffy/Documents/git-repos/2017-etnp/data/uwpr-dec2018/UWPR-Dec2018-noenz/etnp-100m-trap-378-20181214-NOENZ-PEAKS151/378-peaks151-noenz-peptide.csv\")"
   ]
  },
  {
   "cell_type": "code",
   "execution_count": 11,
   "metadata": {
    "collapsed": false
   },
   "outputs": [
    {
     "data": {
      "text/html": [
       "<div>\n",
       "<table border=\"1\" class=\"dataframe\">\n",
       "  <thead>\n",
       "    <tr style=\"text-align: right;\">\n",
       "      <th></th>\n",
       "      <th>Peptide</th>\n",
       "      <th>-10lgP</th>\n",
       "      <th>Mass</th>\n",
       "      <th>Length</th>\n",
       "      <th>ppm</th>\n",
       "      <th>m/z</th>\n",
       "      <th>RT</th>\n",
       "      <th>Area 378</th>\n",
       "      <th>Fraction</th>\n",
       "      <th>Scan</th>\n",
       "      <th>Source File</th>\n",
       "      <th>#Spec</th>\n",
       "      <th>#Spec 378</th>\n",
       "      <th>Accession</th>\n",
       "      <th>PTM</th>\n",
       "      <th>AScore</th>\n",
       "    </tr>\n",
       "  </thead>\n",
       "  <tbody>\n",
       "    <tr>\n",
       "      <th>0</th>\n",
       "      <td>LPQVEGTGGDVQPSQDLVR</td>\n",
       "      <td>68.97</td>\n",
       "      <td>1994.0068</td>\n",
       "      <td>19</td>\n",
       "      <td>0.2</td>\n",
       "      <td>998.0109</td>\n",
       "      <td>54.03</td>\n",
       "      <td>63800000.0</td>\n",
       "      <td>14</td>\n",
       "      <td>15243</td>\n",
       "      <td>20181214_378_etnp2017_100m_trap.raw</td>\n",
       "      <td>4</td>\n",
       "      <td>4</td>\n",
       "      <td>54036848</td>\n",
       "      <td>NaN</td>\n",
       "      <td>NaN</td>\n",
       "    </tr>\n",
       "    <tr>\n",
       "      <th>1</th>\n",
       "      <td>VIGQNEAVDAVSNAIR</td>\n",
       "      <td>54.65</td>\n",
       "      <td>1654.8638</td>\n",
       "      <td>16</td>\n",
       "      <td>0.7</td>\n",
       "      <td>828.4398</td>\n",
       "      <td>64.54</td>\n",
       "      <td>41700000.0</td>\n",
       "      <td>14</td>\n",
       "      <td>18159</td>\n",
       "      <td>20181214_378_etnp2017_100m_trap.raw</td>\n",
       "      <td>5</td>\n",
       "      <td>5</td>\n",
       "      <td>54036848</td>\n",
       "      <td>NaN</td>\n",
       "      <td>NaN</td>\n",
       "    </tr>\n",
       "    <tr>\n",
       "      <th>2</th>\n",
       "      <td>AIQQQIENPLAQQILSGELVPGK</td>\n",
       "      <td>46.79</td>\n",
       "      <td>2473.3540</td>\n",
       "      <td>23</td>\n",
       "      <td>0.2</td>\n",
       "      <td>825.4587</td>\n",
       "      <td>86.70</td>\n",
       "      <td>774000.0</td>\n",
       "      <td>14</td>\n",
       "      <td>24111</td>\n",
       "      <td>20181214_378_etnp2017_100m_trap.raw</td>\n",
       "      <td>2</td>\n",
       "      <td>2</td>\n",
       "      <td>54036848</td>\n",
       "      <td>NaN</td>\n",
       "      <td>NaN</td>\n",
       "    </tr>\n",
       "    <tr>\n",
       "      <th>3</th>\n",
       "      <td>QLVGDDLTVTNPK</td>\n",
       "      <td>38.15</td>\n",
       "      <td>1398.7355</td>\n",
       "      <td>13</td>\n",
       "      <td>0.7</td>\n",
       "      <td>700.3755</td>\n",
       "      <td>48.76</td>\n",
       "      <td>422000.0</td>\n",
       "      <td>14</td>\n",
       "      <td>13546</td>\n",
       "      <td>20181214_378_etnp2017_100m_trap.raw</td>\n",
       "      <td>1</td>\n",
       "      <td>1</td>\n",
       "      <td>ETNP_120:ETNP_180</td>\n",
       "      <td>NaN</td>\n",
       "      <td>NaN</td>\n",
       "    </tr>\n",
       "    <tr>\n",
       "      <th>4</th>\n",
       "      <td>QIVGDDLTVTNPK</td>\n",
       "      <td>38.15</td>\n",
       "      <td>1398.7355</td>\n",
       "      <td>13</td>\n",
       "      <td>0.7</td>\n",
       "      <td>700.3755</td>\n",
       "      <td>48.76</td>\n",
       "      <td>422000.0</td>\n",
       "      <td>14</td>\n",
       "      <td>13546</td>\n",
       "      <td>20181214_378_etnp2017_100m_trap.raw</td>\n",
       "      <td>1</td>\n",
       "      <td>1</td>\n",
       "      <td>ETNP14_120</td>\n",
       "      <td>NaN</td>\n",
       "      <td>NaN</td>\n",
       "    </tr>\n",
       "  </tbody>\n",
       "</table>\n",
       "</div>"
      ],
      "text/plain": [
       "                   Peptide  -10lgP       Mass  Length  ppm       m/z     RT  \\\n",
       "0      LPQVEGTGGDVQPSQDLVR   68.97  1994.0068      19  0.2  998.0109  54.03   \n",
       "1         VIGQNEAVDAVSNAIR   54.65  1654.8638      16  0.7  828.4398  64.54   \n",
       "2  AIQQQIENPLAQQILSGELVPGK   46.79  2473.3540      23  0.2  825.4587  86.70   \n",
       "3            QLVGDDLTVTNPK   38.15  1398.7355      13  0.7  700.3755  48.76   \n",
       "4            QIVGDDLTVTNPK   38.15  1398.7355      13  0.7  700.3755  48.76   \n",
       "\n",
       "     Area 378  Fraction   Scan                          Source File  #Spec  \\\n",
       "0  63800000.0        14  15243  20181214_378_etnp2017_100m_trap.raw      4   \n",
       "1  41700000.0        14  18159  20181214_378_etnp2017_100m_trap.raw      5   \n",
       "2    774000.0        14  24111  20181214_378_etnp2017_100m_trap.raw      2   \n",
       "3    422000.0        14  13546  20181214_378_etnp2017_100m_trap.raw      1   \n",
       "4    422000.0        14  13546  20181214_378_etnp2017_100m_trap.raw      1   \n",
       "\n",
       "   #Spec 378          Accession  PTM AScore  \n",
       "0          4           54036848  NaN    NaN  \n",
       "1          5           54036848  NaN    NaN  \n",
       "2          2           54036848  NaN    NaN  \n",
       "3          1  ETNP_120:ETNP_180  NaN    NaN  \n",
       "4          1         ETNP14_120  NaN    NaN  "
      ]
     },
     "execution_count": 11,
     "metadata": {},
     "output_type": "execute_result"
    }
   ],
   "source": [
    "data.head()"
   ]
  },
  {
   "cell_type": "code",
   "execution_count": 12,
   "metadata": {
    "collapsed": true
   },
   "outputs": [],
   "source": [
    "# Keep only peptide column\n",
    "pep = data[[\"Peptide\"]]"
   ]
  },
  {
   "cell_type": "code",
   "execution_count": 13,
   "metadata": {
    "collapsed": false
   },
   "outputs": [
    {
     "data": {
      "text/html": [
       "<div>\n",
       "<table border=\"1\" class=\"dataframe\">\n",
       "  <thead>\n",
       "    <tr style=\"text-align: right;\">\n",
       "      <th></th>\n",
       "      <th>Peptide</th>\n",
       "    </tr>\n",
       "  </thead>\n",
       "  <tbody>\n",
       "    <tr>\n",
       "      <th>0</th>\n",
       "      <td>LPQVEGTGGDVQPSQDLVR</td>\n",
       "    </tr>\n",
       "    <tr>\n",
       "      <th>1</th>\n",
       "      <td>VIGQNEAVDAVSNAIR</td>\n",
       "    </tr>\n",
       "    <tr>\n",
       "      <th>2</th>\n",
       "      <td>AIQQQIENPLAQQILSGELVPGK</td>\n",
       "    </tr>\n",
       "    <tr>\n",
       "      <th>3</th>\n",
       "      <td>QLVGDDLTVTNPK</td>\n",
       "    </tr>\n",
       "    <tr>\n",
       "      <th>4</th>\n",
       "      <td>QIVGDDLTVTNPK</td>\n",
       "    </tr>\n",
       "  </tbody>\n",
       "</table>\n",
       "</div>"
      ],
      "text/plain": [
       "                   Peptide\n",
       "0      LPQVEGTGGDVQPSQDLVR\n",
       "1         VIGQNEAVDAVSNAIR\n",
       "2  AIQQQIENPLAQQILSGELVPGK\n",
       "3            QLVGDDLTVTNPK\n",
       "4            QIVGDDLTVTNPK"
      ]
     },
     "execution_count": 13,
     "metadata": {},
     "output_type": "execute_result"
    }
   ],
   "source": [
    "pep.head()"
   ]
  },
  {
   "cell_type": "code",
   "execution_count": 14,
   "metadata": {
    "collapsed": true
   },
   "outputs": [],
   "source": [
    "# Write altered dataframe to new txt file\n",
    "# Used header and index parameters to get rid of 'Peptide' header and the indexing\n",
    "\n",
    "pep.to_csv(\"/Users/meganduffy/Documents/git-repos/2017-etnp/data/uwpr-dec2018/UWPR-Dec2018-noenz/etnp-100m-trap-378-20181214-NOENZ-PEAKS151/378-peaks151-noenz-dbpeps.txt\", header=False, index=False)"
   ]
  },
  {
   "cell_type": "code",
   "execution_count": 15,
   "metadata": {
    "collapsed": false
   },
   "outputs": [
    {
     "name": "stdout",
     "output_type": "stream",
     "text": [
      "LPQVEGTGGDVQPSQDLVR\r\n",
      "VIGQNEAVDAVSNAIR\r\n",
      "AIQQQIENPLAQQILSGELVPGK\r\n",
      "QLVGDDLTVTNPK\r\n",
      "QIVGDDLTVTNPK\r\n",
      "AIDLIDEAASSIR\r\n",
      "AIDLIDEAASSLR\r\n",
      "TTGLVLDSGDGVTH\r\n",
      "ELAEDGYSGVEVR\r\n",
      "VTDAEIAEVLAR\r\n"
     ]
    }
   ],
   "source": [
    "!head /Users/meganduffy/Documents/git-repos/2017-etnp/data/uwpr-dec2018/UWPR-Dec2018-noenz/etnp-100m-trap-378-20181214-NOENZ-PEAKS151/378-peaks151-noenz-dbpeps.txt"
   ]
  },
  {
   "cell_type": "code",
   "execution_count": 16,
   "metadata": {
    "collapsed": true
   },
   "outputs": [],
   "source": [
    "# Removes all characters in parentheses and saves as new file\n",
    "\n",
    "!awk -F \"[()]\" '{ for (i=2; i<NF; i+=2) print $i }' /Users/meganduffy/Documents/git-repos/2017-etnp/data/uwpr-dec2018/UWPR-Dec2018-noenz/etnp-100m-trap-378-20181214-NOENZ-PEAKS151/378-peaks151-noenz-dbpeps.txt > /Users/meganduffy/Documents/git-repos/2017-etnp/data/uwpr-dec2018/UWPR-Dec2018-noenz/etnp-100m-trap-378-20181214-NOENZ-PEAKS151/378-peaks151-noenz-db-mods.txt"
   ]
  },
  {
   "cell_type": "code",
   "execution_count": 17,
   "metadata": {
    "collapsed": false
   },
   "outputs": [
    {
     "name": "stdout",
     "output_type": "stream",
     "text": [
      "+57.02\r\n",
      "+57.02\r\n",
      "+15.99\r\n",
      "+15.99\r\n",
      "+15.99\r\n",
      "+15.99\r\n",
      "+57.02\r\n",
      "+15.99\r\n",
      "+15.99\r\n",
      "+15.99\r\n"
     ]
    }
   ],
   "source": [
    "# How does the modifications text file look?\n",
    "\n",
    "!head /Users/meganduffy/Documents/git-repos/2017-etnp/data/uwpr-dec2018/UWPR-Dec2018-noenz/etnp-100m-trap-378-20181214-NOENZ-PEAKS151/378-peaks151-noenz-db-mods.txt"
   ]
  },
  {
   "cell_type": "code",
   "execution_count": 18,
   "metadata": {
    "collapsed": false
   },
   "outputs": [
    {
     "name": "stdout",
     "output_type": "stream",
     "text": [
      "      23 /Users/meganduffy/Documents/git-repos/2017-etnp/data/uwpr-dec2018/UWPR-Dec2018-noenz/etnp-100m-trap-378-20181214-NOENZ-PEAKS151/378-peaks151-noenz-db-mods.txt\r\n"
     ]
    }
   ],
   "source": [
    "# How many modifications for this sample?\n",
    "\n",
    "!wc -l /Users/meganduffy/Documents/git-repos/2017-etnp/data/uwpr-dec2018/UWPR-Dec2018-noenz/etnp-100m-trap-378-20181214-NOENZ-PEAKS151/378-peaks151-noenz-db-mods.txt"
   ]
  },
  {
   "cell_type": "code",
   "execution_count": 19,
   "metadata": {
    "collapsed": false
   },
   "outputs": [
    {
     "name": "stdout",
     "output_type": "stream",
     "text": [
      "     316 /Users/meganduffy/Documents/git-repos/2017-etnp/data/uwpr-dec2018/UWPR-Dec2018-noenz/etnp-100m-trap-378-20181214-NOENZ-PEAKS151/378-peaks151-noenz-dbpeps.txt\r\n"
     ]
    }
   ],
   "source": [
    "# Compared with how many total peptides?\n",
    "\n",
    "!wc -l /Users/meganduffy/Documents/git-repos/2017-etnp/data/uwpr-dec2018/UWPR-Dec2018-noenz/etnp-100m-trap-378-20181214-NOENZ-PEAKS151/378-peaks151-noenz-dbpeps.txt"
   ]
  },
  {
   "cell_type": "code",
   "execution_count": 20,
   "metadata": {
    "collapsed": false
   },
   "outputs": [
    {
     "data": {
      "text/plain": [
       "0.07278481012658228"
      ]
     },
     "execution_count": 20,
     "metadata": {},
     "output_type": "execute_result"
    }
   ],
   "source": [
    "# What's the percentage of modified peptides for this sample?\n",
    "\n",
    "23/316"
   ]
  },
  {
   "cell_type": "code",
   "execution_count": 21,
   "metadata": {
    "collapsed": true
   },
   "outputs": [],
   "source": [
    "# Get rid of modifications from all peptides and save as a new file\n",
    "# Remove '(+15.99)' and '(+57.02)', (+.98) from sequences\n",
    "\n",
    "!sed 's/(+15.99)//g' /Users/meganduffy/Documents/git-repos/2017-etnp/data/uwpr-dec2018/UWPR-Dec2018-noenz/etnp-100m-trap-378-20181214-NOENZ-PEAKS151/378-peaks151-noenz-dbpeps.txt \\\n",
    "| sed 's/(+57.02)//g'\\\n",
    "| sed 's/(+.98)//g'\\\n",
    "> /Users/meganduffy/Documents/git-repos/2017-etnp/data/uwpr-dec2018/UWPR-Dec2018-noenz/etnp-100m-trap-378-20181214-NOENZ-PEAKS151/378-peaks151-noenz-db-nomods.txt"
   ]
  },
  {
   "cell_type": "code",
   "execution_count": 22,
   "metadata": {
    "collapsed": false
   },
   "outputs": [
    {
     "name": "stdout",
     "output_type": "stream",
     "text": [
      "LPQVEGTGGDVQPSQDLVR\r\n",
      "VIGQNEAVDAVSNAIR\r\n",
      "AIQQQIENPLAQQILSGELVPGK\r\n",
      "QLVGDDLTVTNPK\r\n",
      "QIVGDDLTVTNPK\r\n",
      "AIDLIDEAASSIR\r\n",
      "AIDLIDEAASSLR\r\n",
      "TTGLVLDSGDGVTH\r\n",
      "ELAEDGYSGVEVR\r\n",
      "VTDAEIAEVLAR\r\n"
     ]
    }
   ],
   "source": [
    "!head /Users/meganduffy/Documents/git-repos/2017-etnp/data/uwpr-dec2018/UWPR-Dec2018-noenz/etnp-100m-trap-378-20181214-NOENZ-PEAKS151/378-peaks151-noenz-db-nomods.txt"
   ]
  },
  {
   "cell_type": "code",
   "execution_count": 23,
   "metadata": {
    "collapsed": false
   },
   "outputs": [
    {
     "name": "stdout",
     "output_type": "stream",
     "text": [
      "378-peaks151-noenz-db-mods.txt    378-peaks151-noenz-dno-nomods.txt\r\n",
      "378-peaks151-noenz-db-nomods.txt  378-peaks151-noenz-dnopeps.txt\r\n",
      "378-peaks151-noenz-dbpeps.txt     378-peaks151-noenz-peptide.csv\r\n",
      "378-peaks151-noenz-dno-mods.txt\r\n"
     ]
    }
   ],
   "source": [
    "!ls /Users/meganduffy/Documents/git-repos/2017-etnp/data/uwpr-dec2018/UWPR-Dec2018-noenz/etnp-100m-trap-378-20181214-NOENZ-PEAKS151/"
   ]
  },
  {
   "cell_type": "code",
   "execution_count": null,
   "metadata": {
    "collapsed": true
   },
   "outputs": [],
   "source": []
  }
 ],
 "metadata": {
  "kernelspec": {
   "display_name": "Python [default]",
   "language": "python",
   "name": "python3"
  },
  "language_info": {
   "codemirror_mode": {
    "name": "ipython",
    "version": 3
   },
   "file_extension": ".py",
   "mimetype": "text/x-python",
   "name": "python",
   "nbconvert_exporter": "python",
   "pygments_lexer": "ipython3",
   "version": "3.5.2"
  }
 },
 "nbformat": 4,
 "nbformat_minor": 1
}
