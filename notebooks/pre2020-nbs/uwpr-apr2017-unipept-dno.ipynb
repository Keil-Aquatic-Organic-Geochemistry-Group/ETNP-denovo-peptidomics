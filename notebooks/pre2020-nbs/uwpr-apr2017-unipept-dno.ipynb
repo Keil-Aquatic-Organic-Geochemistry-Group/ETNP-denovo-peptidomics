{
 "cells": [
  {
   "cell_type": "code",
   "execution_count": 1,
   "metadata": {},
   "outputs": [
    {
     "name": "stdout",
     "output_type": "stream",
     "text": [
      "Fri Jun 28 11:10:37 PDT 2019\r\n"
     ]
    }
   ],
   "source": [
    "!date"
   ]
  },
  {
   "cell_type": "code",
   "execution_count": 2,
   "metadata": {},
   "outputs": [
    {
     "name": "stdout",
     "output_type": "stream",
     "text": [
      "Software:\r\n",
      "\r\n",
      "    System Software Overview:\r\n",
      "\r\n",
      "      System Version: macOS 10.14.5 (18F132)\r\n",
      "      Kernel Version: Darwin 18.6.0\r\n",
      "      Boot Volume: Macintosh HD\r\n",
      "      Boot Mode: Normal\r\n",
      "      Computer Name: Megan’s MacBook Pro (2)\r\n",
      "      User Name: Megan Duffy (meganduffy)\r\n",
      "      Secure Virtual Memory: Enabled\r\n",
      "      System Integrity Protection: Enabled\r\n",
      "      Time since boot: 5 days 15:14\r\n",
      "\r\n"
     ]
    }
   ],
   "source": [
    "!system_profiler SPSoftwareDataType"
   ]
  },
  {
   "cell_type": "markdown",
   "metadata": {},
   "source": [
    "### Notebook to document Unipept least common ancestor analysis of UWPR October 2018 ETNP 2017 (samples 2-9 and 4-19) de novo only peptides (dno)\n",
    "### Input: results of PEAKS 8.5 searches into Git ETNP 2017 data directory. Raw data processed to give dno peptides without modifications (for east of analysis). See uwpr-apr2017-dno [notebook](https://github.com/MeganEDuffy/2017-etnp/blob/master/notebooks/uwpr-apr2017-dno.ipynb)."
   ]
  },
  {
   "cell_type": "code",
   "execution_count": 4,
   "metadata": {},
   "outputs": [
    {
     "name": "stdout",
     "output_type": "stream",
     "text": [
      "231-peaks97-DB-search-psm.csv    231-peaks97-dno.csv\r\n",
      "231-peaks97-db-mods.txt          231-peaks97-dnopeps.csv\r\n",
      "231-peaks97-db-nomods.txt        231-peaks97-dnopeps.txt\r\n",
      "231-peaks97-dbpeps.csv           231-peaks97-peptide.csv\r\n",
      "231-peaks97-dbpeps.txt           231-peaks97-protein-peptides.csv\r\n",
      "231-peaks97-dno-mods.txt         231-peaks97-proteins.csv\r\n",
      "231-peaks97-dno-nomods.txt       231-peaks97-proteins.fasta\r\n"
     ]
    }
   ],
   "source": [
    "# Example of data file types in data directory\n",
    "\n",
    "!ls /Users/meganduffy/Documents/git-repos/2017-etnp/data/uwpr-apr2017/UWPR_Apr2017_231-100m-ETNP_PEAKS_97/"
   ]
  },
  {
   "cell_type": "markdown",
   "metadata": {},
   "source": [
    "### First, analysing sample from this batch that's relevant to Pro Novo paper: 231 (100 m suspended).\n",
    "### Ran 231-peaks97-dno-nomods.txt through Unipept metaproteomics analysis web server. Equated L and I and filtered duplicate peptides.\n",
    "### 1392/3218 peptides found matching to Unipept DB\n",
    "### Uniqueness: 3218/3437 peptides unique (duplicates filter)\n",
    "### Exported results to .csv in git analyses directory, and saved sunburst figure as .png"
   ]
  },
  {
   "cell_type": "code",
   "execution_count": 5,
   "metadata": {},
   "outputs": [
    {
     "name": "stdout",
     "output_type": "stream",
     "text": [
      "231-peaks97-dno-nomods-lca.csv 231-peaks97-dno-nomods-lca.png\r\n"
     ]
    }
   ],
   "source": [
    "!ls /Users/meganduffy/Documents/git-repos/2017-etnp/analyses/uwpr-apr2017/unipept-lca/"
   ]
  },
  {
   "cell_type": "markdown",
   "metadata": {},
   "source": [
    "### Note: seven peptides matched to Cyanobacteria"
   ]
  },
  {
   "cell_type": "markdown",
   "metadata": {},
   "source": [
    "### Sample 233 (265 m suspended)"
   ]
  },
  {
   "cell_type": "code",
   "execution_count": 6,
   "metadata": {},
   "outputs": [
    {
     "name": "stdout",
     "output_type": "stream",
     "text": [
      "233-peaks105-DB-search-psm.csv    233-peaks105-dno.csv\r\n",
      "233-peaks105-db-mods.txt          233-peaks105-dnopeps.csv\r\n",
      "233-peaks105-db-nomods.txt        233-peaks105-dnopeps.txt\r\n",
      "233-peaks105-dbpeps.csv           233-peaks105-peptide.csv\r\n",
      "233-peaks105-dbpeps.txt           233-peaks105-protein-peptides.csv\r\n",
      "233-peaks105-dno-mods.txt         233-peaks105-proteins.csv\r\n",
      "233-peaks105-dno-nomods.txt       233-peaks105-proteins.fasta\r\n"
     ]
    }
   ],
   "source": [
    "!ls /Users/meganduffy/Documents/git-repos/2017-etnp/data/uwpr-apr2017/UWPR_Apr2017_233-265m-ETNP_PEAKS_105/"
   ]
  },
  {
   "cell_type": "markdown",
   "metadata": {},
   "source": [
    "### Ran 233-peaks105-dno-nomods.txt through Unipept metaproteomics analysis web server. Equated L and I and filtered duplicate peptides.\n",
    "### 1129/2658 peptides found matching to Unipept DB\n",
    "### Uniqueness: 2658/2854 peptides unique (duplicates filter)\n",
    "### Exported results to .csv in git analyses directory, and saved sunburst figure as .png"
   ]
  },
  {
   "cell_type": "markdown",
   "metadata": {},
   "source": [
    "### Note: two peptides matched to Cyanobacteria"
   ]
  },
  {
   "cell_type": "code",
   "execution_count": null,
   "metadata": {
    "collapsed": true
   },
   "outputs": [],
   "source": []
  }
 ],
 "metadata": {
  "anaconda-cloud": {},
  "kernelspec": {
   "display_name": "Python 3",
   "language": "python",
   "name": "python3"
  },
  "language_info": {
   "codemirror_mode": {
    "name": "ipython",
    "version": 3
   },
   "file_extension": ".py",
   "mimetype": "text/x-python",
   "name": "python",
   "nbconvert_exporter": "python",
   "pygments_lexer": "ipython3",
   "version": "3.8.3"
  }
 },
 "nbformat": 4,
 "nbformat_minor": 1
}
