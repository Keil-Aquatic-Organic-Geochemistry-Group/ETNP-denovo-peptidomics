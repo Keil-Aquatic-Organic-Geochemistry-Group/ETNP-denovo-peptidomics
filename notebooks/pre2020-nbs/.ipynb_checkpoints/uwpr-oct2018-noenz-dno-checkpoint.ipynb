{
 "cells": [
  {
   "cell_type": "code",
   "execution_count": 1,
   "metadata": {
    "collapsed": false
   },
   "outputs": [
    {
     "name": "stdout",
     "output_type": "stream",
     "text": [
      "Fri Sep 13 18:53:40 PDT 2019\r\n"
     ]
    }
   ],
   "source": [
    "!date"
   ]
  },
  {
   "cell_type": "code",
   "execution_count": 2,
   "metadata": {
    "collapsed": false
   },
   "outputs": [
    {
     "name": "stdout",
     "output_type": "stream",
     "text": [
      "Software:\r\n",
      "\r\n",
      "    System Software Overview:\r\n",
      "\r\n",
      "      System Version: macOS 10.14.6 (18G95)\r\n",
      "      Kernel Version: Darwin 18.7.0\r\n",
      "      Boot Volume: Macintosh HD\r\n",
      "      Boot Mode: Normal\r\n",
      "      Computer Name: Megan’s MacBook Pro (2)\r\n",
      "      User Name: Megan Duffy (meganduffy)\r\n",
      "      Secure Virtual Memory: Enabled\r\n",
      "      System Integrity Protection: Enabled\r\n",
      "      Time since boot: 6 days 19:51\r\n",
      "\r\n"
     ]
    }
   ],
   "source": [
    "!system_profiler SPSoftwareDataType"
   ]
  },
  {
   "cell_type": "markdown",
   "metadata": {},
   "source": [
    "### Notebook to document text extraction and editing of UWPR October 2018 ETNP 2017 (samples 2-9 and 4-19) no enzyme searched de novo only peptides\n",
    "### Exported the results of PEAKS 8.5 searches into Git ETNP 2017 data directory"
   ]
  },
  {
   "cell_type": "code",
   "execution_count": 4,
   "metadata": {
    "collapsed": false
   },
   "outputs": [
    {
     "name": "stdout",
     "output_type": "stream",
     "text": [
      "\u001b[34metnp-4-19_265m_topP-278-20181004-NOENZ-PEAKS208\u001b[m\u001b[m\r\n",
      "\u001b[34metnp-4-19_965m_top-273-20181003-NOENZ-PEAKS160\u001b[m\u001b[m\r\n"
     ]
    }
   ],
   "source": [
    "!ls /Users/meganduffy/Documents/git-repos/2017-etnp/data/uwpr-oct2018/UWPR-Oct2018-noenz/"
   ]
  },
  {
   "cell_type": "markdown",
   "metadata": {},
   "source": [
    "### Sample 278: ETNP 2017 4-19 265 m top +P, PEAKS 208 no enzyme"
   ]
  },
  {
   "cell_type": "code",
   "execution_count": 5,
   "metadata": {
    "collapsed": true
   },
   "outputs": [],
   "source": [
    "import os"
   ]
  },
  {
   "cell_type": "code",
   "execution_count": 6,
   "metadata": {
    "collapsed": false
   },
   "outputs": [
    {
     "data": {
      "text/plain": [
       "'/Users/meganduffy/Documents/git-repos/2017-etnp/notebooks'"
      ]
     },
     "execution_count": 6,
     "metadata": {},
     "output_type": "execute_result"
    }
   ],
   "source": [
    "os.getcwd()"
   ]
  },
  {
   "cell_type": "code",
   "execution_count": 7,
   "metadata": {
    "collapsed": true
   },
   "outputs": [],
   "source": [
    "import pandas as pd"
   ]
  },
  {
   "cell_type": "code",
   "execution_count": 8,
   "metadata": {
    "collapsed": false
   },
   "outputs": [
    {
     "data": {
      "text/plain": [
       "'0.18.1'"
      ]
     },
     "execution_count": 8,
     "metadata": {},
     "output_type": "execute_result"
    }
   ],
   "source": [
    "pd.__version__"
   ]
  },
  {
   "cell_type": "code",
   "execution_count": 9,
   "metadata": {
    "collapsed": true
   },
   "outputs": [],
   "source": [
    "data = pd.read_csv(\"/Users/meganduffy/Documents/git-repos/2017-etnp/data/uwpr-oct2018/UWPR-Oct2018-noenz/etnp-4-19_265m_topP-278-20181004-NOENZ-PEAKS208/278-peaks208-noenz-dno.csv\")"
   ]
  },
  {
   "cell_type": "code",
   "execution_count": 10,
   "metadata": {
    "collapsed": false
   },
   "outputs": [
    {
     "data": {
      "text/html": [
       "<div>\n",
       "<table border=\"1\" class=\"dataframe\">\n",
       "  <thead>\n",
       "    <tr style=\"text-align: right;\">\n",
       "      <th></th>\n",
       "      <th>Fraction</th>\n",
       "      <th>Scan</th>\n",
       "      <th>Source File</th>\n",
       "      <th>Peptide</th>\n",
       "      <th>Tag Length</th>\n",
       "      <th>ALC (%)</th>\n",
       "      <th>length</th>\n",
       "      <th>m/z</th>\n",
       "      <th>z</th>\n",
       "      <th>RT</th>\n",
       "      <th>Area</th>\n",
       "      <th>Mass</th>\n",
       "      <th>ppm</th>\n",
       "      <th>Accession</th>\n",
       "      <th>PTM</th>\n",
       "      <th>local confidence (%)</th>\n",
       "      <th>tag (&gt;=0%)</th>\n",
       "      <th>mode</th>\n",
       "    </tr>\n",
       "  </thead>\n",
       "  <tbody>\n",
       "    <tr>\n",
       "      <th>0</th>\n",
       "      <td>26</td>\n",
       "      <td>23555</td>\n",
       "      <td>20181004_4-19_265m_topP_278_90min.raw</td>\n",
       "      <td>LELERL</td>\n",
       "      <td>6</td>\n",
       "      <td>98</td>\n",
       "      <td>6</td>\n",
       "      <td>386.7325</td>\n",
       "      <td>2</td>\n",
       "      <td>58.94</td>\n",
       "      <td>2940000.0</td>\n",
       "      <td>771.4490</td>\n",
       "      <td>1.7</td>\n",
       "      <td>NaN</td>\n",
       "      <td>NaN</td>\n",
       "      <td>98 99 96 98 98 99</td>\n",
       "      <td>LELERL</td>\n",
       "      <td>CID</td>\n",
       "    </tr>\n",
       "    <tr>\n",
       "      <th>1</th>\n",
       "      <td>26</td>\n",
       "      <td>14925</td>\n",
       "      <td>20181004_4-19_265m_topP_278_90min.raw</td>\n",
       "      <td>FTAEELKQ</td>\n",
       "      <td>8</td>\n",
       "      <td>97</td>\n",
       "      <td>8</td>\n",
       "      <td>483.2513</td>\n",
       "      <td>2</td>\n",
       "      <td>41.26</td>\n",
       "      <td>21600000.0</td>\n",
       "      <td>964.4865</td>\n",
       "      <td>1.6</td>\n",
       "      <td>NaN</td>\n",
       "      <td>NaN</td>\n",
       "      <td>98 99 99 99 99 98 97 91</td>\n",
       "      <td>FTAEELKQ</td>\n",
       "      <td>CID</td>\n",
       "    </tr>\n",
       "    <tr>\n",
       "      <th>2</th>\n",
       "      <td>26</td>\n",
       "      <td>21239</td>\n",
       "      <td>20181004_4-19_265m_topP_278_90min.raw</td>\n",
       "      <td>EGGWLVK</td>\n",
       "      <td>7</td>\n",
       "      <td>97</td>\n",
       "      <td>7</td>\n",
       "      <td>394.7192</td>\n",
       "      <td>2</td>\n",
       "      <td>54.43</td>\n",
       "      <td>5330000.0</td>\n",
       "      <td>787.4228</td>\n",
       "      <td>1.3</td>\n",
       "      <td>NaN</td>\n",
       "      <td>NaN</td>\n",
       "      <td>98 98 98 96 98 98 96</td>\n",
       "      <td>EGGWLVK</td>\n",
       "      <td>CID</td>\n",
       "    </tr>\n",
       "    <tr>\n",
       "      <th>3</th>\n",
       "      <td>26</td>\n",
       "      <td>6599</td>\n",
       "      <td>20181004_4-19_265m_topP_278_90min.raw</td>\n",
       "      <td>SEDVYAK</td>\n",
       "      <td>7</td>\n",
       "      <td>97</td>\n",
       "      <td>7</td>\n",
       "      <td>406.1959</td>\n",
       "      <td>2</td>\n",
       "      <td>22.94</td>\n",
       "      <td>831000.0</td>\n",
       "      <td>810.3759</td>\n",
       "      <td>1.6</td>\n",
       "      <td>NaN</td>\n",
       "      <td>NaN</td>\n",
       "      <td>98 100 100 97 96 96 93</td>\n",
       "      <td>SEDVYAK</td>\n",
       "      <td>CID</td>\n",
       "    </tr>\n",
       "    <tr>\n",
       "      <th>4</th>\n",
       "      <td>26</td>\n",
       "      <td>28700</td>\n",
       "      <td>20181004_4-19_265m_topP_278_90min.raw</td>\n",
       "      <td>WEGEAHL</td>\n",
       "      <td>7</td>\n",
       "      <td>96</td>\n",
       "      <td>7</td>\n",
       "      <td>421.1969</td>\n",
       "      <td>2</td>\n",
       "      <td>68.54</td>\n",
       "      <td>714000.0</td>\n",
       "      <td>840.3766</td>\n",
       "      <td>3.1</td>\n",
       "      <td>NaN</td>\n",
       "      <td>NaN</td>\n",
       "      <td>97 99 94 97 95 96 99</td>\n",
       "      <td>WEGEAHL</td>\n",
       "      <td>CID</td>\n",
       "    </tr>\n",
       "  </tbody>\n",
       "</table>\n",
       "</div>"
      ],
      "text/plain": [
       "   Fraction   Scan                            Source File   Peptide  \\\n",
       "0        26  23555  20181004_4-19_265m_topP_278_90min.raw    LELERL   \n",
       "1        26  14925  20181004_4-19_265m_topP_278_90min.raw  FTAEELKQ   \n",
       "2        26  21239  20181004_4-19_265m_topP_278_90min.raw   EGGWLVK   \n",
       "3        26   6599  20181004_4-19_265m_topP_278_90min.raw   SEDVYAK   \n",
       "4        26  28700  20181004_4-19_265m_topP_278_90min.raw   WEGEAHL   \n",
       "\n",
       "   Tag Length  ALC (%)  length       m/z  z     RT        Area      Mass  ppm  \\\n",
       "0           6       98       6  386.7325  2  58.94   2940000.0  771.4490  1.7   \n",
       "1           8       97       8  483.2513  2  41.26  21600000.0  964.4865  1.6   \n",
       "2           7       97       7  394.7192  2  54.43   5330000.0  787.4228  1.3   \n",
       "3           7       97       7  406.1959  2  22.94    831000.0  810.3759  1.6   \n",
       "4           7       96       7  421.1969  2  68.54    714000.0  840.3766  3.1   \n",
       "\n",
       "  Accession  PTM     local confidence (%) tag (>=0%) mode  \n",
       "0       NaN  NaN        98 99 96 98 98 99     LELERL  CID  \n",
       "1       NaN  NaN  98 99 99 99 99 98 97 91   FTAEELKQ  CID  \n",
       "2       NaN  NaN     98 98 98 96 98 98 96    EGGWLVK  CID  \n",
       "3       NaN  NaN   98 100 100 97 96 96 93    SEDVYAK  CID  \n",
       "4       NaN  NaN     97 99 94 97 95 96 99    WEGEAHL  CID  "
      ]
     },
     "execution_count": 10,
     "metadata": {},
     "output_type": "execute_result"
    }
   ],
   "source": [
    "data.head()"
   ]
  },
  {
   "cell_type": "code",
   "execution_count": 11,
   "metadata": {
    "collapsed": true
   },
   "outputs": [],
   "source": [
    "# Keep only peptide column\n",
    "pep = data[[\"Peptide\"]]"
   ]
  },
  {
   "cell_type": "code",
   "execution_count": 12,
   "metadata": {
    "collapsed": false
   },
   "outputs": [
    {
     "data": {
      "text/html": [
       "<div>\n",
       "<table border=\"1\" class=\"dataframe\">\n",
       "  <thead>\n",
       "    <tr style=\"text-align: right;\">\n",
       "      <th></th>\n",
       "      <th>Peptide</th>\n",
       "    </tr>\n",
       "  </thead>\n",
       "  <tbody>\n",
       "    <tr>\n",
       "      <th>0</th>\n",
       "      <td>LELERL</td>\n",
       "    </tr>\n",
       "    <tr>\n",
       "      <th>1</th>\n",
       "      <td>FTAEELKQ</td>\n",
       "    </tr>\n",
       "    <tr>\n",
       "      <th>2</th>\n",
       "      <td>EGGWLVK</td>\n",
       "    </tr>\n",
       "    <tr>\n",
       "      <th>3</th>\n",
       "      <td>SEDVYAK</td>\n",
       "    </tr>\n",
       "    <tr>\n",
       "      <th>4</th>\n",
       "      <td>WEGEAHL</td>\n",
       "    </tr>\n",
       "  </tbody>\n",
       "</table>\n",
       "</div>"
      ],
      "text/plain": [
       "    Peptide\n",
       "0    LELERL\n",
       "1  FTAEELKQ\n",
       "2   EGGWLVK\n",
       "3   SEDVYAK\n",
       "4   WEGEAHL"
      ]
     },
     "execution_count": 12,
     "metadata": {},
     "output_type": "execute_result"
    }
   ],
   "source": [
    "pep.head()"
   ]
  },
  {
   "cell_type": "code",
   "execution_count": 16,
   "metadata": {
    "collapsed": true
   },
   "outputs": [],
   "source": [
    "# Write altered dataframe to new csv file\n",
    "# Used header and index parameters to get rid of 'Peptide' header and the indexing\n",
    "\n",
    "pep.to_csv(\"/Users/meganduffy/Documents/git-repos/2017-etnp/data/uwpr-oct2018/UWPR-Oct2018-noenz/etnp-4-19_265m_topP-278-20181004-NOENZ-PEAKS208/278-peaks208-noenz-dnopeps.csv\", header=False, index=False)"
   ]
  },
  {
   "cell_type": "code",
   "execution_count": 17,
   "metadata": {
    "collapsed": true
   },
   "outputs": [],
   "source": [
    "# Write altered dataframe to new txt file\n",
    "# Used header and index parameters to get rid of 'Peptide' header and the indexing\n",
    "\n",
    "pep.to_csv(\"/Users/meganduffy/Documents/git-repos/2017-etnp/data/uwpr-oct2018/UWPR-Oct2018-noenz/etnp-4-19_265m_topP-278-20181004-NOENZ-PEAKS208/278-peaks208-noenz-dnopeps.txt\", header=False, index=False)"
   ]
  },
  {
   "cell_type": "code",
   "execution_count": 18,
   "metadata": {
    "collapsed": false
   },
   "outputs": [
    {
     "name": "stdout",
     "output_type": "stream",
     "text": [
      "LELERL\r\n",
      "FTAEELKQ\r\n",
      "EGGWLVK\r\n",
      "SEDVYAK\r\n",
      "WEGEAHL\r\n",
      "FELLKL\r\n",
      "LEDVLSK\r\n",
      "SLVDDEK\r\n",
      "DVNGNSVKLDAEAGE\r\n",
      "EELEAER\r\n"
     ]
    }
   ],
   "source": [
    "# Viewing new txt file\n",
    "\n",
    "!head /Users/meganduffy/Documents/git-repos/2017-etnp/data/uwpr-oct2018/UWPR-Oct2018-noenz/etnp-4-19_265m_topP-278-20181004-NOENZ-PEAKS208/278-peaks208-noenz-dnopeps.txt"
   ]
  },
  {
   "cell_type": "code",
   "execution_count": 19,
   "metadata": {
    "collapsed": true
   },
   "outputs": [],
   "source": [
    "# Removes all characters in parentheses and saves as new file\n",
    "\n",
    "!awk -F \"[()]\" '{ for (i=2; i<NF; i+=2) print $i }' /Users/meganduffy/Documents/git-repos/2017-etnp/data/uwpr-oct2018/UWPR-Oct2018-noenz/etnp-4-19_265m_topP-278-20181004-NOENZ-PEAKS208/278-peaks208-noenz-dnopeps.txt > /Users/meganduffy/Documents/git-repos/2017-etnp/data/uwpr-oct2018/UWPR-Oct2018-noenz/etnp-4-19_265m_topP-278-20181004-NOENZ-PEAKS208/278-peaks208-noenz-dno-mods.txt"
   ]
  },
  {
   "cell_type": "code",
   "execution_count": 21,
   "metadata": {
    "collapsed": false
   },
   "outputs": [
    {
     "name": "stdout",
     "output_type": "stream",
     "text": [
      "+57.02\r\n",
      "+57.02\r\n",
      "+57.02\r\n",
      "+57.02\r\n",
      "+57.02\r\n",
      "+15.99\r\n",
      "+57.02\r\n",
      "+57.02\r\n",
      "+15.99\r\n",
      "+15.99\r\n"
     ]
    }
   ],
   "source": [
    "# How does the modifications text file look?\n",
    "\n",
    "!head /Users/meganduffy/Documents/git-repos/2017-etnp/data/uwpr-oct2018/UWPR-Oct2018-noenz/etnp-4-19_265m_topP-278-20181004-NOENZ-PEAKS208/278-peaks208-noenz-dno-mods.txt"
   ]
  },
  {
   "cell_type": "code",
   "execution_count": 22,
   "metadata": {
    "collapsed": false
   },
   "outputs": [
    {
     "name": "stdout",
     "output_type": "stream",
     "text": [
      "    3478 /Users/meganduffy/Documents/git-repos/2017-etnp/data/uwpr-oct2018/UWPR-Oct2018-noenz/etnp-4-19_265m_topP-278-20181004-NOENZ-PEAKS208/278-peaks208-noenz-dno-mods.txt\r\n"
     ]
    }
   ],
   "source": [
    "# How many modifications for this sample?\n",
    "\n",
    "!wc -l /Users/meganduffy/Documents/git-repos/2017-etnp/data/uwpr-oct2018/UWPR-Oct2018-noenz/etnp-4-19_265m_topP-278-20181004-NOENZ-PEAKS208/278-peaks208-noenz-dno-mods.txt"
   ]
  },
  {
   "cell_type": "code",
   "execution_count": 23,
   "metadata": {
    "collapsed": false
   },
   "outputs": [
    {
     "name": "stdout",
     "output_type": "stream",
     "text": [
      "   12235 /Users/meganduffy/Documents/git-repos/2017-etnp/data/uwpr-oct2018/UWPR-Oct2018-noenz/etnp-4-19_265m_topP-278-20181004-NOENZ-PEAKS208/278-peaks208-noenz-dnopeps.txt\r\n"
     ]
    }
   ],
   "source": [
    "# Compared with how many total peptides?\n",
    "\n",
    "!wc -l /Users/meganduffy/Documents/git-repos/2017-etnp/data/uwpr-oct2018/UWPR-Oct2018-noenz/etnp-4-19_265m_topP-278-20181004-NOENZ-PEAKS208/278-peaks208-noenz-dnopeps.txt"
   ]
  },
  {
   "cell_type": "code",
   "execution_count": 24,
   "metadata": {
    "collapsed": false
   },
   "outputs": [
    {
     "data": {
      "text/plain": [
       "0.28426644871270945"
      ]
     },
     "execution_count": 24,
     "metadata": {},
     "output_type": "execute_result"
    }
   ],
   "source": [
    "# What's the percentage of modified peptides for this sample?\n",
    "\n",
    "3478/12235"
   ]
  },
  {
   "cell_type": "code",
   "execution_count": 25,
   "metadata": {
    "collapsed": true
   },
   "outputs": [],
   "source": [
    "# Get rid of modifications from all peptides and save as a new file\n",
    "# Remove '(+15.99)' and '(+57.02)', (+.98) from sequences\n",
    "\n",
    "!sed 's/(+15.99)//g' /Users/meganduffy/Documents/git-repos/2017-etnp/data/uwpr-oct2018/UWPR-Oct2018-noenz/etnp-4-19_265m_topP-278-20181004-NOENZ-PEAKS208/278-peaks208-noenz-dnopeps.txt \\\n",
    "| sed 's/(+57.02)//g'\\\n",
    "| sed 's/(+.98)//g'\\\n",
    "> /Users/meganduffy/Documents/git-repos/2017-etnp/data/uwpr-oct2018/UWPR-Oct2018-noenz/etnp-4-19_265m_topP-278-20181004-NOENZ-PEAKS208/278-peaks208-noenz-dno-nomods.txt"
   ]
  },
  {
   "cell_type": "code",
   "execution_count": 26,
   "metadata": {
    "collapsed": false
   },
   "outputs": [
    {
     "name": "stdout",
     "output_type": "stream",
     "text": [
      "LELERL\r\n",
      "FTAEELKQ\r\n",
      "EGGWLVK\r\n",
      "SEDVYAK\r\n",
      "WEGEAHL\r\n",
      "FELLKL\r\n",
      "LEDVLSK\r\n",
      "SLVDDEK\r\n",
      "DVNGNSVKLDAEAGE\r\n",
      "EELEAER\r\n"
     ]
    }
   ],
   "source": [
    "!head /Users/meganduffy/Documents/git-repos/2017-etnp/data/uwpr-oct2018/UWPR-Oct2018-noenz/etnp-4-19_265m_topP-278-20181004-NOENZ-PEAKS208/278-peaks208-noenz-dno-nomods.txt"
   ]
  },
  {
   "cell_type": "code",
   "execution_count": 27,
   "metadata": {
    "collapsed": false
   },
   "outputs": [
    {
     "name": "stdout",
     "output_type": "stream",
     "text": [
      "278-peaks208-noenz-DB-search-psm.csv    278-peaks208-noenz-dnopeps.txt\r\n",
      "278-peaks208-noenz-dno-mods.txt         278-peaks208-noenz-peptide.csv\r\n",
      "278-peaks208-noenz-dno-nomods.txt       278-peaks208-noenz-protein-peptides.csv\r\n",
      "278-peaks208-noenz-dno.csv              278-peaks208-noenz-proteins.csv\r\n",
      "278-peaks208-noenz-dnopeps.csv          278-peaks208-noenz-proteins.fasta\r\n"
     ]
    }
   ],
   "source": [
    "!ls /Users/meganduffy/Documents/git-repos/2017-etnp/data/uwpr-oct2018/UWPR-Oct2018-noenz/etnp-4-19_265m_topP-278-20181004-NOENZ-PEAKS208/"
   ]
  },
  {
   "cell_type": "markdown",
   "metadata": {},
   "source": [
    "### Sample 273: ETNP 2017 4-19 965 m top +P, PEAKS 160 no enzyme"
   ]
  },
  {
   "cell_type": "code",
   "execution_count": 28,
   "metadata": {
    "collapsed": true
   },
   "outputs": [],
   "source": [
    "data = pd.read_csv(\"/Users/meganduffy/Documents/git-repos/2017-etnp/data/uwpr-oct2018/UWPR-Oct2018-noenz/etnp-4-19_965m_top-273-20181003-NOENZ-PEAKS160/273-peaks160-noenz-dno.csv\")"
   ]
  },
  {
   "cell_type": "code",
   "execution_count": 29,
   "metadata": {
    "collapsed": false
   },
   "outputs": [
    {
     "data": {
      "text/html": [
       "<div>\n",
       "<table border=\"1\" class=\"dataframe\">\n",
       "  <thead>\n",
       "    <tr style=\"text-align: right;\">\n",
       "      <th></th>\n",
       "      <th>Fraction</th>\n",
       "      <th>Scan</th>\n",
       "      <th>Source File</th>\n",
       "      <th>Peptide</th>\n",
       "      <th>Tag Length</th>\n",
       "      <th>ALC (%)</th>\n",
       "      <th>length</th>\n",
       "      <th>m/z</th>\n",
       "      <th>z</th>\n",
       "      <th>RT</th>\n",
       "      <th>Area</th>\n",
       "      <th>Mass</th>\n",
       "      <th>ppm</th>\n",
       "      <th>Accession</th>\n",
       "      <th>PTM</th>\n",
       "      <th>local confidence (%)</th>\n",
       "      <th>tag (&gt;=0%)</th>\n",
       "      <th>mode</th>\n",
       "    </tr>\n",
       "  </thead>\n",
       "  <tbody>\n",
       "    <tr>\n",
       "      <th>0</th>\n",
       "      <td>1</td>\n",
       "      <td>20340</td>\n",
       "      <td>20181003_4-19_965m_top.raw</td>\n",
       "      <td>LELERL</td>\n",
       "      <td>6</td>\n",
       "      <td>98</td>\n",
       "      <td>6</td>\n",
       "      <td>386.7323</td>\n",
       "      <td>2</td>\n",
       "      <td>58.68</td>\n",
       "      <td>964000.0</td>\n",
       "      <td>771.4490</td>\n",
       "      <td>1.2</td>\n",
       "      <td>NaN</td>\n",
       "      <td>NaN</td>\n",
       "      <td>97 99 96 98 98 99</td>\n",
       "      <td>LELERL</td>\n",
       "      <td>CID</td>\n",
       "    </tr>\n",
       "    <tr>\n",
       "      <th>1</th>\n",
       "      <td>1</td>\n",
       "      <td>31159</td>\n",
       "      <td>20181003_4-19_965m_top.raw</td>\n",
       "      <td>LFLLRL</td>\n",
       "      <td>6</td>\n",
       "      <td>97</td>\n",
       "      <td>6</td>\n",
       "      <td>387.7625</td>\n",
       "      <td>2</td>\n",
       "      <td>78.89</td>\n",
       "      <td>1660000.0</td>\n",
       "      <td>773.5163</td>\n",
       "      <td>-7.5</td>\n",
       "      <td>NaN</td>\n",
       "      <td>NaN</td>\n",
       "      <td>92 99 100 99 98 99</td>\n",
       "      <td>LFLLRL</td>\n",
       "      <td>CID</td>\n",
       "    </tr>\n",
       "    <tr>\n",
       "      <th>2</th>\n",
       "      <td>1</td>\n",
       "      <td>30875</td>\n",
       "      <td>20181003_4-19_965m_top.raw</td>\n",
       "      <td>LFLLRL</td>\n",
       "      <td>6</td>\n",
       "      <td>97</td>\n",
       "      <td>6</td>\n",
       "      <td>387.7616</td>\n",
       "      <td>2</td>\n",
       "      <td>78.39</td>\n",
       "      <td>1660000.0</td>\n",
       "      <td>773.5163</td>\n",
       "      <td>-9.8</td>\n",
       "      <td>NaN</td>\n",
       "      <td>NaN</td>\n",
       "      <td>93 97 99 99 98 99</td>\n",
       "      <td>LFLLRL</td>\n",
       "      <td>CID</td>\n",
       "    </tr>\n",
       "    <tr>\n",
       "      <th>3</th>\n",
       "      <td>1</td>\n",
       "      <td>16792</td>\n",
       "      <td>20181003_4-19_965m_top.raw</td>\n",
       "      <td>FEDTNLAALHAK</td>\n",
       "      <td>12</td>\n",
       "      <td>97</td>\n",
       "      <td>12</td>\n",
       "      <td>665.3448</td>\n",
       "      <td>2</td>\n",
       "      <td>50.59</td>\n",
       "      <td>643000.0</td>\n",
       "      <td>1328.6724</td>\n",
       "      <td>2.0</td>\n",
       "      <td>NaN</td>\n",
       "      <td>NaN</td>\n",
       "      <td>98 100 100 99 99 100 100 97 99 96 96 90</td>\n",
       "      <td>FEDTNLAALHAK</td>\n",
       "      <td>CID</td>\n",
       "    </tr>\n",
       "    <tr>\n",
       "      <th>4</th>\n",
       "      <td>1</td>\n",
       "      <td>12978</td>\n",
       "      <td>20181003_4-19_965m_top.raw</td>\n",
       "      <td>LLYEEEK</td>\n",
       "      <td>7</td>\n",
       "      <td>97</td>\n",
       "      <td>7</td>\n",
       "      <td>462.2459</td>\n",
       "      <td>2</td>\n",
       "      <td>40.82</td>\n",
       "      <td>2450000.0</td>\n",
       "      <td>922.4647</td>\n",
       "      <td>13.6</td>\n",
       "      <td>NaN</td>\n",
       "      <td>NaN</td>\n",
       "      <td>99 99 97 99 98 98 94</td>\n",
       "      <td>LLYEEEK</td>\n",
       "      <td>CID</td>\n",
       "    </tr>\n",
       "  </tbody>\n",
       "</table>\n",
       "</div>"
      ],
      "text/plain": [
       "   Fraction   Scan                 Source File       Peptide  Tag Length  \\\n",
       "0         1  20340  20181003_4-19_965m_top.raw        LELERL           6   \n",
       "1         1  31159  20181003_4-19_965m_top.raw        LFLLRL           6   \n",
       "2         1  30875  20181003_4-19_965m_top.raw        LFLLRL           6   \n",
       "3         1  16792  20181003_4-19_965m_top.raw  FEDTNLAALHAK          12   \n",
       "4         1  12978  20181003_4-19_965m_top.raw       LLYEEEK           7   \n",
       "\n",
       "   ALC (%)  length       m/z  z     RT       Area       Mass   ppm Accession  \\\n",
       "0       98       6  386.7323  2  58.68   964000.0   771.4490   1.2       NaN   \n",
       "1       97       6  387.7625  2  78.89  1660000.0   773.5163  -7.5       NaN   \n",
       "2       97       6  387.7616  2  78.39  1660000.0   773.5163  -9.8       NaN   \n",
       "3       97      12  665.3448  2  50.59   643000.0  1328.6724   2.0       NaN   \n",
       "4       97       7  462.2459  2  40.82  2450000.0   922.4647  13.6       NaN   \n",
       "\n",
       "   PTM                     local confidence (%)    tag (>=0%) mode  \n",
       "0  NaN                        97 99 96 98 98 99        LELERL  CID  \n",
       "1  NaN                       92 99 100 99 98 99        LFLLRL  CID  \n",
       "2  NaN                        93 97 99 99 98 99        LFLLRL  CID  \n",
       "3  NaN  98 100 100 99 99 100 100 97 99 96 96 90  FEDTNLAALHAK  CID  \n",
       "4  NaN                     99 99 97 99 98 98 94       LLYEEEK  CID  "
      ]
     },
     "execution_count": 29,
     "metadata": {},
     "output_type": "execute_result"
    }
   ],
   "source": [
    "data.head()"
   ]
  },
  {
   "cell_type": "code",
   "execution_count": 30,
   "metadata": {
    "collapsed": true
   },
   "outputs": [],
   "source": [
    "# Keep only peptide column\n",
    "pep = data[[\"Peptide\"]]"
   ]
  },
  {
   "cell_type": "code",
   "execution_count": 31,
   "metadata": {
    "collapsed": false
   },
   "outputs": [
    {
     "data": {
      "text/html": [
       "<div>\n",
       "<table border=\"1\" class=\"dataframe\">\n",
       "  <thead>\n",
       "    <tr style=\"text-align: right;\">\n",
       "      <th></th>\n",
       "      <th>Peptide</th>\n",
       "    </tr>\n",
       "  </thead>\n",
       "  <tbody>\n",
       "    <tr>\n",
       "      <th>0</th>\n",
       "      <td>LELERL</td>\n",
       "    </tr>\n",
       "    <tr>\n",
       "      <th>1</th>\n",
       "      <td>LFLLRL</td>\n",
       "    </tr>\n",
       "    <tr>\n",
       "      <th>2</th>\n",
       "      <td>LFLLRL</td>\n",
       "    </tr>\n",
       "    <tr>\n",
       "      <th>3</th>\n",
       "      <td>FEDTNLAALHAK</td>\n",
       "    </tr>\n",
       "    <tr>\n",
       "      <th>4</th>\n",
       "      <td>LLYEEEK</td>\n",
       "    </tr>\n",
       "  </tbody>\n",
       "</table>\n",
       "</div>"
      ],
      "text/plain": [
       "        Peptide\n",
       "0        LELERL\n",
       "1        LFLLRL\n",
       "2        LFLLRL\n",
       "3  FEDTNLAALHAK\n",
       "4       LLYEEEK"
      ]
     },
     "execution_count": 31,
     "metadata": {},
     "output_type": "execute_result"
    }
   ],
   "source": [
    "pep.head()"
   ]
  },
  {
   "cell_type": "code",
   "execution_count": 32,
   "metadata": {
    "collapsed": true
   },
   "outputs": [],
   "source": [
    "# Write altered dataframe to new csv file\n",
    "# Used header and index parameters to get rid of 'Peptide' header and the indexing\n",
    "\n",
    "pep.to_csv(\"/Users/meganduffy/Documents/git-repos/2017-etnp/data/uwpr-oct2018/UWPR-Oct2018-noenz/etnp-4-19_965m_top-273-20181003-NOENZ-PEAKS160/273-peaks160-noenz-dnopeps.csv\", header=False, index=False)"
   ]
  },
  {
   "cell_type": "code",
   "execution_count": 33,
   "metadata": {
    "collapsed": true
   },
   "outputs": [],
   "source": [
    "# Write altered dataframe to new txt file\n",
    "# Used header and index parameters to get rid of 'Peptide' header and the indexing\n",
    "\n",
    "pep.to_csv(\"/Users/meganduffy/Documents/git-repos/2017-etnp/data/uwpr-oct2018/UWPR-Oct2018-noenz/etnp-4-19_965m_top-273-20181003-NOENZ-PEAKS160/273-peaks160-noenz-dnopeps.txt\", header=False, index=False)"
   ]
  },
  {
   "cell_type": "code",
   "execution_count": 34,
   "metadata": {
    "collapsed": false
   },
   "outputs": [
    {
     "name": "stdout",
     "output_type": "stream",
     "text": [
      "LELERL\r\n",
      "LFLLRL\r\n",
      "LFLLRL\r\n",
      "FEDTNLAALHAK\r\n",
      "LLYEEEK\r\n",
      "FGDLEKL\r\n",
      "AANELKL\r\n",
      "TAAAVWLP\r\n",
      "EATGALKAR\r\n",
      "APVDRAVKL\r\n"
     ]
    }
   ],
   "source": [
    "!head /Users/meganduffy/Documents/git-repos/2017-etnp/data/uwpr-oct2018/UWPR-Oct2018-noenz/etnp-4-19_965m_top-273-20181003-NOENZ-PEAKS160/273-peaks160-noenz-dnopeps.txt"
   ]
  },
  {
   "cell_type": "code",
   "execution_count": 38,
   "metadata": {
    "collapsed": true
   },
   "outputs": [],
   "source": [
    "# Removes all characters in parentheses and saves as new file\n",
    "\n",
    "!awk -F \"[()]\" '{ for (i=2; i<NF; i+=2) print $i }' /Users/meganduffy/Documents/git-repos/2017-etnp/data/uwpr-oct2018/UWPR-Oct2018-noenz/etnp-4-19_965m_top-273-20181003-NOENZ-PEAKS160/273-peaks160-noenz-dnopeps.txt > /Users/meganduffy/Documents/git-repos/2017-etnp/data/uwpr-oct2018/UWPR-Oct2018-noenz/etnp-4-19_965m_top-273-20181003-NOENZ-PEAKS160/273-peaks160-noenz-dno-mods.txt"
   ]
  },
  {
   "cell_type": "code",
   "execution_count": 39,
   "metadata": {
    "collapsed": false
   },
   "outputs": [
    {
     "name": "stdout",
     "output_type": "stream",
     "text": [
      "+15.99\r\n",
      "+57.02\r\n",
      "+57.02\r\n",
      "+15.99\r\n",
      "+15.99\r\n",
      "+15.99\r\n",
      "+15.99\r\n",
      "+15.99\r\n",
      "+15.99\r\n",
      "+57.02\r\n"
     ]
    }
   ],
   "source": [
    "!head /Users/meganduffy/Documents/git-repos/2017-etnp/data/uwpr-oct2018/UWPR-Oct2018-noenz/etnp-4-19_965m_top-273-20181003-NOENZ-PEAKS160/273-peaks160-noenz-dno-mods.txt"
   ]
  },
  {
   "cell_type": "code",
   "execution_count": 40,
   "metadata": {
    "collapsed": false
   },
   "outputs": [
    {
     "name": "stdout",
     "output_type": "stream",
     "text": [
      "    2644 /Users/meganduffy/Documents/git-repos/2017-etnp/data/uwpr-oct2018/UWPR-Oct2018-noenz/etnp-4-19_965m_top-273-20181003-NOENZ-PEAKS160/273-peaks160-noenz-dno-mods.txt\r\n"
     ]
    }
   ],
   "source": [
    "# How many modifications for this sample?\n",
    "\n",
    "!wc -l /Users/meganduffy/Documents/git-repos/2017-etnp/data/uwpr-oct2018/UWPR-Oct2018-noenz/etnp-4-19_965m_top-273-20181003-NOENZ-PEAKS160/273-peaks160-noenz-dno-mods.txt"
   ]
  },
  {
   "cell_type": "code",
   "execution_count": 41,
   "metadata": {
    "collapsed": false
   },
   "outputs": [
    {
     "name": "stdout",
     "output_type": "stream",
     "text": [
      "   10532 /Users/meganduffy/Documents/git-repos/2017-etnp/data/uwpr-oct2018/UWPR-Oct2018-noenz/etnp-4-19_965m_top-273-20181003-NOENZ-PEAKS160/273-peaks160-noenz-dnopeps.txt\r\n"
     ]
    }
   ],
   "source": [
    "# Compared with how many total peptides?\n",
    "\n",
    "!wc -l /Users/meganduffy/Documents/git-repos/2017-etnp/data/uwpr-oct2018/UWPR-Oct2018-noenz/etnp-4-19_965m_top-273-20181003-NOENZ-PEAKS160/273-peaks160-noenz-dnopeps.txt"
   ]
  },
  {
   "cell_type": "code",
   "execution_count": 42,
   "metadata": {
    "collapsed": false
   },
   "outputs": [
    {
     "data": {
      "text/plain": [
       "0.25104443600455756"
      ]
     },
     "execution_count": 42,
     "metadata": {},
     "output_type": "execute_result"
    }
   ],
   "source": [
    "# What's the percentage of modified peptides for this sample?\n",
    "\n",
    "2644/10532"
   ]
  },
  {
   "cell_type": "code",
   "execution_count": 43,
   "metadata": {
    "collapsed": true
   },
   "outputs": [],
   "source": [
    "# Get rid of modifications from all peptides and save as a new file\n",
    "# Remove '(+15.99)' and '(+57.02)', (+.98) from sequences\n",
    "\n",
    "!sed 's/(+15.99)//g' /Users/meganduffy/Documents/git-repos/2017-etnp/data/uwpr-oct2018/UWPR-Oct2018-noenz/etnp-4-19_965m_top-273-20181003-NOENZ-PEAKS160/273-peaks160-noenz-dnopeps.txt \\\n",
    "| sed 's/(+57.02)//g'\\\n",
    "| sed 's/(+.98)//g'\\\n",
    "> /Users/meganduffy/Documents/git-repos/2017-etnp/data/uwpr-oct2018/UWPR-Oct2018-noenz/etnp-4-19_965m_top-273-20181003-NOENZ-PEAKS160/273-peaks160-noenz-dno-nomods.txt"
   ]
  },
  {
   "cell_type": "code",
   "execution_count": 45,
   "metadata": {
    "collapsed": false
   },
   "outputs": [
    {
     "name": "stdout",
     "output_type": "stream",
     "text": [
      "LELERL\r\n",
      "LFLLRL\r\n",
      "LFLLRL\r\n",
      "FEDTNLAALHAK\r\n",
      "LLYEEEK\r\n",
      "FGDLEKL\r\n",
      "AANELKL\r\n",
      "TAAAVWLP\r\n",
      "EATGALKAR\r\n",
      "APVDRAVKL\r\n"
     ]
    }
   ],
   "source": [
    "!head /Users/meganduffy/Documents/git-repos/2017-etnp/data/uwpr-oct2018/UWPR-Oct2018-noenz/etnp-4-19_965m_top-273-20181003-NOENZ-PEAKS160/273-peaks160-noenz-dno-nomods.txt"
   ]
  },
  {
   "cell_type": "code",
   "execution_count": 46,
   "metadata": {
    "collapsed": false
   },
   "outputs": [
    {
     "name": "stdout",
     "output_type": "stream",
     "text": [
      "273-peaks160-noenz-DB-search-psm.csv    273-peaks160-noenz-dnopeps.txt\r\n",
      "273-peaks160-noenz-dno-mods.txt         273-peaks160-noenz-peptide.csv\r\n",
      "273-peaks160-noenz-dno-nomods.txt       273-peaks160-noenz-protein-peptides.csv\r\n",
      "273-peaks160-noenz-dno.csv              273-peaks160-noenz-proteins.csv\r\n",
      "273-peaks160-noenz-dnopeps.csv          273-peaks160-noenz-proteins.fasta\r\n"
     ]
    }
   ],
   "source": [
    "!ls /Users/meganduffy/Documents/git-repos/2017-etnp/data/uwpr-oct2018/UWPR-Oct2018-noenz/etnp-4-19_965m_top-273-20181003-NOENZ-PEAKS160/"
   ]
  },
  {
   "cell_type": "code",
   "execution_count": null,
   "metadata": {
    "collapsed": true
   },
   "outputs": [],
   "source": []
  }
 ],
 "metadata": {
  "kernelspec": {
   "display_name": "Python [default]",
   "language": "python",
   "name": "python3"
  },
  "language_info": {
   "codemirror_mode": {
    "name": "ipython",
    "version": 3
   },
   "file_extension": ".py",
   "mimetype": "text/x-python",
   "name": "python",
   "nbconvert_exporter": "python",
   "pygments_lexer": "ipython3",
   "version": "3.5.2"
  }
 },
 "nbformat": 4,
 "nbformat_minor": 1
}
