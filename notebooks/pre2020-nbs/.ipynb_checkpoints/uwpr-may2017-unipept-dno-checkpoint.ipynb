{
 "cells": [
  {
   "cell_type": "code",
   "execution_count": 1,
   "metadata": {
    "collapsed": false
   },
   "outputs": [
    {
     "name": "stdout",
     "output_type": "stream",
     "text": [
      "Mon Jul  1 10:33:19 PDT 2019\r\n"
     ]
    }
   ],
   "source": [
    "!date"
   ]
  },
  {
   "cell_type": "code",
   "execution_count": 2,
   "metadata": {
    "collapsed": false
   },
   "outputs": [
    {
     "name": "stdout",
     "output_type": "stream",
     "text": [
      "Software:\r\n",
      "\r\n",
      "    System Software Overview:\r\n",
      "\r\n",
      "      System Version: macOS 10.14.5 (18F132)\r\n",
      "      Kernel Version: Darwin 18.6.0\r\n",
      "      Boot Volume: Macintosh HD\r\n",
      "      Boot Mode: Normal\r\n",
      "      Computer Name: Megan’s MacBook Pro (2)\r\n",
      "      User Name: Megan Duffy (meganduffy)\r\n",
      "      Secure Virtual Memory: Enabled\r\n",
      "      System Integrity Protection: Enabled\r\n",
      "      Time since boot: 8 days 14:37\r\n",
      "\r\n"
     ]
    }
   ],
   "source": [
    "!system_profiler SPSoftwareDataType"
   ]
  },
  {
   "cell_type": "markdown",
   "metadata": {},
   "source": [
    "### Notebook to document Unipept least common ancestor analysis of UWPR May 2017 ETNP 2017 (samples JA9-JA16) de novo only peptides (dno)\n",
    "### Input: results of PEAKS 8.5 searches into Git ETNP 2017 data directory. Raw data processed to give dno peptides without modifications (for east of analysis). See uwpr-may2017-dno [notebook](https://github.com/MeganEDuffy/2017-etnp/blob/master/notebooks/uwpr-may2017-dno.ipynb)."
   ]
  },
  {
   "cell_type": "code",
   "execution_count": 4,
   "metadata": {
    "collapsed": false
   },
   "outputs": [
    {
     "name": "stdout",
     "output_type": "stream",
     "text": [
      "243-peaks37-DB-search-psm.csv    243-peaks37-dno.csv\r\n",
      "243-peaks37-db-mods.txt          243-peaks37-dnopeps.csv\r\n",
      "243-peaks37-db-nomods.txt        243-peaks37-dnopeps.txt\r\n",
      "243-peaks37-dbpeps.csv           243-peaks37-peptide.csv\r\n",
      "243-peaks37-dbpeps.txt           243-peaks37-protein-peptides.csv\r\n",
      "243-peaks37-dno-mods.txt         243-peaks37-proteins.csv\r\n",
      "243-peaks37-dno-nomods.txt       243-peaks37-proteins.fasta\r\n"
     ]
    }
   ],
   "source": [
    "# Example of data file types in data directory\n",
    "\n",
    "!ls /Users/meganduffy/Documents/git-repos/2017-etnp/data/uwpr-may2017/UWPR_May2017_243-965m-gf75-ETNP_PEAKS_37/"
   ]
  },
  {
   "cell_type": "markdown",
   "metadata": {},
   "source": [
    "### First, analysing the sample from this batch that's relevant to Pro Novo paper: 243 (1000 m suspended).\n",
    "### Ran 243-peaks37-dno-nomods.txt through Unipept metaproteomics analysis web server. Equated L and I and filtered duplicate peptides.\n",
    "### 555/1189 peptides found matching to Unipept DB\n",
    "### Uniqueness: 1189/1305 peptides unique (duplicates filter)\n",
    "### Cyanobacterial peptides: 0\n",
    "### Nitrospina peptides: 0\n",
    "### Exported results to .csv in git analyses directory, and saved sunburst figure as .png"
   ]
  },
  {
   "cell_type": "code",
   "execution_count": 6,
   "metadata": {
    "collapsed": false
   },
   "outputs": [
    {
     "name": "stdout",
     "output_type": "stream",
     "text": [
      "243-peaks37-dno-nomods-lca.csv 243-peaks37-dno-nomods-lca.png\r\n"
     ]
    }
   ],
   "source": [
    "!ls /Users/meganduffy/Documents/git-repos/2017-etnp/analyses/uwpr-may2017/unipept-lca/"
   ]
  },
  {
   "cell_type": "code",
   "execution_count": null,
   "metadata": {
    "collapsed": true
   },
   "outputs": [],
   "source": []
  }
 ],
 "metadata": {
  "anaconda-cloud": {},
  "kernelspec": {
   "display_name": "Python [default]",
   "language": "python",
   "name": "python3"
  },
  "language_info": {
   "codemirror_mode": {
    "name": "ipython",
    "version": 3
   },
   "file_extension": ".py",
   "mimetype": "text/x-python",
   "name": "python",
   "nbconvert_exporter": "python",
   "pygments_lexer": "ipython3",
   "version": "3.5.2"
  }
 },
 "nbformat": 4,
 "nbformat_minor": 1
}
