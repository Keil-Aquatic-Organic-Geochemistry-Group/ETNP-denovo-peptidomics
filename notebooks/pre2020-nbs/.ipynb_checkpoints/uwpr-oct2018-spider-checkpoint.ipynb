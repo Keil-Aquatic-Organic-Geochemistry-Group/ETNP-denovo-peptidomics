{
 "cells": [
  {
   "cell_type": "code",
   "execution_count": 1,
   "metadata": {
    "collapsed": false
   },
   "outputs": [
    {
     "name": "stdout",
     "output_type": "stream",
     "text": [
      "Wed Aug  7 16:12:49 PDT 2019\r\n"
     ]
    }
   ],
   "source": [
    "!date"
   ]
  },
  {
   "cell_type": "markdown",
   "metadata": {},
   "source": [
    "### Notebook to process PEAKS 8.5 SPIDER runs for October 2018 UWPR samples.\n",
    "### Starting with samples relevant to De Novo paper, 278 and 273 (265 m and 965 m sus).\n",
    "### Exported the results of PEAKS 8.5 searches into Git ETNP 2017 data directory.\n",
    "### Database ID'd peptides are in running#-peaks#-spider-peptide.csv files and de novo only peptides are in running#-peaks#-spider-dno.csv.\n",
    "### SPIDER modifications are only in peptide files."
   ]
  },
  {
   "cell_type": "markdown",
   "metadata": {},
   "source": [
    "### Starting with sample 273: ETNP 2017 P2 965 m trap"
   ]
  },
  {
   "cell_type": "code",
   "execution_count": 2,
   "metadata": {
    "collapsed": false
   },
   "outputs": [
    {
     "name": "stdout",
     "output_type": "stream",
     "text": [
      "273-spider26-DB-search-psm.csv    273-spider26-protein-peptides.csv\r\n",
      "273-spider26-dno.csv              273-spider26-proteins.csv\r\n",
      "273-spider26-peptide.csv          273-spider26-proteins.fasta\r\n"
     ]
    }
   ],
   "source": [
    "! ls /Users/meganduffy/Documents/git-repos/2017-etnp/data/uwpr-oct2018/UWPR-Oct2018-SPIDER/273_4-19_965m_top-SPIDER26-20181003/"
   ]
  },
  {
   "cell_type": "code",
   "execution_count": 3,
   "metadata": {
    "collapsed": true
   },
   "outputs": [],
   "source": [
    "import os"
   ]
  },
  {
   "cell_type": "code",
   "execution_count": 4,
   "metadata": {
    "collapsed": false
   },
   "outputs": [
    {
     "data": {
      "text/plain": [
       "'/Users/meganduffy/Documents/git-repos/2017-etnp/notebooks'"
      ]
     },
     "execution_count": 4,
     "metadata": {},
     "output_type": "execute_result"
    }
   ],
   "source": [
    "os.getcwd()"
   ]
  },
  {
   "cell_type": "code",
   "execution_count": 5,
   "metadata": {
    "collapsed": true
   },
   "outputs": [],
   "source": [
    "import pandas as pd"
   ]
  },
  {
   "cell_type": "code",
   "execution_count": 6,
   "metadata": {
    "collapsed": false
   },
   "outputs": [
    {
     "data": {
      "text/plain": [
       "'0.18.1'"
      ]
     },
     "execution_count": 6,
     "metadata": {},
     "output_type": "execute_result"
    }
   ],
   "source": [
    "pd.__version__"
   ]
  },
  {
   "cell_type": "code",
   "execution_count": 7,
   "metadata": {
    "collapsed": true
   },
   "outputs": [],
   "source": [
    "data = pd.read_csv(\"/Users/meganduffy/Documents/git-repos/2017-etnp/data/uwpr-oct2018/UWPR-Oct2018-SPIDER/273_4-19_965m_top-SPIDER26-20181003/273-spider26-peptide.csv\")"
   ]
  },
  {
   "cell_type": "code",
   "execution_count": 8,
   "metadata": {
    "collapsed": false
   },
   "outputs": [
    {
     "data": {
      "text/html": [
       "<div>\n",
       "<table border=\"1\" class=\"dataframe\">\n",
       "  <thead>\n",
       "    <tr style=\"text-align: right;\">\n",
       "      <th></th>\n",
       "      <th>Peptide</th>\n",
       "      <th>-10lgP</th>\n",
       "      <th>Mass</th>\n",
       "      <th>Length</th>\n",
       "      <th>ppm</th>\n",
       "      <th>m/z</th>\n",
       "      <th>RT</th>\n",
       "      <th>Area Sample 1: 273 4-19_965m_top+p</th>\n",
       "      <th>Fraction</th>\n",
       "      <th>Scan</th>\n",
       "      <th>Source File</th>\n",
       "      <th>#Spec</th>\n",
       "      <th>#Spec Sample 1: 273 4-19_965m_top+p</th>\n",
       "      <th>Accession</th>\n",
       "      <th>PTM</th>\n",
       "      <th>AScore</th>\n",
       "    </tr>\n",
       "  </thead>\n",
       "  <tbody>\n",
       "    <tr>\n",
       "      <th>0</th>\n",
       "      <td>AIQQQIENPLAQQILSGELVPGK</td>\n",
       "      <td>127.63</td>\n",
       "      <td>2473.3540</td>\n",
       "      <td>23</td>\n",
       "      <td>-0.2</td>\n",
       "      <td>1237.6841</td>\n",
       "      <td>97.98</td>\n",
       "      <td>91500000.0</td>\n",
       "      <td>1</td>\n",
       "      <td>41605</td>\n",
       "      <td>20181003_4-19_965m_top.raw</td>\n",
       "      <td>7</td>\n",
       "      <td>7</td>\n",
       "      <td>54036848</td>\n",
       "      <td>NaN</td>\n",
       "      <td>NaN</td>\n",
       "    </tr>\n",
       "    <tr>\n",
       "      <th>1</th>\n",
       "      <td>LPQVEGTGGDVQPSQDLVR</td>\n",
       "      <td>112.65</td>\n",
       "      <td>1994.0068</td>\n",
       "      <td>19</td>\n",
       "      <td>-0.4</td>\n",
       "      <td>998.0103</td>\n",
       "      <td>60.63</td>\n",
       "      <td>271000000.0</td>\n",
       "      <td>1</td>\n",
       "      <td>21306</td>\n",
       "      <td>20181003_4-19_965m_top.raw</td>\n",
       "      <td>7</td>\n",
       "      <td>7</td>\n",
       "      <td>54036848</td>\n",
       "      <td>NaN</td>\n",
       "      <td>NaN</td>\n",
       "    </tr>\n",
       "    <tr>\n",
       "      <th>2</th>\n",
       "      <td>SYELPDGQVITIGNER</td>\n",
       "      <td>82.04</td>\n",
       "      <td>1789.8846</td>\n",
       "      <td>16</td>\n",
       "      <td>1.4</td>\n",
       "      <td>895.9509</td>\n",
       "      <td>79.70</td>\n",
       "      <td>7600000.0</td>\n",
       "      <td>1</td>\n",
       "      <td>31630</td>\n",
       "      <td>20181003_4-19_965m_top.raw</td>\n",
       "      <td>3</td>\n",
       "      <td>3</td>\n",
       "      <td>ETNP_70</td>\n",
       "      <td>NaN</td>\n",
       "      <td>NaN</td>\n",
       "    </tr>\n",
       "    <tr>\n",
       "      <th>3</th>\n",
       "      <td>LPQVEGTGGDVQ(+.98)PSQDLVR</td>\n",
       "      <td>81.89</td>\n",
       "      <td>1994.9908</td>\n",
       "      <td>19</td>\n",
       "      <td>2.0</td>\n",
       "      <td>998.5047</td>\n",
       "      <td>62.41</td>\n",
       "      <td>4990000.0</td>\n",
       "      <td>1</td>\n",
       "      <td>22190</td>\n",
       "      <td>20181003_4-19_965m_top.raw</td>\n",
       "      <td>2</td>\n",
       "      <td>2</td>\n",
       "      <td>54036848</td>\n",
       "      <td>Deamidation (NQ)</td>\n",
       "      <td>Q12:Deamidation (NQ):22.45</td>\n",
       "    </tr>\n",
       "    <tr>\n",
       "      <th>4</th>\n",
       "      <td>VIGQNEAVDAVSNAIR</td>\n",
       "      <td>80.73</td>\n",
       "      <td>1654.8638</td>\n",
       "      <td>16</td>\n",
       "      <td>1.5</td>\n",
       "      <td>828.4404</td>\n",
       "      <td>72.78</td>\n",
       "      <td>305000000.0</td>\n",
       "      <td>1</td>\n",
       "      <td>27785</td>\n",
       "      <td>20181003_4-19_965m_top.raw</td>\n",
       "      <td>7</td>\n",
       "      <td>7</td>\n",
       "      <td>54036848</td>\n",
       "      <td>NaN</td>\n",
       "      <td>NaN</td>\n",
       "    </tr>\n",
       "  </tbody>\n",
       "</table>\n",
       "</div>"
      ],
      "text/plain": [
       "                     Peptide  -10lgP       Mass  Length  ppm        m/z  \\\n",
       "0    AIQQQIENPLAQQILSGELVPGK  127.63  2473.3540      23 -0.2  1237.6841   \n",
       "1        LPQVEGTGGDVQPSQDLVR  112.65  1994.0068      19 -0.4   998.0103   \n",
       "2           SYELPDGQVITIGNER   82.04  1789.8846      16  1.4   895.9509   \n",
       "3  LPQVEGTGGDVQ(+.98)PSQDLVR   81.89  1994.9908      19  2.0   998.5047   \n",
       "4           VIGQNEAVDAVSNAIR   80.73  1654.8638      16  1.5   828.4404   \n",
       "\n",
       "      RT  Area Sample 1: 273 4-19_965m_top+p  Fraction   Scan  \\\n",
       "0  97.98                          91500000.0         1  41605   \n",
       "1  60.63                         271000000.0         1  21306   \n",
       "2  79.70                           7600000.0         1  31630   \n",
       "3  62.41                           4990000.0         1  22190   \n",
       "4  72.78                         305000000.0         1  27785   \n",
       "\n",
       "                  Source File  #Spec  #Spec Sample 1: 273 4-19_965m_top+p  \\\n",
       "0  20181003_4-19_965m_top.raw      7                                    7   \n",
       "1  20181003_4-19_965m_top.raw      7                                    7   \n",
       "2  20181003_4-19_965m_top.raw      3                                    3   \n",
       "3  20181003_4-19_965m_top.raw      2                                    2   \n",
       "4  20181003_4-19_965m_top.raw      7                                    7   \n",
       "\n",
       "  Accession               PTM                      AScore  \n",
       "0  54036848               NaN                         NaN  \n",
       "1  54036848               NaN                         NaN  \n",
       "2   ETNP_70               NaN                         NaN  \n",
       "3  54036848  Deamidation (NQ)  Q12:Deamidation (NQ):22.45  \n",
       "4  54036848               NaN                         NaN  "
      ]
     },
     "execution_count": 8,
     "metadata": {},
     "output_type": "execute_result"
    }
   ],
   "source": [
    "data.head()"
   ]
  },
  {
   "cell_type": "code",
   "execution_count": 9,
   "metadata": {
    "collapsed": true
   },
   "outputs": [],
   "source": [
    "# Keep only peptide column\n",
    "pep = data[[\"Peptide\"]]"
   ]
  },
  {
   "cell_type": "code",
   "execution_count": 10,
   "metadata": {
    "collapsed": false
   },
   "outputs": [
    {
     "data": {
      "text/html": [
       "<div>\n",
       "<table border=\"1\" class=\"dataframe\">\n",
       "  <thead>\n",
       "    <tr style=\"text-align: right;\">\n",
       "      <th></th>\n",
       "      <th>Peptide</th>\n",
       "    </tr>\n",
       "  </thead>\n",
       "  <tbody>\n",
       "    <tr>\n",
       "      <th>0</th>\n",
       "      <td>AIQQQIENPLAQQILSGELVPGK</td>\n",
       "    </tr>\n",
       "    <tr>\n",
       "      <th>1</th>\n",
       "      <td>LPQVEGTGGDVQPSQDLVR</td>\n",
       "    </tr>\n",
       "    <tr>\n",
       "      <th>2</th>\n",
       "      <td>SYELPDGQVITIGNER</td>\n",
       "    </tr>\n",
       "    <tr>\n",
       "      <th>3</th>\n",
       "      <td>LPQVEGTGGDVQ(+.98)PSQDLVR</td>\n",
       "    </tr>\n",
       "    <tr>\n",
       "      <th>4</th>\n",
       "      <td>VIGQNEAVDAVSNAIR</td>\n",
       "    </tr>\n",
       "  </tbody>\n",
       "</table>\n",
       "</div>"
      ],
      "text/plain": [
       "                     Peptide\n",
       "0    AIQQQIENPLAQQILSGELVPGK\n",
       "1        LPQVEGTGGDVQPSQDLVR\n",
       "2           SYELPDGQVITIGNER\n",
       "3  LPQVEGTGGDVQ(+.98)PSQDLVR\n",
       "4           VIGQNEAVDAVSNAIR"
      ]
     },
     "execution_count": 10,
     "metadata": {},
     "output_type": "execute_result"
    }
   ],
   "source": [
    "pep.head()"
   ]
  },
  {
   "cell_type": "code",
   "execution_count": 11,
   "metadata": {
    "collapsed": true
   },
   "outputs": [],
   "source": [
    "# Write altered dataframe to new csv file\n",
    "# Used header and index parameters to get rid of 'Peptide' header and the indexing\n",
    "\n",
    "pep.to_csv(\"/Users/meganduffy/Documents/git-repos/2017-etnp/data/uwpr-oct2018/UWPR-Oct2018-SPIDER/273_4-19_965m_top-SPIDER26-20181003/273-peaks26-spider-peps.csv\", header=False, index=False)"
   ]
  },
  {
   "cell_type": "code",
   "execution_count": 12,
   "metadata": {
    "collapsed": true
   },
   "outputs": [],
   "source": [
    "# Write altered dataframe to new txt file\n",
    "# Used header and index parameters to get rid of 'Peptide' header and the indexing\n",
    "\n",
    "pep.to_csv(\"/Users/meganduffy/Documents/git-repos/2017-etnp/data/uwpr-oct2018/UWPR-Oct2018-SPIDER/273_4-19_965m_top-SPIDER26-20181003/273-peaks26-spider-peps.txt\", header=False, index=False)"
   ]
  },
  {
   "cell_type": "code",
   "execution_count": 13,
   "metadata": {
    "collapsed": false
   },
   "outputs": [
    {
     "name": "stdout",
     "output_type": "stream",
     "text": [
      "AIQQQIENPLAQQILSGELVPGK\r\n",
      "LPQVEGTGGDVQPSQDLVR\r\n",
      "SYELPDGQVITIGNER\r\n",
      "LPQVEGTGGDVQ(+.98)PSQDLVR\r\n",
      "VIGQNEAVDAVSNAIR\r\n",
      "VTDAEIAEVLAR\r\n",
      "VIGQNEAVDAVSN(+.98)AIR\r\n",
      "QVHPDTGISSK\r\n",
      "AIDLIDEAASSIR\r\n",
      "AIDLIDEAASSLR\r\n"
     ]
    }
   ],
   "source": [
    "!head /Users/meganduffy/Documents/git-repos/2017-etnp/data/uwpr-oct2018/UWPR-Oct2018-SPIDER/273_4-19_965m_top-SPIDER26-20181003/273-peaks26-spider-peps.txt"
   ]
  },
  {
   "cell_type": "code",
   "execution_count": 14,
   "metadata": {
    "collapsed": true
   },
   "outputs": [],
   "source": [
    "# Removes all characters in parentheses and saves as new file\n",
    "\n",
    "!awk -F \"[()]\" '{ for (i=2; i<NF; i+=2) print $i }' /Users/meganduffy/Documents/git-repos/2017-etnp/data/uwpr-oct2018/UWPR-Oct2018-SPIDER/273_4-19_965m_top-SPIDER26-20181003/273-peaks26-spider-peps.txt > /Users/meganduffy/Documents/git-repos/2017-etnp/data/uwpr-oct2018/UWPR-Oct2018-SPIDER/273_4-19_965m_top-SPIDER26-20181003/273-peaks26-spider-mods.txt"
   ]
  },
  {
   "cell_type": "code",
   "execution_count": 15,
   "metadata": {
    "collapsed": false
   },
   "outputs": [
    {
     "name": "stdout",
     "output_type": "stream",
     "text": [
      "+.98\r\n",
      "+.98\r\n",
      "+17.03\r\n",
      "+21.98\r\n",
      "+.98\r\n",
      "+129.04\r\n",
      "+.98\r\n",
      "+21.98\r\n",
      "+.98\r\n",
      "+37.96\r\n"
     ]
    }
   ],
   "source": [
    "# How does the modifications text file look?\n",
    "\n",
    "!head /Users/meganduffy/Documents/git-repos/2017-etnp/data/uwpr-oct2018/UWPR-Oct2018-SPIDER/273_4-19_965m_top-SPIDER26-20181003/273-peaks26-spider-mods.txt"
   ]
  },
  {
   "cell_type": "code",
   "execution_count": 16,
   "metadata": {
    "collapsed": false
   },
   "outputs": [
    {
     "name": "stdout",
     "output_type": "stream",
     "text": [
      "     150 /Users/meganduffy/Documents/git-repos/2017-etnp/data/uwpr-oct2018/UWPR-Oct2018-SPIDER/273_4-19_965m_top-SPIDER26-20181003/273-peaks26-spider-mods.txt\r\n"
     ]
    }
   ],
   "source": [
    "# How many modifications for this sample?\n",
    "\n",
    "!wc -l /Users/meganduffy/Documents/git-repos/2017-etnp/data/uwpr-oct2018/UWPR-Oct2018-SPIDER/273_4-19_965m_top-SPIDER26-20181003/273-peaks26-spider-mods.txt"
   ]
  },
  {
   "cell_type": "code",
   "execution_count": 17,
   "metadata": {
    "collapsed": false
   },
   "outputs": [
    {
     "name": "stdout",
     "output_type": "stream",
     "text": [
      "     726 /Users/meganduffy/Documents/git-repos/2017-etnp/data/uwpr-oct2018/UWPR-Oct2018-SPIDER/273_4-19_965m_top-SPIDER26-20181003/273-peaks26-spider-peps.txt\r\n"
     ]
    }
   ],
   "source": [
    "# Compared with how many total peptides?\n",
    "\n",
    "!wc -l /Users/meganduffy/Documents/git-repos/2017-etnp/data/uwpr-oct2018/UWPR-Oct2018-SPIDER/273_4-19_965m_top-SPIDER26-20181003/273-peaks26-spider-peps.txt"
   ]
  },
  {
   "cell_type": "code",
   "execution_count": 18,
   "metadata": {
    "collapsed": false
   },
   "outputs": [
    {
     "data": {
      "text/plain": [
       "0.2066115702479339"
      ]
     },
     "execution_count": 18,
     "metadata": {},
     "output_type": "execute_result"
    }
   ],
   "source": [
    "# What's the percentage of modified peptides for this sample?\n",
    "\n",
    "150/726"
   ]
  },
  {
   "cell_type": "code",
   "execution_count": 19,
   "metadata": {
    "collapsed": true
   },
   "outputs": [],
   "source": [
    "# Keep only peptide column\n",
    "ptm = data[[\"PTM\"]]"
   ]
  },
  {
   "cell_type": "code",
   "execution_count": 20,
   "metadata": {
    "collapsed": false
   },
   "outputs": [
    {
     "data": {
      "text/html": [
       "<div>\n",
       "<table border=\"1\" class=\"dataframe\">\n",
       "  <thead>\n",
       "    <tr style=\"text-align: right;\">\n",
       "      <th></th>\n",
       "      <th>PTM</th>\n",
       "    </tr>\n",
       "  </thead>\n",
       "  <tbody>\n",
       "    <tr>\n",
       "      <th>0</th>\n",
       "      <td>NaN</td>\n",
       "    </tr>\n",
       "    <tr>\n",
       "      <th>1</th>\n",
       "      <td>NaN</td>\n",
       "    </tr>\n",
       "    <tr>\n",
       "      <th>2</th>\n",
       "      <td>NaN</td>\n",
       "    </tr>\n",
       "    <tr>\n",
       "      <th>3</th>\n",
       "      <td>Deamidation (NQ)</td>\n",
       "    </tr>\n",
       "    <tr>\n",
       "      <th>4</th>\n",
       "      <td>NaN</td>\n",
       "    </tr>\n",
       "  </tbody>\n",
       "</table>\n",
       "</div>"
      ],
      "text/plain": [
       "                PTM\n",
       "0               NaN\n",
       "1               NaN\n",
       "2               NaN\n",
       "3  Deamidation (NQ)\n",
       "4               NaN"
      ]
     },
     "execution_count": 20,
     "metadata": {},
     "output_type": "execute_result"
    }
   ],
   "source": [
    "ptm.head()"
   ]
  },
  {
   "cell_type": "code",
   "execution_count": 21,
   "metadata": {
    "collapsed": false
   },
   "outputs": [
    {
     "name": "stdout",
     "output_type": "stream",
     "text": [
      "PTM    588\n",
      "dtype: int64\n"
     ]
    }
   ],
   "source": [
    "# How many blank rows?\n",
    "print (ptm.isnull().sum())"
   ]
  },
  {
   "cell_type": "code",
   "execution_count": 22,
   "metadata": {
    "collapsed": true
   },
   "outputs": [],
   "source": [
    "# Get rid of blank rows\n",
    "ptm_svelte = ptm.dropna()"
   ]
  },
  {
   "cell_type": "code",
   "execution_count": 23,
   "metadata": {
    "collapsed": true
   },
   "outputs": [],
   "source": [
    "# Write altered dataframe to new txt file\n",
    "# Used header and index parameters to get rid of 'PTM' header and the indexing\n",
    "\n",
    "ptm_svelte.to_csv(\"/Users/meganduffy/Documents/git-repos/2017-etnp/data/uwpr-oct2018/UWPR-Oct2018-SPIDER/273_4-19_965m_top-SPIDER26-20181003/273-peaks26-spider-ptm.txt\", header=False, index=False)"
   ]
  },
  {
   "cell_type": "code",
   "execution_count": 24,
   "metadata": {
    "collapsed": false
   },
   "outputs": [
    {
     "name": "stdout",
     "output_type": "stream",
     "text": [
      "Deamidation (NQ)\r\n",
      "Deamidation (NQ)\r\n",
      "Replacement of proton with ammonium ion\r\n",
      "Sodium adduct\r\n",
      "Deamidation (NQ)\r\n",
      "Monoglutamyl\r\n",
      "Deamidation (NQ)\r\n",
      "Sodium adduct\r\n",
      "Deamidation (NQ)\r\n",
      "Replacement of proton by potassium\r\n"
     ]
    }
   ],
   "source": [
    "!head /Users/meganduffy/Documents/git-repos/2017-etnp/data/uwpr-oct2018/UWPR-Oct2018-SPIDER/273_4-19_965m_top-SPIDER26-20181003/273-peaks26-spider-ptm.txt"
   ]
  },
  {
   "cell_type": "code",
   "execution_count": 26,
   "metadata": {
    "collapsed": false
   },
   "outputs": [
    {
     "name": "stdout",
     "output_type": "stream",
     "text": [
      "273-peaks26-spider-mods.txt       273-spider26-dno.csv\r\n",
      "273-peaks26-spider-peps.csv       273-spider26-peptide.csv\r\n",
      "273-peaks26-spider-peps.txt       273-spider26-protein-peptides.csv\r\n",
      "273-peaks26-spider-ptm.txt        273-spider26-proteins.csv\r\n",
      "273-spider26-DB-search-psm.csv    273-spider26-proteins.fasta\r\n"
     ]
    }
   ],
   "source": [
    "!ls /Users/meganduffy/Documents/git-repos/2017-etnp/data/uwpr-oct2018/UWPR-Oct2018-SPIDER/273_4-19_965m_top-SPIDER26-20181003/"
   ]
  },
  {
   "cell_type": "markdown",
   "metadata": {},
   "source": [
    "### Moving on to sample 278: ETNP 2017 P2 trap 265 m"
   ]
  },
  {
   "cell_type": "code",
   "execution_count": 27,
   "metadata": {
    "collapsed": false
   },
   "outputs": [
    {
     "name": "stdout",
     "output_type": "stream",
     "text": [
      "278-spider107-DB-search-psm.csv    278-spider107-protein-peptides.csv\r\n",
      "278-spider107-dno.csv              278-spider107-proteins.csv\r\n",
      "278-spider107-peptide.csv          278-spider107-proteins.fasta\r\n"
     ]
    }
   ],
   "source": [
    "!ls /Users/meganduffy/Documents/git-repos/2017-etnp/data/uwpr-oct2018/UWPR-Oct2018-SPIDER/278_4-19_265m_topP-SPIDER107-20181004/"
   ]
  },
  {
   "cell_type": "code",
   "execution_count": 28,
   "metadata": {
    "collapsed": true
   },
   "outputs": [],
   "source": [
    "data = pd.read_csv(\"/Users/meganduffy/Documents/git-repos/2017-etnp/data/uwpr-oct2018/UWPR-Oct2018-SPIDER/278_4-19_265m_topP-SPIDER107-20181004/278-spider107-peptide.csv\")"
   ]
  },
  {
   "cell_type": "code",
   "execution_count": 29,
   "metadata": {
    "collapsed": false
   },
   "outputs": [
    {
     "data": {
      "text/html": [
       "<div>\n",
       "<table border=\"1\" class=\"dataframe\">\n",
       "  <thead>\n",
       "    <tr style=\"text-align: right;\">\n",
       "      <th></th>\n",
       "      <th>Peptide</th>\n",
       "      <th>-10lgP</th>\n",
       "      <th>Mass</th>\n",
       "      <th>Length</th>\n",
       "      <th>ppm</th>\n",
       "      <th>m/z</th>\n",
       "      <th>RT</th>\n",
       "      <th>Area Sample 12: 278 4-19_265m_top+P-A_90min</th>\n",
       "      <th>Fraction</th>\n",
       "      <th>Scan</th>\n",
       "      <th>Source File</th>\n",
       "      <th>#Spec</th>\n",
       "      <th>#Spec Sample 12: 278 4-19_265m_top+P-A_90min</th>\n",
       "      <th>Accession</th>\n",
       "      <th>PTM</th>\n",
       "      <th>AScore</th>\n",
       "    </tr>\n",
       "  </thead>\n",
       "  <tbody>\n",
       "    <tr>\n",
       "      <th>0</th>\n",
       "      <td>AIQQQIENPLAQQILSGELVPGK</td>\n",
       "      <td>122.90</td>\n",
       "      <td>2473.3540</td>\n",
       "      <td>23</td>\n",
       "      <td>0.3</td>\n",
       "      <td>1237.6847</td>\n",
       "      <td>97.51</td>\n",
       "      <td>31900000.0</td>\n",
       "      <td>26</td>\n",
       "      <td>45087</td>\n",
       "      <td>20181004_4-19_265m_topP_278_90min.raw</td>\n",
       "      <td>4</td>\n",
       "      <td>4</td>\n",
       "      <td>54036848</td>\n",
       "      <td>NaN</td>\n",
       "      <td>NaN</td>\n",
       "    </tr>\n",
       "    <tr>\n",
       "      <th>1</th>\n",
       "      <td>LPQVEGTGGDVQPSQDLVR</td>\n",
       "      <td>112.73</td>\n",
       "      <td>1994.0068</td>\n",
       "      <td>19</td>\n",
       "      <td>1.5</td>\n",
       "      <td>998.0121</td>\n",
       "      <td>61.15</td>\n",
       "      <td>203000000.0</td>\n",
       "      <td>26</td>\n",
       "      <td>24694</td>\n",
       "      <td>20181004_4-19_265m_topP_278_90min.raw</td>\n",
       "      <td>7</td>\n",
       "      <td>7</td>\n",
       "      <td>54036848</td>\n",
       "      <td>NaN</td>\n",
       "      <td>NaN</td>\n",
       "    </tr>\n",
       "    <tr>\n",
       "      <th>2</th>\n",
       "      <td>LPQVEGTGGDVQ(+.98)PSQDLVR</td>\n",
       "      <td>94.40</td>\n",
       "      <td>1994.9908</td>\n",
       "      <td>19</td>\n",
       "      <td>2.6</td>\n",
       "      <td>998.5052</td>\n",
       "      <td>62.68</td>\n",
       "      <td>4500000.0</td>\n",
       "      <td>26</td>\n",
       "      <td>25494</td>\n",
       "      <td>20181004_4-19_265m_topP_278_90min.raw</td>\n",
       "      <td>3</td>\n",
       "      <td>3</td>\n",
       "      <td>54036848</td>\n",
       "      <td>Deamidation (NQ)</td>\n",
       "      <td>Q12:Deamidation (NQ):24.24</td>\n",
       "    </tr>\n",
       "    <tr>\n",
       "      <th>3</th>\n",
       "      <td>VIGQNEAVDAVSNAIR</td>\n",
       "      <td>83.70</td>\n",
       "      <td>1654.8638</td>\n",
       "      <td>16</td>\n",
       "      <td>3.2</td>\n",
       "      <td>828.4418</td>\n",
       "      <td>72.46</td>\n",
       "      <td>120000000.0</td>\n",
       "      <td>26</td>\n",
       "      <td>30933</td>\n",
       "      <td>20181004_4-19_265m_topP_278_90min.raw</td>\n",
       "      <td>5</td>\n",
       "      <td>5</td>\n",
       "      <td>54036848</td>\n",
       "      <td>NaN</td>\n",
       "      <td>NaN</td>\n",
       "    </tr>\n",
       "    <tr>\n",
       "      <th>4</th>\n",
       "      <td>LPQ(+.98)VEGTGGDVQPSQDLVR</td>\n",
       "      <td>80.89</td>\n",
       "      <td>1994.9908</td>\n",
       "      <td>19</td>\n",
       "      <td>2.3</td>\n",
       "      <td>998.5050</td>\n",
       "      <td>62.18</td>\n",
       "      <td>862000.0</td>\n",
       "      <td>26</td>\n",
       "      <td>25227</td>\n",
       "      <td>20181004_4-19_265m_topP_278_90min.raw</td>\n",
       "      <td>1</td>\n",
       "      <td>1</td>\n",
       "      <td>54036848</td>\n",
       "      <td>Deamidation (NQ)</td>\n",
       "      <td>Q3:Deamidation (NQ):129.04</td>\n",
       "    </tr>\n",
       "  </tbody>\n",
       "</table>\n",
       "</div>"
      ],
      "text/plain": [
       "                     Peptide  -10lgP       Mass  Length  ppm        m/z  \\\n",
       "0    AIQQQIENPLAQQILSGELVPGK  122.90  2473.3540      23  0.3  1237.6847   \n",
       "1        LPQVEGTGGDVQPSQDLVR  112.73  1994.0068      19  1.5   998.0121   \n",
       "2  LPQVEGTGGDVQ(+.98)PSQDLVR   94.40  1994.9908      19  2.6   998.5052   \n",
       "3           VIGQNEAVDAVSNAIR   83.70  1654.8638      16  3.2   828.4418   \n",
       "4  LPQ(+.98)VEGTGGDVQPSQDLVR   80.89  1994.9908      19  2.3   998.5050   \n",
       "\n",
       "      RT  Area Sample 12: 278 4-19_265m_top+P-A_90min  Fraction   Scan  \\\n",
       "0  97.51                                   31900000.0        26  45087   \n",
       "1  61.15                                  203000000.0        26  24694   \n",
       "2  62.68                                    4500000.0        26  25494   \n",
       "3  72.46                                  120000000.0        26  30933   \n",
       "4  62.18                                     862000.0        26  25227   \n",
       "\n",
       "                             Source File  #Spec  \\\n",
       "0  20181004_4-19_265m_topP_278_90min.raw      4   \n",
       "1  20181004_4-19_265m_topP_278_90min.raw      7   \n",
       "2  20181004_4-19_265m_topP_278_90min.raw      3   \n",
       "3  20181004_4-19_265m_topP_278_90min.raw      5   \n",
       "4  20181004_4-19_265m_topP_278_90min.raw      1   \n",
       "\n",
       "   #Spec Sample 12: 278 4-19_265m_top+P-A_90min Accession               PTM  \\\n",
       "0                                             4  54036848               NaN   \n",
       "1                                             7  54036848               NaN   \n",
       "2                                             3  54036848  Deamidation (NQ)   \n",
       "3                                             5  54036848               NaN   \n",
       "4                                             1  54036848  Deamidation (NQ)   \n",
       "\n",
       "                       AScore  \n",
       "0                         NaN  \n",
       "1                         NaN  \n",
       "2  Q12:Deamidation (NQ):24.24  \n",
       "3                         NaN  \n",
       "4  Q3:Deamidation (NQ):129.04  "
      ]
     },
     "execution_count": 29,
     "metadata": {},
     "output_type": "execute_result"
    }
   ],
   "source": [
    "data.head()"
   ]
  },
  {
   "cell_type": "code",
   "execution_count": 30,
   "metadata": {
    "collapsed": true
   },
   "outputs": [],
   "source": [
    "# Keep only peptide column\n",
    "pep = data[[\"Peptide\"]]"
   ]
  },
  {
   "cell_type": "code",
   "execution_count": 31,
   "metadata": {
    "collapsed": false
   },
   "outputs": [
    {
     "data": {
      "text/html": [
       "<div>\n",
       "<table border=\"1\" class=\"dataframe\">\n",
       "  <thead>\n",
       "    <tr style=\"text-align: right;\">\n",
       "      <th></th>\n",
       "      <th>Peptide</th>\n",
       "    </tr>\n",
       "  </thead>\n",
       "  <tbody>\n",
       "    <tr>\n",
       "      <th>0</th>\n",
       "      <td>AIQQQIENPLAQQILSGELVPGK</td>\n",
       "    </tr>\n",
       "    <tr>\n",
       "      <th>1</th>\n",
       "      <td>LPQVEGTGGDVQPSQDLVR</td>\n",
       "    </tr>\n",
       "    <tr>\n",
       "      <th>2</th>\n",
       "      <td>LPQVEGTGGDVQ(+.98)PSQDLVR</td>\n",
       "    </tr>\n",
       "    <tr>\n",
       "      <th>3</th>\n",
       "      <td>VIGQNEAVDAVSNAIR</td>\n",
       "    </tr>\n",
       "    <tr>\n",
       "      <th>4</th>\n",
       "      <td>LPQ(+.98)VEGTGGDVQPSQDLVR</td>\n",
       "    </tr>\n",
       "  </tbody>\n",
       "</table>\n",
       "</div>"
      ],
      "text/plain": [
       "                     Peptide\n",
       "0    AIQQQIENPLAQQILSGELVPGK\n",
       "1        LPQVEGTGGDVQPSQDLVR\n",
       "2  LPQVEGTGGDVQ(+.98)PSQDLVR\n",
       "3           VIGQNEAVDAVSNAIR\n",
       "4  LPQ(+.98)VEGTGGDVQPSQDLVR"
      ]
     },
     "execution_count": 31,
     "metadata": {},
     "output_type": "execute_result"
    }
   ],
   "source": [
    "pep.head()"
   ]
  },
  {
   "cell_type": "code",
   "execution_count": 32,
   "metadata": {
    "collapsed": true
   },
   "outputs": [],
   "source": [
    "# Write altered dataframe to new csv file\n",
    "# Used header and index parameters to get rid of 'Peptide' header and the indexing\n",
    "\n",
    "pep.to_csv(\"/Users/meganduffy/Documents/git-repos/2017-etnp/data/uwpr-oct2018/UWPR-Oct2018-SPIDER/278_4-19_265m_topP-SPIDER107-20181004/278-peaks107-spider-peps.csv\", header=False, index=False)"
   ]
  },
  {
   "cell_type": "code",
   "execution_count": 33,
   "metadata": {
    "collapsed": true
   },
   "outputs": [],
   "source": [
    "# Write altered dataframe to new txt file\n",
    "# Used header and index parameters to get rid of 'Peptide' header and the indexing\n",
    "\n",
    "pep.to_csv(\"/Users/meganduffy/Documents/git-repos/2017-etnp/data/uwpr-oct2018/UWPR-Oct2018-SPIDER/278_4-19_265m_topP-SPIDER107-20181004/278-peaks107-spider-peps.txt\", header=False, index=False)"
   ]
  },
  {
   "cell_type": "code",
   "execution_count": 34,
   "metadata": {
    "collapsed": false
   },
   "outputs": [
    {
     "name": "stdout",
     "output_type": "stream",
     "text": [
      "AIQQQIENPLAQQILSGELVPGK\r\n",
      "LPQVEGTGGDVQPSQDLVR\r\n",
      "LPQVEGTGGDVQ(+.98)PSQDLVR\r\n",
      "VIGQNEAVDAVSNAIR\r\n",
      "LPQ(+.98)VEGTGGDVQPSQDLVR\r\n",
      "SYELPDGQVITIGNER\r\n",
      "LGEYGFQNALIVR\r\n",
      "AIQQQIE(+21.98)NPLAQQILSGELVPGK\r\n",
      "GGYFPVAPVDSSQDIR\r\n",
      "AAVEEGVVAGGGVALLR\r\n"
     ]
    }
   ],
   "source": [
    "!head /Users/meganduffy/Documents/git-repos/2017-etnp/data/uwpr-oct2018/UWPR-Oct2018-SPIDER/278_4-19_265m_topP-SPIDER107-20181004/278-peaks107-spider-peps.txt"
   ]
  },
  {
   "cell_type": "code",
   "execution_count": 35,
   "metadata": {
    "collapsed": true
   },
   "outputs": [],
   "source": [
    "# Removes all characters in parentheses and saves as new file\n",
    "\n",
    "!awk -F \"[()]\" '{ for (i=2; i<NF; i+=2) print $i }' /Users/meganduffy/Documents/git-repos/2017-etnp/data/uwpr-oct2018/UWPR-Oct2018-SPIDER/278_4-19_265m_topP-SPIDER107-20181004/278-peaks107-spider-peps.txt > /Users/meganduffy/Documents/git-repos/2017-etnp/data/uwpr-oct2018/UWPR-Oct2018-SPIDER/278_4-19_265m_topP-SPIDER107-20181004/278-peaks107-spider-mods.txt"
   ]
  },
  {
   "cell_type": "code",
   "execution_count": 36,
   "metadata": {
    "collapsed": false
   },
   "outputs": [
    {
     "name": "stdout",
     "output_type": "stream",
     "text": [
      "+.98\r\n",
      "+.98\r\n",
      "+21.98\r\n",
      "sub K\r\n",
      "sub R\r\n",
      "+57.02\r\n",
      "+57.02\r\n",
      "+21.98\r\n",
      "-18.01\r\n",
      "+57.02\r\n"
     ]
    }
   ],
   "source": [
    "# How does the modifications text file look?\n",
    "\n",
    "!head /Users/meganduffy/Documents/git-repos/2017-etnp/data/uwpr-oct2018/UWPR-Oct2018-SPIDER/278_4-19_265m_topP-SPIDER107-20181004/278-peaks107-spider-mods.txt"
   ]
  },
  {
   "cell_type": "code",
   "execution_count": 37,
   "metadata": {
    "collapsed": false
   },
   "outputs": [
    {
     "name": "stdout",
     "output_type": "stream",
     "text": [
      "     228 /Users/meganduffy/Documents/git-repos/2017-etnp/data/uwpr-oct2018/UWPR-Oct2018-SPIDER/278_4-19_265m_topP-SPIDER107-20181004/278-peaks107-spider-mods.txt\r\n"
     ]
    }
   ],
   "source": [
    "# How many modifications for this sample?\n",
    "\n",
    "!wc -l /Users/meganduffy/Documents/git-repos/2017-etnp/data/uwpr-oct2018/UWPR-Oct2018-SPIDER/278_4-19_265m_topP-SPIDER107-20181004/278-peaks107-spider-mods.txt"
   ]
  },
  {
   "cell_type": "code",
   "execution_count": 38,
   "metadata": {
    "collapsed": false
   },
   "outputs": [
    {
     "name": "stdout",
     "output_type": "stream",
     "text": [
      "     967 /Users/meganduffy/Documents/git-repos/2017-etnp/data/uwpr-oct2018/UWPR-Oct2018-SPIDER/278_4-19_265m_topP-SPIDER107-20181004/278-peaks107-spider-peps.txt\r\n"
     ]
    }
   ],
   "source": [
    "# Compared with how many total peptides?\n",
    "\n",
    "!wc -l /Users/meganduffy/Documents/git-repos/2017-etnp/data/uwpr-oct2018/UWPR-Oct2018-SPIDER/278_4-19_265m_topP-SPIDER107-20181004/278-peaks107-spider-peps.txt"
   ]
  },
  {
   "cell_type": "code",
   "execution_count": 39,
   "metadata": {
    "collapsed": false
   },
   "outputs": [
    {
     "data": {
      "text/plain": [
       "0.23578076525336092"
      ]
     },
     "execution_count": 39,
     "metadata": {},
     "output_type": "execute_result"
    }
   ],
   "source": [
    "# What's the percentage of modified peptides for this sample?\n",
    "\n",
    "228/967"
   ]
  },
  {
   "cell_type": "code",
   "execution_count": 40,
   "metadata": {
    "collapsed": true
   },
   "outputs": [],
   "source": [
    "# Keep only peptide column\n",
    "ptm = data[[\"PTM\"]]"
   ]
  },
  {
   "cell_type": "code",
   "execution_count": 41,
   "metadata": {
    "collapsed": false
   },
   "outputs": [
    {
     "data": {
      "text/html": [
       "<div>\n",
       "<table border=\"1\" class=\"dataframe\">\n",
       "  <thead>\n",
       "    <tr style=\"text-align: right;\">\n",
       "      <th></th>\n",
       "      <th>Peptide</th>\n",
       "    </tr>\n",
       "  </thead>\n",
       "  <tbody>\n",
       "    <tr>\n",
       "      <th>0</th>\n",
       "      <td>AIQQQIENPLAQQILSGELVPGK</td>\n",
       "    </tr>\n",
       "    <tr>\n",
       "      <th>1</th>\n",
       "      <td>LPQVEGTGGDVQPSQDLVR</td>\n",
       "    </tr>\n",
       "    <tr>\n",
       "      <th>2</th>\n",
       "      <td>LPQVEGTGGDVQ(+.98)PSQDLVR</td>\n",
       "    </tr>\n",
       "    <tr>\n",
       "      <th>3</th>\n",
       "      <td>VIGQNEAVDAVSNAIR</td>\n",
       "    </tr>\n",
       "    <tr>\n",
       "      <th>4</th>\n",
       "      <td>LPQ(+.98)VEGTGGDVQPSQDLVR</td>\n",
       "    </tr>\n",
       "  </tbody>\n",
       "</table>\n",
       "</div>"
      ],
      "text/plain": [
       "                     Peptide\n",
       "0    AIQQQIENPLAQQILSGELVPGK\n",
       "1        LPQVEGTGGDVQPSQDLVR\n",
       "2  LPQVEGTGGDVQ(+.98)PSQDLVR\n",
       "3           VIGQNEAVDAVSNAIR\n",
       "4  LPQ(+.98)VEGTGGDVQPSQDLVR"
      ]
     },
     "execution_count": 41,
     "metadata": {},
     "output_type": "execute_result"
    }
   ],
   "source": [
    "pep.head()"
   ]
  },
  {
   "cell_type": "code",
   "execution_count": 42,
   "metadata": {
    "collapsed": false
   },
   "outputs": [
    {
     "name": "stdout",
     "output_type": "stream",
     "text": [
      "PTM    765\n",
      "dtype: int64\n"
     ]
    }
   ],
   "source": [
    "# How many blank rows?\n",
    "print (ptm.isnull().sum())"
   ]
  },
  {
   "cell_type": "code",
   "execution_count": 43,
   "metadata": {
    "collapsed": true
   },
   "outputs": [],
   "source": [
    "# Get rid of blank rows\n",
    "ptm_svelte = ptm.dropna()"
   ]
  },
  {
   "cell_type": "code",
   "execution_count": 44,
   "metadata": {
    "collapsed": true
   },
   "outputs": [],
   "source": [
    "# Write altered dataframe to new txt file\n",
    "# Used header and index parameters to get rid of 'PTM' header and the indexing\n",
    "\n",
    "ptm_svelte.to_csv(\"/Users/meganduffy/Documents/git-repos/2017-etnp/data/uwpr-oct2018/UWPR-Oct2018-SPIDER/278_4-19_265m_topP-SPIDER107-20181004/278-peaks107-spider-ptm.txt\", header=False, index=False)"
   ]
  },
  {
   "cell_type": "code",
   "execution_count": 45,
   "metadata": {
    "collapsed": false
   },
   "outputs": [
    {
     "name": "stdout",
     "output_type": "stream",
     "text": [
      "Deamidation (NQ)\r\n",
      "Deamidation (NQ)\r\n",
      "Sodium adduct\r\n",
      "Mutation\r\n",
      "Mutation\r\n",
      "Carbamidomethylation\r\n",
      "Sodium adduct\r\n",
      "Dehydration\r\n",
      "Carbamidomethylation\r\n",
      "Carbamidomethylation\r\n"
     ]
    }
   ],
   "source": [
    "!head /Users/meganduffy/Documents/git-repos/2017-etnp/data/uwpr-oct2018/UWPR-Oct2018-SPIDER/278_4-19_265m_topP-SPIDER107-20181004/278-peaks107-spider-ptm.txt"
   ]
  },
  {
   "cell_type": "code",
   "execution_count": 46,
   "metadata": {
    "collapsed": false
   },
   "outputs": [
    {
     "name": "stdout",
     "output_type": "stream",
     "text": [
      "278-peaks107-spider-mods.txt       278-spider107-dno.csv\r\n",
      "278-peaks107-spider-peps.csv       278-spider107-peptide.csv\r\n",
      "278-peaks107-spider-peps.txt       278-spider107-protein-peptides.csv\r\n",
      "278-peaks107-spider-ptm.txt        278-spider107-proteins.csv\r\n",
      "278-spider107-DB-search-psm.csv    278-spider107-proteins.fasta\r\n"
     ]
    }
   ],
   "source": [
    "!ls /Users/meganduffy/Documents/git-repos/2017-etnp/data/uwpr-oct2018/UWPR-Oct2018-SPIDER/278_4-19_265m_topP-SPIDER107-20181004/"
   ]
  },
  {
   "cell_type": "code",
   "execution_count": null,
   "metadata": {
    "collapsed": true
   },
   "outputs": [],
   "source": []
  }
 ],
 "metadata": {
  "anaconda-cloud": {},
  "kernelspec": {
   "display_name": "Python [default]",
   "language": "python",
   "name": "python3"
  },
  "language_info": {
   "codemirror_mode": {
    "name": "ipython",
    "version": 3
   },
   "file_extension": ".py",
   "mimetype": "text/x-python",
   "name": "python",
   "nbconvert_exporter": "python",
   "pygments_lexer": "ipython3",
   "version": "3.5.2"
  }
 },
 "nbformat": 4,
 "nbformat_minor": 1
}
