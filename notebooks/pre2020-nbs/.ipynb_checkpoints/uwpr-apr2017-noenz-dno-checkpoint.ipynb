{
 "cells": [
  {
   "cell_type": "code",
   "execution_count": 1,
   "metadata": {
    "collapsed": false
   },
   "outputs": [
    {
     "name": "stdout",
     "output_type": "stream",
     "text": [
      "Fri Sep 13 17:18:51 PDT 2019\r\n"
     ]
    }
   ],
   "source": [
    "!date"
   ]
  },
  {
   "cell_type": "code",
   "execution_count": 2,
   "metadata": {
    "collapsed": false
   },
   "outputs": [
    {
     "name": "stdout",
     "output_type": "stream",
     "text": [
      "Software:\r\n",
      "\r\n",
      "    System Software Overview:\r\n",
      "\r\n",
      "      System Version: macOS 10.14.6 (18G95)\r\n",
      "      Kernel Version: Darwin 18.7.0\r\n",
      "      Boot Volume: Macintosh HD\r\n",
      "      Boot Mode: Normal\r\n",
      "      Computer Name: Megan’s MacBook Pro (2)\r\n",
      "      User Name: Megan Duffy (meganduffy)\r\n",
      "      Secure Virtual Memory: Enabled\r\n",
      "      System Integrity Protection: Enabled\r\n",
      "      Time since boot: 6 days 18:16\r\n",
      "\r\n"
     ]
    }
   ],
   "source": [
    "!system_profiler SPSoftwareDataType"
   ]
  },
  {
   "cell_type": "markdown",
   "metadata": {},
   "source": [
    "### Notebook to document text extraction and editing of UWPR April 2017 ETNP 2017 P2 McLane sample profile no enzyme searched de novo only peptides\n",
    "### Exported the results of PEAKS 8.5 searches into Git ETNP 2017 data directory\n",
    "### Note that for 231 (JA2), 233 (JA4) runs, I've re-run searches with ETNP_assembly_jaqui_additions_hi3_contigs_cyano_gen2017_BSA_Hi3\n",
    "### But the original runs are also in the UWPR April 2017 directory\n",
    "### De novo only peptides are in running#-peaks#-noenz-dno.csv files"
   ]
  },
  {
   "cell_type": "code",
   "execution_count": 6,
   "metadata": {
    "collapsed": false
   },
   "outputs": [
    {
     "name": "stdout",
     "output_type": "stream",
     "text": [
      "231-peaks69-noenz-DB-search-psm.csv    231-peaks69-noenz-protein-peptides.csv\r\n",
      "231-peaks69-noenz-dno.csv              231-peaks69-noenz-proteins.csv\r\n",
      "231-peaks69-noenz-peptide.csv          231-peaks69-proteins.fasta\r\n"
     ]
    }
   ],
   "source": [
    "!ls /Users/meganduffy/Documents/git-repos/2017-etnp/data/uwpr-apr2017/UWPR-Apr2017-noenz/etnp-ja02-231-20170410-NOENZ-PEAKS69/"
   ]
  },
  {
   "cell_type": "markdown",
   "metadata": {},
   "source": [
    "### First doing the two samples in this batch relevent to the Pro novo paper, 231 and 233 (P2 2017 100 m and 265 m gf75 McLane):\n",
    "### Sample 231: ETNP 2017 McLane (GF-75) 100m P2 (JA2 - UWPR April 2017, PEAKS 69)"
   ]
  },
  {
   "cell_type": "code",
   "execution_count": 7,
   "metadata": {
    "collapsed": true
   },
   "outputs": [],
   "source": [
    "import os"
   ]
  },
  {
   "cell_type": "code",
   "execution_count": 8,
   "metadata": {
    "collapsed": false
   },
   "outputs": [
    {
     "data": {
      "text/plain": [
       "'/Users/meganduffy/Documents/git-repos/2017-etnp/notebooks'"
      ]
     },
     "execution_count": 8,
     "metadata": {},
     "output_type": "execute_result"
    }
   ],
   "source": [
    "os.getcwd()"
   ]
  },
  {
   "cell_type": "code",
   "execution_count": 9,
   "metadata": {
    "collapsed": true
   },
   "outputs": [],
   "source": [
    "import pandas as pd"
   ]
  },
  {
   "cell_type": "code",
   "execution_count": 10,
   "metadata": {
    "collapsed": false
   },
   "outputs": [
    {
     "data": {
      "text/plain": [
       "'0.18.1'"
      ]
     },
     "execution_count": 10,
     "metadata": {},
     "output_type": "execute_result"
    }
   ],
   "source": [
    "pd.__version__"
   ]
  },
  {
   "cell_type": "code",
   "execution_count": 11,
   "metadata": {
    "collapsed": true
   },
   "outputs": [],
   "source": [
    "data = pd.read_csv(\"/Users/meganduffy/Documents/git-repos/2017-etnp/data/uwpr-apr2017/UWPR-Apr2017-noenz/etnp-ja02-231-20170410-NOENZ-PEAKS69/231-peaks69-noenz-dno.csv\")"
   ]
  },
  {
   "cell_type": "code",
   "execution_count": 12,
   "metadata": {
    "collapsed": false
   },
   "outputs": [
    {
     "data": {
      "text/html": [
       "<div>\n",
       "<table border=\"1\" class=\"dataframe\">\n",
       "  <thead>\n",
       "    <tr style=\"text-align: right;\">\n",
       "      <th></th>\n",
       "      <th>Fraction</th>\n",
       "      <th>Scan</th>\n",
       "      <th>Source File</th>\n",
       "      <th>Peptide</th>\n",
       "      <th>Tag Length</th>\n",
       "      <th>ALC (%)</th>\n",
       "      <th>length</th>\n",
       "      <th>m/z</th>\n",
       "      <th>z</th>\n",
       "      <th>RT</th>\n",
       "      <th>Area</th>\n",
       "      <th>Mass</th>\n",
       "      <th>ppm</th>\n",
       "      <th>Accession</th>\n",
       "      <th>PTM</th>\n",
       "      <th>local confidence (%)</th>\n",
       "      <th>tag (&gt;=0%)</th>\n",
       "      <th>mode</th>\n",
       "    </tr>\n",
       "  </thead>\n",
       "  <tbody>\n",
       "    <tr>\n",
       "      <th>0</th>\n",
       "      <td>2</td>\n",
       "      <td>11873</td>\n",
       "      <td>20170410_JA2_01.raw</td>\n",
       "      <td>EDDLLAK</td>\n",
       "      <td>7</td>\n",
       "      <td>97</td>\n",
       "      <td>7</td>\n",
       "      <td>402.2114</td>\n",
       "      <td>2</td>\n",
       "      <td>41.36</td>\n",
       "      <td>7910000.0</td>\n",
       "      <td>802.4072</td>\n",
       "      <td>1.2</td>\n",
       "      <td>NaN</td>\n",
       "      <td>NaN</td>\n",
       "      <td>99 98 93 95 99 99 99</td>\n",
       "      <td>EDDLLAK</td>\n",
       "      <td>CID</td>\n",
       "    </tr>\n",
       "    <tr>\n",
       "      <th>1</th>\n",
       "      <td>2</td>\n",
       "      <td>17276</td>\n",
       "      <td>20170410_JA2_01.raw</td>\n",
       "      <td>TSELLLR</td>\n",
       "      <td>7</td>\n",
       "      <td>96</td>\n",
       "      <td>7</td>\n",
       "      <td>416.2513</td>\n",
       "      <td>2</td>\n",
       "      <td>57.33</td>\n",
       "      <td>2950000.0</td>\n",
       "      <td>830.4861</td>\n",
       "      <td>2.2</td>\n",
       "      <td>ETNP_90:ETNP_120:ETNP_160</td>\n",
       "      <td>NaN</td>\n",
       "      <td>95 95 100 100 98 98 92</td>\n",
       "      <td>TSELLLR</td>\n",
       "      <td>CID</td>\n",
       "    </tr>\n",
       "    <tr>\n",
       "      <th>2</th>\n",
       "      <td>2</td>\n",
       "      <td>21671</td>\n",
       "      <td>20170410_JA2_01.raw</td>\n",
       "      <td>LAFVLAK</td>\n",
       "      <td>7</td>\n",
       "      <td>96</td>\n",
       "      <td>7</td>\n",
       "      <td>381.2503</td>\n",
       "      <td>2</td>\n",
       "      <td>68.49</td>\n",
       "      <td>134000.0</td>\n",
       "      <td>760.4847</td>\n",
       "      <td>1.8</td>\n",
       "      <td>NaN</td>\n",
       "      <td>NaN</td>\n",
       "      <td>96 98 98 97 97 96 93</td>\n",
       "      <td>LAFVLAK</td>\n",
       "      <td>CID</td>\n",
       "    </tr>\n",
       "    <tr>\n",
       "      <th>3</th>\n",
       "      <td>2</td>\n",
       "      <td>15721</td>\n",
       "      <td>20170410_JA2_01.raw</td>\n",
       "      <td>ADFTLAAK</td>\n",
       "      <td>8</td>\n",
       "      <td>96</td>\n",
       "      <td>8</td>\n",
       "      <td>418.7300</td>\n",
       "      <td>2</td>\n",
       "      <td>52.89</td>\n",
       "      <td>3400000.0</td>\n",
       "      <td>835.4439</td>\n",
       "      <td>1.8</td>\n",
       "      <td>NaN</td>\n",
       "      <td>NaN</td>\n",
       "      <td>91 99 98 97 97 96 98 93</td>\n",
       "      <td>ADFTLAAK</td>\n",
       "      <td>CID</td>\n",
       "    </tr>\n",
       "    <tr>\n",
       "      <th>4</th>\n",
       "      <td>2</td>\n",
       "      <td>14993</td>\n",
       "      <td>20170410_JA2_01.raw</td>\n",
       "      <td>AAQLLLK</td>\n",
       "      <td>7</td>\n",
       "      <td>96</td>\n",
       "      <td>7</td>\n",
       "      <td>378.7532</td>\n",
       "      <td>2</td>\n",
       "      <td>50.79</td>\n",
       "      <td>179000.0</td>\n",
       "      <td>755.4905</td>\n",
       "      <td>1.9</td>\n",
       "      <td>NaN</td>\n",
       "      <td>NaN</td>\n",
       "      <td>98 99 96 95 97 97 91</td>\n",
       "      <td>AAQLLLK</td>\n",
       "      <td>CID</td>\n",
       "    </tr>\n",
       "  </tbody>\n",
       "</table>\n",
       "</div>"
      ],
      "text/plain": [
       "   Fraction   Scan          Source File   Peptide  Tag Length  ALC (%)  \\\n",
       "0         2  11873  20170410_JA2_01.raw   EDDLLAK           7       97   \n",
       "1         2  17276  20170410_JA2_01.raw   TSELLLR           7       96   \n",
       "2         2  21671  20170410_JA2_01.raw   LAFVLAK           7       96   \n",
       "3         2  15721  20170410_JA2_01.raw  ADFTLAAK           8       96   \n",
       "4         2  14993  20170410_JA2_01.raw   AAQLLLK           7       96   \n",
       "\n",
       "   length       m/z  z     RT       Area      Mass  ppm  \\\n",
       "0       7  402.2114  2  41.36  7910000.0  802.4072  1.2   \n",
       "1       7  416.2513  2  57.33  2950000.0  830.4861  2.2   \n",
       "2       7  381.2503  2  68.49   134000.0  760.4847  1.8   \n",
       "3       8  418.7300  2  52.89  3400000.0  835.4439  1.8   \n",
       "4       7  378.7532  2  50.79   179000.0  755.4905  1.9   \n",
       "\n",
       "                   Accession  PTM     local confidence (%) tag (>=0%) mode  \n",
       "0                        NaN  NaN     99 98 93 95 99 99 99    EDDLLAK  CID  \n",
       "1  ETNP_90:ETNP_120:ETNP_160  NaN   95 95 100 100 98 98 92    TSELLLR  CID  \n",
       "2                        NaN  NaN     96 98 98 97 97 96 93    LAFVLAK  CID  \n",
       "3                        NaN  NaN  91 99 98 97 97 96 98 93   ADFTLAAK  CID  \n",
       "4                        NaN  NaN     98 99 96 95 97 97 91    AAQLLLK  CID  "
      ]
     },
     "execution_count": 12,
     "metadata": {},
     "output_type": "execute_result"
    }
   ],
   "source": [
    "data.head()"
   ]
  },
  {
   "cell_type": "code",
   "execution_count": 13,
   "metadata": {
    "collapsed": true
   },
   "outputs": [],
   "source": [
    "# Keep only peptide column\n",
    "pep = data[[\"Peptide\"]]"
   ]
  },
  {
   "cell_type": "code",
   "execution_count": 14,
   "metadata": {
    "collapsed": false
   },
   "outputs": [
    {
     "data": {
      "text/html": [
       "<div>\n",
       "<table border=\"1\" class=\"dataframe\">\n",
       "  <thead>\n",
       "    <tr style=\"text-align: right;\">\n",
       "      <th></th>\n",
       "      <th>Peptide</th>\n",
       "    </tr>\n",
       "  </thead>\n",
       "  <tbody>\n",
       "    <tr>\n",
       "      <th>0</th>\n",
       "      <td>EDDLLAK</td>\n",
       "    </tr>\n",
       "    <tr>\n",
       "      <th>1</th>\n",
       "      <td>TSELLLR</td>\n",
       "    </tr>\n",
       "    <tr>\n",
       "      <th>2</th>\n",
       "      <td>LAFVLAK</td>\n",
       "    </tr>\n",
       "    <tr>\n",
       "      <th>3</th>\n",
       "      <td>ADFTLAAK</td>\n",
       "    </tr>\n",
       "    <tr>\n",
       "      <th>4</th>\n",
       "      <td>AAQLLLK</td>\n",
       "    </tr>\n",
       "  </tbody>\n",
       "</table>\n",
       "</div>"
      ],
      "text/plain": [
       "    Peptide\n",
       "0   EDDLLAK\n",
       "1   TSELLLR\n",
       "2   LAFVLAK\n",
       "3  ADFTLAAK\n",
       "4   AAQLLLK"
      ]
     },
     "execution_count": 14,
     "metadata": {},
     "output_type": "execute_result"
    }
   ],
   "source": [
    "pep.head()"
   ]
  },
  {
   "cell_type": "code",
   "execution_count": 15,
   "metadata": {
    "collapsed": true
   },
   "outputs": [],
   "source": [
    "# Write altered dataframe to new csv file\n",
    "# Used header and index parameters to get rid of 'Peptide' header and the indexing\n",
    "\n",
    "pep.to_csv(\"/Users/meganduffy/Documents/git-repos/2017-etnp/data/uwpr-apr2017/UWPR-Apr2017-noenz/etnp-ja02-231-20170410-NOENZ-PEAKS69/231-peaks69-noenz-dnopeps.csv\", header=False, index=False)"
   ]
  },
  {
   "cell_type": "code",
   "execution_count": 16,
   "metadata": {
    "collapsed": true
   },
   "outputs": [],
   "source": [
    "# Write altered dataframe to new txt file\n",
    "# Used header and index parameters to get rid of 'Peptide' header and the indexing\n",
    "\n",
    "pep.to_csv(\"/Users/meganduffy/Documents/git-repos/2017-etnp/data/uwpr-apr2017/UWPR-Apr2017-noenz/etnp-ja02-231-20170410-NOENZ-PEAKS69/231-peaks69-noenz-dnopeps.txt\", header=False, index=False)"
   ]
  },
  {
   "cell_type": "code",
   "execution_count": 17,
   "metadata": {
    "collapsed": false
   },
   "outputs": [
    {
     "name": "stdout",
     "output_type": "stream",
     "text": [
      "EDDLLAK\r\n",
      "TSELLLR\r\n",
      "LAFVLAK\r\n",
      "ADFTLAAK\r\n",
      "AAQLLLK\r\n",
      "EDLGFLRT\r\n",
      "KLLEC(+57.02)K\r\n",
      "ASDVSAFFRT\r\n",
      "PALDRYDVK\r\n",
      "LDVVYAKL\r\n"
     ]
    }
   ],
   "source": [
    "!head /Users/meganduffy/Documents/git-repos/2017-etnp/data/uwpr-apr2017/UWPR-Apr2017-noenz/etnp-ja02-231-20170410-NOENZ-PEAKS69/231-peaks69-noenz-dnopeps.txt"
   ]
  },
  {
   "cell_type": "code",
   "execution_count": 18,
   "metadata": {
    "collapsed": true
   },
   "outputs": [],
   "source": [
    "# Removes all characters in parentheses and saves as new file\n",
    "\n",
    "!awk -F \"[()]\" '{ for (i=2; i<NF; i+=2) print $i }' /Users/meganduffy/Documents/git-repos/2017-etnp/data/uwpr-apr2017/UWPR-Apr2017-noenz/etnp-ja02-231-20170410-NOENZ-PEAKS69/231-peaks69-noenz-dnopeps.txt > /Users/meganduffy/Documents/git-repos/2017-etnp/data/uwpr-apr2017/UWPR-Apr2017-noenz/etnp-ja02-231-20170410-NOENZ-PEAKS69/231-peaks69-noenz-dno-mods.txt"
   ]
  },
  {
   "cell_type": "code",
   "execution_count": 20,
   "metadata": {
    "collapsed": false
   },
   "outputs": [
    {
     "name": "stdout",
     "output_type": "stream",
     "text": [
      "+57.02\r\n",
      "+15.99\r\n",
      "+15.99\r\n",
      "+57.02\r\n",
      "+15.99\r\n",
      "+15.99\r\n",
      "+15.99\r\n",
      "+15.99\r\n",
      "+15.99\r\n",
      "+57.02\r\n"
     ]
    }
   ],
   "source": [
    "# How does the modifications text file look?\n",
    "\n",
    "!head /Users/meganduffy/Documents/git-repos/2017-etnp/data/uwpr-apr2017/UWPR-Apr2017-noenz/etnp-ja02-231-20170410-NOENZ-PEAKS69/231-peaks69-noenz-dno-mods.txt"
   ]
  },
  {
   "cell_type": "code",
   "execution_count": 21,
   "metadata": {
    "collapsed": false
   },
   "outputs": [
    {
     "name": "stdout",
     "output_type": "stream",
     "text": [
      "     705 /Users/meganduffy/Documents/git-repos/2017-etnp/data/uwpr-apr2017/UWPR-Apr2017-noenz/etnp-ja02-231-20170410-NOENZ-PEAKS69/231-peaks69-noenz-dno-mods.txt\r\n"
     ]
    }
   ],
   "source": [
    "# How many modifications for this sample?\n",
    "\n",
    "!wc -l /Users/meganduffy/Documents/git-repos/2017-etnp/data/uwpr-apr2017/UWPR-Apr2017-noenz/etnp-ja02-231-20170410-NOENZ-PEAKS69/231-peaks69-noenz-dno-mods.txt"
   ]
  },
  {
   "cell_type": "code",
   "execution_count": 22,
   "metadata": {
    "collapsed": false
   },
   "outputs": [
    {
     "name": "stdout",
     "output_type": "stream",
     "text": [
      "    3782 /Users/meganduffy/Documents/git-repos/2017-etnp/data/uwpr-apr2017/UWPR-Apr2017-noenz/etnp-ja02-231-20170410-NOENZ-PEAKS69/231-peaks69-noenz-dnopeps.txt\r\n"
     ]
    }
   ],
   "source": [
    "# Compared with how many total peptides?\n",
    "\n",
    "!wc -l /Users/meganduffy/Documents/git-repos/2017-etnp/data/uwpr-apr2017/UWPR-Apr2017-noenz/etnp-ja02-231-20170410-NOENZ-PEAKS69/231-peaks69-noenz-dnopeps.txt"
   ]
  },
  {
   "cell_type": "code",
   "execution_count": 23,
   "metadata": {
    "collapsed": false
   },
   "outputs": [
    {
     "data": {
      "text/plain": [
       "0.186409307244844"
      ]
     },
     "execution_count": 23,
     "metadata": {},
     "output_type": "execute_result"
    }
   ],
   "source": [
    "# What's the percentage of modified peptides for this sample?\n",
    "\n",
    "705/3782"
   ]
  },
  {
   "cell_type": "code",
   "execution_count": 24,
   "metadata": {
    "collapsed": true
   },
   "outputs": [],
   "source": [
    "# Get rid of modifications from all peptides and save as a new file\n",
    "# Remove '(+15.99)' and '(+57.02)', (+.98) from sequences\n",
    "\n",
    "!sed 's/(+15.99)//g' /Users/meganduffy/Documents/git-repos/2017-etnp/data/uwpr-apr2017/UWPR-Apr2017-noenz/etnp-ja02-231-20170410-NOENZ-PEAKS69/231-peaks69-noenz-dnopeps.txt \\\n",
    "| sed 's/(+57.02)//g'\\\n",
    "| sed 's/(+.98)//g'\\\n",
    "> /Users/meganduffy/Documents/git-repos/2017-etnp/data/uwpr-apr2017/UWPR-Apr2017-noenz/etnp-ja02-231-20170410-NOENZ-PEAKS69/231-peaks69-noenz-dno-nomods.txt"
   ]
  },
  {
   "cell_type": "code",
   "execution_count": 25,
   "metadata": {
    "collapsed": false
   },
   "outputs": [
    {
     "name": "stdout",
     "output_type": "stream",
     "text": [
      "EDDLLAK\r\n",
      "TSELLLR\r\n",
      "LAFVLAK\r\n",
      "ADFTLAAK\r\n",
      "AAQLLLK\r\n",
      "EDLGFLRT\r\n",
      "KLLECK\r\n",
      "ASDVSAFFRT\r\n",
      "PALDRYDVK\r\n",
      "LDVVYAKL\r\n"
     ]
    }
   ],
   "source": [
    "!head /Users/meganduffy/Documents/git-repos/2017-etnp/data/uwpr-apr2017/UWPR-Apr2017-noenz/etnp-ja02-231-20170410-NOENZ-PEAKS69/231-peaks69-noenz-dno-nomods.txt"
   ]
  },
  {
   "cell_type": "code",
   "execution_count": 26,
   "metadata": {
    "collapsed": false
   },
   "outputs": [
    {
     "name": "stdout",
     "output_type": "stream",
     "text": [
      "231-peaks69-noenz-DB-search-psm.csv    231-peaks69-noenz-dnopeps.txt\r\n",
      "231-peaks69-noenz-dno-mods.txt         231-peaks69-noenz-peptide.csv\r\n",
      "231-peaks69-noenz-dno-nomods.txt       231-peaks69-noenz-protein-peptides.csv\r\n",
      "231-peaks69-noenz-dno.csv              231-peaks69-noenz-proteins.csv\r\n",
      "231-peaks69-noenz-dnopeps.csv          231-peaks69-proteins.fasta\r\n"
     ]
    }
   ],
   "source": [
    "!ls /Users/meganduffy/Documents/git-repos/2017-etnp/data/uwpr-apr2017/UWPR-Apr2017-noenz/etnp-ja02-231-20170410-NOENZ-PEAKS69/"
   ]
  },
  {
   "cell_type": "markdown",
   "metadata": {},
   "source": [
    "### Sample 233: ETNP 2017 McLane (GF-75) 265m P2 (JA2 - UWPR April 2017, PEAKS 77)"
   ]
  },
  {
   "cell_type": "code",
   "execution_count": 28,
   "metadata": {
    "collapsed": false
   },
   "outputs": [
    {
     "name": "stdout",
     "output_type": "stream",
     "text": [
      "233-peaks77-noenz-DB-search-psm.csv 233-peaks77-noenz-proteins.csv\r\n",
      "233-peaks77-noenz-dno.csv           233-peaks77-noenz-proteins.fasta\r\n",
      "233-peaks77-noenz-peptide.csv       233-peaks77-protein-peptides.csv\r\n"
     ]
    }
   ],
   "source": [
    "!ls /Users/meganduffy/Documents/git-repos/2017-etnp/data/uwpr-apr2017/UWPR-Apr2017-noenz/etnp-ja04-233-20170410-NOENZ-PEAKS77/"
   ]
  },
  {
   "cell_type": "code",
   "execution_count": 29,
   "metadata": {
    "collapsed": true
   },
   "outputs": [],
   "source": [
    "data = pd.read_csv(\"/Users/meganduffy/Documents/git-repos/2017-etnp/data/uwpr-apr2017/UWPR-Apr2017-noenz/etnp-ja04-233-20170410-NOENZ-PEAKS77/233-peaks77-noenz-dno.csv\")"
   ]
  },
  {
   "cell_type": "code",
   "execution_count": 30,
   "metadata": {
    "collapsed": false
   },
   "outputs": [
    {
     "data": {
      "text/html": [
       "<div>\n",
       "<table border=\"1\" class=\"dataframe\">\n",
       "  <thead>\n",
       "    <tr style=\"text-align: right;\">\n",
       "      <th></th>\n",
       "      <th>Fraction</th>\n",
       "      <th>Scan</th>\n",
       "      <th>Source File</th>\n",
       "      <th>Peptide</th>\n",
       "      <th>Tag Length</th>\n",
       "      <th>ALC (%)</th>\n",
       "      <th>length</th>\n",
       "      <th>m/z</th>\n",
       "      <th>z</th>\n",
       "      <th>RT</th>\n",
       "      <th>Area</th>\n",
       "      <th>Mass</th>\n",
       "      <th>ppm</th>\n",
       "      <th>Accession</th>\n",
       "      <th>PTM</th>\n",
       "      <th>local confidence (%)</th>\n",
       "      <th>tag (&gt;=0%)</th>\n",
       "      <th>mode</th>\n",
       "    </tr>\n",
       "  </thead>\n",
       "  <tbody>\n",
       "    <tr>\n",
       "      <th>0</th>\n",
       "      <td>4</td>\n",
       "      <td>5783</td>\n",
       "      <td>20170410_JA4_01.raw</td>\n",
       "      <td>ADLHAVK</td>\n",
       "      <td>7</td>\n",
       "      <td>98</td>\n",
       "      <td>7</td>\n",
       "      <td>377.2169</td>\n",
       "      <td>2</td>\n",
       "      <td>22.00</td>\n",
       "      <td>1980000.0</td>\n",
       "      <td>752.4180</td>\n",
       "      <td>1.7</td>\n",
       "      <td>NaN</td>\n",
       "      <td>NaN</td>\n",
       "      <td>92 99 99 98 99 99 99</td>\n",
       "      <td>ADLHAVK</td>\n",
       "      <td>CID</td>\n",
       "    </tr>\n",
       "    <tr>\n",
       "      <th>1</th>\n",
       "      <td>4</td>\n",
       "      <td>11742</td>\n",
       "      <td>20170410_JA4_01.raw</td>\n",
       "      <td>NDELLR</td>\n",
       "      <td>6</td>\n",
       "      <td>97</td>\n",
       "      <td>6</td>\n",
       "      <td>380.2043</td>\n",
       "      <td>2</td>\n",
       "      <td>40.70</td>\n",
       "      <td>4760000.0</td>\n",
       "      <td>758.3923</td>\n",
       "      <td>2.4</td>\n",
       "      <td>NaN</td>\n",
       "      <td>NaN</td>\n",
       "      <td>91 99 100 99 99 96</td>\n",
       "      <td>NDELLR</td>\n",
       "      <td>CID</td>\n",
       "    </tr>\n",
       "    <tr>\n",
       "      <th>2</th>\n",
       "      <td>4</td>\n",
       "      <td>17270</td>\n",
       "      <td>20170410_JA4_01.raw</td>\n",
       "      <td>PALDRYDVK</td>\n",
       "      <td>9</td>\n",
       "      <td>96</td>\n",
       "      <td>9</td>\n",
       "      <td>538.7867</td>\n",
       "      <td>2</td>\n",
       "      <td>58.54</td>\n",
       "      <td>1180000.0</td>\n",
       "      <td>1075.5662</td>\n",
       "      <td>-6.7</td>\n",
       "      <td>NaN</td>\n",
       "      <td>NaN</td>\n",
       "      <td>95 99 99 98 96 95 95 98 92</td>\n",
       "      <td>PALDRYDVK</td>\n",
       "      <td>CID</td>\n",
       "    </tr>\n",
       "    <tr>\n",
       "      <th>3</th>\n",
       "      <td>4</td>\n",
       "      <td>6495</td>\n",
       "      <td>20170410_JA4_01.raw</td>\n",
       "      <td>SKVVLTK</td>\n",
       "      <td>7</td>\n",
       "      <td>96</td>\n",
       "      <td>7</td>\n",
       "      <td>387.7584</td>\n",
       "      <td>2</td>\n",
       "      <td>24.01</td>\n",
       "      <td>405000.0</td>\n",
       "      <td>773.5010</td>\n",
       "      <td>1.5</td>\n",
       "      <td>ETNP_110:ETNP14_120</td>\n",
       "      <td>NaN</td>\n",
       "      <td>95 96 99 99 96 94 93</td>\n",
       "      <td>SKVVLTK</td>\n",
       "      <td>CID</td>\n",
       "    </tr>\n",
       "    <tr>\n",
       "      <th>4</th>\n",
       "      <td>4</td>\n",
       "      <td>12641</td>\n",
       "      <td>20170410_JA4_01.raw</td>\n",
       "      <td>TKLALEVFVP</td>\n",
       "      <td>10</td>\n",
       "      <td>95</td>\n",
       "      <td>10</td>\n",
       "      <td>558.8416</td>\n",
       "      <td>2</td>\n",
       "      <td>43.70</td>\n",
       "      <td>275000.0</td>\n",
       "      <td>1115.6589</td>\n",
       "      <td>8.7</td>\n",
       "      <td>NaN</td>\n",
       "      <td>NaN</td>\n",
       "      <td>92 95 99 98 98 97 95 98 97 88</td>\n",
       "      <td>TKLALEVFVP</td>\n",
       "      <td>CID</td>\n",
       "    </tr>\n",
       "  </tbody>\n",
       "</table>\n",
       "</div>"
      ],
      "text/plain": [
       "   Fraction   Scan          Source File     Peptide  Tag Length  ALC (%)  \\\n",
       "0         4   5783  20170410_JA4_01.raw     ADLHAVK           7       98   \n",
       "1         4  11742  20170410_JA4_01.raw      NDELLR           6       97   \n",
       "2         4  17270  20170410_JA4_01.raw   PALDRYDVK           9       96   \n",
       "3         4   6495  20170410_JA4_01.raw     SKVVLTK           7       96   \n",
       "4         4  12641  20170410_JA4_01.raw  TKLALEVFVP          10       95   \n",
       "\n",
       "   length       m/z  z     RT       Area       Mass  ppm            Accession  \\\n",
       "0       7  377.2169  2  22.00  1980000.0   752.4180  1.7                  NaN   \n",
       "1       6  380.2043  2  40.70  4760000.0   758.3923  2.4                  NaN   \n",
       "2       9  538.7867  2  58.54  1180000.0  1075.5662 -6.7                  NaN   \n",
       "3       7  387.7584  2  24.01   405000.0   773.5010  1.5  ETNP_110:ETNP14_120   \n",
       "4      10  558.8416  2  43.70   275000.0  1115.6589  8.7                  NaN   \n",
       "\n",
       "   PTM           local confidence (%)  tag (>=0%) mode  \n",
       "0  NaN           92 99 99 98 99 99 99     ADLHAVK  CID  \n",
       "1  NaN             91 99 100 99 99 96      NDELLR  CID  \n",
       "2  NaN     95 99 99 98 96 95 95 98 92   PALDRYDVK  CID  \n",
       "3  NaN           95 96 99 99 96 94 93     SKVVLTK  CID  \n",
       "4  NaN  92 95 99 98 98 97 95 98 97 88  TKLALEVFVP  CID  "
      ]
     },
     "execution_count": 30,
     "metadata": {},
     "output_type": "execute_result"
    }
   ],
   "source": [
    "data.head()"
   ]
  },
  {
   "cell_type": "code",
   "execution_count": 31,
   "metadata": {
    "collapsed": true
   },
   "outputs": [],
   "source": [
    "# Keep only peptide column\n",
    "pep = data[[\"Peptide\"]]"
   ]
  },
  {
   "cell_type": "code",
   "execution_count": 32,
   "metadata": {
    "collapsed": false
   },
   "outputs": [
    {
     "data": {
      "text/html": [
       "<div>\n",
       "<table border=\"1\" class=\"dataframe\">\n",
       "  <thead>\n",
       "    <tr style=\"text-align: right;\">\n",
       "      <th></th>\n",
       "      <th>Peptide</th>\n",
       "    </tr>\n",
       "  </thead>\n",
       "  <tbody>\n",
       "    <tr>\n",
       "      <th>0</th>\n",
       "      <td>ADLHAVK</td>\n",
       "    </tr>\n",
       "    <tr>\n",
       "      <th>1</th>\n",
       "      <td>NDELLR</td>\n",
       "    </tr>\n",
       "    <tr>\n",
       "      <th>2</th>\n",
       "      <td>PALDRYDVK</td>\n",
       "    </tr>\n",
       "    <tr>\n",
       "      <th>3</th>\n",
       "      <td>SKVVLTK</td>\n",
       "    </tr>\n",
       "    <tr>\n",
       "      <th>4</th>\n",
       "      <td>TKLALEVFVP</td>\n",
       "    </tr>\n",
       "  </tbody>\n",
       "</table>\n",
       "</div>"
      ],
      "text/plain": [
       "      Peptide\n",
       "0     ADLHAVK\n",
       "1      NDELLR\n",
       "2   PALDRYDVK\n",
       "3     SKVVLTK\n",
       "4  TKLALEVFVP"
      ]
     },
     "execution_count": 32,
     "metadata": {},
     "output_type": "execute_result"
    }
   ],
   "source": [
    "pep.head()"
   ]
  },
  {
   "cell_type": "code",
   "execution_count": 33,
   "metadata": {
    "collapsed": true
   },
   "outputs": [],
   "source": [
    "# Write altered dataframe to new csv file\n",
    "# Used header and index parameters to get rid of 'Peptide' header and the indexing\n",
    "\n",
    "pep.to_csv(\"/Users/meganduffy/Documents/git-repos/2017-etnp/data/uwpr-apr2017/UWPR-Apr2017-noenz/etnp-ja04-233-20170410-NOENZ-PEAKS77/233-peaks77-noenz-dnopeps.csv\", header=False, index=False)"
   ]
  },
  {
   "cell_type": "code",
   "execution_count": 34,
   "metadata": {
    "collapsed": true
   },
   "outputs": [],
   "source": [
    "# Write altered dataframe to new txt file\n",
    "# Used header and index parameters to get rid of 'Peptide' header and the indexing\n",
    "\n",
    "pep.to_csv(\"/Users/meganduffy/Documents/git-repos/2017-etnp/data/uwpr-apr2017/UWPR-Apr2017-noenz/etnp-ja04-233-20170410-NOENZ-PEAKS77/233-peaks77-noenz-dnopeps.txt\", header=False, index=False)"
   ]
  },
  {
   "cell_type": "code",
   "execution_count": 35,
   "metadata": {
    "collapsed": false
   },
   "outputs": [
    {
     "name": "stdout",
     "output_type": "stream",
     "text": [
      "ADLHAVK\r\n",
      "NDELLR\r\n",
      "PALDRYDVK\r\n",
      "SKVVLTK\r\n",
      "TKLALEVFVP\r\n",
      "DPLEAVSK\r\n",
      "VVTVSLPR\r\n",
      "WSNNVAELLR\r\n",
      "LNKLTRSK\r\n",
      "LDNVYKMT\r\n"
     ]
    }
   ],
   "source": [
    "!head /Users/meganduffy/Documents/git-repos/2017-etnp/data/uwpr-apr2017/UWPR-Apr2017-noenz/etnp-ja04-233-20170410-NOENZ-PEAKS77/233-peaks77-noenz-dnopeps.txt"
   ]
  },
  {
   "cell_type": "code",
   "execution_count": 36,
   "metadata": {
    "collapsed": true
   },
   "outputs": [],
   "source": [
    "# Removes all characters in parentheses and saves as new file\n",
    "\n",
    "!awk -F \"[()]\" '{ for (i=2; i<NF; i+=2) print $i }' /Users/meganduffy/Documents/git-repos/2017-etnp/data/uwpr-apr2017/UWPR-Apr2017-noenz/etnp-ja04-233-20170410-NOENZ-PEAKS77/233-peaks77-noenz-dnopeps.txt > /Users/meganduffy/Documents/git-repos/2017-etnp/data/uwpr-apr2017/UWPR-Apr2017-noenz/etnp-ja04-233-20170410-NOENZ-PEAKS77/233-peaks77-noenz-dno-mods.txt"
   ]
  },
  {
   "cell_type": "code",
   "execution_count": 37,
   "metadata": {
    "collapsed": false
   },
   "outputs": [
    {
     "name": "stdout",
     "output_type": "stream",
     "text": [
      "+15.99\r\n",
      "+15.99\r\n",
      "+57.02\r\n",
      "+57.02\r\n",
      "+57.02\r\n",
      "+15.99\r\n",
      "+15.99\r\n",
      "+15.99\r\n",
      "+57.02\r\n",
      "+57.02\r\n"
     ]
    }
   ],
   "source": [
    "# How does the modifications text file look?\n",
    "\n",
    "!head /Users/meganduffy/Documents/git-repos/2017-etnp/data/uwpr-apr2017/UWPR-Apr2017-noenz/etnp-ja04-233-20170410-NOENZ-PEAKS77/233-peaks77-noenz-dno-mods.txt"
   ]
  },
  {
   "cell_type": "code",
   "execution_count": 38,
   "metadata": {
    "collapsed": false
   },
   "outputs": [
    {
     "name": "stdout",
     "output_type": "stream",
     "text": [
      "     601 /Users/meganduffy/Documents/git-repos/2017-etnp/data/uwpr-apr2017/UWPR-Apr2017-noenz/etnp-ja04-233-20170410-NOENZ-PEAKS77/233-peaks77-noenz-dno-mods.txt\r\n"
     ]
    }
   ],
   "source": [
    "# How many modifications for this sample?\n",
    "\n",
    "!wc -l /Users/meganduffy/Documents/git-repos/2017-etnp/data/uwpr-apr2017/UWPR-Apr2017-noenz/etnp-ja04-233-20170410-NOENZ-PEAKS77/233-peaks77-noenz-dno-mods.txt"
   ]
  },
  {
   "cell_type": "code",
   "execution_count": 39,
   "metadata": {
    "collapsed": false
   },
   "outputs": [
    {
     "name": "stdout",
     "output_type": "stream",
     "text": [
      "    3229 /Users/meganduffy/Documents/git-repos/2017-etnp/data/uwpr-apr2017/UWPR-Apr2017-noenz/etnp-ja04-233-20170410-NOENZ-PEAKS77/233-peaks77-noenz-dnopeps.txt\r\n"
     ]
    }
   ],
   "source": [
    "# Compared with how many total peptides?\n",
    "\n",
    "!wc -l /Users/meganduffy/Documents/git-repos/2017-etnp/data/uwpr-apr2017/UWPR-Apr2017-noenz/etnp-ja04-233-20170410-NOENZ-PEAKS77/233-peaks77-noenz-dnopeps.txt"
   ]
  },
  {
   "cell_type": "code",
   "execution_count": 40,
   "metadata": {
    "collapsed": false
   },
   "outputs": [
    {
     "data": {
      "text/plain": [
       "0.1861257355218334"
      ]
     },
     "execution_count": 40,
     "metadata": {},
     "output_type": "execute_result"
    }
   ],
   "source": [
    "# What's the percentage of modified peptides for this sample?\n",
    "\n",
    "601/3229"
   ]
  },
  {
   "cell_type": "code",
   "execution_count": 41,
   "metadata": {
    "collapsed": true
   },
   "outputs": [],
   "source": [
    "# Get rid of modifications from all peptides and save as a new file\n",
    "# Remove '(+15.99)' and '(+57.02)', (+.98) from sequences\n",
    "\n",
    "!sed 's/(+15.99)//g' /Users/meganduffy/Documents/git-repos/2017-etnp/data/uwpr-apr2017/UWPR-Apr2017-noenz/etnp-ja04-233-20170410-NOENZ-PEAKS77/233-peaks77-noenz-dnopeps.txt \\\n",
    "| sed 's/(+57.02)//g'\\\n",
    "| sed 's/(+.98)//g'\\\n",
    "> /Users/meganduffy/Documents/git-repos/2017-etnp/data/uwpr-apr2017/UWPR-Apr2017-noenz/etnp-ja04-233-20170410-NOENZ-PEAKS77/233-peaks77-noenz-dno-nomods.txt"
   ]
  },
  {
   "cell_type": "code",
   "execution_count": 42,
   "metadata": {
    "collapsed": false
   },
   "outputs": [
    {
     "name": "stdout",
     "output_type": "stream",
     "text": [
      "ADLHAVK\r\n",
      "NDELLR\r\n",
      "PALDRYDVK\r\n",
      "SKVVLTK\r\n",
      "TKLALEVFVP\r\n",
      "DPLEAVSK\r\n",
      "VVTVSLPR\r\n",
      "WSNNVAELLR\r\n",
      "LNKLTRSK\r\n",
      "LDNVYKMT\r\n"
     ]
    }
   ],
   "source": [
    "!head /Users/meganduffy/Documents/git-repos/2017-etnp/data/uwpr-apr2017/UWPR-Apr2017-noenz/etnp-ja04-233-20170410-NOENZ-PEAKS77/233-peaks77-noenz-dno-nomods.txt"
   ]
  },
  {
   "cell_type": "code",
   "execution_count": 43,
   "metadata": {
    "collapsed": false
   },
   "outputs": [
    {
     "name": "stdout",
     "output_type": "stream",
     "text": [
      "233-peaks77-noenz-DB-search-psm.csv 233-peaks77-noenz-dnopeps.txt\r\n",
      "233-peaks77-noenz-dno-mods.txt      233-peaks77-noenz-peptide.csv\r\n",
      "233-peaks77-noenz-dno-nomods.txt    233-peaks77-noenz-proteins.csv\r\n",
      "233-peaks77-noenz-dno.csv           233-peaks77-noenz-proteins.fasta\r\n",
      "233-peaks77-noenz-dnopeps.csv       233-peaks77-protein-peptides.csv\r\n"
     ]
    }
   ],
   "source": [
    "!ls /Users/meganduffy/Documents/git-repos/2017-etnp/data/uwpr-apr2017/UWPR-Apr2017-noenz/etnp-ja04-233-20170410-NOENZ-PEAKS77/"
   ]
  },
  {
   "cell_type": "markdown",
   "metadata": {},
   "source": [
    "### All done with this UWPR Apr 2017 for now! (9/13/19)"
   ]
  },
  {
   "cell_type": "code",
   "execution_count": null,
   "metadata": {
    "collapsed": true
   },
   "outputs": [],
   "source": []
  }
 ],
 "metadata": {
  "anaconda-cloud": {},
  "kernelspec": {
   "display_name": "Python [default]",
   "language": "python",
   "name": "python3"
  },
  "language_info": {
   "codemirror_mode": {
    "name": "ipython",
    "version": 3
   },
   "file_extension": ".py",
   "mimetype": "text/x-python",
   "name": "python",
   "nbconvert_exporter": "python",
   "pygments_lexer": "ipython3",
   "version": "3.5.2"
  }
 },
 "nbformat": 4,
 "nbformat_minor": 1
}
