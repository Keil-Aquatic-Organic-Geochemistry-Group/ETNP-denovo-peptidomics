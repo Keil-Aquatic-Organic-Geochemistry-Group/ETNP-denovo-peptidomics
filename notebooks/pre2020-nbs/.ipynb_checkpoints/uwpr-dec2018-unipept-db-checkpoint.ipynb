{
 "cells": [
  {
   "cell_type": "code",
   "execution_count": 1,
   "metadata": {
    "collapsed": false
   },
   "outputs": [
    {
     "name": "stdout",
     "output_type": "stream",
     "text": [
      "Mon Jul  1 15:27:24 PDT 2019\r\n"
     ]
    }
   ],
   "source": [
    "!date"
   ]
  },
  {
   "cell_type": "code",
   "execution_count": 2,
   "metadata": {
    "collapsed": false
   },
   "outputs": [
    {
     "name": "stdout",
     "output_type": "stream",
     "text": [
      "Software:\r\n",
      "\r\n",
      "    System Software Overview:\r\n",
      "\r\n",
      "      System Version: macOS 10.14.5 (18F132)\r\n",
      "      Kernel Version: Darwin 18.6.0\r\n",
      "      Boot Volume: Macintosh HD\r\n",
      "      Boot Mode: Normal\r\n",
      "      Computer Name: Megan’s MacBook Pro (2)\r\n",
      "      User Name: Megan Duffy (meganduffy)\r\n",
      "      Secure Virtual Memory: Enabled\r\n",
      "      System Integrity Protection: Enabled\r\n",
      "      Time since boot: 8 days 19:33\r\n",
      "\r\n"
     ]
    }
   ],
   "source": [
    "!system_profiler SPSoftwareDataType"
   ]
  },
  {
   "cell_type": "markdown",
   "metadata": {},
   "source": [
    "### Notebook to document Unipept least common ancestor analysis of UWPR December 2018 ETNP 2017 (2-14_100m_top, plus P1 McLane samples) database ID'd peptides (db).\n",
    "### Input: results of PEAKS 8.5 searches into Git ETNP 2017 data directory. Raw data processed to give db peptides without modifications (for ease of analysis). See uwpr-dec2018-db [notebook](https://github.com/MeganEDuffy/2017-etnp/blob/master/notebooks/uwpr-dec2018-db.ipynb)"
   ]
  },
  {
   "cell_type": "code",
   "execution_count": 3,
   "metadata": {
    "collapsed": false
   },
   "outputs": [
    {
     "name": "stdout",
     "output_type": "stream",
     "text": [
      "378-peaks80-DB-search-psm.csv    378-peaks80-dno.csv\r\n",
      "378-peaks80-db-mods.txt          378-peaks80-dnopeps.csv\r\n",
      "378-peaks80-db-nomods.txt        378-peaks80-dnopeps.txt\r\n",
      "378-peaks80-dbpeps.csv           378-peaks80-peptide.csv\r\n",
      "378-peaks80-dbpeps.txt           378-peaks80-protein-peptides.csv\r\n",
      "378-peaks80-dno-mods.txt         378-peaks80-proteins.csv\r\n",
      "378-peaks80-dno-nomods.txt       378-peaks80-proteins.fasta\r\n"
     ]
    }
   ],
   "source": [
    "# Example of data file types in data directory\n",
    "\n",
    "!ls /Users/meganduffy/Documents/git-repos/2017-etnp/data/uwpr-dec2018/UWPR_Dec2018_378-trap-2-14-100m-ETNP-PEAKS_80"
   ]
  },
  {
   "cell_type": "markdown",
   "metadata": {},
   "source": [
    "### First, analysing sample from this batch that's relevant to Pro Novo paper: 378 (100 m sinking).\n",
    "### Ran 378-peaks80-db-nomods.txt through Unipept metaproteomics analysis web server. Equated L and I and filtered duplicate peptides.\n",
    "### 212/302 peptides found matching to Unipept DB\n",
    "### Uniqueness: 302/330 peptides unique (duplicates filter)\n",
    "### Peptides matched to Cyanobacteria: 1\n",
    "### Peptides matched to Nitrospina: 0\n",
    "### Exported results to .csv in git analyses directory, and saved sunburst figure as .png"
   ]
  },
  {
   "cell_type": "code",
   "execution_count": 4,
   "metadata": {
    "collapsed": false
   },
   "outputs": [
    {
     "name": "stdout",
     "output_type": "stream",
     "text": [
      "378-peaks80-db-nomods-lca.csv  378-peaks80-dno-nomods-lca.csv\r\n",
      "378-peaks80-db-nomods-lca.png  378-peaks80-dno-nomods-lca.png\r\n"
     ]
    }
   ],
   "source": [
    "!ls /Users/meganduffy/Documents/git-repos/2017-etnp/analyses/uwpr-dec2018/unipept-lca/"
   ]
  },
  {
   "cell_type": "code",
   "execution_count": null,
   "metadata": {
    "collapsed": true
   },
   "outputs": [],
   "source": []
  }
 ],
 "metadata": {
  "anaconda-cloud": {},
  "kernelspec": {
   "display_name": "Python [default]",
   "language": "python",
   "name": "python3"
  },
  "language_info": {
   "codemirror_mode": {
    "name": "ipython",
    "version": 3
   },
   "file_extension": ".py",
   "mimetype": "text/x-python",
   "name": "python",
   "nbconvert_exporter": "python",
   "pygments_lexer": "ipython3",
   "version": "3.5.2"
  }
 },
 "nbformat": 4,
 "nbformat_minor": 1
}
