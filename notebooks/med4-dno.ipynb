{
 "cells": [
  {
   "cell_type": "code",
   "execution_count": 1,
   "metadata": {
    "collapsed": false
   },
   "outputs": [
    {
     "name": "stdout",
     "output_type": "stream",
     "text": [
      "Software:\r\n",
      "\r\n",
      "    System Software Overview:\r\n",
      "\r\n",
      "      System Version: macOS 10.14.6 (18G95)\r\n",
      "      Kernel Version: Darwin 18.7.0\r\n",
      "      Boot Volume: Macintosh HD\r\n",
      "      Boot Mode: Normal\r\n",
      "      Computer Name: Megan’s MacBook Pro (2)\r\n",
      "      User Name: Megan Duffy (meganduffy)\r\n",
      "      Secure Virtual Memory: Enabled\r\n",
      "      System Integrity Protection: Enabled\r\n",
      "      Time since boot: 9 days 14:15\r\n",
      "\r\n"
     ]
    }
   ],
   "source": [
    "!system_profiler SPSoftwareDataType"
   ]
  },
  {
   "cell_type": "code",
   "execution_count": 5,
   "metadata": {
    "collapsed": false
   },
   "outputs": [
    {
     "name": "stdout",
     "output_type": "stream",
     "text": [
      "Mon Sep 16 13:21:05 PDT 2019\r\n"
     ]
    }
   ],
   "source": [
    "# last modified date\n",
    "!date"
   ]
  },
  {
   "cell_type": "markdown",
   "metadata": {},
   "source": [
    "### Notebook to document location of MED4 de novo only peptides\n",
    "\n",
    "### This text extraction/manipulation done prior to ETNP peptides, so it's not named exactly similarly\n",
    "\n",
    "### Still, here I redo the extraction of no modfication dno peptides, as well as the creation of a mod file\n",
    "\n",
    "### Exported the results of PEAKS 8.5 searches into Git ETNP 2017 data directory\n",
    "\n",
    "### De novo only peptides are in running#-peaks#-dno.csv files"
   ]
  },
  {
   "cell_type": "code",
   "execution_count": 10,
   "metadata": {
    "collapsed": false
   },
   "outputs": [
    {
     "name": "stdout",
     "output_type": "stream",
     "text": [
      "\u001b[34mMED-Prochlorococcus-RLundeen\u001b[m\u001b[m\r\n",
      "MED2_tryp_1raw_80dn.csv\r\n",
      "MED2_tryp_1raw_db_peptides.fasta\r\n",
      "MED2_tryp_1raw_db_peptides_nmod.fasta\r\n",
      "MED2_tryp_1raw_db_peptides_nmod.phr\r\n",
      "MED2_tryp_1raw_db_peptides_nmod.pin\r\n",
      "MED2_tryp_1raw_db_peptides_nmod.psq\r\n",
      "MED2_tryp_1raw_db_peptides_nmod.txt\r\n",
      "MED2_tryp_1raw_dn-only.csv\r\n",
      "MED2_tryp_1raw_peptide.csv\r\n",
      "MED2_tryp_1raw_propep.csv\r\n",
      "MED2_tryp_1raw_protein.csv\r\n",
      "MED2_trypsin_1raw_80alc_peptides.fasta\r\n",
      "\u001b[31mMED4_hi3_proteome.fasta\u001b[m\u001b[m\r\n",
      "MED4_hi3_proteome_digested.pin\r\n",
      "MED4_hi3_proteome_tryptic.txt\r\n",
      "MED4aa-rocap.fa\r\n",
      "MED4aa_GR.fa\r\n",
      "MED4aa_GR_trp-dig_digested_Mass400to6000.txt\r\n",
      "UP000001026_59919.fasta.gz\r\n",
      "Uniprot.MED4_Hi3.fasta\r\n",
      "Uniprot.MED4_Hi3.phr\r\n",
      "Uniprot.MED4_Hi3.pin\r\n",
      "Uniprot.MED4_Hi3.psq\r\n",
      "Uniprot.MED4_Hi3_tryptic.txt\r\n",
      "\u001b[34mvennpainter-input\u001b[m\u001b[m\r\n"
     ]
    }
   ],
   "source": [
    "!ls /Users/meganduffy/Documents/git-repos/2017-etnp/data/MED4/"
   ]
  },
  {
   "cell_type": "code",
   "execution_count": 11,
   "metadata": {
    "collapsed": false
   },
   "outputs": [
    {
     "name": "stdout",
     "output_type": "stream",
     "text": [
      "med4-rl-peaks24-dno-peptides.csv     med4-rl-peaks24-peptides.xlsx\r\n",
      "med4-rl-peaks24-dno-peptides.xlsx    med4-rl-peaks24-protein-peptides.csv\r\n",
      "med4-rl-peaks24-nomod-peptides.txt   med4-rl-peaks24-proteins.csv\r\n",
      "med4-rl-peaks24-peptides.csv         med4-rl-peaks24-proteins.fasta\r\n",
      "med4-rl-peaks24-peptides.txt\r\n"
     ]
    }
   ],
   "source": [
    "!ls /Users/meganduffy/Documents/git-repos/2017-etnp/data/MED4/MED-Prochlorococcus-RLundeen/peaks-output/MED_MED4-RAL_PEAKS_24/"
   ]
  },
  {
   "cell_type": "code",
   "execution_count": 13,
   "metadata": {
    "collapsed": false
   },
   "outputs": [
    {
     "name": "stdout",
     "output_type": "stream",
     "text": [
      "SKPFNDGFNAATGDYVDMSAAGIVDPAK\r",
      "\r\n",
      "SKPFNDGFNAATGDYVDMSAAGIVDPAK\r",
      "\r\n",
      "AKNTGVEYAQGLVALGGDDEELAK\r",
      "\r\n",
      "DPNQTVNPDEVVAVGAAIQGGVLAGEVK\r",
      "\r\n",
      "GPAPLSLALAHVDVDDDAVLVK\r",
      "\r\n",
      "DADFSEVDLHGTTLTLSDLK\r",
      "\r\n",
      "IEENSKPISDSTAIAQCGTIAAGNDEEVGEMIANAMDK\r",
      "\r\n",
      "YSFEQTGITATIYGGDLNGQTFTDPAVVKR\r",
      "\r\n",
      "TPGFTGADLANLLNEAAILAAR\r",
      "\r\n",
      "NIVSVAVEPSHSPVITQTMNGEEVK\r",
      "\r\n"
     ]
    }
   ],
   "source": [
    "### There is a db nomods txt \n",
    "!head /Users/meganduffy/Documents/git-repos/2017-etnp/data/MED4/MED-Prochlorococcus-RLundeen/peaks-output/MED_MED4-RAL_PEAKS_24/med4-rl-peaks24-nomod-peptides.txt"
   ]
  },
  {
   "cell_type": "code",
   "execution_count": 14,
   "metadata": {
    "collapsed": true
   },
   "outputs": [],
   "source": [
    "import os"
   ]
  },
  {
   "cell_type": "code",
   "execution_count": 15,
   "metadata": {
    "collapsed": false
   },
   "outputs": [
    {
     "data": {
      "text/plain": [
       "'/Users/meganduffy/Documents/git-repos/2017-etnp/notebooks'"
      ]
     },
     "execution_count": 15,
     "metadata": {},
     "output_type": "execute_result"
    }
   ],
   "source": [
    "os.getcwd()"
   ]
  },
  {
   "cell_type": "code",
   "execution_count": 16,
   "metadata": {
    "collapsed": true
   },
   "outputs": [],
   "source": [
    "import pandas as pd"
   ]
  },
  {
   "cell_type": "code",
   "execution_count": 17,
   "metadata": {
    "collapsed": false
   },
   "outputs": [
    {
     "data": {
      "text/plain": [
       "'0.18.1'"
      ]
     },
     "execution_count": 17,
     "metadata": {},
     "output_type": "execute_result"
    }
   ],
   "source": [
    "pd.__version__"
   ]
  },
  {
   "cell_type": "code",
   "execution_count": 18,
   "metadata": {
    "collapsed": true
   },
   "outputs": [],
   "source": [
    "data = pd.read_csv(\"/Users/meganduffy/Documents/git-repos/2017-etnp/data/MED4/MED-Prochlorococcus-RLundeen/peaks-output/MED_MED4-RAL_PEAKS_24/med4-rl-peaks24-dno-peptides.csv\")"
   ]
  },
  {
   "cell_type": "code",
   "execution_count": 19,
   "metadata": {
    "collapsed": false
   },
   "outputs": [
    {
     "data": {
      "text/html": [
       "<div>\n",
       "<table border=\"1\" class=\"dataframe\">\n",
       "  <thead>\n",
       "    <tr style=\"text-align: right;\">\n",
       "      <th></th>\n",
       "      <th>Fraction</th>\n",
       "      <th>Scan</th>\n",
       "      <th>Source File</th>\n",
       "      <th>Peptide</th>\n",
       "      <th>Tag Length</th>\n",
       "      <th>ALC (%)</th>\n",
       "      <th>length</th>\n",
       "      <th>m/z</th>\n",
       "      <th>z</th>\n",
       "      <th>RT</th>\n",
       "      <th>Area</th>\n",
       "      <th>Mass</th>\n",
       "      <th>ppm</th>\n",
       "      <th>Accession</th>\n",
       "      <th>PTM</th>\n",
       "      <th>local confidence (%)</th>\n",
       "      <th>tag (&gt;=0%)</th>\n",
       "      <th>mode</th>\n",
       "    </tr>\n",
       "  </thead>\n",
       "  <tbody>\n",
       "    <tr>\n",
       "      <th>0</th>\n",
       "      <td>3</td>\n",
       "      <td>45049</td>\n",
       "      <td>022016_RAL4_95_MED2_trypsin_1.raw</td>\n",
       "      <td>KNDEDLYLQLLQK</td>\n",
       "      <td>13</td>\n",
       "      <td>96</td>\n",
       "      <td>13</td>\n",
       "      <td>810.4281</td>\n",
       "      <td>2</td>\n",
       "      <td>66.26</td>\n",
       "      <td>14300000.0</td>\n",
       "      <td>1618.8567</td>\n",
       "      <td>-9.3</td>\n",
       "      <td>PMM1301:PMM0847:PMM0323:PMM0096:PMM1251:PMM067...</td>\n",
       "      <td>NaN</td>\n",
       "      <td>87 90 99 99 97 99 99 99 94 99 99 98 97</td>\n",
       "      <td>KNDEDLYLQLLQK</td>\n",
       "      <td>CID</td>\n",
       "    </tr>\n",
       "    <tr>\n",
       "      <th>1</th>\n",
       "      <td>3</td>\n",
       "      <td>29375</td>\n",
       "      <td>022016_RAL4_95_MED2_trypsin_1.raw</td>\n",
       "      <td>HLLTDTLLLENK</td>\n",
       "      <td>12</td>\n",
       "      <td>96</td>\n",
       "      <td>12</td>\n",
       "      <td>705.4037</td>\n",
       "      <td>2</td>\n",
       "      <td>45.24</td>\n",
       "      <td>7440000.0</td>\n",
       "      <td>1408.7925</td>\n",
       "      <td>0.2</td>\n",
       "      <td>PMM1342:PMM1132:PMM0516</td>\n",
       "      <td>NaN</td>\n",
       "      <td>97 99 98 92 93 96 98 99 100 98 95 91</td>\n",
       "      <td>HLLTDTLLLENK</td>\n",
       "      <td>CID</td>\n",
       "    </tr>\n",
       "    <tr>\n",
       "      <th>2</th>\n",
       "      <td>3</td>\n",
       "      <td>17437</td>\n",
       "      <td>022016_RAL4_95_MED2_trypsin_1.raw</td>\n",
       "      <td>LTVYYWSSK</td>\n",
       "      <td>9</td>\n",
       "      <td>96</td>\n",
       "      <td>9</td>\n",
       "      <td>573.8002</td>\n",
       "      <td>2</td>\n",
       "      <td>29.19</td>\n",
       "      <td>4720000.0</td>\n",
       "      <td>1145.5757</td>\n",
       "      <td>8.8</td>\n",
       "      <td>NaN</td>\n",
       "      <td>NaN</td>\n",
       "      <td>91 95 96 96 93 98 99 100 99</td>\n",
       "      <td>LTVYYWSSK</td>\n",
       "      <td>CID</td>\n",
       "    </tr>\n",
       "    <tr>\n",
       "      <th>3</th>\n",
       "      <td>3</td>\n",
       "      <td>45299</td>\n",
       "      <td>022016_RAL4_95_MED2_trypsin_1.raw</td>\n",
       "      <td>KNDEDLYLQLLQK</td>\n",
       "      <td>13</td>\n",
       "      <td>96</td>\n",
       "      <td>13</td>\n",
       "      <td>810.4299</td>\n",
       "      <td>2</td>\n",
       "      <td>66.60</td>\n",
       "      <td>14300000.0</td>\n",
       "      <td>1618.8567</td>\n",
       "      <td>-7.1</td>\n",
       "      <td>PMM1301:PMM0847:PMM0323:PMM0096:PMM1251:PMM067...</td>\n",
       "      <td>NaN</td>\n",
       "      <td>86 89 98 99 97 99 97 98 94 99 99 97 97</td>\n",
       "      <td>KNDEDLYLQLLQK</td>\n",
       "      <td>CID</td>\n",
       "    </tr>\n",
       "    <tr>\n",
       "      <th>4</th>\n",
       "      <td>3</td>\n",
       "      <td>27902</td>\n",
       "      <td>022016_RAL4_95_MED2_trypsin_1.raw</td>\n",
       "      <td>VDDEVFLAMSK</td>\n",
       "      <td>11</td>\n",
       "      <td>96</td>\n",
       "      <td>11</td>\n",
       "      <td>627.3170</td>\n",
       "      <td>2</td>\n",
       "      <td>43.28</td>\n",
       "      <td>NaN</td>\n",
       "      <td>1252.6008</td>\n",
       "      <td>14.8</td>\n",
       "      <td>PMM0144:PMM0245</td>\n",
       "      <td>NaN</td>\n",
       "      <td>86 96 97 99 97 97 98 96 98 98 95</td>\n",
       "      <td>VDDEVFLAMSK</td>\n",
       "      <td>CID</td>\n",
       "    </tr>\n",
       "  </tbody>\n",
       "</table>\n",
       "</div>"
      ],
      "text/plain": [
       "   Fraction   Scan                        Source File        Peptide  \\\n",
       "0         3  45049  022016_RAL4_95_MED2_trypsin_1.raw  KNDEDLYLQLLQK   \n",
       "1         3  29375  022016_RAL4_95_MED2_trypsin_1.raw   HLLTDTLLLENK   \n",
       "2         3  17437  022016_RAL4_95_MED2_trypsin_1.raw      LTVYYWSSK   \n",
       "3         3  45299  022016_RAL4_95_MED2_trypsin_1.raw  KNDEDLYLQLLQK   \n",
       "4         3  27902  022016_RAL4_95_MED2_trypsin_1.raw    VDDEVFLAMSK   \n",
       "\n",
       "   Tag Length  ALC (%)  length       m/z  z     RT        Area       Mass  \\\n",
       "0          13       96      13  810.4281  2  66.26  14300000.0  1618.8567   \n",
       "1          12       96      12  705.4037  2  45.24   7440000.0  1408.7925   \n",
       "2           9       96       9  573.8002  2  29.19   4720000.0  1145.5757   \n",
       "3          13       96      13  810.4299  2  66.60  14300000.0  1618.8567   \n",
       "4          11       96      11  627.3170  2  43.28         NaN  1252.6008   \n",
       "\n",
       "    ppm                                          Accession  PTM  \\\n",
       "0  -9.3  PMM1301:PMM0847:PMM0323:PMM0096:PMM1251:PMM067...  NaN   \n",
       "1   0.2                            PMM1342:PMM1132:PMM0516  NaN   \n",
       "2   8.8                                                NaN  NaN   \n",
       "3  -7.1  PMM1301:PMM0847:PMM0323:PMM0096:PMM1251:PMM067...  NaN   \n",
       "4  14.8                                    PMM0144:PMM0245  NaN   \n",
       "\n",
       "                     local confidence (%)     tag (>=0%) mode  \n",
       "0  87 90 99 99 97 99 99 99 94 99 99 98 97  KNDEDLYLQLLQK  CID  \n",
       "1    97 99 98 92 93 96 98 99 100 98 95 91   HLLTDTLLLENK  CID  \n",
       "2             91 95 96 96 93 98 99 100 99      LTVYYWSSK  CID  \n",
       "3  86 89 98 99 97 99 97 98 94 99 99 97 97  KNDEDLYLQLLQK  CID  \n",
       "4        86 96 97 99 97 97 98 96 98 98 95    VDDEVFLAMSK  CID  "
      ]
     },
     "execution_count": 19,
     "metadata": {},
     "output_type": "execute_result"
    }
   ],
   "source": [
    "data.head()"
   ]
  },
  {
   "cell_type": "code",
   "execution_count": 20,
   "metadata": {
    "collapsed": true
   },
   "outputs": [],
   "source": [
    "# Keep only peptide column\n",
    "pep = data[[\"Peptide\"]]"
   ]
  },
  {
   "cell_type": "code",
   "execution_count": 21,
   "metadata": {
    "collapsed": false
   },
   "outputs": [
    {
     "data": {
      "text/html": [
       "<div>\n",
       "<table border=\"1\" class=\"dataframe\">\n",
       "  <thead>\n",
       "    <tr style=\"text-align: right;\">\n",
       "      <th></th>\n",
       "      <th>Peptide</th>\n",
       "    </tr>\n",
       "  </thead>\n",
       "  <tbody>\n",
       "    <tr>\n",
       "      <th>0</th>\n",
       "      <td>KNDEDLYLQLLQK</td>\n",
       "    </tr>\n",
       "    <tr>\n",
       "      <th>1</th>\n",
       "      <td>HLLTDTLLLENK</td>\n",
       "    </tr>\n",
       "    <tr>\n",
       "      <th>2</th>\n",
       "      <td>LTVYYWSSK</td>\n",
       "    </tr>\n",
       "    <tr>\n",
       "      <th>3</th>\n",
       "      <td>KNDEDLYLQLLQK</td>\n",
       "    </tr>\n",
       "    <tr>\n",
       "      <th>4</th>\n",
       "      <td>VDDEVFLAMSK</td>\n",
       "    </tr>\n",
       "  </tbody>\n",
       "</table>\n",
       "</div>"
      ],
      "text/plain": [
       "         Peptide\n",
       "0  KNDEDLYLQLLQK\n",
       "1   HLLTDTLLLENK\n",
       "2      LTVYYWSSK\n",
       "3  KNDEDLYLQLLQK\n",
       "4    VDDEVFLAMSK"
      ]
     },
     "execution_count": 21,
     "metadata": {},
     "output_type": "execute_result"
    }
   ],
   "source": [
    "pep.head()"
   ]
  },
  {
   "cell_type": "code",
   "execution_count": 22,
   "metadata": {
    "collapsed": true
   },
   "outputs": [],
   "source": [
    "# Write altered dataframe to new csv file\n",
    "# Used header and index parameters to get rid of 'Peptide' header and the indexing\n",
    "\n",
    "pep.to_csv(\"/Users/meganduffy/Documents/git-repos/2017-etnp/data/MED4/MED-Prochlorococcus-RLundeen/peaks-output/MED_MED4-RAL_PEAKS_24/med4-peaks24-dnopeps.csv\", header=False, index=False)"
   ]
  },
  {
   "cell_type": "code",
   "execution_count": 23,
   "metadata": {
    "collapsed": true
   },
   "outputs": [],
   "source": [
    "# Write altered dataframe to new txt file\n",
    "# Used header and index parameters to get rid of 'Peptide' header and the indexing\n",
    "\n",
    "pep.to_csv(\"/Users/meganduffy/Documents/git-repos/2017-etnp/data/MED4/MED-Prochlorococcus-RLundeen/peaks-output/MED_MED4-RAL_PEAKS_24/med4-peaks24-dnopeps.txt\", header=False, index=False)"
   ]
  },
  {
   "cell_type": "code",
   "execution_count": 24,
   "metadata": {
    "collapsed": false
   },
   "outputs": [
    {
     "name": "stdout",
     "output_type": "stream",
     "text": [
      "KNDEDLYLQLLQK\r\n",
      "HLLTDTLLLENK\r\n",
      "LTVYYWSSK\r\n",
      "KNDEDLYLQLLQK\r\n",
      "VDDEVFLAMSK\r\n",
      "QFNDELWK\r\n",
      "RGLVFEK\r\n",
      "VAAEAVLAAQLK\r\n",
      "EFVSDVK\r\n",
      "LLSLLDELASPEK\r\n"
     ]
    }
   ],
   "source": [
    "!head /Users/meganduffy/Documents/git-repos/2017-etnp/data/MED4/MED-Prochlorococcus-RLundeen/peaks-output/MED_MED4-RAL_PEAKS_24/med4-peaks24-dnopeps.txt"
   ]
  },
  {
   "cell_type": "code",
   "execution_count": 25,
   "metadata": {
    "collapsed": true
   },
   "outputs": [],
   "source": [
    "# Removes all characters in parentheses and saves as new file\n",
    "\n",
    "!awk -F \"[()]\" '{ for (i=2; i<NF; i+=2) print $i }' /Users/meganduffy/Documents/git-repos/2017-etnp/data/MED4/MED-Prochlorococcus-RLundeen/peaks-output/MED_MED4-RAL_PEAKS_24/med4-peaks24-dnopeps.txt > \\\n",
    "/Users/meganduffy/Documents/git-repos/2017-etnp/data/MED4/MED-Prochlorococcus-RLundeen/peaks-output/MED_MED4-RAL_PEAKS_24/med4-peaks24-dno-mods.txt"
   ]
  },
  {
   "cell_type": "code",
   "execution_count": 26,
   "metadata": {
    "collapsed": false
   },
   "outputs": [
    {
     "name": "stdout",
     "output_type": "stream",
     "text": [
      "+57.02\r\n",
      "+15.99\r\n",
      "+15.99\r\n",
      "+57.02\r\n",
      "+15.99\r\n",
      "+15.99\r\n",
      "+15.99\r\n",
      "+15.99\r\n",
      "+57.02\r\n",
      "+15.99\r\n"
     ]
    }
   ],
   "source": [
    "# How does the modifications text file look?\n",
    "\n",
    "!head /Users/meganduffy/Documents/git-repos/2017-etnp/data/MED4/MED-Prochlorococcus-RLundeen/peaks-output/MED_MED4-RAL_PEAKS_24/med4-peaks24-dno-mods.txt"
   ]
  },
  {
   "cell_type": "code",
   "execution_count": 27,
   "metadata": {
    "collapsed": false
   },
   "outputs": [
    {
     "name": "stdout",
     "output_type": "stream",
     "text": [
      "    1822 /Users/meganduffy/Documents/git-repos/2017-etnp/data/MED4/MED-Prochlorococcus-RLundeen/peaks-output/MED_MED4-RAL_PEAKS_24/med4-peaks24-dno-mods.txt\r\n"
     ]
    }
   ],
   "source": [
    "# How many modifications for this sample?\n",
    "\n",
    "!wc -l /Users/meganduffy/Documents/git-repos/2017-etnp/data/MED4/MED-Prochlorococcus-RLundeen/peaks-output/MED_MED4-RAL_PEAKS_24/med4-peaks24-dno-mods.txt"
   ]
  },
  {
   "cell_type": "code",
   "execution_count": 28,
   "metadata": {
    "collapsed": false
   },
   "outputs": [
    {
     "name": "stdout",
     "output_type": "stream",
     "text": [
      "    3641 /Users/meganduffy/Documents/git-repos/2017-etnp/data/MED4/MED-Prochlorococcus-RLundeen/peaks-output/MED_MED4-RAL_PEAKS_24/med4-peaks24-dnopeps.txt\r\n"
     ]
    }
   ],
   "source": [
    "# Compared with how many total peptides?\n",
    "\n",
    "!wc -l /Users/meganduffy/Documents/git-repos/2017-etnp/data/MED4/MED-Prochlorococcus-RLundeen/peaks-output/MED_MED4-RAL_PEAKS_24/med4-peaks24-dnopeps.txt"
   ]
  },
  {
   "cell_type": "code",
   "execution_count": 29,
   "metadata": {
    "collapsed": false
   },
   "outputs": [
    {
     "data": {
      "text/plain": [
       "0.5004119747322164"
      ]
     },
     "execution_count": 29,
     "metadata": {},
     "output_type": "execute_result"
    }
   ],
   "source": [
    "# What's the percentage of modified peptides for this sample?\n",
    "\n",
    "1822/3641"
   ]
  },
  {
   "cell_type": "code",
   "execution_count": 30,
   "metadata": {
    "collapsed": true
   },
   "outputs": [],
   "source": [
    "# Get rid of modifications from all peptides and save as a new file\n",
    "# Remove '(+15.99)' and '(+57.02)', (+.98) from sequences\n",
    "\n",
    "!sed 's/(+15.99)//g' /Users/meganduffy/Documents/git-repos/2017-etnp/data/MED4/MED-Prochlorococcus-RLundeen/peaks-output/MED_MED4-RAL_PEAKS_24/med4-peaks24-dnopeps.txt \\\n",
    "| sed 's/(+57.02)//g'\\\n",
    "| sed 's/(+.98)//g'\\\n",
    "> /Users/meganduffy/Documents/git-repos/2017-etnp/data/MED4/MED-Prochlorococcus-RLundeen/peaks-output/MED_MED4-RAL_PEAKS_24/med4-peaks24-dno-nomods.txt"
   ]
  },
  {
   "cell_type": "code",
   "execution_count": 31,
   "metadata": {
    "collapsed": false
   },
   "outputs": [
    {
     "name": "stdout",
     "output_type": "stream",
     "text": [
      "KNDEDLYLQLLQK\r\n",
      "HLLTDTLLLENK\r\n",
      "LTVYYWSSK\r\n",
      "KNDEDLYLQLLQK\r\n",
      "VDDEVFLAMSK\r\n",
      "QFNDELWK\r\n",
      "RGLVFEK\r\n",
      "VAAEAVLAAQLK\r\n",
      "EFVSDVK\r\n",
      "LLSLLDELASPEK\r\n"
     ]
    }
   ],
   "source": [
    "!head /Users/meganduffy/Documents/git-repos/2017-etnp/data/MED4/MED-Prochlorococcus-RLundeen/peaks-output/MED_MED4-RAL_PEAKS_24/med4-peaks24-dno-nomods.txt"
   ]
  },
  {
   "cell_type": "code",
   "execution_count": 32,
   "metadata": {
    "collapsed": false
   },
   "outputs": [
    {
     "name": "stdout",
     "output_type": "stream",
     "text": [
      "med4-peaks24-dno-mods.txt            med4-rl-peaks24-peptides.csv\r\n",
      "med4-peaks24-dno-nomods.txt          med4-rl-peaks24-peptides.txt\r\n",
      "med4-peaks24-dnopeps.csv             med4-rl-peaks24-peptides.xlsx\r\n",
      "med4-peaks24-dnopeps.txt             med4-rl-peaks24-protein-peptides.csv\r\n",
      "med4-rl-peaks24-dno-peptides.csv     med4-rl-peaks24-proteins.csv\r\n",
      "med4-rl-peaks24-dno-peptides.xlsx    med4-rl-peaks24-proteins.fasta\r\n",
      "med4-rl-peaks24-nomod-peptides.txt   ~$med4-rl-peaks24-dno-peptides.xlsx\r\n"
     ]
    }
   ],
   "source": [
    "!ls /Users/meganduffy/Documents/git-repos/2017-etnp/data/MED4/MED-Prochlorococcus-RLundeen/peaks-output/MED_MED4-RAL_PEAKS_24/"
   ]
  },
  {
   "cell_type": "markdown",
   "metadata": {},
   "source": [
    "### Made the nomod dno file a fasta using Galaxy"
   ]
  },
  {
   "cell_type": "code",
   "execution_count": null,
   "metadata": {
    "collapsed": true
   },
   "outputs": [],
   "source": []
  }
 ],
 "metadata": {
  "anaconda-cloud": {},
  "kernelspec": {
   "display_name": "Python [default]",
   "language": "python",
   "name": "python3"
  },
  "language_info": {
   "codemirror_mode": {
    "name": "ipython",
    "version": 3
   },
   "file_extension": ".py",
   "mimetype": "text/x-python",
   "name": "python",
   "nbconvert_exporter": "python",
   "pygments_lexer": "ipython3",
   "version": "3.5.2"
  }
 },
 "nbformat": 4,
 "nbformat_minor": 1
}
