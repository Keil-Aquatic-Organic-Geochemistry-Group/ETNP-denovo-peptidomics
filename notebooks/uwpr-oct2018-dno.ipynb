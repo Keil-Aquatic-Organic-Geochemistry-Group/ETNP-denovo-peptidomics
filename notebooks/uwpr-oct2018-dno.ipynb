{
 "cells": [
  {
   "cell_type": "code",
   "execution_count": 1,
   "metadata": {
    "collapsed": false
   },
   "outputs": [
    {
     "name": "stdout",
     "output_type": "stream",
     "text": [
      "Tue Oct 30 17:15:44 PDT 2018\r\n"
     ]
    }
   ],
   "source": [
    "!date"
   ]
  },
  {
   "cell_type": "code",
   "execution_count": 2,
   "metadata": {
    "collapsed": false
   },
   "outputs": [
    {
     "name": "stdout",
     "output_type": "stream",
     "text": [
      "Software:\r\n",
      "\r\n",
      "    System Software Overview:\r\n",
      "\r\n",
      "      System Version: macOS 10.14 (18A391)\r\n",
      "      Kernel Version: Darwin 18.0.0\r\n",
      "      Boot Volume: Macintosh HD\r\n",
      "      Boot Mode: Normal\r\n",
      "      Computer Name: Megan’s MacBook Pro (2)\r\n",
      "      User Name: Megan Duffy (meganduffy)\r\n",
      "      Secure Virtual Memory: Enabled\r\n",
      "      System Integrity Protection: Enabled\r\n",
      "      Time since boot: 1 day 8:51\r\n",
      "\r\n"
     ]
    }
   ],
   "source": [
    "!system_profiler SPSoftwareDataType"
   ]
  },
  {
   "cell_type": "markdown",
   "metadata": {},
   "source": [
    "## Notebook to document text extraction and editing of UWPR October 2018 ETNP 2017 (samples 2-9 and 4-19) de novo only peptides ##\n",
    "\n",
    "### Exported the results of PEAKS 8.5 searches into Git ETNP 2017 data directory ###"
   ]
  },
  {
   "cell_type": "code",
   "execution_count": 3,
   "metadata": {
    "collapsed": false
   },
   "outputs": [
    {
     "name": "stdout",
     "output_type": "stream",
     "text": [
      "\u001b[34m272_4-19_965m_top+P+BSA-PEAKS18-20181004\u001b[m\u001b[m\r\n",
      "\u001b[34m273_4-19_965m_top+P-PEAKS19-20181004\u001b[m\u001b[m\r\n",
      "\u001b[34m278_4-19_265m_top+PA-PEAKS90-20181005\u001b[m\u001b[m\r\n",
      "\u001b[34m278_4-19_265m_top+PA90min-PEAKS105-20181005\u001b[m\u001b[m\r\n",
      "\u001b[34m279_4-19_265m_netwash1of3A-PEAKS86-20181005\u001b[m\u001b[m\r\n",
      "\u001b[34m281_4-19_965m_ctl1of2A-PEAKS82-20181005\u001b[m\u001b[m\r\n",
      "\u001b[34m282_4-19_965m_netwash1of5A-PEAKS98-20181005\u001b[m\u001b[m\r\n",
      "\u001b[34m284_4-19_265m_ctl_A-PEAKS83-20181005\u001b[m\u001b[m\r\n",
      "\u001b[34m334_2-9_94m_nw6_wet_BSA-PEAKS27-20181004\u001b[m\u001b[m\r\n",
      "\u001b[34m335_2-9_94m_nw6_wet_nospike-PEAKS14-20181004\u001b[m\u001b[m\r\n",
      "\u001b[34m336_2-9_94m_nw6_dry_BSA-PEAKS16-20181004\u001b[m\u001b[m\r\n",
      "\u001b[34m337_2-9_94m_nw6_dry_nospike-PEAKS13-20181004\u001b[m\u001b[m\r\n"
     ]
    }
   ],
   "source": [
    "!ls /Users/meganduffy/Documents/git-repos/2017-etnp/data/uwpr-oct2018/"
   ]
  },
  {
   "cell_type": "markdown",
   "metadata": {},
   "source": [
    "### Chose to include protein lists in FASTA form, this being the only deviation from text-based export defaults ###"
   ]
  },
  {
   "cell_type": "code",
   "execution_count": 4,
   "metadata": {
    "collapsed": false
   },
   "outputs": [
    {
     "name": "stdout",
     "output_type": "stream",
     "text": [
      "DB search psm.csv         peptide.csv               proteins.csv\r\n",
      "de novo only peptides.csv protein-peptides.csv      proteins.fasta\r\n"
     ]
    }
   ],
   "source": [
    "!ls /Users/meganduffy/Documents/git-repos/2017-etnp/data/uwpr-oct2018/272_4-19_965m_top+P+BSA-PEAKS18-20181004/"
   ]
  },
  {
   "cell_type": "markdown",
   "metadata": {},
   "source": [
    "### Need to rename each file to be sample-specific ###\n",
    "\n",
    "### Did so manually, adding PEAKS run # and Keil proteomics running # ###"
   ]
  },
  {
   "cell_type": "code",
   "execution_count": 5,
   "metadata": {
    "collapsed": false
   },
   "outputs": [
    {
     "name": "stdout",
     "output_type": "stream",
     "text": [
      "272-peaks18-DB-search-psm.csv    272-peaks18-protein-peptides.csv\r\n",
      "272-peaks18-dno.csv              272-peaks18-proteins.csv\r\n",
      "272-peaks18-peptide.csv          272-peaks18-proteins.fasta\r\n"
     ]
    }
   ],
   "source": [
    "!ls /Users/meganduffy/Documents/git-repos/2017-etnp/data/uwpr-oct2018/272_4-19_965m_top+P+BSA-PEAKS18-20181004/"
   ]
  },
  {
   "cell_type": "markdown",
   "metadata": {},
   "source": [
    "### Now removing modifcations from all de novo only files and storing mod list as separate file ###\n",
    "\n",
    "### Since it's my typical PEAKS search, the only modifications allowed were fixed CAM on cysteine and variable oxidation of methionine. ###\n",
    "\n",
    "### If we look at the file, that's all we'll see: ###"
   ]
  },
  {
   "cell_type": "code",
   "execution_count": 6,
   "metadata": {
    "collapsed": false
   },
   "outputs": [
    {
     "name": "stdout",
     "output_type": "stream",
     "text": [
      "Fraction,Scan,Source File,Peptide,Tag Length,ALC (%),length,m/z,z,RT,Area,Mass,ppm,Accession,PTM,local confidence (%),tag (>=0%),mode\r",
      "\r\n",
      "2,6348,20181003_4-19_965m_top_BSA.raw,KVELDTK,7,99,7,416.7433,2,23.27,6.19E6,831.4702,2.2,,,98 99 100 99 99 100 99,KVELDTK,CID\r",
      "\r\n",
      "2,5824,20181003_4-19_965m_top_BSA.raw,WESHAGC(+57.02)EK,9,98,9,552.2357,2,22.00,9.25E4,1102.4502,6.1,CAA76847.1,Carbamidomethylation,98 100 100 100 99 95 98 100 99,WESHAGC(+57.02)EK,CID\r",
      "\r\n",
      "2,13006,20181003_4-19_965m_top_BSA.raw,RPLLEK,6,97,6,378.2373,2,40.12,1.82E6,754.4701,-13.2,,,98 99 99 99 98 92,RPLLEK,CID\r",
      "\r\n",
      "2,5842,20181003_4-19_965m_top_BSA.raw,VADESHKC(+57.02)EK,10,97,10,601.7697,2,22.04,,1201.5398,-12.5,CAA76847.1,Carbamidomethylation,96 98 99 99 99 99 92 96 99 98,VADESHKC(+57.02)EK,CID\r",
      "\r\n",
      "2,27772,20181003_4-19_965m_top_BSA.raw,LLEWLK,6,97,6,401.2477,2,70.67,2.36E5,800.4796,1.6,,,97 98 99 96 98 97,LLEWLK,CID\r",
      "\r\n",
      "2,10641,20181003_4-19_965m_top_BSA.raw,EC(+57.02)SDKPLLEK,10,97,10,406.8736,3,34.32,2.88E6,1217.5962,2.3,CAA76847.1,Carbamidomethylation,97 98 96 96 95 95 98 98 99 97,EC(+57.02)SDKPLLEK,CID\r",
      "\r\n",
      "2,17723,20181003_4-19_965m_top_BSA.raw,AESN(+.98)FLEEAK,10,96,10,569.7675,2,50.95,1.65E6,1137.5190,1.2,,Deamidation (NQ),91 97 99 99 97 97 99 99 98 92,AESN(+.98)FLEEAK,CID\r",
      "\r\n",
      "2,9664,20181003_4-19_965m_top_BSA.raw,LATGM(+15.99)LK,7,96,7,375.2164,2,31.71,1.12E6,748.4153,3.9,,Oxidation (M),96 97 99 96 95 97 97,LATGM(+15.99)LK,CID\r",
      "\r\n",
      "2,13285,20181003_4-19_965m_top_BSA.raw,YKVELDTK,8,96,8,498.2755,2,40.80,1.33E6,994.5335,2.9,,,95 97 99 97 92 97 98 97,YKVELDTK,CID\r",
      "\r\n"
     ]
    }
   ],
   "source": [
    "!head /Users/meganduffy/Documents/git-repos/2017-etnp/data/uwpr-oct2018/272_4-19_965m_top+P+BSA-PEAKS18-20181004/272-peaks18-dno.csv "
   ]
  },
  {
   "cell_type": "markdown",
   "metadata": {},
   "source": [
    "### First, we'll extract the peptide column (column 4) into a new .txt file: ###"
   ]
  },
  {
   "cell_type": "code",
   "execution_count": 24,
   "metadata": {
    "collapsed": true
   },
   "outputs": [],
   "source": [
    "import os"
   ]
  },
  {
   "cell_type": "code",
   "execution_count": 25,
   "metadata": {
    "collapsed": false
   },
   "outputs": [
    {
     "data": {
      "text/plain": [
       "'/Users/meganduffy/Documents/git-repos/2017-etnp/notebooks'"
      ]
     },
     "execution_count": 25,
     "metadata": {},
     "output_type": "execute_result"
    }
   ],
   "source": [
    "os.getcwd()"
   ]
  },
  {
   "cell_type": "code",
   "execution_count": 26,
   "metadata": {
    "collapsed": false
   },
   "outputs": [],
   "source": [
    "import pandas as pd "
   ]
  },
  {
   "cell_type": "code",
   "execution_count": 27,
   "metadata": {
    "collapsed": false
   },
   "outputs": [
    {
     "data": {
      "text/plain": [
       "'0.18.1'"
      ]
     },
     "execution_count": 27,
     "metadata": {},
     "output_type": "execute_result"
    }
   ],
   "source": [
    "pd.__version__"
   ]
  },
  {
   "cell_type": "code",
   "execution_count": 28,
   "metadata": {
    "collapsed": false
   },
   "outputs": [],
   "source": [
    "data = pd.read_csv(\"/Users/meganduffy/Documents/git-repos/2017-etnp/data/uwpr-oct2018/272_4-19_965m_top+P+BSA-PEAKS18-20181004/272-peaks18-dno.csv\")"
   ]
  },
  {
   "cell_type": "code",
   "execution_count": 29,
   "metadata": {
    "collapsed": false
   },
   "outputs": [
    {
     "data": {
      "text/html": [
       "<div>\n",
       "<table border=\"1\" class=\"dataframe\">\n",
       "  <thead>\n",
       "    <tr style=\"text-align: right;\">\n",
       "      <th></th>\n",
       "      <th>Fraction</th>\n",
       "      <th>Scan</th>\n",
       "      <th>Source File</th>\n",
       "      <th>Peptide</th>\n",
       "      <th>Tag Length</th>\n",
       "      <th>ALC (%)</th>\n",
       "      <th>length</th>\n",
       "      <th>m/z</th>\n",
       "      <th>z</th>\n",
       "      <th>RT</th>\n",
       "      <th>Area</th>\n",
       "      <th>Mass</th>\n",
       "      <th>ppm</th>\n",
       "      <th>Accession</th>\n",
       "      <th>PTM</th>\n",
       "      <th>local confidence (%)</th>\n",
       "      <th>tag (&gt;=0%)</th>\n",
       "      <th>mode</th>\n",
       "    </tr>\n",
       "  </thead>\n",
       "  <tbody>\n",
       "    <tr>\n",
       "      <th>0</th>\n",
       "      <td>2</td>\n",
       "      <td>6348</td>\n",
       "      <td>20181003_4-19_965m_top_BSA.raw</td>\n",
       "      <td>KVELDTK</td>\n",
       "      <td>7</td>\n",
       "      <td>99</td>\n",
       "      <td>7</td>\n",
       "      <td>416.7433</td>\n",
       "      <td>2</td>\n",
       "      <td>23.27</td>\n",
       "      <td>6190000.0</td>\n",
       "      <td>831.4702</td>\n",
       "      <td>2.2</td>\n",
       "      <td>NaN</td>\n",
       "      <td>NaN</td>\n",
       "      <td>98 99 100 99 99 100 99</td>\n",
       "      <td>KVELDTK</td>\n",
       "      <td>CID</td>\n",
       "    </tr>\n",
       "    <tr>\n",
       "      <th>1</th>\n",
       "      <td>2</td>\n",
       "      <td>5824</td>\n",
       "      <td>20181003_4-19_965m_top_BSA.raw</td>\n",
       "      <td>WESHAGC(+57.02)EK</td>\n",
       "      <td>9</td>\n",
       "      <td>98</td>\n",
       "      <td>9</td>\n",
       "      <td>552.2357</td>\n",
       "      <td>2</td>\n",
       "      <td>22.00</td>\n",
       "      <td>92500.0</td>\n",
       "      <td>1102.4502</td>\n",
       "      <td>6.1</td>\n",
       "      <td>CAA76847.1</td>\n",
       "      <td>Carbamidomethylation</td>\n",
       "      <td>98 100 100 100 99 95 98 100 99</td>\n",
       "      <td>WESHAGC(+57.02)EK</td>\n",
       "      <td>CID</td>\n",
       "    </tr>\n",
       "    <tr>\n",
       "      <th>2</th>\n",
       "      <td>2</td>\n",
       "      <td>13006</td>\n",
       "      <td>20181003_4-19_965m_top_BSA.raw</td>\n",
       "      <td>RPLLEK</td>\n",
       "      <td>6</td>\n",
       "      <td>97</td>\n",
       "      <td>6</td>\n",
       "      <td>378.2373</td>\n",
       "      <td>2</td>\n",
       "      <td>40.12</td>\n",
       "      <td>1820000.0</td>\n",
       "      <td>754.4701</td>\n",
       "      <td>-13.2</td>\n",
       "      <td>NaN</td>\n",
       "      <td>NaN</td>\n",
       "      <td>98 99 99 99 98 92</td>\n",
       "      <td>RPLLEK</td>\n",
       "      <td>CID</td>\n",
       "    </tr>\n",
       "    <tr>\n",
       "      <th>3</th>\n",
       "      <td>2</td>\n",
       "      <td>5842</td>\n",
       "      <td>20181003_4-19_965m_top_BSA.raw</td>\n",
       "      <td>VADESHKC(+57.02)EK</td>\n",
       "      <td>10</td>\n",
       "      <td>97</td>\n",
       "      <td>10</td>\n",
       "      <td>601.7697</td>\n",
       "      <td>2</td>\n",
       "      <td>22.04</td>\n",
       "      <td>NaN</td>\n",
       "      <td>1201.5398</td>\n",
       "      <td>-12.5</td>\n",
       "      <td>CAA76847.1</td>\n",
       "      <td>Carbamidomethylation</td>\n",
       "      <td>96 98 99 99 99 99 92 96 99 98</td>\n",
       "      <td>VADESHKC(+57.02)EK</td>\n",
       "      <td>CID</td>\n",
       "    </tr>\n",
       "    <tr>\n",
       "      <th>4</th>\n",
       "      <td>2</td>\n",
       "      <td>27772</td>\n",
       "      <td>20181003_4-19_965m_top_BSA.raw</td>\n",
       "      <td>LLEWLK</td>\n",
       "      <td>6</td>\n",
       "      <td>97</td>\n",
       "      <td>6</td>\n",
       "      <td>401.2477</td>\n",
       "      <td>2</td>\n",
       "      <td>70.67</td>\n",
       "      <td>236000.0</td>\n",
       "      <td>800.4796</td>\n",
       "      <td>1.6</td>\n",
       "      <td>NaN</td>\n",
       "      <td>NaN</td>\n",
       "      <td>97 98 99 96 98 97</td>\n",
       "      <td>LLEWLK</td>\n",
       "      <td>CID</td>\n",
       "    </tr>\n",
       "  </tbody>\n",
       "</table>\n",
       "</div>"
      ],
      "text/plain": [
       "   Fraction   Scan                     Source File             Peptide  \\\n",
       "0         2   6348  20181003_4-19_965m_top_BSA.raw             KVELDTK   \n",
       "1         2   5824  20181003_4-19_965m_top_BSA.raw   WESHAGC(+57.02)EK   \n",
       "2         2  13006  20181003_4-19_965m_top_BSA.raw              RPLLEK   \n",
       "3         2   5842  20181003_4-19_965m_top_BSA.raw  VADESHKC(+57.02)EK   \n",
       "4         2  27772  20181003_4-19_965m_top_BSA.raw              LLEWLK   \n",
       "\n",
       "   Tag Length  ALC (%)  length       m/z  z     RT       Area       Mass  \\\n",
       "0           7       99       7  416.7433  2  23.27  6190000.0   831.4702   \n",
       "1           9       98       9  552.2357  2  22.00    92500.0  1102.4502   \n",
       "2           6       97       6  378.2373  2  40.12  1820000.0   754.4701   \n",
       "3          10       97      10  601.7697  2  22.04        NaN  1201.5398   \n",
       "4           6       97       6  401.2477  2  70.67   236000.0   800.4796   \n",
       "\n",
       "    ppm   Accession                   PTM            local confidence (%)  \\\n",
       "0   2.2         NaN                   NaN          98 99 100 99 99 100 99   \n",
       "1   6.1  CAA76847.1  Carbamidomethylation  98 100 100 100 99 95 98 100 99   \n",
       "2 -13.2         NaN                   NaN               98 99 99 99 98 92   \n",
       "3 -12.5  CAA76847.1  Carbamidomethylation   96 98 99 99 99 99 92 96 99 98   \n",
       "4   1.6         NaN                   NaN               97 98 99 96 98 97   \n",
       "\n",
       "           tag (>=0%) mode  \n",
       "0             KVELDTK  CID  \n",
       "1   WESHAGC(+57.02)EK  CID  \n",
       "2              RPLLEK  CID  \n",
       "3  VADESHKC(+57.02)EK  CID  \n",
       "4              LLEWLK  CID  "
      ]
     },
     "execution_count": 29,
     "metadata": {},
     "output_type": "execute_result"
    }
   ],
   "source": [
    "data.head()"
   ]
  },
  {
   "cell_type": "code",
   "execution_count": 30,
   "metadata": {
    "collapsed": true
   },
   "outputs": [],
   "source": [
    "# Keep only peptide column\n",
    "pep = data[[\"Peptide\"]]"
   ]
  },
  {
   "cell_type": "code",
   "execution_count": 31,
   "metadata": {
    "collapsed": false
   },
   "outputs": [
    {
     "data": {
      "text/html": [
       "<div>\n",
       "<table border=\"1\" class=\"dataframe\">\n",
       "  <thead>\n",
       "    <tr style=\"text-align: right;\">\n",
       "      <th></th>\n",
       "      <th>Peptide</th>\n",
       "    </tr>\n",
       "  </thead>\n",
       "  <tbody>\n",
       "    <tr>\n",
       "      <th>0</th>\n",
       "      <td>KVELDTK</td>\n",
       "    </tr>\n",
       "    <tr>\n",
       "      <th>1</th>\n",
       "      <td>WESHAGC(+57.02)EK</td>\n",
       "    </tr>\n",
       "    <tr>\n",
       "      <th>2</th>\n",
       "      <td>RPLLEK</td>\n",
       "    </tr>\n",
       "    <tr>\n",
       "      <th>3</th>\n",
       "      <td>VADESHKC(+57.02)EK</td>\n",
       "    </tr>\n",
       "    <tr>\n",
       "      <th>4</th>\n",
       "      <td>LLEWLK</td>\n",
       "    </tr>\n",
       "  </tbody>\n",
       "</table>\n",
       "</div>"
      ],
      "text/plain": [
       "              Peptide\n",
       "0             KVELDTK\n",
       "1   WESHAGC(+57.02)EK\n",
       "2              RPLLEK\n",
       "3  VADESHKC(+57.02)EK\n",
       "4              LLEWLK"
      ]
     },
     "execution_count": 31,
     "metadata": {},
     "output_type": "execute_result"
    }
   ],
   "source": [
    "pep.head()"
   ]
  },
  {
   "cell_type": "code",
   "execution_count": 45,
   "metadata": {
    "collapsed": false
   },
   "outputs": [],
   "source": [
    "# Write altered dataframe to new csv file\n",
    "# Used header and index parameters to get rid of 'Peptide' header and the indexing\n",
    "\n",
    "pep.to_csv(\"/Users/meganduffy/Documents/git-repos/2017-etnp/data/uwpr-oct2018/272_4-19_965m_top+P+BSA-PEAKS18-20181004/272-peaks18-dnopeps.csv\", header=False, index=False)"
   ]
  },
  {
   "cell_type": "code",
   "execution_count": 61,
   "metadata": {
    "collapsed": false
   },
   "outputs": [],
   "source": [
    "# Write altered dataframe to new text file \n",
    "# Used header and index parameters to get rid of 'Peptide' header and the indexing\n",
    "\n",
    "pep.to_csv(\"/Users/meganduffy/Documents/git-repos/2017-etnp/data/uwpr-oct2018/272_4-19_965m_top+P+BSA-PEAKS18-20181004/272-peaks18-dnopeps.txt\", header=False, index=False)"
   ]
  },
  {
   "cell_type": "code",
   "execution_count": 47,
   "metadata": {
    "collapsed": false
   },
   "outputs": [
    {
     "name": "stdout",
     "output_type": "stream",
     "text": [
      "272-peaks18-DB-search-psm.csv    272-peaks18-peptide.csv\r\n",
      "272-peaks18-dno-mods.txt         272-peaks18-protein-peptides.csv\r\n",
      "272-peaks18-dno.csv              272-peaks18-proteins.csv\r\n",
      "272-peaks18-dnopeps.csv          272-peaks18-proteins.fasta\r\n",
      "272-peaks18-dnopeps.txt\r\n"
     ]
    }
   ],
   "source": [
    "# Viewing new files\n",
    "\n",
    "!ls /Users/meganduffy/Documents/git-repos/2017-etnp/data/uwpr-oct2018/272_4-19_965m_top+P+BSA-PEAKS18-20181004/"
   ]
  },
  {
   "cell_type": "code",
   "execution_count": 48,
   "metadata": {
    "collapsed": false
   },
   "outputs": [
    {
     "name": "stdout",
     "output_type": "stream",
     "text": [
      "KVELDTK\r\n",
      "WESHAGC(+57.02)EK\r\n",
      "RPLLEK\r\n",
      "VADESHKC(+57.02)EK\r\n",
      "LLEWLK\r\n",
      "EC(+57.02)SDKPLLEK\r\n",
      "AESN(+.98)FLEEAK\r\n",
      "LATGM(+15.99)LK\r\n",
      "YKVELDTK\r\n",
      "SHALAEVEDK\r\n"
     ]
    }
   ],
   "source": [
    "# The CSV is what we want:\n",
    "\n",
    "!head /Users/meganduffy/Documents/git-repos/2017-etnp/data/uwpr-oct2018/272_4-19_965m_top+P+BSA-PEAKS18-20181004/272-peaks18-dnopeps.csv"
   ]
  },
  {
   "cell_type": "code",
   "execution_count": 62,
   "metadata": {
    "collapsed": false
   },
   "outputs": [
    {
     "name": "stdout",
     "output_type": "stream",
     "text": [
      "KVELDTK\r\n",
      "WESHAGC(+57.02)EK\r\n",
      "RPLLEK\r\n",
      "VADESHKC(+57.02)EK\r\n",
      "LLEWLK\r\n",
      "EC(+57.02)SDKPLLEK\r\n",
      "AESN(+.98)FLEEAK\r\n",
      "LATGM(+15.99)LK\r\n",
      "YKVELDTK\r\n",
      "SHALAEVEDK\r\n"
     ]
    }
   ],
   "source": [
    "# The text files is also good:\n",
    "\n",
    "!head /Users/meganduffy/Documents/git-repos/2017-etnp/data/uwpr-oct2018/272_4-19_965m_top+P+BSA-PEAKS18-20181004/272-peaks18-dnopeps.txt"
   ]
  },
  {
   "cell_type": "code",
   "execution_count": 63,
   "metadata": {
    "collapsed": false
   },
   "outputs": [],
   "source": [
    "# Removes all characters in parentheses and saves as new file\n",
    "\n",
    "!awk -F \"[()]\" '{ for (i=2; i<NF; i+=2) print $i }' /Users/meganduffy/Documents/git-repos/2017-etnp/data/uwpr-oct2018/272_4-19_965m_top+P+BSA-PEAKS18-20181004/272-peaks18-dnopeps.txt > /Users/meganduffy/Documents/git-repos/2017-etnp/data/uwpr-oct2018/272_4-19_965m_top+P+BSA-PEAKS18-20181004/272-peaks18-dno-mods.txt"
   ]
  },
  {
   "cell_type": "code",
   "execution_count": 64,
   "metadata": {
    "collapsed": false
   },
   "outputs": [
    {
     "name": "stdout",
     "output_type": "stream",
     "text": [
      "+57.02\r\n",
      "+57.02\r\n",
      "+57.02\r\n",
      "+.98\r\n",
      "+15.99\r\n",
      "+.98\r\n",
      "+.98\r\n",
      "+15.99\r\n",
      "+15.99\r\n",
      "+57.02\r\n"
     ]
    }
   ],
   "source": [
    "# How does the modifications text file look?\n",
    "\n",
    "!head /Users/meganduffy/Documents/git-repos/2017-etnp/data/uwpr-oct2018/272_4-19_965m_top+P+BSA-PEAKS18-20181004/272-peaks18-dno-mods.txt"
   ]
  },
  {
   "cell_type": "code",
   "execution_count": 65,
   "metadata": {
    "collapsed": false
   },
   "outputs": [
    {
     "name": "stdout",
     "output_type": "stream",
     "text": [
      "    3687 /Users/meganduffy/Documents/git-repos/2017-etnp/data/uwpr-oct2018/272_4-19_965m_top+P+BSA-PEAKS18-20181004/272-peaks18-dno-mods.txt\r\n"
     ]
    }
   ],
   "source": [
    "# How many modifications for this sample?\n",
    "\n",
    "!wc -l /Users/meganduffy/Documents/git-repos/2017-etnp/data/uwpr-oct2018/272_4-19_965m_top+P+BSA-PEAKS18-20181004/272-peaks18-dno-mods.txt"
   ]
  },
  {
   "cell_type": "code",
   "execution_count": 66,
   "metadata": {
    "collapsed": false
   },
   "outputs": [
    {
     "name": "stdout",
     "output_type": "stream",
     "text": [
      "    6043 /Users/meganduffy/Documents/git-repos/2017-etnp/data/uwpr-oct2018/272_4-19_965m_top+P+BSA-PEAKS18-20181004/272-peaks18-dnopeps.txt\r\n"
     ]
    }
   ],
   "source": [
    "# Compared with how many total peptides?\n",
    "\n",
    "!wc -l /Users/meganduffy/Documents/git-repos/2017-etnp/data/uwpr-oct2018/272_4-19_965m_top+P+BSA-PEAKS18-20181004/272-peaks18-dnopeps.txt"
   ]
  },
  {
   "cell_type": "code",
   "execution_count": 67,
   "metadata": {
    "collapsed": false
   },
   "outputs": [
    {
     "data": {
      "text/plain": [
       "0.6100264725347452"
      ]
     },
     "execution_count": 67,
     "metadata": {},
     "output_type": "execute_result"
    }
   ],
   "source": [
    "# What's the percentage of modified peptides for this sample?\n",
    "\n",
    "3687/6044"
   ]
  },
  {
   "cell_type": "code",
   "execution_count": 68,
   "metadata": {
    "collapsed": true
   },
   "outputs": [],
   "source": [
    "# Get rid of modifications from all peptides and save as a new file\n",
    "# Remove '(+15.99)' and '(+57.02)', (+.98) from sequences\n",
    "\n",
    "!sed 's/(+15.99)//g' /Users/meganduffy/Documents/git-repos/2017-etnp/data/uwpr-oct2018/272_4-19_965m_top+P+BSA-PEAKS18-20181004/272-peaks18-dnopeps.txt \\\n",
    "| sed 's/(+57.02)//g'\\\n",
    "| sed 's/(+.98)//g'\\\n",
    "> /Users/meganduffy/Documents/git-repos/2017-etnp/data/uwpr-oct2018/272_4-19_965m_top+P+BSA-PEAKS18-20181004/272-peaks18-dno-nomods.txt"
   ]
  },
  {
   "cell_type": "code",
   "execution_count": 69,
   "metadata": {
    "collapsed": false
   },
   "outputs": [
    {
     "name": "stdout",
     "output_type": "stream",
     "text": [
      "KVELDTK\r\n",
      "WESHAGCEK\r\n",
      "RPLLEK\r\n",
      "VADESHKCEK\r\n",
      "LLEWLK\r\n",
      "ECSDKPLLEK\r\n",
      "AESNFLEEAK\r\n",
      "LATGMLK\r\n",
      "YKVELDTK\r\n",
      "SHALAEVEDK\r\n"
     ]
    }
   ],
   "source": [
    "!head /Users/meganduffy/Documents/git-repos/2017-etnp/data/uwpr-oct2018/272_4-19_965m_top+P+BSA-PEAKS18-20181004/272-peaks18-dno-nomods.txt"
   ]
  },
  {
   "cell_type": "markdown",
   "metadata": {},
   "source": [
    "## Great! This is what we want. Now it needs to become a script. ##\n",
    "\n",
    "### Running the rest of the October 2018 UWPR (ETNP 2017) samples: ###"
   ]
  },
  {
   "cell_type": "code",
   "execution_count": 73,
   "metadata": {
    "collapsed": false
   },
   "outputs": [
    {
     "name": "stdout",
     "output_type": "stream",
     "text": [
      "272-peaks18-DB-search-psm.csv    272-peaks18-dnopeps.txt\r\n",
      "272-peaks18-dno-mods.txt         272-peaks18-peptide.csv\r\n",
      "272-peaks18-dno-nomods.txt       272-peaks18-protein-peptides.csv\r\n",
      "272-peaks18-dno.csv              272-peaks18-proteins.csv\r\n",
      "272-peaks18-dnopeps.csv          272-peaks18-proteins.fasta\r\n"
     ]
    }
   ],
   "source": [
    "# Viewing the raw and processed files so far for 272\n",
    "# the 'dnopeps', 'dno-mods', and 'dno-nomods' text files are the processed files\n",
    "\n",
    "!ls /Users/meganduffy/Documents/git-repos/2017-etnp/data/uwpr-oct2018/272_4-19_965m_top+P+BSA-PEAKS18-20181004/"
   ]
  },
  {
   "cell_type": "code",
   "execution_count": 74,
   "metadata": {
    "collapsed": false
   },
   "outputs": [
    {
     "name": "stdout",
     "output_type": "stream",
     "text": [
      "\u001b[34m272_4-19_965m_top+P+BSA-PEAKS18-20181004\u001b[m\u001b[m\r\n",
      "\u001b[34m273_4-19_965m_top+P-PEAKS19-20181004\u001b[m\u001b[m\r\n",
      "\u001b[34m278_4-19_265m_top+PA-PEAKS90-20181005\u001b[m\u001b[m\r\n",
      "\u001b[34m278_4-19_265m_top+PA90min-PEAKS105-20181005\u001b[m\u001b[m\r\n",
      "\u001b[34m279_4-19_265m_netwash1of3A-PEAKS86-20181005\u001b[m\u001b[m\r\n",
      "\u001b[34m281_4-19_965m_ctl1of2A-PEAKS82-20181005\u001b[m\u001b[m\r\n",
      "\u001b[34m282_4-19_965m_netwash1of5A-PEAKS98-20181005\u001b[m\u001b[m\r\n",
      "\u001b[34m284_4-19_265m_ctl_A-PEAKS83-20181005\u001b[m\u001b[m\r\n",
      "\u001b[34m334_2-9_94m_nw6_wet_BSA-PEAKS27-20181004\u001b[m\u001b[m\r\n",
      "\u001b[34m335_2-9_94m_nw6_wet_nospike-PEAKS14-20181004\u001b[m\u001b[m\r\n",
      "\u001b[34m336_2-9_94m_nw6_dry_BSA-PEAKS16-20181004\u001b[m\u001b[m\r\n",
      "\u001b[34m337_2-9_94m_nw6_dry_nospike-PEAKS13-20181004\u001b[m\u001b[m\r\n"
     ]
    }
   ],
   "source": [
    "# What else do we have, samplewise?\n",
    "\n",
    "!ls /Users/meganduffy/Documents/git-repos/2017-etnp/data/uwpr-oct2018/"
   ]
  },
  {
   "cell_type": "code",
   "execution_count": 75,
   "metadata": {
    "collapsed": false
   },
   "outputs": [
    {
     "name": "stdout",
     "output_type": "stream",
     "text": [
      "273-peaks19-DB-search -psm.csv   273-peaks19-protein-peptides.csv\r\n",
      "273-peaks19-dno.csv              273-peaks19-proteins.csv\r\n",
      "273-peaks19-peptide.csv          273-peaks19-proteins.fasta\r\n"
     ]
    }
   ],
   "source": [
    "# Show 273 files\n",
    "\n",
    "!ls /Users/meganduffy/Documents/git-repos/2017-etnp/data/uwpr-oct2018/273_4-19_965m_top+P-PEAKS19-20181004/"
   ]
  },
  {
   "cell_type": "code",
   "execution_count": 72,
   "metadata": {
    "collapsed": false
   },
   "outputs": [
    {
     "data": {
      "text/plain": [
       "'/Users/meganduffy/Documents/git-repos/2017-etnp/notebooks'"
      ]
     },
     "execution_count": 72,
     "metadata": {},
     "output_type": "execute_result"
    }
   ],
   "source": [
    "os.getcwd()"
   ]
  },
  {
   "cell_type": "code",
   "execution_count": 77,
   "metadata": {
    "collapsed": true
   },
   "outputs": [],
   "source": [
    "import pandas as pd "
   ]
  },
  {
   "cell_type": "code",
   "execution_count": 79,
   "metadata": {
    "collapsed": false
   },
   "outputs": [],
   "source": [
    "data = pd.read_csv(\"/Users/meganduffy/Documents/git-repos/2017-etnp/data/uwpr-oct2018/273_4-19_965m_top+P-PEAKS19-20181004/273-peaks19-dno.csv\")"
   ]
  },
  {
   "cell_type": "code",
   "execution_count": 80,
   "metadata": {
    "collapsed": true
   },
   "outputs": [],
   "source": [
    "# Keep only peptide column\n",
    "pep = data[[\"Peptide\"]]"
   ]
  },
  {
   "cell_type": "code",
   "execution_count": 81,
   "metadata": {
    "collapsed": true
   },
   "outputs": [],
   "source": [
    "# Write altered dataframe to new csv file\n",
    "# Used header and index parameters to get rid of 'Peptide' header and the indexing\n",
    "\n",
    "pep.to_csv(\"/Users/meganduffy/Documents/git-repos/2017-etnp/data/uwpr-oct2018/273_4-19_965m_top+P-PEAKS19-20181004/273-peaks19-dnopeps.csv\", header=False, index=False)"
   ]
  },
  {
   "cell_type": "code",
   "execution_count": 82,
   "metadata": {
    "collapsed": true
   },
   "outputs": [],
   "source": [
    "# Write altered dataframe to new txt file\n",
    "# Used header and index parameters to get rid of 'Peptide' header and the indexing\n",
    "\n",
    "pep.to_csv(\"/Users/meganduffy/Documents/git-repos/2017-etnp/data/uwpr-oct2018/273_4-19_965m_top+P-PEAKS19-20181004/273-peaks19-dnopeps.txt\", header=False, index=False)"
   ]
  },
  {
   "cell_type": "code",
   "execution_count": 83,
   "metadata": {
    "collapsed": true
   },
   "outputs": [],
   "source": [
    "# Removes all characters in parentheses and saves as new file\n",
    "\n",
    "!awk -F \"[()]\" '{ for (i=2; i<NF; i+=2) print $i }' /Users/meganduffy/Documents/git-repos/2017-etnp/data/uwpr-oct2018/273_4-19_965m_top+P-PEAKS19-20181004/273-peaks19-dnopeps.txt > /Users/meganduffy/Documents/git-repos/2017-etnp/data/uwpr-oct2018/273_4-19_965m_top+P-PEAKS19-20181004/273-peaks19-dno-mods.txt"
   ]
  },
  {
   "cell_type": "code",
   "execution_count": 84,
   "metadata": {
    "collapsed": false
   },
   "outputs": [
    {
     "name": "stdout",
     "output_type": "stream",
     "text": [
      "    3963 /Users/meganduffy/Documents/git-repos/2017-etnp/data/uwpr-oct2018/273_4-19_965m_top+P-PEAKS19-20181004/273-peaks19-dno-mods.txt\r\n"
     ]
    }
   ],
   "source": [
    "# How many modifications for this sample?\n",
    "\n",
    "!wc -l /Users/meganduffy/Documents/git-repos/2017-etnp/data/uwpr-oct2018/273_4-19_965m_top+P-PEAKS19-20181004/273-peaks19-dno-mods.txt"
   ]
  },
  {
   "cell_type": "code",
   "execution_count": 85,
   "metadata": {
    "collapsed": false
   },
   "outputs": [
    {
     "name": "stdout",
     "output_type": "stream",
     "text": [
      "    7611 /Users/meganduffy/Documents/git-repos/2017-etnp/data/uwpr-oct2018/273_4-19_965m_top+P-PEAKS19-20181004/273-peaks19-dnopeps.txt\r\n"
     ]
    }
   ],
   "source": [
    "# Compared with how many total peptides?\n",
    "\n",
    "!wc -l /Users/meganduffy/Documents/git-repos/2017-etnp/data/uwpr-oct2018/273_4-19_965m_top+P-PEAKS19-20181004/273-peaks19-dnopeps.txt"
   ]
  },
  {
   "cell_type": "code",
   "execution_count": 99,
   "metadata": {
    "collapsed": false
   },
   "outputs": [
    {
     "data": {
      "text/plain": [
       "0.5206937327552227"
      ]
     },
     "execution_count": 99,
     "metadata": {},
     "output_type": "execute_result"
    }
   ],
   "source": [
    "# What's the percentage of modified peptides for this sample?\n",
    "\n",
    "3963/7611"
   ]
  },
  {
   "cell_type": "code",
   "execution_count": 87,
   "metadata": {
    "collapsed": true
   },
   "outputs": [],
   "source": [
    "# Get rid of modifications from all peptides and save as a new file\n",
    "# Remove '(+15.99)' and '(+57.02)', (+.98) from sequences\n",
    "\n",
    "!sed 's/(+15.99)//g' /Users/meganduffy/Documents/git-repos/2017-etnp/data/uwpr-oct2018/273_4-19_965m_top+P-PEAKS19-20181004/273-peaks19-dnopeps.txt \\\n",
    "| sed 's/(+57.02)//g'\\\n",
    "| sed 's/(+.98)//g'\\\n",
    "> /Users/meganduffy/Documents/git-repos/2017-etnp/data/uwpr-oct2018/273_4-19_965m_top+P-PEAKS19-20181004/273-peaks19-dno-nomods.txt"
   ]
  },
  {
   "cell_type": "code",
   "execution_count": 88,
   "metadata": {
    "collapsed": false
   },
   "outputs": [
    {
     "name": "stdout",
     "output_type": "stream",
     "text": [
      "LLYEEEK\r\n",
      "EEDLER\r\n",
      "FEDTNLAALHAK\r\n",
      "LLEWLK\r\n",
      "LYEETR\r\n",
      "LVLDLLR\r\n",
      "LENVVNK\r\n",
      "TGCLWPK\r\n",
      "YFELPR\r\n",
      "FFNETK\r\n"
     ]
    }
   ],
   "source": [
    "# Looking OK?\n",
    "\n",
    "!head /Users/meganduffy/Documents/git-repos/2017-etnp/data/uwpr-oct2018/273_4-19_965m_top+P-PEAKS19-20181004/273-peaks19-dno-nomods.txt"
   ]
  },
  {
   "cell_type": "code",
   "execution_count": 89,
   "metadata": {
    "collapsed": false
   },
   "outputs": [
    {
     "name": "stdout",
     "output_type": "stream",
     "text": [
      "273-peaks19-DB-search -psm.csv   273-peaks19-dnopeps.txt\r\n",
      "273-peaks19-dno-mods.txt         273-peaks19-peptide.csv\r\n",
      "273-peaks19-dno-nomods.txt       273-peaks19-protein-peptides.csv\r\n",
      "273-peaks19-dno.csv              273-peaks19-proteins.csv\r\n",
      "273-peaks19-dnopeps.csv          273-peaks19-proteins.fasta\r\n"
     ]
    }
   ],
   "source": [
    "# New files in 273 data directory\n",
    "\n",
    "!ls /Users/meganduffy/Documents/git-repos/2017-etnp/data/uwpr-oct2018/273_4-19_965m_top+P-PEAKS19-20181004"
   ]
  },
  {
   "cell_type": "markdown",
   "metadata": {},
   "source": [
    "## Yes, on to 278 (NOT the 90 min gradient injection) ##"
   ]
  },
  {
   "cell_type": "code",
   "execution_count": 90,
   "metadata": {
    "collapsed": true
   },
   "outputs": [],
   "source": [
    "data = pd.read_csv(\"/Users/meganduffy/Documents/git-repos/2017-etnp/data/uwpr-oct2018/278_4-19_265m_top+PA-PEAKS90-20181005/278-peaks90-dno.csv\")"
   ]
  },
  {
   "cell_type": "code",
   "execution_count": 91,
   "metadata": {
    "collapsed": true
   },
   "outputs": [],
   "source": [
    "# Keep only peptide column\n",
    "pep = data[[\"Peptide\"]]"
   ]
  },
  {
   "cell_type": "code",
   "execution_count": 92,
   "metadata": {
    "collapsed": true
   },
   "outputs": [],
   "source": [
    "# Write altered dataframe to new csv file\n",
    "# Used header and index parameters to get rid of 'Peptide' header and the indexing\n",
    "\n",
    "pep.to_csv(\"/Users/meganduffy/Documents/git-repos/2017-etnp/data/uwpr-oct2018/278_4-19_265m_top+PA-PEAKS90-20181005/278-peaks90-dnopeps.csv\", header=False, index=False)"
   ]
  },
  {
   "cell_type": "code",
   "execution_count": 93,
   "metadata": {
    "collapsed": true
   },
   "outputs": [],
   "source": [
    "# Write altered dataframe to new txt file\n",
    "# Used header and index parameters to get rid of 'Peptide' header and the indexing\n",
    "\n",
    "pep.to_csv(\"/Users/meganduffy/Documents/git-repos/2017-etnp/data/uwpr-oct2018/278_4-19_265m_top+PA-PEAKS90-20181005/278-peaks90-dnopeps.txt\", header=False, index=False)"
   ]
  },
  {
   "cell_type": "code",
   "execution_count": 95,
   "metadata": {
    "collapsed": true
   },
   "outputs": [],
   "source": [
    "# Removes all characters in parentheses and saves as new file\n",
    "\n",
    "!awk -F \"[()]\" '{ for (i=2; i<NF; i+=2) print $i }' /Users/meganduffy/Documents/git-repos/2017-etnp/data/uwpr-oct2018/278_4-19_265m_top+PA-PEAKS90-20181005/278-peaks90-dnopeps.txt > /Users/meganduffy/Documents/git-repos/2017-etnp/data/uwpr-oct2018/278_4-19_265m_top+PA-PEAKS90-20181005/278-peaks90-dno-mods.txt"
   ]
  },
  {
   "cell_type": "code",
   "execution_count": 96,
   "metadata": {
    "collapsed": false
   },
   "outputs": [
    {
     "name": "stdout",
     "output_type": "stream",
     "text": [
      "    3790 /Users/meganduffy/Documents/git-repos/2017-etnp/data/uwpr-oct2018/278_4-19_265m_top+PA-PEAKS90-20181005/278-peaks90-dno-mods.txt\r\n"
     ]
    }
   ],
   "source": [
    "# How many modifications for this sample?\n",
    "\n",
    "!wc -l /Users/meganduffy/Documents/git-repos/2017-etnp/data/uwpr-oct2018/278_4-19_265m_top+PA-PEAKS90-20181005/278-peaks90-dno-mods.txt"
   ]
  },
  {
   "cell_type": "code",
   "execution_count": 97,
   "metadata": {
    "collapsed": false
   },
   "outputs": [
    {
     "name": "stdout",
     "output_type": "stream",
     "text": [
      "    5848 /Users/meganduffy/Documents/git-repos/2017-etnp/data/uwpr-oct2018/278_4-19_265m_top+PA-PEAKS90-20181005/278-peaks90-dnopeps.txt\r\n"
     ]
    }
   ],
   "source": [
    "# Compared with how many total peptides?\n",
    "\n",
    "!wc -l /Users/meganduffy/Documents/git-repos/2017-etnp/data/uwpr-oct2018/278_4-19_265m_top+PA-PEAKS90-20181005/278-peaks90-dnopeps.txt"
   ]
  },
  {
   "cell_type": "code",
   "execution_count": 98,
   "metadata": {
    "collapsed": false
   },
   "outputs": [
    {
     "data": {
      "text/plain": [
       "0.6480848153214774"
      ]
     },
     "execution_count": 98,
     "metadata": {},
     "output_type": "execute_result"
    }
   ],
   "source": [
    "# What's the percentage of modified peptides for this sample?\n",
    "\n",
    "3790/5848"
   ]
  },
  {
   "cell_type": "code",
   "execution_count": 100,
   "metadata": {
    "collapsed": true
   },
   "outputs": [],
   "source": [
    "# Get rid of modifications from all peptides and save as a new file\n",
    "# Remove '(+15.99)' and '(+57.02)', (+.98) from sequences\n",
    "\n",
    "!sed 's/(+15.99)//g' /Users/meganduffy/Documents/git-repos/2017-etnp/data/uwpr-oct2018/278_4-19_265m_top+PA-PEAKS90-20181005/278-peaks90-dnopeps.txt \\\n",
    "| sed 's/(+57.02)//g'\\\n",
    "| sed 's/(+.98)//g'\\\n",
    "> /Users/meganduffy/Documents/git-repos/2017-etnp/data/uwpr-oct2018/278_4-19_265m_top+PA-PEAKS90-20181005/278-peaks90-dno-nomods.txt"
   ]
  },
  {
   "cell_type": "code",
   "execution_count": 101,
   "metadata": {
    "collapsed": false
   },
   "outputs": [
    {
     "name": "stdout",
     "output_type": "stream",
     "text": [
      "AETELVR\r\n",
      "LEDELLAEK\r\n",
      "ENELLAEK\r\n",
      "FSVADLAR\r\n",
      "WEGAEEDVER\r\n",
      "LEDESNLVAQLQK\r\n",
      "LYEEWK\r\n",
      "MALLVMEHK\r\n",
      "LLAEQEK\r\n",
      "SEKENELEQQR\r\n"
     ]
    }
   ],
   "source": [
    "# Looking OK?\n",
    "\n",
    "!head /Users/meganduffy/Documents/git-repos/2017-etnp/data/uwpr-oct2018/278_4-19_265m_top+PA-PEAKS90-20181005/278-peaks90-dno-nomods.txt"
   ]
  },
  {
   "cell_type": "code",
   "execution_count": 102,
   "metadata": {
    "collapsed": false
   },
   "outputs": [
    {
     "name": "stdout",
     "output_type": "stream",
     "text": [
      "278-peaks90-DB-search-psm.csv    278-peaks90-dnopeps.txt\r\n",
      "278-peaks90-dno-mods.txt         278-peaks90-peptide.csv\r\n",
      "278-peaks90-dno-nomods.txt       278-peaks90-protein-peptides.csv\r\n",
      "278-peaks90-dno.csv              278-peaks90-proteins.csv\r\n",
      "278-peaks90-dnopeps.csv          278-peaks90-proteins.fasta\r\n"
     ]
    }
   ],
   "source": [
    "# New files in 278 data directory\n",
    "\n",
    "!ls /Users/meganduffy/Documents/git-repos/2017-etnp/data/uwpr-oct2018/278_4-19_265m_top+PA-PEAKS90-20181005"
   ]
  },
  {
   "cell_type": "markdown",
   "metadata": {},
   "source": [
    "## 279 sample ##"
   ]
  },
  {
   "cell_type": "code",
   "execution_count": 104,
   "metadata": {
    "collapsed": false
   },
   "outputs": [
    {
     "name": "stdout",
     "output_type": "stream",
     "text": [
      "279-peaks86-DB-search-psm.csv    279-peaks86-protein-peptides.csv\r\n",
      "279-peaks86-dno.csv              279-peaks86-proteins.csv\r\n",
      "279-peaks86-peptide.csv          279-peaks86-proteins.fasta\r\n"
     ]
    }
   ],
   "source": [
    "!ls /Users/meganduffy/Documents/git-repos/2017-etnp/data/uwpr-oct2018/279_4-19_265m_netwash1of3A-PEAKS86-20181005"
   ]
  },
  {
   "cell_type": "code",
   "execution_count": 107,
   "metadata": {
    "collapsed": false
   },
   "outputs": [],
   "source": [
    "data = pd.read_csv(\"/Users/meganduffy/Documents/git-repos/2017-etnp/data/uwpr-oct2018/279_4-19_265m_netwash1of3A-PEAKS86-20181005/279-peaks86-dno.csv\")"
   ]
  },
  {
   "cell_type": "code",
   "execution_count": 108,
   "metadata": {
    "collapsed": true
   },
   "outputs": [],
   "source": [
    "# Keep only peptide column\n",
    "pep = data[[\"Peptide\"]]"
   ]
  },
  {
   "cell_type": "code",
   "execution_count": 109,
   "metadata": {
    "collapsed": true
   },
   "outputs": [],
   "source": [
    "# Write altered dataframe to new csv file\n",
    "# Used header and index parameters to get rid of 'Peptide' header and the indexing\n",
    "\n",
    "pep.to_csv(\"/Users/meganduffy/Documents/git-repos/2017-etnp/data/uwpr-oct2018/279_4-19_265m_netwash1of3A-PEAKS86-20181005/279-peaks86-dnopeps.csv\", header=False, index=False)"
   ]
  },
  {
   "cell_type": "code",
   "execution_count": 110,
   "metadata": {
    "collapsed": true
   },
   "outputs": [],
   "source": [
    "# Write altered dataframe to new text file\n",
    "# Used header and index parameters to get rid of 'Peptide' header and the indexing\n",
    "\n",
    "pep.to_csv(\"/Users/meganduffy/Documents/git-repos/2017-etnp/data/uwpr-oct2018/279_4-19_265m_netwash1of3A-PEAKS86-20181005/279-peaks86-dnopeps.txt\", header=False, index=False)"
   ]
  },
  {
   "cell_type": "code",
   "execution_count": 123,
   "metadata": {
    "collapsed": true
   },
   "outputs": [],
   "source": [
    "# Removes all characters in parentheses and saves as new file\n",
    "\n",
    "!awk -F \"[()]\" '{ for (i=2; i<NF; i+=2) print $i }' /Users/meganduffy/Documents/git-repos/2017-etnp/data/uwpr-oct2018/279_4-19_265m_netwash1of3A-PEAKS86-20181005/279-peaks86-dnopeps.txt > /Users/meganduffy/Documents/git-repos/2017-etnp/data/uwpr-oct2018/279_4-19_265m_netwash1of3A-PEAKS86-20181005/279-peaks86-dno-mods.txt"
   ]
  },
  {
   "cell_type": "code",
   "execution_count": 124,
   "metadata": {
    "collapsed": false
   },
   "outputs": [
    {
     "name": "stdout",
     "output_type": "stream",
     "text": [
      "    1275 /Users/meganduffy/Documents/git-repos/2017-etnp/data/uwpr-oct2018/279_4-19_265m_netwash1of3A-PEAKS86-20181005/279-peaks86-dno-mods.txt\r\n"
     ]
    }
   ],
   "source": [
    "# How many modifications for this sample?\n",
    "\n",
    "!wc -l /Users/meganduffy/Documents/git-repos/2017-etnp/data/uwpr-oct2018/279_4-19_265m_netwash1of3A-PEAKS86-20181005/279-peaks86-dno-mods.txt"
   ]
  },
  {
   "cell_type": "code",
   "execution_count": 113,
   "metadata": {
    "collapsed": false
   },
   "outputs": [
    {
     "name": "stdout",
     "output_type": "stream",
     "text": [
      "    2954 /Users/meganduffy/Documents/git-repos/2017-etnp/data/uwpr-oct2018/279_4-19_265m_netwash1of3A-PEAKS86-20181005/279-peaks86-dnopeps.txt\r\n"
     ]
    }
   ],
   "source": [
    "# Compared with how many total peptides?\n",
    "\n",
    "!wc -l /Users/meganduffy/Documents/git-repos/2017-etnp/data/uwpr-oct2018/279_4-19_265m_netwash1of3A-PEAKS86-20181005/279-peaks86-dnopeps.txt"
   ]
  },
  {
   "cell_type": "code",
   "execution_count": 114,
   "metadata": {
    "collapsed": false
   },
   "outputs": [
    {
     "data": {
      "text/plain": [
       "0.4316181448882871"
      ]
     },
     "execution_count": 114,
     "metadata": {},
     "output_type": "execute_result"
    }
   ],
   "source": [
    "# What's the percentage of modified peptides for this sample?\n",
    "\n",
    "1275/2954"
   ]
  },
  {
   "cell_type": "code",
   "execution_count": 115,
   "metadata": {
    "collapsed": true
   },
   "outputs": [],
   "source": [
    "# Get rid of modifications from all peptides and save as a new file\n",
    "# Remove '(+15.99)' and '(+57.02)', (+.98) from sequences\n",
    "\n",
    "!sed 's/(+15.99)//g' /Users/meganduffy/Documents/git-repos/2017-etnp/data/uwpr-oct2018/279_4-19_265m_netwash1of3A-PEAKS86-20181005/279-peaks86-dnopeps.txt \\\n",
    "| sed 's/(+57.02)//g'\\\n",
    "| sed 's/(+.98)//g'\\\n",
    "> /Users/meganduffy/Documents/git-repos/2017-etnp/data/uwpr-oct2018/279_4-19_265m_netwash1of3A-PEAKS86-20181005/279-peaks86-dno-nomods.txt"
   ]
  },
  {
   "cell_type": "code",
   "execution_count": 132,
   "metadata": {
    "collapsed": false
   },
   "outputs": [
    {
     "name": "stdout",
     "output_type": "stream",
     "text": [
      "279-peaks86-DB-search-psm.csv    279-peaks86-dnopeps.txt\r\n",
      "279-peaks86-dno-mods.txt         279-peaks86-peptide.csv\r\n",
      "279-peaks86-dno-nomods.txt       279-peaks86-protein-peptides.csv\r\n",
      "279-peaks86-dno.csv              279-peaks86-proteins.csv\r\n",
      "279-peaks86-dnopeps.csv          279-peaks86-proteins.fasta\r\n"
     ]
    }
   ],
   "source": [
    "# New files in 279 data directory\n",
    "\n",
    "!ls /Users/meganduffy/Documents/git-repos/2017-etnp/data/uwpr-oct2018/279_4-19_265m_netwash1of3A-PEAKS86-20181005"
   ]
  },
  {
   "cell_type": "markdown",
   "metadata": {},
   "source": [
    "## 281 sample (281_4-19_965m_ctl1of2A-PEAKS82-20181005) ##"
   ]
  },
  {
   "cell_type": "code",
   "execution_count": 117,
   "metadata": {
    "collapsed": false
   },
   "outputs": [
    {
     "name": "stdout",
     "output_type": "stream",
     "text": [
      "281-peaks82-DB-search-psm.csv    281-peaks82-protein-peptides.csv\r\n",
      "281-peaks82-dno.csv              281-peaks82-proteins.csv\r\n",
      "281-peaks82-peptide.csv          281-peaks82-proteins.fasta\r\n"
     ]
    }
   ],
   "source": [
    "!ls /Users/meganduffy/Documents/git-repos/2017-etnp/data/uwpr-oct2018/281_4-19_965m_ctl1of2A-PEAKS82-20181005"
   ]
  },
  {
   "cell_type": "code",
   "execution_count": 118,
   "metadata": {
    "collapsed": true
   },
   "outputs": [],
   "source": [
    "data = pd.read_csv(\"/Users/meganduffy/Documents/git-repos/2017-etnp/data/uwpr-oct2018/281_4-19_965m_ctl1of2A-PEAKS82-20181005/281-peaks82-dno.csv\")"
   ]
  },
  {
   "cell_type": "code",
   "execution_count": 119,
   "metadata": {
    "collapsed": true
   },
   "outputs": [],
   "source": [
    "# Keep only peptide column\n",
    "pep = data[[\"Peptide\"]]"
   ]
  },
  {
   "cell_type": "code",
   "execution_count": 120,
   "metadata": {
    "collapsed": true
   },
   "outputs": [],
   "source": [
    "# Write altered dataframe to new csv file\n",
    "# Used header and index parameters to get rid of 'Peptide' header and the indexing\n",
    "\n",
    "pep.to_csv(\"/Users/meganduffy/Documents/git-repos/2017-etnp/data/uwpr-oct2018/281_4-19_965m_ctl1of2A-PEAKS82-20181005/281-peaks82-dnopeps.csv\", header=False, index=False)"
   ]
  },
  {
   "cell_type": "code",
   "execution_count": 121,
   "metadata": {
    "collapsed": true
   },
   "outputs": [],
   "source": [
    "# Write altered dataframe to new text file\n",
    "# Used header and index parameters to get rid of 'Peptide' header and the indexing\n",
    "\n",
    "pep.to_csv(\"/Users/meganduffy/Documents/git-repos/2017-etnp/data/uwpr-oct2018/281_4-19_965m_ctl1of2A-PEAKS82-20181005/281-peaks82-dnopeps.txt\", header=False, index=False)"
   ]
  },
  {
   "cell_type": "code",
   "execution_count": 127,
   "metadata": {
    "collapsed": true
   },
   "outputs": [],
   "source": [
    "# Removes all characters in parentheses and saves as new file\n",
    "\n",
    "!awk -F \"[()]\" '{ for (i=2; i<NF; i+=2) print $i }' /Users/meganduffy/Documents/git-repos/2017-etnp/data/uwpr-oct2018/281_4-19_965m_ctl1of2A-PEAKS82-20181005/281-peaks82-dnopeps.txt > /Users/meganduffy/Documents/git-repos/2017-etnp/data/uwpr-oct2018/281_4-19_965m_ctl1of2A-PEAKS82-20181005/281-peaks82-dno-mods.txt"
   ]
  },
  {
   "cell_type": "code",
   "execution_count": 128,
   "metadata": {
    "collapsed": false
   },
   "outputs": [
    {
     "name": "stdout",
     "output_type": "stream",
     "text": [
      "      68 /Users/meganduffy/Documents/git-repos/2017-etnp/data/uwpr-oct2018/281_4-19_965m_ctl1of2A-PEAKS82-20181005/281-peaks82-dno-mods.txt\r\n"
     ]
    }
   ],
   "source": [
    "# How many modifications for this sample?\n",
    "\n",
    "!wc -l /Users/meganduffy/Documents/git-repos/2017-etnp/data/uwpr-oct2018/281_4-19_965m_ctl1of2A-PEAKS82-20181005/281-peaks82-dno-mods.txt"
   ]
  },
  {
   "cell_type": "code",
   "execution_count": 129,
   "metadata": {
    "collapsed": false
   },
   "outputs": [
    {
     "name": "stdout",
     "output_type": "stream",
     "text": [
      "     126 /Users/meganduffy/Documents/git-repos/2017-etnp/data/uwpr-oct2018/281_4-19_965m_ctl1of2A-PEAKS82-20181005/281-peaks82-dnopeps.txt\r\n"
     ]
    }
   ],
   "source": [
    "# Compared with how many total peptides?\n",
    "\n",
    "!wc -l /Users/meganduffy/Documents/git-repos/2017-etnp/data/uwpr-oct2018/281_4-19_965m_ctl1of2A-PEAKS82-20181005/281-peaks82-dnopeps.txt"
   ]
  },
  {
   "cell_type": "code",
   "execution_count": 130,
   "metadata": {
    "collapsed": false
   },
   "outputs": [
    {
     "data": {
      "text/plain": [
       "0.5396825396825397"
      ]
     },
     "execution_count": 130,
     "metadata": {},
     "output_type": "execute_result"
    }
   ],
   "source": [
    "# What's the percentage of modified peptides for this sample?\n",
    "\n",
    "68/126"
   ]
  },
  {
   "cell_type": "code",
   "execution_count": 131,
   "metadata": {
    "collapsed": true
   },
   "outputs": [],
   "source": [
    "# Get rid of modifications from all peptides and save as a new file\n",
    "# Remove '(+15.99)' and '(+57.02)', (+.98) from sequences\n",
    "\n",
    "!sed 's/(+15.99)//g' /Users/meganduffy/Documents/git-repos/2017-etnp/data/uwpr-oct2018/281_4-19_965m_ctl1of2A-PEAKS82-20181005/281-peaks82-dnopeps.txt \\\n",
    "| sed 's/(+57.02)//g'\\\n",
    "| sed 's/(+.98)//g'\\\n",
    "> /Users/meganduffy/Documents/git-repos/2017-etnp/data/uwpr-oct2018/281_4-19_965m_ctl1of2A-PEAKS82-20181005/281-peaks82-dno-nomods.txt"
   ]
  },
  {
   "cell_type": "code",
   "execution_count": 133,
   "metadata": {
    "collapsed": false
   },
   "outputs": [
    {
     "name": "stdout",
     "output_type": "stream",
     "text": [
      "281-peaks82-DB-search-psm.csv    281-peaks82-dnopeps.txt\r\n",
      "281-peaks82-dno-mods.txt         281-peaks82-peptide.csv\r\n",
      "281-peaks82-dno-nomods.txt       281-peaks82-protein-peptides.csv\r\n",
      "281-peaks82-dno.csv              281-peaks82-proteins.csv\r\n",
      "281-peaks82-dnopeps.csv          281-peaks82-proteins.fasta\r\n"
     ]
    }
   ],
   "source": [
    "# New files in 281 data directory\n",
    "\n",
    "!ls /Users/meganduffy/Documents/git-repos/2017-etnp/data/uwpr-oct2018/281_4-19_965m_ctl1of2A-PEAKS82-20181005"
   ]
  },
  {
   "cell_type": "markdown",
   "metadata": {},
   "source": [
    "## 282 sample (282_4-19_965m_netwash1of5A-PEAKS98-20181005) ##"
   ]
  },
  {
   "cell_type": "code",
   "execution_count": 134,
   "metadata": {
    "collapsed": false
   },
   "outputs": [
    {
     "name": "stdout",
     "output_type": "stream",
     "text": [
      "282-peaks98-DB-search-psm.csv    282-peaks98-protein-peptides.csv\r\n",
      "282-peaks98-dno.csv              282-peaks98-proteins.csv\r\n",
      "282-peaks98-peptide.csv          282-peaks98-proteins.fasta\r\n"
     ]
    }
   ],
   "source": [
    "!ls /Users/meganduffy/Documents/git-repos/2017-etnp/data/uwpr-oct2018/282_4-19_965m_netwash1of5A-PEAKS98-20181005"
   ]
  },
  {
   "cell_type": "code",
   "execution_count": 135,
   "metadata": {
    "collapsed": true
   },
   "outputs": [],
   "source": [
    "data = pd.read_csv(\"/Users/meganduffy/Documents/git-repos/2017-etnp/data/uwpr-oct2018/282_4-19_965m_netwash1of5A-PEAKS98-20181005/282-peaks98-dno.csv\")"
   ]
  },
  {
   "cell_type": "code",
   "execution_count": 136,
   "metadata": {
    "collapsed": true
   },
   "outputs": [],
   "source": [
    "# Keep only peptide column\n",
    "pep = data[[\"Peptide\"]]"
   ]
  },
  {
   "cell_type": "code",
   "execution_count": 137,
   "metadata": {
    "collapsed": true
   },
   "outputs": [],
   "source": [
    "# Write altered dataframe to new csv file\n",
    "# Used header and index parameters to get rid of 'Peptide' header and the indexing\n",
    "\n",
    "pep.to_csv(\"/Users/meganduffy/Documents/git-repos/2017-etnp/data/uwpr-oct2018/282_4-19_965m_netwash1of5A-PEAKS98-20181005/282-peaks98-dnopeps.csv\", header=False, index=False)"
   ]
  },
  {
   "cell_type": "code",
   "execution_count": 138,
   "metadata": {
    "collapsed": true
   },
   "outputs": [],
   "source": [
    "# Write altered dataframe to new txt file\n",
    "# Used header and index parameters to get rid of 'Peptide' header and the indexing\n",
    "\n",
    "pep.to_csv(\"/Users/meganduffy/Documents/git-repos/2017-etnp/data/uwpr-oct2018/282_4-19_965m_netwash1of5A-PEAKS98-20181005/282-peaks98-dnopeps.txt\", header=False, index=False)"
   ]
  },
  {
   "cell_type": "code",
   "execution_count": 139,
   "metadata": {
    "collapsed": true
   },
   "outputs": [],
   "source": [
    "# Removes all characters in parentheses and saves as new file\n",
    "\n",
    "!awk -F \"[()]\" '{ for (i=2; i<NF; i+=2) print $i }' /Users/meganduffy/Documents/git-repos/2017-etnp/data/uwpr-oct2018/282_4-19_965m_netwash1of5A-PEAKS98-20181005/282-peaks98-dnopeps.txt > /Users/meganduffy/Documents/git-repos/2017-etnp/data/uwpr-oct2018/282_4-19_965m_netwash1of5A-PEAKS98-20181005/282-peaks98-dno-mods.txt"
   ]
  },
  {
   "cell_type": "code",
   "execution_count": 140,
   "metadata": {
    "collapsed": false
   },
   "outputs": [
    {
     "name": "stdout",
     "output_type": "stream",
     "text": [
      "    2673 /Users/meganduffy/Documents/git-repos/2017-etnp/data/uwpr-oct2018/282_4-19_965m_netwash1of5A-PEAKS98-20181005/282-peaks98-dno-mods.txt\r\n"
     ]
    }
   ],
   "source": [
    "# How many modifications for this sample?\n",
    "\n",
    "!wc -l /Users/meganduffy/Documents/git-repos/2017-etnp/data/uwpr-oct2018/282_4-19_965m_netwash1of5A-PEAKS98-20181005/282-peaks98-dno-mods.txt"
   ]
  },
  {
   "cell_type": "code",
   "execution_count": 141,
   "metadata": {
    "collapsed": false
   },
   "outputs": [
    {
     "name": "stdout",
     "output_type": "stream",
     "text": [
      "    5635 /Users/meganduffy/Documents/git-repos/2017-etnp/data/uwpr-oct2018/282_4-19_965m_netwash1of5A-PEAKS98-20181005/282-peaks98-dnopeps.txt\r\n"
     ]
    }
   ],
   "source": [
    "# Compared with how many total peptides?\n",
    "\n",
    "!wc -l /Users/meganduffy/Documents/git-repos/2017-etnp/data/uwpr-oct2018/282_4-19_965m_netwash1of5A-PEAKS98-20181005/282-peaks98-dnopeps.txt"
   ]
  },
  {
   "cell_type": "code",
   "execution_count": 142,
   "metadata": {
    "collapsed": false
   },
   "outputs": [
    {
     "data": {
      "text/plain": [
       "0.4743566992014197"
      ]
     },
     "execution_count": 142,
     "metadata": {},
     "output_type": "execute_result"
    }
   ],
   "source": [
    "# What's the percentage of modified peptides for this sample?\n",
    "\n",
    "2673/5635"
   ]
  },
  {
   "cell_type": "code",
   "execution_count": 143,
   "metadata": {
    "collapsed": true
   },
   "outputs": [],
   "source": [
    "# Get rid of modifications from all peptides and save as a new file\n",
    "# Remove '(+15.99)' and '(+57.02)', (+.98) from sequences\n",
    "\n",
    "!sed 's/(+15.99)//g' /Users/meganduffy/Documents/git-repos/2017-etnp/data/uwpr-oct2018/282_4-19_965m_netwash1of5A-PEAKS98-20181005/282-peaks98-dnopeps.txt \\\n",
    "| sed 's/(+57.02)//g'\\\n",
    "| sed 's/(+.98)//g'\\\n",
    "> /Users/meganduffy/Documents/git-repos/2017-etnp/data/uwpr-oct2018/282_4-19_965m_netwash1of5A-PEAKS98-20181005/282-peaks98-dnop-nomods.txt"
   ]
  },
  {
   "cell_type": "code",
   "execution_count": 144,
   "metadata": {
    "collapsed": false
   },
   "outputs": [
    {
     "name": "stdout",
     "output_type": "stream",
     "text": [
      "282-peaks98-DB-search-psm.csv    282-peaks98-dnopeps.txt\r\n",
      "282-peaks98-dno-mods.txt         282-peaks98-peptide.csv\r\n",
      "282-peaks98-dno.csv              282-peaks98-protein-peptides.csv\r\n",
      "282-peaks98-dnop-nomods.txt      282-peaks98-proteins.csv\r\n",
      "282-peaks98-dnopeps.csv          282-peaks98-proteins.fasta\r\n"
     ]
    }
   ],
   "source": [
    "# New files in 282 data directory\n",
    "\n",
    "!ls /Users/meganduffy/Documents/git-repos/2017-etnp/data/uwpr-oct2018/282_4-19_965m_netwash1of5A-PEAKS98-20181005"
   ]
  },
  {
   "cell_type": "markdown",
   "metadata": {},
   "source": [
    "## 282 sample (282_4-19_965m_netwash1of5A-PEAKS98-20181005) ##"
   ]
  }
 ],
 "metadata": {
  "anaconda-cloud": {},
  "kernelspec": {
   "display_name": "Python [default]",
   "language": "python",
   "name": "python3"
  },
  "language_info": {
   "codemirror_mode": {
    "name": "ipython",
    "version": 3
   },
   "file_extension": ".py",
   "mimetype": "text/x-python",
   "name": "python",
   "nbconvert_exporter": "python",
   "pygments_lexer": "ipython3",
   "version": "3.5.2"
  }
 },
 "nbformat": 4,
 "nbformat_minor": 1
}
