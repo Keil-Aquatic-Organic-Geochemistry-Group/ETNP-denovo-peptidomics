{
 "cells": [
  {
   "cell_type": "code",
   "execution_count": 1,
   "metadata": {
    "collapsed": false
   },
   "outputs": [
    {
     "name": "stdout",
     "output_type": "stream",
     "text": [
      "Mon Jun  5 11:20:10 PDT 2017\r\n"
     ]
    }
   ],
   "source": [
    "!date"
   ]
  },
  {
   "cell_type": "code",
   "execution_count": 2,
   "metadata": {
    "collapsed": false
   },
   "outputs": [
    {
     "name": "stdout",
     "output_type": "stream",
     "text": [
      "Software:\r\n",
      "\r\n",
      "    System Software Overview:\r\n",
      "\r\n",
      "      System Version: macOS 10.12.5 (16F73)\r\n",
      "      Kernel Version: Darwin 16.6.0\r\n",
      "      Boot Volume: Macintosh HD\r\n",
      "      Boot Mode: Normal\r\n",
      "      Computer Name: Megan’s MacBook Pro\r\n",
      "      User Name: Megan Duffy (meganduffy)\r\n",
      "      Secure Virtual Memory: Enabled\r\n",
      "      System Integrity Protection: Enabled\r\n",
      "      Time since boot: 10 days 20:09\r\n",
      "\r\n"
     ]
    }
   ],
   "source": [
    "!system_profiler SPSoftwareDataType"
   ]
  },
  {
   "cell_type": "markdown",
   "metadata": {},
   "source": [
    "### I want to use this notebook to document my amino acid count analysis for a MED4 sample. This can later be compared to the AA plots of environmental samples. I'll be using the [MatLab Bioinformatics toolbox](https://www.mathworks.com/help/bioinfo/ref/aacount.html) but I need to do some text manipulation to use tools like AACount."
   ]
  },
  {
   "cell_type": "code",
   "execution_count": 14,
   "metadata": {
    "collapsed": false
   },
   "outputs": [
    {
     "data": {
      "text/plain": [
       "'/Users/meganduffy/Documents/git-repos/2017-etnp/data/05.22.17-peaks'"
      ]
     },
     "execution_count": 14,
     "metadata": {},
     "output_type": "execute_result"
    }
   ],
   "source": [
    "pwd"
   ]
  },
  {
   "cell_type": "code",
   "execution_count": 15,
   "metadata": {
    "collapsed": false
   },
   "outputs": [
    {
     "name": "stdout",
     "output_type": "stream",
     "text": [
      "\u001b[34m05.22.17_100m_noenz\u001b[m\u001b[m/            \u001b[34m05.22.17_55m_noenz\u001b[m\u001b[m/\r\n",
      "\u001b[34m05.22.17_100m_tryp\u001b[m\u001b[m/             \u001b[34m05.22.17_55m_tryp\u001b[m\u001b[m/\r\n",
      "\u001b[34m05.22.17_145m_noenz\u001b[m\u001b[m/            \u001b[34m05.22.17_65m_noenz\u001b[m\u001b[m/\r\n",
      "\u001b[34m05.22.17_145m_tryp\u001b[m\u001b[m/             \u001b[34m05.22.17_65m_tryp\u001b[m\u001b[m/\r\n",
      "\u001b[34m05.22.17_160m_noenz\u001b[m\u001b[m/            AMBIC2_trypsin_2mzmL_80alc.csv\r\n",
      "\u001b[34m05.22.17_160m_tryp\u001b[m\u001b[m/             AMBIC2_trypsin_2mzmL_80alc.txt\r\n",
      "\u001b[34m05.22.17_2500m_noenz\u001b[m\u001b[m/           MED2_trypsin_1raw_80alc.csv\r\n",
      "\u001b[34m05.22.17_2500m_tryp\u001b[m\u001b[m/            MED2_trypsin_1raw_80alc.txt\r\n",
      "\u001b[34m05.22.17_250m_noenz\u001b[m\u001b[m/            \u001b[34mextracted-peptides\u001b[m\u001b[m/\r\n",
      "\u001b[34m05.22.17_250m_tryp\u001b[m\u001b[m/             \u001b[34mtotal-dn\u001b[m\u001b[m/\r\n"
     ]
    }
   ],
   "source": [
    "ls"
   ]
  },
  {
   "cell_type": "code",
   "execution_count": 16,
   "metadata": {
    "collapsed": false
   },
   "outputs": [
    {
     "name": "stdout",
     "output_type": "stream",
     "text": [
      "/Users/meganduffy/Documents/git-repos/2017-etnp/data/05.22.17-peaks/extracted-peptides\n"
     ]
    }
   ],
   "source": [
    "cd extracted-peptides/"
   ]
  },
  {
   "cell_type": "code",
   "execution_count": 17,
   "metadata": {
    "collapsed": false
   },
   "outputs": [
    {
     "name": "stdout",
     "output_type": "stream",
     "text": [
      "AMBIC2_trypsin_2mzmL_80alc_peptides.txt\r\n",
      "MED2_trypsin_1raw_80alc_peptides.txt\r\n"
     ]
    }
   ],
   "source": [
    "ls"
   ]
  },
  {
   "cell_type": "code",
   "execution_count": 18,
   "metadata": {
    "collapsed": false
   },
   "outputs": [
    {
     "name": "stdout",
     "output_type": "stream",
     "text": [
      "KAALEDLALLTQK\r\n",
      "KELDLDTDLGK\r\n",
      "KDLESLDSTNK\r\n",
      "KGFVSELLDK\r\n",
      "HFELLNQK\r\n",
      "KLFTDYQELMK\r\n",
      "LKEDLEWYLPLK\r\n",
      "TPGGLEVLMAFSAK\r\n",
      "YADTHEYVK\r\n",
      "HDYLNSMK\r\n"
     ]
    }
   ],
   "source": [
    "!head MED2_trypsin_1raw_80alc_peptides.txt"
   ]
  },
  {
   "cell_type": "code",
   "execution_count": 19,
   "metadata": {
    "collapsed": true
   },
   "outputs": [],
   "source": [
    "#combine all sequences into a single line:\n",
    "!echo $(cat MED2_trypsin_1raw_80alc_peptides.txt) > MED2_trypsin_1raw_80alc_combine.txt"
   ]
  },
  {
   "cell_type": "code",
   "execution_count": 22,
   "metadata": {
    "collapsed": false
   },
   "outputs": [],
   "source": [
    "#get ride of spaces\n",
    "!cat MED2_trypsin_1raw_80alc_combine.txt | tr -d \" \\t\\n\\r\" > MED2_trypsin_1raw_80alc_scombine.txt"
   ]
  },
  {
   "cell_type": "markdown",
   "metadata": {},
   "source": [
    "### Added a header to the txt file, renamed MED2_trypsin_1raw_80alc_scombineML.txt, and moved to my MATLAB directory:"
   ]
  },
  {
   "cell_type": "code",
   "execution_count": 25,
   "metadata": {
    "collapsed": false
   },
   "outputs": [
    {
     "name": "stdout",
     "output_type": "stream",
     "text": [
      "062016_ETNP_129_peptides_nomod.txt      test.txt\r\n",
      "MED2_trypsin_1raw_80alc_scombineML.txt\r\n"
     ]
    }
   ],
   "source": [
    "ls /Users/meganduffy/Documents/MATLAB/2017-etnp/"
   ]
  },
  {
   "cell_type": "markdown",
   "metadata": {},
   "source": [
    "### Successfully made an amino acid abundance plot!\n",
    "\n",
    "![MatLab AAcount](https://github.com/MeganEDuffy/2017-etnp/blob/master/images/matlab-aacount.png?raw=true)"
   ]
  },
  {
   "cell_type": "markdown",
   "metadata": {},
   "source": [
    "#### Saved the output pie chart in this repos analyses/ dir"
   ]
  },
  {
   "cell_type": "code",
   "execution_count": 28,
   "metadata": {
    "collapsed": false
   },
   "outputs": [
    {
     "name": "stdout",
     "output_type": "stream",
     "text": [
      "05.22.17_peptide-workup.xlsx        MED2_raw1_80alc_aacount.png\r\n",
      "05.26.17_overlaps-noenz.txt         MED2trypsin_1raw_8alc_blastout.csv\r\n",
      "05.26.17_unipept_overlaps.csv       MED2trypsin_1raw_8alc_blastout.txt\r\n",
      "MED2_raw1_80alc_aacount.fig\r\n"
     ]
    }
   ],
   "source": [
    "ls /Users/meganduffy/Documents/git-repos/2017-etnp/analyses/"
   ]
  },
  {
   "cell_type": "markdown",
   "metadata": {},
   "source": [
    "![MED2_rawl_80alc_aacount](https://github.com/MeganEDuffy/2017-etnp/blob/master/analyses/MED2_raw1_80alc_aacount.png?raw=true)"
   ]
  },
  {
   "cell_type": "code",
   "execution_count": null,
   "metadata": {
    "collapsed": true
   },
   "outputs": [],
   "source": []
  }
 ],
 "metadata": {
  "anaconda-cloud": {},
  "kernelspec": {
   "display_name": "Python [default]",
   "language": "python",
   "name": "python3"
  },
  "language_info": {
   "codemirror_mode": {
    "name": "ipython",
    "version": 3
   },
   "file_extension": ".py",
   "mimetype": "text/x-python",
   "name": "python",
   "nbconvert_exporter": "python",
   "pygments_lexer": "ipython3",
   "version": "3.5.2"
  }
 },
 "nbformat": 4,
 "nbformat_minor": 1
}
