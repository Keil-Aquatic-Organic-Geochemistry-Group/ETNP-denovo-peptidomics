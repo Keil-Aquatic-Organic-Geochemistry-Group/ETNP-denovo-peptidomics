{
 "cells": [
  {
   "cell_type": "code",
   "execution_count": 1,
   "metadata": {
    "collapsed": false
   },
   "outputs": [
    {
     "name": "stdout",
     "output_type": "stream",
     "text": [
      "Thu Dec 19 12:10:10 PST 2019\r\n"
     ]
    }
   ],
   "source": [
    "!date"
   ]
  },
  {
   "cell_type": "code",
   "execution_count": 2,
   "metadata": {
    "collapsed": false
   },
   "outputs": [
    {
     "name": "stdout",
     "output_type": "stream",
     "text": [
      "Software:\r\n",
      "\r\n",
      "    System Software Overview:\r\n",
      "\r\n",
      "      System Version: macOS 10.14.6 (18G1012)\r\n",
      "      Kernel Version: Darwin 18.7.0\r\n",
      "      Boot Volume: Macintosh HD\r\n",
      "      Boot Mode: Normal\r\n",
      "      Computer Name: Megan’s MacBook Pro (2)\r\n",
      "      User Name: Megan Duffy (meganduffy)\r\n",
      "      Secure Virtual Memory: Enabled\r\n",
      "      System Integrity Protection: Enabled\r\n",
      "      Time since boot: 3 days 1:01\r\n",
      "\r\n"
     ]
    }
   ],
   "source": [
    "!system_profiler SPSoftwareDataType"
   ]
  },
  {
   "cell_type": "markdown",
   "metadata": {},
   "source": [
    "### Notebook to document text extraction and editing of UWPR May 2017 ETNP 2017\n",
    "### JA9-14 McLane samples - 238 thu 245 no enzyme searched db peptides\n",
    "### Exported the results of PEAKS 8.5 searches into Git ETNP 2017 data directory:"
   ]
  },
  {
   "cell_type": "code",
   "execution_count": 4,
   "metadata": {
    "collapsed": false
   },
   "outputs": [
    {
     "name": "stdout",
     "output_type": "stream",
     "text": [
      "243-peaks100-noenz-dno-mods.txt   243-peaks100-noenz-dnopeps.txt\r\n",
      "243-peaks100-noenz-dno-nomods.txt 243-peaks100-noenz-peptide.csv\r\n"
     ]
    }
   ],
   "source": [
    "!ls /Users/meganduffy/Documents/git-repos/2017-etnp/data/uwpr-may2017/UWPR-May2017-noenz/UWPR-etnp-ja14-243-20170531-NOENZ-PEAKS100/"
   ]
  },
  {
   "cell_type": "code",
   "execution_count": 5,
   "metadata": {
    "collapsed": true
   },
   "outputs": [],
   "source": [
    "import os"
   ]
  },
  {
   "cell_type": "code",
   "execution_count": 6,
   "metadata": {
    "collapsed": false
   },
   "outputs": [
    {
     "data": {
      "text/plain": [
       "'/Users/meganduffy/Documents/git-repos/2017-etnp/notebooks'"
      ]
     },
     "execution_count": 6,
     "metadata": {},
     "output_type": "execute_result"
    }
   ],
   "source": [
    "os.getcwd()"
   ]
  },
  {
   "cell_type": "code",
   "execution_count": 7,
   "metadata": {
    "collapsed": true
   },
   "outputs": [],
   "source": [
    "import pandas as pd"
   ]
  },
  {
   "cell_type": "code",
   "execution_count": 8,
   "metadata": {
    "collapsed": false
   },
   "outputs": [
    {
     "data": {
      "text/plain": [
       "'0.18.1'"
      ]
     },
     "execution_count": 8,
     "metadata": {},
     "output_type": "execute_result"
    }
   ],
   "source": [
    "pd.__version__"
   ]
  },
  {
   "cell_type": "code",
   "execution_count": 10,
   "metadata": {
    "collapsed": false
   },
   "outputs": [],
   "source": [
    "data = pd.read_csv(\"/Users/meganduffy/Documents/git-repos/2017-etnp/data/uwpr-may2017/UWPR-May2017-noenz/UWPR-etnp-ja14-243-20170531-NOENZ-PEAKS100/243-peaks100-noenz-peptide.csv\")"
   ]
  },
  {
   "cell_type": "code",
   "execution_count": 11,
   "metadata": {
    "collapsed": false
   },
   "outputs": [
    {
     "data": {
      "text/html": [
       "<div>\n",
       "<table border=\"1\" class=\"dataframe\">\n",
       "  <thead>\n",
       "    <tr style=\"text-align: right;\">\n",
       "      <th></th>\n",
       "      <th>Peptide</th>\n",
       "      <th>-10lgP</th>\n",
       "      <th>Mass</th>\n",
       "      <th>Length</th>\n",
       "      <th>ppm</th>\n",
       "      <th>m/z</th>\n",
       "      <th>RT</th>\n",
       "      <th>Area etnp-ja14-20170531</th>\n",
       "      <th>Fraction</th>\n",
       "      <th>Scan</th>\n",
       "      <th>Source File</th>\n",
       "      <th>#Spec</th>\n",
       "      <th>#Spec etnp-ja14-20170531</th>\n",
       "      <th>Accession</th>\n",
       "      <th>PTM</th>\n",
       "      <th>AScore</th>\n",
       "    </tr>\n",
       "  </thead>\n",
       "  <tbody>\n",
       "    <tr>\n",
       "      <th>0</th>\n",
       "      <td>AIQQQIENPLAQQILSGELVPGK</td>\n",
       "      <td>83.59</td>\n",
       "      <td>2473.3540</td>\n",
       "      <td>23</td>\n",
       "      <td>1.6</td>\n",
       "      <td>1237.6863</td>\n",
       "      <td>98.93</td>\n",
       "      <td>14500000.0</td>\n",
       "      <td>6</td>\n",
       "      <td>31180</td>\n",
       "      <td>20170531_ETNP_JA14_01.raw</td>\n",
       "      <td>3</td>\n",
       "      <td>3</td>\n",
       "      <td>54036848</td>\n",
       "      <td>NaN</td>\n",
       "      <td>NaN</td>\n",
       "    </tr>\n",
       "    <tr>\n",
       "      <th>1</th>\n",
       "      <td>LPQVEGTGGDVQPSQDLVR</td>\n",
       "      <td>82.35</td>\n",
       "      <td>1994.0068</td>\n",
       "      <td>19</td>\n",
       "      <td>0.6</td>\n",
       "      <td>998.0113</td>\n",
       "      <td>62.17</td>\n",
       "      <td>142000000.0</td>\n",
       "      <td>6</td>\n",
       "      <td>17735</td>\n",
       "      <td>20170531_ETNP_JA14_01.raw</td>\n",
       "      <td>6</td>\n",
       "      <td>6</td>\n",
       "      <td>54036848</td>\n",
       "      <td>NaN</td>\n",
       "      <td>NaN</td>\n",
       "    </tr>\n",
       "    <tr>\n",
       "      <th>2</th>\n",
       "      <td>VIGQNEAVDAVSNAIR</td>\n",
       "      <td>58.66</td>\n",
       "      <td>1654.8638</td>\n",
       "      <td>16</td>\n",
       "      <td>-0.8</td>\n",
       "      <td>828.4385</td>\n",
       "      <td>73.81</td>\n",
       "      <td>134000000.0</td>\n",
       "      <td>6</td>\n",
       "      <td>22093</td>\n",
       "      <td>20170531_ETNP_JA14_01.raw</td>\n",
       "      <td>3</td>\n",
       "      <td>3</td>\n",
       "      <td>54036848</td>\n",
       "      <td>NaN</td>\n",
       "      <td>NaN</td>\n",
       "    </tr>\n",
       "    <tr>\n",
       "      <th>3</th>\n",
       "      <td>LGEHNIDVLEGNEQFINAAK</td>\n",
       "      <td>56.12</td>\n",
       "      <td>2210.0967</td>\n",
       "      <td>20</td>\n",
       "      <td>0.9</td>\n",
       "      <td>737.7068</td>\n",
       "      <td>76.49</td>\n",
       "      <td>37300000.0</td>\n",
       "      <td>6</td>\n",
       "      <td>23079</td>\n",
       "      <td>20170531_ETNP_JA14_01.raw</td>\n",
       "      <td>3</td>\n",
       "      <td>3</td>\n",
       "      <td>|#CONTAM#TRYP_PIG|</td>\n",
       "      <td>NaN</td>\n",
       "      <td>NaN</td>\n",
       "    </tr>\n",
       "    <tr>\n",
       "      <th>4</th>\n",
       "      <td>PGGYQANALAQR</td>\n",
       "      <td>49.31</td>\n",
       "      <td>1244.6261</td>\n",
       "      <td>12</td>\n",
       "      <td>-0.1</td>\n",
       "      <td>623.3203</td>\n",
       "      <td>43.25</td>\n",
       "      <td>263000.0</td>\n",
       "      <td>6</td>\n",
       "      <td>12142</td>\n",
       "      <td>20170531_ETNP_JA14_01.raw</td>\n",
       "      <td>1</td>\n",
       "      <td>1</td>\n",
       "      <td>WP_018047569</td>\n",
       "      <td>NaN</td>\n",
       "      <td>NaN</td>\n",
       "    </tr>\n",
       "  </tbody>\n",
       "</table>\n",
       "</div>"
      ],
      "text/plain": [
       "                   Peptide  -10lgP       Mass  Length  ppm        m/z     RT  \\\n",
       "0  AIQQQIENPLAQQILSGELVPGK   83.59  2473.3540      23  1.6  1237.6863  98.93   \n",
       "1      LPQVEGTGGDVQPSQDLVR   82.35  1994.0068      19  0.6   998.0113  62.17   \n",
       "2         VIGQNEAVDAVSNAIR   58.66  1654.8638      16 -0.8   828.4385  73.81   \n",
       "3     LGEHNIDVLEGNEQFINAAK   56.12  2210.0967      20  0.9   737.7068  76.49   \n",
       "4             PGGYQANALAQR   49.31  1244.6261      12 -0.1   623.3203  43.25   \n",
       "\n",
       "   Area etnp-ja14-20170531  Fraction   Scan                Source File  #Spec  \\\n",
       "0               14500000.0         6  31180  20170531_ETNP_JA14_01.raw      3   \n",
       "1              142000000.0         6  17735  20170531_ETNP_JA14_01.raw      6   \n",
       "2              134000000.0         6  22093  20170531_ETNP_JA14_01.raw      3   \n",
       "3               37300000.0         6  23079  20170531_ETNP_JA14_01.raw      3   \n",
       "4                 263000.0         6  12142  20170531_ETNP_JA14_01.raw      1   \n",
       "\n",
       "   #Spec etnp-ja14-20170531           Accession  PTM AScore  \n",
       "0                         3            54036848  NaN    NaN  \n",
       "1                         6            54036848  NaN    NaN  \n",
       "2                         3            54036848  NaN    NaN  \n",
       "3                         3  |#CONTAM#TRYP_PIG|  NaN    NaN  \n",
       "4                         1        WP_018047569  NaN    NaN  "
      ]
     },
     "execution_count": 11,
     "metadata": {},
     "output_type": "execute_result"
    }
   ],
   "source": [
    "data.head()"
   ]
  },
  {
   "cell_type": "code",
   "execution_count": 12,
   "metadata": {
    "collapsed": true
   },
   "outputs": [],
   "source": [
    "# Keep only peptide column\n",
    "pep = data[[\"Peptide\"]]"
   ]
  },
  {
   "cell_type": "code",
   "execution_count": 13,
   "metadata": {
    "collapsed": false
   },
   "outputs": [
    {
     "data": {
      "text/html": [
       "<div>\n",
       "<table border=\"1\" class=\"dataframe\">\n",
       "  <thead>\n",
       "    <tr style=\"text-align: right;\">\n",
       "      <th></th>\n",
       "      <th>Peptide</th>\n",
       "    </tr>\n",
       "  </thead>\n",
       "  <tbody>\n",
       "    <tr>\n",
       "      <th>0</th>\n",
       "      <td>AIQQQIENPLAQQILSGELVPGK</td>\n",
       "    </tr>\n",
       "    <tr>\n",
       "      <th>1</th>\n",
       "      <td>LPQVEGTGGDVQPSQDLVR</td>\n",
       "    </tr>\n",
       "    <tr>\n",
       "      <th>2</th>\n",
       "      <td>VIGQNEAVDAVSNAIR</td>\n",
       "    </tr>\n",
       "    <tr>\n",
       "      <th>3</th>\n",
       "      <td>LGEHNIDVLEGNEQFINAAK</td>\n",
       "    </tr>\n",
       "    <tr>\n",
       "      <th>4</th>\n",
       "      <td>PGGYQANALAQR</td>\n",
       "    </tr>\n",
       "  </tbody>\n",
       "</table>\n",
       "</div>"
      ],
      "text/plain": [
       "                   Peptide\n",
       "0  AIQQQIENPLAQQILSGELVPGK\n",
       "1      LPQVEGTGGDVQPSQDLVR\n",
       "2         VIGQNEAVDAVSNAIR\n",
       "3     LGEHNIDVLEGNEQFINAAK\n",
       "4             PGGYQANALAQR"
      ]
     },
     "execution_count": 13,
     "metadata": {},
     "output_type": "execute_result"
    }
   ],
   "source": [
    "pep.head()"
   ]
  },
  {
   "cell_type": "code",
   "execution_count": 14,
   "metadata": {
    "collapsed": true
   },
   "outputs": [],
   "source": [
    "# Write altered dataframe to new txt file\n",
    "# Used header and index parameters to get rid of 'Peptide' header and the indexing\n",
    "\n",
    "pep.to_csv(\"/Users/meganduffy/Documents/git-repos/2017-etnp/data/uwpr-may2017/UWPR-May2017-noenz/UWPR-etnp-ja14-243-20170531-NOENZ-PEAKS100/243-peaks100-noenz-dbpeps.txt\", header=False, index=False)"
   ]
  },
  {
   "cell_type": "code",
   "execution_count": 16,
   "metadata": {
    "collapsed": false
   },
   "outputs": [
    {
     "name": "stdout",
     "output_type": "stream",
     "text": [
      "AIQQQIENPLAQQILSGELVPGK\r\n",
      "LPQVEGTGGDVQPSQDLVR\r\n",
      "VIGQNEAVDAVSNAIR\r\n",
      "LGEHNIDVLEGNEQFINAAK\r\n",
      "PGGYQANALAQR\r\n",
      "SSGSSYPSLLQC(+57.02)LK\r\n",
      "ILVERLDEDEQTTSGGIIIPDTAK\r\n",
      "IITHPNFNGNTLDNDIM(+15.99)LIK\r\n",
      "PETISKEPLGPVTR\r\n",
      "ADIKAVKVSG\r\n"
     ]
    }
   ],
   "source": [
    "!head /Users/meganduffy/Documents/git-repos/2017-etnp/data/uwpr-may2017/UWPR-May2017-noenz/UWPR-etnp-ja14-243-20170531-NOENZ-PEAKS100/243-peaks100-noenz-dbpeps.txt"
   ]
  },
  {
   "cell_type": "code",
   "execution_count": 17,
   "metadata": {
    "collapsed": true
   },
   "outputs": [],
   "source": [
    "# Removes all characters in parentheses and saves as new file\n",
    "\n",
    "!awk -F \"[()]\" '{ for (i=2; i<NF; i+=2) print $i }' /Users/meganduffy/Documents/git-repos/2017-etnp/data/uwpr-may2017/UWPR-May2017-noenz/UWPR-etnp-ja14-243-20170531-NOENZ-PEAKS100/243-peaks100-noenz-dbpeps.txt > /Users/meganduffy/Documents/git-repos/2017-etnp/data/uwpr-may2017/UWPR-May2017-noenz/UWPR-etnp-ja14-243-20170531-NOENZ-PEAKS100/243-peaks100-noenz-db-mods.txt"
   ]
  },
  {
   "cell_type": "code",
   "execution_count": 18,
   "metadata": {
    "collapsed": false
   },
   "outputs": [
    {
     "name": "stdout",
     "output_type": "stream",
     "text": [
      "+57.02\r\n",
      "+15.99\r\n",
      "+57.02\r\n",
      "+57.02\r\n",
      "+15.99\r\n",
      "+15.99\r\n",
      "+15.99\r\n",
      "+15.99\r\n",
      "+15.99\r\n",
      "+57.02\r\n"
     ]
    }
   ],
   "source": [
    "# How does the modifications text file look?\n",
    "\n",
    "!head /Users/meganduffy/Documents/git-repos/2017-etnp/data/uwpr-may2017/UWPR-May2017-noenz/UWPR-etnp-ja14-243-20170531-NOENZ-PEAKS100/243-peaks100-noenz-db-mods.txt"
   ]
  },
  {
   "cell_type": "code",
   "execution_count": 19,
   "metadata": {
    "collapsed": false
   },
   "outputs": [
    {
     "name": "stdout",
     "output_type": "stream",
     "text": [
      "      23 /Users/meganduffy/Documents/git-repos/2017-etnp/data/uwpr-may2017/UWPR-May2017-noenz/UWPR-etnp-ja14-243-20170531-NOENZ-PEAKS100/243-peaks100-noenz-db-mods.txt\r\n"
     ]
    }
   ],
   "source": [
    "# How many modifications for this sample?\n",
    "\n",
    "!wc -l /Users/meganduffy/Documents/git-repos/2017-etnp/data/uwpr-may2017/UWPR-May2017-noenz/UWPR-etnp-ja14-243-20170531-NOENZ-PEAKS100/243-peaks100-noenz-db-mods.txt"
   ]
  },
  {
   "cell_type": "code",
   "execution_count": 20,
   "metadata": {
    "collapsed": false
   },
   "outputs": [
    {
     "name": "stdout",
     "output_type": "stream",
     "text": [
      "     437 /Users/meganduffy/Documents/git-repos/2017-etnp/data/uwpr-may2017/UWPR-May2017-noenz/UWPR-etnp-ja14-243-20170531-NOENZ-PEAKS100/243-peaks100-noenz-dbpeps.txt\r\n"
     ]
    }
   ],
   "source": [
    "# Compared with how many total peptides?\n",
    "\n",
    "!wc -l /Users/meganduffy/Documents/git-repos/2017-etnp/data/uwpr-may2017/UWPR-May2017-noenz/UWPR-etnp-ja14-243-20170531-NOENZ-PEAKS100/243-peaks100-noenz-dbpeps.txt"
   ]
  },
  {
   "cell_type": "code",
   "execution_count": 21,
   "metadata": {
    "collapsed": false
   },
   "outputs": [
    {
     "data": {
      "text/plain": [
       "0.05263157894736842"
      ]
     },
     "execution_count": 21,
     "metadata": {},
     "output_type": "execute_result"
    }
   ],
   "source": [
    "# What's the percentage of modified peptides for this sample?\n",
    "\n",
    "23/437"
   ]
  },
  {
   "cell_type": "code",
   "execution_count": 22,
   "metadata": {
    "collapsed": true
   },
   "outputs": [],
   "source": [
    "# Get rid of modifications from all peptides and save as a new file\n",
    "# Remove '(+15.99)' and '(+57.02)', (+.98) from sequences\n",
    "\n",
    "!sed 's/(+15.99)//g' /Users/meganduffy/Documents/git-repos/2017-etnp/data/uwpr-may2017/UWPR-May2017-noenz/UWPR-etnp-ja14-243-20170531-NOENZ-PEAKS100/243-peaks100-noenz-dbpeps.txt \\\n",
    "| sed 's/(+57.02)//g'\\\n",
    "| sed 's/(+.98)//g'\\\n",
    "> /Users/meganduffy/Documents/git-repos/2017-etnp/data/uwpr-may2017/UWPR-May2017-noenz/UWPR-etnp-ja14-243-20170531-NOENZ-PEAKS100/243-peaks100-noenz-db-nomods.txt"
   ]
  },
  {
   "cell_type": "code",
   "execution_count": 23,
   "metadata": {
    "collapsed": false
   },
   "outputs": [
    {
     "name": "stdout",
     "output_type": "stream",
     "text": [
      "AIQQQIENPLAQQILSGELVPGK\r\n",
      "LPQVEGTGGDVQPSQDLVR\r\n",
      "VIGQNEAVDAVSNAIR\r\n",
      "LGEHNIDVLEGNEQFINAAK\r\n",
      "PGGYQANALAQR\r\n",
      "SSGSSYPSLLQCLK\r\n",
      "ILVERLDEDEQTTSGGIIIPDTAK\r\n",
      "IITHPNFNGNTLDNDIMLIK\r\n",
      "PETISKEPLGPVTR\r\n",
      "ADIKAVKVSG\r\n"
     ]
    }
   ],
   "source": [
    "!head /Users/meganduffy/Documents/git-repos/2017-etnp/data/uwpr-may2017/UWPR-May2017-noenz/UWPR-etnp-ja14-243-20170531-NOENZ-PEAKS100/243-peaks100-noenz-db-nomods.txt"
   ]
  },
  {
   "cell_type": "code",
   "execution_count": 24,
   "metadata": {
    "collapsed": false
   },
   "outputs": [
    {
     "name": "stdout",
     "output_type": "stream",
     "text": [
      "243-peaks100-noenz-db-mods.txt    243-peaks100-noenz-dno-nomods.txt\r\n",
      "243-peaks100-noenz-db-nomods.txt  243-peaks100-noenz-dnopeps.txt\r\n",
      "243-peaks100-noenz-dbpeps.txt     243-peaks100-noenz-peptide.csv\r\n",
      "243-peaks100-noenz-dno-mods.txt\r\n"
     ]
    }
   ],
   "source": [
    "!ls /Users/meganduffy/Documents/git-repos/2017-etnp/data/uwpr-may2017/UWPR-May2017-noenz/UWPR-etnp-ja14-243-20170531-NOENZ-PEAKS100/"
   ]
  },
  {
   "cell_type": "code",
   "execution_count": null,
   "metadata": {
    "collapsed": true
   },
   "outputs": [],
   "source": []
  }
 ],
 "metadata": {
  "kernelspec": {
   "display_name": "Python [default]",
   "language": "python",
   "name": "python3"
  },
  "language_info": {
   "codemirror_mode": {
    "name": "ipython",
    "version": 3
   },
   "file_extension": ".py",
   "mimetype": "text/x-python",
   "name": "python",
   "nbconvert_exporter": "python",
   "pygments_lexer": "ipython3",
   "version": "3.5.2"
  }
 },
 "nbformat": 4,
 "nbformat_minor": 1
}
