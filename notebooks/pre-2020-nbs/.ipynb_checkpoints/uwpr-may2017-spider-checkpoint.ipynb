{
 "cells": [
  {
   "cell_type": "code",
   "execution_count": 1,
   "metadata": {
    "collapsed": false
   },
   "outputs": [
    {
     "name": "stdout",
     "output_type": "stream",
     "text": [
      "Wed Aug  7 15:05:10 PDT 2019\r\n"
     ]
    }
   ],
   "source": [
    "!date"
   ]
  },
  {
   "cell_type": "markdown",
   "metadata": {},
   "source": [
    "### Notebook to process PEAKS 8.5 SPIDER runs for May 2017 UWPR samples.\n",
    "### Starting with sample relevant to De Novo paper, 243 (JA14, 1000 m sus).\n",
    "### Exported the results of PEAKS 8.5 searches into Git ETNP 2017 data directory.\n",
    "### Database ID'd peptides are in running#-peaks#-spider-peptide.csv files and de novo only peptides are in running#-peaks#-spider-dno.csv.\n",
    "### SPIDER modifications are only in peptide files."
   ]
  },
  {
   "cell_type": "code",
   "execution_count": 2,
   "metadata": {
    "collapsed": false
   },
   "outputs": [
    {
     "name": "stdout",
     "output_type": "stream",
     "text": [
      "243-spider102-DB-search-psm.csv    243-spider102-protein-peptides.csv\r\n",
      "243-spider102-dno.csv              243-spider102-proteins.csv\r\n",
      "243-spider102-peptide.csv          243-spider102-proteins.fasta\r\n"
     ]
    }
   ],
   "source": [
    "    ! ls /Users/meganduffy/Documents/git-repos/2017-etnp/data/uwpr-may2017/UWPR-May2017-SPIDER/243-965m-ETNP-SPIDER-102/"
   ]
  },
  {
   "cell_type": "markdown",
   "metadata": {},
   "source": [
    "### Starting with sample 243: ETNP 2017 P2 McLane GF75 1000 m"
   ]
  },
  {
   "cell_type": "code",
   "execution_count": 2,
   "metadata": {
    "collapsed": true
   },
   "outputs": [],
   "source": [
    "import os"
   ]
  },
  {
   "cell_type": "code",
   "execution_count": 3,
   "metadata": {
    "collapsed": false
   },
   "outputs": [
    {
     "data": {
      "text/plain": [
       "'/Users/meganduffy/Documents/git-repos/2017-etnp/notebooks'"
      ]
     },
     "execution_count": 3,
     "metadata": {},
     "output_type": "execute_result"
    }
   ],
   "source": [
    "os.getcwd()"
   ]
  },
  {
   "cell_type": "code",
   "execution_count": 4,
   "metadata": {
    "collapsed": true
   },
   "outputs": [],
   "source": [
    "import pandas as pd"
   ]
  },
  {
   "cell_type": "code",
   "execution_count": 5,
   "metadata": {
    "collapsed": false
   },
   "outputs": [
    {
     "data": {
      "text/plain": [
       "'0.18.1'"
      ]
     },
     "execution_count": 5,
     "metadata": {},
     "output_type": "execute_result"
    }
   ],
   "source": [
    "pd.__version__"
   ]
  },
  {
   "cell_type": "code",
   "execution_count": 6,
   "metadata": {
    "collapsed": true
   },
   "outputs": [],
   "source": [
    "data = pd.read_csv(\"/Users/meganduffy/Documents/git-repos/2017-etnp/data/uwpr-may2017/UWPR-May2017-SPIDER/243-965m-ETNP-SPIDER-102/243-spider102-peptide.csv\")"
   ]
  },
  {
   "cell_type": "code",
   "execution_count": 7,
   "metadata": {
    "collapsed": false
   },
   "outputs": [
    {
     "data": {
      "text/html": [
       "<div>\n",
       "<table border=\"1\" class=\"dataframe\">\n",
       "  <thead>\n",
       "    <tr style=\"text-align: right;\">\n",
       "      <th></th>\n",
       "      <th>Peptide</th>\n",
       "      <th>-10lgP</th>\n",
       "      <th>Mass</th>\n",
       "      <th>Length</th>\n",
       "      <th>ppm</th>\n",
       "      <th>m/z</th>\n",
       "      <th>RT</th>\n",
       "      <th>Area etnp-ja14-20170531</th>\n",
       "      <th>Fraction</th>\n",
       "      <th>Scan</th>\n",
       "      <th>Source File</th>\n",
       "      <th>#Spec</th>\n",
       "      <th>#Spec etnp-ja14-20170531</th>\n",
       "      <th>Accession</th>\n",
       "      <th>PTM</th>\n",
       "      <th>AScore</th>\n",
       "    </tr>\n",
       "  </thead>\n",
       "  <tbody>\n",
       "    <tr>\n",
       "      <th>0</th>\n",
       "      <td>AIQQQIENPLAQQILSGELVPGK</td>\n",
       "      <td>83.59</td>\n",
       "      <td>2473.3540</td>\n",
       "      <td>23</td>\n",
       "      <td>1.6</td>\n",
       "      <td>1237.6863</td>\n",
       "      <td>98.93</td>\n",
       "      <td>14500000.0</td>\n",
       "      <td>6</td>\n",
       "      <td>31180</td>\n",
       "      <td>20170531_ETNP_JA14_01.raw</td>\n",
       "      <td>3</td>\n",
       "      <td>3</td>\n",
       "      <td>54036848</td>\n",
       "      <td>NaN</td>\n",
       "      <td>NaN</td>\n",
       "    </tr>\n",
       "    <tr>\n",
       "      <th>1</th>\n",
       "      <td>LPQVEGTGGDVQPSQDLVR</td>\n",
       "      <td>82.35</td>\n",
       "      <td>1994.0068</td>\n",
       "      <td>19</td>\n",
       "      <td>0.6</td>\n",
       "      <td>998.0113</td>\n",
       "      <td>62.17</td>\n",
       "      <td>142000000.0</td>\n",
       "      <td>6</td>\n",
       "      <td>17735</td>\n",
       "      <td>20170531_ETNP_JA14_01.raw</td>\n",
       "      <td>6</td>\n",
       "      <td>6</td>\n",
       "      <td>54036848</td>\n",
       "      <td>NaN</td>\n",
       "      <td>NaN</td>\n",
       "    </tr>\n",
       "    <tr>\n",
       "      <th>2</th>\n",
       "      <td>SC(+57.02)AAAGTEC(+57.02)LISGWGNTK(+28.03)</td>\n",
       "      <td>67.47</td>\n",
       "      <td>1909.8662</td>\n",
       "      <td>18</td>\n",
       "      <td>0.9</td>\n",
       "      <td>955.9412</td>\n",
       "      <td>75.08</td>\n",
       "      <td>40400000.0</td>\n",
       "      <td>6</td>\n",
       "      <td>22560</td>\n",
       "      <td>20170531_ETNP_JA14_01.raw</td>\n",
       "      <td>4</td>\n",
       "      <td>4</td>\n",
       "      <td>|#CONTAM#TRYP_PIG|</td>\n",
       "      <td>Carbamidomethylation; Dimethylation(KR)</td>\n",
       "      <td>C2:Carbamidomethylation:1000.00;C9:Carbamidome...</td>\n",
       "    </tr>\n",
       "    <tr>\n",
       "      <th>3</th>\n",
       "      <td>VIGQNEAVDAVSNAIR</td>\n",
       "      <td>58.66</td>\n",
       "      <td>1654.8638</td>\n",
       "      <td>16</td>\n",
       "      <td>-0.8</td>\n",
       "      <td>828.4385</td>\n",
       "      <td>73.81</td>\n",
       "      <td>134000000.0</td>\n",
       "      <td>6</td>\n",
       "      <td>22093</td>\n",
       "      <td>20170531_ETNP_JA14_01.raw</td>\n",
       "      <td>3</td>\n",
       "      <td>3</td>\n",
       "      <td>54036848</td>\n",
       "      <td>NaN</td>\n",
       "      <td>NaN</td>\n",
       "    </tr>\n",
       "    <tr>\n",
       "      <th>4</th>\n",
       "      <td>AIQQQIE(+21.98)NPLAQQILSGELVPGK</td>\n",
       "      <td>57.95</td>\n",
       "      <td>2495.3359</td>\n",
       "      <td>23</td>\n",
       "      <td>-0.1</td>\n",
       "      <td>832.7858</td>\n",
       "      <td>98.76</td>\n",
       "      <td>261000.0</td>\n",
       "      <td>6</td>\n",
       "      <td>31125</td>\n",
       "      <td>20170531_ETNP_JA14_01.raw</td>\n",
       "      <td>1</td>\n",
       "      <td>1</td>\n",
       "      <td>54036848</td>\n",
       "      <td>Sodium adduct</td>\n",
       "      <td>E7:Sodium adduct:134.40</td>\n",
       "    </tr>\n",
       "  </tbody>\n",
       "</table>\n",
       "</div>"
      ],
      "text/plain": [
       "                                      Peptide  -10lgP       Mass  Length  ppm  \\\n",
       "0                     AIQQQIENPLAQQILSGELVPGK   83.59  2473.3540      23  1.6   \n",
       "1                         LPQVEGTGGDVQPSQDLVR   82.35  1994.0068      19  0.6   \n",
       "2  SC(+57.02)AAAGTEC(+57.02)LISGWGNTK(+28.03)   67.47  1909.8662      18  0.9   \n",
       "3                            VIGQNEAVDAVSNAIR   58.66  1654.8638      16 -0.8   \n",
       "4             AIQQQIE(+21.98)NPLAQQILSGELVPGK   57.95  2495.3359      23 -0.1   \n",
       "\n",
       "         m/z     RT  Area etnp-ja14-20170531  Fraction   Scan  \\\n",
       "0  1237.6863  98.93               14500000.0         6  31180   \n",
       "1   998.0113  62.17              142000000.0         6  17735   \n",
       "2   955.9412  75.08               40400000.0         6  22560   \n",
       "3   828.4385  73.81              134000000.0         6  22093   \n",
       "4   832.7858  98.76                 261000.0         6  31125   \n",
       "\n",
       "                 Source File  #Spec  #Spec etnp-ja14-20170531  \\\n",
       "0  20170531_ETNP_JA14_01.raw      3                         3   \n",
       "1  20170531_ETNP_JA14_01.raw      6                         6   \n",
       "2  20170531_ETNP_JA14_01.raw      4                         4   \n",
       "3  20170531_ETNP_JA14_01.raw      3                         3   \n",
       "4  20170531_ETNP_JA14_01.raw      1                         1   \n",
       "\n",
       "            Accession                                      PTM  \\\n",
       "0            54036848                                      NaN   \n",
       "1            54036848                                      NaN   \n",
       "2  |#CONTAM#TRYP_PIG|  Carbamidomethylation; Dimethylation(KR)   \n",
       "3            54036848                                      NaN   \n",
       "4            54036848                            Sodium adduct   \n",
       "\n",
       "                                              AScore  \n",
       "0                                                NaN  \n",
       "1                                                NaN  \n",
       "2  C2:Carbamidomethylation:1000.00;C9:Carbamidome...  \n",
       "3                                                NaN  \n",
       "4                            E7:Sodium adduct:134.40  "
      ]
     },
     "execution_count": 7,
     "metadata": {},
     "output_type": "execute_result"
    }
   ],
   "source": [
    "data.head()"
   ]
  },
  {
   "cell_type": "code",
   "execution_count": 8,
   "metadata": {
    "collapsed": true
   },
   "outputs": [],
   "source": [
    "# Keep only peptide column\n",
    "pep = data[[\"Peptide\"]]"
   ]
  },
  {
   "cell_type": "code",
   "execution_count": 9,
   "metadata": {
    "collapsed": false
   },
   "outputs": [
    {
     "data": {
      "text/html": [
       "<div>\n",
       "<table border=\"1\" class=\"dataframe\">\n",
       "  <thead>\n",
       "    <tr style=\"text-align: right;\">\n",
       "      <th></th>\n",
       "      <th>Peptide</th>\n",
       "    </tr>\n",
       "  </thead>\n",
       "  <tbody>\n",
       "    <tr>\n",
       "      <th>0</th>\n",
       "      <td>AIQQQIENPLAQQILSGELVPGK</td>\n",
       "    </tr>\n",
       "    <tr>\n",
       "      <th>1</th>\n",
       "      <td>LPQVEGTGGDVQPSQDLVR</td>\n",
       "    </tr>\n",
       "    <tr>\n",
       "      <th>2</th>\n",
       "      <td>SC(+57.02)AAAGTEC(+57.02)LISGWGNTK(+28.03)</td>\n",
       "    </tr>\n",
       "    <tr>\n",
       "      <th>3</th>\n",
       "      <td>VIGQNEAVDAVSNAIR</td>\n",
       "    </tr>\n",
       "    <tr>\n",
       "      <th>4</th>\n",
       "      <td>AIQQQIE(+21.98)NPLAQQILSGELVPGK</td>\n",
       "    </tr>\n",
       "  </tbody>\n",
       "</table>\n",
       "</div>"
      ],
      "text/plain": [
       "                                      Peptide\n",
       "0                     AIQQQIENPLAQQILSGELVPGK\n",
       "1                         LPQVEGTGGDVQPSQDLVR\n",
       "2  SC(+57.02)AAAGTEC(+57.02)LISGWGNTK(+28.03)\n",
       "3                            VIGQNEAVDAVSNAIR\n",
       "4             AIQQQIE(+21.98)NPLAQQILSGELVPGK"
      ]
     },
     "execution_count": 9,
     "metadata": {},
     "output_type": "execute_result"
    }
   ],
   "source": [
    "pep.head()"
   ]
  },
  {
   "cell_type": "code",
   "execution_count": 10,
   "metadata": {
    "collapsed": true
   },
   "outputs": [],
   "source": [
    "# Write altered dataframe to new csv file\n",
    "# Used header and index parameters to get rid of 'Peptide' header and the indexing\n",
    "\n",
    "pep.to_csv(\"/Users/meganduffy/Documents/git-repos/2017-etnp/data/uwpr-may2017/UWPR-May2017-SPIDER/243-965m-ETNP-SPIDER-102/243-spider102-spider-peps.csv\", header=False, index=False)"
   ]
  },
  {
   "cell_type": "code",
   "execution_count": 11,
   "metadata": {
    "collapsed": true
   },
   "outputs": [],
   "source": [
    "# Write altered dataframe to new txt file\n",
    "# Used header and index parameters to get rid of 'Peptide' header and the indexing\n",
    "\n",
    "pep.to_csv(\"/Users/meganduffy/Documents/git-repos/2017-etnp/data/uwpr-may2017/UWPR-May2017-SPIDER/243-965m-ETNP-SPIDER-102/243-spider102-spider-peps.txt\", header=False, index=False)"
   ]
  },
  {
   "cell_type": "code",
   "execution_count": 12,
   "metadata": {
    "collapsed": false
   },
   "outputs": [
    {
     "name": "stdout",
     "output_type": "stream",
     "text": [
      "AIQQQIENPLAQQILSGELVPGK\r\n",
      "LPQVEGTGGDVQPSQDLVR\r\n",
      "SC(+57.02)AAAGTEC(+57.02)LISGWGNTK(+28.03)\r\n",
      "VIGQNEAVDAVSNAIR\r\n",
      "AIQQQIE(+21.98)NPLAQQILSGELVPGK\r\n",
      "LPQVEGTGGDVQ(+.98)PSQDLVR\r\n",
      "LGEHNIDVLEGNEQFINAAK\r\n",
      "VATVSLPRSC(+57.02)AAAGTEC(+57.02)LISGWGNTK(+28.03)\r\n",
      "S(+28.03)SGSSYPSLLQC(+57.02)LK\r\n",
      "PGGYQANALAQR\r\n"
     ]
    }
   ],
   "source": [
    "!head /Users/meganduffy/Documents/git-repos/2017-etnp/data/uwpr-may2017/UWPR-May2017-SPIDER/243-965m-ETNP-SPIDER-102/243-spider102-spider-peps.txt"
   ]
  },
  {
   "cell_type": "code",
   "execution_count": 13,
   "metadata": {
    "collapsed": true
   },
   "outputs": [],
   "source": [
    "# Removes all characters in parentheses and saves as new file\n",
    "\n",
    "!awk -F \"[()]\" '{ for (i=2; i<NF; i+=2) print $i }' /Users/meganduffy/Documents/git-repos/2017-etnp/data/uwpr-may2017/UWPR-May2017-SPIDER/243-965m-ETNP-SPIDER-102/243-spider102-spider-peps.txt > /Users/meganduffy/Documents/git-repos/2017-etnp/data/uwpr-may2017/UWPR-May2017-SPIDER/243-965m-ETNP-SPIDER-102/243-peaks102-spider-mods.txt"
   ]
  },
  {
   "cell_type": "code",
   "execution_count": 14,
   "metadata": {
    "collapsed": false
   },
   "outputs": [
    {
     "name": "stdout",
     "output_type": "stream",
     "text": [
      "+57.02\r\n",
      "+57.02\r\n",
      "+28.03\r\n",
      "+21.98\r\n",
      "+.98\r\n",
      "+57.02\r\n",
      "+57.02\r\n",
      "+28.03\r\n",
      "+28.03\r\n",
      "+57.02\r\n"
     ]
    }
   ],
   "source": [
    "# How does the modifications text file look?\n",
    "\n",
    "!head /Users/meganduffy/Documents/git-repos/2017-etnp/data/uwpr-may2017/UWPR-May2017-SPIDER/243-965m-ETNP-SPIDER-102/243-peaks102-spider-mods.txt"
   ]
  },
  {
   "cell_type": "code",
   "execution_count": 15,
   "metadata": {
    "collapsed": false
   },
   "outputs": [
    {
     "name": "stdout",
     "output_type": "stream",
     "text": [
      "      88 /Users/meganduffy/Documents/git-repos/2017-etnp/data/uwpr-may2017/UWPR-May2017-SPIDER/243-965m-ETNP-SPIDER-102/243-peaks102-spider-mods.txt\r\n"
     ]
    }
   ],
   "source": [
    "# How many modifications for this sample?\n",
    "\n",
    "!wc -l /Users/meganduffy/Documents/git-repos/2017-etnp/data/uwpr-may2017/UWPR-May2017-SPIDER/243-965m-ETNP-SPIDER-102/243-peaks102-spider-mods.txt"
   ]
  },
  {
   "cell_type": "code",
   "execution_count": 16,
   "metadata": {
    "collapsed": false
   },
   "outputs": [
    {
     "name": "stdout",
     "output_type": "stream",
     "text": [
      "     491 /Users/meganduffy/Documents/git-repos/2017-etnp/data/uwpr-may2017/UWPR-May2017-SPIDER/243-965m-ETNP-SPIDER-102/243-spider102-spider-peps.txt\r\n"
     ]
    }
   ],
   "source": [
    "# Compared with how many total peptides?\n",
    "\n",
    "!wc -l /Users/meganduffy/Documents/git-repos/2017-etnp/data/uwpr-may2017/UWPR-May2017-SPIDER/243-965m-ETNP-SPIDER-102/243-spider102-spider-peps.txt"
   ]
  },
  {
   "cell_type": "code",
   "execution_count": 17,
   "metadata": {
    "collapsed": false
   },
   "outputs": [
    {
     "data": {
      "text/plain": [
       "0.17922606924643583"
      ]
     },
     "execution_count": 17,
     "metadata": {},
     "output_type": "execute_result"
    }
   ],
   "source": [
    "# What's the percentage of modified peptides for this sample?\n",
    "\n",
    "88/491"
   ]
  },
  {
   "cell_type": "code",
   "execution_count": 18,
   "metadata": {
    "collapsed": true
   },
   "outputs": [],
   "source": [
    "# Keep only peptide column\n",
    "ptm = data[[\"PTM\"]]"
   ]
  },
  {
   "cell_type": "code",
   "execution_count": 19,
   "metadata": {
    "collapsed": false
   },
   "outputs": [
    {
     "data": {
      "text/html": [
       "<div>\n",
       "<table border=\"1\" class=\"dataframe\">\n",
       "  <thead>\n",
       "    <tr style=\"text-align: right;\">\n",
       "      <th></th>\n",
       "      <th>PTM</th>\n",
       "    </tr>\n",
       "  </thead>\n",
       "  <tbody>\n",
       "    <tr>\n",
       "      <th>0</th>\n",
       "      <td>NaN</td>\n",
       "    </tr>\n",
       "    <tr>\n",
       "      <th>1</th>\n",
       "      <td>NaN</td>\n",
       "    </tr>\n",
       "    <tr>\n",
       "      <th>2</th>\n",
       "      <td>Carbamidomethylation; Dimethylation(KR)</td>\n",
       "    </tr>\n",
       "    <tr>\n",
       "      <th>3</th>\n",
       "      <td>NaN</td>\n",
       "    </tr>\n",
       "    <tr>\n",
       "      <th>4</th>\n",
       "      <td>Sodium adduct</td>\n",
       "    </tr>\n",
       "  </tbody>\n",
       "</table>\n",
       "</div>"
      ],
      "text/plain": [
       "                                       PTM\n",
       "0                                      NaN\n",
       "1                                      NaN\n",
       "2  Carbamidomethylation; Dimethylation(KR)\n",
       "3                                      NaN\n",
       "4                            Sodium adduct"
      ]
     },
     "execution_count": 19,
     "metadata": {},
     "output_type": "execute_result"
    }
   ],
   "source": [
    "ptm.head()"
   ]
  },
  {
   "cell_type": "code",
   "execution_count": 20,
   "metadata": {
    "collapsed": false
   },
   "outputs": [
    {
     "name": "stdout",
     "output_type": "stream",
     "text": [
      "PTM    417\n",
      "dtype: int64\n"
     ]
    }
   ],
   "source": [
    "# How many blank rows?\n",
    "print (ptm.isnull().sum())"
   ]
  },
  {
   "cell_type": "code",
   "execution_count": 21,
   "metadata": {
    "collapsed": true
   },
   "outputs": [],
   "source": [
    "# Get rid of blank rows\n",
    "ptm_svelte = ptm.dropna()"
   ]
  },
  {
   "cell_type": "code",
   "execution_count": 22,
   "metadata": {
    "collapsed": true
   },
   "outputs": [],
   "source": [
    "# Write altered dataframe to new txt file\n",
    "# Used header and index parameters to get rid of 'PTM' header and the indexing\n",
    "\n",
    "ptm_svelte.to_csv(\"/Users/meganduffy/Documents/git-repos/2017-etnp/data/uwpr-may2017/UWPR-May2017-SPIDER/243-965m-ETNP-SPIDER-102/243-peaks102-spider-ptm.txt\", header=False, index=False)"
   ]
  },
  {
   "cell_type": "code",
   "execution_count": 23,
   "metadata": {
    "collapsed": false,
    "scrolled": true
   },
   "outputs": [
    {
     "name": "stdout",
     "output_type": "stream",
     "text": [
      "Carbamidomethylation; Dimethylation(KR)\r\n",
      "Sodium adduct\r\n",
      "Deamidation (NQ)\r\n",
      "Carbamidomethylation; Dimethylation(KR)\r\n",
      "Ethylation; Carbamidomethylation\r\n",
      "Carbamidomethylation\r\n",
      "Oxidation (M)\r\n",
      "Replacement of proton by potassium\r\n",
      "Sodium adduct\r\n",
      "Carbamylation\r\n"
     ]
    }
   ],
   "source": [
    "!head /Users/meganduffy/Documents/git-repos/2017-etnp/data/uwpr-may2017/UWPR-May2017-SPIDER/243-965m-ETNP-SPIDER-102/243-peaks102-spider-ptm.txt"
   ]
  },
  {
   "cell_type": "code",
   "execution_count": 24,
   "metadata": {
    "collapsed": false
   },
   "outputs": [
    {
     "name": "stdout",
     "output_type": "stream",
     "text": [
      "243-peaks102-spider-mods.txt       243-spider102-protein-peptides.csv\r\n",
      "243-peaks102-spider-ptm.txt        243-spider102-proteins.csv\r\n",
      "243-spider102-DB-search-psm.csv    243-spider102-proteins.fasta\r\n",
      "243-spider102-dno.csv              243-spider102-spider-peps.csv\r\n",
      "243-spider102-peptide.csv          243-spider102-spider-peps.txt\r\n"
     ]
    }
   ],
   "source": [
    "!ls /Users/meganduffy/Documents/git-repos/2017-etnp/data/uwpr-may2017/UWPR-May2017-SPIDER/243-965m-ETNP-SPIDER-102/"
   ]
  },
  {
   "cell_type": "code",
   "execution_count": null,
   "metadata": {
    "collapsed": true
   },
   "outputs": [],
   "source": []
  }
 ],
 "metadata": {
  "anaconda-cloud": {},
  "kernelspec": {
   "display_name": "Python [default]",
   "language": "python",
   "name": "python3"
  },
  "language_info": {
   "codemirror_mode": {
    "name": "ipython",
    "version": 3
   },
   "file_extension": ".py",
   "mimetype": "text/x-python",
   "name": "python",
   "nbconvert_exporter": "python",
   "pygments_lexer": "ipython3",
   "version": "3.5.2"
  }
 },
 "nbformat": 4,
 "nbformat_minor": 1
}
