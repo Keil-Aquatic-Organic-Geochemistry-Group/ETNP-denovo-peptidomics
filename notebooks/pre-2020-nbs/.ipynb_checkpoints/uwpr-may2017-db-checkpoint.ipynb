{
 "cells": [
  {
   "cell_type": "code",
   "execution_count": 1,
   "metadata": {
    "collapsed": false
   },
   "outputs": [
    {
     "name": "stdout",
     "output_type": "stream",
     "text": [
      "Fri Jun 14 12:53:37 PDT 2019\r\n"
     ]
    }
   ],
   "source": [
    "!date"
   ]
  },
  {
   "cell_type": "code",
   "execution_count": 2,
   "metadata": {
    "collapsed": false
   },
   "outputs": [
    {
     "name": "stdout",
     "output_type": "stream",
     "text": [
      "Software:\r\n",
      "\r\n",
      "    System Software Overview:\r\n",
      "\r\n",
      "      System Version: macOS 10.14.5 (18F132)\r\n",
      "      Kernel Version: Darwin 18.6.0\r\n",
      "      Boot Volume: Macintosh HD\r\n",
      "      Boot Mode: Normal\r\n",
      "      Computer Name: Megan’s MacBook Pro (2)\r\n",
      "      User Name: Megan Duffy (meganduffy)\r\n",
      "      Secure Virtual Memory: Enabled\r\n",
      "      System Integrity Protection: Enabled\r\n",
      "      Time since boot: 23 days 2:13\r\n",
      "\r\n"
     ]
    }
   ],
   "source": [
    "!system_profiler SPSoftwareDataType"
   ]
  },
  {
   "cell_type": "markdown",
   "metadata": {},
   "source": [
    "### Notebook to document text extraction and editing of UWPR May 2017 ETNP 2017\n",
    "### (JA9-14 McLane samples - 238 thru 245) database ID'd peptides\n",
    "### The results of PEAKS 8.5 searches are in Git ETNP 2017 data directory\n",
    "### The database ID's peptides are in the `running#-peaks#-peptide.csv` files"
   ]
  },
  {
   "cell_type": "code",
   "execution_count": 3,
   "metadata": {
    "collapsed": false
   },
   "outputs": [
    {
     "name": "stdout",
     "output_type": "stream",
     "text": [
      "243-peaks37-DB-search-psm.csv    243-peaks37-dnopeps.txt\r\n",
      "243-peaks37-dno-mods.txt         243-peaks37-peptide.csv\r\n",
      "243-peaks37-dno-nomods.txt       243-peaks37-protein-peptides.csv\r\n",
      "243-peaks37-dno.csv              243-peaks37-proteins.csv\r\n",
      "243-peaks37-dnopeps.csv          243-peaks37-proteins.fasta\r\n"
     ]
    }
   ],
   "source": [
    "!ls /Users/meganduffy/Documents/git-repos/2017-etnp/data/uwpr-may2017/UWPR_May2017_243-965m-gf75-ETNP_PEAKS_37/"
   ]
  },
  {
   "cell_type": "code",
   "execution_count": 4,
   "metadata": {
    "collapsed": true
   },
   "outputs": [],
   "source": [
    "import os"
   ]
  },
  {
   "cell_type": "code",
   "execution_count": 5,
   "metadata": {
    "collapsed": false
   },
   "outputs": [
    {
     "data": {
      "text/plain": [
       "'/Users/meganduffy/Documents/git-repos/2017-etnp/notebooks'"
      ]
     },
     "execution_count": 5,
     "metadata": {},
     "output_type": "execute_result"
    }
   ],
   "source": [
    "os.getcwd()"
   ]
  },
  {
   "cell_type": "code",
   "execution_count": 6,
   "metadata": {
    "collapsed": true
   },
   "outputs": [],
   "source": [
    "import pandas as pd"
   ]
  },
  {
   "cell_type": "code",
   "execution_count": 7,
   "metadata": {
    "collapsed": false
   },
   "outputs": [
    {
     "data": {
      "text/plain": [
       "'0.18.1'"
      ]
     },
     "execution_count": 7,
     "metadata": {},
     "output_type": "execute_result"
    }
   ],
   "source": [
    "pd.__version__"
   ]
  },
  {
   "cell_type": "code",
   "execution_count": 8,
   "metadata": {
    "collapsed": true
   },
   "outputs": [],
   "source": [
    "data = pd.read_csv(\"/Users/meganduffy/Documents/git-repos/2017-etnp/data/uwpr-may2017/UWPR_May2017_243-965m-gf75-ETNP_PEAKS_37/243-peaks37-peptide.csv\")"
   ]
  },
  {
   "cell_type": "code",
   "execution_count": 9,
   "metadata": {
    "collapsed": false
   },
   "outputs": [
    {
     "data": {
      "text/html": [
       "<div>\n",
       "<table border=\"1\" class=\"dataframe\">\n",
       "  <thead>\n",
       "    <tr style=\"text-align: right;\">\n",
       "      <th></th>\n",
       "      <th>Peptide</th>\n",
       "      <th>-10lgP</th>\n",
       "      <th>Mass</th>\n",
       "      <th>Length</th>\n",
       "      <th>ppm</th>\n",
       "      <th>m/z</th>\n",
       "      <th>RT</th>\n",
       "      <th>Area etnp-ja14-20170531</th>\n",
       "      <th>Fraction</th>\n",
       "      <th>Scan</th>\n",
       "      <th>Source File</th>\n",
       "      <th>#Spec</th>\n",
       "      <th>#Spec etnp-ja14-20170531</th>\n",
       "      <th>Accession</th>\n",
       "      <th>PTM</th>\n",
       "      <th>AScore</th>\n",
       "    </tr>\n",
       "  </thead>\n",
       "  <tbody>\n",
       "    <tr>\n",
       "      <th>0</th>\n",
       "      <td>AIQQQIENPLAQQILSGELVPGK</td>\n",
       "      <td>90.46</td>\n",
       "      <td>2473.3540</td>\n",
       "      <td>23</td>\n",
       "      <td>1.6</td>\n",
       "      <td>1237.6863</td>\n",
       "      <td>98.93</td>\n",
       "      <td>14500000.0</td>\n",
       "      <td>6</td>\n",
       "      <td>31180</td>\n",
       "      <td>20170531_ETNP_JA14_01.raw</td>\n",
       "      <td>3</td>\n",
       "      <td>3</td>\n",
       "      <td>gi|54036848</td>\n",
       "      <td>NaN</td>\n",
       "      <td>NaN</td>\n",
       "    </tr>\n",
       "    <tr>\n",
       "      <th>1</th>\n",
       "      <td>LPQVEGTGGDVQPSQDLVR</td>\n",
       "      <td>86.01</td>\n",
       "      <td>1994.0068</td>\n",
       "      <td>19</td>\n",
       "      <td>0.6</td>\n",
       "      <td>998.0113</td>\n",
       "      <td>62.17</td>\n",
       "      <td>142000000.0</td>\n",
       "      <td>6</td>\n",
       "      <td>17735</td>\n",
       "      <td>20170531_ETNP_JA14_01.raw</td>\n",
       "      <td>6</td>\n",
       "      <td>6</td>\n",
       "      <td>gi|54036848</td>\n",
       "      <td>NaN</td>\n",
       "      <td>NaN</td>\n",
       "    </tr>\n",
       "    <tr>\n",
       "      <th>2</th>\n",
       "      <td>VIGQNEAVDAVSNAIR</td>\n",
       "      <td>68.84</td>\n",
       "      <td>1654.8638</td>\n",
       "      <td>16</td>\n",
       "      <td>-0.8</td>\n",
       "      <td>828.4385</td>\n",
       "      <td>73.81</td>\n",
       "      <td>134000000.0</td>\n",
       "      <td>6</td>\n",
       "      <td>22093</td>\n",
       "      <td>20170531_ETNP_JA14_01.raw</td>\n",
       "      <td>4</td>\n",
       "      <td>4</td>\n",
       "      <td>gi|54036848</td>\n",
       "      <td>NaN</td>\n",
       "      <td>NaN</td>\n",
       "    </tr>\n",
       "    <tr>\n",
       "      <th>3</th>\n",
       "      <td>LGEHNIDVLEGNEQFINAAK</td>\n",
       "      <td>63.57</td>\n",
       "      <td>2210.0967</td>\n",
       "      <td>20</td>\n",
       "      <td>0.9</td>\n",
       "      <td>737.7068</td>\n",
       "      <td>76.49</td>\n",
       "      <td>37500000.0</td>\n",
       "      <td>6</td>\n",
       "      <td>23079</td>\n",
       "      <td>20170531_ETNP_JA14_01.raw</td>\n",
       "      <td>4</td>\n",
       "      <td>4</td>\n",
       "      <td>#CONTAM#sp|TRYP_PIG|</td>\n",
       "      <td>NaN</td>\n",
       "      <td>NaN</td>\n",
       "    </tr>\n",
       "    <tr>\n",
       "      <th>4</th>\n",
       "      <td>SSGSSYPSLLQC(+57.02)LK</td>\n",
       "      <td>60.41</td>\n",
       "      <td>1525.7446</td>\n",
       "      <td>14</td>\n",
       "      <td>1.2</td>\n",
       "      <td>763.8805</td>\n",
       "      <td>81.09</td>\n",
       "      <td>894000.0</td>\n",
       "      <td>6</td>\n",
       "      <td>24903</td>\n",
       "      <td>20170531_ETNP_JA14_01.raw</td>\n",
       "      <td>2</td>\n",
       "      <td>2</td>\n",
       "      <td>#CONTAM#sp|TRYP_PIG|</td>\n",
       "      <td>Carbamidomethylation</td>\n",
       "      <td>C12:Carbamidomethylation:1000.00</td>\n",
       "    </tr>\n",
       "  </tbody>\n",
       "</table>\n",
       "</div>"
      ],
      "text/plain": [
       "                   Peptide  -10lgP       Mass  Length  ppm        m/z     RT  \\\n",
       "0  AIQQQIENPLAQQILSGELVPGK   90.46  2473.3540      23  1.6  1237.6863  98.93   \n",
       "1      LPQVEGTGGDVQPSQDLVR   86.01  1994.0068      19  0.6   998.0113  62.17   \n",
       "2         VIGQNEAVDAVSNAIR   68.84  1654.8638      16 -0.8   828.4385  73.81   \n",
       "3     LGEHNIDVLEGNEQFINAAK   63.57  2210.0967      20  0.9   737.7068  76.49   \n",
       "4   SSGSSYPSLLQC(+57.02)LK   60.41  1525.7446      14  1.2   763.8805  81.09   \n",
       "\n",
       "   Area etnp-ja14-20170531  Fraction   Scan                Source File  #Spec  \\\n",
       "0               14500000.0         6  31180  20170531_ETNP_JA14_01.raw      3   \n",
       "1              142000000.0         6  17735  20170531_ETNP_JA14_01.raw      6   \n",
       "2              134000000.0         6  22093  20170531_ETNP_JA14_01.raw      4   \n",
       "3               37500000.0         6  23079  20170531_ETNP_JA14_01.raw      4   \n",
       "4                 894000.0         6  24903  20170531_ETNP_JA14_01.raw      2   \n",
       "\n",
       "   #Spec etnp-ja14-20170531             Accession                   PTM  \\\n",
       "0                         3           gi|54036848                   NaN   \n",
       "1                         6           gi|54036848                   NaN   \n",
       "2                         4           gi|54036848                   NaN   \n",
       "3                         4  #CONTAM#sp|TRYP_PIG|                   NaN   \n",
       "4                         2  #CONTAM#sp|TRYP_PIG|  Carbamidomethylation   \n",
       "\n",
       "                             AScore  \n",
       "0                               NaN  \n",
       "1                               NaN  \n",
       "2                               NaN  \n",
       "3                               NaN  \n",
       "4  C12:Carbamidomethylation:1000.00  "
      ]
     },
     "execution_count": 9,
     "metadata": {},
     "output_type": "execute_result"
    }
   ],
   "source": [
    "data.head()"
   ]
  },
  {
   "cell_type": "code",
   "execution_count": 10,
   "metadata": {
    "collapsed": true
   },
   "outputs": [],
   "source": [
    "# Keep only peptide column\n",
    "pep = data[[\"Peptide\"]]"
   ]
  },
  {
   "cell_type": "code",
   "execution_count": 11,
   "metadata": {
    "collapsed": false
   },
   "outputs": [
    {
     "data": {
      "text/html": [
       "<div>\n",
       "<table border=\"1\" class=\"dataframe\">\n",
       "  <thead>\n",
       "    <tr style=\"text-align: right;\">\n",
       "      <th></th>\n",
       "      <th>Peptide</th>\n",
       "    </tr>\n",
       "  </thead>\n",
       "  <tbody>\n",
       "    <tr>\n",
       "      <th>0</th>\n",
       "      <td>AIQQQIENPLAQQILSGELVPGK</td>\n",
       "    </tr>\n",
       "    <tr>\n",
       "      <th>1</th>\n",
       "      <td>LPQVEGTGGDVQPSQDLVR</td>\n",
       "    </tr>\n",
       "    <tr>\n",
       "      <th>2</th>\n",
       "      <td>VIGQNEAVDAVSNAIR</td>\n",
       "    </tr>\n",
       "    <tr>\n",
       "      <th>3</th>\n",
       "      <td>LGEHNIDVLEGNEQFINAAK</td>\n",
       "    </tr>\n",
       "    <tr>\n",
       "      <th>4</th>\n",
       "      <td>SSGSSYPSLLQC(+57.02)LK</td>\n",
       "    </tr>\n",
       "  </tbody>\n",
       "</table>\n",
       "</div>"
      ],
      "text/plain": [
       "                   Peptide\n",
       "0  AIQQQIENPLAQQILSGELVPGK\n",
       "1      LPQVEGTGGDVQPSQDLVR\n",
       "2         VIGQNEAVDAVSNAIR\n",
       "3     LGEHNIDVLEGNEQFINAAK\n",
       "4   SSGSSYPSLLQC(+57.02)LK"
      ]
     },
     "execution_count": 11,
     "metadata": {},
     "output_type": "execute_result"
    }
   ],
   "source": [
    "pep.head()"
   ]
  },
  {
   "cell_type": "code",
   "execution_count": 12,
   "metadata": {
    "collapsed": true
   },
   "outputs": [],
   "source": [
    "# Write altered dataframe to new csv file\n",
    "# Used header and index parameters to get rid of 'Peptide' header and the indexing\n",
    "\n",
    "pep.to_csv(\"/Users/meganduffy/Documents/git-repos/2017-etnp/data/uwpr-may2017/UWPR_May2017_243-965m-gf75-ETNP_PEAKS_37/243-peaks37-dbpeps.csv\", header=False, index=False)"
   ]
  },
  {
   "cell_type": "code",
   "execution_count": 13,
   "metadata": {
    "collapsed": true
   },
   "outputs": [],
   "source": [
    "# Write altered dataframe to new csv file\n",
    "# Used header and index parameters to get rid of 'Peptide' header and the indexing\n",
    "\n",
    "pep.to_csv(\"/Users/meganduffy/Documents/git-repos/2017-etnp/data/uwpr-may2017/UWPR_May2017_243-965m-gf75-ETNP_PEAKS_37/243-peaks37-dbpeps.txt\", header=False, index=False)"
   ]
  },
  {
   "cell_type": "code",
   "execution_count": 14,
   "metadata": {
    "collapsed": false
   },
   "outputs": [
    {
     "name": "stdout",
     "output_type": "stream",
     "text": [
      "AIQQQIENPLAQQILSGELVPGK\r\n",
      "LPQVEGTGGDVQPSQDLVR\r\n",
      "VIGQNEAVDAVSNAIR\r\n",
      "LGEHNIDVLEGNEQFINAAK\r\n",
      "SSGSSYPSLLQC(+57.02)LK\r\n",
      "AIDLIDEAASSIR\r\n",
      "AIDLIDEAASSLR\r\n",
      "IITHPNFNGNTLDNDIM(+15.99)LIK\r\n",
      "SC(+57.02)AAAGTEC(+57.02)LISGWGNTK\r\n",
      "PGGYQANALAQR\r\n"
     ]
    }
   ],
   "source": [
    "!head /Users/meganduffy/Documents/git-repos/2017-etnp/data/uwpr-may2017/UWPR_May2017_243-965m-gf75-ETNP_PEAKS_37/243-peaks37-dbpeps.txt"
   ]
  },
  {
   "cell_type": "code",
   "execution_count": 15,
   "metadata": {
    "collapsed": true
   },
   "outputs": [],
   "source": [
    "# Removes all characters in parentheses and saves as new file\n",
    "\n",
    "!awk -F \"[()]\" '{ for (i=2; i<NF; i+=2) print $i }' /Users/meganduffy/Documents/git-repos/2017-etnp/data/uwpr-may2017/UWPR_May2017_243-965m-gf75-ETNP_PEAKS_37/243-peaks37-dbpeps.txt > /Users/meganduffy/Documents/git-repos/2017-etnp/data/uwpr-may2017/UWPR_May2017_243-965m-gf75-ETNP_PEAKS_37/243-peaks37-db-mods.txt"
   ]
  },
  {
   "cell_type": "code",
   "execution_count": 16,
   "metadata": {
    "collapsed": false
   },
   "outputs": [
    {
     "name": "stdout",
     "output_type": "stream",
     "text": [
      "+15.99\r\n",
      "+57.02\r\n",
      "+15.99\r\n",
      "+57.02\r\n",
      "+15.99\r\n",
      "+57.02\r\n",
      "+57.02\r\n",
      "+57.02\r\n",
      "+57.02\r\n",
      "+57.02\r\n"
     ]
    }
   ],
   "source": [
    "# How does the modifications text file look?\n",
    "\n",
    "!head /Users/meganduffy/Documents/git-repos/2017-etnp/data/uwpr-may2017/UWPR_May2017_243-965m-gf75-ETNP_PEAKS_37/243-peaks37-dno-mods.txt"
   ]
  },
  {
   "cell_type": "code",
   "execution_count": 17,
   "metadata": {
    "collapsed": false
   },
   "outputs": [
    {
     "name": "stdout",
     "output_type": "stream",
     "text": [
      "      37 /Users/meganduffy/Documents/git-repos/2017-etnp/data/uwpr-may2017/UWPR_May2017_243-965m-gf75-ETNP_PEAKS_37/243-peaks37-db-mods.txt\r\n"
     ]
    }
   ],
   "source": [
    "# How many modifications for this sample?\n",
    "\n",
    "!wc -l /Users/meganduffy/Documents/git-repos/2017-etnp/data/uwpr-may2017/UWPR_May2017_243-965m-gf75-ETNP_PEAKS_37/243-peaks37-db-mods.txt"
   ]
  },
  {
   "cell_type": "code",
   "execution_count": 18,
   "metadata": {
    "collapsed": false
   },
   "outputs": [
    {
     "name": "stdout",
     "output_type": "stream",
     "text": [
      "     477 /Users/meganduffy/Documents/git-repos/2017-etnp/data/uwpr-may2017/UWPR_May2017_243-965m-gf75-ETNP_PEAKS_37/243-peaks37-dbpeps.txt\r\n"
     ]
    }
   ],
   "source": [
    "# Compared with how many total peptides?\n",
    "\n",
    "!wc -l /Users/meganduffy/Documents/git-repos/2017-etnp/data/uwpr-may2017/UWPR_May2017_243-965m-gf75-ETNP_PEAKS_37/243-peaks37-dbpeps.txt"
   ]
  },
  {
   "cell_type": "code",
   "execution_count": 19,
   "metadata": {
    "collapsed": false
   },
   "outputs": [
    {
     "data": {
      "text/plain": [
       "0.07756813417190776"
      ]
     },
     "execution_count": 19,
     "metadata": {},
     "output_type": "execute_result"
    }
   ],
   "source": [
    "# What's the percentage of modified peptides for this sample?\n",
    "\n",
    "37/477"
   ]
  },
  {
   "cell_type": "code",
   "execution_count": 20,
   "metadata": {
    "collapsed": true
   },
   "outputs": [],
   "source": [
    "# Get rid of modifications from all peptides and save as a new file\n",
    "# Remove '(+15.99)' and '(+57.02)', (+.98) from sequences\n",
    "\n",
    "!sed 's/(+15.99)//g' /Users/meganduffy/Documents/git-repos/2017-etnp/data/uwpr-may2017/UWPR_May2017_243-965m-gf75-ETNP_PEAKS_37/243-peaks37-dbpeps.txt \\\n",
    "| sed 's/(+57.02)//g'\\\n",
    "| sed 's/(+.98)//g'\\\n",
    "> /Users/meganduffy/Documents/git-repos/2017-etnp/data/uwpr-may2017/UWPR_May2017_243-965m-gf75-ETNP_PEAKS_37/243-peaks37-db-nomods.txt"
   ]
  },
  {
   "cell_type": "code",
   "execution_count": 21,
   "metadata": {
    "collapsed": false
   },
   "outputs": [
    {
     "name": "stdout",
     "output_type": "stream",
     "text": [
      "TSGEVFR\r\n",
      "MEAYCVK\r\n",
      "SALEDVK\r\n",
      "MGKLFR\r\n",
      "TWTLSR\r\n",
      "EPLLESK\r\n",
      "AANEVVR\r\n",
      "KEVFNK\r\n",
      "NLDLER\r\n",
      "VTDAELAEVELR\r\n"
     ]
    }
   ],
   "source": [
    "!head /Users/meganduffy/Documents/git-repos/2017-etnp/data/uwpr-may2017/UWPR_May2017_243-965m-gf75-ETNP_PEAKS_37/243-peaks37-dno-nomods.txt"
   ]
  },
  {
   "cell_type": "code",
   "execution_count": 22,
   "metadata": {
    "collapsed": false
   },
   "outputs": [
    {
     "name": "stdout",
     "output_type": "stream",
     "text": [
      "243-peaks37-DB-search-psm.csv    243-peaks37-dno.csv\r\n",
      "243-peaks37-db-mods.txt          243-peaks37-dnopeps.csv\r\n",
      "243-peaks37-db-nomods.txt        243-peaks37-dnopeps.txt\r\n",
      "243-peaks37-dbpeps.csv           243-peaks37-peptide.csv\r\n",
      "243-peaks37-dbpeps.txt           243-peaks37-protein-peptides.csv\r\n",
      "243-peaks37-dno-mods.txt         243-peaks37-proteins.csv\r\n",
      "243-peaks37-dno-nomods.txt       243-peaks37-proteins.fasta\r\n"
     ]
    }
   ],
   "source": [
    "!ls /Users/meganduffy/Documents/git-repos/2017-etnp/data/uwpr-may2017/UWPR_May2017_243-965m-gf75-ETNP_PEAKS_37"
   ]
  },
  {
   "cell_type": "code",
   "execution_count": null,
   "metadata": {
    "collapsed": true
   },
   "outputs": [],
   "source": []
  }
 ],
 "metadata": {
  "anaconda-cloud": {},
  "kernelspec": {
   "display_name": "Python [default]",
   "language": "python",
   "name": "python3"
  },
  "language_info": {
   "codemirror_mode": {
    "name": "ipython",
    "version": 3
   },
   "file_extension": ".py",
   "mimetype": "text/x-python",
   "name": "python",
   "nbconvert_exporter": "python",
   "pygments_lexer": "ipython3",
   "version": "3.5.2"
  }
 },
 "nbformat": 4,
 "nbformat_minor": 1
}
