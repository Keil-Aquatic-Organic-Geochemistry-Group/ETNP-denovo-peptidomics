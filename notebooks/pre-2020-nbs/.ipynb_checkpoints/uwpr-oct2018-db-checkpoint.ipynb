{
 "cells": [
  {
   "cell_type": "code",
   "execution_count": 1,
   "metadata": {
    "collapsed": false
   },
   "outputs": [
    {
     "name": "stdout",
     "output_type": "stream",
     "text": [
      "Fri Jun 14 13:33:59 PDT 2019\r\n"
     ]
    }
   ],
   "source": [
    "!date"
   ]
  },
  {
   "cell_type": "code",
   "execution_count": 2,
   "metadata": {
    "collapsed": false
   },
   "outputs": [
    {
     "name": "stdout",
     "output_type": "stream",
     "text": [
      "Software:\r\n",
      "\r\n",
      "    System Software Overview:\r\n",
      "\r\n",
      "      System Version: macOS 10.14.5 (18F132)\r\n",
      "      Kernel Version: Darwin 18.6.0\r\n",
      "      Boot Volume: Macintosh HD\r\n",
      "      Boot Mode: Normal\r\n",
      "      Computer Name: Megan’s MacBook Pro (2)\r\n",
      "      User Name: Megan Duffy (meganduffy)\r\n",
      "      Secure Virtual Memory: Enabled\r\n",
      "      System Integrity Protection: Enabled\r\n",
      "      Time since boot: 23 days 2:53\r\n",
      "\r\n"
     ]
    }
   ],
   "source": [
    "!system_profiler SPSoftwareDataType"
   ]
  },
  {
   "cell_type": "markdown",
   "metadata": {},
   "source": [
    "### Notebook to document text extraction and editing of UWPR October 2018 ETNP 2017 (samples 2-9 and 4-19) database ID'd peptides\n",
    "### Results of PEAKS 8.5 searches into Git ETNP 2017 data directory\n",
    "### Database ID'd peptides are `running#-peaks#-peptide.csv` files"
   ]
  },
  {
   "cell_type": "code",
   "execution_count": 3,
   "metadata": {
    "collapsed": false
   },
   "outputs": [
    {
     "name": "stdout",
     "output_type": "stream",
     "text": [
      "\u001b[34m272_4-19_965m_top+P+BSA-PEAKS18-20181004\u001b[m\u001b[m\r\n",
      "\u001b[34m273_4-19_965m_top+P-PEAKS19-20181004\u001b[m\u001b[m\r\n",
      "\u001b[34m278_4-19_265m_top+PA-PEAKS90-20181005\u001b[m\u001b[m\r\n",
      "\u001b[34m278_4-19_265m_top+PA90min-PEAKS105-20181005\u001b[m\u001b[m\r\n",
      "\u001b[34m279_4-19_265m_netwash1of3A-PEAKS86-20181005\u001b[m\u001b[m\r\n",
      "\u001b[34m281_4-19_965m_ctl1of2A-PEAKS82-20181005\u001b[m\u001b[m\r\n",
      "\u001b[34m282_4-19_965m_netwash1of5A-PEAKS98-20181005\u001b[m\u001b[m\r\n",
      "\u001b[34m284_4-19_265m_ctl_A-PEAKS83-20181005\u001b[m\u001b[m\r\n",
      "\u001b[34m334_2-9_94m_nw6_wet_BSA-PEAKS27-20181004\u001b[m\u001b[m\r\n",
      "\u001b[34m335_2-9_94m_nw6_wet_nospike-PEAKS14-20181004\u001b[m\u001b[m\r\n",
      "\u001b[34m336_2-9_94m_nw6_dry_BSA-PEAKS16-20181004\u001b[m\u001b[m\r\n",
      "\u001b[34m337_2-9_94m_nw6_dry_nospike-PEAKS13-20181004\u001b[m\u001b[m\r\n"
     ]
    }
   ],
   "source": [
    "!ls /Users/meganduffy/Documents/git-repos/2017-etnp/data/uwpr-oct2018/"
   ]
  },
  {
   "cell_type": "markdown",
   "metadata": {},
   "source": [
    "### First processing the samples going into Pro novo paper, 278 and 273"
   ]
  },
  {
   "cell_type": "code",
   "execution_count": 9,
   "metadata": {
    "collapsed": false
   },
   "outputs": [
    {
     "name": "stdout",
     "output_type": "stream",
     "text": [
      "273-peaks19-DB-search -psm.csv   273-peaks19-dnopeps.txt\r\n",
      "273-peaks19-dno-mods.txt         273-peaks19-peptide.csv\r\n",
      "273-peaks19-dno-nomods.txt       273-peaks19-protein-peptides.csv\r\n",
      "273-peaks19-dno.csv              273-peaks19-proteins.csv\r\n",
      "273-peaks19-dnopeps.csv          273-peaks19-proteins.fasta\r\n"
     ]
    }
   ],
   "source": [
    "!ls /Users/meganduffy/Documents/git-repos/2017-etnp/data/uwpr-oct2018/273_4-19_965m_top+P-PEAKS19-20181004/"
   ]
  },
  {
   "cell_type": "code",
   "execution_count": 4,
   "metadata": {
    "collapsed": true
   },
   "outputs": [],
   "source": [
    "import os"
   ]
  },
  {
   "cell_type": "code",
   "execution_count": 5,
   "metadata": {
    "collapsed": false
   },
   "outputs": [
    {
     "data": {
      "text/plain": [
       "'/Users/meganduffy/Documents/git-repos/2017-etnp/notebooks'"
      ]
     },
     "execution_count": 5,
     "metadata": {},
     "output_type": "execute_result"
    }
   ],
   "source": [
    "os.getcwd()"
   ]
  },
  {
   "cell_type": "code",
   "execution_count": 6,
   "metadata": {
    "collapsed": true
   },
   "outputs": [],
   "source": [
    "import pandas as pd"
   ]
  },
  {
   "cell_type": "code",
   "execution_count": 7,
   "metadata": {
    "collapsed": false
   },
   "outputs": [
    {
     "data": {
      "text/plain": [
       "'0.18.1'"
      ]
     },
     "execution_count": 7,
     "metadata": {},
     "output_type": "execute_result"
    }
   ],
   "source": [
    "pd.__version__"
   ]
  },
  {
   "cell_type": "code",
   "execution_count": 10,
   "metadata": {
    "collapsed": true
   },
   "outputs": [],
   "source": [
    "data = pd.read_csv(\"/Users/meganduffy/Documents/git-repos/2017-etnp/data/uwpr-oct2018/273_4-19_965m_top+P-PEAKS19-20181004/273-peaks19-peptide.csv\")"
   ]
  },
  {
   "cell_type": "code",
   "execution_count": 11,
   "metadata": {
    "collapsed": false
   },
   "outputs": [
    {
     "data": {
      "text/html": [
       "<div>\n",
       "<table border=\"1\" class=\"dataframe\">\n",
       "  <thead>\n",
       "    <tr style=\"text-align: right;\">\n",
       "      <th></th>\n",
       "      <th>Peptide</th>\n",
       "      <th>-10lgP</th>\n",
       "      <th>Mass</th>\n",
       "      <th>Length</th>\n",
       "      <th>ppm</th>\n",
       "      <th>m/z</th>\n",
       "      <th>RT</th>\n",
       "      <th>Area Sample 1: 273 4-19_965m_top+p</th>\n",
       "      <th>Fraction</th>\n",
       "      <th>Scan</th>\n",
       "      <th>Source File</th>\n",
       "      <th>#Spec</th>\n",
       "      <th>#Spec Sample 1: 273 4-19_965m_top+p</th>\n",
       "      <th>Accession</th>\n",
       "      <th>PTM</th>\n",
       "      <th>AScore</th>\n",
       "    </tr>\n",
       "  </thead>\n",
       "  <tbody>\n",
       "    <tr>\n",
       "      <th>0</th>\n",
       "      <td>AIQQQIENPLAQQILSGELVPGK</td>\n",
       "      <td>127.63</td>\n",
       "      <td>2473.3540</td>\n",
       "      <td>23</td>\n",
       "      <td>-0.2</td>\n",
       "      <td>1237.6841</td>\n",
       "      <td>97.98</td>\n",
       "      <td>91500000.0</td>\n",
       "      <td>1</td>\n",
       "      <td>41605</td>\n",
       "      <td>20181003_4-19_965m_top.raw</td>\n",
       "      <td>7</td>\n",
       "      <td>7</td>\n",
       "      <td>54036848</td>\n",
       "      <td>NaN</td>\n",
       "      <td>NaN</td>\n",
       "    </tr>\n",
       "    <tr>\n",
       "      <th>1</th>\n",
       "      <td>LPQVEGTGGDVQPSQDLVR</td>\n",
       "      <td>112.65</td>\n",
       "      <td>1994.0068</td>\n",
       "      <td>19</td>\n",
       "      <td>-0.4</td>\n",
       "      <td>998.0103</td>\n",
       "      <td>60.63</td>\n",
       "      <td>271000000.0</td>\n",
       "      <td>1</td>\n",
       "      <td>21306</td>\n",
       "      <td>20181003_4-19_965m_top.raw</td>\n",
       "      <td>7</td>\n",
       "      <td>7</td>\n",
       "      <td>54036848</td>\n",
       "      <td>NaN</td>\n",
       "      <td>NaN</td>\n",
       "    </tr>\n",
       "    <tr>\n",
       "      <th>2</th>\n",
       "      <td>SYELPDGQVITIGNER</td>\n",
       "      <td>82.04</td>\n",
       "      <td>1789.8846</td>\n",
       "      <td>16</td>\n",
       "      <td>1.4</td>\n",
       "      <td>895.9509</td>\n",
       "      <td>79.70</td>\n",
       "      <td>7600000.0</td>\n",
       "      <td>1</td>\n",
       "      <td>31630</td>\n",
       "      <td>20181003_4-19_965m_top.raw</td>\n",
       "      <td>3</td>\n",
       "      <td>3</td>\n",
       "      <td>ETNP_70</td>\n",
       "      <td>NaN</td>\n",
       "      <td>NaN</td>\n",
       "    </tr>\n",
       "    <tr>\n",
       "      <th>3</th>\n",
       "      <td>VIGQNEAVDAVSNAIR</td>\n",
       "      <td>80.73</td>\n",
       "      <td>1654.8638</td>\n",
       "      <td>16</td>\n",
       "      <td>1.5</td>\n",
       "      <td>828.4404</td>\n",
       "      <td>72.78</td>\n",
       "      <td>305000000.0</td>\n",
       "      <td>1</td>\n",
       "      <td>27785</td>\n",
       "      <td>20181003_4-19_965m_top.raw</td>\n",
       "      <td>7</td>\n",
       "      <td>7</td>\n",
       "      <td>54036848</td>\n",
       "      <td>NaN</td>\n",
       "      <td>NaN</td>\n",
       "    </tr>\n",
       "    <tr>\n",
       "      <th>4</th>\n",
       "      <td>VTDAEIAEVLAR</td>\n",
       "      <td>61.78</td>\n",
       "      <td>1285.6877</td>\n",
       "      <td>12</td>\n",
       "      <td>1.8</td>\n",
       "      <td>429.5706</td>\n",
       "      <td>77.64</td>\n",
       "      <td>213000000.0</td>\n",
       "      <td>1</td>\n",
       "      <td>30487</td>\n",
       "      <td>20181003_4-19_965m_top.raw</td>\n",
       "      <td>4</td>\n",
       "      <td>4</td>\n",
       "      <td>54036848</td>\n",
       "      <td>NaN</td>\n",
       "      <td>NaN</td>\n",
       "    </tr>\n",
       "  </tbody>\n",
       "</table>\n",
       "</div>"
      ],
      "text/plain": [
       "                   Peptide  -10lgP       Mass  Length  ppm        m/z     RT  \\\n",
       "0  AIQQQIENPLAQQILSGELVPGK  127.63  2473.3540      23 -0.2  1237.6841  97.98   \n",
       "1      LPQVEGTGGDVQPSQDLVR  112.65  1994.0068      19 -0.4   998.0103  60.63   \n",
       "2         SYELPDGQVITIGNER   82.04  1789.8846      16  1.4   895.9509  79.70   \n",
       "3         VIGQNEAVDAVSNAIR   80.73  1654.8638      16  1.5   828.4404  72.78   \n",
       "4             VTDAEIAEVLAR   61.78  1285.6877      12  1.8   429.5706  77.64   \n",
       "\n",
       "   Area Sample 1: 273 4-19_965m_top+p  Fraction   Scan  \\\n",
       "0                          91500000.0         1  41605   \n",
       "1                         271000000.0         1  21306   \n",
       "2                           7600000.0         1  31630   \n",
       "3                         305000000.0         1  27785   \n",
       "4                         213000000.0         1  30487   \n",
       "\n",
       "                  Source File  #Spec  #Spec Sample 1: 273 4-19_965m_top+p  \\\n",
       "0  20181003_4-19_965m_top.raw      7                                    7   \n",
       "1  20181003_4-19_965m_top.raw      7                                    7   \n",
       "2  20181003_4-19_965m_top.raw      3                                    3   \n",
       "3  20181003_4-19_965m_top.raw      7                                    7   \n",
       "4  20181003_4-19_965m_top.raw      4                                    4   \n",
       "\n",
       "  Accession  PTM AScore  \n",
       "0  54036848  NaN    NaN  \n",
       "1  54036848  NaN    NaN  \n",
       "2   ETNP_70  NaN    NaN  \n",
       "3  54036848  NaN    NaN  \n",
       "4  54036848  NaN    NaN  "
      ]
     },
     "execution_count": 11,
     "metadata": {},
     "output_type": "execute_result"
    }
   ],
   "source": [
    "data.head()"
   ]
  },
  {
   "cell_type": "code",
   "execution_count": 12,
   "metadata": {
    "collapsed": true
   },
   "outputs": [],
   "source": [
    "# Keep only peptide column\n",
    "pep = data[[\"Peptide\"]]"
   ]
  },
  {
   "cell_type": "code",
   "execution_count": 13,
   "metadata": {
    "collapsed": false
   },
   "outputs": [
    {
     "data": {
      "text/html": [
       "<div>\n",
       "<table border=\"1\" class=\"dataframe\">\n",
       "  <thead>\n",
       "    <tr style=\"text-align: right;\">\n",
       "      <th></th>\n",
       "      <th>Peptide</th>\n",
       "    </tr>\n",
       "  </thead>\n",
       "  <tbody>\n",
       "    <tr>\n",
       "      <th>0</th>\n",
       "      <td>AIQQQIENPLAQQILSGELVPGK</td>\n",
       "    </tr>\n",
       "    <tr>\n",
       "      <th>1</th>\n",
       "      <td>LPQVEGTGGDVQPSQDLVR</td>\n",
       "    </tr>\n",
       "    <tr>\n",
       "      <th>2</th>\n",
       "      <td>SYELPDGQVITIGNER</td>\n",
       "    </tr>\n",
       "    <tr>\n",
       "      <th>3</th>\n",
       "      <td>VIGQNEAVDAVSNAIR</td>\n",
       "    </tr>\n",
       "    <tr>\n",
       "      <th>4</th>\n",
       "      <td>VTDAEIAEVLAR</td>\n",
       "    </tr>\n",
       "  </tbody>\n",
       "</table>\n",
       "</div>"
      ],
      "text/plain": [
       "                   Peptide\n",
       "0  AIQQQIENPLAQQILSGELVPGK\n",
       "1      LPQVEGTGGDVQPSQDLVR\n",
       "2         SYELPDGQVITIGNER\n",
       "3         VIGQNEAVDAVSNAIR\n",
       "4             VTDAEIAEVLAR"
      ]
     },
     "execution_count": 13,
     "metadata": {},
     "output_type": "execute_result"
    }
   ],
   "source": [
    "pep.head()"
   ]
  },
  {
   "cell_type": "code",
   "execution_count": 14,
   "metadata": {
    "collapsed": true
   },
   "outputs": [],
   "source": [
    "# Write altered dataframe to new csv file\n",
    "# Used header and index parameters to get rid of 'Peptide' header and the indexing\n",
    "\n",
    "pep.to_csv(\"/Users/meganduffy/Documents/git-repos/2017-etnp/data/uwpr-oct2018/273_4-19_965m_top+P-PEAKS19-20181004/273-peaks19-dbpeps.csv\", header=False, index=False)"
   ]
  },
  {
   "cell_type": "code",
   "execution_count": 15,
   "metadata": {
    "collapsed": true
   },
   "outputs": [],
   "source": [
    "# Write altered dataframe to new txt file\n",
    "# Used header and index parameters to get rid of 'Peptide' header and the indexing\n",
    "\n",
    "pep.to_csv(\"/Users/meganduffy/Documents/git-repos/2017-etnp/data/uwpr-oct2018/273_4-19_965m_top+P-PEAKS19-20181004/273-peaks19-dbpeps.txt\", header=False, index=False)"
   ]
  },
  {
   "cell_type": "code",
   "execution_count": 16,
   "metadata": {
    "collapsed": true
   },
   "outputs": [],
   "source": [
    "# Removes all characters in parentheses and saves as new file\n",
    "\n",
    "!awk -F \"[()]\" '{ for (i=2; i<NF; i+=2) print $i }' /Users/meganduffy/Documents/git-repos/2017-etnp/data/uwpr-oct2018/273_4-19_965m_top+P-PEAKS19-20181004/273-peaks19-dbpeps.txt > /Users/meganduffy/Documents/git-repos/2017-etnp/data/uwpr-oct2018/273_4-19_965m_top+P-PEAKS19-20181004/273-peaks19-db-mods.txt"
   ]
  },
  {
   "cell_type": "code",
   "execution_count": 17,
   "metadata": {
    "collapsed": false
   },
   "outputs": [
    {
     "name": "stdout",
     "output_type": "stream",
     "text": [
      "      72 /Users/meganduffy/Documents/git-repos/2017-etnp/data/uwpr-oct2018/273_4-19_965m_top+P-PEAKS19-20181004/273-peaks19-db-mods.txt\r\n"
     ]
    }
   ],
   "source": [
    "# How many modifications for this sample?\n",
    "\n",
    "!wc -l /Users/meganduffy/Documents/git-repos/2017-etnp/data/uwpr-oct2018/273_4-19_965m_top+P-PEAKS19-20181004/273-peaks19-db-mods.txt"
   ]
  },
  {
   "cell_type": "code",
   "execution_count": 18,
   "metadata": {
    "collapsed": false
   },
   "outputs": [
    {
     "name": "stdout",
     "output_type": "stream",
     "text": [
      "     651 /Users/meganduffy/Documents/git-repos/2017-etnp/data/uwpr-oct2018/273_4-19_965m_top+P-PEAKS19-20181004/273-peaks19-dbpeps.txt\r\n"
     ]
    }
   ],
   "source": [
    "# Compared with how many total peptides?\n",
    "\n",
    "!wc -l /Users/meganduffy/Documents/git-repos/2017-etnp/data/uwpr-oct2018/273_4-19_965m_top+P-PEAKS19-20181004/273-peaks19-dbpeps.txt"
   ]
  },
  {
   "cell_type": "code",
   "execution_count": 19,
   "metadata": {
    "collapsed": false
   },
   "outputs": [
    {
     "data": {
      "text/plain": [
       "0.11059907834101383"
      ]
     },
     "execution_count": 19,
     "metadata": {},
     "output_type": "execute_result"
    }
   ],
   "source": [
    "# What's the percentage of modified peptides for this sample?\n",
    "\n",
    "72/651"
   ]
  },
  {
   "cell_type": "code",
   "execution_count": 20,
   "metadata": {
    "collapsed": true
   },
   "outputs": [],
   "source": [
    "# Get rid of modifications from all peptides and save as a new file\n",
    "# Remove '(+15.99)' and '(+57.02)', (+.98) from sequences\n",
    "\n",
    "!sed 's/(+15.99)//g' /Users/meganduffy/Documents/git-repos/2017-etnp/data/uwpr-oct2018/273_4-19_965m_top+P-PEAKS19-20181004/273-peaks19-dbpeps.txt \\\n",
    "| sed 's/(+57.02)//g'\\\n",
    "| sed 's/(+.98)//g'\\\n",
    "> /Users/meganduffy/Documents/git-repos/2017-etnp/data/uwpr-oct2018/273_4-19_965m_top+P-PEAKS19-20181004/273-peaks19-db-nomods.txt"
   ]
  },
  {
   "cell_type": "code",
   "execution_count": 21,
   "metadata": {
    "collapsed": false
   },
   "outputs": [
    {
     "name": "stdout",
     "output_type": "stream",
     "text": [
      "AIQQQIENPLAQQILSGELVPGK\r\n",
      "LPQVEGTGGDVQPSQDLVR\r\n",
      "SYELPDGQVITIGNER\r\n",
      "VIGQNEAVDAVSNAIR\r\n",
      "VTDAEIAEVLAR\r\n",
      "QVHPDTGISSK\r\n",
      "AIDLIDEAASSIR\r\n",
      "AIDLIDEAASSLR\r\n",
      "YELPDGQVITIGNER\r\n",
      "NNPVLIGEPGVGK\r\n"
     ]
    }
   ],
   "source": [
    "# Looking OK?\n",
    "\n",
    "!head /Users/meganduffy/Documents/git-repos/2017-etnp/data/uwpr-oct2018/273_4-19_965m_top+P-PEAKS19-20181004/273-peaks19-db-nomods.txt"
   ]
  },
  {
   "cell_type": "code",
   "execution_count": 22,
   "metadata": {
    "collapsed": false
   },
   "outputs": [
    {
     "name": "stdout",
     "output_type": "stream",
     "text": [
      "273-peaks19-DB-search -psm.csv   273-peaks19-dno.csv\r\n",
      "273-peaks19-db-mods.txt          273-peaks19-dnopeps.csv\r\n",
      "273-peaks19-db-nomods.txt        273-peaks19-dnopeps.txt\r\n",
      "273-peaks19-dbpeps.csv           273-peaks19-peptide.csv\r\n",
      "273-peaks19-dbpeps.txt           273-peaks19-protein-peptides.csv\r\n",
      "273-peaks19-dno-mods.txt         273-peaks19-proteins.csv\r\n",
      "273-peaks19-dno-nomods.txt       273-peaks19-proteins.fasta\r\n"
     ]
    }
   ],
   "source": [
    "# New files in 273 data directory\n",
    "\n",
    "!ls /Users/meganduffy/Documents/git-repos/2017-etnp/data/uwpr-oct2018/273_4-19_965m_top+P-PEAKS19-20181004"
   ]
  },
  {
   "cell_type": "markdown",
   "metadata": {},
   "source": [
    "## 278 (90 min gradient)"
   ]
  },
  {
   "cell_type": "code",
   "execution_count": 23,
   "metadata": {
    "collapsed": false
   },
   "outputs": [
    {
     "name": "stdout",
     "output_type": "stream",
     "text": [
      "278-peaks105-DB-search-psm.csv    278-peaks105-dnopeps.txt\r\n",
      "278-peaks105-dno-mods.txt         278-peaks105-peptide.csv\r\n",
      "278-peaks105-dno-nomods.txt       278-peaks105-protein-peptides.csv\r\n",
      "278-peaks105-dno.csv              278-peaks105-proteins.csv\r\n",
      "278-peaks105-dnopeps.csv          278-peaks105-proteins.fasta\r\n"
     ]
    }
   ],
   "source": [
    "!ls /Users/meganduffy/Documents/git-repos/2017-etnp/data/uwpr-oct2018/278_4-19_265m_top+PA90min-PEAKS105-20181005/"
   ]
  },
  {
   "cell_type": "code",
   "execution_count": 24,
   "metadata": {
    "collapsed": true
   },
   "outputs": [],
   "source": [
    "data = pd.read_csv(\"/Users/meganduffy/Documents/git-repos/2017-etnp/data/uwpr-oct2018/278_4-19_265m_top+PA90min-PEAKS105-20181005/278-peaks105-peptide.csv\")"
   ]
  },
  {
   "cell_type": "code",
   "execution_count": 25,
   "metadata": {
    "collapsed": false
   },
   "outputs": [
    {
     "data": {
      "text/html": [
       "<div>\n",
       "<table border=\"1\" class=\"dataframe\">\n",
       "  <thead>\n",
       "    <tr style=\"text-align: right;\">\n",
       "      <th></th>\n",
       "      <th>Peptide</th>\n",
       "      <th>-10lgP</th>\n",
       "      <th>Mass</th>\n",
       "      <th>Length</th>\n",
       "      <th>ppm</th>\n",
       "      <th>m/z</th>\n",
       "      <th>RT</th>\n",
       "      <th>Area Sample 12: 278 4-19_265m_top+P-A_90min</th>\n",
       "      <th>Fraction</th>\n",
       "      <th>Scan</th>\n",
       "      <th>Source File</th>\n",
       "      <th>#Spec</th>\n",
       "      <th>#Spec Sample 12: 278 4-19_265m_top+P-A_90min</th>\n",
       "      <th>Accession</th>\n",
       "      <th>PTM</th>\n",
       "      <th>AScore</th>\n",
       "    </tr>\n",
       "  </thead>\n",
       "  <tbody>\n",
       "    <tr>\n",
       "      <th>0</th>\n",
       "      <td>AIQQQIENPLAQQILSGELVPGK</td>\n",
       "      <td>122.90</td>\n",
       "      <td>2473.3540</td>\n",
       "      <td>23</td>\n",
       "      <td>0.3</td>\n",
       "      <td>1237.6847</td>\n",
       "      <td>97.51</td>\n",
       "      <td>31900000.0</td>\n",
       "      <td>26</td>\n",
       "      <td>45087</td>\n",
       "      <td>20181004_4-19_265m_topP_278_90min.raw</td>\n",
       "      <td>4</td>\n",
       "      <td>4</td>\n",
       "      <td>54036848</td>\n",
       "      <td>NaN</td>\n",
       "      <td>NaN</td>\n",
       "    </tr>\n",
       "    <tr>\n",
       "      <th>1</th>\n",
       "      <td>LPQVEGTGGDVQPSQDLVR</td>\n",
       "      <td>112.73</td>\n",
       "      <td>1994.0068</td>\n",
       "      <td>19</td>\n",
       "      <td>1.5</td>\n",
       "      <td>998.0121</td>\n",
       "      <td>61.15</td>\n",
       "      <td>203000000.0</td>\n",
       "      <td>26</td>\n",
       "      <td>24694</td>\n",
       "      <td>20181004_4-19_265m_topP_278_90min.raw</td>\n",
       "      <td>7</td>\n",
       "      <td>7</td>\n",
       "      <td>54036848</td>\n",
       "      <td>NaN</td>\n",
       "      <td>NaN</td>\n",
       "    </tr>\n",
       "    <tr>\n",
       "      <th>2</th>\n",
       "      <td>VIGQNEAVDAVSNAIR</td>\n",
       "      <td>83.70</td>\n",
       "      <td>1654.8638</td>\n",
       "      <td>16</td>\n",
       "      <td>3.2</td>\n",
       "      <td>828.4418</td>\n",
       "      <td>72.46</td>\n",
       "      <td>120000000.0</td>\n",
       "      <td>26</td>\n",
       "      <td>30933</td>\n",
       "      <td>20181004_4-19_265m_topP_278_90min.raw</td>\n",
       "      <td>5</td>\n",
       "      <td>5</td>\n",
       "      <td>54036848</td>\n",
       "      <td>NaN</td>\n",
       "      <td>NaN</td>\n",
       "    </tr>\n",
       "    <tr>\n",
       "      <th>3</th>\n",
       "      <td>SYELPDGQVITIGNER</td>\n",
       "      <td>76.79</td>\n",
       "      <td>1789.8846</td>\n",
       "      <td>16</td>\n",
       "      <td>1.4</td>\n",
       "      <td>895.9509</td>\n",
       "      <td>79.65</td>\n",
       "      <td>14800000.0</td>\n",
       "      <td>26</td>\n",
       "      <td>35098</td>\n",
       "      <td>20181004_4-19_265m_topP_278_90min.raw</td>\n",
       "      <td>3</td>\n",
       "      <td>3</td>\n",
       "      <td>ETNP_70</td>\n",
       "      <td>NaN</td>\n",
       "      <td>NaN</td>\n",
       "    </tr>\n",
       "    <tr>\n",
       "      <th>4</th>\n",
       "      <td>LGEYGFQNALIVR</td>\n",
       "      <td>74.80</td>\n",
       "      <td>1478.7881</td>\n",
       "      <td>13</td>\n",
       "      <td>2.4</td>\n",
       "      <td>740.4031</td>\n",
       "      <td>81.89</td>\n",
       "      <td>800000.0</td>\n",
       "      <td>26</td>\n",
       "      <td>36415</td>\n",
       "      <td>20181004_4-19_265m_topP_278_90min.raw</td>\n",
       "      <td>2</td>\n",
       "      <td>2</td>\n",
       "      <td>CAA76847.1</td>\n",
       "      <td>NaN</td>\n",
       "      <td>NaN</td>\n",
       "    </tr>\n",
       "  </tbody>\n",
       "</table>\n",
       "</div>"
      ],
      "text/plain": [
       "                   Peptide  -10lgP       Mass  Length  ppm        m/z     RT  \\\n",
       "0  AIQQQIENPLAQQILSGELVPGK  122.90  2473.3540      23  0.3  1237.6847  97.51   \n",
       "1      LPQVEGTGGDVQPSQDLVR  112.73  1994.0068      19  1.5   998.0121  61.15   \n",
       "2         VIGQNEAVDAVSNAIR   83.70  1654.8638      16  3.2   828.4418  72.46   \n",
       "3         SYELPDGQVITIGNER   76.79  1789.8846      16  1.4   895.9509  79.65   \n",
       "4            LGEYGFQNALIVR   74.80  1478.7881      13  2.4   740.4031  81.89   \n",
       "\n",
       "   Area Sample 12: 278 4-19_265m_top+P-A_90min  Fraction   Scan  \\\n",
       "0                                   31900000.0        26  45087   \n",
       "1                                  203000000.0        26  24694   \n",
       "2                                  120000000.0        26  30933   \n",
       "3                                   14800000.0        26  35098   \n",
       "4                                     800000.0        26  36415   \n",
       "\n",
       "                             Source File  #Spec  \\\n",
       "0  20181004_4-19_265m_topP_278_90min.raw      4   \n",
       "1  20181004_4-19_265m_topP_278_90min.raw      7   \n",
       "2  20181004_4-19_265m_topP_278_90min.raw      5   \n",
       "3  20181004_4-19_265m_topP_278_90min.raw      3   \n",
       "4  20181004_4-19_265m_topP_278_90min.raw      2   \n",
       "\n",
       "   #Spec Sample 12: 278 4-19_265m_top+P-A_90min   Accession  PTM AScore  \n",
       "0                                             4    54036848  NaN    NaN  \n",
       "1                                             7    54036848  NaN    NaN  \n",
       "2                                             5    54036848  NaN    NaN  \n",
       "3                                             3     ETNP_70  NaN    NaN  \n",
       "4                                             2  CAA76847.1  NaN    NaN  "
      ]
     },
     "execution_count": 25,
     "metadata": {},
     "output_type": "execute_result"
    }
   ],
   "source": [
    "data.head()"
   ]
  },
  {
   "cell_type": "code",
   "execution_count": 26,
   "metadata": {
    "collapsed": true
   },
   "outputs": [],
   "source": [
    "# Keep only peptide column\n",
    "pep = data[[\"Peptide\"]]"
   ]
  },
  {
   "cell_type": "code",
   "execution_count": 27,
   "metadata": {
    "collapsed": false
   },
   "outputs": [
    {
     "data": {
      "text/html": [
       "<div>\n",
       "<table border=\"1\" class=\"dataframe\">\n",
       "  <thead>\n",
       "    <tr style=\"text-align: right;\">\n",
       "      <th></th>\n",
       "      <th>Peptide</th>\n",
       "    </tr>\n",
       "  </thead>\n",
       "  <tbody>\n",
       "    <tr>\n",
       "      <th>0</th>\n",
       "      <td>AIQQQIENPLAQQILSGELVPGK</td>\n",
       "    </tr>\n",
       "    <tr>\n",
       "      <th>1</th>\n",
       "      <td>LPQVEGTGGDVQPSQDLVR</td>\n",
       "    </tr>\n",
       "    <tr>\n",
       "      <th>2</th>\n",
       "      <td>VIGQNEAVDAVSNAIR</td>\n",
       "    </tr>\n",
       "    <tr>\n",
       "      <th>3</th>\n",
       "      <td>SYELPDGQVITIGNER</td>\n",
       "    </tr>\n",
       "    <tr>\n",
       "      <th>4</th>\n",
       "      <td>LGEYGFQNALIVR</td>\n",
       "    </tr>\n",
       "  </tbody>\n",
       "</table>\n",
       "</div>"
      ],
      "text/plain": [
       "                   Peptide\n",
       "0  AIQQQIENPLAQQILSGELVPGK\n",
       "1      LPQVEGTGGDVQPSQDLVR\n",
       "2         VIGQNEAVDAVSNAIR\n",
       "3         SYELPDGQVITIGNER\n",
       "4            LGEYGFQNALIVR"
      ]
     },
     "execution_count": 27,
     "metadata": {},
     "output_type": "execute_result"
    }
   ],
   "source": [
    "pep.head()"
   ]
  },
  {
   "cell_type": "code",
   "execution_count": 28,
   "metadata": {
    "collapsed": true
   },
   "outputs": [],
   "source": [
    "# Write altered dataframe to new csv file\n",
    "# Used header and index parameters to get rid of 'Peptide' header and the indexing\n",
    "\n",
    "pep.to_csv(\"/Users/meganduffy/Documents/git-repos/2017-etnp/data/uwpr-oct2018/278_4-19_265m_top+PA90min-PEAKS105-20181005/278-peaks105-dbpeps.csv\", header=False, index=False)"
   ]
  },
  {
   "cell_type": "code",
   "execution_count": 29,
   "metadata": {
    "collapsed": true
   },
   "outputs": [],
   "source": [
    "# Write altered dataframe to new txt file\n",
    "# Used header and index parameters to get rid of 'Peptide' header and the indexing\n",
    "\n",
    "pep.to_csv(\"/Users/meganduffy/Documents/git-repos/2017-etnp/data/uwpr-oct2018/278_4-19_265m_top+PA90min-PEAKS105-20181005/278-peaks105-dbpeps.txt\", header=False, index=False)"
   ]
  },
  {
   "cell_type": "code",
   "execution_count": 30,
   "metadata": {
    "collapsed": false
   },
   "outputs": [
    {
     "name": "stdout",
     "output_type": "stream",
     "text": [
      "AIQQQIENPLAQQILSGELVPGK\r\n",
      "LPQVEGTGGDVQPSQDLVR\r\n",
      "VIGQNEAVDAVSNAIR\r\n",
      "SYELPDGQVITIGNER\r\n",
      "LGEYGFQNALIVR\r\n",
      "GGYFPVAPVDSSQDIR\r\n",
      "AAVEEGVVAGGGVALLR\r\n",
      "AAVEEGVVAGGGVALIR\r\n",
      "RHPYFYAPELLYYANK\r\n",
      "SASIRIPVVPSPK\r\n"
     ]
    }
   ],
   "source": [
    "!head /Users/meganduffy/Documents/git-repos/2017-etnp/data/uwpr-oct2018/278_4-19_265m_top+PA90min-PEAKS105-20181005/278-peaks105-dbpeps.txt"
   ]
  },
  {
   "cell_type": "code",
   "execution_count": 31,
   "metadata": {
    "collapsed": true
   },
   "outputs": [],
   "source": [
    "# Removes all characters in parentheses and saves as new file\n",
    "\n",
    "!awk -F \"[()]\" '{ for (i=2; i<NF; i+=2) print $i }' /Users/meganduffy/Documents/git-repos/2017-etnp/data/uwpr-oct2018/278_4-19_265m_top+PA90min-PEAKS105-20181005/278-peaks105-dbpeps.txt > /Users/meganduffy/Documents/git-repos/2017-etnp/data/uwpr-oct2018/278_4-19_265m_top+PA90min-PEAKS105-20181005/278-peaks105-db-mods.txt"
   ]
  },
  {
   "cell_type": "code",
   "execution_count": 32,
   "metadata": {
    "collapsed": false
   },
   "outputs": [
    {
     "name": "stdout",
     "output_type": "stream",
     "text": [
      "+57.02\r\n",
      "+57.02\r\n",
      "+57.02\r\n",
      "+57.02\r\n",
      "+57.02\r\n",
      "+57.02\r\n",
      "+57.02\r\n",
      "+57.02\r\n",
      "+57.02\r\n",
      "+57.02\r\n"
     ]
    }
   ],
   "source": [
    "# How does the modifications text file look?\n",
    "\n",
    "!head /Users/meganduffy/Documents/git-repos/2017-etnp/data/uwpr-oct2018/278_4-19_265m_top+PA90min-PEAKS105-20181005/278-peaks105-db-mods.txt"
   ]
  },
  {
   "cell_type": "code",
   "execution_count": 33,
   "metadata": {
    "collapsed": false
   },
   "outputs": [
    {
     "name": "stdout",
     "output_type": "stream",
     "text": [
      "     109 /Users/meganduffy/Documents/git-repos/2017-etnp/data/uwpr-oct2018/278_4-19_265m_top+PA90min-PEAKS105-20181005/278-peaks105-db-mods.txt\r\n"
     ]
    }
   ],
   "source": [
    "# How many modifications for this sample?\n",
    "\n",
    "!wc -l /Users/meganduffy/Documents/git-repos/2017-etnp/data/uwpr-oct2018/278_4-19_265m_top+PA90min-PEAKS105-20181005/278-peaks105-db-mods.txt"
   ]
  },
  {
   "cell_type": "code",
   "execution_count": 34,
   "metadata": {
    "collapsed": false
   },
   "outputs": [
    {
     "name": "stdout",
     "output_type": "stream",
     "text": [
      "     849 /Users/meganduffy/Documents/git-repos/2017-etnp/data/uwpr-oct2018/278_4-19_265m_top+PA90min-PEAKS105-20181005/278-peaks105-dbpeps.txt\r\n"
     ]
    }
   ],
   "source": [
    "# Compared with how many total peptides?\n",
    "\n",
    "!wc -l /Users/meganduffy/Documents/git-repos/2017-etnp/data/uwpr-oct2018/278_4-19_265m_top+PA90min-PEAKS105-20181005/278-peaks105-dbpeps.txt"
   ]
  },
  {
   "cell_type": "code",
   "execution_count": 35,
   "metadata": {
    "collapsed": false
   },
   "outputs": [
    {
     "data": {
      "text/plain": [
       "0.12838633686690223"
      ]
     },
     "execution_count": 35,
     "metadata": {},
     "output_type": "execute_result"
    }
   ],
   "source": [
    "# What's the percentage of modified peptides for this sample?\n",
    "\n",
    "109/849"
   ]
  },
  {
   "cell_type": "code",
   "execution_count": 36,
   "metadata": {
    "collapsed": true
   },
   "outputs": [],
   "source": [
    "# Get rid of modifications from all peptides and save as a new file\n",
    "# Remove '(+15.99)' and '(+57.02)', (+.98) from sequences\n",
    "\n",
    "!sed 's/(+15.99)//g' /Users/meganduffy/Documents/git-repos/2017-etnp/data/uwpr-oct2018/278_4-19_265m_top+PA90min-PEAKS105-20181005/278-peaks105-dbpeps.txt \\\n",
    "| sed 's/(+57.02)//g'\\\n",
    "| sed 's/(+.98)//g'\\\n",
    "> /Users/meganduffy/Documents/git-repos/2017-etnp/data/uwpr-oct2018/278_4-19_265m_top+PA90min-PEAKS105-20181005/278-peaks105-db-nomods.txt"
   ]
  },
  {
   "cell_type": "code",
   "execution_count": 37,
   "metadata": {
    "collapsed": false
   },
   "outputs": [
    {
     "name": "stdout",
     "output_type": "stream",
     "text": [
      "AIQQQIENPLAQQILSGELVPGK\r\n",
      "LPQVEGTGGDVQPSQDLVR\r\n",
      "VIGQNEAVDAVSNAIR\r\n",
      "SYELPDGQVITIGNER\r\n",
      "LGEYGFQNALIVR\r\n",
      "GGYFPVAPVDSSQDIR\r\n",
      "AAVEEGVVAGGGVALLR\r\n",
      "AAVEEGVVAGGGVALIR\r\n",
      "RHPYFYAPELLYYANK\r\n",
      "SASIRIPVVPSPK\r\n"
     ]
    }
   ],
   "source": [
    "!head /Users/meganduffy/Documents/git-repos/2017-etnp/data/uwpr-oct2018/278_4-19_265m_top+PA90min-PEAKS105-20181005/278-peaks105-db-nomods.txt"
   ]
  },
  {
   "cell_type": "code",
   "execution_count": 38,
   "metadata": {
    "collapsed": false
   },
   "outputs": [
    {
     "name": "stdout",
     "output_type": "stream",
     "text": [
      "278-peaks105-DB-search-psm.csv    278-peaks105-dno.csv\r\n",
      "278-peaks105-db-mods.txt          278-peaks105-dnopeps.csv\r\n",
      "278-peaks105-db-nomods.txt        278-peaks105-dnopeps.txt\r\n",
      "278-peaks105-dbpeps.csv           278-peaks105-peptide.csv\r\n",
      "278-peaks105-dbpeps.txt           278-peaks105-protein-peptides.csv\r\n",
      "278-peaks105-dno-mods.txt         278-peaks105-proteins.csv\r\n",
      "278-peaks105-dno-nomods.txt       278-peaks105-proteins.fasta\r\n"
     ]
    }
   ],
   "source": [
    "!ls /Users/meganduffy/Documents/git-repos/2017-etnp/data/uwpr-oct2018/278_4-19_265m_top+PA90min-PEAKS105-20181005/"
   ]
  },
  {
   "cell_type": "code",
   "execution_count": null,
   "metadata": {
    "collapsed": true
   },
   "outputs": [],
   "source": []
  }
 ],
 "metadata": {
  "anaconda-cloud": {},
  "kernelspec": {
   "display_name": "Python [default]",
   "language": "python",
   "name": "python3"
  },
  "language_info": {
   "codemirror_mode": {
    "name": "ipython",
    "version": 3
   },
   "file_extension": ".py",
   "mimetype": "text/x-python",
   "name": "python",
   "nbconvert_exporter": "python",
   "pygments_lexer": "ipython3",
   "version": "3.5.2"
  }
 },
 "nbformat": 4,
 "nbformat_minor": 1
}
