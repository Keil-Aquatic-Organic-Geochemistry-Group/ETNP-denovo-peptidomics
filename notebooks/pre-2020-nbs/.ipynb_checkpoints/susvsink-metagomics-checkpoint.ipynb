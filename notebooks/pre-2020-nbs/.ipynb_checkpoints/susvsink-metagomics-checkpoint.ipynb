{
 "cells": [
  {
   "cell_type": "code",
   "execution_count": 1,
   "metadata": {
    "collapsed": false
   },
   "outputs": [
    {
     "name": "stdout",
     "output_type": "stream",
     "text": [
      "Mon Sep  3 20:48:43 PDT 2018\r\n"
     ]
    }
   ],
   "source": [
    "!date"
   ]
  },
  {
   "cell_type": "markdown",
   "metadata": {},
   "source": [
    "### Notebook for inputting a looking at data though MetaGOmics with ETNP 2017 susvsink project (4 samples: 100 m sinking and suspended; 1000 m sinking and suspended) ###\n",
    "\n",
    "### Input susvsink-proteins.fasta as the protein database (so, all the proteins found in the PEAKS Spider search) ### \n",
    "\n",
    "### Reformatting susvsink-peptides file for MetaGOmics input. Made a txt file with just the peptides and the spectral counts. Here it is: ###\n",
    "\n"
   ]
  },
  {
   "cell_type": "code",
   "execution_count": 7,
   "metadata": {
    "collapsed": false
   },
   "outputs": [
    {
     "name": "stdout",
     "output_type": "stream",
     "text": [
      "��L\u0000P\u0000Q\u0000V\u0000E\u0000G\u0000T\u0000G\u0000G\u0000D\u0000V\u0000Q\u0000P\u0000S\u0000Q\u0000D\u0000L\u0000V\u0000R\u0000\t\u00004\u00006\u0000\r",
      "\u0000\r\n",
      "\u0000A\u0000I\u0000Q\u0000Q\u0000Q\u0000I\u0000E\u0000N\u0000P\u0000L\u0000A\u0000Q\u0000Q\u0000I\u0000L\u0000S\u0000G\u0000E\u0000L\u0000V\u0000P\u0000G\u0000K\u0000\t\u00001\u00009\u0000\r",
      "\u0000\r\n",
      "\u0000I\u0000V\u0000V\u0000G\u0000G\u0000P\u0000Y\u0000S\u0000S\u0000V\u0000S\u0000D\u0000A\u0000A\u0000S\u0000V\u0000L\u0000D\u0000G\u0000S\u0000Q\u0000K\u0000\t\u00007\u0000\r",
      "\u0000\r\n",
      "\u0000I\u0000V\u0000V\u0000G\u0000G\u0000P\u0000Y\u0000S\u0000S\u0000V\u0000S\u0000D\u0000A\u0000A\u0000S\u0000S\u0000L\u0000D\u0000S\u0000S\u0000Q\u0000K\u0000\t\u00006\u0000\r",
      "\u0000\r\n",
      "\u0000L\u0000P\u0000Q\u0000V\u0000E\u0000G\u0000T\u0000G\u0000G\u0000D\u0000V\u0000Q\u0000(\u0000+\u0000.\u00009\u00008\u0000)\u0000P\u0000S\u0000Q\u0000D\u0000L\u0000V\u0000R\u0000\t\u00001\u00000\u0000\r",
      "\u0000\r\n",
      "\u0000Q\u0000A\u0000V\u0000S\u0000A\u0000D\u0000S\u0000S\u0000G\u0000S\u0000F\u0000I\u0000G\u0000G\u0000A\u0000E\u0000L\u0000A\u0000S\u0000L\u0000K\u0000\t\u00007\u0000\r",
      "\u0000\r\n",
      "\u0000L\u0000G\u0000E\u0000H\u0000N\u0000I\u0000D\u0000V\u0000L\u0000E\u0000G\u0000N\u0000E\u0000Q\u0000F\u0000I\u0000N\u0000A\u0000A\u0000K\u0000\t\u00002\u00000\u0000\r",
      "\u0000\r\n",
      "\u0000V\u0000I\u0000G\u0000Q\u0000N\u0000E\u0000A\u0000V\u0000D\u0000A\u0000V\u0000S\u0000N\u0000A\u0000I\u0000R\u0000\t\u00004\u00002\u0000\r",
      "\u0000\r\n",
      "\u0000T\u0000N\u0000Y\u0000F\u0000G\u0000I\u0000Q\u0000G\u0000T\u0000D\u0000N\u0000G\u0000N\u0000L\u0000T\u0000N\u0000S\u0000F\u0000A\u0000E\u0000S\u0000E\u0000L\u0000E\u0000R\u0000\t\u00003\u0000\r",
      "\u0000\r\n",
      "\u0000T\u0000N\u0000Y\u0000F\u0000G\u0000L\u0000Q\u0000G\u0000T\u0000D\u0000N\u0000G\u0000N\u0000L\u0000T\u0000N\u0000S\u0000F\u0000A\u0000E\u0000S\u0000E\u0000L\u0000E\u0000R\u0000\t\u00003\u0000\r",
      "\u0000\r\n"
     ]
    }
   ],
   "source": [
    "!head /Users/meganduffy/Documents/git-repos/2017-etnp/data/sus-vs-sink/MED_ETNP2017_susvsink_SPIDER_10/susvsink-peptide-metagomics-inputs.txt"
   ]
  },
  {
   "cell_type": "code",
   "execution_count": 15,
   "metadata": {
    "collapsed": false
   },
   "outputs": [],
   "source": [
    "# Now I need to get all the modifications out. Using the long bit of code from first MetaGOmics notebook.\n",
    "# Always make sure the input is TAB delimited!\n",
    "!sed 's/(+15.99)//g' /Users/meganduffy/Documents/git-repos/2017-etnp/data/sus-vs-sink/MED_ETNP2017_susvsink_SPIDER_10/susvsink-peptide-metagomics-input.txt \\\n",
    "| sed 's/(+57.02)//g'\\\n",
    "| sed 's/(+.98)//g'\\\n",
    "| sed 's/(+21.98)//g'\\\n",
    "| sed 's/(+28.03)//g'\\\n",
    "| sed 's/(+37.95)//g'\\\n",
    "| sed 's/(-17.03)//g'\\\n",
    "| sed 's/(+14.02)//g'\\\n",
    "| sed 's/(-15.99)//g'\\\n",
    "| sed 's/(+42.01)//g'\\\n",
    "| sed 's/(sub Q)//g'\\\n",
    "| sed 's/(+71.04)//g'\\\n",
    "| sed 's/(+55.92)//g'\\\n",
    "| sed 's/(sub A)//g'\\\n",
    "| sed 's/(+30.01)//g'\\\n",
    "| sed 's/(+3.99)//g'\\\n",
    "| sed 's/(+58.01)//g'\\\n",
    "| sed 's/(+43.01)//g'\\\n",
    "| sed 's/(+72.02)//g'\\\n",
    "| sed 's/(-18.01)//g'\\\n",
    "| sed 's/(sub D)//g'\\\n",
    "| sed 's/(sub G)//g'\\\n",
    "| sed 's/(+27.99)//g'\\\n",
    "| sed 's/(sub K)//g'\\\n",
    "| sed 's/(+37.96)//g'\\\n",
    "| sed 's/(+43.99)//g'\\\n",
    "| sed 's/(+21.97)//g'\\\n",
    "| sed 's/(+31.99)//g'\\\n",
    "| sed 's/(sub I)//g'\\\n",
    "| sed 's/(sub S)//g'\\\n",
    "| sed 's/(sub N)//g'\\\n",
    "| sed 's/(+15.01)//g'\\\n",
    "| sed 's/(-.98)//g'\\\n",
    "| sed 's/(+114.04)//g'\\\n",
    "| sed 's/(sub Y)//g'\\\n",
    "| sed 's/(sub T)//g'\\\n",
    "| sed 's/(del Q)//g'\\\n",
    "| sed 's/(-48.00)//g'\\\n",
    "| sed 's/(+100.02)//g'\\\n",
    "| sed 's/(+17.03)//g'\\\n",
    "| sed 's/(+79.97)//g'\\\n",
    "| sed 's/(+17.03)//g'\\\n",
    "| sed 's/(sub L)//g'\\\n",
    "| sed 's/(+53.92)//g'\\\n",
    "| sed 's/(sub V)//g'\\\n",
    "| sed 's/(sub M)//g'\\\n",
    "| sed 's/(+15.00)//g'\\\n",
    "| sed 's/(+150.04)//g'\\\n",
    "| sed 's/(+60.00)//g'\\\n",
    "| sed 's/(+119.04)//g'\\\n",
    "| sed 's/(+41.03)//g'\\\n",
    "| sed 's/(+29.02)//g'\\\n",
    "| sed 's/(+79.96)//g'\\\n",
    "| sed 's/(+282.05)//g'\\\n",
    "| sed 's/(del N)//g'\\\n",
    "| sed 's/(+228.11)//g'\\\n",
    "| sed 's/(sub E)//g'\\\n",
    "| sed 's/(+27.05)//g'\\\n",
    "| sed 's/(+87.03)//g'\\\n",
    "| sed 's/(-15.01)//g'\\\n",
    "| sed 's/(-1.03)//g'\\\n",
    "| sed 's/(sub F)//g'\\\n",
    "| sed 's/(del A)//g'\\\n",
    "| sed 's/(+29.04)//g'\\\n",
    "> /Users/meganduffy/Documents/git-repos/2017-etnp/data/sus-vs-sink/MED_ETNP2017_susvsink_SPIDER_10/susvsink-peptide-metagomics-input-nomod.txt"
   ]
  },
  {
   "cell_type": "code",
   "execution_count": 16,
   "metadata": {
    "collapsed": false
   },
   "outputs": [
    {
     "name": "stdout",
     "output_type": "stream",
     "text": [
      "LPQVEGTGGDVQPSQDLVR\t46\r",
      "\r\n",
      "AIQQQIENPLAQQILSGELVPGK\t19\r",
      "\r\n",
      "IVVGGPYSSVSDAASVLDGSQK\t7\r",
      "\r\n",
      "IVVGGPYSSVSDAASSLDSSQK\t6\r",
      "\r\n",
      "LPQVEGTGGDVQPSQDLVR\t10\r",
      "\r\n",
      "QAVSADSSGSFIGGAELASLK\t7\r",
      "\r\n",
      "LGEHNIDVLEGNEQFINAAK\t20\r",
      "\r\n",
      "VIGQNEAVDAVSNAIR\t42\r",
      "\r\n",
      "TNYFGIQGTDNGNLTNSFAESELER\t3\r",
      "\r\n",
      "TNYFGLQGTDNGNLTNSFAESELER\t3\r",
      "\r\n"
     ]
    }
   ],
   "source": [
    "!head /Users/meganduffy/Documents/git-repos/2017-etnp/data/sus-vs-sink/MED_ETNP2017_susvsink_SPIDER_10/susvsink-peptide-metagomics-input-nomod.txt"
   ]
  },
  {
   "cell_type": "code",
   "execution_count": 17,
   "metadata": {
    "collapsed": false
   },
   "outputs": [
    {
     "name": "stdout",
     "output_type": "stream",
     "text": [
      "    2159    4318   35773 /Users/meganduffy/Documents/git-repos/2017-etnp/data/ja1-ja6/MED_ETNP_JA2_uwpr201704_SPIDER_19/ja2-metagomics-nomod-input.txt\r\n"
     ]
    }
   ],
   "source": [
    "!wc /Users/meganduffy/Documents/git-repos/2017-etnp/data/ja1-ja6/MED_ETNP_JA2_uwpr201704_SPIDER_19/ja2-metagomics-nomod-input.txt"
   ]
  },
  {
   "cell_type": "code",
   "execution_count": null,
   "metadata": {
    "collapsed": true
   },
   "outputs": [],
   "source": []
  }
 ],
 "metadata": {
  "anaconda-cloud": {},
  "kernelspec": {
   "display_name": "Python [default]",
   "language": "python",
   "name": "python3"
  },
  "language_info": {
   "codemirror_mode": {
    "name": "ipython",
    "version": 3
   },
   "file_extension": ".py",
   "mimetype": "text/x-python",
   "name": "python",
   "nbconvert_exporter": "python",
   "pygments_lexer": "ipython3",
   "version": "3.5.2"
  }
 },
 "nbformat": 4,
 "nbformat_minor": 1
}
