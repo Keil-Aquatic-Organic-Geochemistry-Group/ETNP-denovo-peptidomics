{
 "cells": [
  {
   "cell_type": "code",
   "execution_count": 1,
   "metadata": {},
   "outputs": [
    {
     "name": "stdout",
     "output_type": "stream",
     "text": [
      "Thu Dec 19 12:27:49 PST 2019\r\n"
     ]
    }
   ],
   "source": [
    "!date"
   ]
  },
  {
   "cell_type": "code",
   "execution_count": 2,
   "metadata": {},
   "outputs": [
    {
     "name": "stdout",
     "output_type": "stream",
     "text": [
      "Software:\r\n",
      "\r\n",
      "    System Software Overview:\r\n",
      "\r\n",
      "      System Version: macOS 10.14.6 (18G1012)\r\n",
      "      Kernel Version: Darwin 18.7.0\r\n",
      "      Boot Volume: Macintosh HD\r\n",
      "      Boot Mode: Normal\r\n",
      "      Computer Name: Megan’s MacBook Pro (2)\r\n",
      "      User Name: Megan Duffy (meganduffy)\r\n",
      "      Secure Virtual Memory: Enabled\r\n",
      "      System Integrity Protection: Enabled\r\n",
      "      Time since boot: 3 days 1:19\r\n",
      "\r\n"
     ]
    }
   ],
   "source": [
    "!system_profiler SPSoftwareDataType"
   ]
  },
  {
   "cell_type": "markdown",
   "metadata": {},
   "source": [
    "###  Notebook to document text extraction and editing of UWPR October 2018 ETNP 2017 (samples 2-9 and 4-19) no enzyme searched DB peptides\n",
    "### Exported the results of PEAKS 8.5 searches into Git ETNP 2017 data directory\n",
    "### Sample 278: ETNP 2017 4-19 265 m top +P, PEAKS 208 no enzyme"
   ]
  },
  {
   "cell_type": "code",
   "execution_count": 4,
   "metadata": {},
   "outputs": [
    {
     "name": "stdout",
     "output_type": "stream",
     "text": [
      "278-peaks208-noenz-dno-mods.txt   278-peaks208-noenz-peptide.csv\r\n",
      "278-peaks208-noenz-dno-nomods.txt 278-peaks208-tryptic-noenz.txt\r\n",
      "278-peaks208-noenz-dnopeps.txt\r\n"
     ]
    }
   ],
   "source": [
    "!ls /Users/meganduffy/Documents/git-repos/2017-etnp/data/uwpr-oct2018/UWPR-Oct2018-noenz/etnp-4-19_265m_topP-278-20181004-NOENZ-PEAKS208/"
   ]
  },
  {
   "cell_type": "code",
   "execution_count": 5,
   "metadata": {
    "collapsed": true
   },
   "outputs": [],
   "source": [
    "import os"
   ]
  },
  {
   "cell_type": "code",
   "execution_count": 6,
   "metadata": {},
   "outputs": [
    {
     "data": {
      "text/plain": [
       "'/Users/meganduffy/Documents/git-repos/2017-etnp/notebooks'"
      ]
     },
     "execution_count": 6,
     "metadata": {},
     "output_type": "execute_result"
    }
   ],
   "source": [
    "os.getcwd()"
   ]
  },
  {
   "cell_type": "code",
   "execution_count": 7,
   "metadata": {
    "collapsed": true
   },
   "outputs": [],
   "source": [
    "import pandas as pd"
   ]
  },
  {
   "cell_type": "code",
   "execution_count": 8,
   "metadata": {},
   "outputs": [
    {
     "data": {
      "text/plain": [
       "'0.18.1'"
      ]
     },
     "execution_count": 8,
     "metadata": {},
     "output_type": "execute_result"
    }
   ],
   "source": [
    "pd.__version__"
   ]
  },
  {
   "cell_type": "code",
   "execution_count": 9,
   "metadata": {
    "collapsed": true
   },
   "outputs": [],
   "source": [
    "data = pd.read_csv(\"/Users/meganduffy/Documents/git-repos/2017-etnp/data/uwpr-oct2018/UWPR-Oct2018-noenz/etnp-4-19_265m_topP-278-20181004-NOENZ-PEAKS208/278-peaks208-noenz-peptide.csv\")"
   ]
  },
  {
   "cell_type": "code",
   "execution_count": 10,
   "metadata": {},
   "outputs": [
    {
     "data": {
      "text/html": [
       "<div>\n",
       "<table border=\"1\" class=\"dataframe\">\n",
       "  <thead>\n",
       "    <tr style=\"text-align: right;\">\n",
       "      <th></th>\n",
       "      <th>Peptide</th>\n",
       "      <th>-10lgP</th>\n",
       "      <th>Mass</th>\n",
       "      <th>Length</th>\n",
       "      <th>ppm</th>\n",
       "      <th>m/z</th>\n",
       "      <th>RT</th>\n",
       "      <th>Area Sample 12: 278 4-19_265m_top+P-A_90min</th>\n",
       "      <th>Fraction</th>\n",
       "      <th>Scan</th>\n",
       "      <th>Source File</th>\n",
       "      <th>#Spec</th>\n",
       "      <th>#Spec Sample 12: 278 4-19_265m_top+P-A_90min</th>\n",
       "      <th>Accession</th>\n",
       "      <th>PTM</th>\n",
       "      <th>AScore</th>\n",
       "    </tr>\n",
       "  </thead>\n",
       "  <tbody>\n",
       "    <tr>\n",
       "      <th>0</th>\n",
       "      <td>AIQQQIENPLAQQILSGELVPGK</td>\n",
       "      <td>74.72</td>\n",
       "      <td>2473.3540</td>\n",
       "      <td>23</td>\n",
       "      <td>0.3</td>\n",
       "      <td>1237.6847</td>\n",
       "      <td>97.51</td>\n",
       "      <td>31900000.0</td>\n",
       "      <td>26</td>\n",
       "      <td>45087</td>\n",
       "      <td>20181004_4-19_265m_topP_278_90min.raw</td>\n",
       "      <td>4</td>\n",
       "      <td>4</td>\n",
       "      <td>54036848</td>\n",
       "      <td>NaN</td>\n",
       "      <td>NaN</td>\n",
       "    </tr>\n",
       "    <tr>\n",
       "      <th>1</th>\n",
       "      <td>LPQVEGTGGDVQPSQDLVR</td>\n",
       "      <td>70.48</td>\n",
       "      <td>1994.0068</td>\n",
       "      <td>19</td>\n",
       "      <td>1.5</td>\n",
       "      <td>998.0121</td>\n",
       "      <td>61.15</td>\n",
       "      <td>203000000.0</td>\n",
       "      <td>26</td>\n",
       "      <td>24694</td>\n",
       "      <td>20181004_4-19_265m_topP_278_90min.raw</td>\n",
       "      <td>4</td>\n",
       "      <td>4</td>\n",
       "      <td>54036848</td>\n",
       "      <td>NaN</td>\n",
       "      <td>NaN</td>\n",
       "    </tr>\n",
       "    <tr>\n",
       "      <th>2</th>\n",
       "      <td>VIGQNEAVDAVSNAIR</td>\n",
       "      <td>54.53</td>\n",
       "      <td>1654.8638</td>\n",
       "      <td>16</td>\n",
       "      <td>3.2</td>\n",
       "      <td>828.4418</td>\n",
       "      <td>72.96</td>\n",
       "      <td>120000000.0</td>\n",
       "      <td>26</td>\n",
       "      <td>31216</td>\n",
       "      <td>20181004_4-19_265m_topP_278_90min.raw</td>\n",
       "      <td>5</td>\n",
       "      <td>5</td>\n",
       "      <td>54036848</td>\n",
       "      <td>NaN</td>\n",
       "      <td>NaN</td>\n",
       "    </tr>\n",
       "    <tr>\n",
       "      <th>3</th>\n",
       "      <td>AHVDC(+57.02)PGHADY</td>\n",
       "      <td>52.01</td>\n",
       "      <td>1240.4930</td>\n",
       "      <td>11</td>\n",
       "      <td>1.2</td>\n",
       "      <td>621.2545</td>\n",
       "      <td>30.42</td>\n",
       "      <td>1750000.0</td>\n",
       "      <td>26</td>\n",
       "      <td>9999</td>\n",
       "      <td>20181004_4-19_265m_topP_278_90min.raw</td>\n",
       "      <td>2</td>\n",
       "      <td>2</td>\n",
       "      <td>WP_011467412.1</td>\n",
       "      <td>Carbamidomethylation</td>\n",
       "      <td>C5:Carbamidomethylation:1000.00</td>\n",
       "    </tr>\n",
       "    <tr>\n",
       "      <th>4</th>\n",
       "      <td>SYELPDGQVITIGNER</td>\n",
       "      <td>51.16</td>\n",
       "      <td>1789.8846</td>\n",
       "      <td>16</td>\n",
       "      <td>1.4</td>\n",
       "      <td>895.9509</td>\n",
       "      <td>79.65</td>\n",
       "      <td>14800000.0</td>\n",
       "      <td>26</td>\n",
       "      <td>35098</td>\n",
       "      <td>20181004_4-19_265m_topP_278_90min.raw</td>\n",
       "      <td>3</td>\n",
       "      <td>3</td>\n",
       "      <td>ETNP_70</td>\n",
       "      <td>NaN</td>\n",
       "      <td>NaN</td>\n",
       "    </tr>\n",
       "  </tbody>\n",
       "</table>\n",
       "</div>"
      ],
      "text/plain": [
       "                   Peptide  -10lgP       Mass  Length  ppm        m/z     RT  \\\n",
       "0  AIQQQIENPLAQQILSGELVPGK   74.72  2473.3540      23  0.3  1237.6847  97.51   \n",
       "1      LPQVEGTGGDVQPSQDLVR   70.48  1994.0068      19  1.5   998.0121  61.15   \n",
       "2         VIGQNEAVDAVSNAIR   54.53  1654.8638      16  3.2   828.4418  72.96   \n",
       "3      AHVDC(+57.02)PGHADY   52.01  1240.4930      11  1.2   621.2545  30.42   \n",
       "4         SYELPDGQVITIGNER   51.16  1789.8846      16  1.4   895.9509  79.65   \n",
       "\n",
       "   Area Sample 12: 278 4-19_265m_top+P-A_90min  Fraction   Scan  \\\n",
       "0                                   31900000.0        26  45087   \n",
       "1                                  203000000.0        26  24694   \n",
       "2                                  120000000.0        26  31216   \n",
       "3                                    1750000.0        26   9999   \n",
       "4                                   14800000.0        26  35098   \n",
       "\n",
       "                             Source File  #Spec  \\\n",
       "0  20181004_4-19_265m_topP_278_90min.raw      4   \n",
       "1  20181004_4-19_265m_topP_278_90min.raw      4   \n",
       "2  20181004_4-19_265m_topP_278_90min.raw      5   \n",
       "3  20181004_4-19_265m_topP_278_90min.raw      2   \n",
       "4  20181004_4-19_265m_topP_278_90min.raw      3   \n",
       "\n",
       "   #Spec Sample 12: 278 4-19_265m_top+P-A_90min       Accession  \\\n",
       "0                                             4        54036848   \n",
       "1                                             4        54036848   \n",
       "2                                             5        54036848   \n",
       "3                                             2  WP_011467412.1   \n",
       "4                                             3         ETNP_70   \n",
       "\n",
       "                    PTM                           AScore  \n",
       "0                   NaN                              NaN  \n",
       "1                   NaN                              NaN  \n",
       "2                   NaN                              NaN  \n",
       "3  Carbamidomethylation  C5:Carbamidomethylation:1000.00  \n",
       "4                   NaN                              NaN  "
      ]
     },
     "execution_count": 10,
     "metadata": {},
     "output_type": "execute_result"
    }
   ],
   "source": [
    "data.head()"
   ]
  },
  {
   "cell_type": "code",
   "execution_count": 11,
   "metadata": {
    "collapsed": true
   },
   "outputs": [],
   "source": [
    "# Keep only peptide column\n",
    "pep = data[[\"Peptide\"]]"
   ]
  },
  {
   "cell_type": "code",
   "execution_count": 12,
   "metadata": {},
   "outputs": [
    {
     "data": {
      "text/html": [
       "<div>\n",
       "<table border=\"1\" class=\"dataframe\">\n",
       "  <thead>\n",
       "    <tr style=\"text-align: right;\">\n",
       "      <th></th>\n",
       "      <th>Peptide</th>\n",
       "    </tr>\n",
       "  </thead>\n",
       "  <tbody>\n",
       "    <tr>\n",
       "      <th>0</th>\n",
       "      <td>AIQQQIENPLAQQILSGELVPGK</td>\n",
       "    </tr>\n",
       "    <tr>\n",
       "      <th>1</th>\n",
       "      <td>LPQVEGTGGDVQPSQDLVR</td>\n",
       "    </tr>\n",
       "    <tr>\n",
       "      <th>2</th>\n",
       "      <td>VIGQNEAVDAVSNAIR</td>\n",
       "    </tr>\n",
       "    <tr>\n",
       "      <th>3</th>\n",
       "      <td>AHVDC(+57.02)PGHADY</td>\n",
       "    </tr>\n",
       "    <tr>\n",
       "      <th>4</th>\n",
       "      <td>SYELPDGQVITIGNER</td>\n",
       "    </tr>\n",
       "  </tbody>\n",
       "</table>\n",
       "</div>"
      ],
      "text/plain": [
       "                   Peptide\n",
       "0  AIQQQIENPLAQQILSGELVPGK\n",
       "1      LPQVEGTGGDVQPSQDLVR\n",
       "2         VIGQNEAVDAVSNAIR\n",
       "3      AHVDC(+57.02)PGHADY\n",
       "4         SYELPDGQVITIGNER"
      ]
     },
     "execution_count": 12,
     "metadata": {},
     "output_type": "execute_result"
    }
   ],
   "source": [
    "pep.head()"
   ]
  },
  {
   "cell_type": "code",
   "execution_count": 13,
   "metadata": {
    "collapsed": true
   },
   "outputs": [],
   "source": [
    "# Write altered dataframe to new txt file\n",
    "# Used header and index parameters to get rid of 'Peptide' header and the indexing\n",
    "\n",
    "pep.to_csv(\"/Users/meganduffy/Documents/git-repos/2017-etnp/data/uwpr-oct2018/UWPR-Oct2018-noenz/etnp-4-19_265m_topP-278-20181004-NOENZ-PEAKS208/278-peaks208-noenz-dbpeps.txt\", header=False, index=False)"
   ]
  },
  {
   "cell_type": "code",
   "execution_count": 14,
   "metadata": {},
   "outputs": [
    {
     "name": "stdout",
     "output_type": "stream",
     "text": [
      "AIQQQIENPLAQQILSGELVPGK\r\n",
      "LPQVEGTGGDVQPSQDLVR\r\n",
      "VIGQNEAVDAVSNAIR\r\n",
      "AHVDC(+57.02)PGHADY\r\n",
      "SYELPDGQVITIGNER\r\n",
      "VLEGNEQFINAAK\r\n",
      "YLVDSGGQYLDGTTDITR\r\n",
      "LGEYGFQNALIVR\r\n",
      "AHVDC(+57.02)PGHAD\r\n",
      "SASIRIPVVPSPK\r\n"
     ]
    }
   ],
   "source": [
    "# Viewing new txt file\n",
    "\n",
    "!head /Users/meganduffy/Documents/git-repos/2017-etnp/data/uwpr-oct2018/UWPR-Oct2018-noenz/etnp-4-19_265m_topP-278-20181004-NOENZ-PEAKS208/278-peaks208-noenz-dbpeps.txt"
   ]
  },
  {
   "cell_type": "code",
   "execution_count": 15,
   "metadata": {
    "collapsed": true
   },
   "outputs": [],
   "source": [
    "# Removes all characters in parentheses and saves as new file\n",
    "\n",
    "!awk -F \"[()]\" '{ for (i=2; i<NF; i+=2) print $i }' /Users/meganduffy/Documents/git-repos/2017-etnp/data/uwpr-oct2018/UWPR-Oct2018-noenz/etnp-4-19_265m_topP-278-20181004-NOENZ-PEAKS208/278-peaks208-noenz-dbpeps.txt > /Users/meganduffy/Documents/git-repos/2017-etnp/data/uwpr-oct2018/UWPR-Oct2018-noenz/etnp-4-19_265m_topP-278-20181004-NOENZ-PEAKS208/278-peaks208-noenz-db-mods.txt"
   ]
  },
  {
   "cell_type": "code",
   "execution_count": 16,
   "metadata": {},
   "outputs": [
    {
     "name": "stdout",
     "output_type": "stream",
     "text": [
      "+57.02\r\n",
      "+57.02\r\n",
      "+57.02\r\n",
      "+57.02\r\n",
      "+57.02\r\n",
      "+57.02\r\n",
      "+57.02\r\n",
      "+57.02\r\n",
      "+57.02\r\n",
      "+57.02\r\n"
     ]
    }
   ],
   "source": [
    "# How does the modifications text file look?\n",
    "\n",
    "!head /Users/meganduffy/Documents/git-repos/2017-etnp/data/uwpr-oct2018/UWPR-Oct2018-noenz/etnp-4-19_265m_topP-278-20181004-NOENZ-PEAKS208/278-peaks208-noenz-db-mods.txt"
   ]
  },
  {
   "cell_type": "code",
   "execution_count": 17,
   "metadata": {},
   "outputs": [
    {
     "name": "stdout",
     "output_type": "stream",
     "text": [
      "      86 /Users/meganduffy/Documents/git-repos/2017-etnp/data/uwpr-oct2018/UWPR-Oct2018-noenz/etnp-4-19_265m_topP-278-20181004-NOENZ-PEAKS208/278-peaks208-noenz-db-mods.txt\r\n"
     ]
    }
   ],
   "source": [
    "# How many modifications for this sample?\n",
    "\n",
    "!wc -l /Users/meganduffy/Documents/git-repos/2017-etnp/data/uwpr-oct2018/UWPR-Oct2018-noenz/etnp-4-19_265m_topP-278-20181004-NOENZ-PEAKS208/278-peaks208-noenz-db-mods.txt"
   ]
  },
  {
   "cell_type": "code",
   "execution_count": 18,
   "metadata": {},
   "outputs": [
    {
     "name": "stdout",
     "output_type": "stream",
     "text": [
      "     755 /Users/meganduffy/Documents/git-repos/2017-etnp/data/uwpr-oct2018/UWPR-Oct2018-noenz/etnp-4-19_265m_topP-278-20181004-NOENZ-PEAKS208/278-peaks208-noenz-dbpeps.txt\r\n"
     ]
    }
   ],
   "source": [
    "# Compared with how many total peptides?\n",
    "\n",
    "!wc -l /Users/meganduffy/Documents/git-repos/2017-etnp/data/uwpr-oct2018/UWPR-Oct2018-noenz/etnp-4-19_265m_topP-278-20181004-NOENZ-PEAKS208/278-peaks208-noenz-dbpeps.txt"
   ]
  },
  {
   "cell_type": "code",
   "execution_count": 19,
   "metadata": {},
   "outputs": [
    {
     "data": {
      "text/plain": [
       "0.11390728476821192"
      ]
     },
     "execution_count": 19,
     "metadata": {},
     "output_type": "execute_result"
    }
   ],
   "source": [
    "# What's the percentage of modified peptides for this sample?\n",
    "\n",
    "86/755"
   ]
  },
  {
   "cell_type": "code",
   "execution_count": 20,
   "metadata": {
    "collapsed": true
   },
   "outputs": [],
   "source": [
    "# Get rid of modifications from all peptides and save as a new file\n",
    "# Remove '(+15.99)' and '(+57.02)', (+.98) from sequences\n",
    "\n",
    "!sed 's/(+15.99)//g' /Users/meganduffy/Documents/git-repos/2017-etnp/data/uwpr-oct2018/UWPR-Oct2018-noenz/etnp-4-19_265m_topP-278-20181004-NOENZ-PEAKS208/278-peaks208-noenz-dbpeps.txt \\\n",
    "| sed 's/(+57.02)//g'\\\n",
    "| sed 's/(+.98)//g'\\\n",
    "> /Users/meganduffy/Documents/git-repos/2017-etnp/data/uwpr-oct2018/UWPR-Oct2018-noenz/etnp-4-19_265m_topP-278-20181004-NOENZ-PEAKS208/278-peaks208-noenz-db-nomods.txt"
   ]
  },
  {
   "cell_type": "code",
   "execution_count": 21,
   "metadata": {},
   "outputs": [
    {
     "name": "stdout",
     "output_type": "stream",
     "text": [
      "AIQQQIENPLAQQILSGELVPGK\r\n",
      "LPQVEGTGGDVQPSQDLVR\r\n",
      "VIGQNEAVDAVSNAIR\r\n",
      "AHVDCPGHADY\r\n",
      "SYELPDGQVITIGNER\r\n",
      "VLEGNEQFINAAK\r\n",
      "YLVDSGGQYLDGTTDITR\r\n",
      "LGEYGFQNALIVR\r\n",
      "AHVDCPGHAD\r\n",
      "SASIRIPVVPSPK\r\n"
     ]
    }
   ],
   "source": [
    "!head /Users/meganduffy/Documents/git-repos/2017-etnp/data/uwpr-oct2018/UWPR-Oct2018-noenz/etnp-4-19_265m_topP-278-20181004-NOENZ-PEAKS208/278-peaks208-noenz-db-nomods.txt"
   ]
  },
  {
   "cell_type": "code",
   "execution_count": 22,
   "metadata": {},
   "outputs": [
    {
     "name": "stdout",
     "output_type": "stream",
     "text": [
      "278-peaks208-noenz-db-mods.txt    278-peaks208-noenz-dno-nomods.txt\r\n",
      "278-peaks208-noenz-db-nomods.txt  278-peaks208-noenz-dnopeps.txt\r\n",
      "278-peaks208-noenz-dbpeps.txt     278-peaks208-noenz-peptide.csv\r\n",
      "278-peaks208-noenz-dno-mods.txt   278-peaks208-tryptic-noenz.txt\r\n"
     ]
    }
   ],
   "source": [
    "!ls /Users/meganduffy/Documents/git-repos/2017-etnp/data/uwpr-oct2018/UWPR-Oct2018-noenz/etnp-4-19_265m_topP-278-20181004-NOENZ-PEAKS208/"
   ]
  },
  {
   "cell_type": "markdown",
   "metadata": {},
   "source": [
    "### Sample 273: ETNP 2017 4-19 965 m top +P, PEAKS 160 no enzyme"
   ]
  },
  {
   "cell_type": "code",
   "execution_count": 24,
   "metadata": {},
   "outputs": [
    {
     "name": "stdout",
     "output_type": "stream",
     "text": [
      "273-peaks160-noenz-dno-mods.txt   273-peaks160-noenz-dnopeps.txt\r\n",
      "273-peaks160-noenz-dno-nomods.txt 273-peaks160-noenz-peptide.csv\r\n"
     ]
    }
   ],
   "source": [
    "!ls /Users/meganduffy/Documents/git-repos/2017-etnp/data/uwpr-oct2018/UWPR-Oct2018-noenz/etnp-4-19_965m_top-273-20181003-NOENZ-PEAKS160/"
   ]
  },
  {
   "cell_type": "code",
   "execution_count": 25,
   "metadata": {
    "collapsed": true
   },
   "outputs": [],
   "source": [
    "data = pd.read_csv(\"/Users/meganduffy/Documents/git-repos/2017-etnp/data/uwpr-oct2018/UWPR-Oct2018-noenz/etnp-4-19_965m_top-273-20181003-NOENZ-PEAKS160/273-peaks160-noenz-peptide.csv\")"
   ]
  },
  {
   "cell_type": "code",
   "execution_count": 26,
   "metadata": {},
   "outputs": [
    {
     "data": {
      "text/html": [
       "<div>\n",
       "<table border=\"1\" class=\"dataframe\">\n",
       "  <thead>\n",
       "    <tr style=\"text-align: right;\">\n",
       "      <th></th>\n",
       "      <th>Peptide</th>\n",
       "      <th>-10lgP</th>\n",
       "      <th>Mass</th>\n",
       "      <th>Length</th>\n",
       "      <th>ppm</th>\n",
       "      <th>m/z</th>\n",
       "      <th>RT</th>\n",
       "      <th>Area Sample 1: 273 4-19_965m_top+p</th>\n",
       "      <th>Fraction</th>\n",
       "      <th>Scan</th>\n",
       "      <th>Source File</th>\n",
       "      <th>#Spec</th>\n",
       "      <th>#Spec Sample 1: 273 4-19_965m_top+p</th>\n",
       "      <th>Accession</th>\n",
       "      <th>PTM</th>\n",
       "      <th>AScore</th>\n",
       "    </tr>\n",
       "  </thead>\n",
       "  <tbody>\n",
       "    <tr>\n",
       "      <th>0</th>\n",
       "      <td>AIQQQIENPLAQQILSGELVPGK</td>\n",
       "      <td>93.33</td>\n",
       "      <td>2473.3540</td>\n",
       "      <td>23</td>\n",
       "      <td>-0.2</td>\n",
       "      <td>1237.6841</td>\n",
       "      <td>97.98</td>\n",
       "      <td>91500000.0</td>\n",
       "      <td>1</td>\n",
       "      <td>41605</td>\n",
       "      <td>20181003_4-19_965m_top.raw</td>\n",
       "      <td>4</td>\n",
       "      <td>4</td>\n",
       "      <td>54036848</td>\n",
       "      <td>NaN</td>\n",
       "      <td>NaN</td>\n",
       "    </tr>\n",
       "    <tr>\n",
       "      <th>1</th>\n",
       "      <td>LPQVEGTGGDVQPSQDLVR</td>\n",
       "      <td>78.08</td>\n",
       "      <td>1994.0068</td>\n",
       "      <td>19</td>\n",
       "      <td>-0.4</td>\n",
       "      <td>998.0103</td>\n",
       "      <td>60.63</td>\n",
       "      <td>271000000.0</td>\n",
       "      <td>1</td>\n",
       "      <td>21306</td>\n",
       "      <td>20181003_4-19_965m_top.raw</td>\n",
       "      <td>6</td>\n",
       "      <td>6</td>\n",
       "      <td>54036848</td>\n",
       "      <td>NaN</td>\n",
       "      <td>NaN</td>\n",
       "    </tr>\n",
       "    <tr>\n",
       "      <th>2</th>\n",
       "      <td>QVSLNSGSHFC(+57.02)GGSLINSQWVVS</td>\n",
       "      <td>63.96</td>\n",
       "      <td>2462.1648</td>\n",
       "      <td>23</td>\n",
       "      <td>2.8</td>\n",
       "      <td>1232.0931</td>\n",
       "      <td>111.05</td>\n",
       "      <td>1200000.0</td>\n",
       "      <td>1</td>\n",
       "      <td>45691</td>\n",
       "      <td>20181003_4-19_965m_top.raw</td>\n",
       "      <td>2</td>\n",
       "      <td>2</td>\n",
       "      <td>|#CONTAM#TRYP_PIG|</td>\n",
       "      <td>Carbamidomethylation</td>\n",
       "      <td>C11:Carbamidomethylation:1000.00</td>\n",
       "    </tr>\n",
       "    <tr>\n",
       "      <th>3</th>\n",
       "      <td>LGEHNIDVLEGNEQFINAA</td>\n",
       "      <td>62.07</td>\n",
       "      <td>2082.0017</td>\n",
       "      <td>19</td>\n",
       "      <td>3.6</td>\n",
       "      <td>1042.0118</td>\n",
       "      <td>80.76</td>\n",
       "      <td>38000000.0</td>\n",
       "      <td>1</td>\n",
       "      <td>32229</td>\n",
       "      <td>20181003_4-19_965m_top.raw</td>\n",
       "      <td>6</td>\n",
       "      <td>6</td>\n",
       "      <td>|#CONTAM#TRYP_PIG|</td>\n",
       "      <td>NaN</td>\n",
       "      <td>NaN</td>\n",
       "    </tr>\n",
       "    <tr>\n",
       "      <th>4</th>\n",
       "      <td>VIGQNEAVDAVSNAIR</td>\n",
       "      <td>61.73</td>\n",
       "      <td>1654.8638</td>\n",
       "      <td>16</td>\n",
       "      <td>1.5</td>\n",
       "      <td>828.4404</td>\n",
       "      <td>72.78</td>\n",
       "      <td>305000000.0</td>\n",
       "      <td>1</td>\n",
       "      <td>27785</td>\n",
       "      <td>20181003_4-19_965m_top.raw</td>\n",
       "      <td>7</td>\n",
       "      <td>7</td>\n",
       "      <td>54036848</td>\n",
       "      <td>NaN</td>\n",
       "      <td>NaN</td>\n",
       "    </tr>\n",
       "  </tbody>\n",
       "</table>\n",
       "</div>"
      ],
      "text/plain": [
       "                           Peptide  -10lgP       Mass  Length  ppm        m/z  \\\n",
       "0          AIQQQIENPLAQQILSGELVPGK   93.33  2473.3540      23 -0.2  1237.6841   \n",
       "1              LPQVEGTGGDVQPSQDLVR   78.08  1994.0068      19 -0.4   998.0103   \n",
       "2  QVSLNSGSHFC(+57.02)GGSLINSQWVVS   63.96  2462.1648      23  2.8  1232.0931   \n",
       "3              LGEHNIDVLEGNEQFINAA   62.07  2082.0017      19  3.6  1042.0118   \n",
       "4                 VIGQNEAVDAVSNAIR   61.73  1654.8638      16  1.5   828.4404   \n",
       "\n",
       "       RT  Area Sample 1: 273 4-19_965m_top+p  Fraction   Scan  \\\n",
       "0   97.98                          91500000.0         1  41605   \n",
       "1   60.63                         271000000.0         1  21306   \n",
       "2  111.05                           1200000.0         1  45691   \n",
       "3   80.76                          38000000.0         1  32229   \n",
       "4   72.78                         305000000.0         1  27785   \n",
       "\n",
       "                  Source File  #Spec  #Spec Sample 1: 273 4-19_965m_top+p  \\\n",
       "0  20181003_4-19_965m_top.raw      4                                    4   \n",
       "1  20181003_4-19_965m_top.raw      6                                    6   \n",
       "2  20181003_4-19_965m_top.raw      2                                    2   \n",
       "3  20181003_4-19_965m_top.raw      6                                    6   \n",
       "4  20181003_4-19_965m_top.raw      7                                    7   \n",
       "\n",
       "            Accession                   PTM                            AScore  \n",
       "0            54036848                   NaN                               NaN  \n",
       "1            54036848                   NaN                               NaN  \n",
       "2  |#CONTAM#TRYP_PIG|  Carbamidomethylation  C11:Carbamidomethylation:1000.00  \n",
       "3  |#CONTAM#TRYP_PIG|                   NaN                               NaN  \n",
       "4            54036848                   NaN                               NaN  "
      ]
     },
     "execution_count": 26,
     "metadata": {},
     "output_type": "execute_result"
    }
   ],
   "source": [
    "data.head()"
   ]
  },
  {
   "cell_type": "code",
   "execution_count": 27,
   "metadata": {
    "collapsed": true
   },
   "outputs": [],
   "source": [
    "# Keep only peptide column\n",
    "pep = data[[\"Peptide\"]]"
   ]
  },
  {
   "cell_type": "code",
   "execution_count": 28,
   "metadata": {},
   "outputs": [
    {
     "data": {
      "text/html": [
       "<div>\n",
       "<table border=\"1\" class=\"dataframe\">\n",
       "  <thead>\n",
       "    <tr style=\"text-align: right;\">\n",
       "      <th></th>\n",
       "      <th>Peptide</th>\n",
       "    </tr>\n",
       "  </thead>\n",
       "  <tbody>\n",
       "    <tr>\n",
       "      <th>0</th>\n",
       "      <td>AIQQQIENPLAQQILSGELVPGK</td>\n",
       "    </tr>\n",
       "    <tr>\n",
       "      <th>1</th>\n",
       "      <td>LPQVEGTGGDVQPSQDLVR</td>\n",
       "    </tr>\n",
       "    <tr>\n",
       "      <th>2</th>\n",
       "      <td>QVSLNSGSHFC(+57.02)GGSLINSQWVVS</td>\n",
       "    </tr>\n",
       "    <tr>\n",
       "      <th>3</th>\n",
       "      <td>LGEHNIDVLEGNEQFINAA</td>\n",
       "    </tr>\n",
       "    <tr>\n",
       "      <th>4</th>\n",
       "      <td>VIGQNEAVDAVSNAIR</td>\n",
       "    </tr>\n",
       "  </tbody>\n",
       "</table>\n",
       "</div>"
      ],
      "text/plain": [
       "                           Peptide\n",
       "0          AIQQQIENPLAQQILSGELVPGK\n",
       "1              LPQVEGTGGDVQPSQDLVR\n",
       "2  QVSLNSGSHFC(+57.02)GGSLINSQWVVS\n",
       "3              LGEHNIDVLEGNEQFINAA\n",
       "4                 VIGQNEAVDAVSNAIR"
      ]
     },
     "execution_count": 28,
     "metadata": {},
     "output_type": "execute_result"
    }
   ],
   "source": [
    "pep.head()"
   ]
  },
  {
   "cell_type": "code",
   "execution_count": 29,
   "metadata": {
    "collapsed": true
   },
   "outputs": [],
   "source": [
    "# Write altered dataframe to new txt file\n",
    "# Used header and index parameters to get rid of 'Peptide' header and the indexing\n",
    "\n",
    "pep.to_csv(\"/Users/meganduffy/Documents/git-repos/2017-etnp/data/uwpr-oct2018/UWPR-Oct2018-noenz/etnp-4-19_965m_top-273-20181003-NOENZ-PEAKS160/273-peaks160-noenz-dbpeps.txt\", header=False, index=False)"
   ]
  },
  {
   "cell_type": "code",
   "execution_count": 30,
   "metadata": {},
   "outputs": [
    {
     "name": "stdout",
     "output_type": "stream",
     "text": [
      "AIQQQIENPLAQQILSGELVPGK\r\n",
      "LPQVEGTGGDVQPSQDLVR\r\n",
      "QVSLNSGSHFC(+57.02)GGSLINSQWVVS\r\n",
      "LGEHNIDVLEGNEQFINAA\r\n",
      "VIGQNEAVDAVSNAIR\r\n",
      "SYELPDGQVITIGNER\r\n",
      "LGEHNIDVLEGNEQFINAAK\r\n",
      "YELPDGQVITIGNER\r\n",
      "VLDSGDGVTHTVPIYEGY\r\n",
      "LGEHNIDVLEGNEQ\r\n"
     ]
    }
   ],
   "source": [
    "!head /Users/meganduffy/Documents/git-repos/2017-etnp/data/uwpr-oct2018/UWPR-Oct2018-noenz/etnp-4-19_965m_top-273-20181003-NOENZ-PEAKS160/273-peaks160-noenz-dbpeps.txt"
   ]
  },
  {
   "cell_type": "code",
   "execution_count": 31,
   "metadata": {
    "collapsed": true
   },
   "outputs": [],
   "source": [
    "# Removes all characters in parentheses and saves as new file\n",
    "\n",
    "!awk -F \"[()]\" '{ for (i=2; i<NF; i+=2) print $i }' /Users/meganduffy/Documents/git-repos/2017-etnp/data/uwpr-oct2018/UWPR-Oct2018-noenz/etnp-4-19_965m_top-273-20181003-NOENZ-PEAKS160/273-peaks160-noenz-dbpeps.txt > /Users/meganduffy/Documents/git-repos/2017-etnp/data/uwpr-oct2018/UWPR-Oct2018-noenz/etnp-4-19_965m_top-273-20181003-NOENZ-PEAKS160/273-peaks160-noenz-db-mods.txt"
   ]
  },
  {
   "cell_type": "code",
   "execution_count": 32,
   "metadata": {},
   "outputs": [
    {
     "name": "stdout",
     "output_type": "stream",
     "text": [
      "+57.02\r\n",
      "+57.02\r\n",
      "+57.02\r\n",
      "+57.02\r\n",
      "+57.02\r\n",
      "+15.99\r\n",
      "+57.02\r\n",
      "+15.99\r\n",
      "+57.02\r\n",
      "+15.99\r\n"
     ]
    }
   ],
   "source": [
    "!head /Users/meganduffy/Documents/git-repos/2017-etnp/data/uwpr-oct2018/UWPR-Oct2018-noenz/etnp-4-19_965m_top-273-20181003-NOENZ-PEAKS160/273-peaks160-noenz-db-mods.txt"
   ]
  },
  {
   "cell_type": "code",
   "execution_count": 33,
   "metadata": {},
   "outputs": [
    {
     "name": "stdout",
     "output_type": "stream",
     "text": [
      "      54 /Users/meganduffy/Documents/git-repos/2017-etnp/data/uwpr-oct2018/UWPR-Oct2018-noenz/etnp-4-19_965m_top-273-20181003-NOENZ-PEAKS160/273-peaks160-noenz-db-mods.txt\r\n"
     ]
    }
   ],
   "source": [
    "# How many modifications for this sample?\n",
    "\n",
    "!wc -l /Users/meganduffy/Documents/git-repos/2017-etnp/data/uwpr-oct2018/UWPR-Oct2018-noenz/etnp-4-19_965m_top-273-20181003-NOENZ-PEAKS160/273-peaks160-noenz-db-mods.txt"
   ]
  },
  {
   "cell_type": "code",
   "execution_count": 34,
   "metadata": {},
   "outputs": [
    {
     "name": "stdout",
     "output_type": "stream",
     "text": [
      "     657 /Users/meganduffy/Documents/git-repos/2017-etnp/data/uwpr-oct2018/UWPR-Oct2018-noenz/etnp-4-19_965m_top-273-20181003-NOENZ-PEAKS160/273-peaks160-noenz-dbpeps.txt\r\n"
     ]
    }
   ],
   "source": [
    "# Compared with how many total peptides?\n",
    "\n",
    "!wc -l /Users/meganduffy/Documents/git-repos/2017-etnp/data/uwpr-oct2018/UWPR-Oct2018-noenz/etnp-4-19_965m_top-273-20181003-NOENZ-PEAKS160/273-peaks160-noenz-dbpeps.txt"
   ]
  },
  {
   "cell_type": "code",
   "execution_count": 35,
   "metadata": {},
   "outputs": [
    {
     "data": {
      "text/plain": [
       "0.0821917808219178"
      ]
     },
     "execution_count": 35,
     "metadata": {},
     "output_type": "execute_result"
    }
   ],
   "source": [
    "# What's the percentage of modified peptides for this sample?\n",
    "\n",
    "54/657"
   ]
  },
  {
   "cell_type": "code",
   "execution_count": 36,
   "metadata": {
    "collapsed": true
   },
   "outputs": [],
   "source": [
    "# Get rid of modifications from all peptides and save as a new file\n",
    "# Remove '(+15.99)' and '(+57.02)', (+.98) from sequences\n",
    "\n",
    "!sed 's/(+15.99)//g' /Users/meganduffy/Documents/git-repos/2017-etnp/data/uwpr-oct2018/UWPR-Oct2018-noenz/etnp-4-19_965m_top-273-20181003-NOENZ-PEAKS160/273-peaks160-noenz-dbpeps.txt \\\n",
    "| sed 's/(+57.02)//g'\\\n",
    "| sed 's/(+.98)//g'\\\n",
    "> /Users/meganduffy/Documents/git-repos/2017-etnp/data/uwpr-oct2018/UWPR-Oct2018-noenz/etnp-4-19_965m_top-273-20181003-NOENZ-PEAKS160/273-peaks160-noenz-db-nomods.txt"
   ]
  },
  {
   "cell_type": "code",
   "execution_count": 37,
   "metadata": {},
   "outputs": [
    {
     "name": "stdout",
     "output_type": "stream",
     "text": [
      "AIQQQIENPLAQQILSGELVPGK\r\n",
      "LPQVEGTGGDVQPSQDLVR\r\n",
      "QVSLNSGSHFCGGSLINSQWVVS\r\n",
      "LGEHNIDVLEGNEQFINAA\r\n",
      "VIGQNEAVDAVSNAIR\r\n",
      "SYELPDGQVITIGNER\r\n",
      "LGEHNIDVLEGNEQFINAAK\r\n",
      "YELPDGQVITIGNER\r\n",
      "VLDSGDGVTHTVPIYEGY\r\n",
      "LGEHNIDVLEGNEQ\r\n"
     ]
    }
   ],
   "source": [
    "!head /Users/meganduffy/Documents/git-repos/2017-etnp/data/uwpr-oct2018/UWPR-Oct2018-noenz/etnp-4-19_965m_top-273-20181003-NOENZ-PEAKS160/273-peaks160-noenz-db-nomods.txt"
   ]
  },
  {
   "cell_type": "code",
   "execution_count": 38,
   "metadata": {},
   "outputs": [
    {
     "name": "stdout",
     "output_type": "stream",
     "text": [
      "273-peaks160-noenz-db-mods.txt    273-peaks160-noenz-dno-nomods.txt\r\n",
      "273-peaks160-noenz-db-nomods.txt  273-peaks160-noenz-dnopeps.txt\r\n",
      "273-peaks160-noenz-dbpeps.txt     273-peaks160-noenz-peptide.csv\r\n",
      "273-peaks160-noenz-dno-mods.txt\r\n"
     ]
    }
   ],
   "source": [
    "!ls /Users/meganduffy/Documents/git-repos/2017-etnp/data/uwpr-oct2018/UWPR-Oct2018-noenz/etnp-4-19_965m_top-273-20181003-NOENZ-PEAKS160/"
   ]
  },
  {
   "cell_type": "code",
   "execution_count": null,
   "metadata": {
    "collapsed": true
   },
   "outputs": [],
   "source": []
  }
 ],
 "metadata": {
  "kernelspec": {
   "display_name": "Python 3",
   "language": "python",
   "name": "python3"
  },
  "language_info": {
   "codemirror_mode": {
    "name": "ipython",
    "version": 3
   },
   "file_extension": ".py",
   "mimetype": "text/x-python",
   "name": "python",
   "nbconvert_exporter": "python",
   "pygments_lexer": "ipython3",
   "version": "3.8.3"
  }
 },
 "nbformat": 4,
 "nbformat_minor": 1
}
