{
 "cells": [
  {
   "cell_type": "code",
   "execution_count": 1,
   "metadata": {
    "collapsed": false
   },
   "outputs": [
    {
     "name": "stdout",
     "output_type": "stream",
     "text": [
      "Mon May 13 11:33:18 PDT 2019\r\n"
     ]
    }
   ],
   "source": [
    "!date"
   ]
  },
  {
   "cell_type": "code",
   "execution_count": 2,
   "metadata": {
    "collapsed": false
   },
   "outputs": [
    {
     "name": "stdout",
     "output_type": "stream",
     "text": [
      "Software:\r\n",
      "\r\n",
      "    System Software Overview:\r\n",
      "\r\n",
      "      System Version: macOS 10.14.4 (18E226)\r\n",
      "      Kernel Version: Darwin 18.5.0\r\n",
      "      Boot Volume: Macintosh HD\r\n",
      "      Boot Mode: Normal\r\n",
      "      Computer Name: Megan’s MacBook Pro (2)\r\n",
      "      User Name: Megan Duffy (meganduffy)\r\n",
      "      Secure Virtual Memory: Enabled\r\n",
      "      System Integrity Protection: Enabled\r\n",
      "      Time since boot: 20 days 21:13\r\n",
      "\r\n"
     ]
    }
   ],
   "source": [
    "!system_profiler SPSoftwareDataType"
   ]
  },
  {
   "cell_type": "markdown",
   "metadata": {},
   "source": [
    "### Notebook to document text extraction and editing of UWPR December 2018 ETNP 2017 de novo only peptides\n",
    "\n",
    "Exported the results of PEAKS 8.5 searches into Git ETNP 2017 data directory\n",
    "Exported both combined project and individual data files. "
   ]
  },
  {
   "cell_type": "code",
   "execution_count": 3,
   "metadata": {
    "collapsed": false
   },
   "outputs": [
    {
     "name": "stdout",
     "output_type": "stream",
     "text": [
      "\u001b[34mUWPR_Dec2018_366-50m-gf75-ETNP_PEAKS_21\u001b[m\u001b[m\r\n",
      "\u001b[34mUWPR_Dec2018_367-80m-gf75-ETNP_PEAKS_25\u001b[m\u001b[m\r\n",
      "\u001b[34mUWPR_Dec2018_368-100m-gf75-ETNP_PEAKS_29\u001b[m\u001b[m\r\n",
      "\u001b[34mUWPR_Dec2018_369-265m-gf75-ETNP_PEAKS_33\u001b[m\u001b[m\r\n",
      "\u001b[34mUWPR_Dec2018_370-700m-gf75-ETNP_PEAKS_37\u001b[m\u001b[m\r\n",
      "\u001b[34mUWPR_Dec2018_371-1000m-gf75-ETNP_PEAKS_41\u001b[m\u001b[m\r\n",
      "\u001b[34mUWPR_Dec2018_372-50m-gfd-ETNP_PEAKS_45\u001b[m\u001b[m\r\n",
      "\u001b[34mUWPR_Dec2018_373-80m-gfd-ETNP_PEAKS_49\u001b[m\u001b[m\r\n",
      "\u001b[34mUWPR_Dec2018_374-100m-gfd-ETNP_PEAKS_53\u001b[m\u001b[m\r\n",
      "\u001b[34mUWPR_Dec2018_376-700m-gfd-ETNP_PEAKS_57\u001b[m\u001b[m\r\n",
      "\u001b[34mUWPR_Dec2018_377-1000m-gfd-ETNP_PEAKS_61\u001b[m\u001b[m\r\n",
      "\u001b[34mUWPR_Dec2018_peaks16-combined_ETNP_PEAKS_16\u001b[m\u001b[m\r\n"
     ]
    }
   ],
   "source": [
    "!ls /Users/meganduffy/Documents/git-repos/2017-etnp/data/uwpr-dec2018"
   ]
  },
  {
   "cell_type": "code",
   "execution_count": 6,
   "metadata": {
    "collapsed": false
   },
   "outputs": [
    {
     "name": "stdout",
     "output_type": "stream",
     "text": [
      "366-peaks21-DB-search-psm.csv    366-peaks21-protein-peptides.csv\r\n",
      "366-peaks21-dno.csv              366-peaks21-proteins.csv\r\n",
      "366-peaks21-peptide.csv          366-peaks21-proteins.fasta\r\n"
     ]
    }
   ],
   "source": [
    "# Renamed all individual data files from export defaults\n",
    "# Included Keil lab proteomics running # and PEAKS run #\n",
    "# dno is 'de novo only', 'peptide' is database id'd peptides - these are the most relevant\n",
    "# Chose to include protein lists in FASTA form, this being the only deviation from text-based export defaults\n",
    "# For example, for sample 366:\n",
    "!ls /Users/meganduffy/Documents/git-repos/2017-etnp/data/uwpr-dec2018/UWPR_Dec2018_366-50m-gf75-ETNP_PEAKS_21"
   ]
  },
  {
   "cell_type": "markdown",
   "metadata": {},
   "source": [
    "### Now removing modifcations from all de novo only files and storing mod list as separate file\n",
    "\n",
    "Since it's my typical PEAKS search, the only modifications allowed were fixed CAM on cysteine and variable oxidation of methionine.\n",
    "\n",
    "If we look at the file, that's all we'll see:"
   ]
  },
  {
   "cell_type": "code",
   "execution_count": 7,
   "metadata": {
    "collapsed": false
   },
   "outputs": [
    {
     "name": "stdout",
     "output_type": "stream",
     "text": [
      "Fraction,Scan,Source File,Peptide,Tag Length,ALC (%),length,m/z,z,RT,Area,Mass,ppm,Accession,PTM,local confidence (%),tag (>=0%),mode\r",
      "\r\n",
      "1,5646,20181211_366_etnp2017_50m_gf75.raw,LYEEEK,6,99,6,405.7025,2,21.11,1.55E6,809.3807,12.2,,,99 99 100 100 100 98,LYEEEK,CID\r",
      "\r\n",
      "1,12036,20181211_366_etnp2017_50m_gf75.raw,TTLLYR,6,97,6,383.7276,2,44.06,1.01E5,765.4385,2.8,,,98 99 99 98 97 96,TTLLYR,CID\r",
      "\r\n",
      "1,16182,20181211_366_etnp2017_50m_gf75.raw,LGELWR,6,97,6,387.2197,2,58.72,7.76E4,772.4232,2.1,,,97 95 100 98 97 99,LGELWR,CID\r",
      "\r\n",
      "1,6734,20181211_366_etnp2017_50m_gf75.raw,NDAFER,6,97,6,376.1726,2,24.80,4.23E5,750.3297,1.4,,,92 98 100 99 100 97,NDAFER,CID\r",
      "\r\n",
      "1,6076,20181211_366_etnp2017_50m_gf75.raw,LGDAAEDK,8,97,8,409.7033,2,22.55,8.13E5,817.3817,12.7,,,95 94 98 98 98 99 99 99,LGDAAEDK,CID\r",
      "\r\n",
      "1,10628,20181211_366_etnp2017_50m_gf75.raw,LELDEDTR,8,97,8,495.7407,2,38.81,2.27E6,989.4665,0.3,,,97 99 100 100 98 94 97 94,LELDEDTR,CID\r",
      "\r\n",
      "1,6255,20181211_366_etnp2017_50m_gf75.raw,SSDM(+15.99)VAK,7,97,7,377.1793,2,23.18,9.84E4,752.3375,8.7,,Oxidation (M),96 98 99 97 97 97 96,SSDM(+15.99)VAK,CID\r",
      "\r\n",
      "1,15716,20181211_366_etnp2017_50m_gf75.raw,TTLNAM(+15.99)LAK,9,97,9,489.7672,2,57.17,1.49E5,977.5215,-1.6,,Oxidation (M),97 98 99 97 97 97 98 99 95,TTLNAM(+15.99)LAK,CID\r",
      "\r\n",
      "1,10510,20181211_366_etnp2017_50m_gf75.raw,LLYDETR,7,97,7,455.2378,2,38.37,1.26E5,908.4603,0.8,,,99 99 98 97 99 94 94,LLYDETR,CID\r",
      "\r\n"
     ]
    }
   ],
   "source": [
    "!head /Users/meganduffy/Documents/git-repos/2017-etnp/data/uwpr-dec2018/UWPR_Dec2018_366-50m-gf75-ETNP_PEAKS_21/366-peaks21-dno.csv"
   ]
  },
  {
   "cell_type": "markdown",
   "metadata": {},
   "source": [
    "### First, we'll extract the peptide column (column 4) into a new .txt file using Pandas:"
   ]
  },
  {
   "cell_type": "code",
   "execution_count": 8,
   "metadata": {
    "collapsed": true
   },
   "outputs": [],
   "source": [
    "import os"
   ]
  },
  {
   "cell_type": "code",
   "execution_count": 9,
   "metadata": {
    "collapsed": false
   },
   "outputs": [
    {
     "data": {
      "text/plain": [
       "'/Users/meganduffy/Documents/git-repos/2017-etnp/notebooks'"
      ]
     },
     "execution_count": 9,
     "metadata": {},
     "output_type": "execute_result"
    }
   ],
   "source": [
    "os.getcwd()"
   ]
  },
  {
   "cell_type": "code",
   "execution_count": 10,
   "metadata": {
    "collapsed": true
   },
   "outputs": [],
   "source": [
    "import pandas as pd"
   ]
  },
  {
   "cell_type": "code",
   "execution_count": 11,
   "metadata": {
    "collapsed": false
   },
   "outputs": [
    {
     "data": {
      "text/plain": [
       "'0.18.1'"
      ]
     },
     "execution_count": 11,
     "metadata": {},
     "output_type": "execute_result"
    }
   ],
   "source": [
    "pd.__version__"
   ]
  },
  {
   "cell_type": "code",
   "execution_count": 13,
   "metadata": {
    "collapsed": false
   },
   "outputs": [],
   "source": [
    "data = pd.read_csv(\"/Users/meganduffy/Documents/git-repos/2017-etnp/data/uwpr-dec2018/UWPR_Dec2018_366-50m-gf75-ETNP_PEAKS_21/366-peaks21-dno.csv\")"
   ]
  },
  {
   "cell_type": "code",
   "execution_count": 14,
   "metadata": {
    "collapsed": false
   },
   "outputs": [
    {
     "data": {
      "text/html": [
       "<div>\n",
       "<table border=\"1\" class=\"dataframe\">\n",
       "  <thead>\n",
       "    <tr style=\"text-align: right;\">\n",
       "      <th></th>\n",
       "      <th>Fraction</th>\n",
       "      <th>Scan</th>\n",
       "      <th>Source File</th>\n",
       "      <th>Peptide</th>\n",
       "      <th>Tag Length</th>\n",
       "      <th>ALC (%)</th>\n",
       "      <th>length</th>\n",
       "      <th>m/z</th>\n",
       "      <th>z</th>\n",
       "      <th>RT</th>\n",
       "      <th>Area</th>\n",
       "      <th>Mass</th>\n",
       "      <th>ppm</th>\n",
       "      <th>Accession</th>\n",
       "      <th>PTM</th>\n",
       "      <th>local confidence (%)</th>\n",
       "      <th>tag (&gt;=0%)</th>\n",
       "      <th>mode</th>\n",
       "    </tr>\n",
       "  </thead>\n",
       "  <tbody>\n",
       "    <tr>\n",
       "      <th>0</th>\n",
       "      <td>1</td>\n",
       "      <td>5646</td>\n",
       "      <td>20181211_366_etnp2017_50m_gf75.raw</td>\n",
       "      <td>LYEEEK</td>\n",
       "      <td>6</td>\n",
       "      <td>99</td>\n",
       "      <td>6</td>\n",
       "      <td>405.7025</td>\n",
       "      <td>2</td>\n",
       "      <td>21.11</td>\n",
       "      <td>1550000.0</td>\n",
       "      <td>809.3807</td>\n",
       "      <td>12.2</td>\n",
       "      <td>NaN</td>\n",
       "      <td>NaN</td>\n",
       "      <td>99 99 100 100 100 98</td>\n",
       "      <td>LYEEEK</td>\n",
       "      <td>CID</td>\n",
       "    </tr>\n",
       "    <tr>\n",
       "      <th>1</th>\n",
       "      <td>1</td>\n",
       "      <td>12036</td>\n",
       "      <td>20181211_366_etnp2017_50m_gf75.raw</td>\n",
       "      <td>TTLLYR</td>\n",
       "      <td>6</td>\n",
       "      <td>97</td>\n",
       "      <td>6</td>\n",
       "      <td>383.7276</td>\n",
       "      <td>2</td>\n",
       "      <td>44.06</td>\n",
       "      <td>101000.0</td>\n",
       "      <td>765.4385</td>\n",
       "      <td>2.8</td>\n",
       "      <td>NaN</td>\n",
       "      <td>NaN</td>\n",
       "      <td>98 99 99 98 97 96</td>\n",
       "      <td>TTLLYR</td>\n",
       "      <td>CID</td>\n",
       "    </tr>\n",
       "    <tr>\n",
       "      <th>2</th>\n",
       "      <td>1</td>\n",
       "      <td>16182</td>\n",
       "      <td>20181211_366_etnp2017_50m_gf75.raw</td>\n",
       "      <td>LGELWR</td>\n",
       "      <td>6</td>\n",
       "      <td>97</td>\n",
       "      <td>6</td>\n",
       "      <td>387.2197</td>\n",
       "      <td>2</td>\n",
       "      <td>58.72</td>\n",
       "      <td>77600.0</td>\n",
       "      <td>772.4232</td>\n",
       "      <td>2.1</td>\n",
       "      <td>NaN</td>\n",
       "      <td>NaN</td>\n",
       "      <td>97 95 100 98 97 99</td>\n",
       "      <td>LGELWR</td>\n",
       "      <td>CID</td>\n",
       "    </tr>\n",
       "    <tr>\n",
       "      <th>3</th>\n",
       "      <td>1</td>\n",
       "      <td>6734</td>\n",
       "      <td>20181211_366_etnp2017_50m_gf75.raw</td>\n",
       "      <td>NDAFER</td>\n",
       "      <td>6</td>\n",
       "      <td>97</td>\n",
       "      <td>6</td>\n",
       "      <td>376.1726</td>\n",
       "      <td>2</td>\n",
       "      <td>24.80</td>\n",
       "      <td>423000.0</td>\n",
       "      <td>750.3297</td>\n",
       "      <td>1.4</td>\n",
       "      <td>NaN</td>\n",
       "      <td>NaN</td>\n",
       "      <td>92 98 100 99 100 97</td>\n",
       "      <td>NDAFER</td>\n",
       "      <td>CID</td>\n",
       "    </tr>\n",
       "    <tr>\n",
       "      <th>4</th>\n",
       "      <td>1</td>\n",
       "      <td>6076</td>\n",
       "      <td>20181211_366_etnp2017_50m_gf75.raw</td>\n",
       "      <td>LGDAAEDK</td>\n",
       "      <td>8</td>\n",
       "      <td>97</td>\n",
       "      <td>8</td>\n",
       "      <td>409.7033</td>\n",
       "      <td>2</td>\n",
       "      <td>22.55</td>\n",
       "      <td>813000.0</td>\n",
       "      <td>817.3817</td>\n",
       "      <td>12.7</td>\n",
       "      <td>NaN</td>\n",
       "      <td>NaN</td>\n",
       "      <td>95 94 98 98 98 99 99 99</td>\n",
       "      <td>LGDAAEDK</td>\n",
       "      <td>CID</td>\n",
       "    </tr>\n",
       "  </tbody>\n",
       "</table>\n",
       "</div>"
      ],
      "text/plain": [
       "   Fraction   Scan                         Source File   Peptide  Tag Length  \\\n",
       "0         1   5646  20181211_366_etnp2017_50m_gf75.raw    LYEEEK           6   \n",
       "1         1  12036  20181211_366_etnp2017_50m_gf75.raw    TTLLYR           6   \n",
       "2         1  16182  20181211_366_etnp2017_50m_gf75.raw    LGELWR           6   \n",
       "3         1   6734  20181211_366_etnp2017_50m_gf75.raw    NDAFER           6   \n",
       "4         1   6076  20181211_366_etnp2017_50m_gf75.raw  LGDAAEDK           8   \n",
       "\n",
       "   ALC (%)  length       m/z  z     RT       Area      Mass   ppm Accession  \\\n",
       "0       99       6  405.7025  2  21.11  1550000.0  809.3807  12.2       NaN   \n",
       "1       97       6  383.7276  2  44.06   101000.0  765.4385   2.8       NaN   \n",
       "2       97       6  387.2197  2  58.72    77600.0  772.4232   2.1       NaN   \n",
       "3       97       6  376.1726  2  24.80   423000.0  750.3297   1.4       NaN   \n",
       "4       97       8  409.7033  2  22.55   813000.0  817.3817  12.7       NaN   \n",
       "\n",
       "   PTM     local confidence (%) tag (>=0%) mode  \n",
       "0  NaN     99 99 100 100 100 98     LYEEEK  CID  \n",
       "1  NaN        98 99 99 98 97 96     TTLLYR  CID  \n",
       "2  NaN       97 95 100 98 97 99     LGELWR  CID  \n",
       "3  NaN      92 98 100 99 100 97     NDAFER  CID  \n",
       "4  NaN  95 94 98 98 98 99 99 99   LGDAAEDK  CID  "
      ]
     },
     "execution_count": 14,
     "metadata": {},
     "output_type": "execute_result"
    }
   ],
   "source": [
    "data.head()"
   ]
  },
  {
   "cell_type": "code",
   "execution_count": 15,
   "metadata": {
    "collapsed": true
   },
   "outputs": [],
   "source": [
    "# Keep only peptide column\n",
    "pep = data[[\"Peptide\"]]"
   ]
  },
  {
   "cell_type": "code",
   "execution_count": 16,
   "metadata": {
    "collapsed": false
   },
   "outputs": [
    {
     "data": {
      "text/html": [
       "<div>\n",
       "<table border=\"1\" class=\"dataframe\">\n",
       "  <thead>\n",
       "    <tr style=\"text-align: right;\">\n",
       "      <th></th>\n",
       "      <th>Peptide</th>\n",
       "    </tr>\n",
       "  </thead>\n",
       "  <tbody>\n",
       "    <tr>\n",
       "      <th>0</th>\n",
       "      <td>LYEEEK</td>\n",
       "    </tr>\n",
       "    <tr>\n",
       "      <th>1</th>\n",
       "      <td>TTLLYR</td>\n",
       "    </tr>\n",
       "    <tr>\n",
       "      <th>2</th>\n",
       "      <td>LGELWR</td>\n",
       "    </tr>\n",
       "    <tr>\n",
       "      <th>3</th>\n",
       "      <td>NDAFER</td>\n",
       "    </tr>\n",
       "    <tr>\n",
       "      <th>4</th>\n",
       "      <td>LGDAAEDK</td>\n",
       "    </tr>\n",
       "  </tbody>\n",
       "</table>\n",
       "</div>"
      ],
      "text/plain": [
       "    Peptide\n",
       "0    LYEEEK\n",
       "1    TTLLYR\n",
       "2    LGELWR\n",
       "3    NDAFER\n",
       "4  LGDAAEDK"
      ]
     },
     "execution_count": 16,
     "metadata": {},
     "output_type": "execute_result"
    }
   ],
   "source": [
    "pep.head()"
   ]
  },
  {
   "cell_type": "code",
   "execution_count": 18,
   "metadata": {
    "collapsed": true
   },
   "outputs": [],
   "source": [
    "# Write altered dataframe to new csv file\n",
    "# Used header and index parameters to get rid of 'Peptide' header and the indexing\n",
    "\n",
    "pep.to_csv(\"/Users/meganduffy/Documents/git-repos/2017-etnp/data/uwpr-dec2018/UWPR_Dec2018_366-50m-gf75-ETNP_PEAKS_21/366-peaks21-dnopeps.csv\", header=False, index=False)"
   ]
  },
  {
   "cell_type": "code",
   "execution_count": 20,
   "metadata": {
    "collapsed": true
   },
   "outputs": [],
   "source": [
    "# Write altered dataframe to new text file \n",
    "# Used header and index parameters to get rid of 'Peptide' header and the indexing\n",
    "\n",
    "pep.to_csv(\"/Users/meganduffy/Documents/git-repos/2017-etnp/data/uwpr-dec2018/UWPR_Dec2018_366-50m-gf75-ETNP_PEAKS_21/366-peaks21-dnopeps.txt\", header=False, index=False)"
   ]
  },
  {
   "cell_type": "code",
   "execution_count": 21,
   "metadata": {
    "collapsed": false
   },
   "outputs": [
    {
     "name": "stdout",
     "output_type": "stream",
     "text": [
      "366-peaks21-DB-search-psm.csv    366-peaks21-peptide.csv\r\n",
      "366-peaks21-dno.csv              366-peaks21-protein-peptides.csv\r\n",
      "366-peaks21-dnopeps.csv          366-peaks21-proteins.csv\r\n",
      "366-peaks21-dnopeps.txt          366-peaks21-proteins.fasta\r\n"
     ]
    }
   ],
   "source": [
    "# Viewing new files\n",
    "\n",
    "!ls /Users/meganduffy/Documents/git-repos/2017-etnp/data/uwpr-dec2018/UWPR_Dec2018_366-50m-gf75-ETNP_PEAKS_21/"
   ]
  },
  {
   "cell_type": "code",
   "execution_count": 22,
   "metadata": {
    "collapsed": false
   },
   "outputs": [
    {
     "name": "stdout",
     "output_type": "stream",
     "text": [
      "LYEEEK\r\n",
      "TTLLYR\r\n",
      "LGELWR\r\n",
      "NDAFER\r\n",
      "LGDAAEDK\r\n",
      "LELDEDTR\r\n",
      "SSDM(+15.99)VAK\r\n",
      "TTLNAM(+15.99)LAK\r\n",
      "LLYDETR\r\n",
      "GYGC(+57.02)AKR\r\n"
     ]
    }
   ],
   "source": [
    "# The .csv and .txt are the same:\n",
    "\n",
    "!head /Users/meganduffy/Documents/git-repos/2017-etnp/data/uwpr-dec2018/UWPR_Dec2018_366-50m-gf75-ETNP_PEAKS_21/366-peaks21-dnopeps.csv"
   ]
  },
  {
   "cell_type": "code",
   "execution_count": 24,
   "metadata": {
    "collapsed": false
   },
   "outputs": [
    {
     "name": "stdout",
     "output_type": "stream",
     "text": [
      "LYEEEK\r\n",
      "TTLLYR\r\n",
      "LGELWR\r\n",
      "NDAFER\r\n",
      "LGDAAEDK\r\n",
      "LELDEDTR\r\n",
      "SSDM(+15.99)VAK\r\n",
      "TTLNAM(+15.99)LAK\r\n",
      "LLYDETR\r\n",
      "GYGC(+57.02)AKR\r\n"
     ]
    }
   ],
   "source": [
    "# We'll proceed with the .txt\n",
    "\n",
    "!head /Users/meganduffy/Documents/git-repos/2017-etnp/data/uwpr-dec2018/UWPR_Dec2018_366-50m-gf75-ETNP_PEAKS_21/366-peaks21-dnopeps.txt"
   ]
  },
  {
   "cell_type": "code",
   "execution_count": null,
   "metadata": {
    "collapsed": true
   },
   "outputs": [],
   "source": []
  }
 ],
 "metadata": {
  "anaconda-cloud": {},
  "kernelspec": {
   "display_name": "Python [default]",
   "language": "python",
   "name": "python3"
  },
  "language_info": {
   "codemirror_mode": {
    "name": "ipython",
    "version": 3
   },
   "file_extension": ".py",
   "mimetype": "text/x-python",
   "name": "python",
   "nbconvert_exporter": "python",
   "pygments_lexer": "ipython3",
   "version": "3.5.2"
  }
 },
 "nbformat": 4,
 "nbformat_minor": 1
}
