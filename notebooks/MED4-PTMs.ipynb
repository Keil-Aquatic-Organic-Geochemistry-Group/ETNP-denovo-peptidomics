{
 "cells": [
  {
   "cell_type": "markdown",
   "metadata": {},
   "source": [
    "### Plotting PTMs in Comet and PEAKS results using python for *Prochlococcus* MED4 benchmark study\n",
    "\n",
    "Starting with:\n",
    "\n",
    "    Peaks de novo results (.csv) of PTM-optimized sequencing\n",
    "    Comet results from PTM-optimized database searches\n",
    "\n",
    "Goal:\n",
    "\n",
    "    Figures comparing the modifcation type and extent in database and de novo peptides\n",
    "    \n",
    "Using:\n",
    "\n",
    "    - pandas\n",
    "    - matplotlib"
   ]
  },
  {
   "cell_type": "code",
   "execution_count": 1,
   "metadata": {},
   "outputs": [
    {
     "data": {
      "text/plain": [
       "'1.0.5'"
      ]
     },
     "execution_count": 1,
     "metadata": {},
     "output_type": "execute_result"
    }
   ],
   "source": [
    "# LIBRARIES\n",
    "#import pandas library for working with tabular data\n",
    "import os\n",
    "os.getcwd()\n",
    "import pandas as pd\n",
    "import numpy as np\n",
    "import matplotlib.pyplot as plt\n",
    "#from matplotlib import pyplot\n",
    "import seaborn as sns\n",
    "from scipy.stats import kde\n",
    "#import regular expresson (regex)\n",
    "import re\n",
    "#check pandas version\n",
    "pd.__version__"
   ]
  },
  {
   "cell_type": "code",
   "execution_count": 22,
   "metadata": {},
   "outputs": [
    {
     "data": {
      "text/html": [
       "<div>\n",
       "<style scoped>\n",
       "    .dataframe tbody tr th:only-of-type {\n",
       "        vertical-align: middle;\n",
       "    }\n",
       "\n",
       "    .dataframe tbody tr th {\n",
       "        vertical-align: top;\n",
       "    }\n",
       "\n",
       "    .dataframe thead th {\n",
       "        text-align: right;\n",
       "    }\n",
       "</style>\n",
       "<table border=\"1\" class=\"dataframe\">\n",
       "  <thead>\n",
       "    <tr style=\"text-align: right;\">\n",
       "      <th></th>\n",
       "      <th>Unnamed: 0</th>\n",
       "      <th>A</th>\n",
       "      <th>C</th>\n",
       "      <th>D</th>\n",
       "      <th>E</th>\n",
       "      <th>F</th>\n",
       "      <th>G</th>\n",
       "      <th>H</th>\n",
       "      <th>I</th>\n",
       "      <th>K</th>\n",
       "      <th>...</th>\n",
       "      <th>k-iron</th>\n",
       "      <th>k-meth</th>\n",
       "      <th>r-meth</th>\n",
       "      <th>% C w/ carb.</th>\n",
       "      <th>% M w/ oxid</th>\n",
       "      <th>% N w/ deam</th>\n",
       "      <th>% Q w/ deam</th>\n",
       "      <th>% K w/ iron</th>\n",
       "      <th>% K w/ meth</th>\n",
       "      <th>% R w/ meth</th>\n",
       "    </tr>\n",
       "  </thead>\n",
       "  <tbody>\n",
       "    <tr>\n",
       "      <th>0</th>\n",
       "      <td>sample total</td>\n",
       "      <td>26298</td>\n",
       "      <td>4530</td>\n",
       "      <td>16675</td>\n",
       "      <td>28228</td>\n",
       "      <td>13678</td>\n",
       "      <td>18885</td>\n",
       "      <td>6541</td>\n",
       "      <td>0</td>\n",
       "      <td>37569</td>\n",
       "      <td>...</td>\n",
       "      <td>3157</td>\n",
       "      <td>3887</td>\n",
       "      <td>6077</td>\n",
       "      <td>1.000000</td>\n",
       "      <td>0.437152</td>\n",
       "      <td>0.181737</td>\n",
       "      <td>0.032968</td>\n",
       "      <td>0.084032</td>\n",
       "      <td>0.103463</td>\n",
       "      <td>0.303774</td>\n",
       "    </tr>\n",
       "    <tr>\n",
       "      <th>1</th>\n",
       "      <td>sample total</td>\n",
       "      <td>131053</td>\n",
       "      <td>26238</td>\n",
       "      <td>126142</td>\n",
       "      <td>156032</td>\n",
       "      <td>87249</td>\n",
       "      <td>146863</td>\n",
       "      <td>27981</td>\n",
       "      <td>175266</td>\n",
       "      <td>210151</td>\n",
       "      <td>...</td>\n",
       "      <td>38003</td>\n",
       "      <td>32781</td>\n",
       "      <td>16426</td>\n",
       "      <td>0.928691</td>\n",
       "      <td>0.449524</td>\n",
       "      <td>0.338037</td>\n",
       "      <td>0.322984</td>\n",
       "      <td>0.180837</td>\n",
       "      <td>0.155988</td>\n",
       "      <td>0.195771</td>\n",
       "    </tr>\n",
       "  </tbody>\n",
       "</table>\n",
       "<p>2 rows × 35 columns</p>\n",
       "</div>"
      ],
      "text/plain": [
       "     Unnamed: 0       A      C       D       E      F       G      H       I  \\\n",
       "0  sample total   26298   4530   16675   28228  13678   18885   6541       0   \n",
       "1  sample total  131053  26238  126142  156032  87249  146863  27981  175266   \n",
       "\n",
       "        K  ...  k-iron  k-meth  r-meth  % C w/ carb.  % M w/ oxid  \\\n",
       "0   37569  ...    3157    3887    6077      1.000000     0.437152   \n",
       "1  210151  ...   38003   32781   16426      0.928691     0.449524   \n",
       "\n",
       "   % N w/ deam  % Q w/ deam  % K w/ iron  % K w/ meth  % R w/ meth  \n",
       "0     0.181737     0.032968     0.084032     0.103463     0.303774  \n",
       "1     0.338037     0.322984     0.180837     0.155988     0.195771  \n",
       "\n",
       "[2 rows x 35 columns]"
      ]
     },
     "execution_count": 22,
     "metadata": {},
     "output_type": "execute_result"
    }
   ],
   "source": [
    "# read in csvs made in MED4-PeaksDB and MED4-Comet notebooks\n",
    "\n",
    "peaks = pd.read_csv(\"/home/millieginty/Documents/git-repos/2017-etnp/data/pro2020/RAL4_95_MED2_trypsin/PeaksDN/RAL95_MED2_trypsin_combine_PTMopt_DN50_totals.csv\")\n",
    "comet = pd.read_csv(\"/home/millieginty/Documents/git-repos/2017-etnp/data/pro2020/RAL4_95_MED2_trypsin/TPP/RAL95_MED2_trypsin_combine_Comet_totals.csv\")\n",
    "\n",
    "frames = [peaks, comet]\n",
    "index = ['peaks50', 'comet3']\n",
    "\n",
    "# concatenate dataframes\n",
    "ptm = pd.concat(frames, sort=False, ignore_index=True)\n",
    "\n",
    "ptm.reindex(index)\n",
    "\n",
    "ptm.head()"
   ]
  },
  {
   "cell_type": "code",
   "execution_count": null,
   "metadata": {},
   "outputs": [],
   "source": []
  }
 ],
 "metadata": {
  "kernelspec": {
   "display_name": "Python 3",
   "language": "python",
   "name": "python3"
  },
  "language_info": {
   "codemirror_mode": {
    "name": "ipython",
    "version": 3
   },
   "file_extension": ".py",
   "mimetype": "text/x-python",
   "name": "python",
   "nbconvert_exporter": "python",
   "pygments_lexer": "ipython3",
   "version": "3.8.3"
  }
 },
 "nbformat": 4,
 "nbformat_minor": 4
}
